{
 "cells": [
  {
   "cell_type": "markdown",
   "metadata": {},
   "source": [
    "# Token Classification / Named Entity Recognition (NER)\n",
    "## IMD1107 - Natural Language Processing\n",
    "### [Dr. Elias Jacob de Menezes Neto](https://docente.ufrn.br/elias.jacob)"
   ]
  },
  {
   "cell_type": "markdown",
   "metadata": {},
   "source": [
    "# Summary\n",
    "\n",
    "## Keypoints\n",
    "\n",
    "- Named Entity Recognition (NER) is a crucial task in Information Extraction, focusing on identifying and classifying specific entities within text.\n",
    "\n",
    "- NER transforms unstructured textual data into structured information, bridging the gap between human language and machine-readable formats.\n",
    "\n",
    "- Common entity types in NER include PERSON, ORG (Organization), GPE (Geopolitical Entity), TIME, DATE, LOCATION, PRODUCT, and EVENT.\n",
    "\n",
    "- NER faces challenges such as ambiguity, handling new or rare entities, nested entities, and domain specificity.\n",
    "\n",
    "- Techniques for NER include rule-based approaches, machine learning methods (supervised and unsupervised), and deep learning approaches.\n",
    "\n",
    "- The IOB2 (Inside-Outside-Beginning) tagging scheme is widely used in NER for labeling tokens as part of entities.\n",
    "\n",
    "- Transfer learning is a powerful technique in NER, allowing models to leverage knowledge from pre-trained language models.\n",
    "\n",
    "- Domain adaptation is crucial when applying NER to specialized fields like legal or medical texts.\n",
    "\n",
    "- Transformer models, such as BERT, have revolutionized NER by capturing context more effectively than traditional methods.\n",
    "\n",
    "- Large language models can be used for weak supervision in NER tasks, helping to generate initial labels for datasets.\n",
    "\n",
    "## Takeaways\n",
    "\n",
    "- NER is a fundamental task in NLP with wide-ranging applications across industries, from information retrieval to compliance monitoring.\n",
    "\n",
    "- The choice of NER technique depends on the specific task, available data, and computational resources. Hybrid approaches often yield the best results.\n",
    "\n",
    "- Transfer learning and domain adaptation significantly improve NER performance, especially when working with limited labeled data in specialized domains.\n",
    "\n",
    "- The effectiveness of NER models heavily relies on the quality and relevance of training data. Domain-specific datasets are crucial for high-performance NER in specialized fields.\n",
    "\n",
    "- Transformer-based models have set new benchmarks in NER tasks, but they come with challenges such as handling long texts and computational requirements.\n",
    "\n",
    "- Weak supervision techniques, like using large language models for initial labeling, can significantly reduce the manual effort required in preparing NER datasets.\n",
    "\n",
    "- Evaluating NER models requires considering multiple metrics, including precision, recall, and F1 score, as well as performance on specific entity types.\n",
    "\n",
    "- Implementing NER in real-world applications often requires addressing practical challenges such as text preprocessing, handling long documents, and integrating with existing systems.\n",
    "\n",
    "- The field of NER is rapidly evolving, with new techniques and models constantly emerging. Staying updated with the latest advancements is crucial for practitioners.\n",
    "\n",
    "- While automated NER systems have become highly sophisticated, human expertise remains valuable for fine-tuning models and handling complex or ambiguous cases."
   ]
  },
  {
   "attachments": {},
   "cell_type": "markdown",
   "metadata": {},
   "source": [
    "# Loading our data"
   ]
  },
  {
   "cell_type": "code",
   "execution_count": 1,
   "metadata": {},
   "outputs": [
    {
     "data": {
      "text/html": [
       "<div>\n",
       "<style scoped>\n",
       "    .dataframe tbody tr th:only-of-type {\n",
       "        vertical-align: middle;\n",
       "    }\n",
       "\n",
       "    .dataframe tbody tr th {\n",
       "        vertical-align: top;\n",
       "    }\n",
       "\n",
       "    .dataframe thead th {\n",
       "        text-align: right;\n",
       "    }\n",
       "</style>\n",
       "<table border=\"1\" class=\"dataframe\">\n",
       "  <thead>\n",
       "    <tr style=\"text-align: right;\">\n",
       "      <th></th>\n",
       "      <th>text</th>\n",
       "      <th>uid</th>\n",
       "      <th>text_pt</th>\n",
       "      <th>Asthma</th>\n",
       "      <th>CAD</th>\n",
       "      <th>CHF</th>\n",
       "      <th>Depression</th>\n",
       "      <th>Diabetes</th>\n",
       "      <th>Gallstones</th>\n",
       "      <th>GERD</th>\n",
       "      <th>Gout</th>\n",
       "      <th>Hypercholesterolemia</th>\n",
       "      <th>Hypertension</th>\n",
       "      <th>Hypertriglyceridemia</th>\n",
       "      <th>OA</th>\n",
       "      <th>Obesity</th>\n",
       "      <th>OSA</th>\n",
       "      <th>PVD</th>\n",
       "      <th>Venous Insufficiency</th>\n",
       "    </tr>\n",
       "  </thead>\n",
       "  <tbody>\n",
       "    <tr>\n",
       "      <th>0</th>\n",
       "      <td>490646815 | WMC | 31530471 | | 9629480 | 11/23...</td>\n",
       "      <td>0</td>\n",
       "      <td>490646815 | WMC | 31530471 | | 9629480 | 11/23...</td>\n",
       "      <td>0</td>\n",
       "      <td>1</td>\n",
       "      <td>1</td>\n",
       "      <td>0</td>\n",
       "      <td>1</td>\n",
       "      <td>0</td>\n",
       "      <td>1</td>\n",
       "      <td>0</td>\n",
       "      <td>0</td>\n",
       "      <td>1</td>\n",
       "      <td>0</td>\n",
       "      <td>1</td>\n",
       "      <td>0</td>\n",
       "      <td>0</td>\n",
       "      <td>1</td>\n",
       "      <td>1</td>\n",
       "    </tr>\n",
       "    <tr>\n",
       "      <th>1</th>\n",
       "      <td>368346277 | EMH | 64927307 | | 815098 | 3/29/1...</td>\n",
       "      <td>2</td>\n",
       "      <td>368346277 | EMH | 64927307 | | 815098 | 29/03/...</td>\n",
       "      <td>0</td>\n",
       "      <td>1</td>\n",
       "      <td>0</td>\n",
       "      <td>0</td>\n",
       "      <td>0</td>\n",
       "      <td>0</td>\n",
       "      <td>0</td>\n",
       "      <td>0</td>\n",
       "      <td>1</td>\n",
       "      <td>1</td>\n",
       "      <td>0</td>\n",
       "      <td>0</td>\n",
       "      <td>1</td>\n",
       "      <td>0</td>\n",
       "      <td>1</td>\n",
       "      <td>0</td>\n",
       "    </tr>\n",
       "    <tr>\n",
       "      <th>2</th>\n",
       "      <td>908761918 | MMC | 45427009 | | 0927689 | 5/26/...</td>\n",
       "      <td>4</td>\n",
       "      <td>908761918 | MMC | 45427009 | | 0927689 | 5/26/...</td>\n",
       "      <td>1</td>\n",
       "      <td>1</td>\n",
       "      <td>1</td>\n",
       "      <td>0</td>\n",
       "      <td>1</td>\n",
       "      <td>0</td>\n",
       "      <td>1</td>\n",
       "      <td>0</td>\n",
       "      <td>1</td>\n",
       "      <td>1</td>\n",
       "      <td>1</td>\n",
       "      <td>0</td>\n",
       "      <td>1</td>\n",
       "      <td>0</td>\n",
       "      <td>0</td>\n",
       "      <td>1</td>\n",
       "    </tr>\n",
       "    <tr>\n",
       "      <th>3</th>\n",
       "      <td>614370301 | OH | 58149804 | | 530586 | 10/21/1...</td>\n",
       "      <td>7</td>\n",
       "      <td>614370301 | OH | 58149804 | | 530586 | 21/10/1...</td>\n",
       "      <td>0</td>\n",
       "      <td>1</td>\n",
       "      <td>0</td>\n",
       "      <td>0</td>\n",
       "      <td>1</td>\n",
       "      <td>0</td>\n",
       "      <td>0</td>\n",
       "      <td>0</td>\n",
       "      <td>0</td>\n",
       "      <td>1</td>\n",
       "      <td>0</td>\n",
       "      <td>0</td>\n",
       "      <td>1</td>\n",
       "      <td>0</td>\n",
       "      <td>0</td>\n",
       "      <td>0</td>\n",
       "    </tr>\n",
       "    <tr>\n",
       "      <th>4</th>\n",
       "      <td>279607396 | PMH | 77790323 | | 371979 | 10/13/...</td>\n",
       "      <td>10</td>\n",
       "      <td>279607396 | PMH | 77790323 | | 371979 | 10/13/...</td>\n",
       "      <td>0</td>\n",
       "      <td>0</td>\n",
       "      <td>0</td>\n",
       "      <td>0</td>\n",
       "      <td>0</td>\n",
       "      <td>0</td>\n",
       "      <td>0</td>\n",
       "      <td>0</td>\n",
       "      <td>0</td>\n",
       "      <td>1</td>\n",
       "      <td>0</td>\n",
       "      <td>0</td>\n",
       "      <td>1</td>\n",
       "      <td>0</td>\n",
       "      <td>0</td>\n",
       "      <td>0</td>\n",
       "    </tr>\n",
       "  </tbody>\n",
       "</table>\n",
       "</div>"
      ],
      "text/plain": [
       "                                                text  uid  \\\n",
       "0  490646815 | WMC | 31530471 | | 9629480 | 11/23...    0   \n",
       "1  368346277 | EMH | 64927307 | | 815098 | 3/29/1...    2   \n",
       "2  908761918 | MMC | 45427009 | | 0927689 | 5/26/...    4   \n",
       "3  614370301 | OH | 58149804 | | 530586 | 10/21/1...    7   \n",
       "4  279607396 | PMH | 77790323 | | 371979 | 10/13/...   10   \n",
       "\n",
       "                                             text_pt  Asthma  CAD  CHF  \\\n",
       "0  490646815 | WMC | 31530471 | | 9629480 | 11/23...       0    1    1   \n",
       "1  368346277 | EMH | 64927307 | | 815098 | 29/03/...       0    1    0   \n",
       "2  908761918 | MMC | 45427009 | | 0927689 | 5/26/...       1    1    1   \n",
       "3  614370301 | OH | 58149804 | | 530586 | 21/10/1...       0    1    0   \n",
       "4  279607396 | PMH | 77790323 | | 371979 | 10/13/...       0    0    0   \n",
       "\n",
       "   Depression  Diabetes  Gallstones  GERD  Gout  Hypercholesterolemia  \\\n",
       "0           0         1           0     1     0                     0   \n",
       "1           0         0           0     0     0                     1   \n",
       "2           0         1           0     1     0                     1   \n",
       "3           0         1           0     0     0                     0   \n",
       "4           0         0           0     0     0                     0   \n",
       "\n",
       "   Hypertension  Hypertriglyceridemia  OA  Obesity  OSA  PVD  \\\n",
       "0             1                     0   1        0    0    1   \n",
       "1             1                     0   0        1    0    1   \n",
       "2             1                     1   0        1    0    0   \n",
       "3             1                     0   0        1    0    0   \n",
       "4             1                     0   0        1    0    0   \n",
       "\n",
       "   Venous Insufficiency  \n",
       "0                     1  \n",
       "1                     0  \n",
       "2                     1  \n",
       "3                     0  \n",
       "4                     0  "
      ]
     },
     "execution_count": 1,
     "metadata": {},
     "output_type": "execute_result"
    }
   ],
   "source": [
    "# Load our data.\n",
    "import pandas as pd\n",
    "\n",
    "df_train = pd.read_parquet('data/healthcare/train.parquet')\n",
    "df_test = pd.read_parquet('data/healthcare/test.parquet')\n",
    "df_valid = pd.read_parquet('data/healthcare/valid.parquet')\n",
    "\n",
    "# Let's see the first rows of our data.\n",
    "df_train.head()"
   ]
  },
  {
   "cell_type": "code",
   "execution_count": 2,
   "metadata": {},
   "outputs": [],
   "source": [
    "import re\n",
    "from sklearn.pipeline import Pipeline\n",
    "from sklearn.preprocessing import FunctionTransformer\n",
    "import unicodedata\n",
    "import spacy\n",
    "from nltk.corpus import stopwords\n",
    "from sklearn.feature_extraction.text import TfidfVectorizer\n",
    "\n",
    "def remove_excessive_whitespace(text: str) -> str:\n",
    "    \"\"\"\n",
    "    Remove excessive whitespace from a string.\n",
    "\n",
    "    Args:\n",
    "        text (str): The input string.\n",
    "\n",
    "    Returns:\n",
    "        str: The string with excessive whitespace removed.\n",
    "    \"\"\"\n",
    "    return re.sub(r'\\s+', ' ', text).strip() \n",
    "\n",
    "def remove_repeated_non_word_characters(text: str) -> str:\n",
    "    \"\"\"\n",
    "    Remove repeated non-word characters from a string.\n",
    "\n",
    "    Args:\n",
    "        text (str): The input string.\n",
    "\n",
    "    Returns:\n",
    "        str: The string with repeated non-word characters removed.\n",
    "    \"\"\"\n",
    "    return re.sub(r'(\\W)\\1+', r'\\1', text).strip() # \\W matches any non-word character (equivalent to [^a-zA-Z0-9_ ])\n",
    "\n",
    "def remove_first_line_of_text(text: str) -> str:\n",
    "    \"\"\"\n",
    "    Remove the first line of a string.\n",
    "\n",
    "    Args:\n",
    "        text (str): The input string.\n",
    "\n",
    "    Returns:\n",
    "        str: The string with the first line removed.\n",
    "    \"\"\"\n",
    "    return re.sub(r'^.*\\n', '', text).strip()\n",
    "\n",
    "def remove_last_line_of_text(text: str) -> str:\n",
    "    \"\"\"\n",
    "    Remove the last line of a string.\n",
    "\n",
    "    Args:\n",
    "        text (str): The input string.\n",
    "\n",
    "    Returns:\n",
    "        str: The string with the last line removed.\n",
    "    \"\"\"\n",
    "    return re.sub(r'\\n.*$', '', text).strip()\n",
    "\n",
    "def correct_isolated_commas(text: str) -> str:\n",
    "    \"\"\"\n",
    "    Correct isolated commas in a string.\n",
    "\n",
    "    Args:\n",
    "        text (str): The input string.\n",
    "\n",
    "    Returns:\n",
    "        str: The string with isolated commas corrected.\n",
    "    \"\"\"\n",
    "    # Replace punctuation with a blank character before\n",
    "    text = re.sub(r' ([.,:;!?])', r'\\1', text)\n",
    "    return text.strip()\n",
    "\n",
    "def remove_accents_from_text(text: str) -> str:\n",
    "    \"\"\"\n",
    "    Remove accents from a string.\n",
    "\n",
    "    Args:\n",
    "        text (str): The input string.\n",
    "\n",
    "    Returns:\n",
    "        str: The string with accents removed.\n",
    "    \"\"\"\n",
    "    return unicodedata.normalize('NFKD', text).encode('ASCII', 'ignore').decode('ASCII') \n",
    "\n",
    "# Define a text cleaning pipeline using scikit-learn's Pipeline\n",
    "# The pipeline consists of a series of transformations applied sequentially to the text data\n",
    "text_cleaning_pipeline = Pipeline([\n",
    "    # Remove the first line from the text\n",
    "    ('remove_first_line', FunctionTransformer(remove_first_line_of_text)),\n",
    "    # Remove the last line from the text\n",
    "    ('remove_last_line', FunctionTransformer(remove_last_line_of_text)),\n",
    "    # Remove excessive whitespace from the text\n",
    "    ('remove_excessive_whitespace', FunctionTransformer(remove_excessive_whitespace)),\n",
    "    # Remove repeated non-word characters from the text\n",
    "    ('remove_repeated_non_word_characters', FunctionTransformer(remove_repeated_non_word_characters)),\n",
    "    # Correct isolated commas in the text\n",
    "    ('correct_isolated_commas', FunctionTransformer(correct_isolated_commas)),\n",
    "    # Optionally remove accents from the text\n",
    "    # Uncomment the following line if you want to remove accents\n",
    "    # One good tip to decide if you'll should use this or not is to think about the language of your data. Are the use of accents relatively consistent in your data? If so, you should keep them. If not, you should remove them. Since our data was automatically translated from English to Portuguese, we'll keep the accents because the translation process doesn't generally misuses accents.\n",
    "    # ('remove_accents', FunctionTransformer(remove_accents_from_text)),\n",
    "])\n",
    "\n",
    "# Apply the text cleaning pipeline to the 'text_pt' column of the training DataFrame\n",
    "# - .apply(text_cleaning_pipeline.transform) applies the pipeline to each element in the 'text_pt' column\n",
    "# - The cleaned text is stored in a new column 'cleaned_text'\n",
    "df_train['cleaned_text'] = df_train['text_pt'].apply(text_cleaning_pipeline.transform)\n",
    "\n",
    "# Apply the text cleaning pipeline to the 'text_pt' column of the validation DataFrame\n",
    "df_valid['cleaned_text'] = df_valid['text_pt'].apply(text_cleaning_pipeline.transform)\n",
    "\n",
    "# Apply the text cleaning pipeline to the 'text_pt' column of the test DataFrame\n",
    "df_test['cleaned_text'] = df_test['text_pt'].apply(text_cleaning_pipeline.transform)"
   ]
  },
  {
   "cell_type": "code",
   "execution_count": 3,
   "metadata": {},
   "outputs": [
    {
     "data": {
      "text/html": [
       "<div>\n",
       "<style scoped>\n",
       "    .dataframe tbody tr th:only-of-type {\n",
       "        vertical-align: middle;\n",
       "    }\n",
       "\n",
       "    .dataframe tbody tr th {\n",
       "        vertical-align: top;\n",
       "    }\n",
       "\n",
       "    .dataframe thead th {\n",
       "        text-align: right;\n",
       "    }\n",
       "</style>\n",
       "<table border=\"1\" class=\"dataframe\">\n",
       "  <thead>\n",
       "    <tr style=\"text-align: right;\">\n",
       "      <th></th>\n",
       "      <th>text</th>\n",
       "      <th>uid</th>\n",
       "      <th>text_pt</th>\n",
       "      <th>Asthma</th>\n",
       "      <th>CAD</th>\n",
       "      <th>CHF</th>\n",
       "      <th>Depression</th>\n",
       "      <th>Diabetes</th>\n",
       "      <th>Gallstones</th>\n",
       "      <th>GERD</th>\n",
       "      <th>Gout</th>\n",
       "      <th>Hypercholesterolemia</th>\n",
       "      <th>Hypertension</th>\n",
       "      <th>Hypertriglyceridemia</th>\n",
       "      <th>OA</th>\n",
       "      <th>Obesity</th>\n",
       "      <th>OSA</th>\n",
       "      <th>PVD</th>\n",
       "      <th>Venous Insufficiency</th>\n",
       "      <th>cleaned_text</th>\n",
       "    </tr>\n",
       "  </thead>\n",
       "  <tbody>\n",
       "    <tr>\n",
       "      <th>0</th>\n",
       "      <td>490646815 | WMC | 31530471 | | 9629480 | 11/23...</td>\n",
       "      <td>0</td>\n",
       "      <td>490646815 | WMC | 31530471 | | 9629480 | 11/23...</td>\n",
       "      <td>0</td>\n",
       "      <td>1</td>\n",
       "      <td>1</td>\n",
       "      <td>0</td>\n",
       "      <td>1</td>\n",
       "      <td>0</td>\n",
       "      <td>1</td>\n",
       "      <td>0</td>\n",
       "      <td>0</td>\n",
       "      <td>1</td>\n",
       "      <td>0</td>\n",
       "      <td>1</td>\n",
       "      <td>0</td>\n",
       "      <td>0</td>\n",
       "      <td>1</td>\n",
       "      <td>1</td>\n",
       "      <td>Data de Alta: 6/20/2006 MÉDICO EM ATENDIMENTO:...</td>\n",
       "    </tr>\n",
       "    <tr>\n",
       "      <th>1</th>\n",
       "      <td>368346277 | EMH | 64927307 | | 815098 | 3/29/1...</td>\n",
       "      <td>2</td>\n",
       "      <td>368346277 | EMH | 64927307 | | 815098 | 29/03/...</td>\n",
       "      <td>0</td>\n",
       "      <td>1</td>\n",
       "      <td>0</td>\n",
       "      <td>0</td>\n",
       "      <td>0</td>\n",
       "      <td>0</td>\n",
       "      <td>0</td>\n",
       "      <td>0</td>\n",
       "      <td>1</td>\n",
       "      <td>1</td>\n",
       "      <td>0</td>\n",
       "      <td>0</td>\n",
       "      <td>1</td>\n",
       "      <td>0</td>\n",
       "      <td>1</td>\n",
       "      <td>0</td>\n",
       "      <td>Data de alta: 10/12/1993 DIAGNÓSTICO PRINCIPAL...</td>\n",
       "    </tr>\n",
       "    <tr>\n",
       "      <th>2</th>\n",
       "      <td>908761918 | MMC | 45427009 | | 0927689 | 5/26/...</td>\n",
       "      <td>4</td>\n",
       "      <td>908761918 | MMC | 45427009 | | 0927689 | 5/26/...</td>\n",
       "      <td>1</td>\n",
       "      <td>1</td>\n",
       "      <td>1</td>\n",
       "      <td>0</td>\n",
       "      <td>1</td>\n",
       "      <td>0</td>\n",
       "      <td>1</td>\n",
       "      <td>0</td>\n",
       "      <td>1</td>\n",
       "      <td>1</td>\n",
       "      <td>1</td>\n",
       "      <td>0</td>\n",
       "      <td>1</td>\n",
       "      <td>0</td>\n",
       "      <td>0</td>\n",
       "      <td>1</td>\n",
       "      <td>Data de Alta: 9/29/2007 MÉDICO ASSISTENTE: SAL...</td>\n",
       "    </tr>\n",
       "    <tr>\n",
       "      <th>3</th>\n",
       "      <td>614370301 | OH | 58149804 | | 530586 | 10/21/1...</td>\n",
       "      <td>7</td>\n",
       "      <td>614370301 | OH | 58149804 | | 530586 | 21/10/1...</td>\n",
       "      <td>0</td>\n",
       "      <td>1</td>\n",
       "      <td>0</td>\n",
       "      <td>0</td>\n",
       "      <td>1</td>\n",
       "      <td>0</td>\n",
       "      <td>0</td>\n",
       "      <td>0</td>\n",
       "      <td>0</td>\n",
       "      <td>1</td>\n",
       "      <td>0</td>\n",
       "      <td>0</td>\n",
       "      <td>1</td>\n",
       "      <td>0</td>\n",
       "      <td>0</td>\n",
       "      <td>0</td>\n",
       "      <td>Data de Alta: 15/10/1995 DIAGNÓSTICO PRINCIPAL...</td>\n",
       "    </tr>\n",
       "    <tr>\n",
       "      <th>4</th>\n",
       "      <td>279607396 | PMH | 77790323 | | 371979 | 10/13/...</td>\n",
       "      <td>10</td>\n",
       "      <td>279607396 | PMH | 77790323 | | 371979 | 10/13/...</td>\n",
       "      <td>0</td>\n",
       "      <td>0</td>\n",
       "      <td>0</td>\n",
       "      <td>0</td>\n",
       "      <td>0</td>\n",
       "      <td>0</td>\n",
       "      <td>0</td>\n",
       "      <td>0</td>\n",
       "      <td>0</td>\n",
       "      <td>1</td>\n",
       "      <td>0</td>\n",
       "      <td>0</td>\n",
       "      <td>1</td>\n",
       "      <td>0</td>\n",
       "      <td>0</td>\n",
       "      <td>0</td>\n",
       "      <td>Data de Alta: 06/11/1992 DIAGNÓSTICO DE ADMISS...</td>\n",
       "    </tr>\n",
       "  </tbody>\n",
       "</table>\n",
       "</div>"
      ],
      "text/plain": [
       "                                                text  uid  \\\n",
       "0  490646815 | WMC | 31530471 | | 9629480 | 11/23...    0   \n",
       "1  368346277 | EMH | 64927307 | | 815098 | 3/29/1...    2   \n",
       "2  908761918 | MMC | 45427009 | | 0927689 | 5/26/...    4   \n",
       "3  614370301 | OH | 58149804 | | 530586 | 10/21/1...    7   \n",
       "4  279607396 | PMH | 77790323 | | 371979 | 10/13/...   10   \n",
       "\n",
       "                                             text_pt  Asthma  CAD  CHF  \\\n",
       "0  490646815 | WMC | 31530471 | | 9629480 | 11/23...       0    1    1   \n",
       "1  368346277 | EMH | 64927307 | | 815098 | 29/03/...       0    1    0   \n",
       "2  908761918 | MMC | 45427009 | | 0927689 | 5/26/...       1    1    1   \n",
       "3  614370301 | OH | 58149804 | | 530586 | 21/10/1...       0    1    0   \n",
       "4  279607396 | PMH | 77790323 | | 371979 | 10/13/...       0    0    0   \n",
       "\n",
       "   Depression  Diabetes  Gallstones  GERD  Gout  Hypercholesterolemia  \\\n",
       "0           0         1           0     1     0                     0   \n",
       "1           0         0           0     0     0                     1   \n",
       "2           0         1           0     1     0                     1   \n",
       "3           0         1           0     0     0                     0   \n",
       "4           0         0           0     0     0                     0   \n",
       "\n",
       "   Hypertension  Hypertriglyceridemia  OA  Obesity  OSA  PVD  \\\n",
       "0             1                     0   1        0    0    1   \n",
       "1             1                     0   0        1    0    1   \n",
       "2             1                     1   0        1    0    0   \n",
       "3             1                     0   0        1    0    0   \n",
       "4             1                     0   0        1    0    0   \n",
       "\n",
       "   Venous Insufficiency                                       cleaned_text  \n",
       "0                     1  Data de Alta: 6/20/2006 MÉDICO EM ATENDIMENTO:...  \n",
       "1                     0  Data de alta: 10/12/1993 DIAGNÓSTICO PRINCIPAL...  \n",
       "2                     1  Data de Alta: 9/29/2007 MÉDICO ASSISTENTE: SAL...  \n",
       "3                     0  Data de Alta: 15/10/1995 DIAGNÓSTICO PRINCIPAL...  \n",
       "4                     0  Data de Alta: 06/11/1992 DIAGNÓSTICO DE ADMISS...  "
      ]
     },
     "execution_count": 3,
     "metadata": {},
     "output_type": "execute_result"
    }
   ],
   "source": [
    "df = pd.concat([df_train, df_valid, df_test], ignore_index=True)\n",
    "df.head()"
   ]
  },
  {
   "cell_type": "markdown",
   "metadata": {},
   "source": [
    "# Named Entity Recognition (NER)\n",
    "\n",
    "Named Entity Recognition (NER) is a crucial task within the broader field of Information Extraction, focusing on the identification and classification of specific entities within text. This process transforms unstructured textual data into structured information, bridging the gap between human language and machine-readable formats.\n",
    "Named Entity Recognition is a fundamental task in natural language processing, serving as a bridge between unstructured text and structured data. Its applications span across various industries and use cases, making it a critical component in many AI and data processing systems. As NLP technologies advance, NER continues to evolve, tackling more complex scenarios and improving accuracy across diverse domains.\n",
    "## Core Concepts\n",
    "\n",
    "1. **Definition**: NER involves locating and categorizing named entities in text into predefined classes.\n",
    "\n",
    "2. **Purpose**: The primary goal is to extract structured information from unstructured text, enabling machines to understand and process human language more effectively.\n",
    "\n",
    "3. **Entity Types**: Common categories include:\n",
    "   - `PERSON`: Individual names (e.g., \"John Doe\", \"Marie Curie\")\n",
    "   - `ORG`: Organizations (e.g., \"Apple Inc.\", \"United Nations\")\n",
    "   - `GPE`: Geopolitical entities (e.g., \"New York\", \"France\")\n",
    "   - `TIME`: Time expressions (e.g., \"3:30 PM\", \"noon\")\n",
    "   - `DATE`: Date expressions (e.g., \"July 4, 1776\", \"next Monday\")\n",
    "   - `LOCATION`: Physical locations not classified as GPE (e.g., \"Eiffel Tower\", \"Amazon Rainforest\")\n",
    "   - `PRODUCT`: Names of products (e.g., \"iPhone\", \"Coca-Cola\")\n",
    "   - `EVENT`: Named events (e.g., \"World War II\", \"Olympics\")\n",
    "\n",
    "   > Note: The specific entity types can vary depending on the NER system and its intended application.\n",
    "\n",
    "## Importance and Applications\n",
    "\n",
    "1. **Information Retrieval**: Enhances search capabilities by allowing queries based on specific entity types.\n",
    "2. **Question Answering Systems**: Facilitates more accurate responses by identifying key entities in questions and potential answers.\n",
    "3. **Content Classification**: Aids in categorizing documents based on mentioned entities.\n",
    "4. **Recommendation Systems**: Improves personalization by recognizing user preferences for specific entities.\n",
    "5. **Legal and Compliance**: Assists in identifying sensitive information for redaction or special handling.\n",
    "\n",
    "## Challenges in NER\n",
    "\n",
    "1. **Ambiguity**: Words can have multiple meanings or belong to different entity types based on context.\n",
    "2. **New or Rare Entities**: Dealing with entities not present in training data.\n",
    "3. **Nested Entities**: Handling entities that contain other entities (e.g., \"Bank of America\" contains \"America\").\n",
    "4. **Domain Specificity**: NER systems often require customization for specific domains (e.g., medical, legal).\n",
    "\n",
    "## NER Techniques\n",
    "\n",
    "1. **Rule-Based Approaches**: Utilize hand-crafted rules and dictionaries.\n",
    "2. **Machine Learning Methods**: \n",
    "   - Supervised Learning: Use labeled data to train classifiers.\n",
    "   - Unsupervised Learning: Attempt to cluster similar entities without labeled data.\n",
    "3. **Deep Learning Approaches**: Employ neural networks, particularly sequence models like RNNs and transformers.\n",
    "\n",
    "## Evaluation Metrics\n",
    "\n",
    "- **Precision**: Accuracy of identified entities.\n",
    "- **Recall**: Proportion of actual entities correctly identified.\n",
    "- **F1 Score**: Harmonic mean of precision and recall.\n",
    "\n",
    "## Visual Example\n",
    "\n",
    "The image provided illustrates NER in action for legal entities:\n",
    "\n",
    "<br><br>\n",
    "<p align=\"center\">\n",
    "  <img src=\"images/NER.png\"  alt=\"\" style=\"width: 80%; height: 80%\"/>\n",
    "</p>\n",
    "<br><br>\n",
    "\n",
    "This example demonstrates how NER can identify and categorize various entities within a legal context, showcasing its practical application in specialized domains."
   ]
  },
  {
   "cell_type": "markdown",
   "metadata": {},
   "source": [
    "## Why is Named Entity Recognition Crucial?\n",
    "\n",
    "Named Entity Recognition (NER) plays a pivotal role in both **Natural Language Processing (NLP)** and **Natural Language Understanding (NLU)**. Its ability to extract detailed, structured insights from textual data makes it critical for various applications and scenarios. Below are some key instances where NER is essential:\n",
    "\n",
    "- **Information Retrieval**: By identifying key entities in documents, NER enhances search functionality, enabling users to search using named entities.\n",
    "- **Question Answering Systems**: NER helps in accurately understanding user queries, allowing for more precise answers in question-answering systems.\n",
    "- **Machine Translation**: NER assists in generating highly accurate translations by recognizing and preserving entity names in the translated text.\n",
    "\n",
    "Additionally, NER is crucial for other applications such as:\n",
    "\n",
    "- **Relation Extraction**\n",
    "- **Knowledge Graph Construction**\n",
    "- **Text Mining**\n",
    "\n",
    "## Illustrative Use Cases of NER\n",
    "\n",
    "- **Healthcare Text Analysis**: In clinical note analysis, NER can identify information about diseases, symptoms, treatments, and medications, aiding in improved medical decision-making.\n",
    "- **News Articles**: For a news reading app that curates articles, NER can extract information about people, organizations, and locations mentioned in the articles. This information can be used to categorize or tag articles or improve article recommendations.\n",
    "- **Customer Support**: In customer support scenarios, NER can identify and separate out important pieces of information from a customer’s query, such as name, email address, and phone number, allowing for more efficient handling of customer requests.\n",
    "\n",
    "In essence, NER transforms unstructured textual data into structured, machine-readable data, enabling more sophisticated and nuanced analyses.\n",
    "\n",
    "## Why Not Use Regular Expressions?\n",
    "\n",
    "Regular expressions (regex) are powerful tools for text processing and pattern matching. However, they are not suitable for NER due to their limitations in generalizing to unseen data. Here’s why:\n",
    "\n",
    "- **Limited Flexibility**: Regex can be rigid. For example, a regex pattern to match names like `[A-Z][a-z]*\\s[A-Z][a-z]*` would only match names with a first and a last name. It would fail to match:\n",
    "  - Names with a middle name or initial.\n",
    "  - Hyphenated names.\n",
    "  - Names with connectives (e.g., \"de\", \"a\", \"do\", \"dos\", \"das\").\n",
    "  - Names with suffixes (e.g., \"Júnior\", \"Neto\").\n",
    "- **False Positives**: Regex might match strings that are not names, such as titles like \"Doctor\" or \"Professor\".\n",
    "\n",
    "## Why Not Use a Dictionary?\n",
    "\n",
    "Using a dictionary for NER can be effective for a small number of entities, but it becomes impractical for larger datasets. Consider the following:\n",
    "\n",
    "- **Scalability Issues**: A dictionary containing all names of people worldwide would be enormous, making it difficult to maintain and update.\n",
    "- **Dynamic Nature**: Names and entities constantly evolve, and keeping a dictionary up-to-date with new names would be challenging.\n"
   ]
  },
  {
   "cell_type": "code",
   "execution_count": 4,
   "metadata": {},
   "outputs": [
    {
     "data": {
      "text/html": [
       "<span class=\"tex2jax_ignore\"><div class=\"entities\" style=\"line-height: 2.5; direction: ltr\">Meu nome é \n",
       "<mark class=\"entity\" style=\"background: #ddd; padding: 0.45em 0.6em; margin: 0 0.25em; line-height: 1; border-radius: 0.35em;\">\n",
       "    Elias Jacob\n",
       "    <span style=\"font-size: 0.8em; font-weight: bold; line-height: 1; border-radius: 0.35em; vertical-align: middle; margin-left: 0.5rem\">PER</span>\n",
       "</mark>\n",
       " e eu moro em \n",
       "<mark class=\"entity\" style=\"background: #ff9561; padding: 0.45em 0.6em; margin: 0 0.25em; line-height: 1; border-radius: 0.35em;\">\n",
       "    Natal\n",
       "    <span style=\"font-size: 0.8em; font-weight: bold; line-height: 1; border-radius: 0.35em; vertical-align: middle; margin-left: 0.5rem\">LOC</span>\n",
       "</mark>\n",
       ", \n",
       "<mark class=\"entity\" style=\"background: #ff9561; padding: 0.45em 0.6em; margin: 0 0.25em; line-height: 1; border-radius: 0.35em;\">\n",
       "    Rio Grande do Norte\n",
       "    <span style=\"font-size: 0.8em; font-weight: bold; line-height: 1; border-radius: 0.35em; vertical-align: middle; margin-left: 0.5rem\">LOC</span>\n",
       "</mark>\n",
       ". Eu trabalho no \n",
       "<mark class=\"entity\" style=\"background: #7aecec; padding: 0.45em 0.6em; margin: 0 0.25em; line-height: 1; border-radius: 0.35em;\">\n",
       "    Instituto Metrópole Digital\n",
       "    <span style=\"font-size: 0.8em; font-weight: bold; line-height: 1; border-radius: 0.35em; vertical-align: middle; margin-left: 0.5rem\">ORG</span>\n",
       "</mark>\n",
       ", que é a unidade mais bacana da \n",
       "<mark class=\"entity\" style=\"background: #ff9561; padding: 0.45em 0.6em; margin: 0 0.25em; line-height: 1; border-radius: 0.35em;\">\n",
       "    UFRN\n",
       "    <span style=\"font-size: 0.8em; font-weight: bold; line-height: 1; border-radius: 0.35em; vertical-align: middle; margin-left: 0.5rem\">LOC</span>\n",
       "</mark>\n",
       ". Desde 2021 eu também trabalho como \n",
       "<mark class=\"entity\" style=\"background: #ddd; padding: 0.45em 0.6em; margin: 0 0.25em; line-height: 1; border-radius: 0.35em;\">\n",
       "    Corregedor da UFRN\n",
       "    <span style=\"font-size: 0.8em; font-weight: bold; line-height: 1; border-radius: 0.35em; vertical-align: middle; margin-left: 0.5rem\">MISC</span>\n",
       "</mark>\n",
       ". Quando a pandemia começou, no início de 2020, eu estava com as malas prontas para uma viagem de férias para o \n",
       "<mark class=\"entity\" style=\"background: #ff9561; padding: 0.45em 0.6em; margin: 0 0.25em; line-height: 1; border-radius: 0.35em;\">\n",
       "    Japão\n",
       "    <span style=\"font-size: 0.8em; font-weight: bold; line-height: 1; border-radius: 0.35em; vertical-align: middle; margin-left: 0.5rem\">LOC</span>\n",
       "</mark>\n",
       ". Eu até fui buscar meu visto no \n",
       "<mark class=\"entity\" style=\"background: #ddd; padding: 0.45em 0.6em; margin: 0 0.25em; line-height: 1; border-radius: 0.35em;\">\n",
       "    Consulado\n",
       "    <span style=\"font-size: 0.8em; font-weight: bold; line-height: 1; border-radius: 0.35em; vertical-align: middle; margin-left: 0.5rem\">MISC</span>\n",
       "</mark>\n",
       " em \n",
       "<mark class=\"entity\" style=\"background: #ff9561; padding: 0.45em 0.6em; margin: 0 0.25em; line-height: 1; border-radius: 0.35em;\">\n",
       "    Recife\n",
       "    <span style=\"font-size: 0.8em; font-weight: bold; line-height: 1; border-radius: 0.35em; vertical-align: middle; margin-left: 0.5rem\">LOC</span>\n",
       "</mark>\n",
       ", mas, quando chegou mais perto da viagem, meus voos foram todos cancelados pela \n",
       "<mark class=\"entity\" style=\"background: #7aecec; padding: 0.45em 0.6em; margin: 0 0.25em; line-height: 1; border-radius: 0.35em;\">\n",
       "    United Airlines\n",
       "    <span style=\"font-size: 0.8em; font-weight: bold; line-height: 1; border-radius: 0.35em; vertical-align: middle; margin-left: 0.5rem\">ORG</span>\n",
       "</mark>\n",
       " e eu não viajei. No dia 11 de novembro de 2023, eu estive no show do \n",
       "<mark class=\"entity\" style=\"background: #ddd; padding: 0.45em 0.6em; margin: 0 0.25em; line-height: 1; border-radius: 0.35em;\">\n",
       "    Roger Waters\n",
       "    <span style=\"font-size: 0.8em; font-weight: bold; line-height: 1; border-radius: 0.35em; vertical-align: middle; margin-left: 0.5rem\">PER</span>\n",
       "</mark>\n",
       " em \n",
       "<mark class=\"entity\" style=\"background: #ff9561; padding: 0.45em 0.6em; margin: 0 0.25em; line-height: 1; border-radius: 0.35em;\">\n",
       "    São Paulo\n",
       "    <span style=\"font-size: 0.8em; font-weight: bold; line-height: 1; border-radius: 0.35em; vertical-align: middle; margin-left: 0.5rem\">LOC</span>\n",
       "</mark>\n",
       ". Sempre que visito a cidade, eu dou uma passada no \n",
       "<mark class=\"entity\" style=\"background: #7aecec; padding: 0.45em 0.6em; margin: 0 0.25em; line-height: 1; border-radius: 0.35em;\">\n",
       "    Kidoairaku\n",
       "    <span style=\"font-size: 0.8em; font-weight: bold; line-height: 1; border-radius: 0.35em; vertical-align: middle; margin-left: 0.5rem\">ORG</span>\n",
       "</mark>\n",
       ", meu restaurante japonês favorito lá.</div></span>"
      ],
      "text/plain": [
       "<IPython.core.display.HTML object>"
      ]
     },
     "metadata": {},
     "output_type": "display_data"
    }
   ],
   "source": [
    "# Import the necessary modules from the spaCy library\n",
    "# - spacy: The main spaCy library\n",
    "# - displacy: A module for visualizing spaCy's results\n",
    "import spacy\n",
    "from spacy import displacy\n",
    "\n",
    "# Load the spaCy model for Portuguese\n",
    "# - 'pt_core_news_lg' is a large model with more accuracy and features\n",
    "# - You can also use 'pt_core_news_sm' for a smaller, faster model with fewer features\n",
    "# - To install the model, run: python -m spacy download pt_core_news_lg\n",
    "nlp = spacy.load('pt_core_news_lg')\n",
    "\n",
    "# Define a sample text in Portuguese\n",
    "# This text contains various entities such as names, locations, organizations, and dates\n",
    "text_example = (\n",
    "    \"Meu nome é Elias Jacob e eu moro em Natal, Rio Grande do Norte. \"\n",
    "    \"Eu trabalho no Instituto Metrópole Digital, que é a unidade mais bacana da UFRN. \"\n",
    "    \"Desde 2021 eu também trabalho como Corregedor da UFRN. \"\n",
    "    \"Quando a pandemia começou, no início de 2020, eu estava com as malas prontas para uma viagem de férias para o Japão. \"\n",
    "    \"Eu até fui buscar meu visto no Consulado em Recife, mas, quando chegou mais perto da viagem, meus voos foram todos cancelados pela United Airlines e eu não viajei. \"\n",
    "    \"No dia 11 de novembro de 2023, eu estive no show do Roger Waters em São Paulo. \"\n",
    "    \"Sempre que visito a cidade, eu dou uma passada no Kidoairaku, meu restaurante japonês favorito lá.\"\n",
    ")\n",
    "\n",
    "# Process the text using the spaCy model\n",
    "# - nlp() processes the text and returns a Doc object containing the processed text\n",
    "# - The Doc object includes information about the entities, parts of speech, and other linguistic features\n",
    "doc = nlp(text_example)\n",
    "\n",
    "# Visualize the named entities in the text using displaCy\n",
    "# - displacy.render() renders the named entities in the text\n",
    "# - doc: The Doc object containing the processed text\n",
    "# - style='ent': Specifies that the visualization should show named entities\n",
    "# - jupyter=True: Specifies that the visualization should be displayed in a Jupyter notebook\n",
    "displacy.render(doc, style='ent', jupyter=True)"
   ]
  },
  {
   "cell_type": "code",
   "execution_count": 5,
   "metadata": {},
   "outputs": [
    {
     "data": {
      "text/plain": [
       "[('Elias Jacob', 'PER'),\n",
       " ('Natal', 'LOC'),\n",
       " ('Rio Grande do Norte', 'LOC'),\n",
       " ('Instituto Metrópole Digital', 'ORG'),\n",
       " ('UFRN', 'LOC'),\n",
       " ('Corregedor da UFRN', 'MISC'),\n",
       " ('Japão', 'LOC'),\n",
       " ('Consulado', 'MISC'),\n",
       " ('Recife', 'LOC'),\n",
       " ('United Airlines', 'ORG'),\n",
       " ('Roger Waters', 'PER'),\n",
       " ('São Paulo', 'LOC'),\n",
       " ('Kidoairaku', 'ORG')]"
      ]
     },
     "execution_count": 5,
     "metadata": {},
     "output_type": "execute_result"
    }
   ],
   "source": [
    "from typing import List, Tuple\n",
    "\n",
    "def extract_named_entities_from_text(input_text: str) -> List[Tuple[str, str]]:\n",
    "    \"\"\"\n",
    "    Extract named entities from a given text.\n",
    "\n",
    "    Args:\n",
    "        input_text (str): The input text.\n",
    "\n",
    "    Returns:\n",
    "        List[Tuple[str, str]]: A list of tuples where each tuple contains the named entity and its label.\n",
    "    \"\"\"\n",
    "    # Parse the text with spaCy\n",
    "    # - nlp(input_text) processes the input text and returns a Doc object containing the parsed text\n",
    "    parsed_text = nlp(input_text)\n",
    "    \n",
    "    # Initialize an empty list to store the named entities\n",
    "    named_entities = []\n",
    "    \n",
    "    # Iterate over the named entities in the parsed text\n",
    "    # - parsed_text.ents contains the named entities identified in the text\n",
    "    for entity in parsed_text.ents:\n",
    "        # Append the entity text and label to the list\n",
    "        # - entity.text is the text of the named entity\n",
    "        # - entity.label_ is the label of the named entity (e.g., PERSON, ORG, GPE)\n",
    "        named_entities.append((entity.text, entity.label_))\n",
    "    \n",
    "    # Return the list of named entities\n",
    "    return named_entities\n",
    "\n",
    "# Test the function with an example text\n",
    "extract_named_entities_from_text(text_example)"
   ]
  },
  {
   "cell_type": "markdown",
   "metadata": {},
   "source": [
    "## Differences Between Named Entity Recognition (NER) and Part-of-Speech (POS) Tagging\n",
    "\n",
    "In the field of Natural Language Processing (NLP), **Named Entity Recognition (NER)** and **Part-of-Speech (POS) tagging** are two different techniques. Both involve labeling words or phrases in a text, but they serve distinct purposes and provide different types of information.\n",
    "\n",
    "### Named Entity Recognition (NER)\n",
    "\n",
    "**Named Entity Recognition (NER)** focuses on identifying and classifying named entities within a text into predefined categories such as:\n",
    "\n",
    "- **Person names** (`PERSON`)\n",
    "- **Organizations** (`ORG`)\n",
    "- **Locations** (`LOC`)\n",
    "- **Medical codes** (`MEDICAL`)\n",
    "- **Time expressions** (`TIME`)\n",
    "- **Quantities** (`QUANTITY`)\n",
    "- **Monetary values** (`MONEY`)\n",
    "- **Percentages** (`PERCENT`)\n",
    "\n",
    "**Example:**\n",
    "In the sentence, \"Apple Inc. was established in April 1976 by Steve Jobs, Steve Wozniak, and Ronald Wayne,\" NER would identify:\n",
    "- 'Apple Inc.' as an **organization** (`ORG`)\n",
    "- 'April 1976' as a **time expression** (`TIME`)\n",
    "- 'Steve Jobs', 'Steve Wozniak', and 'Ronald Wayne' as **persons** (`PERSON`)\n",
    "\n",
    "### Part-of-Speech (POS) Tagging\n",
    "\n",
    "**Part-of-Speech (POS) tagging** involves labeling each word in a sentence with its corresponding part of speech. This includes:\n",
    "\n",
    "- **Nouns** (`NN`, `NNP`)\n",
    "- **Verbs** (`VB`, `VBD`, `VBG`)\n",
    "- **Adjectives** (`JJ`)\n",
    "- **Adverbs** (`RB`)\n",
    "- **Pronouns** (`PR`)\n",
    "- **Prepositions** (`IN`)\n",
    "- **Conjunctions** (`CC`)\n",
    "\n",
    "**Example:**\n",
    "Using the same sentence, \"Apple Inc. was established in April 1976 by Steve Jobs, Steve Wozniak, and Ronald Wayne,\" POS tagging would assign:\n",
    "- `NNP` (proper noun) to 'Apple Inc.', 'Steve Jobs', 'Steve Wozniak', and 'Ronald Wayne'\n",
    "- `VBD` (past tense verb) to 'was established'\n",
    "- `IN` (preposition) to 'in', 'by'\n",
    "\n",
    "### Key Differences\n",
    "\n",
    "**Objective:**\n",
    "- **NER:** Identifies and categorizes entities in the text into predefined classes.\n",
    "- **POS Tagging:** Identifies the grammatical roles of words within the sentence.\n",
    "\n",
    "**Scope:**\n",
    "- **NER:** Requires a broader context to accurately classify an entity.\n",
    "- **POS Tagging:** Focuses on individual words and their immediate neighbors.\n",
    "\n",
    "**Output:**\n",
    "- **NER:** Provides labels for multi-word phrases.\n",
    "- **POS Tagging:** Provides labels for individual words.\n",
    "\n",
    "### Additional Considerations\n",
    "\n",
    "- **Context Sensitivity:** NER needs to consider the broader context to disambiguate entities (e.g., 'Apple' as a company vs. a fruit), whereas POS tagging relies on local context.\n",
    "- **Complexity:** NER can be more complex due to variability and ambiguity of named entities, while POS tagging deals with a more fixed set of grammatical categories.\n",
    "- **Applications:** NER is crucial for tasks like information extraction, question answering, and summarization. POS tagging is essential for syntactic parsing, text-to-speech systems, and machine translation.\n",
    "\n",
    "### Interplay Between NER and POS Tagging\n",
    "\n",
    "While distinct, NER and POS tagging can complement each other in NLP pipelines:\n",
    "- POS information can aid in NER by helping to identify potential entity boundaries and types.\n",
    "- NER results can enhance POS tagging accuracy, especially for proper nouns and domain-specific terms.\n",
    "\n",
    "We won't cover POS tagging in this notebook, but understanding the differences between NER and POS tagging is essential for developing a comprehensive understanding of text analysis techniques.\n"
   ]
  },
  {
   "cell_type": "code",
   "execution_count": 6,
   "metadata": {},
   "outputs": [
    {
     "data": {
      "text/plain": [
       "[('Meu', 'DET', 'Determinante'),\n",
       " ('nome', 'NOUN', 'Substantivo'),\n",
       " ('é', 'AUX', 'Auxiliar'),\n",
       " ('Elias', 'PROPN', 'Nome próprio'),\n",
       " ('Jacob', 'PROPN', 'Nome próprio'),\n",
       " ('e', 'CCONJ', 'Conjunção Coordenativa'),\n",
       " ('eu', 'PRON', 'Pronome'),\n",
       " ('moro', 'VERB', 'Verbo'),\n",
       " ('em', 'ADP', 'Adposição'),\n",
       " ('Natal', 'PROPN', 'Nome próprio'),\n",
       " (',', 'PUNCT', 'Pontuação'),\n",
       " ('Rio', 'PROPN', 'Nome próprio'),\n",
       " ('Grande', 'PROPN', 'Nome próprio'),\n",
       " ('do', 'ADP', 'Adposição'),\n",
       " ('Norte', 'PROPN', 'Nome próprio'),\n",
       " ('.', 'PUNCT', 'Pontuação'),\n",
       " ('Eu', 'PRON', 'Pronome'),\n",
       " ('trabalho', 'NOUN', 'Substantivo'),\n",
       " ('no', 'ADP', 'Adposição'),\n",
       " ('Instituto', 'PROPN', 'Nome próprio'),\n",
       " ('Metrópole', 'PROPN', 'Nome próprio'),\n",
       " ('Digital', 'PROPN', 'Nome próprio'),\n",
       " (',', 'PUNCT', 'Pontuação'),\n",
       " ('que', 'PRON', 'Pronome'),\n",
       " ('é', 'AUX', 'Auxiliar'),\n",
       " ('a', 'DET', 'Determinante'),\n",
       " ('unidade', 'NOUN', 'Substantivo'),\n",
       " ('mais', 'ADV', 'Advérbio'),\n",
       " ('bacana', 'ADJ', 'Adjetivo'),\n",
       " ('da', 'ADP', 'Adposição'),\n",
       " ('UFRN', 'PROPN', 'Nome próprio'),\n",
       " ('.', 'PUNCT', 'Pontuação'),\n",
       " ('Desde', 'ADP', 'Adposição'),\n",
       " ('2021', 'NUM', 'Numeral'),\n",
       " ('eu', 'PRON', 'Pronome'),\n",
       " ('também', 'ADV', 'Advérbio'),\n",
       " ('trabalho', 'NOUN', 'Substantivo'),\n",
       " ('como', 'ADP', 'Adposição'),\n",
       " ('Corregedor', 'PROPN', 'Nome próprio'),\n",
       " ('da', 'ADP', 'Adposição'),\n",
       " ('UFRN', 'PROPN', 'Nome próprio'),\n",
       " ('.', 'PUNCT', 'Pontuação'),\n",
       " ('Quando', 'SCONJ', 'Conjunção Subordinativa'),\n",
       " ('a', 'DET', 'Determinante'),\n",
       " ('pandemia', 'NOUN', 'Substantivo'),\n",
       " ('começou', 'VERB', 'Verbo'),\n",
       " (',', 'PUNCT', 'Pontuação'),\n",
       " ('no', 'ADP', 'Adposição'),\n",
       " ('início', 'NOUN', 'Substantivo'),\n",
       " ('de', 'ADP', 'Adposição'),\n",
       " ('2020', 'NUM', 'Numeral'),\n",
       " (',', 'PUNCT', 'Pontuação'),\n",
       " ('eu', 'PRON', 'Pronome'),\n",
       " ('estava', 'AUX', 'Auxiliar'),\n",
       " ('com', 'ADP', 'Adposição'),\n",
       " ('as', 'DET', 'Determinante'),\n",
       " ('malas', 'NOUN', 'Substantivo'),\n",
       " ('prontas', 'ADJ', 'Adjetivo'),\n",
       " ('para', 'ADP', 'Adposição'),\n",
       " ('uma', 'DET', 'Determinante'),\n",
       " ('viagem', 'NOUN', 'Substantivo'),\n",
       " ('de', 'ADP', 'Adposição'),\n",
       " ('férias', 'NOUN', 'Substantivo'),\n",
       " ('para', 'ADP', 'Adposição'),\n",
       " ('o', 'DET', 'Determinante'),\n",
       " ('Japão', 'PROPN', 'Nome próprio'),\n",
       " ('.', 'PUNCT', 'Pontuação'),\n",
       " ('Eu', 'PRON', 'Pronome'),\n",
       " ('até', 'ADV', 'Advérbio'),\n",
       " ('fui', 'AUX', 'Auxiliar'),\n",
       " ('buscar', 'VERB', 'Verbo'),\n",
       " ('meu', 'DET', 'Determinante'),\n",
       " ('visto', 'NOUN', 'Substantivo'),\n",
       " ('no', 'ADP', 'Adposição'),\n",
       " ('Consulado', 'NOUN', 'Substantivo'),\n",
       " ('em', 'ADP', 'Adposição'),\n",
       " ('Recife', 'PROPN', 'Nome próprio'),\n",
       " (',', 'PUNCT', 'Pontuação'),\n",
       " ('mas', 'CCONJ', 'Conjunção Coordenativa'),\n",
       " (',', 'PUNCT', 'Pontuação'),\n",
       " ('quando', 'ADV', 'Advérbio'),\n",
       " ('chegou', 'VERB', 'Verbo'),\n",
       " ('mais', 'ADV', 'Advérbio'),\n",
       " ('perto', 'ADV', 'Advérbio'),\n",
       " ('da', 'ADP', 'Adposição'),\n",
       " ('viagem', 'NOUN', 'Substantivo'),\n",
       " (',', 'PUNCT', 'Pontuação'),\n",
       " ('meus', 'DET', 'Determinante'),\n",
       " ('voos', 'NOUN', 'Substantivo'),\n",
       " ('foram', 'AUX', 'Auxiliar'),\n",
       " ('todos', 'DET', 'Determinante'),\n",
       " ('cancelados', 'VERB', 'Verbo'),\n",
       " ('pela', 'ADP', 'Adposição'),\n",
       " ('United', 'PROPN', 'Nome próprio'),\n",
       " ('Airlines', 'PROPN', 'Nome próprio'),\n",
       " ('e', 'CCONJ', 'Conjunção Coordenativa'),\n",
       " ('eu', 'PRON', 'Pronome'),\n",
       " ('não', 'ADV', 'Advérbio'),\n",
       " ('viajei', 'VERB', 'Verbo'),\n",
       " ('.', 'PUNCT', 'Pontuação'),\n",
       " ('No', 'ADP', 'Adposição'),\n",
       " ('dia', 'NOUN', 'Substantivo'),\n",
       " ('11', 'NUM', 'Numeral'),\n",
       " ('de', 'ADP', 'Adposição'),\n",
       " ('novembro', 'NOUN', 'Substantivo'),\n",
       " ('de', 'ADP', 'Adposição'),\n",
       " ('2023', 'NUM', 'Numeral'),\n",
       " (',', 'PUNCT', 'Pontuação'),\n",
       " ('eu', 'PRON', 'Pronome'),\n",
       " ('estive', 'VERB', 'Verbo'),\n",
       " ('no', 'ADP', 'Adposição'),\n",
       " ('show', 'NOUN', 'Substantivo'),\n",
       " ('do', 'ADP', 'Adposição'),\n",
       " ('Roger', 'PROPN', 'Nome próprio'),\n",
       " ('Waters', 'PROPN', 'Nome próprio'),\n",
       " ('em', 'ADP', 'Adposição'),\n",
       " ('São', 'PROPN', 'Nome próprio'),\n",
       " ('Paulo', 'PROPN', 'Nome próprio'),\n",
       " ('.', 'PUNCT', 'Pontuação'),\n",
       " ('Sempre', 'ADV', 'Advérbio'),\n",
       " ('que', 'SCONJ', 'Conjunção Subordinativa'),\n",
       " ('visito', 'VERB', 'Verbo'),\n",
       " ('a', 'DET', 'Determinante'),\n",
       " ('cidade', 'NOUN', 'Substantivo'),\n",
       " (',', 'PUNCT', 'Pontuação'),\n",
       " ('eu', 'PRON', 'Pronome'),\n",
       " ('dou', 'VERB', 'Verbo'),\n",
       " ('uma', 'DET', 'Determinante'),\n",
       " ('passada', 'ADJ', 'Adjetivo'),\n",
       " ('no', 'ADP', 'Adposição'),\n",
       " ('Kidoairaku', 'PROPN', 'Nome próprio'),\n",
       " (',', 'PUNCT', 'Pontuação'),\n",
       " ('meu', 'DET', 'Determinante'),\n",
       " ('restaurante', 'NOUN', 'Substantivo'),\n",
       " ('japonês', 'ADJ', 'Adjetivo'),\n",
       " ('favorito', 'ADJ', 'Adjetivo'),\n",
       " ('lá', 'ADV', 'Advérbio'),\n",
       " ('.', 'PUNCT', 'Pontuação')]"
      ]
     },
     "execution_count": 6,
     "metadata": {},
     "output_type": "execute_result"
    }
   ],
   "source": [
    "# We won't discuss POS tagging in this class, but here's an example of how to do it with Spacy\n",
    "\n",
    "# Define a dictionary to map POS tags to their Portuguese equivalents\n",
    "# This dictionary will help translate the POS tags from English to Portuguese\n",
    "pos_tags_pt = {\n",
    "    \"ADJ\": \"Adjetivo\",\n",
    "    \"ADP\": \"Adposição\",\n",
    "    \"ADV\": \"Advérbio\",\n",
    "    \"AUX\": \"Auxiliar\",\n",
    "    \"CONJ\": \"Conjunção\",\n",
    "    \"CCONJ\": \"Conjunção Coordenativa\",\n",
    "    \"DET\": \"Determinante\",\n",
    "    \"INTJ\": \"Interjeição\",\n",
    "    \"NOUN\": \"Substantivo\",\n",
    "    \"NUM\": \"Numeral\",\n",
    "    \"PART\": \"Partícula\",\n",
    "    \"PRON\": \"Pronome\",\n",
    "    \"PROPN\": \"Nome próprio\",\n",
    "    \"PUNCT\": \"Pontuação\",\n",
    "    \"SCONJ\": \"Conjunção Subordinativa\",\n",
    "    \"SYM\": \"Símbolo\",\n",
    "    \"VERB\": \"Verbo\",\n",
    "    \"X\": \"Outros\",\n",
    "    \"SPACE\": \"Espaço\"\n",
    "}\n",
    "\n",
    "def extract_part_of_speech_tags(input_text: str) -> List[Tuple[str, str, str]]:\n",
    "    \"\"\"\n",
    "    Extract part-of-speech (POS) tags from a given text.\n",
    "\n",
    "    Args:\n",
    "        input_text (str): The input text.\n",
    "\n",
    "    Returns:\n",
    "        List[Tuple[str, str, str]]: A list of tuples where each tuple contains the token, its POS tag, and the corresponding Portuguese POS tag.\n",
    "    \"\"\"\n",
    "    # Parse the text with spaCy\n",
    "    # - nlp(input_text) processes the input text and returns a Doc object containing the parsed text\n",
    "    parsed_text = nlp(input_text)\n",
    "    \n",
    "    # Initialize an empty list to store the POS tags\n",
    "    pos_tags = []\n",
    "    \n",
    "    # Iterate over the tokens in the parsed text\n",
    "    # - token.text is the text of the token\n",
    "    # - token.pos_ is the POS tag of the token\n",
    "    for token in parsed_text:\n",
    "        # Append the token text, its POS tag, and the corresponding Portuguese POS tag to the list\n",
    "        pos_tags.append((token.text, token.pos_, pos_tags_pt[token.pos_]))\n",
    "    \n",
    "    # Return the list of POS tags\n",
    "    return pos_tags\n",
    "\n",
    "# Test the function with an example text\n",
    "# - text_example is a sample text containing various tokens\n",
    "# - The function call extracts the POS tags from the text and returns them as a list of tuples\n",
    "extract_part_of_speech_tags(text_example)"
   ]
  },
  {
   "cell_type": "code",
   "execution_count": 7,
   "metadata": {},
   "outputs": [
    {
     "data": {
      "text/html": [
       "<span class=\"tex2jax_ignore\"><svg xmlns=\"http://www.w3.org/2000/svg\" xmlns:xlink=\"http://www.w3.org/1999/xlink\" xml:lang=\"pt\" id=\"ee22f8d74ee7474db5c46468bd908d84-0\" class=\"displacy\" width=\"10940\" height=\"362.0\" direction=\"ltr\" style=\"max-width: none; height: 362.0px; color: #000000; background: #ffffff; font-family: Arial; direction: ltr\">\n",
       "<text class=\"displacy-token\" fill=\"currentColor\" text-anchor=\"middle\" y=\"272.0\">\n",
       "    <tspan class=\"displacy-word\" fill=\"currentColor\" x=\"50\">Meu</tspan>\n",
       "    <tspan class=\"displacy-tag\" dy=\"2em\" fill=\"currentColor\" x=\"50\">DET</tspan>\n",
       "</text>\n",
       "\n",
       "<text class=\"displacy-token\" fill=\"currentColor\" text-anchor=\"middle\" y=\"272.0\">\n",
       "    <tspan class=\"displacy-word\" fill=\"currentColor\" x=\"140\">nome</tspan>\n",
       "    <tspan class=\"displacy-tag\" dy=\"2em\" fill=\"currentColor\" x=\"140\">NOUN</tspan>\n",
       "</text>\n",
       "\n",
       "<text class=\"displacy-token\" fill=\"currentColor\" text-anchor=\"middle\" y=\"272.0\">\n",
       "    <tspan class=\"displacy-word\" fill=\"currentColor\" x=\"230\">é</tspan>\n",
       "    <tspan class=\"displacy-tag\" dy=\"2em\" fill=\"currentColor\" x=\"230\">AUX</tspan>\n",
       "</text>\n",
       "\n",
       "<text class=\"displacy-token\" fill=\"currentColor\" text-anchor=\"middle\" y=\"272.0\">\n",
       "    <tspan class=\"displacy-word\" fill=\"currentColor\" x=\"320\">Elias</tspan>\n",
       "    <tspan class=\"displacy-tag\" dy=\"2em\" fill=\"currentColor\" x=\"320\">PROPN</tspan>\n",
       "</text>\n",
       "\n",
       "<text class=\"displacy-token\" fill=\"currentColor\" text-anchor=\"middle\" y=\"272.0\">\n",
       "    <tspan class=\"displacy-word\" fill=\"currentColor\" x=\"410\">Jacob</tspan>\n",
       "    <tspan class=\"displacy-tag\" dy=\"2em\" fill=\"currentColor\" x=\"410\">PROPN</tspan>\n",
       "</text>\n",
       "\n",
       "<text class=\"displacy-token\" fill=\"currentColor\" text-anchor=\"middle\" y=\"272.0\">\n",
       "    <tspan class=\"displacy-word\" fill=\"currentColor\" x=\"500\">e</tspan>\n",
       "    <tspan class=\"displacy-tag\" dy=\"2em\" fill=\"currentColor\" x=\"500\">CCONJ</tspan>\n",
       "</text>\n",
       "\n",
       "<text class=\"displacy-token\" fill=\"currentColor\" text-anchor=\"middle\" y=\"272.0\">\n",
       "    <tspan class=\"displacy-word\" fill=\"currentColor\" x=\"590\">eu</tspan>\n",
       "    <tspan class=\"displacy-tag\" dy=\"2em\" fill=\"currentColor\" x=\"590\">PRON</tspan>\n",
       "</text>\n",
       "\n",
       "<text class=\"displacy-token\" fill=\"currentColor\" text-anchor=\"middle\" y=\"272.0\">\n",
       "    <tspan class=\"displacy-word\" fill=\"currentColor\" x=\"680\">moro</tspan>\n",
       "    <tspan class=\"displacy-tag\" dy=\"2em\" fill=\"currentColor\" x=\"680\">VERB</tspan>\n",
       "</text>\n",
       "\n",
       "<text class=\"displacy-token\" fill=\"currentColor\" text-anchor=\"middle\" y=\"272.0\">\n",
       "    <tspan class=\"displacy-word\" fill=\"currentColor\" x=\"770\">em</tspan>\n",
       "    <tspan class=\"displacy-tag\" dy=\"2em\" fill=\"currentColor\" x=\"770\">ADP</tspan>\n",
       "</text>\n",
       "\n",
       "<text class=\"displacy-token\" fill=\"currentColor\" text-anchor=\"middle\" y=\"272.0\">\n",
       "    <tspan class=\"displacy-word\" fill=\"currentColor\" x=\"860\">Natal,</tspan>\n",
       "    <tspan class=\"displacy-tag\" dy=\"2em\" fill=\"currentColor\" x=\"860\">PROPN</tspan>\n",
       "</text>\n",
       "\n",
       "<text class=\"displacy-token\" fill=\"currentColor\" text-anchor=\"middle\" y=\"272.0\">\n",
       "    <tspan class=\"displacy-word\" fill=\"currentColor\" x=\"950\">Rio</tspan>\n",
       "    <tspan class=\"displacy-tag\" dy=\"2em\" fill=\"currentColor\" x=\"950\">PROPN</tspan>\n",
       "</text>\n",
       "\n",
       "<text class=\"displacy-token\" fill=\"currentColor\" text-anchor=\"middle\" y=\"272.0\">\n",
       "    <tspan class=\"displacy-word\" fill=\"currentColor\" x=\"1040\">Grande</tspan>\n",
       "    <tspan class=\"displacy-tag\" dy=\"2em\" fill=\"currentColor\" x=\"1040\">PROPN</tspan>\n",
       "</text>\n",
       "\n",
       "<text class=\"displacy-token\" fill=\"currentColor\" text-anchor=\"middle\" y=\"272.0\">\n",
       "    <tspan class=\"displacy-word\" fill=\"currentColor\" x=\"1130\">do</tspan>\n",
       "    <tspan class=\"displacy-tag\" dy=\"2em\" fill=\"currentColor\" x=\"1130\">ADP</tspan>\n",
       "</text>\n",
       "\n",
       "<text class=\"displacy-token\" fill=\"currentColor\" text-anchor=\"middle\" y=\"272.0\">\n",
       "    <tspan class=\"displacy-word\" fill=\"currentColor\" x=\"1220\">Norte.</tspan>\n",
       "    <tspan class=\"displacy-tag\" dy=\"2em\" fill=\"currentColor\" x=\"1220\">PROPN</tspan>\n",
       "</text>\n",
       "\n",
       "<text class=\"displacy-token\" fill=\"currentColor\" text-anchor=\"middle\" y=\"272.0\">\n",
       "    <tspan class=\"displacy-word\" fill=\"currentColor\" x=\"1310\">Eu</tspan>\n",
       "    <tspan class=\"displacy-tag\" dy=\"2em\" fill=\"currentColor\" x=\"1310\">PRON</tspan>\n",
       "</text>\n",
       "\n",
       "<text class=\"displacy-token\" fill=\"currentColor\" text-anchor=\"middle\" y=\"272.0\">\n",
       "    <tspan class=\"displacy-word\" fill=\"currentColor\" x=\"1400\">trabalho</tspan>\n",
       "    <tspan class=\"displacy-tag\" dy=\"2em\" fill=\"currentColor\" x=\"1400\">NOUN</tspan>\n",
       "</text>\n",
       "\n",
       "<text class=\"displacy-token\" fill=\"currentColor\" text-anchor=\"middle\" y=\"272.0\">\n",
       "    <tspan class=\"displacy-word\" fill=\"currentColor\" x=\"1490\">no</tspan>\n",
       "    <tspan class=\"displacy-tag\" dy=\"2em\" fill=\"currentColor\" x=\"1490\">ADP</tspan>\n",
       "</text>\n",
       "\n",
       "<text class=\"displacy-token\" fill=\"currentColor\" text-anchor=\"middle\" y=\"272.0\">\n",
       "    <tspan class=\"displacy-word\" fill=\"currentColor\" x=\"1580\">Instituto</tspan>\n",
       "    <tspan class=\"displacy-tag\" dy=\"2em\" fill=\"currentColor\" x=\"1580\">PROPN</tspan>\n",
       "</text>\n",
       "\n",
       "<text class=\"displacy-token\" fill=\"currentColor\" text-anchor=\"middle\" y=\"272.0\">\n",
       "    <tspan class=\"displacy-word\" fill=\"currentColor\" x=\"1670\">Metrópole</tspan>\n",
       "    <tspan class=\"displacy-tag\" dy=\"2em\" fill=\"currentColor\" x=\"1670\">PROPN</tspan>\n",
       "</text>\n",
       "\n",
       "<text class=\"displacy-token\" fill=\"currentColor\" text-anchor=\"middle\" y=\"272.0\">\n",
       "    <tspan class=\"displacy-word\" fill=\"currentColor\" x=\"1760\">Digital,</tspan>\n",
       "    <tspan class=\"displacy-tag\" dy=\"2em\" fill=\"currentColor\" x=\"1760\">PROPN</tspan>\n",
       "</text>\n",
       "\n",
       "<text class=\"displacy-token\" fill=\"currentColor\" text-anchor=\"middle\" y=\"272.0\">\n",
       "    <tspan class=\"displacy-word\" fill=\"currentColor\" x=\"1850\">que</tspan>\n",
       "    <tspan class=\"displacy-tag\" dy=\"2em\" fill=\"currentColor\" x=\"1850\">PRON</tspan>\n",
       "</text>\n",
       "\n",
       "<text class=\"displacy-token\" fill=\"currentColor\" text-anchor=\"middle\" y=\"272.0\">\n",
       "    <tspan class=\"displacy-word\" fill=\"currentColor\" x=\"1940\">é</tspan>\n",
       "    <tspan class=\"displacy-tag\" dy=\"2em\" fill=\"currentColor\" x=\"1940\">AUX</tspan>\n",
       "</text>\n",
       "\n",
       "<text class=\"displacy-token\" fill=\"currentColor\" text-anchor=\"middle\" y=\"272.0\">\n",
       "    <tspan class=\"displacy-word\" fill=\"currentColor\" x=\"2030\">a</tspan>\n",
       "    <tspan class=\"displacy-tag\" dy=\"2em\" fill=\"currentColor\" x=\"2030\">DET</tspan>\n",
       "</text>\n",
       "\n",
       "<text class=\"displacy-token\" fill=\"currentColor\" text-anchor=\"middle\" y=\"272.0\">\n",
       "    <tspan class=\"displacy-word\" fill=\"currentColor\" x=\"2120\">unidade</tspan>\n",
       "    <tspan class=\"displacy-tag\" dy=\"2em\" fill=\"currentColor\" x=\"2120\">NOUN</tspan>\n",
       "</text>\n",
       "\n",
       "<text class=\"displacy-token\" fill=\"currentColor\" text-anchor=\"middle\" y=\"272.0\">\n",
       "    <tspan class=\"displacy-word\" fill=\"currentColor\" x=\"2210\">mais</tspan>\n",
       "    <tspan class=\"displacy-tag\" dy=\"2em\" fill=\"currentColor\" x=\"2210\">ADV</tspan>\n",
       "</text>\n",
       "\n",
       "<text class=\"displacy-token\" fill=\"currentColor\" text-anchor=\"middle\" y=\"272.0\">\n",
       "    <tspan class=\"displacy-word\" fill=\"currentColor\" x=\"2300\">bacana</tspan>\n",
       "    <tspan class=\"displacy-tag\" dy=\"2em\" fill=\"currentColor\" x=\"2300\">ADJ</tspan>\n",
       "</text>\n",
       "\n",
       "<text class=\"displacy-token\" fill=\"currentColor\" text-anchor=\"middle\" y=\"272.0\">\n",
       "    <tspan class=\"displacy-word\" fill=\"currentColor\" x=\"2390\">da</tspan>\n",
       "    <tspan class=\"displacy-tag\" dy=\"2em\" fill=\"currentColor\" x=\"2390\">ADP</tspan>\n",
       "</text>\n",
       "\n",
       "<text class=\"displacy-token\" fill=\"currentColor\" text-anchor=\"middle\" y=\"272.0\">\n",
       "    <tspan class=\"displacy-word\" fill=\"currentColor\" x=\"2480\">UFRN.</tspan>\n",
       "    <tspan class=\"displacy-tag\" dy=\"2em\" fill=\"currentColor\" x=\"2480\">PROPN</tspan>\n",
       "</text>\n",
       "\n",
       "<text class=\"displacy-token\" fill=\"currentColor\" text-anchor=\"middle\" y=\"272.0\">\n",
       "    <tspan class=\"displacy-word\" fill=\"currentColor\" x=\"2570\">Desde</tspan>\n",
       "    <tspan class=\"displacy-tag\" dy=\"2em\" fill=\"currentColor\" x=\"2570\">ADP</tspan>\n",
       "</text>\n",
       "\n",
       "<text class=\"displacy-token\" fill=\"currentColor\" text-anchor=\"middle\" y=\"272.0\">\n",
       "    <tspan class=\"displacy-word\" fill=\"currentColor\" x=\"2660\">2021</tspan>\n",
       "    <tspan class=\"displacy-tag\" dy=\"2em\" fill=\"currentColor\" x=\"2660\">NUM</tspan>\n",
       "</text>\n",
       "\n",
       "<text class=\"displacy-token\" fill=\"currentColor\" text-anchor=\"middle\" y=\"272.0\">\n",
       "    <tspan class=\"displacy-word\" fill=\"currentColor\" x=\"2750\">eu</tspan>\n",
       "    <tspan class=\"displacy-tag\" dy=\"2em\" fill=\"currentColor\" x=\"2750\">PRON</tspan>\n",
       "</text>\n",
       "\n",
       "<text class=\"displacy-token\" fill=\"currentColor\" text-anchor=\"middle\" y=\"272.0\">\n",
       "    <tspan class=\"displacy-word\" fill=\"currentColor\" x=\"2840\">também</tspan>\n",
       "    <tspan class=\"displacy-tag\" dy=\"2em\" fill=\"currentColor\" x=\"2840\">ADV</tspan>\n",
       "</text>\n",
       "\n",
       "<text class=\"displacy-token\" fill=\"currentColor\" text-anchor=\"middle\" y=\"272.0\">\n",
       "    <tspan class=\"displacy-word\" fill=\"currentColor\" x=\"2930\">trabalho</tspan>\n",
       "    <tspan class=\"displacy-tag\" dy=\"2em\" fill=\"currentColor\" x=\"2930\">NOUN</tspan>\n",
       "</text>\n",
       "\n",
       "<text class=\"displacy-token\" fill=\"currentColor\" text-anchor=\"middle\" y=\"272.0\">\n",
       "    <tspan class=\"displacy-word\" fill=\"currentColor\" x=\"3020\">como</tspan>\n",
       "    <tspan class=\"displacy-tag\" dy=\"2em\" fill=\"currentColor\" x=\"3020\">ADP</tspan>\n",
       "</text>\n",
       "\n",
       "<text class=\"displacy-token\" fill=\"currentColor\" text-anchor=\"middle\" y=\"272.0\">\n",
       "    <tspan class=\"displacy-word\" fill=\"currentColor\" x=\"3110\">Corregedor</tspan>\n",
       "    <tspan class=\"displacy-tag\" dy=\"2em\" fill=\"currentColor\" x=\"3110\">PROPN</tspan>\n",
       "</text>\n",
       "\n",
       "<text class=\"displacy-token\" fill=\"currentColor\" text-anchor=\"middle\" y=\"272.0\">\n",
       "    <tspan class=\"displacy-word\" fill=\"currentColor\" x=\"3200\">da</tspan>\n",
       "    <tspan class=\"displacy-tag\" dy=\"2em\" fill=\"currentColor\" x=\"3200\">ADP</tspan>\n",
       "</text>\n",
       "\n",
       "<text class=\"displacy-token\" fill=\"currentColor\" text-anchor=\"middle\" y=\"272.0\">\n",
       "    <tspan class=\"displacy-word\" fill=\"currentColor\" x=\"3290\">UFRN.</tspan>\n",
       "    <tspan class=\"displacy-tag\" dy=\"2em\" fill=\"currentColor\" x=\"3290\">PROPN</tspan>\n",
       "</text>\n",
       "\n",
       "<text class=\"displacy-token\" fill=\"currentColor\" text-anchor=\"middle\" y=\"272.0\">\n",
       "    <tspan class=\"displacy-word\" fill=\"currentColor\" x=\"3380\">Quando</tspan>\n",
       "    <tspan class=\"displacy-tag\" dy=\"2em\" fill=\"currentColor\" x=\"3380\">SCONJ</tspan>\n",
       "</text>\n",
       "\n",
       "<text class=\"displacy-token\" fill=\"currentColor\" text-anchor=\"middle\" y=\"272.0\">\n",
       "    <tspan class=\"displacy-word\" fill=\"currentColor\" x=\"3470\">a</tspan>\n",
       "    <tspan class=\"displacy-tag\" dy=\"2em\" fill=\"currentColor\" x=\"3470\">DET</tspan>\n",
       "</text>\n",
       "\n",
       "<text class=\"displacy-token\" fill=\"currentColor\" text-anchor=\"middle\" y=\"272.0\">\n",
       "    <tspan class=\"displacy-word\" fill=\"currentColor\" x=\"3560\">pandemia</tspan>\n",
       "    <tspan class=\"displacy-tag\" dy=\"2em\" fill=\"currentColor\" x=\"3560\">NOUN</tspan>\n",
       "</text>\n",
       "\n",
       "<text class=\"displacy-token\" fill=\"currentColor\" text-anchor=\"middle\" y=\"272.0\">\n",
       "    <tspan class=\"displacy-word\" fill=\"currentColor\" x=\"3650\">começou,</tspan>\n",
       "    <tspan class=\"displacy-tag\" dy=\"2em\" fill=\"currentColor\" x=\"3650\">VERB</tspan>\n",
       "</text>\n",
       "\n",
       "<text class=\"displacy-token\" fill=\"currentColor\" text-anchor=\"middle\" y=\"272.0\">\n",
       "    <tspan class=\"displacy-word\" fill=\"currentColor\" x=\"3740\">no</tspan>\n",
       "    <tspan class=\"displacy-tag\" dy=\"2em\" fill=\"currentColor\" x=\"3740\">ADP</tspan>\n",
       "</text>\n",
       "\n",
       "<text class=\"displacy-token\" fill=\"currentColor\" text-anchor=\"middle\" y=\"272.0\">\n",
       "    <tspan class=\"displacy-word\" fill=\"currentColor\" x=\"3830\">início</tspan>\n",
       "    <tspan class=\"displacy-tag\" dy=\"2em\" fill=\"currentColor\" x=\"3830\">NOUN</tspan>\n",
       "</text>\n",
       "\n",
       "<text class=\"displacy-token\" fill=\"currentColor\" text-anchor=\"middle\" y=\"272.0\">\n",
       "    <tspan class=\"displacy-word\" fill=\"currentColor\" x=\"3920\">de</tspan>\n",
       "    <tspan class=\"displacy-tag\" dy=\"2em\" fill=\"currentColor\" x=\"3920\">ADP</tspan>\n",
       "</text>\n",
       "\n",
       "<text class=\"displacy-token\" fill=\"currentColor\" text-anchor=\"middle\" y=\"272.0\">\n",
       "    <tspan class=\"displacy-word\" fill=\"currentColor\" x=\"4010\">2020,</tspan>\n",
       "    <tspan class=\"displacy-tag\" dy=\"2em\" fill=\"currentColor\" x=\"4010\">NUM</tspan>\n",
       "</text>\n",
       "\n",
       "<text class=\"displacy-token\" fill=\"currentColor\" text-anchor=\"middle\" y=\"272.0\">\n",
       "    <tspan class=\"displacy-word\" fill=\"currentColor\" x=\"4100\">eu</tspan>\n",
       "    <tspan class=\"displacy-tag\" dy=\"2em\" fill=\"currentColor\" x=\"4100\">PRON</tspan>\n",
       "</text>\n",
       "\n",
       "<text class=\"displacy-token\" fill=\"currentColor\" text-anchor=\"middle\" y=\"272.0\">\n",
       "    <tspan class=\"displacy-word\" fill=\"currentColor\" x=\"4190\">estava</tspan>\n",
       "    <tspan class=\"displacy-tag\" dy=\"2em\" fill=\"currentColor\" x=\"4190\">AUX</tspan>\n",
       "</text>\n",
       "\n",
       "<text class=\"displacy-token\" fill=\"currentColor\" text-anchor=\"middle\" y=\"272.0\">\n",
       "    <tspan class=\"displacy-word\" fill=\"currentColor\" x=\"4280\">com</tspan>\n",
       "    <tspan class=\"displacy-tag\" dy=\"2em\" fill=\"currentColor\" x=\"4280\">ADP</tspan>\n",
       "</text>\n",
       "\n",
       "<text class=\"displacy-token\" fill=\"currentColor\" text-anchor=\"middle\" y=\"272.0\">\n",
       "    <tspan class=\"displacy-word\" fill=\"currentColor\" x=\"4370\">as</tspan>\n",
       "    <tspan class=\"displacy-tag\" dy=\"2em\" fill=\"currentColor\" x=\"4370\">DET</tspan>\n",
       "</text>\n",
       "\n",
       "<text class=\"displacy-token\" fill=\"currentColor\" text-anchor=\"middle\" y=\"272.0\">\n",
       "    <tspan class=\"displacy-word\" fill=\"currentColor\" x=\"4460\">malas</tspan>\n",
       "    <tspan class=\"displacy-tag\" dy=\"2em\" fill=\"currentColor\" x=\"4460\">NOUN</tspan>\n",
       "</text>\n",
       "\n",
       "<text class=\"displacy-token\" fill=\"currentColor\" text-anchor=\"middle\" y=\"272.0\">\n",
       "    <tspan class=\"displacy-word\" fill=\"currentColor\" x=\"4550\">prontas</tspan>\n",
       "    <tspan class=\"displacy-tag\" dy=\"2em\" fill=\"currentColor\" x=\"4550\">ADJ</tspan>\n",
       "</text>\n",
       "\n",
       "<text class=\"displacy-token\" fill=\"currentColor\" text-anchor=\"middle\" y=\"272.0\">\n",
       "    <tspan class=\"displacy-word\" fill=\"currentColor\" x=\"4640\">para</tspan>\n",
       "    <tspan class=\"displacy-tag\" dy=\"2em\" fill=\"currentColor\" x=\"4640\">ADP</tspan>\n",
       "</text>\n",
       "\n",
       "<text class=\"displacy-token\" fill=\"currentColor\" text-anchor=\"middle\" y=\"272.0\">\n",
       "    <tspan class=\"displacy-word\" fill=\"currentColor\" x=\"4730\">uma</tspan>\n",
       "    <tspan class=\"displacy-tag\" dy=\"2em\" fill=\"currentColor\" x=\"4730\">DET</tspan>\n",
       "</text>\n",
       "\n",
       "<text class=\"displacy-token\" fill=\"currentColor\" text-anchor=\"middle\" y=\"272.0\">\n",
       "    <tspan class=\"displacy-word\" fill=\"currentColor\" x=\"4820\">viagem</tspan>\n",
       "    <tspan class=\"displacy-tag\" dy=\"2em\" fill=\"currentColor\" x=\"4820\">NOUN</tspan>\n",
       "</text>\n",
       "\n",
       "<text class=\"displacy-token\" fill=\"currentColor\" text-anchor=\"middle\" y=\"272.0\">\n",
       "    <tspan class=\"displacy-word\" fill=\"currentColor\" x=\"4910\">de</tspan>\n",
       "    <tspan class=\"displacy-tag\" dy=\"2em\" fill=\"currentColor\" x=\"4910\">ADP</tspan>\n",
       "</text>\n",
       "\n",
       "<text class=\"displacy-token\" fill=\"currentColor\" text-anchor=\"middle\" y=\"272.0\">\n",
       "    <tspan class=\"displacy-word\" fill=\"currentColor\" x=\"5000\">férias</tspan>\n",
       "    <tspan class=\"displacy-tag\" dy=\"2em\" fill=\"currentColor\" x=\"5000\">NOUN</tspan>\n",
       "</text>\n",
       "\n",
       "<text class=\"displacy-token\" fill=\"currentColor\" text-anchor=\"middle\" y=\"272.0\">\n",
       "    <tspan class=\"displacy-word\" fill=\"currentColor\" x=\"5090\">para</tspan>\n",
       "    <tspan class=\"displacy-tag\" dy=\"2em\" fill=\"currentColor\" x=\"5090\">ADP</tspan>\n",
       "</text>\n",
       "\n",
       "<text class=\"displacy-token\" fill=\"currentColor\" text-anchor=\"middle\" y=\"272.0\">\n",
       "    <tspan class=\"displacy-word\" fill=\"currentColor\" x=\"5180\">o</tspan>\n",
       "    <tspan class=\"displacy-tag\" dy=\"2em\" fill=\"currentColor\" x=\"5180\">DET</tspan>\n",
       "</text>\n",
       "\n",
       "<text class=\"displacy-token\" fill=\"currentColor\" text-anchor=\"middle\" y=\"272.0\">\n",
       "    <tspan class=\"displacy-word\" fill=\"currentColor\" x=\"5270\">Japão.</tspan>\n",
       "    <tspan class=\"displacy-tag\" dy=\"2em\" fill=\"currentColor\" x=\"5270\">PROPN</tspan>\n",
       "</text>\n",
       "\n",
       "<text class=\"displacy-token\" fill=\"currentColor\" text-anchor=\"middle\" y=\"272.0\">\n",
       "    <tspan class=\"displacy-word\" fill=\"currentColor\" x=\"5360\">Eu</tspan>\n",
       "    <tspan class=\"displacy-tag\" dy=\"2em\" fill=\"currentColor\" x=\"5360\">PRON</tspan>\n",
       "</text>\n",
       "\n",
       "<text class=\"displacy-token\" fill=\"currentColor\" text-anchor=\"middle\" y=\"272.0\">\n",
       "    <tspan class=\"displacy-word\" fill=\"currentColor\" x=\"5450\">até</tspan>\n",
       "    <tspan class=\"displacy-tag\" dy=\"2em\" fill=\"currentColor\" x=\"5450\">ADV</tspan>\n",
       "</text>\n",
       "\n",
       "<text class=\"displacy-token\" fill=\"currentColor\" text-anchor=\"middle\" y=\"272.0\">\n",
       "    <tspan class=\"displacy-word\" fill=\"currentColor\" x=\"5540\">fui</tspan>\n",
       "    <tspan class=\"displacy-tag\" dy=\"2em\" fill=\"currentColor\" x=\"5540\">AUX</tspan>\n",
       "</text>\n",
       "\n",
       "<text class=\"displacy-token\" fill=\"currentColor\" text-anchor=\"middle\" y=\"272.0\">\n",
       "    <tspan class=\"displacy-word\" fill=\"currentColor\" x=\"5630\">buscar</tspan>\n",
       "    <tspan class=\"displacy-tag\" dy=\"2em\" fill=\"currentColor\" x=\"5630\">VERB</tspan>\n",
       "</text>\n",
       "\n",
       "<text class=\"displacy-token\" fill=\"currentColor\" text-anchor=\"middle\" y=\"272.0\">\n",
       "    <tspan class=\"displacy-word\" fill=\"currentColor\" x=\"5720\">meu</tspan>\n",
       "    <tspan class=\"displacy-tag\" dy=\"2em\" fill=\"currentColor\" x=\"5720\">DET</tspan>\n",
       "</text>\n",
       "\n",
       "<text class=\"displacy-token\" fill=\"currentColor\" text-anchor=\"middle\" y=\"272.0\">\n",
       "    <tspan class=\"displacy-word\" fill=\"currentColor\" x=\"5810\">visto</tspan>\n",
       "    <tspan class=\"displacy-tag\" dy=\"2em\" fill=\"currentColor\" x=\"5810\">NOUN</tspan>\n",
       "</text>\n",
       "\n",
       "<text class=\"displacy-token\" fill=\"currentColor\" text-anchor=\"middle\" y=\"272.0\">\n",
       "    <tspan class=\"displacy-word\" fill=\"currentColor\" x=\"5900\">no</tspan>\n",
       "    <tspan class=\"displacy-tag\" dy=\"2em\" fill=\"currentColor\" x=\"5900\">ADP</tspan>\n",
       "</text>\n",
       "\n",
       "<text class=\"displacy-token\" fill=\"currentColor\" text-anchor=\"middle\" y=\"272.0\">\n",
       "    <tspan class=\"displacy-word\" fill=\"currentColor\" x=\"5990\">Consulado</tspan>\n",
       "    <tspan class=\"displacy-tag\" dy=\"2em\" fill=\"currentColor\" x=\"5990\">NOUN</tspan>\n",
       "</text>\n",
       "\n",
       "<text class=\"displacy-token\" fill=\"currentColor\" text-anchor=\"middle\" y=\"272.0\">\n",
       "    <tspan class=\"displacy-word\" fill=\"currentColor\" x=\"6080\">em</tspan>\n",
       "    <tspan class=\"displacy-tag\" dy=\"2em\" fill=\"currentColor\" x=\"6080\">ADP</tspan>\n",
       "</text>\n",
       "\n",
       "<text class=\"displacy-token\" fill=\"currentColor\" text-anchor=\"middle\" y=\"272.0\">\n",
       "    <tspan class=\"displacy-word\" fill=\"currentColor\" x=\"6170\">Recife,</tspan>\n",
       "    <tspan class=\"displacy-tag\" dy=\"2em\" fill=\"currentColor\" x=\"6170\">PROPN</tspan>\n",
       "</text>\n",
       "\n",
       "<text class=\"displacy-token\" fill=\"currentColor\" text-anchor=\"middle\" y=\"272.0\">\n",
       "    <tspan class=\"displacy-word\" fill=\"currentColor\" x=\"6260\">mas,</tspan>\n",
       "    <tspan class=\"displacy-tag\" dy=\"2em\" fill=\"currentColor\" x=\"6260\">CCONJ</tspan>\n",
       "</text>\n",
       "\n",
       "<text class=\"displacy-token\" fill=\"currentColor\" text-anchor=\"middle\" y=\"272.0\">\n",
       "    <tspan class=\"displacy-word\" fill=\"currentColor\" x=\"6350\">quando</tspan>\n",
       "    <tspan class=\"displacy-tag\" dy=\"2em\" fill=\"currentColor\" x=\"6350\">ADV</tspan>\n",
       "</text>\n",
       "\n",
       "<text class=\"displacy-token\" fill=\"currentColor\" text-anchor=\"middle\" y=\"272.0\">\n",
       "    <tspan class=\"displacy-word\" fill=\"currentColor\" x=\"6440\">chegou</tspan>\n",
       "    <tspan class=\"displacy-tag\" dy=\"2em\" fill=\"currentColor\" x=\"6440\">VERB</tspan>\n",
       "</text>\n",
       "\n",
       "<text class=\"displacy-token\" fill=\"currentColor\" text-anchor=\"middle\" y=\"272.0\">\n",
       "    <tspan class=\"displacy-word\" fill=\"currentColor\" x=\"6530\">mais</tspan>\n",
       "    <tspan class=\"displacy-tag\" dy=\"2em\" fill=\"currentColor\" x=\"6530\">ADV</tspan>\n",
       "</text>\n",
       "\n",
       "<text class=\"displacy-token\" fill=\"currentColor\" text-anchor=\"middle\" y=\"272.0\">\n",
       "    <tspan class=\"displacy-word\" fill=\"currentColor\" x=\"6620\">perto</tspan>\n",
       "    <tspan class=\"displacy-tag\" dy=\"2em\" fill=\"currentColor\" x=\"6620\">ADV</tspan>\n",
       "</text>\n",
       "\n",
       "<text class=\"displacy-token\" fill=\"currentColor\" text-anchor=\"middle\" y=\"272.0\">\n",
       "    <tspan class=\"displacy-word\" fill=\"currentColor\" x=\"6710\">da</tspan>\n",
       "    <tspan class=\"displacy-tag\" dy=\"2em\" fill=\"currentColor\" x=\"6710\">ADP</tspan>\n",
       "</text>\n",
       "\n",
       "<text class=\"displacy-token\" fill=\"currentColor\" text-anchor=\"middle\" y=\"272.0\">\n",
       "    <tspan class=\"displacy-word\" fill=\"currentColor\" x=\"6800\">viagem,</tspan>\n",
       "    <tspan class=\"displacy-tag\" dy=\"2em\" fill=\"currentColor\" x=\"6800\">NOUN</tspan>\n",
       "</text>\n",
       "\n",
       "<text class=\"displacy-token\" fill=\"currentColor\" text-anchor=\"middle\" y=\"272.0\">\n",
       "    <tspan class=\"displacy-word\" fill=\"currentColor\" x=\"6890\">meus</tspan>\n",
       "    <tspan class=\"displacy-tag\" dy=\"2em\" fill=\"currentColor\" x=\"6890\">DET</tspan>\n",
       "</text>\n",
       "\n",
       "<text class=\"displacy-token\" fill=\"currentColor\" text-anchor=\"middle\" y=\"272.0\">\n",
       "    <tspan class=\"displacy-word\" fill=\"currentColor\" x=\"6980\">voos</tspan>\n",
       "    <tspan class=\"displacy-tag\" dy=\"2em\" fill=\"currentColor\" x=\"6980\">NOUN</tspan>\n",
       "</text>\n",
       "\n",
       "<text class=\"displacy-token\" fill=\"currentColor\" text-anchor=\"middle\" y=\"272.0\">\n",
       "    <tspan class=\"displacy-word\" fill=\"currentColor\" x=\"7070\">foram</tspan>\n",
       "    <tspan class=\"displacy-tag\" dy=\"2em\" fill=\"currentColor\" x=\"7070\">AUX</tspan>\n",
       "</text>\n",
       "\n",
       "<text class=\"displacy-token\" fill=\"currentColor\" text-anchor=\"middle\" y=\"272.0\">\n",
       "    <tspan class=\"displacy-word\" fill=\"currentColor\" x=\"7160\">todos</tspan>\n",
       "    <tspan class=\"displacy-tag\" dy=\"2em\" fill=\"currentColor\" x=\"7160\">DET</tspan>\n",
       "</text>\n",
       "\n",
       "<text class=\"displacy-token\" fill=\"currentColor\" text-anchor=\"middle\" y=\"272.0\">\n",
       "    <tspan class=\"displacy-word\" fill=\"currentColor\" x=\"7250\">cancelados</tspan>\n",
       "    <tspan class=\"displacy-tag\" dy=\"2em\" fill=\"currentColor\" x=\"7250\">VERB</tspan>\n",
       "</text>\n",
       "\n",
       "<text class=\"displacy-token\" fill=\"currentColor\" text-anchor=\"middle\" y=\"272.0\">\n",
       "    <tspan class=\"displacy-word\" fill=\"currentColor\" x=\"7340\">pela</tspan>\n",
       "    <tspan class=\"displacy-tag\" dy=\"2em\" fill=\"currentColor\" x=\"7340\">ADP</tspan>\n",
       "</text>\n",
       "\n",
       "<text class=\"displacy-token\" fill=\"currentColor\" text-anchor=\"middle\" y=\"272.0\">\n",
       "    <tspan class=\"displacy-word\" fill=\"currentColor\" x=\"7430\">United</tspan>\n",
       "    <tspan class=\"displacy-tag\" dy=\"2em\" fill=\"currentColor\" x=\"7430\">PROPN</tspan>\n",
       "</text>\n",
       "\n",
       "<text class=\"displacy-token\" fill=\"currentColor\" text-anchor=\"middle\" y=\"272.0\">\n",
       "    <tspan class=\"displacy-word\" fill=\"currentColor\" x=\"7520\">Airlines</tspan>\n",
       "    <tspan class=\"displacy-tag\" dy=\"2em\" fill=\"currentColor\" x=\"7520\">PROPN</tspan>\n",
       "</text>\n",
       "\n",
       "<text class=\"displacy-token\" fill=\"currentColor\" text-anchor=\"middle\" y=\"272.0\">\n",
       "    <tspan class=\"displacy-word\" fill=\"currentColor\" x=\"7610\">e</tspan>\n",
       "    <tspan class=\"displacy-tag\" dy=\"2em\" fill=\"currentColor\" x=\"7610\">CCONJ</tspan>\n",
       "</text>\n",
       "\n",
       "<text class=\"displacy-token\" fill=\"currentColor\" text-anchor=\"middle\" y=\"272.0\">\n",
       "    <tspan class=\"displacy-word\" fill=\"currentColor\" x=\"7700\">eu</tspan>\n",
       "    <tspan class=\"displacy-tag\" dy=\"2em\" fill=\"currentColor\" x=\"7700\">PRON</tspan>\n",
       "</text>\n",
       "\n",
       "<text class=\"displacy-token\" fill=\"currentColor\" text-anchor=\"middle\" y=\"272.0\">\n",
       "    <tspan class=\"displacy-word\" fill=\"currentColor\" x=\"7790\">não</tspan>\n",
       "    <tspan class=\"displacy-tag\" dy=\"2em\" fill=\"currentColor\" x=\"7790\">ADV</tspan>\n",
       "</text>\n",
       "\n",
       "<text class=\"displacy-token\" fill=\"currentColor\" text-anchor=\"middle\" y=\"272.0\">\n",
       "    <tspan class=\"displacy-word\" fill=\"currentColor\" x=\"7880\">viajei.</tspan>\n",
       "    <tspan class=\"displacy-tag\" dy=\"2em\" fill=\"currentColor\" x=\"7880\">VERB</tspan>\n",
       "</text>\n",
       "\n",
       "<text class=\"displacy-token\" fill=\"currentColor\" text-anchor=\"middle\" y=\"272.0\">\n",
       "    <tspan class=\"displacy-word\" fill=\"currentColor\" x=\"7970\">No</tspan>\n",
       "    <tspan class=\"displacy-tag\" dy=\"2em\" fill=\"currentColor\" x=\"7970\">ADP</tspan>\n",
       "</text>\n",
       "\n",
       "<text class=\"displacy-token\" fill=\"currentColor\" text-anchor=\"middle\" y=\"272.0\">\n",
       "    <tspan class=\"displacy-word\" fill=\"currentColor\" x=\"8060\">dia</tspan>\n",
       "    <tspan class=\"displacy-tag\" dy=\"2em\" fill=\"currentColor\" x=\"8060\">NOUN</tspan>\n",
       "</text>\n",
       "\n",
       "<text class=\"displacy-token\" fill=\"currentColor\" text-anchor=\"middle\" y=\"272.0\">\n",
       "    <tspan class=\"displacy-word\" fill=\"currentColor\" x=\"8150\">11</tspan>\n",
       "    <tspan class=\"displacy-tag\" dy=\"2em\" fill=\"currentColor\" x=\"8150\">NUM</tspan>\n",
       "</text>\n",
       "\n",
       "<text class=\"displacy-token\" fill=\"currentColor\" text-anchor=\"middle\" y=\"272.0\">\n",
       "    <tspan class=\"displacy-word\" fill=\"currentColor\" x=\"8240\">de</tspan>\n",
       "    <tspan class=\"displacy-tag\" dy=\"2em\" fill=\"currentColor\" x=\"8240\">ADP</tspan>\n",
       "</text>\n",
       "\n",
       "<text class=\"displacy-token\" fill=\"currentColor\" text-anchor=\"middle\" y=\"272.0\">\n",
       "    <tspan class=\"displacy-word\" fill=\"currentColor\" x=\"8330\">novembro</tspan>\n",
       "    <tspan class=\"displacy-tag\" dy=\"2em\" fill=\"currentColor\" x=\"8330\">NOUN</tspan>\n",
       "</text>\n",
       "\n",
       "<text class=\"displacy-token\" fill=\"currentColor\" text-anchor=\"middle\" y=\"272.0\">\n",
       "    <tspan class=\"displacy-word\" fill=\"currentColor\" x=\"8420\">de</tspan>\n",
       "    <tspan class=\"displacy-tag\" dy=\"2em\" fill=\"currentColor\" x=\"8420\">ADP</tspan>\n",
       "</text>\n",
       "\n",
       "<text class=\"displacy-token\" fill=\"currentColor\" text-anchor=\"middle\" y=\"272.0\">\n",
       "    <tspan class=\"displacy-word\" fill=\"currentColor\" x=\"8510\">2023,</tspan>\n",
       "    <tspan class=\"displacy-tag\" dy=\"2em\" fill=\"currentColor\" x=\"8510\">NUM</tspan>\n",
       "</text>\n",
       "\n",
       "<text class=\"displacy-token\" fill=\"currentColor\" text-anchor=\"middle\" y=\"272.0\">\n",
       "    <tspan class=\"displacy-word\" fill=\"currentColor\" x=\"8600\">eu</tspan>\n",
       "    <tspan class=\"displacy-tag\" dy=\"2em\" fill=\"currentColor\" x=\"8600\">PRON</tspan>\n",
       "</text>\n",
       "\n",
       "<text class=\"displacy-token\" fill=\"currentColor\" text-anchor=\"middle\" y=\"272.0\">\n",
       "    <tspan class=\"displacy-word\" fill=\"currentColor\" x=\"8690\">estive</tspan>\n",
       "    <tspan class=\"displacy-tag\" dy=\"2em\" fill=\"currentColor\" x=\"8690\">VERB</tspan>\n",
       "</text>\n",
       "\n",
       "<text class=\"displacy-token\" fill=\"currentColor\" text-anchor=\"middle\" y=\"272.0\">\n",
       "    <tspan class=\"displacy-word\" fill=\"currentColor\" x=\"8780\">no</tspan>\n",
       "    <tspan class=\"displacy-tag\" dy=\"2em\" fill=\"currentColor\" x=\"8780\">ADP</tspan>\n",
       "</text>\n",
       "\n",
       "<text class=\"displacy-token\" fill=\"currentColor\" text-anchor=\"middle\" y=\"272.0\">\n",
       "    <tspan class=\"displacy-word\" fill=\"currentColor\" x=\"8870\">show</tspan>\n",
       "    <tspan class=\"displacy-tag\" dy=\"2em\" fill=\"currentColor\" x=\"8870\">NOUN</tspan>\n",
       "</text>\n",
       "\n",
       "<text class=\"displacy-token\" fill=\"currentColor\" text-anchor=\"middle\" y=\"272.0\">\n",
       "    <tspan class=\"displacy-word\" fill=\"currentColor\" x=\"8960\">do</tspan>\n",
       "    <tspan class=\"displacy-tag\" dy=\"2em\" fill=\"currentColor\" x=\"8960\">ADP</tspan>\n",
       "</text>\n",
       "\n",
       "<text class=\"displacy-token\" fill=\"currentColor\" text-anchor=\"middle\" y=\"272.0\">\n",
       "    <tspan class=\"displacy-word\" fill=\"currentColor\" x=\"9050\">Roger</tspan>\n",
       "    <tspan class=\"displacy-tag\" dy=\"2em\" fill=\"currentColor\" x=\"9050\">PROPN</tspan>\n",
       "</text>\n",
       "\n",
       "<text class=\"displacy-token\" fill=\"currentColor\" text-anchor=\"middle\" y=\"272.0\">\n",
       "    <tspan class=\"displacy-word\" fill=\"currentColor\" x=\"9140\">Waters</tspan>\n",
       "    <tspan class=\"displacy-tag\" dy=\"2em\" fill=\"currentColor\" x=\"9140\">PROPN</tspan>\n",
       "</text>\n",
       "\n",
       "<text class=\"displacy-token\" fill=\"currentColor\" text-anchor=\"middle\" y=\"272.0\">\n",
       "    <tspan class=\"displacy-word\" fill=\"currentColor\" x=\"9230\">em</tspan>\n",
       "    <tspan class=\"displacy-tag\" dy=\"2em\" fill=\"currentColor\" x=\"9230\">ADP</tspan>\n",
       "</text>\n",
       "\n",
       "<text class=\"displacy-token\" fill=\"currentColor\" text-anchor=\"middle\" y=\"272.0\">\n",
       "    <tspan class=\"displacy-word\" fill=\"currentColor\" x=\"9320\">São</tspan>\n",
       "    <tspan class=\"displacy-tag\" dy=\"2em\" fill=\"currentColor\" x=\"9320\">PROPN</tspan>\n",
       "</text>\n",
       "\n",
       "<text class=\"displacy-token\" fill=\"currentColor\" text-anchor=\"middle\" y=\"272.0\">\n",
       "    <tspan class=\"displacy-word\" fill=\"currentColor\" x=\"9410\">Paulo.</tspan>\n",
       "    <tspan class=\"displacy-tag\" dy=\"2em\" fill=\"currentColor\" x=\"9410\">PROPN</tspan>\n",
       "</text>\n",
       "\n",
       "<text class=\"displacy-token\" fill=\"currentColor\" text-anchor=\"middle\" y=\"272.0\">\n",
       "    <tspan class=\"displacy-word\" fill=\"currentColor\" x=\"9500\">Sempre</tspan>\n",
       "    <tspan class=\"displacy-tag\" dy=\"2em\" fill=\"currentColor\" x=\"9500\">ADV</tspan>\n",
       "</text>\n",
       "\n",
       "<text class=\"displacy-token\" fill=\"currentColor\" text-anchor=\"middle\" y=\"272.0\">\n",
       "    <tspan class=\"displacy-word\" fill=\"currentColor\" x=\"9590\">que</tspan>\n",
       "    <tspan class=\"displacy-tag\" dy=\"2em\" fill=\"currentColor\" x=\"9590\">SCONJ</tspan>\n",
       "</text>\n",
       "\n",
       "<text class=\"displacy-token\" fill=\"currentColor\" text-anchor=\"middle\" y=\"272.0\">\n",
       "    <tspan class=\"displacy-word\" fill=\"currentColor\" x=\"9680\">visito</tspan>\n",
       "    <tspan class=\"displacy-tag\" dy=\"2em\" fill=\"currentColor\" x=\"9680\">VERB</tspan>\n",
       "</text>\n",
       "\n",
       "<text class=\"displacy-token\" fill=\"currentColor\" text-anchor=\"middle\" y=\"272.0\">\n",
       "    <tspan class=\"displacy-word\" fill=\"currentColor\" x=\"9770\">a</tspan>\n",
       "    <tspan class=\"displacy-tag\" dy=\"2em\" fill=\"currentColor\" x=\"9770\">DET</tspan>\n",
       "</text>\n",
       "\n",
       "<text class=\"displacy-token\" fill=\"currentColor\" text-anchor=\"middle\" y=\"272.0\">\n",
       "    <tspan class=\"displacy-word\" fill=\"currentColor\" x=\"9860\">cidade,</tspan>\n",
       "    <tspan class=\"displacy-tag\" dy=\"2em\" fill=\"currentColor\" x=\"9860\">NOUN</tspan>\n",
       "</text>\n",
       "\n",
       "<text class=\"displacy-token\" fill=\"currentColor\" text-anchor=\"middle\" y=\"272.0\">\n",
       "    <tspan class=\"displacy-word\" fill=\"currentColor\" x=\"9950\">eu</tspan>\n",
       "    <tspan class=\"displacy-tag\" dy=\"2em\" fill=\"currentColor\" x=\"9950\">PRON</tspan>\n",
       "</text>\n",
       "\n",
       "<text class=\"displacy-token\" fill=\"currentColor\" text-anchor=\"middle\" y=\"272.0\">\n",
       "    <tspan class=\"displacy-word\" fill=\"currentColor\" x=\"10040\">dou</tspan>\n",
       "    <tspan class=\"displacy-tag\" dy=\"2em\" fill=\"currentColor\" x=\"10040\">VERB</tspan>\n",
       "</text>\n",
       "\n",
       "<text class=\"displacy-token\" fill=\"currentColor\" text-anchor=\"middle\" y=\"272.0\">\n",
       "    <tspan class=\"displacy-word\" fill=\"currentColor\" x=\"10130\">uma</tspan>\n",
       "    <tspan class=\"displacy-tag\" dy=\"2em\" fill=\"currentColor\" x=\"10130\">DET</tspan>\n",
       "</text>\n",
       "\n",
       "<text class=\"displacy-token\" fill=\"currentColor\" text-anchor=\"middle\" y=\"272.0\">\n",
       "    <tspan class=\"displacy-word\" fill=\"currentColor\" x=\"10220\">passada</tspan>\n",
       "    <tspan class=\"displacy-tag\" dy=\"2em\" fill=\"currentColor\" x=\"10220\">ADJ</tspan>\n",
       "</text>\n",
       "\n",
       "<text class=\"displacy-token\" fill=\"currentColor\" text-anchor=\"middle\" y=\"272.0\">\n",
       "    <tspan class=\"displacy-word\" fill=\"currentColor\" x=\"10310\">no</tspan>\n",
       "    <tspan class=\"displacy-tag\" dy=\"2em\" fill=\"currentColor\" x=\"10310\">ADP</tspan>\n",
       "</text>\n",
       "\n",
       "<text class=\"displacy-token\" fill=\"currentColor\" text-anchor=\"middle\" y=\"272.0\">\n",
       "    <tspan class=\"displacy-word\" fill=\"currentColor\" x=\"10400\">Kidoairaku,</tspan>\n",
       "    <tspan class=\"displacy-tag\" dy=\"2em\" fill=\"currentColor\" x=\"10400\">PROPN</tspan>\n",
       "</text>\n",
       "\n",
       "<text class=\"displacy-token\" fill=\"currentColor\" text-anchor=\"middle\" y=\"272.0\">\n",
       "    <tspan class=\"displacy-word\" fill=\"currentColor\" x=\"10490\">meu</tspan>\n",
       "    <tspan class=\"displacy-tag\" dy=\"2em\" fill=\"currentColor\" x=\"10490\">DET</tspan>\n",
       "</text>\n",
       "\n",
       "<text class=\"displacy-token\" fill=\"currentColor\" text-anchor=\"middle\" y=\"272.0\">\n",
       "    <tspan class=\"displacy-word\" fill=\"currentColor\" x=\"10580\">restaurante</tspan>\n",
       "    <tspan class=\"displacy-tag\" dy=\"2em\" fill=\"currentColor\" x=\"10580\">NOUN</tspan>\n",
       "</text>\n",
       "\n",
       "<text class=\"displacy-token\" fill=\"currentColor\" text-anchor=\"middle\" y=\"272.0\">\n",
       "    <tspan class=\"displacy-word\" fill=\"currentColor\" x=\"10670\">japonês</tspan>\n",
       "    <tspan class=\"displacy-tag\" dy=\"2em\" fill=\"currentColor\" x=\"10670\">ADJ</tspan>\n",
       "</text>\n",
       "\n",
       "<text class=\"displacy-token\" fill=\"currentColor\" text-anchor=\"middle\" y=\"272.0\">\n",
       "    <tspan class=\"displacy-word\" fill=\"currentColor\" x=\"10760\">favorito</tspan>\n",
       "    <tspan class=\"displacy-tag\" dy=\"2em\" fill=\"currentColor\" x=\"10760\">ADJ</tspan>\n",
       "</text>\n",
       "\n",
       "<text class=\"displacy-token\" fill=\"currentColor\" text-anchor=\"middle\" y=\"272.0\">\n",
       "    <tspan class=\"displacy-word\" fill=\"currentColor\" x=\"10850\">lá.</tspan>\n",
       "    <tspan class=\"displacy-tag\" dy=\"2em\" fill=\"currentColor\" x=\"10850\">ADV</tspan>\n",
       "</text>\n",
       "\n",
       "<g class=\"displacy-arrow\">\n",
       "    <path class=\"displacy-arc\" id=\"arrow-ee22f8d74ee7474db5c46468bd908d84-0-0\" stroke-width=\"2px\" d=\"M70,227.0 C70,182.0 120.0,182.0 120.0,227.0\" fill=\"none\" stroke=\"currentColor\"/>\n",
       "    <text dy=\"1.25em\" style=\"font-size: 0.8em; letter-spacing: 1px\">\n",
       "        <textPath xlink:href=\"#arrow-ee22f8d74ee7474db5c46468bd908d84-0-0\" class=\"displacy-label\" startOffset=\"50%\" side=\"left\" fill=\"currentColor\" text-anchor=\"middle\">det</textPath>\n",
       "    </text>\n",
       "    <path class=\"displacy-arrowhead\" d=\"M70,229.0 L62,217.0 78,217.0\" fill=\"currentColor\"/>\n",
       "</g>\n",
       "\n",
       "<g class=\"displacy-arrow\">\n",
       "    <path class=\"displacy-arc\" id=\"arrow-ee22f8d74ee7474db5c46468bd908d84-0-1\" stroke-width=\"2px\" d=\"M160,227.0 C160,137.0 305.0,137.0 305.0,227.0\" fill=\"none\" stroke=\"currentColor\"/>\n",
       "    <text dy=\"1.25em\" style=\"font-size: 0.8em; letter-spacing: 1px\">\n",
       "        <textPath xlink:href=\"#arrow-ee22f8d74ee7474db5c46468bd908d84-0-1\" class=\"displacy-label\" startOffset=\"50%\" side=\"left\" fill=\"currentColor\" text-anchor=\"middle\">nsubj</textPath>\n",
       "    </text>\n",
       "    <path class=\"displacy-arrowhead\" d=\"M160,229.0 L152,217.0 168,217.0\" fill=\"currentColor\"/>\n",
       "</g>\n",
       "\n",
       "<g class=\"displacy-arrow\">\n",
       "    <path class=\"displacy-arc\" id=\"arrow-ee22f8d74ee7474db5c46468bd908d84-0-2\" stroke-width=\"2px\" d=\"M250,227.0 C250,182.0 300.0,182.0 300.0,227.0\" fill=\"none\" stroke=\"currentColor\"/>\n",
       "    <text dy=\"1.25em\" style=\"font-size: 0.8em; letter-spacing: 1px\">\n",
       "        <textPath xlink:href=\"#arrow-ee22f8d74ee7474db5c46468bd908d84-0-2\" class=\"displacy-label\" startOffset=\"50%\" side=\"left\" fill=\"currentColor\" text-anchor=\"middle\">cop</textPath>\n",
       "    </text>\n",
       "    <path class=\"displacy-arrowhead\" d=\"M250,229.0 L242,217.0 258,217.0\" fill=\"currentColor\"/>\n",
       "</g>\n",
       "\n",
       "<g class=\"displacy-arrow\">\n",
       "    <path class=\"displacy-arc\" id=\"arrow-ee22f8d74ee7474db5c46468bd908d84-0-3\" stroke-width=\"2px\" d=\"M340,227.0 C340,182.0 390.0,182.0 390.0,227.0\" fill=\"none\" stroke=\"currentColor\"/>\n",
       "    <text dy=\"1.25em\" style=\"font-size: 0.8em; letter-spacing: 1px\">\n",
       "        <textPath xlink:href=\"#arrow-ee22f8d74ee7474db5c46468bd908d84-0-3\" class=\"displacy-label\" startOffset=\"50%\" side=\"left\" fill=\"currentColor\" text-anchor=\"middle\">flat:name</textPath>\n",
       "    </text>\n",
       "    <path class=\"displacy-arrowhead\" d=\"M390.0,229.0 L398.0,217.0 382.0,217.0\" fill=\"currentColor\"/>\n",
       "</g>\n",
       "\n",
       "<g class=\"displacy-arrow\">\n",
       "    <path class=\"displacy-arc\" id=\"arrow-ee22f8d74ee7474db5c46468bd908d84-0-4\" stroke-width=\"2px\" d=\"M520,227.0 C520,182.0 570.0,182.0 570.0,227.0\" fill=\"none\" stroke=\"currentColor\"/>\n",
       "    <text dy=\"1.25em\" style=\"font-size: 0.8em; letter-spacing: 1px\">\n",
       "        <textPath xlink:href=\"#arrow-ee22f8d74ee7474db5c46468bd908d84-0-4\" class=\"displacy-label\" startOffset=\"50%\" side=\"left\" fill=\"currentColor\" text-anchor=\"middle\">cc</textPath>\n",
       "    </text>\n",
       "    <path class=\"displacy-arrowhead\" d=\"M520,229.0 L512,217.0 528,217.0\" fill=\"currentColor\"/>\n",
       "</g>\n",
       "\n",
       "<g class=\"displacy-arrow\">\n",
       "    <path class=\"displacy-arc\" id=\"arrow-ee22f8d74ee7474db5c46468bd908d84-0-5\" stroke-width=\"2px\" d=\"M610,227.0 C610,182.0 660.0,182.0 660.0,227.0\" fill=\"none\" stroke=\"currentColor\"/>\n",
       "    <text dy=\"1.25em\" style=\"font-size: 0.8em; letter-spacing: 1px\">\n",
       "        <textPath xlink:href=\"#arrow-ee22f8d74ee7474db5c46468bd908d84-0-5\" class=\"displacy-label\" startOffset=\"50%\" side=\"left\" fill=\"currentColor\" text-anchor=\"middle\">nsubj</textPath>\n",
       "    </text>\n",
       "    <path class=\"displacy-arrowhead\" d=\"M610,229.0 L602,217.0 618,217.0\" fill=\"currentColor\"/>\n",
       "</g>\n",
       "\n",
       "<g class=\"displacy-arrow\">\n",
       "    <path class=\"displacy-arc\" id=\"arrow-ee22f8d74ee7474db5c46468bd908d84-0-6\" stroke-width=\"2px\" d=\"M340,227.0 C340,137.0 665.0,137.0 665.0,227.0\" fill=\"none\" stroke=\"currentColor\"/>\n",
       "    <text dy=\"1.25em\" style=\"font-size: 0.8em; letter-spacing: 1px\">\n",
       "        <textPath xlink:href=\"#arrow-ee22f8d74ee7474db5c46468bd908d84-0-6\" class=\"displacy-label\" startOffset=\"50%\" side=\"left\" fill=\"currentColor\" text-anchor=\"middle\">acl</textPath>\n",
       "    </text>\n",
       "    <path class=\"displacy-arrowhead\" d=\"M665.0,229.0 L673.0,217.0 657.0,217.0\" fill=\"currentColor\"/>\n",
       "</g>\n",
       "\n",
       "<g class=\"displacy-arrow\">\n",
       "    <path class=\"displacy-arc\" id=\"arrow-ee22f8d74ee7474db5c46468bd908d84-0-7\" stroke-width=\"2px\" d=\"M790,227.0 C790,182.0 840.0,182.0 840.0,227.0\" fill=\"none\" stroke=\"currentColor\"/>\n",
       "    <text dy=\"1.25em\" style=\"font-size: 0.8em; letter-spacing: 1px\">\n",
       "        <textPath xlink:href=\"#arrow-ee22f8d74ee7474db5c46468bd908d84-0-7\" class=\"displacy-label\" startOffset=\"50%\" side=\"left\" fill=\"currentColor\" text-anchor=\"middle\">case</textPath>\n",
       "    </text>\n",
       "    <path class=\"displacy-arrowhead\" d=\"M790,229.0 L782,217.0 798,217.0\" fill=\"currentColor\"/>\n",
       "</g>\n",
       "\n",
       "<g class=\"displacy-arrow\">\n",
       "    <path class=\"displacy-arc\" id=\"arrow-ee22f8d74ee7474db5c46468bd908d84-0-8\" stroke-width=\"2px\" d=\"M700,227.0 C700,137.0 845.0,137.0 845.0,227.0\" fill=\"none\" stroke=\"currentColor\"/>\n",
       "    <text dy=\"1.25em\" style=\"font-size: 0.8em; letter-spacing: 1px\">\n",
       "        <textPath xlink:href=\"#arrow-ee22f8d74ee7474db5c46468bd908d84-0-8\" class=\"displacy-label\" startOffset=\"50%\" side=\"left\" fill=\"currentColor\" text-anchor=\"middle\">obl</textPath>\n",
       "    </text>\n",
       "    <path class=\"displacy-arrowhead\" d=\"M845.0,229.0 L853.0,217.0 837.0,217.0\" fill=\"currentColor\"/>\n",
       "</g>\n",
       "\n",
       "<g class=\"displacy-arrow\">\n",
       "    <path class=\"displacy-arc\" id=\"arrow-ee22f8d74ee7474db5c46468bd908d84-0-9\" stroke-width=\"2px\" d=\"M880,227.0 C880,182.0 930.0,182.0 930.0,227.0\" fill=\"none\" stroke=\"currentColor\"/>\n",
       "    <text dy=\"1.25em\" style=\"font-size: 0.8em; letter-spacing: 1px\">\n",
       "        <textPath xlink:href=\"#arrow-ee22f8d74ee7474db5c46468bd908d84-0-9\" class=\"displacy-label\" startOffset=\"50%\" side=\"left\" fill=\"currentColor\" text-anchor=\"middle\">conj</textPath>\n",
       "    </text>\n",
       "    <path class=\"displacy-arrowhead\" d=\"M930.0,229.0 L938.0,217.0 922.0,217.0\" fill=\"currentColor\"/>\n",
       "</g>\n",
       "\n",
       "<g class=\"displacy-arrow\">\n",
       "    <path class=\"displacy-arc\" id=\"arrow-ee22f8d74ee7474db5c46468bd908d84-0-10\" stroke-width=\"2px\" d=\"M970,227.0 C970,182.0 1020.0,182.0 1020.0,227.0\" fill=\"none\" stroke=\"currentColor\"/>\n",
       "    <text dy=\"1.25em\" style=\"font-size: 0.8em; letter-spacing: 1px\">\n",
       "        <textPath xlink:href=\"#arrow-ee22f8d74ee7474db5c46468bd908d84-0-10\" class=\"displacy-label\" startOffset=\"50%\" side=\"left\" fill=\"currentColor\" text-anchor=\"middle\">flat:name</textPath>\n",
       "    </text>\n",
       "    <path class=\"displacy-arrowhead\" d=\"M1020.0,229.0 L1028.0,217.0 1012.0,217.0\" fill=\"currentColor\"/>\n",
       "</g>\n",
       "\n",
       "<g class=\"displacy-arrow\">\n",
       "    <path class=\"displacy-arc\" id=\"arrow-ee22f8d74ee7474db5c46468bd908d84-0-11\" stroke-width=\"2px\" d=\"M1150,227.0 C1150,182.0 1200.0,182.0 1200.0,227.0\" fill=\"none\" stroke=\"currentColor\"/>\n",
       "    <text dy=\"1.25em\" style=\"font-size: 0.8em; letter-spacing: 1px\">\n",
       "        <textPath xlink:href=\"#arrow-ee22f8d74ee7474db5c46468bd908d84-0-11\" class=\"displacy-label\" startOffset=\"50%\" side=\"left\" fill=\"currentColor\" text-anchor=\"middle\">case</textPath>\n",
       "    </text>\n",
       "    <path class=\"displacy-arrowhead\" d=\"M1150,229.0 L1142,217.0 1158,217.0\" fill=\"currentColor\"/>\n",
       "</g>\n",
       "\n",
       "<g class=\"displacy-arrow\">\n",
       "    <path class=\"displacy-arc\" id=\"arrow-ee22f8d74ee7474db5c46468bd908d84-0-12\" stroke-width=\"2px\" d=\"M970,227.0 C970,137.0 1205.0,137.0 1205.0,227.0\" fill=\"none\" stroke=\"currentColor\"/>\n",
       "    <text dy=\"1.25em\" style=\"font-size: 0.8em; letter-spacing: 1px\">\n",
       "        <textPath xlink:href=\"#arrow-ee22f8d74ee7474db5c46468bd908d84-0-12\" class=\"displacy-label\" startOffset=\"50%\" side=\"left\" fill=\"currentColor\" text-anchor=\"middle\">nmod</textPath>\n",
       "    </text>\n",
       "    <path class=\"displacy-arrowhead\" d=\"M1205.0,229.0 L1213.0,217.0 1197.0,217.0\" fill=\"currentColor\"/>\n",
       "</g>\n",
       "\n",
       "<g class=\"displacy-arrow\">\n",
       "    <path class=\"displacy-arc\" id=\"arrow-ee22f8d74ee7474db5c46468bd908d84-0-13\" stroke-width=\"2px\" d=\"M1330,227.0 C1330,182.0 1380.0,182.0 1380.0,227.0\" fill=\"none\" stroke=\"currentColor\"/>\n",
       "    <text dy=\"1.25em\" style=\"font-size: 0.8em; letter-spacing: 1px\">\n",
       "        <textPath xlink:href=\"#arrow-ee22f8d74ee7474db5c46468bd908d84-0-13\" class=\"displacy-label\" startOffset=\"50%\" side=\"left\" fill=\"currentColor\" text-anchor=\"middle\">det</textPath>\n",
       "    </text>\n",
       "    <path class=\"displacy-arrowhead\" d=\"M1330,229.0 L1322,217.0 1338,217.0\" fill=\"currentColor\"/>\n",
       "</g>\n",
       "\n",
       "<g class=\"displacy-arrow\">\n",
       "    <path class=\"displacy-arc\" id=\"arrow-ee22f8d74ee7474db5c46468bd908d84-0-14\" stroke-width=\"2px\" d=\"M1510,227.0 C1510,182.0 1560.0,182.0 1560.0,227.0\" fill=\"none\" stroke=\"currentColor\"/>\n",
       "    <text dy=\"1.25em\" style=\"font-size: 0.8em; letter-spacing: 1px\">\n",
       "        <textPath xlink:href=\"#arrow-ee22f8d74ee7474db5c46468bd908d84-0-14\" class=\"displacy-label\" startOffset=\"50%\" side=\"left\" fill=\"currentColor\" text-anchor=\"middle\">case</textPath>\n",
       "    </text>\n",
       "    <path class=\"displacy-arrowhead\" d=\"M1510,229.0 L1502,217.0 1518,217.0\" fill=\"currentColor\"/>\n",
       "</g>\n",
       "\n",
       "<g class=\"displacy-arrow\">\n",
       "    <path class=\"displacy-arc\" id=\"arrow-ee22f8d74ee7474db5c46468bd908d84-0-15\" stroke-width=\"2px\" d=\"M1420,227.0 C1420,137.0 1565.0,137.0 1565.0,227.0\" fill=\"none\" stroke=\"currentColor\"/>\n",
       "    <text dy=\"1.25em\" style=\"font-size: 0.8em; letter-spacing: 1px\">\n",
       "        <textPath xlink:href=\"#arrow-ee22f8d74ee7474db5c46468bd908d84-0-15\" class=\"displacy-label\" startOffset=\"50%\" side=\"left\" fill=\"currentColor\" text-anchor=\"middle\">nmod</textPath>\n",
       "    </text>\n",
       "    <path class=\"displacy-arrowhead\" d=\"M1565.0,229.0 L1573.0,217.0 1557.0,217.0\" fill=\"currentColor\"/>\n",
       "</g>\n",
       "\n",
       "<g class=\"displacy-arrow\">\n",
       "    <path class=\"displacy-arc\" id=\"arrow-ee22f8d74ee7474db5c46468bd908d84-0-16\" stroke-width=\"2px\" d=\"M1600,227.0 C1600,182.0 1650.0,182.0 1650.0,227.0\" fill=\"none\" stroke=\"currentColor\"/>\n",
       "    <text dy=\"1.25em\" style=\"font-size: 0.8em; letter-spacing: 1px\">\n",
       "        <textPath xlink:href=\"#arrow-ee22f8d74ee7474db5c46468bd908d84-0-16\" class=\"displacy-label\" startOffset=\"50%\" side=\"left\" fill=\"currentColor\" text-anchor=\"middle\">flat:name</textPath>\n",
       "    </text>\n",
       "    <path class=\"displacy-arrowhead\" d=\"M1650.0,229.0 L1658.0,217.0 1642.0,217.0\" fill=\"currentColor\"/>\n",
       "</g>\n",
       "\n",
       "<g class=\"displacy-arrow\">\n",
       "    <path class=\"displacy-arc\" id=\"arrow-ee22f8d74ee7474db5c46468bd908d84-0-17\" stroke-width=\"2px\" d=\"M1600,227.0 C1600,137.0 1745.0,137.0 1745.0,227.0\" fill=\"none\" stroke=\"currentColor\"/>\n",
       "    <text dy=\"1.25em\" style=\"font-size: 0.8em; letter-spacing: 1px\">\n",
       "        <textPath xlink:href=\"#arrow-ee22f8d74ee7474db5c46468bd908d84-0-17\" class=\"displacy-label\" startOffset=\"50%\" side=\"left\" fill=\"currentColor\" text-anchor=\"middle\">flat:name</textPath>\n",
       "    </text>\n",
       "    <path class=\"displacy-arrowhead\" d=\"M1745.0,229.0 L1753.0,217.0 1737.0,217.0\" fill=\"currentColor\"/>\n",
       "</g>\n",
       "\n",
       "<g class=\"displacy-arrow\">\n",
       "    <path class=\"displacy-arc\" id=\"arrow-ee22f8d74ee7474db5c46468bd908d84-0-18\" stroke-width=\"2px\" d=\"M1870,227.0 C1870,92.0 2110.0,92.0 2110.0,227.0\" fill=\"none\" stroke=\"currentColor\"/>\n",
       "    <text dy=\"1.25em\" style=\"font-size: 0.8em; letter-spacing: 1px\">\n",
       "        <textPath xlink:href=\"#arrow-ee22f8d74ee7474db5c46468bd908d84-0-18\" class=\"displacy-label\" startOffset=\"50%\" side=\"left\" fill=\"currentColor\" text-anchor=\"middle\">nsubj</textPath>\n",
       "    </text>\n",
       "    <path class=\"displacy-arrowhead\" d=\"M1870,229.0 L1862,217.0 1878,217.0\" fill=\"currentColor\"/>\n",
       "</g>\n",
       "\n",
       "<g class=\"displacy-arrow\">\n",
       "    <path class=\"displacy-arc\" id=\"arrow-ee22f8d74ee7474db5c46468bd908d84-0-19\" stroke-width=\"2px\" d=\"M1960,227.0 C1960,137.0 2105.0,137.0 2105.0,227.0\" fill=\"none\" stroke=\"currentColor\"/>\n",
       "    <text dy=\"1.25em\" style=\"font-size: 0.8em; letter-spacing: 1px\">\n",
       "        <textPath xlink:href=\"#arrow-ee22f8d74ee7474db5c46468bd908d84-0-19\" class=\"displacy-label\" startOffset=\"50%\" side=\"left\" fill=\"currentColor\" text-anchor=\"middle\">cop</textPath>\n",
       "    </text>\n",
       "    <path class=\"displacy-arrowhead\" d=\"M1960,229.0 L1952,217.0 1968,217.0\" fill=\"currentColor\"/>\n",
       "</g>\n",
       "\n",
       "<g class=\"displacy-arrow\">\n",
       "    <path class=\"displacy-arc\" id=\"arrow-ee22f8d74ee7474db5c46468bd908d84-0-20\" stroke-width=\"2px\" d=\"M2050,227.0 C2050,182.0 2100.0,182.0 2100.0,227.0\" fill=\"none\" stroke=\"currentColor\"/>\n",
       "    <text dy=\"1.25em\" style=\"font-size: 0.8em; letter-spacing: 1px\">\n",
       "        <textPath xlink:href=\"#arrow-ee22f8d74ee7474db5c46468bd908d84-0-20\" class=\"displacy-label\" startOffset=\"50%\" side=\"left\" fill=\"currentColor\" text-anchor=\"middle\">det</textPath>\n",
       "    </text>\n",
       "    <path class=\"displacy-arrowhead\" d=\"M2050,229.0 L2042,217.0 2058,217.0\" fill=\"currentColor\"/>\n",
       "</g>\n",
       "\n",
       "<g class=\"displacy-arrow\">\n",
       "    <path class=\"displacy-arc\" id=\"arrow-ee22f8d74ee7474db5c46468bd908d84-0-21\" stroke-width=\"2px\" d=\"M1600,227.0 C1600,47.0 2115.0,47.0 2115.0,227.0\" fill=\"none\" stroke=\"currentColor\"/>\n",
       "    <text dy=\"1.25em\" style=\"font-size: 0.8em; letter-spacing: 1px\">\n",
       "        <textPath xlink:href=\"#arrow-ee22f8d74ee7474db5c46468bd908d84-0-21\" class=\"displacy-label\" startOffset=\"50%\" side=\"left\" fill=\"currentColor\" text-anchor=\"middle\">acl:relcl</textPath>\n",
       "    </text>\n",
       "    <path class=\"displacy-arrowhead\" d=\"M2115.0,229.0 L2123.0,217.0 2107.0,217.0\" fill=\"currentColor\"/>\n",
       "</g>\n",
       "\n",
       "<g class=\"displacy-arrow\">\n",
       "    <path class=\"displacy-arc\" id=\"arrow-ee22f8d74ee7474db5c46468bd908d84-0-22\" stroke-width=\"2px\" d=\"M2230,227.0 C2230,182.0 2280.0,182.0 2280.0,227.0\" fill=\"none\" stroke=\"currentColor\"/>\n",
       "    <text dy=\"1.25em\" style=\"font-size: 0.8em; letter-spacing: 1px\">\n",
       "        <textPath xlink:href=\"#arrow-ee22f8d74ee7474db5c46468bd908d84-0-22\" class=\"displacy-label\" startOffset=\"50%\" side=\"left\" fill=\"currentColor\" text-anchor=\"middle\">advmod</textPath>\n",
       "    </text>\n",
       "    <path class=\"displacy-arrowhead\" d=\"M2230,229.0 L2222,217.0 2238,217.0\" fill=\"currentColor\"/>\n",
       "</g>\n",
       "\n",
       "<g class=\"displacy-arrow\">\n",
       "    <path class=\"displacy-arc\" id=\"arrow-ee22f8d74ee7474db5c46468bd908d84-0-23\" stroke-width=\"2px\" d=\"M2140,227.0 C2140,137.0 2285.0,137.0 2285.0,227.0\" fill=\"none\" stroke=\"currentColor\"/>\n",
       "    <text dy=\"1.25em\" style=\"font-size: 0.8em; letter-spacing: 1px\">\n",
       "        <textPath xlink:href=\"#arrow-ee22f8d74ee7474db5c46468bd908d84-0-23\" class=\"displacy-label\" startOffset=\"50%\" side=\"left\" fill=\"currentColor\" text-anchor=\"middle\">amod</textPath>\n",
       "    </text>\n",
       "    <path class=\"displacy-arrowhead\" d=\"M2285.0,229.0 L2293.0,217.0 2277.0,217.0\" fill=\"currentColor\"/>\n",
       "</g>\n",
       "\n",
       "<g class=\"displacy-arrow\">\n",
       "    <path class=\"displacy-arc\" id=\"arrow-ee22f8d74ee7474db5c46468bd908d84-0-24\" stroke-width=\"2px\" d=\"M2410,227.0 C2410,182.0 2460.0,182.0 2460.0,227.0\" fill=\"none\" stroke=\"currentColor\"/>\n",
       "    <text dy=\"1.25em\" style=\"font-size: 0.8em; letter-spacing: 1px\">\n",
       "        <textPath xlink:href=\"#arrow-ee22f8d74ee7474db5c46468bd908d84-0-24\" class=\"displacy-label\" startOffset=\"50%\" side=\"left\" fill=\"currentColor\" text-anchor=\"middle\">case</textPath>\n",
       "    </text>\n",
       "    <path class=\"displacy-arrowhead\" d=\"M2410,229.0 L2402,217.0 2418,217.0\" fill=\"currentColor\"/>\n",
       "</g>\n",
       "\n",
       "<g class=\"displacy-arrow\">\n",
       "    <path class=\"displacy-arc\" id=\"arrow-ee22f8d74ee7474db5c46468bd908d84-0-25\" stroke-width=\"2px\" d=\"M2140,227.0 C2140,92.0 2470.0,92.0 2470.0,227.0\" fill=\"none\" stroke=\"currentColor\"/>\n",
       "    <text dy=\"1.25em\" style=\"font-size: 0.8em; letter-spacing: 1px\">\n",
       "        <textPath xlink:href=\"#arrow-ee22f8d74ee7474db5c46468bd908d84-0-25\" class=\"displacy-label\" startOffset=\"50%\" side=\"left\" fill=\"currentColor\" text-anchor=\"middle\">nmod</textPath>\n",
       "    </text>\n",
       "    <path class=\"displacy-arrowhead\" d=\"M2470.0,229.0 L2478.0,217.0 2462.0,217.0\" fill=\"currentColor\"/>\n",
       "</g>\n",
       "\n",
       "<g class=\"displacy-arrow\">\n",
       "    <path class=\"displacy-arc\" id=\"arrow-ee22f8d74ee7474db5c46468bd908d84-0-26\" stroke-width=\"2px\" d=\"M2590,227.0 C2590,182.0 2640.0,182.0 2640.0,227.0\" fill=\"none\" stroke=\"currentColor\"/>\n",
       "    <text dy=\"1.25em\" style=\"font-size: 0.8em; letter-spacing: 1px\">\n",
       "        <textPath xlink:href=\"#arrow-ee22f8d74ee7474db5c46468bd908d84-0-26\" class=\"displacy-label\" startOffset=\"50%\" side=\"left\" fill=\"currentColor\" text-anchor=\"middle\">case</textPath>\n",
       "    </text>\n",
       "    <path class=\"displacy-arrowhead\" d=\"M2590,229.0 L2582,217.0 2598,217.0\" fill=\"currentColor\"/>\n",
       "</g>\n",
       "\n",
       "<g class=\"displacy-arrow\">\n",
       "    <path class=\"displacy-arc\" id=\"arrow-ee22f8d74ee7474db5c46468bd908d84-0-27\" stroke-width=\"2px\" d=\"M2680,227.0 C2680,92.0 2920.0,92.0 2920.0,227.0\" fill=\"none\" stroke=\"currentColor\"/>\n",
       "    <text dy=\"1.25em\" style=\"font-size: 0.8em; letter-spacing: 1px\">\n",
       "        <textPath xlink:href=\"#arrow-ee22f8d74ee7474db5c46468bd908d84-0-27\" class=\"displacy-label\" startOffset=\"50%\" side=\"left\" fill=\"currentColor\" text-anchor=\"middle\">nmod</textPath>\n",
       "    </text>\n",
       "    <path class=\"displacy-arrowhead\" d=\"M2680,229.0 L2672,217.0 2688,217.0\" fill=\"currentColor\"/>\n",
       "</g>\n",
       "\n",
       "<g class=\"displacy-arrow\">\n",
       "    <path class=\"displacy-arc\" id=\"arrow-ee22f8d74ee7474db5c46468bd908d84-0-28\" stroke-width=\"2px\" d=\"M2770,227.0 C2770,137.0 2915.0,137.0 2915.0,227.0\" fill=\"none\" stroke=\"currentColor\"/>\n",
       "    <text dy=\"1.25em\" style=\"font-size: 0.8em; letter-spacing: 1px\">\n",
       "        <textPath xlink:href=\"#arrow-ee22f8d74ee7474db5c46468bd908d84-0-28\" class=\"displacy-label\" startOffset=\"50%\" side=\"left\" fill=\"currentColor\" text-anchor=\"middle\">nsubj</textPath>\n",
       "    </text>\n",
       "    <path class=\"displacy-arrowhead\" d=\"M2770,229.0 L2762,217.0 2778,217.0\" fill=\"currentColor\"/>\n",
       "</g>\n",
       "\n",
       "<g class=\"displacy-arrow\">\n",
       "    <path class=\"displacy-arc\" id=\"arrow-ee22f8d74ee7474db5c46468bd908d84-0-29\" stroke-width=\"2px\" d=\"M2860,227.0 C2860,182.0 2910.0,182.0 2910.0,227.0\" fill=\"none\" stroke=\"currentColor\"/>\n",
       "    <text dy=\"1.25em\" style=\"font-size: 0.8em; letter-spacing: 1px\">\n",
       "        <textPath xlink:href=\"#arrow-ee22f8d74ee7474db5c46468bd908d84-0-29\" class=\"displacy-label\" startOffset=\"50%\" side=\"left\" fill=\"currentColor\" text-anchor=\"middle\">advmod</textPath>\n",
       "    </text>\n",
       "    <path class=\"displacy-arrowhead\" d=\"M2860,229.0 L2852,217.0 2868,217.0\" fill=\"currentColor\"/>\n",
       "</g>\n",
       "\n",
       "<g class=\"displacy-arrow\">\n",
       "    <path class=\"displacy-arc\" id=\"arrow-ee22f8d74ee7474db5c46468bd908d84-0-30\" stroke-width=\"2px\" d=\"M3040,227.0 C3040,182.0 3090.0,182.0 3090.0,227.0\" fill=\"none\" stroke=\"currentColor\"/>\n",
       "    <text dy=\"1.25em\" style=\"font-size: 0.8em; letter-spacing: 1px\">\n",
       "        <textPath xlink:href=\"#arrow-ee22f8d74ee7474db5c46468bd908d84-0-30\" class=\"displacy-label\" startOffset=\"50%\" side=\"left\" fill=\"currentColor\" text-anchor=\"middle\">case</textPath>\n",
       "    </text>\n",
       "    <path class=\"displacy-arrowhead\" d=\"M3040,229.0 L3032,217.0 3048,217.0\" fill=\"currentColor\"/>\n",
       "</g>\n",
       "\n",
       "<g class=\"displacy-arrow\">\n",
       "    <path class=\"displacy-arc\" id=\"arrow-ee22f8d74ee7474db5c46468bd908d84-0-31\" stroke-width=\"2px\" d=\"M2950,227.0 C2950,137.0 3095.0,137.0 3095.0,227.0\" fill=\"none\" stroke=\"currentColor\"/>\n",
       "    <text dy=\"1.25em\" style=\"font-size: 0.8em; letter-spacing: 1px\">\n",
       "        <textPath xlink:href=\"#arrow-ee22f8d74ee7474db5c46468bd908d84-0-31\" class=\"displacy-label\" startOffset=\"50%\" side=\"left\" fill=\"currentColor\" text-anchor=\"middle\">nmod</textPath>\n",
       "    </text>\n",
       "    <path class=\"displacy-arrowhead\" d=\"M3095.0,229.0 L3103.0,217.0 3087.0,217.0\" fill=\"currentColor\"/>\n",
       "</g>\n",
       "\n",
       "<g class=\"displacy-arrow\">\n",
       "    <path class=\"displacy-arc\" id=\"arrow-ee22f8d74ee7474db5c46468bd908d84-0-32\" stroke-width=\"2px\" d=\"M3220,227.0 C3220,182.0 3270.0,182.0 3270.0,227.0\" fill=\"none\" stroke=\"currentColor\"/>\n",
       "    <text dy=\"1.25em\" style=\"font-size: 0.8em; letter-spacing: 1px\">\n",
       "        <textPath xlink:href=\"#arrow-ee22f8d74ee7474db5c46468bd908d84-0-32\" class=\"displacy-label\" startOffset=\"50%\" side=\"left\" fill=\"currentColor\" text-anchor=\"middle\">case</textPath>\n",
       "    </text>\n",
       "    <path class=\"displacy-arrowhead\" d=\"M3220,229.0 L3212,217.0 3228,217.0\" fill=\"currentColor\"/>\n",
       "</g>\n",
       "\n",
       "<g class=\"displacy-arrow\">\n",
       "    <path class=\"displacy-arc\" id=\"arrow-ee22f8d74ee7474db5c46468bd908d84-0-33\" stroke-width=\"2px\" d=\"M3130,227.0 C3130,137.0 3275.0,137.0 3275.0,227.0\" fill=\"none\" stroke=\"currentColor\"/>\n",
       "    <text dy=\"1.25em\" style=\"font-size: 0.8em; letter-spacing: 1px\">\n",
       "        <textPath xlink:href=\"#arrow-ee22f8d74ee7474db5c46468bd908d84-0-33\" class=\"displacy-label\" startOffset=\"50%\" side=\"left\" fill=\"currentColor\" text-anchor=\"middle\">nmod</textPath>\n",
       "    </text>\n",
       "    <path class=\"displacy-arrowhead\" d=\"M3275.0,229.0 L3283.0,217.0 3267.0,217.0\" fill=\"currentColor\"/>\n",
       "</g>\n",
       "\n",
       "<g class=\"displacy-arrow\">\n",
       "    <path class=\"displacy-arc\" id=\"arrow-ee22f8d74ee7474db5c46468bd908d84-0-34\" stroke-width=\"2px\" d=\"M3400,227.0 C3400,137.0 3635.0,137.0 3635.0,227.0\" fill=\"none\" stroke=\"currentColor\"/>\n",
       "    <text dy=\"1.25em\" style=\"font-size: 0.8em; letter-spacing: 1px\">\n",
       "        <textPath xlink:href=\"#arrow-ee22f8d74ee7474db5c46468bd908d84-0-34\" class=\"displacy-label\" startOffset=\"50%\" side=\"left\" fill=\"currentColor\" text-anchor=\"middle\">mark</textPath>\n",
       "    </text>\n",
       "    <path class=\"displacy-arrowhead\" d=\"M3400,229.0 L3392,217.0 3408,217.0\" fill=\"currentColor\"/>\n",
       "</g>\n",
       "\n",
       "<g class=\"displacy-arrow\">\n",
       "    <path class=\"displacy-arc\" id=\"arrow-ee22f8d74ee7474db5c46468bd908d84-0-35\" stroke-width=\"2px\" d=\"M3490,227.0 C3490,182.0 3540.0,182.0 3540.0,227.0\" fill=\"none\" stroke=\"currentColor\"/>\n",
       "    <text dy=\"1.25em\" style=\"font-size: 0.8em; letter-spacing: 1px\">\n",
       "        <textPath xlink:href=\"#arrow-ee22f8d74ee7474db5c46468bd908d84-0-35\" class=\"displacy-label\" startOffset=\"50%\" side=\"left\" fill=\"currentColor\" text-anchor=\"middle\">det</textPath>\n",
       "    </text>\n",
       "    <path class=\"displacy-arrowhead\" d=\"M3490,229.0 L3482,217.0 3498,217.0\" fill=\"currentColor\"/>\n",
       "</g>\n",
       "\n",
       "<g class=\"displacy-arrow\">\n",
       "    <path class=\"displacy-arc\" id=\"arrow-ee22f8d74ee7474db5c46468bd908d84-0-36\" stroke-width=\"2px\" d=\"M3580,227.0 C3580,182.0 3630.0,182.0 3630.0,227.0\" fill=\"none\" stroke=\"currentColor\"/>\n",
       "    <text dy=\"1.25em\" style=\"font-size: 0.8em; letter-spacing: 1px\">\n",
       "        <textPath xlink:href=\"#arrow-ee22f8d74ee7474db5c46468bd908d84-0-36\" class=\"displacy-label\" startOffset=\"50%\" side=\"left\" fill=\"currentColor\" text-anchor=\"middle\">nsubj</textPath>\n",
       "    </text>\n",
       "    <path class=\"displacy-arrowhead\" d=\"M3580,229.0 L3572,217.0 3588,217.0\" fill=\"currentColor\"/>\n",
       "</g>\n",
       "\n",
       "<g class=\"displacy-arrow\">\n",
       "    <path class=\"displacy-arc\" id=\"arrow-ee22f8d74ee7474db5c46468bd908d84-0-37\" stroke-width=\"2px\" d=\"M3670,227.0 C3670,2.0 4460.0,2.0 4460.0,227.0\" fill=\"none\" stroke=\"currentColor\"/>\n",
       "    <text dy=\"1.25em\" style=\"font-size: 0.8em; letter-spacing: 1px\">\n",
       "        <textPath xlink:href=\"#arrow-ee22f8d74ee7474db5c46468bd908d84-0-37\" class=\"displacy-label\" startOffset=\"50%\" side=\"left\" fill=\"currentColor\" text-anchor=\"middle\">acl</textPath>\n",
       "    </text>\n",
       "    <path class=\"displacy-arrowhead\" d=\"M3670,229.0 L3662,217.0 3678,217.0\" fill=\"currentColor\"/>\n",
       "</g>\n",
       "\n",
       "<g class=\"displacy-arrow\">\n",
       "    <path class=\"displacy-arc\" id=\"arrow-ee22f8d74ee7474db5c46468bd908d84-0-38\" stroke-width=\"2px\" d=\"M3760,227.0 C3760,182.0 3810.0,182.0 3810.0,227.0\" fill=\"none\" stroke=\"currentColor\"/>\n",
       "    <text dy=\"1.25em\" style=\"font-size: 0.8em; letter-spacing: 1px\">\n",
       "        <textPath xlink:href=\"#arrow-ee22f8d74ee7474db5c46468bd908d84-0-38\" class=\"displacy-label\" startOffset=\"50%\" side=\"left\" fill=\"currentColor\" text-anchor=\"middle\">case</textPath>\n",
       "    </text>\n",
       "    <path class=\"displacy-arrowhead\" d=\"M3760,229.0 L3752,217.0 3768,217.0\" fill=\"currentColor\"/>\n",
       "</g>\n",
       "\n",
       "<g class=\"displacy-arrow\">\n",
       "    <path class=\"displacy-arc\" id=\"arrow-ee22f8d74ee7474db5c46468bd908d84-0-39\" stroke-width=\"2px\" d=\"M3670,227.0 C3670,137.0 3815.0,137.0 3815.0,227.0\" fill=\"none\" stroke=\"currentColor\"/>\n",
       "    <text dy=\"1.25em\" style=\"font-size: 0.8em; letter-spacing: 1px\">\n",
       "        <textPath xlink:href=\"#arrow-ee22f8d74ee7474db5c46468bd908d84-0-39\" class=\"displacy-label\" startOffset=\"50%\" side=\"left\" fill=\"currentColor\" text-anchor=\"middle\">obl</textPath>\n",
       "    </text>\n",
       "    <path class=\"displacy-arrowhead\" d=\"M3815.0,229.0 L3823.0,217.0 3807.0,217.0\" fill=\"currentColor\"/>\n",
       "</g>\n",
       "\n",
       "<g class=\"displacy-arrow\">\n",
       "    <path class=\"displacy-arc\" id=\"arrow-ee22f8d74ee7474db5c46468bd908d84-0-40\" stroke-width=\"2px\" d=\"M3940,227.0 C3940,182.0 3990.0,182.0 3990.0,227.0\" fill=\"none\" stroke=\"currentColor\"/>\n",
       "    <text dy=\"1.25em\" style=\"font-size: 0.8em; letter-spacing: 1px\">\n",
       "        <textPath xlink:href=\"#arrow-ee22f8d74ee7474db5c46468bd908d84-0-40\" class=\"displacy-label\" startOffset=\"50%\" side=\"left\" fill=\"currentColor\" text-anchor=\"middle\">case</textPath>\n",
       "    </text>\n",
       "    <path class=\"displacy-arrowhead\" d=\"M3940,229.0 L3932,217.0 3948,217.0\" fill=\"currentColor\"/>\n",
       "</g>\n",
       "\n",
       "<g class=\"displacy-arrow\">\n",
       "    <path class=\"displacy-arc\" id=\"arrow-ee22f8d74ee7474db5c46468bd908d84-0-41\" stroke-width=\"2px\" d=\"M3850,227.0 C3850,137.0 3995.0,137.0 3995.0,227.0\" fill=\"none\" stroke=\"currentColor\"/>\n",
       "    <text dy=\"1.25em\" style=\"font-size: 0.8em; letter-spacing: 1px\">\n",
       "        <textPath xlink:href=\"#arrow-ee22f8d74ee7474db5c46468bd908d84-0-41\" class=\"displacy-label\" startOffset=\"50%\" side=\"left\" fill=\"currentColor\" text-anchor=\"middle\">nmod</textPath>\n",
       "    </text>\n",
       "    <path class=\"displacy-arrowhead\" d=\"M3995.0,229.0 L4003.0,217.0 3987.0,217.0\" fill=\"currentColor\"/>\n",
       "</g>\n",
       "\n",
       "<g class=\"displacy-arrow\">\n",
       "    <path class=\"displacy-arc\" id=\"arrow-ee22f8d74ee7474db5c46468bd908d84-0-42\" stroke-width=\"2px\" d=\"M4120,227.0 C4120,47.0 4455.0,47.0 4455.0,227.0\" fill=\"none\" stroke=\"currentColor\"/>\n",
       "    <text dy=\"1.25em\" style=\"font-size: 0.8em; letter-spacing: 1px\">\n",
       "        <textPath xlink:href=\"#arrow-ee22f8d74ee7474db5c46468bd908d84-0-42\" class=\"displacy-label\" startOffset=\"50%\" side=\"left\" fill=\"currentColor\" text-anchor=\"middle\">nsubj</textPath>\n",
       "    </text>\n",
       "    <path class=\"displacy-arrowhead\" d=\"M4120,229.0 L4112,217.0 4128,217.0\" fill=\"currentColor\"/>\n",
       "</g>\n",
       "\n",
       "<g class=\"displacy-arrow\">\n",
       "    <path class=\"displacy-arc\" id=\"arrow-ee22f8d74ee7474db5c46468bd908d84-0-43\" stroke-width=\"2px\" d=\"M4210,227.0 C4210,92.0 4450.0,92.0 4450.0,227.0\" fill=\"none\" stroke=\"currentColor\"/>\n",
       "    <text dy=\"1.25em\" style=\"font-size: 0.8em; letter-spacing: 1px\">\n",
       "        <textPath xlink:href=\"#arrow-ee22f8d74ee7474db5c46468bd908d84-0-43\" class=\"displacy-label\" startOffset=\"50%\" side=\"left\" fill=\"currentColor\" text-anchor=\"middle\">cop</textPath>\n",
       "    </text>\n",
       "    <path class=\"displacy-arrowhead\" d=\"M4210,229.0 L4202,217.0 4218,217.0\" fill=\"currentColor\"/>\n",
       "</g>\n",
       "\n",
       "<g class=\"displacy-arrow\">\n",
       "    <path class=\"displacy-arc\" id=\"arrow-ee22f8d74ee7474db5c46468bd908d84-0-44\" stroke-width=\"2px\" d=\"M4300,227.0 C4300,137.0 4445.0,137.0 4445.0,227.0\" fill=\"none\" stroke=\"currentColor\"/>\n",
       "    <text dy=\"1.25em\" style=\"font-size: 0.8em; letter-spacing: 1px\">\n",
       "        <textPath xlink:href=\"#arrow-ee22f8d74ee7474db5c46468bd908d84-0-44\" class=\"displacy-label\" startOffset=\"50%\" side=\"left\" fill=\"currentColor\" text-anchor=\"middle\">case</textPath>\n",
       "    </text>\n",
       "    <path class=\"displacy-arrowhead\" d=\"M4300,229.0 L4292,217.0 4308,217.0\" fill=\"currentColor\"/>\n",
       "</g>\n",
       "\n",
       "<g class=\"displacy-arrow\">\n",
       "    <path class=\"displacy-arc\" id=\"arrow-ee22f8d74ee7474db5c46468bd908d84-0-45\" stroke-width=\"2px\" d=\"M4390,227.0 C4390,182.0 4440.0,182.0 4440.0,227.0\" fill=\"none\" stroke=\"currentColor\"/>\n",
       "    <text dy=\"1.25em\" style=\"font-size: 0.8em; letter-spacing: 1px\">\n",
       "        <textPath xlink:href=\"#arrow-ee22f8d74ee7474db5c46468bd908d84-0-45\" class=\"displacy-label\" startOffset=\"50%\" side=\"left\" fill=\"currentColor\" text-anchor=\"middle\">det</textPath>\n",
       "    </text>\n",
       "    <path class=\"displacy-arrowhead\" d=\"M4390,229.0 L4382,217.0 4398,217.0\" fill=\"currentColor\"/>\n",
       "</g>\n",
       "\n",
       "<g class=\"displacy-arrow\">\n",
       "    <path class=\"displacy-arc\" id=\"arrow-ee22f8d74ee7474db5c46468bd908d84-0-46\" stroke-width=\"2px\" d=\"M4480,227.0 C4480,182.0 4530.0,182.0 4530.0,227.0\" fill=\"none\" stroke=\"currentColor\"/>\n",
       "    <text dy=\"1.25em\" style=\"font-size: 0.8em; letter-spacing: 1px\">\n",
       "        <textPath xlink:href=\"#arrow-ee22f8d74ee7474db5c46468bd908d84-0-46\" class=\"displacy-label\" startOffset=\"50%\" side=\"left\" fill=\"currentColor\" text-anchor=\"middle\">amod</textPath>\n",
       "    </text>\n",
       "    <path class=\"displacy-arrowhead\" d=\"M4530.0,229.0 L4538.0,217.0 4522.0,217.0\" fill=\"currentColor\"/>\n",
       "</g>\n",
       "\n",
       "<g class=\"displacy-arrow\">\n",
       "    <path class=\"displacy-arc\" id=\"arrow-ee22f8d74ee7474db5c46468bd908d84-0-47\" stroke-width=\"2px\" d=\"M4660,227.0 C4660,137.0 4805.0,137.0 4805.0,227.0\" fill=\"none\" stroke=\"currentColor\"/>\n",
       "    <text dy=\"1.25em\" style=\"font-size: 0.8em; letter-spacing: 1px\">\n",
       "        <textPath xlink:href=\"#arrow-ee22f8d74ee7474db5c46468bd908d84-0-47\" class=\"displacy-label\" startOffset=\"50%\" side=\"left\" fill=\"currentColor\" text-anchor=\"middle\">case</textPath>\n",
       "    </text>\n",
       "    <path class=\"displacy-arrowhead\" d=\"M4660,229.0 L4652,217.0 4668,217.0\" fill=\"currentColor\"/>\n",
       "</g>\n",
       "\n",
       "<g class=\"displacy-arrow\">\n",
       "    <path class=\"displacy-arc\" id=\"arrow-ee22f8d74ee7474db5c46468bd908d84-0-48\" stroke-width=\"2px\" d=\"M4750,227.0 C4750,182.0 4800.0,182.0 4800.0,227.0\" fill=\"none\" stroke=\"currentColor\"/>\n",
       "    <text dy=\"1.25em\" style=\"font-size: 0.8em; letter-spacing: 1px\">\n",
       "        <textPath xlink:href=\"#arrow-ee22f8d74ee7474db5c46468bd908d84-0-48\" class=\"displacy-label\" startOffset=\"50%\" side=\"left\" fill=\"currentColor\" text-anchor=\"middle\">det</textPath>\n",
       "    </text>\n",
       "    <path class=\"displacy-arrowhead\" d=\"M4750,229.0 L4742,217.0 4758,217.0\" fill=\"currentColor\"/>\n",
       "</g>\n",
       "\n",
       "<g class=\"displacy-arrow\">\n",
       "    <path class=\"displacy-arc\" id=\"arrow-ee22f8d74ee7474db5c46468bd908d84-0-49\" stroke-width=\"2px\" d=\"M4570,227.0 C4570,92.0 4810.0,92.0 4810.0,227.0\" fill=\"none\" stroke=\"currentColor\"/>\n",
       "    <text dy=\"1.25em\" style=\"font-size: 0.8em; letter-spacing: 1px\">\n",
       "        <textPath xlink:href=\"#arrow-ee22f8d74ee7474db5c46468bd908d84-0-49\" class=\"displacy-label\" startOffset=\"50%\" side=\"left\" fill=\"currentColor\" text-anchor=\"middle\">obl</textPath>\n",
       "    </text>\n",
       "    <path class=\"displacy-arrowhead\" d=\"M4810.0,229.0 L4818.0,217.0 4802.0,217.0\" fill=\"currentColor\"/>\n",
       "</g>\n",
       "\n",
       "<g class=\"displacy-arrow\">\n",
       "    <path class=\"displacy-arc\" id=\"arrow-ee22f8d74ee7474db5c46468bd908d84-0-50\" stroke-width=\"2px\" d=\"M4930,227.0 C4930,182.0 4980.0,182.0 4980.0,227.0\" fill=\"none\" stroke=\"currentColor\"/>\n",
       "    <text dy=\"1.25em\" style=\"font-size: 0.8em; letter-spacing: 1px\">\n",
       "        <textPath xlink:href=\"#arrow-ee22f8d74ee7474db5c46468bd908d84-0-50\" class=\"displacy-label\" startOffset=\"50%\" side=\"left\" fill=\"currentColor\" text-anchor=\"middle\">case</textPath>\n",
       "    </text>\n",
       "    <path class=\"displacy-arrowhead\" d=\"M4930,229.0 L4922,217.0 4938,217.0\" fill=\"currentColor\"/>\n",
       "</g>\n",
       "\n",
       "<g class=\"displacy-arrow\">\n",
       "    <path class=\"displacy-arc\" id=\"arrow-ee22f8d74ee7474db5c46468bd908d84-0-51\" stroke-width=\"2px\" d=\"M4840,227.0 C4840,137.0 4985.0,137.0 4985.0,227.0\" fill=\"none\" stroke=\"currentColor\"/>\n",
       "    <text dy=\"1.25em\" style=\"font-size: 0.8em; letter-spacing: 1px\">\n",
       "        <textPath xlink:href=\"#arrow-ee22f8d74ee7474db5c46468bd908d84-0-51\" class=\"displacy-label\" startOffset=\"50%\" side=\"left\" fill=\"currentColor\" text-anchor=\"middle\">nmod</textPath>\n",
       "    </text>\n",
       "    <path class=\"displacy-arrowhead\" d=\"M4985.0,229.0 L4993.0,217.0 4977.0,217.0\" fill=\"currentColor\"/>\n",
       "</g>\n",
       "\n",
       "<g class=\"displacy-arrow\">\n",
       "    <path class=\"displacy-arc\" id=\"arrow-ee22f8d74ee7474db5c46468bd908d84-0-52\" stroke-width=\"2px\" d=\"M5110,227.0 C5110,137.0 5255.0,137.0 5255.0,227.0\" fill=\"none\" stroke=\"currentColor\"/>\n",
       "    <text dy=\"1.25em\" style=\"font-size: 0.8em; letter-spacing: 1px\">\n",
       "        <textPath xlink:href=\"#arrow-ee22f8d74ee7474db5c46468bd908d84-0-52\" class=\"displacy-label\" startOffset=\"50%\" side=\"left\" fill=\"currentColor\" text-anchor=\"middle\">case</textPath>\n",
       "    </text>\n",
       "    <path class=\"displacy-arrowhead\" d=\"M5110,229.0 L5102,217.0 5118,217.0\" fill=\"currentColor\"/>\n",
       "</g>\n",
       "\n",
       "<g class=\"displacy-arrow\">\n",
       "    <path class=\"displacy-arc\" id=\"arrow-ee22f8d74ee7474db5c46468bd908d84-0-53\" stroke-width=\"2px\" d=\"M5200,227.0 C5200,182.0 5250.0,182.0 5250.0,227.0\" fill=\"none\" stroke=\"currentColor\"/>\n",
       "    <text dy=\"1.25em\" style=\"font-size: 0.8em; letter-spacing: 1px\">\n",
       "        <textPath xlink:href=\"#arrow-ee22f8d74ee7474db5c46468bd908d84-0-53\" class=\"displacy-label\" startOffset=\"50%\" side=\"left\" fill=\"currentColor\" text-anchor=\"middle\">det</textPath>\n",
       "    </text>\n",
       "    <path class=\"displacy-arrowhead\" d=\"M5200,229.0 L5192,217.0 5208,217.0\" fill=\"currentColor\"/>\n",
       "</g>\n",
       "\n",
       "<g class=\"displacy-arrow\">\n",
       "    <path class=\"displacy-arc\" id=\"arrow-ee22f8d74ee7474db5c46468bd908d84-0-54\" stroke-width=\"2px\" d=\"M4840,227.0 C4840,92.0 5260.0,92.0 5260.0,227.0\" fill=\"none\" stroke=\"currentColor\"/>\n",
       "    <text dy=\"1.25em\" style=\"font-size: 0.8em; letter-spacing: 1px\">\n",
       "        <textPath xlink:href=\"#arrow-ee22f8d74ee7474db5c46468bd908d84-0-54\" class=\"displacy-label\" startOffset=\"50%\" side=\"left\" fill=\"currentColor\" text-anchor=\"middle\">nmod</textPath>\n",
       "    </text>\n",
       "    <path class=\"displacy-arrowhead\" d=\"M5260.0,229.0 L5268.0,217.0 5252.0,217.0\" fill=\"currentColor\"/>\n",
       "</g>\n",
       "\n",
       "<g class=\"displacy-arrow\">\n",
       "    <path class=\"displacy-arc\" id=\"arrow-ee22f8d74ee7474db5c46468bd908d84-0-55\" stroke-width=\"2px\" d=\"M5380,227.0 C5380,92.0 5620.0,92.0 5620.0,227.0\" fill=\"none\" stroke=\"currentColor\"/>\n",
       "    <text dy=\"1.25em\" style=\"font-size: 0.8em; letter-spacing: 1px\">\n",
       "        <textPath xlink:href=\"#arrow-ee22f8d74ee7474db5c46468bd908d84-0-55\" class=\"displacy-label\" startOffset=\"50%\" side=\"left\" fill=\"currentColor\" text-anchor=\"middle\">nsubj</textPath>\n",
       "    </text>\n",
       "    <path class=\"displacy-arrowhead\" d=\"M5380,229.0 L5372,217.0 5388,217.0\" fill=\"currentColor\"/>\n",
       "</g>\n",
       "\n",
       "<g class=\"displacy-arrow\">\n",
       "    <path class=\"displacy-arc\" id=\"arrow-ee22f8d74ee7474db5c46468bd908d84-0-56\" stroke-width=\"2px\" d=\"M5470,227.0 C5470,137.0 5615.0,137.0 5615.0,227.0\" fill=\"none\" stroke=\"currentColor\"/>\n",
       "    <text dy=\"1.25em\" style=\"font-size: 0.8em; letter-spacing: 1px\">\n",
       "        <textPath xlink:href=\"#arrow-ee22f8d74ee7474db5c46468bd908d84-0-56\" class=\"displacy-label\" startOffset=\"50%\" side=\"left\" fill=\"currentColor\" text-anchor=\"middle\">advmod</textPath>\n",
       "    </text>\n",
       "    <path class=\"displacy-arrowhead\" d=\"M5470,229.0 L5462,217.0 5478,217.0\" fill=\"currentColor\"/>\n",
       "</g>\n",
       "\n",
       "<g class=\"displacy-arrow\">\n",
       "    <path class=\"displacy-arc\" id=\"arrow-ee22f8d74ee7474db5c46468bd908d84-0-57\" stroke-width=\"2px\" d=\"M5560,227.0 C5560,182.0 5610.0,182.0 5610.0,227.0\" fill=\"none\" stroke=\"currentColor\"/>\n",
       "    <text dy=\"1.25em\" style=\"font-size: 0.8em; letter-spacing: 1px\">\n",
       "        <textPath xlink:href=\"#arrow-ee22f8d74ee7474db5c46468bd908d84-0-57\" class=\"displacy-label\" startOffset=\"50%\" side=\"left\" fill=\"currentColor\" text-anchor=\"middle\">aux</textPath>\n",
       "    </text>\n",
       "    <path class=\"displacy-arrowhead\" d=\"M5560,229.0 L5552,217.0 5568,217.0\" fill=\"currentColor\"/>\n",
       "</g>\n",
       "\n",
       "<g class=\"displacy-arrow\">\n",
       "    <path class=\"displacy-arc\" id=\"arrow-ee22f8d74ee7474db5c46468bd908d84-0-58\" stroke-width=\"2px\" d=\"M5740,227.0 C5740,182.0 5790.0,182.0 5790.0,227.0\" fill=\"none\" stroke=\"currentColor\"/>\n",
       "    <text dy=\"1.25em\" style=\"font-size: 0.8em; letter-spacing: 1px\">\n",
       "        <textPath xlink:href=\"#arrow-ee22f8d74ee7474db5c46468bd908d84-0-58\" class=\"displacy-label\" startOffset=\"50%\" side=\"left\" fill=\"currentColor\" text-anchor=\"middle\">det</textPath>\n",
       "    </text>\n",
       "    <path class=\"displacy-arrowhead\" d=\"M5740,229.0 L5732,217.0 5748,217.0\" fill=\"currentColor\"/>\n",
       "</g>\n",
       "\n",
       "<g class=\"displacy-arrow\">\n",
       "    <path class=\"displacy-arc\" id=\"arrow-ee22f8d74ee7474db5c46468bd908d84-0-59\" stroke-width=\"2px\" d=\"M5650,227.0 C5650,137.0 5795.0,137.0 5795.0,227.0\" fill=\"none\" stroke=\"currentColor\"/>\n",
       "    <text dy=\"1.25em\" style=\"font-size: 0.8em; letter-spacing: 1px\">\n",
       "        <textPath xlink:href=\"#arrow-ee22f8d74ee7474db5c46468bd908d84-0-59\" class=\"displacy-label\" startOffset=\"50%\" side=\"left\" fill=\"currentColor\" text-anchor=\"middle\">obj</textPath>\n",
       "    </text>\n",
       "    <path class=\"displacy-arrowhead\" d=\"M5795.0,229.0 L5803.0,217.0 5787.0,217.0\" fill=\"currentColor\"/>\n",
       "</g>\n",
       "\n",
       "<g class=\"displacy-arrow\">\n",
       "    <path class=\"displacy-arc\" id=\"arrow-ee22f8d74ee7474db5c46468bd908d84-0-60\" stroke-width=\"2px\" d=\"M5920,227.0 C5920,182.0 5970.0,182.0 5970.0,227.0\" fill=\"none\" stroke=\"currentColor\"/>\n",
       "    <text dy=\"1.25em\" style=\"font-size: 0.8em; letter-spacing: 1px\">\n",
       "        <textPath xlink:href=\"#arrow-ee22f8d74ee7474db5c46468bd908d84-0-60\" class=\"displacy-label\" startOffset=\"50%\" side=\"left\" fill=\"currentColor\" text-anchor=\"middle\">case</textPath>\n",
       "    </text>\n",
       "    <path class=\"displacy-arrowhead\" d=\"M5920,229.0 L5912,217.0 5928,217.0\" fill=\"currentColor\"/>\n",
       "</g>\n",
       "\n",
       "<g class=\"displacy-arrow\">\n",
       "    <path class=\"displacy-arc\" id=\"arrow-ee22f8d74ee7474db5c46468bd908d84-0-61\" stroke-width=\"2px\" d=\"M5650,227.0 C5650,92.0 5980.0,92.0 5980.0,227.0\" fill=\"none\" stroke=\"currentColor\"/>\n",
       "    <text dy=\"1.25em\" style=\"font-size: 0.8em; letter-spacing: 1px\">\n",
       "        <textPath xlink:href=\"#arrow-ee22f8d74ee7474db5c46468bd908d84-0-61\" class=\"displacy-label\" startOffset=\"50%\" side=\"left\" fill=\"currentColor\" text-anchor=\"middle\">obl</textPath>\n",
       "    </text>\n",
       "    <path class=\"displacy-arrowhead\" d=\"M5980.0,229.0 L5988.0,217.0 5972.0,217.0\" fill=\"currentColor\"/>\n",
       "</g>\n",
       "\n",
       "<g class=\"displacy-arrow\">\n",
       "    <path class=\"displacy-arc\" id=\"arrow-ee22f8d74ee7474db5c46468bd908d84-0-62\" stroke-width=\"2px\" d=\"M6100,227.0 C6100,182.0 6150.0,182.0 6150.0,227.0\" fill=\"none\" stroke=\"currentColor\"/>\n",
       "    <text dy=\"1.25em\" style=\"font-size: 0.8em; letter-spacing: 1px\">\n",
       "        <textPath xlink:href=\"#arrow-ee22f8d74ee7474db5c46468bd908d84-0-62\" class=\"displacy-label\" startOffset=\"50%\" side=\"left\" fill=\"currentColor\" text-anchor=\"middle\">case</textPath>\n",
       "    </text>\n",
       "    <path class=\"displacy-arrowhead\" d=\"M6100,229.0 L6092,217.0 6108,217.0\" fill=\"currentColor\"/>\n",
       "</g>\n",
       "\n",
       "<g class=\"displacy-arrow\">\n",
       "    <path class=\"displacy-arc\" id=\"arrow-ee22f8d74ee7474db5c46468bd908d84-0-63\" stroke-width=\"2px\" d=\"M6010,227.0 C6010,137.0 6155.0,137.0 6155.0,227.0\" fill=\"none\" stroke=\"currentColor\"/>\n",
       "    <text dy=\"1.25em\" style=\"font-size: 0.8em; letter-spacing: 1px\">\n",
       "        <textPath xlink:href=\"#arrow-ee22f8d74ee7474db5c46468bd908d84-0-63\" class=\"displacy-label\" startOffset=\"50%\" side=\"left\" fill=\"currentColor\" text-anchor=\"middle\">nmod</textPath>\n",
       "    </text>\n",
       "    <path class=\"displacy-arrowhead\" d=\"M6155.0,229.0 L6163.0,217.0 6147.0,217.0\" fill=\"currentColor\"/>\n",
       "</g>\n",
       "\n",
       "<g class=\"displacy-arrow\">\n",
       "    <path class=\"displacy-arc\" id=\"arrow-ee22f8d74ee7474db5c46468bd908d84-0-64\" stroke-width=\"2px\" d=\"M6280,227.0 C6280,47.0 7155.0,47.0 7155.0,227.0\" fill=\"none\" stroke=\"currentColor\"/>\n",
       "    <text dy=\"1.25em\" style=\"font-size: 0.8em; letter-spacing: 1px\">\n",
       "        <textPath xlink:href=\"#arrow-ee22f8d74ee7474db5c46468bd908d84-0-64\" class=\"displacy-label\" startOffset=\"50%\" side=\"left\" fill=\"currentColor\" text-anchor=\"middle\">cc</textPath>\n",
       "    </text>\n",
       "    <path class=\"displacy-arrowhead\" d=\"M6280,229.0 L6272,217.0 6288,217.0\" fill=\"currentColor\"/>\n",
       "</g>\n",
       "\n",
       "<g class=\"displacy-arrow\">\n",
       "    <path class=\"displacy-arc\" id=\"arrow-ee22f8d74ee7474db5c46468bd908d84-0-65\" stroke-width=\"2px\" d=\"M6370,227.0 C6370,182.0 6420.0,182.0 6420.0,227.0\" fill=\"none\" stroke=\"currentColor\"/>\n",
       "    <text dy=\"1.25em\" style=\"font-size: 0.8em; letter-spacing: 1px\">\n",
       "        <textPath xlink:href=\"#arrow-ee22f8d74ee7474db5c46468bd908d84-0-65\" class=\"displacy-label\" startOffset=\"50%\" side=\"left\" fill=\"currentColor\" text-anchor=\"middle\">advmod</textPath>\n",
       "    </text>\n",
       "    <path class=\"displacy-arrowhead\" d=\"M6370,229.0 L6362,217.0 6378,217.0\" fill=\"currentColor\"/>\n",
       "</g>\n",
       "\n",
       "<g class=\"displacy-arrow\">\n",
       "    <path class=\"displacy-arc\" id=\"arrow-ee22f8d74ee7474db5c46468bd908d84-0-66\" stroke-width=\"2px\" d=\"M6460,227.0 C6460,92.0 7150.0,92.0 7150.0,227.0\" fill=\"none\" stroke=\"currentColor\"/>\n",
       "    <text dy=\"1.25em\" style=\"font-size: 0.8em; letter-spacing: 1px\">\n",
       "        <textPath xlink:href=\"#arrow-ee22f8d74ee7474db5c46468bd908d84-0-66\" class=\"displacy-label\" startOffset=\"50%\" side=\"left\" fill=\"currentColor\" text-anchor=\"middle\">advcl</textPath>\n",
       "    </text>\n",
       "    <path class=\"displacy-arrowhead\" d=\"M6460,229.0 L6452,217.0 6468,217.0\" fill=\"currentColor\"/>\n",
       "</g>\n",
       "\n",
       "<g class=\"displacy-arrow\">\n",
       "    <path class=\"displacy-arc\" id=\"arrow-ee22f8d74ee7474db5c46468bd908d84-0-67\" stroke-width=\"2px\" d=\"M6550,227.0 C6550,182.0 6600.0,182.0 6600.0,227.0\" fill=\"none\" stroke=\"currentColor\"/>\n",
       "    <text dy=\"1.25em\" style=\"font-size: 0.8em; letter-spacing: 1px\">\n",
       "        <textPath xlink:href=\"#arrow-ee22f8d74ee7474db5c46468bd908d84-0-67\" class=\"displacy-label\" startOffset=\"50%\" side=\"left\" fill=\"currentColor\" text-anchor=\"middle\">advmod</textPath>\n",
       "    </text>\n",
       "    <path class=\"displacy-arrowhead\" d=\"M6550,229.0 L6542,217.0 6558,217.0\" fill=\"currentColor\"/>\n",
       "</g>\n",
       "\n",
       "<g class=\"displacy-arrow\">\n",
       "    <path class=\"displacy-arc\" id=\"arrow-ee22f8d74ee7474db5c46468bd908d84-0-68\" stroke-width=\"2px\" d=\"M6460,227.0 C6460,137.0 6605.0,137.0 6605.0,227.0\" fill=\"none\" stroke=\"currentColor\"/>\n",
       "    <text dy=\"1.25em\" style=\"font-size: 0.8em; letter-spacing: 1px\">\n",
       "        <textPath xlink:href=\"#arrow-ee22f8d74ee7474db5c46468bd908d84-0-68\" class=\"displacy-label\" startOffset=\"50%\" side=\"left\" fill=\"currentColor\" text-anchor=\"middle\">advmod</textPath>\n",
       "    </text>\n",
       "    <path class=\"displacy-arrowhead\" d=\"M6605.0,229.0 L6613.0,217.0 6597.0,217.0\" fill=\"currentColor\"/>\n",
       "</g>\n",
       "\n",
       "<g class=\"displacy-arrow\">\n",
       "    <path class=\"displacy-arc\" id=\"arrow-ee22f8d74ee7474db5c46468bd908d84-0-69\" stroke-width=\"2px\" d=\"M6730,227.0 C6730,182.0 6780.0,182.0 6780.0,227.0\" fill=\"none\" stroke=\"currentColor\"/>\n",
       "    <text dy=\"1.25em\" style=\"font-size: 0.8em; letter-spacing: 1px\">\n",
       "        <textPath xlink:href=\"#arrow-ee22f8d74ee7474db5c46468bd908d84-0-69\" class=\"displacy-label\" startOffset=\"50%\" side=\"left\" fill=\"currentColor\" text-anchor=\"middle\">case</textPath>\n",
       "    </text>\n",
       "    <path class=\"displacy-arrowhead\" d=\"M6730,229.0 L6722,217.0 6738,217.0\" fill=\"currentColor\"/>\n",
       "</g>\n",
       "\n",
       "<g class=\"displacy-arrow\">\n",
       "    <path class=\"displacy-arc\" id=\"arrow-ee22f8d74ee7474db5c46468bd908d84-0-70\" stroke-width=\"2px\" d=\"M6640,227.0 C6640,137.0 6785.0,137.0 6785.0,227.0\" fill=\"none\" stroke=\"currentColor\"/>\n",
       "    <text dy=\"1.25em\" style=\"font-size: 0.8em; letter-spacing: 1px\">\n",
       "        <textPath xlink:href=\"#arrow-ee22f8d74ee7474db5c46468bd908d84-0-70\" class=\"displacy-label\" startOffset=\"50%\" side=\"left\" fill=\"currentColor\" text-anchor=\"middle\">obl</textPath>\n",
       "    </text>\n",
       "    <path class=\"displacy-arrowhead\" d=\"M6785.0,229.0 L6793.0,217.0 6777.0,217.0\" fill=\"currentColor\"/>\n",
       "</g>\n",
       "\n",
       "<g class=\"displacy-arrow\">\n",
       "    <path class=\"displacy-arc\" id=\"arrow-ee22f8d74ee7474db5c46468bd908d84-0-71\" stroke-width=\"2px\" d=\"M6910,227.0 C6910,182.0 6960.0,182.0 6960.0,227.0\" fill=\"none\" stroke=\"currentColor\"/>\n",
       "    <text dy=\"1.25em\" style=\"font-size: 0.8em; letter-spacing: 1px\">\n",
       "        <textPath xlink:href=\"#arrow-ee22f8d74ee7474db5c46468bd908d84-0-71\" class=\"displacy-label\" startOffset=\"50%\" side=\"left\" fill=\"currentColor\" text-anchor=\"middle\">det</textPath>\n",
       "    </text>\n",
       "    <path class=\"displacy-arrowhead\" d=\"M6910,229.0 L6902,217.0 6918,217.0\" fill=\"currentColor\"/>\n",
       "</g>\n",
       "\n",
       "<g class=\"displacy-arrow\">\n",
       "    <path class=\"displacy-arc\" id=\"arrow-ee22f8d74ee7474db5c46468bd908d84-0-72\" stroke-width=\"2px\" d=\"M7000,227.0 C7000,137.0 7145.0,137.0 7145.0,227.0\" fill=\"none\" stroke=\"currentColor\"/>\n",
       "    <text dy=\"1.25em\" style=\"font-size: 0.8em; letter-spacing: 1px\">\n",
       "        <textPath xlink:href=\"#arrow-ee22f8d74ee7474db5c46468bd908d84-0-72\" class=\"displacy-label\" startOffset=\"50%\" side=\"left\" fill=\"currentColor\" text-anchor=\"middle\">nsubj</textPath>\n",
       "    </text>\n",
       "    <path class=\"displacy-arrowhead\" d=\"M7000,229.0 L6992,217.0 7008,217.0\" fill=\"currentColor\"/>\n",
       "</g>\n",
       "\n",
       "<g class=\"displacy-arrow\">\n",
       "    <path class=\"displacy-arc\" id=\"arrow-ee22f8d74ee7474db5c46468bd908d84-0-73\" stroke-width=\"2px\" d=\"M7090,227.0 C7090,182.0 7140.0,182.0 7140.0,227.0\" fill=\"none\" stroke=\"currentColor\"/>\n",
       "    <text dy=\"1.25em\" style=\"font-size: 0.8em; letter-spacing: 1px\">\n",
       "        <textPath xlink:href=\"#arrow-ee22f8d74ee7474db5c46468bd908d84-0-73\" class=\"displacy-label\" startOffset=\"50%\" side=\"left\" fill=\"currentColor\" text-anchor=\"middle\">cop</textPath>\n",
       "    </text>\n",
       "    <path class=\"displacy-arrowhead\" d=\"M7090,229.0 L7082,217.0 7098,217.0\" fill=\"currentColor\"/>\n",
       "</g>\n",
       "\n",
       "<g class=\"displacy-arrow\">\n",
       "    <path class=\"displacy-arc\" id=\"arrow-ee22f8d74ee7474db5c46468bd908d84-0-74\" stroke-width=\"2px\" d=\"M5650,227.0 C5650,2.0 7160.0,2.0 7160.0,227.0\" fill=\"none\" stroke=\"currentColor\"/>\n",
       "    <text dy=\"1.25em\" style=\"font-size: 0.8em; letter-spacing: 1px\">\n",
       "        <textPath xlink:href=\"#arrow-ee22f8d74ee7474db5c46468bd908d84-0-74\" class=\"displacy-label\" startOffset=\"50%\" side=\"left\" fill=\"currentColor\" text-anchor=\"middle\">conj</textPath>\n",
       "    </text>\n",
       "    <path class=\"displacy-arrowhead\" d=\"M7160.0,229.0 L7168.0,217.0 7152.0,217.0\" fill=\"currentColor\"/>\n",
       "</g>\n",
       "\n",
       "<g class=\"displacy-arrow\">\n",
       "    <path class=\"displacy-arc\" id=\"arrow-ee22f8d74ee7474db5c46468bd908d84-0-75\" stroke-width=\"2px\" d=\"M7180,227.0 C7180,182.0 7230.0,182.0 7230.0,227.0\" fill=\"none\" stroke=\"currentColor\"/>\n",
       "    <text dy=\"1.25em\" style=\"font-size: 0.8em; letter-spacing: 1px\">\n",
       "        <textPath xlink:href=\"#arrow-ee22f8d74ee7474db5c46468bd908d84-0-75\" class=\"displacy-label\" startOffset=\"50%\" side=\"left\" fill=\"currentColor\" text-anchor=\"middle\">acl</textPath>\n",
       "    </text>\n",
       "    <path class=\"displacy-arrowhead\" d=\"M7230.0,229.0 L7238.0,217.0 7222.0,217.0\" fill=\"currentColor\"/>\n",
       "</g>\n",
       "\n",
       "<g class=\"displacy-arrow\">\n",
       "    <path class=\"displacy-arc\" id=\"arrow-ee22f8d74ee7474db5c46468bd908d84-0-76\" stroke-width=\"2px\" d=\"M7360,227.0 C7360,182.0 7410.0,182.0 7410.0,227.0\" fill=\"none\" stroke=\"currentColor\"/>\n",
       "    <text dy=\"1.25em\" style=\"font-size: 0.8em; letter-spacing: 1px\">\n",
       "        <textPath xlink:href=\"#arrow-ee22f8d74ee7474db5c46468bd908d84-0-76\" class=\"displacy-label\" startOffset=\"50%\" side=\"left\" fill=\"currentColor\" text-anchor=\"middle\">case</textPath>\n",
       "    </text>\n",
       "    <path class=\"displacy-arrowhead\" d=\"M7360,229.0 L7352,217.0 7368,217.0\" fill=\"currentColor\"/>\n",
       "</g>\n",
       "\n",
       "<g class=\"displacy-arrow\">\n",
       "    <path class=\"displacy-arc\" id=\"arrow-ee22f8d74ee7474db5c46468bd908d84-0-77\" stroke-width=\"2px\" d=\"M7270,227.0 C7270,137.0 7415.0,137.0 7415.0,227.0\" fill=\"none\" stroke=\"currentColor\"/>\n",
       "    <text dy=\"1.25em\" style=\"font-size: 0.8em; letter-spacing: 1px\">\n",
       "        <textPath xlink:href=\"#arrow-ee22f8d74ee7474db5c46468bd908d84-0-77\" class=\"displacy-label\" startOffset=\"50%\" side=\"left\" fill=\"currentColor\" text-anchor=\"middle\">obl:agent</textPath>\n",
       "    </text>\n",
       "    <path class=\"displacy-arrowhead\" d=\"M7415.0,229.0 L7423.0,217.0 7407.0,217.0\" fill=\"currentColor\"/>\n",
       "</g>\n",
       "\n",
       "<g class=\"displacy-arrow\">\n",
       "    <path class=\"displacy-arc\" id=\"arrow-ee22f8d74ee7474db5c46468bd908d84-0-78\" stroke-width=\"2px\" d=\"M7450,227.0 C7450,182.0 7500.0,182.0 7500.0,227.0\" fill=\"none\" stroke=\"currentColor\"/>\n",
       "    <text dy=\"1.25em\" style=\"font-size: 0.8em; letter-spacing: 1px\">\n",
       "        <textPath xlink:href=\"#arrow-ee22f8d74ee7474db5c46468bd908d84-0-78\" class=\"displacy-label\" startOffset=\"50%\" side=\"left\" fill=\"currentColor\" text-anchor=\"middle\">flat:name</textPath>\n",
       "    </text>\n",
       "    <path class=\"displacy-arrowhead\" d=\"M7500.0,229.0 L7508.0,217.0 7492.0,217.0\" fill=\"currentColor\"/>\n",
       "</g>\n",
       "\n",
       "<g class=\"displacy-arrow\">\n",
       "    <path class=\"displacy-arc\" id=\"arrow-ee22f8d74ee7474db5c46468bd908d84-0-79\" stroke-width=\"2px\" d=\"M7630,227.0 C7630,92.0 7870.0,92.0 7870.0,227.0\" fill=\"none\" stroke=\"currentColor\"/>\n",
       "    <text dy=\"1.25em\" style=\"font-size: 0.8em; letter-spacing: 1px\">\n",
       "        <textPath xlink:href=\"#arrow-ee22f8d74ee7474db5c46468bd908d84-0-79\" class=\"displacy-label\" startOffset=\"50%\" side=\"left\" fill=\"currentColor\" text-anchor=\"middle\">cc</textPath>\n",
       "    </text>\n",
       "    <path class=\"displacy-arrowhead\" d=\"M7630,229.0 L7622,217.0 7638,217.0\" fill=\"currentColor\"/>\n",
       "</g>\n",
       "\n",
       "<g class=\"displacy-arrow\">\n",
       "    <path class=\"displacy-arc\" id=\"arrow-ee22f8d74ee7474db5c46468bd908d84-0-80\" stroke-width=\"2px\" d=\"M7720,227.0 C7720,137.0 7865.0,137.0 7865.0,227.0\" fill=\"none\" stroke=\"currentColor\"/>\n",
       "    <text dy=\"1.25em\" style=\"font-size: 0.8em; letter-spacing: 1px\">\n",
       "        <textPath xlink:href=\"#arrow-ee22f8d74ee7474db5c46468bd908d84-0-80\" class=\"displacy-label\" startOffset=\"50%\" side=\"left\" fill=\"currentColor\" text-anchor=\"middle\">nsubj</textPath>\n",
       "    </text>\n",
       "    <path class=\"displacy-arrowhead\" d=\"M7720,229.0 L7712,217.0 7728,217.0\" fill=\"currentColor\"/>\n",
       "</g>\n",
       "\n",
       "<g class=\"displacy-arrow\">\n",
       "    <path class=\"displacy-arc\" id=\"arrow-ee22f8d74ee7474db5c46468bd908d84-0-81\" stroke-width=\"2px\" d=\"M7810,227.0 C7810,182.0 7860.0,182.0 7860.0,227.0\" fill=\"none\" stroke=\"currentColor\"/>\n",
       "    <text dy=\"1.25em\" style=\"font-size: 0.8em; letter-spacing: 1px\">\n",
       "        <textPath xlink:href=\"#arrow-ee22f8d74ee7474db5c46468bd908d84-0-81\" class=\"displacy-label\" startOffset=\"50%\" side=\"left\" fill=\"currentColor\" text-anchor=\"middle\">advmod</textPath>\n",
       "    </text>\n",
       "    <path class=\"displacy-arrowhead\" d=\"M7810,229.0 L7802,217.0 7818,217.0\" fill=\"currentColor\"/>\n",
       "</g>\n",
       "\n",
       "<g class=\"displacy-arrow\">\n",
       "    <path class=\"displacy-arc\" id=\"arrow-ee22f8d74ee7474db5c46468bd908d84-0-82\" stroke-width=\"2px\" d=\"M7180,227.0 C7180,47.0 7875.0,47.0 7875.0,227.0\" fill=\"none\" stroke=\"currentColor\"/>\n",
       "    <text dy=\"1.25em\" style=\"font-size: 0.8em; letter-spacing: 1px\">\n",
       "        <textPath xlink:href=\"#arrow-ee22f8d74ee7474db5c46468bd908d84-0-82\" class=\"displacy-label\" startOffset=\"50%\" side=\"left\" fill=\"currentColor\" text-anchor=\"middle\">conj</textPath>\n",
       "    </text>\n",
       "    <path class=\"displacy-arrowhead\" d=\"M7875.0,229.0 L7883.0,217.0 7867.0,217.0\" fill=\"currentColor\"/>\n",
       "</g>\n",
       "\n",
       "<g class=\"displacy-arrow\">\n",
       "    <path class=\"displacy-arc\" id=\"arrow-ee22f8d74ee7474db5c46468bd908d84-0-83\" stroke-width=\"2px\" d=\"M7990,227.0 C7990,182.0 8040.0,182.0 8040.0,227.0\" fill=\"none\" stroke=\"currentColor\"/>\n",
       "    <text dy=\"1.25em\" style=\"font-size: 0.8em; letter-spacing: 1px\">\n",
       "        <textPath xlink:href=\"#arrow-ee22f8d74ee7474db5c46468bd908d84-0-83\" class=\"displacy-label\" startOffset=\"50%\" side=\"left\" fill=\"currentColor\" text-anchor=\"middle\">case</textPath>\n",
       "    </text>\n",
       "    <path class=\"displacy-arrowhead\" d=\"M7990,229.0 L7982,217.0 7998,217.0\" fill=\"currentColor\"/>\n",
       "</g>\n",
       "\n",
       "<g class=\"displacy-arrow\">\n",
       "    <path class=\"displacy-arc\" id=\"arrow-ee22f8d74ee7474db5c46468bd908d84-0-84\" stroke-width=\"2px\" d=\"M8080,227.0 C8080,47.0 8865.0,47.0 8865.0,227.0\" fill=\"none\" stroke=\"currentColor\"/>\n",
       "    <text dy=\"1.25em\" style=\"font-size: 0.8em; letter-spacing: 1px\">\n",
       "        <textPath xlink:href=\"#arrow-ee22f8d74ee7474db5c46468bd908d84-0-84\" class=\"displacy-label\" startOffset=\"50%\" side=\"left\" fill=\"currentColor\" text-anchor=\"middle\">nmod</textPath>\n",
       "    </text>\n",
       "    <path class=\"displacy-arrowhead\" d=\"M8080,229.0 L8072,217.0 8088,217.0\" fill=\"currentColor\"/>\n",
       "</g>\n",
       "\n",
       "<g class=\"displacy-arrow\">\n",
       "    <path class=\"displacy-arc\" id=\"arrow-ee22f8d74ee7474db5c46468bd908d84-0-85\" stroke-width=\"2px\" d=\"M8080,227.0 C8080,182.0 8130.0,182.0 8130.0,227.0\" fill=\"none\" stroke=\"currentColor\"/>\n",
       "    <text dy=\"1.25em\" style=\"font-size: 0.8em; letter-spacing: 1px\">\n",
       "        <textPath xlink:href=\"#arrow-ee22f8d74ee7474db5c46468bd908d84-0-85\" class=\"displacy-label\" startOffset=\"50%\" side=\"left\" fill=\"currentColor\" text-anchor=\"middle\">nummod</textPath>\n",
       "    </text>\n",
       "    <path class=\"displacy-arrowhead\" d=\"M8130.0,229.0 L8138.0,217.0 8122.0,217.0\" fill=\"currentColor\"/>\n",
       "</g>\n",
       "\n",
       "<g class=\"displacy-arrow\">\n",
       "    <path class=\"displacy-arc\" id=\"arrow-ee22f8d74ee7474db5c46468bd908d84-0-86\" stroke-width=\"2px\" d=\"M8260,227.0 C8260,182.0 8310.0,182.0 8310.0,227.0\" fill=\"none\" stroke=\"currentColor\"/>\n",
       "    <text dy=\"1.25em\" style=\"font-size: 0.8em; letter-spacing: 1px\">\n",
       "        <textPath xlink:href=\"#arrow-ee22f8d74ee7474db5c46468bd908d84-0-86\" class=\"displacy-label\" startOffset=\"50%\" side=\"left\" fill=\"currentColor\" text-anchor=\"middle\">case</textPath>\n",
       "    </text>\n",
       "    <path class=\"displacy-arrowhead\" d=\"M8260,229.0 L8252,217.0 8268,217.0\" fill=\"currentColor\"/>\n",
       "</g>\n",
       "\n",
       "<g class=\"displacy-arrow\">\n",
       "    <path class=\"displacy-arc\" id=\"arrow-ee22f8d74ee7474db5c46468bd908d84-0-87\" stroke-width=\"2px\" d=\"M8080,227.0 C8080,137.0 8315.0,137.0 8315.0,227.0\" fill=\"none\" stroke=\"currentColor\"/>\n",
       "    <text dy=\"1.25em\" style=\"font-size: 0.8em; letter-spacing: 1px\">\n",
       "        <textPath xlink:href=\"#arrow-ee22f8d74ee7474db5c46468bd908d84-0-87\" class=\"displacy-label\" startOffset=\"50%\" side=\"left\" fill=\"currentColor\" text-anchor=\"middle\">nmod</textPath>\n",
       "    </text>\n",
       "    <path class=\"displacy-arrowhead\" d=\"M8315.0,229.0 L8323.0,217.0 8307.0,217.0\" fill=\"currentColor\"/>\n",
       "</g>\n",
       "\n",
       "<g class=\"displacy-arrow\">\n",
       "    <path class=\"displacy-arc\" id=\"arrow-ee22f8d74ee7474db5c46468bd908d84-0-88\" stroke-width=\"2px\" d=\"M8440,227.0 C8440,182.0 8490.0,182.0 8490.0,227.0\" fill=\"none\" stroke=\"currentColor\"/>\n",
       "    <text dy=\"1.25em\" style=\"font-size: 0.8em; letter-spacing: 1px\">\n",
       "        <textPath xlink:href=\"#arrow-ee22f8d74ee7474db5c46468bd908d84-0-88\" class=\"displacy-label\" startOffset=\"50%\" side=\"left\" fill=\"currentColor\" text-anchor=\"middle\">case</textPath>\n",
       "    </text>\n",
       "    <path class=\"displacy-arrowhead\" d=\"M8440,229.0 L8432,217.0 8448,217.0\" fill=\"currentColor\"/>\n",
       "</g>\n",
       "\n",
       "<g class=\"displacy-arrow\">\n",
       "    <path class=\"displacy-arc\" id=\"arrow-ee22f8d74ee7474db5c46468bd908d84-0-89\" stroke-width=\"2px\" d=\"M8350,227.0 C8350,137.0 8495.0,137.0 8495.0,227.0\" fill=\"none\" stroke=\"currentColor\"/>\n",
       "    <text dy=\"1.25em\" style=\"font-size: 0.8em; letter-spacing: 1px\">\n",
       "        <textPath xlink:href=\"#arrow-ee22f8d74ee7474db5c46468bd908d84-0-89\" class=\"displacy-label\" startOffset=\"50%\" side=\"left\" fill=\"currentColor\" text-anchor=\"middle\">nmod</textPath>\n",
       "    </text>\n",
       "    <path class=\"displacy-arrowhead\" d=\"M8495.0,229.0 L8503.0,217.0 8487.0,217.0\" fill=\"currentColor\"/>\n",
       "</g>\n",
       "\n",
       "<g class=\"displacy-arrow\">\n",
       "    <path class=\"displacy-arc\" id=\"arrow-ee22f8d74ee7474db5c46468bd908d84-0-90\" stroke-width=\"2px\" d=\"M8620,227.0 C8620,92.0 8860.0,92.0 8860.0,227.0\" fill=\"none\" stroke=\"currentColor\"/>\n",
       "    <text dy=\"1.25em\" style=\"font-size: 0.8em; letter-spacing: 1px\">\n",
       "        <textPath xlink:href=\"#arrow-ee22f8d74ee7474db5c46468bd908d84-0-90\" class=\"displacy-label\" startOffset=\"50%\" side=\"left\" fill=\"currentColor\" text-anchor=\"middle\">nsubj</textPath>\n",
       "    </text>\n",
       "    <path class=\"displacy-arrowhead\" d=\"M8620,229.0 L8612,217.0 8628,217.0\" fill=\"currentColor\"/>\n",
       "</g>\n",
       "\n",
       "<g class=\"displacy-arrow\">\n",
       "    <path class=\"displacy-arc\" id=\"arrow-ee22f8d74ee7474db5c46468bd908d84-0-91\" stroke-width=\"2px\" d=\"M8710,227.0 C8710,137.0 8855.0,137.0 8855.0,227.0\" fill=\"none\" stroke=\"currentColor\"/>\n",
       "    <text dy=\"1.25em\" style=\"font-size: 0.8em; letter-spacing: 1px\">\n",
       "        <textPath xlink:href=\"#arrow-ee22f8d74ee7474db5c46468bd908d84-0-91\" class=\"displacy-label\" startOffset=\"50%\" side=\"left\" fill=\"currentColor\" text-anchor=\"middle\">cop</textPath>\n",
       "    </text>\n",
       "    <path class=\"displacy-arrowhead\" d=\"M8710,229.0 L8702,217.0 8718,217.0\" fill=\"currentColor\"/>\n",
       "</g>\n",
       "\n",
       "<g class=\"displacy-arrow\">\n",
       "    <path class=\"displacy-arc\" id=\"arrow-ee22f8d74ee7474db5c46468bd908d84-0-92\" stroke-width=\"2px\" d=\"M8800,227.0 C8800,182.0 8850.0,182.0 8850.0,227.0\" fill=\"none\" stroke=\"currentColor\"/>\n",
       "    <text dy=\"1.25em\" style=\"font-size: 0.8em; letter-spacing: 1px\">\n",
       "        <textPath xlink:href=\"#arrow-ee22f8d74ee7474db5c46468bd908d84-0-92\" class=\"displacy-label\" startOffset=\"50%\" side=\"left\" fill=\"currentColor\" text-anchor=\"middle\">case</textPath>\n",
       "    </text>\n",
       "    <path class=\"displacy-arrowhead\" d=\"M8800,229.0 L8792,217.0 8808,217.0\" fill=\"currentColor\"/>\n",
       "</g>\n",
       "\n",
       "<g class=\"displacy-arrow\">\n",
       "    <path class=\"displacy-arc\" id=\"arrow-ee22f8d74ee7474db5c46468bd908d84-0-93\" stroke-width=\"2px\" d=\"M8980,227.0 C8980,182.0 9030.0,182.0 9030.0,227.0\" fill=\"none\" stroke=\"currentColor\"/>\n",
       "    <text dy=\"1.25em\" style=\"font-size: 0.8em; letter-spacing: 1px\">\n",
       "        <textPath xlink:href=\"#arrow-ee22f8d74ee7474db5c46468bd908d84-0-93\" class=\"displacy-label\" startOffset=\"50%\" side=\"left\" fill=\"currentColor\" text-anchor=\"middle\">case</textPath>\n",
       "    </text>\n",
       "    <path class=\"displacy-arrowhead\" d=\"M8980,229.0 L8972,217.0 8988,217.0\" fill=\"currentColor\"/>\n",
       "</g>\n",
       "\n",
       "<g class=\"displacy-arrow\">\n",
       "    <path class=\"displacy-arc\" id=\"arrow-ee22f8d74ee7474db5c46468bd908d84-0-94\" stroke-width=\"2px\" d=\"M8890,227.0 C8890,137.0 9035.0,137.0 9035.0,227.0\" fill=\"none\" stroke=\"currentColor\"/>\n",
       "    <text dy=\"1.25em\" style=\"font-size: 0.8em; letter-spacing: 1px\">\n",
       "        <textPath xlink:href=\"#arrow-ee22f8d74ee7474db5c46468bd908d84-0-94\" class=\"displacy-label\" startOffset=\"50%\" side=\"left\" fill=\"currentColor\" text-anchor=\"middle\">nmod</textPath>\n",
       "    </text>\n",
       "    <path class=\"displacy-arrowhead\" d=\"M9035.0,229.0 L9043.0,217.0 9027.0,217.0\" fill=\"currentColor\"/>\n",
       "</g>\n",
       "\n",
       "<g class=\"displacy-arrow\">\n",
       "    <path class=\"displacy-arc\" id=\"arrow-ee22f8d74ee7474db5c46468bd908d84-0-95\" stroke-width=\"2px\" d=\"M9070,227.0 C9070,182.0 9120.0,182.0 9120.0,227.0\" fill=\"none\" stroke=\"currentColor\"/>\n",
       "    <text dy=\"1.25em\" style=\"font-size: 0.8em; letter-spacing: 1px\">\n",
       "        <textPath xlink:href=\"#arrow-ee22f8d74ee7474db5c46468bd908d84-0-95\" class=\"displacy-label\" startOffset=\"50%\" side=\"left\" fill=\"currentColor\" text-anchor=\"middle\">flat:name</textPath>\n",
       "    </text>\n",
       "    <path class=\"displacy-arrowhead\" d=\"M9120.0,229.0 L9128.0,217.0 9112.0,217.0\" fill=\"currentColor\"/>\n",
       "</g>\n",
       "\n",
       "<g class=\"displacy-arrow\">\n",
       "    <path class=\"displacy-arc\" id=\"arrow-ee22f8d74ee7474db5c46468bd908d84-0-96\" stroke-width=\"2px\" d=\"M9250,227.0 C9250,182.0 9300.0,182.0 9300.0,227.0\" fill=\"none\" stroke=\"currentColor\"/>\n",
       "    <text dy=\"1.25em\" style=\"font-size: 0.8em; letter-spacing: 1px\">\n",
       "        <textPath xlink:href=\"#arrow-ee22f8d74ee7474db5c46468bd908d84-0-96\" class=\"displacy-label\" startOffset=\"50%\" side=\"left\" fill=\"currentColor\" text-anchor=\"middle\">case</textPath>\n",
       "    </text>\n",
       "    <path class=\"displacy-arrowhead\" d=\"M9250,229.0 L9242,217.0 9258,217.0\" fill=\"currentColor\"/>\n",
       "</g>\n",
       "\n",
       "<g class=\"displacy-arrow\">\n",
       "    <path class=\"displacy-arc\" id=\"arrow-ee22f8d74ee7474db5c46468bd908d84-0-97\" stroke-width=\"2px\" d=\"M8890,227.0 C8890,92.0 9310.0,92.0 9310.0,227.0\" fill=\"none\" stroke=\"currentColor\"/>\n",
       "    <text dy=\"1.25em\" style=\"font-size: 0.8em; letter-spacing: 1px\">\n",
       "        <textPath xlink:href=\"#arrow-ee22f8d74ee7474db5c46468bd908d84-0-97\" class=\"displacy-label\" startOffset=\"50%\" side=\"left\" fill=\"currentColor\" text-anchor=\"middle\">nmod</textPath>\n",
       "    </text>\n",
       "    <path class=\"displacy-arrowhead\" d=\"M9310.0,229.0 L9318.0,217.0 9302.0,217.0\" fill=\"currentColor\"/>\n",
       "</g>\n",
       "\n",
       "<g class=\"displacy-arrow\">\n",
       "    <path class=\"displacy-arc\" id=\"arrow-ee22f8d74ee7474db5c46468bd908d84-0-98\" stroke-width=\"2px\" d=\"M9340,227.0 C9340,182.0 9390.0,182.0 9390.0,227.0\" fill=\"none\" stroke=\"currentColor\"/>\n",
       "    <text dy=\"1.25em\" style=\"font-size: 0.8em; letter-spacing: 1px\">\n",
       "        <textPath xlink:href=\"#arrow-ee22f8d74ee7474db5c46468bd908d84-0-98\" class=\"displacy-label\" startOffset=\"50%\" side=\"left\" fill=\"currentColor\" text-anchor=\"middle\">flat:name</textPath>\n",
       "    </text>\n",
       "    <path class=\"displacy-arrowhead\" d=\"M9390.0,229.0 L9398.0,217.0 9382.0,217.0\" fill=\"currentColor\"/>\n",
       "</g>\n",
       "\n",
       "<g class=\"displacy-arrow\">\n",
       "    <path class=\"displacy-arc\" id=\"arrow-ee22f8d74ee7474db5c46468bd908d84-0-99\" stroke-width=\"2px\" d=\"M9520,227.0 C9520,137.0 9665.0,137.0 9665.0,227.0\" fill=\"none\" stroke=\"currentColor\"/>\n",
       "    <text dy=\"1.25em\" style=\"font-size: 0.8em; letter-spacing: 1px\">\n",
       "        <textPath xlink:href=\"#arrow-ee22f8d74ee7474db5c46468bd908d84-0-99\" class=\"displacy-label\" startOffset=\"50%\" side=\"left\" fill=\"currentColor\" text-anchor=\"middle\">advmod</textPath>\n",
       "    </text>\n",
       "    <path class=\"displacy-arrowhead\" d=\"M9520,229.0 L9512,217.0 9528,217.0\" fill=\"currentColor\"/>\n",
       "</g>\n",
       "\n",
       "<g class=\"displacy-arrow\">\n",
       "    <path class=\"displacy-arc\" id=\"arrow-ee22f8d74ee7474db5c46468bd908d84-0-100\" stroke-width=\"2px\" d=\"M9520,227.0 C9520,182.0 9570.0,182.0 9570.0,227.0\" fill=\"none\" stroke=\"currentColor\"/>\n",
       "    <text dy=\"1.25em\" style=\"font-size: 0.8em; letter-spacing: 1px\">\n",
       "        <textPath xlink:href=\"#arrow-ee22f8d74ee7474db5c46468bd908d84-0-100\" class=\"displacy-label\" startOffset=\"50%\" side=\"left\" fill=\"currentColor\" text-anchor=\"middle\">fixed</textPath>\n",
       "    </text>\n",
       "    <path class=\"displacy-arrowhead\" d=\"M9570.0,229.0 L9578.0,217.0 9562.0,217.0\" fill=\"currentColor\"/>\n",
       "</g>\n",
       "\n",
       "<g class=\"displacy-arrow\">\n",
       "    <path class=\"displacy-arc\" id=\"arrow-ee22f8d74ee7474db5c46468bd908d84-0-101\" stroke-width=\"2px\" d=\"M9700,227.0 C9700,92.0 10030.0,92.0 10030.0,227.0\" fill=\"none\" stroke=\"currentColor\"/>\n",
       "    <text dy=\"1.25em\" style=\"font-size: 0.8em; letter-spacing: 1px\">\n",
       "        <textPath xlink:href=\"#arrow-ee22f8d74ee7474db5c46468bd908d84-0-101\" class=\"displacy-label\" startOffset=\"50%\" side=\"left\" fill=\"currentColor\" text-anchor=\"middle\">advcl</textPath>\n",
       "    </text>\n",
       "    <path class=\"displacy-arrowhead\" d=\"M9700,229.0 L9692,217.0 9708,217.0\" fill=\"currentColor\"/>\n",
       "</g>\n",
       "\n",
       "<g class=\"displacy-arrow\">\n",
       "    <path class=\"displacy-arc\" id=\"arrow-ee22f8d74ee7474db5c46468bd908d84-0-102\" stroke-width=\"2px\" d=\"M9790,227.0 C9790,182.0 9840.0,182.0 9840.0,227.0\" fill=\"none\" stroke=\"currentColor\"/>\n",
       "    <text dy=\"1.25em\" style=\"font-size: 0.8em; letter-spacing: 1px\">\n",
       "        <textPath xlink:href=\"#arrow-ee22f8d74ee7474db5c46468bd908d84-0-102\" class=\"displacy-label\" startOffset=\"50%\" side=\"left\" fill=\"currentColor\" text-anchor=\"middle\">det</textPath>\n",
       "    </text>\n",
       "    <path class=\"displacy-arrowhead\" d=\"M9790,229.0 L9782,217.0 9798,217.0\" fill=\"currentColor\"/>\n",
       "</g>\n",
       "\n",
       "<g class=\"displacy-arrow\">\n",
       "    <path class=\"displacy-arc\" id=\"arrow-ee22f8d74ee7474db5c46468bd908d84-0-103\" stroke-width=\"2px\" d=\"M9700,227.0 C9700,137.0 9845.0,137.0 9845.0,227.0\" fill=\"none\" stroke=\"currentColor\"/>\n",
       "    <text dy=\"1.25em\" style=\"font-size: 0.8em; letter-spacing: 1px\">\n",
       "        <textPath xlink:href=\"#arrow-ee22f8d74ee7474db5c46468bd908d84-0-103\" class=\"displacy-label\" startOffset=\"50%\" side=\"left\" fill=\"currentColor\" text-anchor=\"middle\">nsubj</textPath>\n",
       "    </text>\n",
       "    <path class=\"displacy-arrowhead\" d=\"M9845.0,229.0 L9853.0,217.0 9837.0,217.0\" fill=\"currentColor\"/>\n",
       "</g>\n",
       "\n",
       "<g class=\"displacy-arrow\">\n",
       "    <path class=\"displacy-arc\" id=\"arrow-ee22f8d74ee7474db5c46468bd908d84-0-104\" stroke-width=\"2px\" d=\"M9970,227.0 C9970,182.0 10020.0,182.0 10020.0,227.0\" fill=\"none\" stroke=\"currentColor\"/>\n",
       "    <text dy=\"1.25em\" style=\"font-size: 0.8em; letter-spacing: 1px\">\n",
       "        <textPath xlink:href=\"#arrow-ee22f8d74ee7474db5c46468bd908d84-0-104\" class=\"displacy-label\" startOffset=\"50%\" side=\"left\" fill=\"currentColor\" text-anchor=\"middle\">nsubj</textPath>\n",
       "    </text>\n",
       "    <path class=\"displacy-arrowhead\" d=\"M9970,229.0 L9962,217.0 9978,217.0\" fill=\"currentColor\"/>\n",
       "</g>\n",
       "\n",
       "<g class=\"displacy-arrow\">\n",
       "    <path class=\"displacy-arc\" id=\"arrow-ee22f8d74ee7474db5c46468bd908d84-0-105\" stroke-width=\"2px\" d=\"M10150,227.0 C10150,182.0 10200.0,182.0 10200.0,227.0\" fill=\"none\" stroke=\"currentColor\"/>\n",
       "    <text dy=\"1.25em\" style=\"font-size: 0.8em; letter-spacing: 1px\">\n",
       "        <textPath xlink:href=\"#arrow-ee22f8d74ee7474db5c46468bd908d84-0-105\" class=\"displacy-label\" startOffset=\"50%\" side=\"left\" fill=\"currentColor\" text-anchor=\"middle\">det</textPath>\n",
       "    </text>\n",
       "    <path class=\"displacy-arrowhead\" d=\"M10150,229.0 L10142,217.0 10158,217.0\" fill=\"currentColor\"/>\n",
       "</g>\n",
       "\n",
       "<g class=\"displacy-arrow\">\n",
       "    <path class=\"displacy-arc\" id=\"arrow-ee22f8d74ee7474db5c46468bd908d84-0-106\" stroke-width=\"2px\" d=\"M10060,227.0 C10060,137.0 10205.0,137.0 10205.0,227.0\" fill=\"none\" stroke=\"currentColor\"/>\n",
       "    <text dy=\"1.25em\" style=\"font-size: 0.8em; letter-spacing: 1px\">\n",
       "        <textPath xlink:href=\"#arrow-ee22f8d74ee7474db5c46468bd908d84-0-106\" class=\"displacy-label\" startOffset=\"50%\" side=\"left\" fill=\"currentColor\" text-anchor=\"middle\">obj</textPath>\n",
       "    </text>\n",
       "    <path class=\"displacy-arrowhead\" d=\"M10205.0,229.0 L10213.0,217.0 10197.0,217.0\" fill=\"currentColor\"/>\n",
       "</g>\n",
       "\n",
       "<g class=\"displacy-arrow\">\n",
       "    <path class=\"displacy-arc\" id=\"arrow-ee22f8d74ee7474db5c46468bd908d84-0-107\" stroke-width=\"2px\" d=\"M10330,227.0 C10330,182.0 10380.0,182.0 10380.0,227.0\" fill=\"none\" stroke=\"currentColor\"/>\n",
       "    <text dy=\"1.25em\" style=\"font-size: 0.8em; letter-spacing: 1px\">\n",
       "        <textPath xlink:href=\"#arrow-ee22f8d74ee7474db5c46468bd908d84-0-107\" class=\"displacy-label\" startOffset=\"50%\" side=\"left\" fill=\"currentColor\" text-anchor=\"middle\">case</textPath>\n",
       "    </text>\n",
       "    <path class=\"displacy-arrowhead\" d=\"M10330,229.0 L10322,217.0 10338,217.0\" fill=\"currentColor\"/>\n",
       "</g>\n",
       "\n",
       "<g class=\"displacy-arrow\">\n",
       "    <path class=\"displacy-arc\" id=\"arrow-ee22f8d74ee7474db5c46468bd908d84-0-108\" stroke-width=\"2px\" d=\"M10060,227.0 C10060,92.0 10390.0,92.0 10390.0,227.0\" fill=\"none\" stroke=\"currentColor\"/>\n",
       "    <text dy=\"1.25em\" style=\"font-size: 0.8em; letter-spacing: 1px\">\n",
       "        <textPath xlink:href=\"#arrow-ee22f8d74ee7474db5c46468bd908d84-0-108\" class=\"displacy-label\" startOffset=\"50%\" side=\"left\" fill=\"currentColor\" text-anchor=\"middle\">obl</textPath>\n",
       "    </text>\n",
       "    <path class=\"displacy-arrowhead\" d=\"M10390.0,229.0 L10398.0,217.0 10382.0,217.0\" fill=\"currentColor\"/>\n",
       "</g>\n",
       "\n",
       "<g class=\"displacy-arrow\">\n",
       "    <path class=\"displacy-arc\" id=\"arrow-ee22f8d74ee7474db5c46468bd908d84-0-109\" stroke-width=\"2px\" d=\"M10510,227.0 C10510,182.0 10560.0,182.0 10560.0,227.0\" fill=\"none\" stroke=\"currentColor\"/>\n",
       "    <text dy=\"1.25em\" style=\"font-size: 0.8em; letter-spacing: 1px\">\n",
       "        <textPath xlink:href=\"#arrow-ee22f8d74ee7474db5c46468bd908d84-0-109\" class=\"displacy-label\" startOffset=\"50%\" side=\"left\" fill=\"currentColor\" text-anchor=\"middle\">det</textPath>\n",
       "    </text>\n",
       "    <path class=\"displacy-arrowhead\" d=\"M10510,229.0 L10502,217.0 10518,217.0\" fill=\"currentColor\"/>\n",
       "</g>\n",
       "\n",
       "<g class=\"displacy-arrow\">\n",
       "    <path class=\"displacy-arc\" id=\"arrow-ee22f8d74ee7474db5c46468bd908d84-0-110\" stroke-width=\"2px\" d=\"M10420,227.0 C10420,137.0 10565.0,137.0 10565.0,227.0\" fill=\"none\" stroke=\"currentColor\"/>\n",
       "    <text dy=\"1.25em\" style=\"font-size: 0.8em; letter-spacing: 1px\">\n",
       "        <textPath xlink:href=\"#arrow-ee22f8d74ee7474db5c46468bd908d84-0-110\" class=\"displacy-label\" startOffset=\"50%\" side=\"left\" fill=\"currentColor\" text-anchor=\"middle\">appos</textPath>\n",
       "    </text>\n",
       "    <path class=\"displacy-arrowhead\" d=\"M10565.0,229.0 L10573.0,217.0 10557.0,217.0\" fill=\"currentColor\"/>\n",
       "</g>\n",
       "\n",
       "<g class=\"displacy-arrow\">\n",
       "    <path class=\"displacy-arc\" id=\"arrow-ee22f8d74ee7474db5c46468bd908d84-0-111\" stroke-width=\"2px\" d=\"M10600,227.0 C10600,182.0 10650.0,182.0 10650.0,227.0\" fill=\"none\" stroke=\"currentColor\"/>\n",
       "    <text dy=\"1.25em\" style=\"font-size: 0.8em; letter-spacing: 1px\">\n",
       "        <textPath xlink:href=\"#arrow-ee22f8d74ee7474db5c46468bd908d84-0-111\" class=\"displacy-label\" startOffset=\"50%\" side=\"left\" fill=\"currentColor\" text-anchor=\"middle\">amod</textPath>\n",
       "    </text>\n",
       "    <path class=\"displacy-arrowhead\" d=\"M10650.0,229.0 L10658.0,217.0 10642.0,217.0\" fill=\"currentColor\"/>\n",
       "</g>\n",
       "\n",
       "<g class=\"displacy-arrow\">\n",
       "    <path class=\"displacy-arc\" id=\"arrow-ee22f8d74ee7474db5c46468bd908d84-0-112\" stroke-width=\"2px\" d=\"M10600,227.0 C10600,137.0 10745.0,137.0 10745.0,227.0\" fill=\"none\" stroke=\"currentColor\"/>\n",
       "    <text dy=\"1.25em\" style=\"font-size: 0.8em; letter-spacing: 1px\">\n",
       "        <textPath xlink:href=\"#arrow-ee22f8d74ee7474db5c46468bd908d84-0-112\" class=\"displacy-label\" startOffset=\"50%\" side=\"left\" fill=\"currentColor\" text-anchor=\"middle\">amod</textPath>\n",
       "    </text>\n",
       "    <path class=\"displacy-arrowhead\" d=\"M10745.0,229.0 L10753.0,217.0 10737.0,217.0\" fill=\"currentColor\"/>\n",
       "</g>\n",
       "\n",
       "<g class=\"displacy-arrow\">\n",
       "    <path class=\"displacy-arc\" id=\"arrow-ee22f8d74ee7474db5c46468bd908d84-0-113\" stroke-width=\"2px\" d=\"M10600,227.0 C10600,92.0 10840.0,92.0 10840.0,227.0\" fill=\"none\" stroke=\"currentColor\"/>\n",
       "    <text dy=\"1.25em\" style=\"font-size: 0.8em; letter-spacing: 1px\">\n",
       "        <textPath xlink:href=\"#arrow-ee22f8d74ee7474db5c46468bd908d84-0-113\" class=\"displacy-label\" startOffset=\"50%\" side=\"left\" fill=\"currentColor\" text-anchor=\"middle\">advmod</textPath>\n",
       "    </text>\n",
       "    <path class=\"displacy-arrowhead\" d=\"M10840.0,229.0 L10848.0,217.0 10832.0,217.0\" fill=\"currentColor\"/>\n",
       "</g>\n",
       "</svg></span>"
      ],
      "text/plain": [
       "<IPython.core.display.HTML object>"
      ]
     },
     "metadata": {},
     "output_type": "display_data"
    }
   ],
   "source": [
    "# Visualize the syntactic dependencies in the text using displaCy\n",
    "# - displacy.render() renders the syntactic dependencies in the text\n",
    "# - doc: The Doc object containing the processed text\n",
    "# - style='dep': Specifies that the visualization should show syntactic dependencies\n",
    "# - jupyter=True: Specifies that the visualization should be displayed in a Jupyter notebook\n",
    "# - options={'distance': 90}: Sets the distance between words in the visualization for better readability\n",
    "displacy.render(doc, style='dep', jupyter=True, options={'distance': 90})\n",
    "\n",
    "# To know more about the Universal Dependencies standard, check: https://universaldependencies.org/u/dep/index.html\n",
    "# Universal Dependencies is a framework for consistent annotation of grammar (parts of speech, morphological features, and syntactic dependencies) across different human languages."
   ]
  },
  {
   "cell_type": "markdown",
   "metadata": {},
   "source": [
    "## IOB2 Tagging Scheme\n",
    "\n",
    "The **Inside-outside-beginning (IOB)** tagging scheme is a widely-used format in Named Entity Recognition (NER). The **IOB2** tagging scheme, also known as the **Begin-inside-outside (BIO)** tagging scheme, enhances the basic concept by providing clear distinctions between different parts of entities.\n",
    "\n",
    "### Key Concepts of IOB2\n",
    "\n",
    "- **B (Beginning)**: Indicates the beginning of an entity.\n",
    "- **I (Inside)**: Marks the continuation of an entity.\n",
    "- **O (Outside)**: Denotes tokens that do not belong to any entity.\n",
    "\n",
    "This scheme helps in distinguishing between different entities and managing multi-word entities, such as full names or locations.\n",
    "\n",
    "### Example of IOB2 Notation\n",
    "\n",
    "Consider the sentence:\n",
    "\n",
    "> \"Meu nome é Elias Jacob e eu vivo em Natal\"\n",
    "\n",
    "With IOB2 notation, the tagged sentence would be:\n",
    "\n",
    "```\n",
    "Meu O\n",
    "nome O\n",
    "é O\n",
    "Elias B-PER\n",
    "Jacob I-PER\n",
    "e O\n",
    "eu O\n",
    "vivo O\n",
    "em O\n",
    "Natal B-LOC\n",
    "```\n",
    "\n",
    "- `B-PER` indicates the beginning of a person's name ('Elias').\n",
    "- `I-PER` continues the same person's name ('Jacob').\n",
    "- `B-LOC` signifies the beginning of a location entity ('Natal').\n",
    "- `O` labels non-entity tokens.\n",
    "\n",
    "### Flexibility of Entity Definition in IOB2\n",
    "\n",
    "The IOB2 scheme is flexible and can accommodate various entity types beyond the common labels like `PER` (person), `LOC` (location), `ORG` (organization), and `MISC` (miscellaneous). For instance, if your task involves identifying `CITY` and `STATE`, the tagging would adapt accordingly:\n",
    "\n",
    "```\n",
    "Meu O\n",
    "nome O\n",
    "é O\n",
    "Elias O\n",
    "Jacob O\n",
    "e O\n",
    "eu O\n",
    "vivo O\n",
    "em O\n",
    "Natal B-CITY\n",
    "```\n",
    "\n",
    "Here, `B-CITY` marks 'Natal' as a city entity.\n",
    "\n",
    "### Contemporary Approaches and Preferences\n",
    "\n",
    "While IOB2 tagging traditionally assumes each token is a word, modern NLP often uses subword tokens such as wordpieces or byte-pair encodings (BPE). In these cases, the IOB2 scheme can be less effective due to ambiguity in classifying subword tokens.\n",
    "\n",
    "#### Alternative Scheme\n",
    "\n",
    "To address this, a more flexible schema might be used, consisting of a tuple with four elements: the start and end index of the entity, the entity type, and the entity value. For the sentence \"Meu nome é Elias Jacob e eu vivo em Natal\":\n",
    "\n",
    "```python\n",
    "(11, 22, 'person', 'Elias Jacob')\n",
    "(36, 41, 'location', 'Natal')\n",
    "```\n",
    "\n",
    "This method is explicit and accommodates any tokenization type, though it is more verbose and only focuses on entities, ignoring non-entity tokens.\n",
    "\n",
    "### Applying IOB2 Tagging in Portuguese Texts\n",
    "\n",
    "For practical applications, such as training models with Portuguese text, we'll need to perform some data preparation. Typically, data is formatted in the CoNLL format, a tab-separated structure where each line contains a word and its named entity tag.\n",
    "\n",
    "> Note: The example below is derived from a real Portuguese dataset. Sensitive information has been removed, and the file follows the CoNLL format.\n",
    ">\n",
    "> For more details, refer to the [CoNLL format documentation](https://www.aclweb.org/anthology/W03-0419.pdf).\n",
    "\n",
    "When working with such data, ensure correct formatting to effectively train your NER models.\n"
   ]
  },
  {
   "cell_type": "code",
   "execution_count": 8,
   "metadata": {},
   "outputs": [
    {
     "name": "stdout",
     "output_type": "stream",
     "text": [
      "10\tO\n",
      ":\tO\n",
      "00\tO\n",
      ":\tO\n",
      "AVALIADO\tO\n",
      "RAIO\tB-Procedimento de diagnóstico\n",
      "X\tI-Procedimento de diagnóstico\n",
      ",\tO\n",
      "SNE\tB-Dispositivo médico\n",
      "MAL\tB-Conceito qualitativo\n",
      "POSICIONADA\tI-Conceito qualitativo\n",
      ",\tO\n",
      "REPASSADA\tO\n",
      "SEM\tB-Negação\n",
      "INTERCORRÊNCIA\tI-Negação\n",
      "NO\tI-Negação\n",
      "PROCEDIMENTO\tB-Atividade de saúde\n",
      ".\tO\n",
      "AUSCULTA\tB-Sinal ou sintoma\n",
      "ABDOMINAL\tI-Sinal ou sintoma\n",
      "POSITIVA\tI-Sinal ou sintoma\n",
      ".\tO\n",
      "RETIRO\tO\n",
      "FIO\tB-Dispositivo médico\n",
      "GUIA\tI-Dispositivo médico\n",
      ",\tO\n",
      "SOLICITO\tO\n",
      "RAIO\tO\n",
      "X\tO\n",
      "PARA\tO\n",
      "AVALIAÇÃO\tO\n",
      "DA\tO\n",
      "POSIÇÃO\tO\n",
      ".\tO\n",
      "17\tO\n",
      ":\tO\n",
      "50\tO\n",
      ":\tO\n",
      "CLIENTE\tB-Paciente ou Grupo Deficiente\n",
      "RELATOU\tO\n",
      "CEFALÉIA\tB-Sinal ou sintoma\n",
      "NO\tO\n",
      "PERÍODO\tB-Conceito temporal\n",
      "DA\tI-Conceito temporal\n",
      "MANHÃ\tI-Conceito temporal\n",
      "E\tO\n",
      "FOI\tO\n",
      "MEDICADO\tB-Procedimento terapêutico ou preventivo\n",
      ".\tO\n",
      "CONSCIENTE\tB-Achado\n",
      ",\tO\n",
      "PUPILAS\tB-Achado\n",
      "ISOCÓRICAS\tI-Achado\n",
      "FOTORREAGENTES\tI-Achado\n",
      ",\tO\n",
      "COMUNICATIVO\tB-Achado\n",
      ",\tO\n",
      "EUPNÉICO\tB-Achado\n",
      ",\tO\n",
      "REPOUSO\tB-Achado\n",
      "NO\tI-Achado\n",
      "LEITO\tI-Achado\n",
      ",\tO\n",
      "ACEITANDO\tO\n",
      "BEM\tO\n",
      "A\tO\n",
      "DIETA\tB-Comida\n",
      ",\tO\n",
      "SEM\tO\n",
      "ACESSO\tB-Dispositivo médico\n",
      "PERIFÉRICO\tI-Dispositivo médico\n",
      ",\tI-Dispositivo médico\n",
      "APRESENTANDO\tO\n",
      "EDEMA\tB-Sinal ou sintoma|Doença ou Síndrome\n",
      "EM\tO\n",
      "OMBRO\tB-Localização do corpo ou região\n",
      "E\tO\n",
      ",\tO\n",
      "MANTENDO\tO\n",
      "TIPÓIA\tB-Dispositivo médico\n",
      "DE\tI-Dispositivo médico\n",
      "ATADURA\tI-Dispositivo médico\n",
      "EM\tO\n",
      "MSE\tB-Localização do corpo ou região\n",
      ",\tO\n",
      "ABDÔMEN\tB-Localização do corpo ou região\n",
      "PLANO\tB-Procedimento terapêutico ou preventivo\n",
      "E\tI-Procedimento terapêutico ou preventivo\n",
      "FLÁCIDO\tI-Procedimento terapêutico ou preventivo\n",
      ",\tI-Procedimento terapêutico ou preventivo\n",
      "ELIMINAÇÕES\tB-Achado\n",
      "PRESENTES\tI-Achado\n",
      ".\tO\n",
      "20\tO\n",
      ":\tO\n",
      "50\tO\n",
      "h\tO\n",
      ":\tO\n",
      "Paciente\tB-Paciente ou Grupo Deficiente\n",
      "com\tO\n",
      "cuff\tB-Dispositivo médico\n",
      "furado\tI-Dispositivo médico\n",
      ",\tO\n",
      "realizado\tO\n",
      "troca\tB-Procedimento terapêutico ou preventivo\n",
      "de\tI-Procedimento terapêutico ou preventivo\n",
      "TOT\tB-Dispositivo médico\n",
      ",\tO\n",
      "instalado\tO\n",
      "TOT\tO\n",
      "7\tO\n",
      ".\tO\n",
      "5\tO\n",
      ",\tO\n",
      "VM\tB-Procedimento terapêutico ou preventivo\n",
      "modo\tB-Procedimento terapêutico ou preventivo\n",
      "controlado\tI-Procedimento terapêutico ou preventivo\n",
      "VC\tB-Abreviação\n",
      "500\tO\n",
      ",\tO\n",
      "PEEP\tB-Abreviação\n",
      "07\tO\n",
      ",\tO\n",
      "FIO2\tB-Abreviação\n",
      "a\tO\n",
      "50\tO\n",
      ".\tO\n",
      "22\tO\n",
      ":\tO\n",
      "30h\tO\n",
      ":\tO\n",
      "ESQUEMA\tO\n",
      "DE\tO\n",
      "SUPERVISÃO\tB-Atividade de saúde\n",
      "NOTURNA\tI-Atividade de saúde\n",
      ":\tO\n",
      "TRAQUEOSTOMIZADO\tB-Achado\n",
      ",\tO\n",
      "EM\tO\n",
      "DESMAME\tB-Procedimento terapêutico ou preventivo\n",
      "VENTILATÓRIO\tI-Procedimento terapêutico ou preventivo\n",
      "EM\tO\n",
      "PS\tB-Abreviação\n",
      "DE\tO\n",
      "17\tO\n",
      ",\tO\n",
      "PEEP\tO\n",
      "5\tO\n",
      ",\tO\n",
      "FIO2\tO\n",
      "50\tO\n",
      ".\tO\n",
      "PERMANECE\tO\n",
      "EXTREMAMENTE\tB-Conceito qualitativo\n",
      "AGITADO\tB-Sinal ou sintoma\n",
      "não\tO\n",
      "responde\tO\n",
      "à\tO\n",
      "sedação\tO\n",
      "intermitente\tO\n",
      ".\tO\n",
      "REINICIADO\tO\n",
      "DORMONID\tB-Substância farmacológica\n",
      "7\tO\n",
      "ML\tB-Abreviação\n",
      "H\tI-Abreviação\n",
      ",\tO\n",
      "FENTANIL\tB-Substância farmacológica\n",
      "2\tO\n",
      "ML\tO\n",
      "H\tO\n",
      "continua\tO\n",
      "não\tO\n",
      "respondendo\tO\n",
      ".\tO\n",
      "PERMANECE\tO\n",
      "AGITADO\tO\n",
      ",\tO\n",
      "ARRANCOU\tO\n",
      "SOE\tB-Abreviação\n",
      ".\tO\n",
      "ACESSO\tO\n",
      "VENOSO\tO\n",
      "PERIFÉRICO\tO\n",
      "EM\tO\n",
      "MSD\tB-Localização do corpo ou região\n",
      "COM\tO\n",
      "PLANO\tO\n",
      "BÁSICO\tO\n",
      "DE\tO\n",
      "HIDRATAÇÃO\tO\n",
      "SEDAÇÃO\tB-Procedimento terapêutico ou preventivo\n",
      ".\tO\n",
      "POLISSECRETIVO\tB-Sinal ou sintoma\n",
      "mantendo\tO\n",
      "trach\tO\n",
      "care\tO\n",
      ".\tO\n",
      "FO\tB-Lesão ou envenenamento\n",
      "SEM\tO\n",
      "SINAIS\tO\n",
      "FLOGÍSTICOS\tO\n",
      "EM\tO\n",
      "FACE\tB-Localização do corpo ou região\n",
      ",\tO\n",
      "EDEMA\tO\n",
      "EM\tO\n",
      "FACE\tO\n",
      "LD\tB-Abreviação\n",
      ".\tO\n",
      "MONITORIZAÇÃO\tB-Procedimento de diagnóstico\n",
      "DE\tI-Procedimento de diagnóstico\n",
      "MÚLTIPLOS\tI-Procedimento de diagnóstico\n",
      "PARÂMETROS\tI-Procedimento de diagnóstico\n",
      "CONFORME\tO\n",
      "ROTINA\tO\n",
      "DA\tO\n",
      "UTI\tB-Organização relacionada ao cuidado de saúde\n",
      ".\tO\n",
      "DIURESE\tO\n",
      "EM\tO\n",
      "UROPEN\tB-Dispositivo médico\n",
      ".\tO\n",
      "23\tO\n",
      ":\tO\n",
      "30\tO\n",
      "h\tO\n",
      ":\tO\n",
      "Retorna\tO\n",
      "do\tO\n",
      "CC\tB-Organização relacionada ao cuidado de saúde\n",
      ",\tO\n",
      "onde\tO\n",
      "realizou\tO\n",
      "relaparotomia\tB-Procedimento terapêutico ou preventivo\n",
      "exploradora\tI-Procedimento terapêutico ou preventivo\n",
      ",\tO\n",
      "instalado\tO\n",
      "sistema\tB-Procedimento terapêutico ou preventivo\n",
      "de\tI-Procedimento terapêutico ou preventivo\n",
      "aspiração\tI-Procedimento terapêutico ou preventivo\n",
      "fechado\tI-Procedimento terapêutico ou preventivo\n",
      "em\tO\n",
      "traqueostomia\tB-Procedimento terapêutico ou preventivo\n",
      "trach\tO\n",
      "care\tO\n",
      "no\tB-Conceito temporal\n",
      "CC\tI-Conceito temporal\n",
      ",\tO\n",
      "trajeto\tO\n",
      "de\tO\n",
      "volta\tO\n",
      "do\tO\n",
      "CC\tO\n",
      "sem\tB-Negação\n",
      "intercorrências\tI-Negação\n",
      ",\tO\n",
      "mantém\tO\n",
      "monitorização\tB-Procedimento de diagnóstico\n",
      "de\tI-Procedimento de diagnóstico\n",
      "parâmetros\tI-Procedimento de diagnóstico\n",
      ",\tO\n",
      "TOT\tO\n",
      "nº\tO\n",
      "7\tO\n",
      ",\tO\n",
      "5\tO\n",
      "em\tO\n",
      "rima\tB-Localização do corpo ou região\n",
      "22\tO\n",
      ",\tO\n",
      "VM\tO\n",
      "modo\tO\n",
      "VCV\tO\n",
      "440ml\tO\n",
      ",\tO\n",
      "peep\tB-Abreviação\n",
      "6\tO\n",
      ",\tO\n",
      "fio2\tB-Abreviação\n",
      "a\tO\n",
      "40\tO\n",
      ",\tO\n",
      "pupilas\tB-Achado\n",
      "isocóricas\tI-Achado\n",
      "fotorreagentes\tI-Achado\n",
      ",\tO\n",
      "SNG\tB-Procedimento terapêutico ou preventivo\n",
      "com\tO\n",
      "débito\tB-Conceito quantitativo\n",
      "em\tI-Conceito quantitativo\n",
      "média\tB-Conceito quantitativo\n",
      "quantidade\tI-Conceito quantitativo\n",
      "de\tO\n",
      "aspecto\tB-Sinal ou sintoma\n",
      "borra\tI-Sinal ou sintoma\n",
      "de\tI-Sinal ou sintoma\n",
      "café\tI-Sinal ou sintoma\n",
      ",\tO\n",
      "diurese\tO\n",
      "via\tO\n",
      "SVD\tB-Dispositivo médico\n",
      "em\tO\n",
      "média\tO\n",
      "quantidade\tO\n",
      ",\tO\n",
      "sem\tO\n",
      "grumos\tO\n",
      ",\tO\n",
      "de\tO\n",
      "cor\tB-Achado\n",
      "amarelo\tI-Achado\n",
      "claro\tI-Achado\n",
      ",\tO\n",
      "PAM\tB-Achado\n",
      "em\tO\n",
      "radial\tB-Parte do corpo, órgão ou componente do órgão\n",
      "esquerda\tB-Conceito espacial\n",
      ",\tO\n",
      "acesso\tB-Dispositivo médico\n",
      "venoso\tI-Dispositivo médico\n",
      "central\tI-Dispositivo médico\n",
      "em\tO\n",
      "subclávia\tB-Parte do corpo, órgão ou componente do órgão\n",
      "à\tO\n",
      "direita\tB-Conceito espacial\n",
      ",\tO\n",
      "evacuação\tO\n",
      "ausente\tO\n",
      "no\tO\n",
      "período\tO\n",
      ".\tO\n",
      "\n"
     ]
    }
   ],
   "source": [
    "with open('data/healthcare/example_medical.conll', 'r') as f:\n",
    "    text_example_medical = f.read()\n",
    "print(text_example_medical)\n"
   ]
  },
  {
   "cell_type": "code",
   "execution_count": 9,
   "metadata": {},
   "outputs": [
    {
     "name": "stdout",
     "output_type": "stream",
     "text": [
      "10:00: AVALIADO RAIO-X, SNE MAL POSICIONADA, REPASSADA SEM INTERCORRÊNCIA NO PROCEDIMENTO. AUSCULTA ABDOMINAL POSITIVA. RETIRO FIO GUIA, SOLICITO RAIO-X PARA AVALIAÇÃO DA POSIÇÃO. 17:50: CLIENTE RELATOU CEFALÉIA NO PERÍODO DA MANHÃ E FOI MEDICADO. CONSCIENTE, PUPILAS ISOCÓRICAS FOTORREAGENTES, COMUNICATIVO, EUPNÉICO, REPOUSO NO LEITO, ACEITANDO BEM A DIETA, SEM ACESSO PERIFÉRICO, APRESENTANDO EDEMA EM OMBRO E, MANTENDO TIPÓIA DE ATADURA EM MSE, ABDÔMEN PLANO E FLÁCIDO, ELIMINAÇÕES PRESENTES. 20:50 h: Paciente com cuff furado, realizado troca de TOT, instalado TOT 7.5, VM modo controlado VC 500, PEEP 07, FIO2 a 50%. 22:30h: ESQUEMA DE SUPERVISÃO NOTURNA: TRAQUEOSTOMIZADO, EM DESMAME VENTILATÓRIO EM PS DE 17, PEEP 5, FIO2 50%. PERMANECE EXTREMAMENTE AGITADO (não responde à sedação intermitente). REINICIADO  DORMONID 7 ML/H, FENTANIL 2 ML/H (continua não respondendo). PERMANECE AGITADO, ARRANCOU SOE. ACESSO VENOSO PERIFÉRICO EM MSD COM PLANO BÁSICO DE HIDRATAÇÃO + SEDAÇÃO. POLISSECRETIVO (mantendo trach care). FO SEM SINAIS FLOGÍSTICOS EM FACE, EDEMA EM FACE LD. MONITORIZAÇÃO DE MÚLTIPLOS PARÂMETROS CONFORME ROTINA DA UTI. DIURESE EM UROPEN. 23:30 h: Retorna do CC, onde realizou relaparotomia exploradora, instalado sistema de aspiração fechado em traqueostomia (trach care) no CC, trajeto de volta do CC sem intercorrências, mantém monitorização de parâmetros, TOT nº 7,5 em rima 22, VM modo VCV 440ml, peep 6, fio2 a 40%, pupilas isocóricas fotorreagentes, SNG com débito em média quantidade de aspecto borra de café, diurese via SVD em média quantidade, sem grumos, de cor amarelo claro, PAM em radial esquerda, acesso venoso central em subclávia à direita, evacuação ausente no período.\n"
     ]
    }
   ],
   "source": [
    "with open('data/healthcare/example_medical_raw.txt', 'r') as f:\n",
    "    raw_text_example_medical = f.read()\n",
    "\n",
    "print(raw_text_example_medical)"
   ]
  },
  {
   "cell_type": "code",
   "execution_count": 10,
   "metadata": {},
   "outputs": [
    {
     "data": {
      "text/plain": [
       "[['10', 'O'],\n",
       " [':', 'O'],\n",
       " ['00', 'O'],\n",
       " [':', 'O'],\n",
       " ['AVALIADO', 'O'],\n",
       " ['RAIO', 'B-Procedimento de diagnóstico'],\n",
       " ['X', 'I-Procedimento de diagnóstico'],\n",
       " [',', 'O'],\n",
       " ['SNE', 'B-Dispositivo médico'],\n",
       " ['MAL', 'B-Conceito qualitativo'],\n",
       " ['POSICIONADA', 'I-Conceito qualitativo'],\n",
       " [',', 'O'],\n",
       " ['REPASSADA', 'O'],\n",
       " ['SEM', 'B-Negação'],\n",
       " ['INTERCORRÊNCIA', 'I-Negação'],\n",
       " ['NO', 'I-Negação'],\n",
       " ['PROCEDIMENTO', 'B-Atividade de saúde'],\n",
       " ['.', 'O'],\n",
       " ['AUSCULTA', 'B-Sinal ou sintoma'],\n",
       " ['ABDOMINAL', 'I-Sinal ou sintoma'],\n",
       " ['POSITIVA', 'I-Sinal ou sintoma'],\n",
       " ['.', 'O'],\n",
       " ['RETIRO', 'O'],\n",
       " ['FIO', 'B-Dispositivo médico'],\n",
       " ['GUIA', 'I-Dispositivo médico'],\n",
       " [',', 'O'],\n",
       " ['SOLICITO', 'O'],\n",
       " ['RAIO', 'O'],\n",
       " ['X', 'O'],\n",
       " ['PARA', 'O'],\n",
       " ['AVALIAÇÃO', 'O'],\n",
       " ['DA', 'O'],\n",
       " ['POSIÇÃO', 'O'],\n",
       " ['.', 'O'],\n",
       " ['17', 'O'],\n",
       " [':', 'O'],\n",
       " ['50', 'O'],\n",
       " [':', 'O'],\n",
       " ['CLIENTE', 'B-Paciente ou Grupo Deficiente'],\n",
       " ['RELATOU', 'O'],\n",
       " ['CEFALÉIA', 'B-Sinal ou sintoma'],\n",
       " ['NO', 'O'],\n",
       " ['PERÍODO', 'B-Conceito temporal'],\n",
       " ['DA', 'I-Conceito temporal'],\n",
       " ['MANHÃ', 'I-Conceito temporal'],\n",
       " ['E', 'O'],\n",
       " ['FOI', 'O'],\n",
       " ['MEDICADO', 'B-Procedimento terapêutico ou preventivo'],\n",
       " ['.', 'O'],\n",
       " ['CONSCIENTE', 'B-Achado'],\n",
       " [',', 'O'],\n",
       " ['PUPILAS', 'B-Achado'],\n",
       " ['ISOCÓRICAS', 'I-Achado'],\n",
       " ['FOTORREAGENTES', 'I-Achado'],\n",
       " [',', 'O'],\n",
       " ['COMUNICATIVO', 'B-Achado'],\n",
       " [',', 'O'],\n",
       " ['EUPNÉICO', 'B-Achado'],\n",
       " [',', 'O'],\n",
       " ['REPOUSO', 'B-Achado'],\n",
       " ['NO', 'I-Achado'],\n",
       " ['LEITO', 'I-Achado'],\n",
       " [',', 'O'],\n",
       " ['ACEITANDO', 'O'],\n",
       " ['BEM', 'O'],\n",
       " ['A', 'O'],\n",
       " ['DIETA', 'B-Comida'],\n",
       " [',', 'O'],\n",
       " ['SEM', 'O'],\n",
       " ['ACESSO', 'B-Dispositivo médico'],\n",
       " ['PERIFÉRICO', 'I-Dispositivo médico'],\n",
       " [',', 'I-Dispositivo médico'],\n",
       " ['APRESENTANDO', 'O'],\n",
       " ['EDEMA', 'B-Sinal ou sintoma|Doença ou Síndrome'],\n",
       " ['EM', 'O'],\n",
       " ['OMBRO', 'B-Localização do corpo ou região'],\n",
       " ['E', 'O'],\n",
       " [',', 'O'],\n",
       " ['MANTENDO', 'O'],\n",
       " ['TIPÓIA', 'B-Dispositivo médico'],\n",
       " ['DE', 'I-Dispositivo médico'],\n",
       " ['ATADURA', 'I-Dispositivo médico'],\n",
       " ['EM', 'O'],\n",
       " ['MSE', 'B-Localização do corpo ou região'],\n",
       " [',', 'O'],\n",
       " ['ABDÔMEN', 'B-Localização do corpo ou região'],\n",
       " ['PLANO', 'B-Procedimento terapêutico ou preventivo'],\n",
       " ['E', 'I-Procedimento terapêutico ou preventivo'],\n",
       " ['FLÁCIDO', 'I-Procedimento terapêutico ou preventivo'],\n",
       " [',', 'I-Procedimento terapêutico ou preventivo'],\n",
       " ['ELIMINAÇÕES', 'B-Achado'],\n",
       " ['PRESENTES', 'I-Achado'],\n",
       " ['.', 'O'],\n",
       " ['20', 'O'],\n",
       " [':', 'O'],\n",
       " ['50', 'O'],\n",
       " ['h', 'O'],\n",
       " [':', 'O'],\n",
       " ['Paciente', 'B-Paciente ou Grupo Deficiente'],\n",
       " ['com', 'O'],\n",
       " ['cuff', 'B-Dispositivo médico'],\n",
       " ['furado', 'I-Dispositivo médico'],\n",
       " [',', 'O'],\n",
       " ['realizado', 'O'],\n",
       " ['troca', 'B-Procedimento terapêutico ou preventivo'],\n",
       " ['de', 'I-Procedimento terapêutico ou preventivo'],\n",
       " ['TOT', 'B-Dispositivo médico'],\n",
       " [',', 'O'],\n",
       " ['instalado', 'O'],\n",
       " ['TOT', 'O'],\n",
       " ['7', 'O'],\n",
       " ['.', 'O'],\n",
       " ['5', 'O'],\n",
       " [',', 'O'],\n",
       " ['VM', 'B-Procedimento terapêutico ou preventivo'],\n",
       " ['modo', 'B-Procedimento terapêutico ou preventivo'],\n",
       " ['controlado', 'I-Procedimento terapêutico ou preventivo'],\n",
       " ['VC', 'B-Abreviação'],\n",
       " ['500', 'O'],\n",
       " [',', 'O'],\n",
       " ['PEEP', 'B-Abreviação'],\n",
       " ['07', 'O'],\n",
       " [',', 'O'],\n",
       " ['FIO2', 'B-Abreviação'],\n",
       " ['a', 'O'],\n",
       " ['50', 'O'],\n",
       " ['.', 'O'],\n",
       " ['22', 'O'],\n",
       " [':', 'O'],\n",
       " ['30h', 'O'],\n",
       " [':', 'O'],\n",
       " ['ESQUEMA', 'O'],\n",
       " ['DE', 'O'],\n",
       " ['SUPERVISÃO', 'B-Atividade de saúde'],\n",
       " ['NOTURNA', 'I-Atividade de saúde'],\n",
       " [':', 'O'],\n",
       " ['TRAQUEOSTOMIZADO', 'B-Achado'],\n",
       " [',', 'O'],\n",
       " ['EM', 'O'],\n",
       " ['DESMAME', 'B-Procedimento terapêutico ou preventivo'],\n",
       " ['VENTILATÓRIO', 'I-Procedimento terapêutico ou preventivo'],\n",
       " ['EM', 'O'],\n",
       " ['PS', 'B-Abreviação'],\n",
       " ['DE', 'O'],\n",
       " ['17', 'O'],\n",
       " [',', 'O'],\n",
       " ['PEEP', 'O'],\n",
       " ['5', 'O'],\n",
       " [',', 'O'],\n",
       " ['FIO2', 'O'],\n",
       " ['50', 'O'],\n",
       " ['.', 'O'],\n",
       " ['PERMANECE', 'O'],\n",
       " ['EXTREMAMENTE', 'B-Conceito qualitativo'],\n",
       " ['AGITADO', 'B-Sinal ou sintoma'],\n",
       " ['não', 'O'],\n",
       " ['responde', 'O'],\n",
       " ['à', 'O'],\n",
       " ['sedação', 'O'],\n",
       " ['intermitente', 'O'],\n",
       " ['.', 'O'],\n",
       " ['REINICIADO', 'O'],\n",
       " ['DORMONID', 'B-Substância farmacológica'],\n",
       " ['7', 'O'],\n",
       " ['ML', 'B-Abreviação'],\n",
       " ['H', 'I-Abreviação'],\n",
       " [',', 'O'],\n",
       " ['FENTANIL', 'B-Substância farmacológica'],\n",
       " ['2', 'O'],\n",
       " ['ML', 'O'],\n",
       " ['H', 'O'],\n",
       " ['continua', 'O'],\n",
       " ['não', 'O'],\n",
       " ['respondendo', 'O'],\n",
       " ['.', 'O'],\n",
       " ['PERMANECE', 'O'],\n",
       " ['AGITADO', 'O'],\n",
       " [',', 'O'],\n",
       " ['ARRANCOU', 'O'],\n",
       " ['SOE', 'B-Abreviação'],\n",
       " ['.', 'O'],\n",
       " ['ACESSO', 'O'],\n",
       " ['VENOSO', 'O'],\n",
       " ['PERIFÉRICO', 'O'],\n",
       " ['EM', 'O'],\n",
       " ['MSD', 'B-Localização do corpo ou região'],\n",
       " ['COM', 'O'],\n",
       " ['PLANO', 'O'],\n",
       " ['BÁSICO', 'O'],\n",
       " ['DE', 'O'],\n",
       " ['HIDRATAÇÃO', 'O'],\n",
       " ['SEDAÇÃO', 'B-Procedimento terapêutico ou preventivo'],\n",
       " ['.', 'O'],\n",
       " ['POLISSECRETIVO', 'B-Sinal ou sintoma'],\n",
       " ['mantendo', 'O'],\n",
       " ['trach', 'O'],\n",
       " ['care', 'O'],\n",
       " ['.', 'O'],\n",
       " ['FO', 'B-Lesão ou envenenamento'],\n",
       " ['SEM', 'O'],\n",
       " ['SINAIS', 'O'],\n",
       " ['FLOGÍSTICOS', 'O'],\n",
       " ['EM', 'O'],\n",
       " ['FACE', 'B-Localização do corpo ou região'],\n",
       " [',', 'O'],\n",
       " ['EDEMA', 'O'],\n",
       " ['EM', 'O'],\n",
       " ['FACE', 'O'],\n",
       " ['LD', 'B-Abreviação'],\n",
       " ['.', 'O'],\n",
       " ['MONITORIZAÇÃO', 'B-Procedimento de diagnóstico'],\n",
       " ['DE', 'I-Procedimento de diagnóstico'],\n",
       " ['MÚLTIPLOS', 'I-Procedimento de diagnóstico'],\n",
       " ['PARÂMETROS', 'I-Procedimento de diagnóstico'],\n",
       " ['CONFORME', 'O'],\n",
       " ['ROTINA', 'O'],\n",
       " ['DA', 'O'],\n",
       " ['UTI', 'B-Organização relacionada ao cuidado de saúde'],\n",
       " ['.', 'O'],\n",
       " ['DIURESE', 'O'],\n",
       " ['EM', 'O'],\n",
       " ['UROPEN', 'B-Dispositivo médico'],\n",
       " ['.', 'O'],\n",
       " ['23', 'O'],\n",
       " [':', 'O'],\n",
       " ['30', 'O'],\n",
       " ['h', 'O'],\n",
       " [':', 'O'],\n",
       " ['Retorna', 'O'],\n",
       " ['do', 'O'],\n",
       " ['CC', 'B-Organização relacionada ao cuidado de saúde'],\n",
       " [',', 'O'],\n",
       " ['onde', 'O'],\n",
       " ['realizou', 'O'],\n",
       " ['relaparotomia', 'B-Procedimento terapêutico ou preventivo'],\n",
       " ['exploradora', 'I-Procedimento terapêutico ou preventivo'],\n",
       " [',', 'O'],\n",
       " ['instalado', 'O'],\n",
       " ['sistema', 'B-Procedimento terapêutico ou preventivo'],\n",
       " ['de', 'I-Procedimento terapêutico ou preventivo'],\n",
       " ['aspiração', 'I-Procedimento terapêutico ou preventivo'],\n",
       " ['fechado', 'I-Procedimento terapêutico ou preventivo'],\n",
       " ['em', 'O'],\n",
       " ['traqueostomia', 'B-Procedimento terapêutico ou preventivo'],\n",
       " ['trach', 'O'],\n",
       " ['care', 'O'],\n",
       " ['no', 'B-Conceito temporal'],\n",
       " ['CC', 'I-Conceito temporal'],\n",
       " [',', 'O'],\n",
       " ['trajeto', 'O'],\n",
       " ['de', 'O'],\n",
       " ['volta', 'O'],\n",
       " ['do', 'O'],\n",
       " ['CC', 'O'],\n",
       " ['sem', 'B-Negação'],\n",
       " ['intercorrências', 'I-Negação'],\n",
       " [',', 'O'],\n",
       " ['mantém', 'O'],\n",
       " ['monitorização', 'B-Procedimento de diagnóstico'],\n",
       " ['de', 'I-Procedimento de diagnóstico'],\n",
       " ['parâmetros', 'I-Procedimento de diagnóstico'],\n",
       " [',', 'O'],\n",
       " ['TOT', 'O'],\n",
       " ['nº', 'O'],\n",
       " ['7', 'O'],\n",
       " [',', 'O'],\n",
       " ['5', 'O'],\n",
       " ['em', 'O'],\n",
       " ['rima', 'B-Localização do corpo ou região'],\n",
       " ['22', 'O'],\n",
       " [',', 'O'],\n",
       " ['VM', 'O'],\n",
       " ['modo', 'O'],\n",
       " ['VCV', 'O'],\n",
       " ['440ml', 'O'],\n",
       " [',', 'O'],\n",
       " ['peep', 'B-Abreviação'],\n",
       " ['6', 'O'],\n",
       " [',', 'O'],\n",
       " ['fio2', 'B-Abreviação'],\n",
       " ['a', 'O'],\n",
       " ['40', 'O'],\n",
       " [',', 'O'],\n",
       " ['pupilas', 'B-Achado'],\n",
       " ['isocóricas', 'I-Achado'],\n",
       " ['fotorreagentes', 'I-Achado'],\n",
       " [',', 'O'],\n",
       " ['SNG', 'B-Procedimento terapêutico ou preventivo'],\n",
       " ['com', 'O'],\n",
       " ['débito', 'B-Conceito quantitativo'],\n",
       " ['em', 'I-Conceito quantitativo'],\n",
       " ['média', 'B-Conceito quantitativo'],\n",
       " ['quantidade', 'I-Conceito quantitativo'],\n",
       " ['de', 'O'],\n",
       " ['aspecto', 'B-Sinal ou sintoma'],\n",
       " ['borra', 'I-Sinal ou sintoma'],\n",
       " ['de', 'I-Sinal ou sintoma'],\n",
       " ['café', 'I-Sinal ou sintoma'],\n",
       " [',', 'O'],\n",
       " ['diurese', 'O'],\n",
       " ['via', 'O'],\n",
       " ['SVD', 'B-Dispositivo médico'],\n",
       " ['em', 'O'],\n",
       " ['média', 'O'],\n",
       " ['quantidade', 'O'],\n",
       " [',', 'O'],\n",
       " ['sem', 'O'],\n",
       " ['grumos', 'O'],\n",
       " [',', 'O'],\n",
       " ['de', 'O'],\n",
       " ['cor', 'B-Achado'],\n",
       " ['amarelo', 'I-Achado'],\n",
       " ['claro', 'I-Achado'],\n",
       " [',', 'O'],\n",
       " ['PAM', 'B-Achado'],\n",
       " ['em', 'O'],\n",
       " ['radial', 'B-Parte do corpo, órgão ou componente do órgão'],\n",
       " ['esquerda', 'B-Conceito espacial'],\n",
       " [',', 'O'],\n",
       " ['acesso', 'B-Dispositivo médico'],\n",
       " ['venoso', 'I-Dispositivo médico'],\n",
       " ['central', 'I-Dispositivo médico'],\n",
       " ['em', 'O'],\n",
       " ['subclávia', 'B-Parte do corpo, órgão ou componente do órgão'],\n",
       " ['à', 'O'],\n",
       " ['direita', 'B-Conceito espacial'],\n",
       " [',', 'O'],\n",
       " ['evacuação', 'O'],\n",
       " ['ausente', 'O'],\n",
       " ['no', 'O'],\n",
       " ['período', 'O'],\n",
       " ['.', 'O']]"
      ]
     },
     "execution_count": 10,
     "metadata": {},
     "output_type": "execute_result"
    }
   ],
   "source": [
    "# Initialize an empty list to store the entities\n",
    "# This list will hold the entities extracted from each line of the input text\n",
    "list_of_entities = []\n",
    "\n",
    "# Iterate over each line in the input text\n",
    "# - text_example_medical.split('\\n') splits the input text into lines based on the newline character\n",
    "for line in text_example_medical.split('\\n'):\n",
    "    # Check if the line is not empty\n",
    "    # - len(line) > 1 ensures that the line contains more than one character (i.e., it is not empty)\n",
    "    if len(line) > 1:\n",
    "        # Split the line into entities based on the tab character\n",
    "        # - line.split('\\t') splits the line into a list of entities using the tab character as the delimiter\n",
    "        # - Append the list of entities to the list_of_entities\n",
    "        list_of_entities.append(line.split('\\t'))\n",
    "\n",
    "# Print the list of entities\n",
    "# This list contains the entities extracted from each non-empty line of the input text\n",
    "list_of_entities"
   ]
  },
  {
   "cell_type": "code",
   "execution_count": 11,
   "metadata": {},
   "outputs": [
    {
     "data": {
      "text/plain": [
       "[(16, 20, 'B-Procedimento de diagnóstico'),\n",
       " (21, 22, 'I-Procedimento de diagnóstico'),\n",
       " (22, 23, 'I-Dispositivo médico'),\n",
       " (22, 23, 'I-Procedimento terapêutico ou preventivo'),\n",
       " (24, 27, 'B-Dispositivo médico'),\n",
       " (26, 27, 'I-Procedimento terapêutico ou preventivo'),\n",
       " (28, 31, 'B-Conceito qualitativo'),\n",
       " (32, 43, 'I-Conceito qualitativo'),\n",
       " (41, 43, 'I-Conceito temporal'),\n",
       " (55, 58, 'B-Negação'),\n",
       " (59, 73, 'I-Negação'),\n",
       " (74, 76, 'I-Negação'),\n",
       " (74, 76, 'I-Achado'),\n",
       " (77, 89, 'B-Atividade de saúde'),\n",
       " (91, 99, 'B-Sinal ou sintoma'),\n",
       " (100, 109, 'I-Sinal ou sintoma'),\n",
       " (110, 118, 'I-Sinal ou sintoma'),\n",
       " (127, 130, 'B-Dispositivo médico'),\n",
       " (131, 135, 'I-Dispositivo médico'),\n",
       " (187, 194, 'B-Paciente ou Grupo Deficiente'),\n",
       " (203, 211, 'B-Sinal ou sintoma'),\n",
       " (215, 222, 'B-Conceito temporal'),\n",
       " (226, 231, 'I-Conceito temporal'),\n",
       " (229, 230, 'I-Abreviação'),\n",
       " (234, 236, 'B-Lesão ou envenenamento'),\n",
       " (238, 246, 'B-Procedimento terapêutico ou preventivo'),\n",
       " (248, 258, 'B-Achado'),\n",
       " (260, 267, 'B-Achado'),\n",
       " (268, 278, 'I-Achado'),\n",
       " (279, 293, 'I-Achado'),\n",
       " (295, 307, 'B-Achado'),\n",
       " (309, 317, 'B-Achado'),\n",
       " (319, 326, 'B-Achado'),\n",
       " (330, 335, 'I-Achado'),\n",
       " (353, 358, 'B-Comida'),\n",
       " (364, 370, 'B-Dispositivo médico'),\n",
       " (371, 381, 'I-Dispositivo médico'),\n",
       " (396, 401, 'B-Sinal ou sintoma|Doença ou Síndrome'),\n",
       " (397, 399, 'I-Dispositivo médico'),\n",
       " (397, 399, 'I-Procedimento de diagnóstico'),\n",
       " (405, 410, 'B-Localização do corpo ou região'),\n",
       " (423, 429, 'B-Dispositivo médico'),\n",
       " (433, 440, 'I-Dispositivo médico'),\n",
       " (444, 447, 'B-Localização do corpo ou região'),\n",
       " (449, 456, 'B-Localização do corpo ou região'),\n",
       " (457, 462, 'B-Procedimento terapêutico ou preventivo'),\n",
       " (465, 472, 'I-Procedimento terapêutico ou preventivo'),\n",
       " (474, 485, 'B-Achado'),\n",
       " (486, 495, 'I-Achado'),\n",
       " (506, 514, 'B-Paciente ou Grupo Deficiente'),\n",
       " (519, 523, 'B-Dispositivo médico'),\n",
       " (524, 530, 'I-Dispositivo médico'),\n",
       " (542, 547, 'B-Procedimento terapêutico ou preventivo'),\n",
       " (548, 550, 'I-Procedimento terapêutico ou preventivo'),\n",
       " (548, 550, 'I-Procedimento de diagnóstico'),\n",
       " (548, 550, 'I-Sinal ou sintoma'),\n",
       " (551, 554, 'B-Dispositivo médico'),\n",
       " (575, 577, 'B-Procedimento terapêutico ou preventivo'),\n",
       " (578, 582, 'B-Procedimento terapêutico ou preventivo'),\n",
       " (583, 593, 'I-Procedimento terapêutico ou preventivo'),\n",
       " (594, 596, 'B-Abreviação'),\n",
       " (602, 606, 'B-Abreviação'),\n",
       " (611, 615, 'B-Abreviação'),\n",
       " (642, 652, 'B-Atividade de saúde'),\n",
       " (653, 660, 'I-Atividade de saúde'),\n",
       " (662, 678, 'B-Achado'),\n",
       " (683, 690, 'B-Procedimento terapêutico ou preventivo'),\n",
       " (691, 703, 'I-Procedimento terapêutico ou preventivo'),\n",
       " (707, 709, 'B-Abreviação'),\n",
       " (745, 757, 'B-Conceito qualitativo'),\n",
       " (758, 765, 'B-Sinal ou sintoma'),\n",
       " (817, 825, 'B-Substância farmacológica'),\n",
       " (828, 830, 'B-Abreviação'),\n",
       " (834, 842, 'B-Substância farmacológica'),\n",
       " (906, 909, 'B-Abreviação'),\n",
       " (939, 942, 'B-Localização do corpo ou região'),\n",
       " (976, 983, 'B-Procedimento terapêutico ou preventivo'),\n",
       " (985, 999, 'B-Sinal ou sintoma'),\n",
       " (1052, 1056, 'B-Localização do corpo ou região'),\n",
       " (1072, 1074, 'B-Abreviação'),\n",
       " (1076, 1089, 'B-Procedimento de diagnóstico'),\n",
       " (1093, 1102, 'I-Procedimento de diagnóstico'),\n",
       " (1103, 1113, 'I-Procedimento de diagnóstico'),\n",
       " (1133, 1136, 'B-Organização relacionada ao cuidado de saúde'),\n",
       " (1149, 1155, 'B-Dispositivo médico'),\n",
       " (1177, 1179, 'B-Organização relacionada ao cuidado de saúde'),\n",
       " (1177, 1179, 'I-Conceito temporal'),\n",
       " (1195, 1208, 'B-Procedimento terapêutico ou preventivo'),\n",
       " (1209, 1220, 'I-Procedimento terapêutico ou preventivo'),\n",
       " (1232, 1239, 'B-Procedimento terapêutico ou preventivo'),\n",
       " (1236, 1238, 'I-Conceito quantitativo'),\n",
       " (1243, 1252, 'I-Procedimento terapêutico ou preventivo'),\n",
       " (1253, 1260, 'I-Procedimento terapêutico ou preventivo'),\n",
       " (1264, 1277, 'B-Procedimento terapêutico ou preventivo'),\n",
       " (1291, 1293, 'B-Conceito temporal'),\n",
       " (1321, 1324, 'B-Negação'),\n",
       " (1325, 1340, 'I-Negação'),\n",
       " (1330, 1333, 'B-Achado'),\n",
       " (1349, 1362, 'B-Procedimento de diagnóstico'),\n",
       " (1366, 1376, 'I-Procedimento de diagnóstico'),\n",
       " (1392, 1396, 'B-Localização do corpo ou região'),\n",
       " (1420, 1424, 'B-Abreviação'),\n",
       " (1428, 1432, 'B-Abreviação'),\n",
       " (1440, 1447, 'B-Achado'),\n",
       " (1448, 1458, 'I-Achado'),\n",
       " (1459, 1473, 'I-Achado'),\n",
       " (1475, 1478, 'B-Procedimento terapêutico ou preventivo'),\n",
       " (1483, 1489, 'B-Conceito quantitativo'),\n",
       " (1493, 1498, 'B-Conceito quantitativo'),\n",
       " (1499, 1509, 'I-Conceito quantitativo'),\n",
       " (1513, 1520, 'B-Sinal ou sintoma'),\n",
       " (1521, 1526, 'I-Sinal ou sintoma'),\n",
       " (1530, 1534, 'I-Sinal ou sintoma'),\n",
       " (1548, 1551, 'B-Dispositivo médico'),\n",
       " (1592, 1599, 'I-Achado'),\n",
       " (1600, 1605, 'I-Achado'),\n",
       " (1607, 1610, 'B-Achado'),\n",
       " (1614, 1620, 'B-Parte do corpo, órgão ou componente do órgão'),\n",
       " (1621, 1629, 'B-Conceito espacial'),\n",
       " (1631, 1637, 'B-Dispositivo médico'),\n",
       " (1638, 1644, 'I-Dispositivo médico'),\n",
       " (1645, 1652, 'I-Dispositivo médico'),\n",
       " (1656, 1665, 'B-Parte do corpo, órgão ou componente do órgão'),\n",
       " (1668, 1675, 'B-Conceito espacial')]"
      ]
     },
     "execution_count": 11,
     "metadata": {},
     "output_type": "execute_result"
    }
   ],
   "source": [
    "def extract_entity_spans(list_of_entities: List[Tuple[str, str]], raw_text: str) -> List[Tuple[int, int, str]]:\n",
    "    \"\"\"\n",
    "    Extract the spans of entities in the raw text.\n",
    "\n",
    "    Args:\n",
    "        list_of_entities (List[Tuple[str, str]]): A list of tuples where each tuple contains the entity and its label.\n",
    "        raw_text (str): The raw text.\n",
    "\n",
    "    Returns:\n",
    "        List[Tuple[int, int, str]]: A list of tuples where each tuple contains the start index, end index, and label of an entity.\n",
    "    \"\"\"\n",
    "    # Initialize an empty list to store the entity spans\n",
    "    entity_spans = []\n",
    "    \n",
    "    # Iterate over the entities\n",
    "    for entity in list_of_entities:\n",
    "        # If the entity label is not 'O' (i.e., the entity is not outside any named entity)\n",
    "        if entity[1] != 'O':\n",
    "            # Find the start index of the entity in the raw text\n",
    "            start_index = raw_text.find(entity[0])\n",
    "            # Calculate the end index of the entity in the raw text\n",
    "            end_index = start_index + len(entity[0])\n",
    "            # Append the start index, end index, and label of the entity to the list\n",
    "            entity_spans.append((start_index, end_index, entity[1]))\n",
    "    \n",
    "    # Sort the entity spans by the start index\n",
    "    # This ensures that the entities are in the order they appear in the text\n",
    "    entity_spans = sorted(entity_spans, key=lambda x: x[0])\n",
    "    \n",
    "    # Remove duplicate entity spans\n",
    "    # Using dict.fromkeys() removes duplicates while preserving order\n",
    "    entity_spans = list(dict.fromkeys(entity_spans))\n",
    "    \n",
    "    return entity_spans\n",
    "\n",
    "# Example usage:\n",
    "# - list_of_entities contains the entities extracted from the text\n",
    "# - raw_text_example_medical is the raw text from which the entities were extracted\n",
    "# - The function call extracts the spans of the entities in the raw text and returns them as a list of tuples\n",
    "entities_span = extract_entity_spans(list_of_entities, raw_text_example_medical)\n",
    "entities_span"
   ]
  },
  {
   "cell_type": "code",
   "execution_count": 12,
   "metadata": {},
   "outputs": [
    {
     "data": {
      "text/plain": [
       "[(16, 22, 'Procedimento de diagnóstico'),\n",
       " (24, 27, 'Dispositivo médico'),\n",
       " (28, 43, 'Conceito qualitativo'),\n",
       " (55, 73, 'Negação'),\n",
       " (77, 89, 'Atividade de saúde'),\n",
       " (91, 109, 'Sinal ou sintoma'),\n",
       " (127, 135, 'Dispositivo médico'),\n",
       " (187, 194, 'Paciente ou Grupo Deficiente'),\n",
       " (203, 211, 'Sinal ou sintoma'),\n",
       " (215, 231, 'Conceito temporal'),\n",
       " (234, 236, 'Lesão ou envenenamento'),\n",
       " (238, 246, 'Procedimento terapêutico ou preventivo'),\n",
       " (248, 258, 'Achado'),\n",
       " (260, 278, 'Achado'),\n",
       " (295, 307, 'Achado'),\n",
       " (309, 317, 'Achado'),\n",
       " (319, 335, 'Achado'),\n",
       " (353, 358, 'Comida'),\n",
       " (364, 381, 'Dispositivo médico'),\n",
       " (396, 401, 'Sinal ou sintoma|Doença ou Síndrome'),\n",
       " (405, 410, 'Localização do corpo ou região'),\n",
       " (423, 440, 'Dispositivo médico'),\n",
       " (444, 447, 'Localização do corpo ou região'),\n",
       " (449, 456, 'Localização do corpo ou região'),\n",
       " (457, 472, 'Procedimento terapêutico ou preventivo'),\n",
       " (474, 495, 'Achado'),\n",
       " (506, 514, 'Paciente ou Grupo Deficiente'),\n",
       " (519, 530, 'Dispositivo médico'),\n",
       " (542, 550, 'Procedimento terapêutico ou preventivo'),\n",
       " (551, 554, 'Dispositivo médico'),\n",
       " (575, 577, 'Procedimento terapêutico ou preventivo'),\n",
       " (578, 593, 'Procedimento terapêutico ou preventivo'),\n",
       " (594, 596, 'Abreviação'),\n",
       " (602, 606, 'Abreviação'),\n",
       " (611, 615, 'Abreviação'),\n",
       " (642, 660, 'Atividade de saúde'),\n",
       " (662, 678, 'Achado'),\n",
       " (683, 703, 'Procedimento terapêutico ou preventivo'),\n",
       " (707, 709, 'Abreviação'),\n",
       " (745, 757, 'Conceito qualitativo'),\n",
       " (758, 765, 'Sinal ou sintoma'),\n",
       " (817, 825, 'Substância farmacológica'),\n",
       " (828, 830, 'Abreviação'),\n",
       " (834, 842, 'Substância farmacológica'),\n",
       " (906, 909, 'Abreviação'),\n",
       " (939, 942, 'Localização do corpo ou região'),\n",
       " (976, 983, 'Procedimento terapêutico ou preventivo'),\n",
       " (985, 999, 'Sinal ou sintoma'),\n",
       " (1052, 1056, 'Localização do corpo ou região'),\n",
       " (1072, 1074, 'Abreviação'),\n",
       " (1076, 1102, 'Procedimento de diagnóstico'),\n",
       " (1133, 1136, 'Organização relacionada ao cuidado de saúde'),\n",
       " (1149, 1155, 'Dispositivo médico'),\n",
       " (1177, 1179, 'Organização relacionada ao cuidado de saúde'),\n",
       " (1195, 1220, 'Procedimento terapêutico ou preventivo'),\n",
       " (1232, 1239, 'Procedimento terapêutico ou preventivo'),\n",
       " (1264, 1277, 'Procedimento terapêutico ou preventivo'),\n",
       " (1291, 1293, 'Conceito temporal'),\n",
       " (1321, 1340, 'Negação'),\n",
       " (1330, 1333, 'Achado'),\n",
       " (1349, 1376, 'Procedimento de diagnóstico'),\n",
       " (1392, 1396, 'Localização do corpo ou região'),\n",
       " (1420, 1424, 'Abreviação'),\n",
       " (1428, 1432, 'Abreviação'),\n",
       " (1440, 1458, 'Achado'),\n",
       " (1475, 1478, 'Procedimento terapêutico ou preventivo'),\n",
       " (1483, 1489, 'Conceito quantitativo'),\n",
       " (1493, 1509, 'Conceito quantitativo'),\n",
       " (1513, 1526, 'Sinal ou sintoma'),\n",
       " (1548, 1551, 'Dispositivo médico'),\n",
       " (1607, 1610, 'Achado'),\n",
       " (1614, 1620, 'Parte do corpo, órgão ou componente do órgão'),\n",
       " (1621, 1629, 'Conceito espacial'),\n",
       " (1631, 1644, 'Dispositivo médico'),\n",
       " (1656, 1665, 'Parte do corpo, órgão ou componente do órgão'),\n",
       " (1668, 1675, 'Conceito espacial')]"
      ]
     },
     "execution_count": 12,
     "metadata": {},
     "output_type": "execute_result"
    }
   ],
   "source": [
    "from typing import List, Tuple\n",
    "\n",
    "def merge_consecutive_entities_of_same_type(text: str, entity_spans: List[Tuple[int, int, str]]) -> List[Tuple[int, int, str]]:\n",
    "    \"\"\"\n",
    "    Merge consecutive entities of the same type in the text.\n",
    "\n",
    "    Args:\n",
    "        text (str): The input text.\n",
    "        entity_spans (List[Tuple[int, int, str]]): A list of tuples where each tuple contains the start index, end index, and label of an entity.\n",
    "\n",
    "    Returns:\n",
    "        List[Tuple[int, int, str]]: A list of tuples where each tuple contains the start index, end index, and label of a merged entity.\n",
    "    \"\"\"\n",
    "    # Initialize an empty list to store the merged entity spans\n",
    "    merged_entities = []\n",
    "    \n",
    "    # Iterate over the entity spans\n",
    "    for i in range(len(entity_spans)):\n",
    "        # Check if the current entity is the beginning of a chunk (label starts with 'B')\n",
    "        if entity_spans[i][2].startswith('B'):\n",
    "            # Check if the next entity is part of the same chunk and has the same type\n",
    "            if (i < len(entity_spans) - 1 and \n",
    "                entity_spans[i+1][2].startswith('I') and \n",
    "                entity_spans[i+1][2][2:] == entity_spans[i][2][2:]):\n",
    "                # Merge the current entity with the next one\n",
    "                merged_entities.append((entity_spans[i][0], entity_spans[i+1][1], entity_spans[i][2][2:]))\n",
    "            else:\n",
    "                # If the entity is not part of a chunk, add it to the list as is\n",
    "                merged_entities.append((entity_spans[i][0], entity_spans[i][1], entity_spans[i][2][2:]))\n",
    "        elif entity_spans[i][2].startswith('I'):\n",
    "            # Skip entities that are inside a chunk but not preceded by a 'B' entity\n",
    "            continue\n",
    "        else:\n",
    "            # Add entities that are outside any chunk directly to the list\n",
    "            merged_entities.append(entity_spans[i])\n",
    "    \n",
    "    return merged_entities\n",
    "\n",
    "# Example usage:\n",
    "# - raw_text_example_medical is the raw text from which the entities were extracted\n",
    "# - entities_span is a list of tuples where each tuple contains the start index, end index, and label of an entity\n",
    "# - The function call merges consecutive entities of the same type and returns them as a list of tuples\n",
    "merged_entities = merge_consecutive_entities_of_same_type(raw_text_example_medical, entities_span)\n",
    "merged_entities"
   ]
  },
  {
   "cell_type": "code",
   "execution_count": 14,
   "metadata": {},
   "outputs": [
    {
     "data": {
      "text/html": [
       "<span class=\"tex2jax_ignore\"><div class=\"entities\" style=\"line-height: 2.5; direction: ltr\">10:00: AVALIADO \n",
       "<mark class=\"entity\" style=\"background: #16A085; padding: 0.45em 0.6em; margin: 0 0.25em; line-height: 1; border-radius: 0.35em;\">\n",
       "    RAIO-X\n",
       "    <span style=\"font-size: 0.8em; font-weight: bold; line-height: 1; border-radius: 0.35em; vertical-align: middle; margin-left: 0.5rem\">Procedimento de diagnóstico</span>\n",
       "</mark>\n",
       ", \n",
       "<mark class=\"entity\" style=\"background: #2ECC71; padding: 0.45em 0.6em; margin: 0 0.25em; line-height: 1; border-radius: 0.35em;\">\n",
       "    SNE\n",
       "    <span style=\"font-size: 0.8em; font-weight: bold; line-height: 1; border-radius: 0.35em; vertical-align: middle; margin-left: 0.5rem\">Dispositivo médico</span>\n",
       "</mark>\n",
       " \n",
       "<mark class=\"entity\" style=\"background: #76D7C4; padding: 0.45em 0.6em; margin: 0 0.25em; line-height: 1; border-radius: 0.35em;\">\n",
       "    MAL POSICIONADA\n",
       "    <span style=\"font-size: 0.8em; font-weight: bold; line-height: 1; border-radius: 0.35em; vertical-align: middle; margin-left: 0.5rem\">Conceito qualitativo</span>\n",
       "</mark>\n",
       ", REPASSADA \n",
       "<mark class=\"entity\" style=\"background: #27AE60; padding: 0.45em 0.6em; margin: 0 0.25em; line-height: 1; border-radius: 0.35em;\">\n",
       "    SEM INTERCORRÊNCIA\n",
       "    <span style=\"font-size: 0.8em; font-weight: bold; line-height: 1; border-radius: 0.35em; vertical-align: middle; margin-left: 0.5rem\">Negação</span>\n",
       "</mark>\n",
       " NO \n",
       "<mark class=\"entity\" style=\"background: #2C3E50; padding: 0.45em 0.6em; margin: 0 0.25em; line-height: 1; border-radius: 0.35em;\">\n",
       "    PROCEDIMENTO\n",
       "    <span style=\"font-size: 0.8em; font-weight: bold; line-height: 1; border-radius: 0.35em; vertical-align: middle; margin-left: 0.5rem\">Atividade de saúde</span>\n",
       "</mark>\n",
       ". \n",
       "<mark class=\"entity\" style=\"background: #2980B9; padding: 0.45em 0.6em; margin: 0 0.25em; line-height: 1; border-radius: 0.35em;\">\n",
       "    AUSCULTA ABDOMINAL\n",
       "    <span style=\"font-size: 0.8em; font-weight: bold; line-height: 1; border-radius: 0.35em; vertical-align: middle; margin-left: 0.5rem\">Sinal ou sintoma</span>\n",
       "</mark>\n",
       " POSITIVA. RETIRO \n",
       "<mark class=\"entity\" style=\"background: #2ECC71; padding: 0.45em 0.6em; margin: 0 0.25em; line-height: 1; border-radius: 0.35em;\">\n",
       "    FIO GUIA\n",
       "    <span style=\"font-size: 0.8em; font-weight: bold; line-height: 1; border-radius: 0.35em; vertical-align: middle; margin-left: 0.5rem\">Dispositivo médico</span>\n",
       "</mark>\n",
       ", SOLICITO RAIO-X PARA AVALIAÇÃO DA POSIÇÃO. 17:50: \n",
       "<mark class=\"entity\" style=\"background: #BDC3C7; padding: 0.45em 0.6em; margin: 0 0.25em; line-height: 1; border-radius: 0.35em;\">\n",
       "    CLIENTE\n",
       "    <span style=\"font-size: 0.8em; font-weight: bold; line-height: 1; border-radius: 0.35em; vertical-align: middle; margin-left: 0.5rem\">Paciente ou Grupo Deficiente</span>\n",
       "</mark>\n",
       " RELATOU \n",
       "<mark class=\"entity\" style=\"background: #2980B9; padding: 0.45em 0.6em; margin: 0 0.25em; line-height: 1; border-radius: 0.35em;\">\n",
       "    CEFALÉIA\n",
       "    <span style=\"font-size: 0.8em; font-weight: bold; line-height: 1; border-radius: 0.35em; vertical-align: middle; margin-left: 0.5rem\">Sinal ou sintoma</span>\n",
       "</mark>\n",
       " NO \n",
       "<mark class=\"entity\" style=\"background: #73C6B6; padding: 0.45em 0.6em; margin: 0 0.25em; line-height: 1; border-radius: 0.35em;\">\n",
       "    PERÍODO DA MANHÃ\n",
       "    <span style=\"font-size: 0.8em; font-weight: bold; line-height: 1; border-radius: 0.35em; vertical-align: middle; margin-left: 0.5rem\">Conceito temporal</span>\n",
       "</mark>\n",
       " E \n",
       "<mark class=\"entity\" style=\"background: #7F8C8D; padding: 0.45em 0.6em; margin: 0 0.25em; line-height: 1; border-radius: 0.35em;\">\n",
       "    FO\n",
       "    <span style=\"font-size: 0.8em; font-weight: bold; line-height: 1; border-radius: 0.35em; vertical-align: middle; margin-left: 0.5rem\">Lesão ou envenenamento</span>\n",
       "</mark>\n",
       "I \n",
       "<mark class=\"entity\" style=\"background: #1ABC9C; padding: 0.45em 0.6em; margin: 0 0.25em; line-height: 1; border-radius: 0.35em;\">\n",
       "    MEDICADO\n",
       "    <span style=\"font-size: 0.8em; font-weight: bold; line-height: 1; border-radius: 0.35em; vertical-align: middle; margin-left: 0.5rem\">Procedimento terapêutico ou preventivo</span>\n",
       "</mark>\n",
       ". \n",
       "<mark class=\"entity\" style=\"background: #9B59B6; padding: 0.45em 0.6em; margin: 0 0.25em; line-height: 1; border-radius: 0.35em;\">\n",
       "    CONSCIENTE\n",
       "    <span style=\"font-size: 0.8em; font-weight: bold; line-height: 1; border-radius: 0.35em; vertical-align: middle; margin-left: 0.5rem\">Achado</span>\n",
       "</mark>\n",
       ", \n",
       "<mark class=\"entity\" style=\"background: #9B59B6; padding: 0.45em 0.6em; margin: 0 0.25em; line-height: 1; border-radius: 0.35em;\">\n",
       "    PUPILAS ISOCÓRICAS\n",
       "    <span style=\"font-size: 0.8em; font-weight: bold; line-height: 1; border-radius: 0.35em; vertical-align: middle; margin-left: 0.5rem\">Achado</span>\n",
       "</mark>\n",
       " FOTORREAGENTES, \n",
       "<mark class=\"entity\" style=\"background: #9B59B6; padding: 0.45em 0.6em; margin: 0 0.25em; line-height: 1; border-radius: 0.35em;\">\n",
       "    COMUNICATIVO\n",
       "    <span style=\"font-size: 0.8em; font-weight: bold; line-height: 1; border-radius: 0.35em; vertical-align: middle; margin-left: 0.5rem\">Achado</span>\n",
       "</mark>\n",
       ", \n",
       "<mark class=\"entity\" style=\"background: #9B59B6; padding: 0.45em 0.6em; margin: 0 0.25em; line-height: 1; border-radius: 0.35em;\">\n",
       "    EUPNÉICO\n",
       "    <span style=\"font-size: 0.8em; font-weight: bold; line-height: 1; border-radius: 0.35em; vertical-align: middle; margin-left: 0.5rem\">Achado</span>\n",
       "</mark>\n",
       ", \n",
       "<mark class=\"entity\" style=\"background: #9B59B6; padding: 0.45em 0.6em; margin: 0 0.25em; line-height: 1; border-radius: 0.35em;\">\n",
       "    REPOUSO NO LEITO\n",
       "    <span style=\"font-size: 0.8em; font-weight: bold; line-height: 1; border-radius: 0.35em; vertical-align: middle; margin-left: 0.5rem\">Achado</span>\n",
       "</mark>\n",
       ", ACEITANDO BEM A \n",
       "<mark class=\"entity\" style=\"background: #8E44AD; padding: 0.45em 0.6em; margin: 0 0.25em; line-height: 1; border-radius: 0.35em;\">\n",
       "    DIETA\n",
       "    <span style=\"font-size: 0.8em; font-weight: bold; line-height: 1; border-radius: 0.35em; vertical-align: middle; margin-left: 0.5rem\">Comida</span>\n",
       "</mark>\n",
       ", SEM \n",
       "<mark class=\"entity\" style=\"background: #2ECC71; padding: 0.45em 0.6em; margin: 0 0.25em; line-height: 1; border-radius: 0.35em;\">\n",
       "    ACESSO PERIFÉRICO\n",
       "    <span style=\"font-size: 0.8em; font-weight: bold; line-height: 1; border-radius: 0.35em; vertical-align: middle; margin-left: 0.5rem\">Dispositivo médico</span>\n",
       "</mark>\n",
       ", APRESENTANDO \n",
       "<mark class=\"entity\" style=\"background: #F1948A; padding: 0.45em 0.6em; margin: 0 0.25em; line-height: 1; border-radius: 0.35em;\">\n",
       "    EDEMA\n",
       "    <span style=\"font-size: 0.8em; font-weight: bold; line-height: 1; border-radius: 0.35em; vertical-align: middle; margin-left: 0.5rem\">Sinal ou sintoma|Doença ou Síndrome</span>\n",
       "</mark>\n",
       " EM \n",
       "<mark class=\"entity\" style=\"background: #3498DB; padding: 0.45em 0.6em; margin: 0 0.25em; line-height: 1; border-radius: 0.35em;\">\n",
       "    OMBRO\n",
       "    <span style=\"font-size: 0.8em; font-weight: bold; line-height: 1; border-radius: 0.35em; vertical-align: middle; margin-left: 0.5rem\">Localização do corpo ou região</span>\n",
       "</mark>\n",
       " E, MANTENDO \n",
       "<mark class=\"entity\" style=\"background: #2ECC71; padding: 0.45em 0.6em; margin: 0 0.25em; line-height: 1; border-radius: 0.35em;\">\n",
       "    TIPÓIA DE ATADURA\n",
       "    <span style=\"font-size: 0.8em; font-weight: bold; line-height: 1; border-radius: 0.35em; vertical-align: middle; margin-left: 0.5rem\">Dispositivo médico</span>\n",
       "</mark>\n",
       " EM \n",
       "<mark class=\"entity\" style=\"background: #3498DB; padding: 0.45em 0.6em; margin: 0 0.25em; line-height: 1; border-radius: 0.35em;\">\n",
       "    MSE\n",
       "    <span style=\"font-size: 0.8em; font-weight: bold; line-height: 1; border-radius: 0.35em; vertical-align: middle; margin-left: 0.5rem\">Localização do corpo ou região</span>\n",
       "</mark>\n",
       ", \n",
       "<mark class=\"entity\" style=\"background: #3498DB; padding: 0.45em 0.6em; margin: 0 0.25em; line-height: 1; border-radius: 0.35em;\">\n",
       "    ABDÔMEN\n",
       "    <span style=\"font-size: 0.8em; font-weight: bold; line-height: 1; border-radius: 0.35em; vertical-align: middle; margin-left: 0.5rem\">Localização do corpo ou região</span>\n",
       "</mark>\n",
       " \n",
       "<mark class=\"entity\" style=\"background: #1ABC9C; padding: 0.45em 0.6em; margin: 0 0.25em; line-height: 1; border-radius: 0.35em;\">\n",
       "    PLANO E FLÁCIDO\n",
       "    <span style=\"font-size: 0.8em; font-weight: bold; line-height: 1; border-radius: 0.35em; vertical-align: middle; margin-left: 0.5rem\">Procedimento terapêutico ou preventivo</span>\n",
       "</mark>\n",
       ", \n",
       "<mark class=\"entity\" style=\"background: #9B59B6; padding: 0.45em 0.6em; margin: 0 0.25em; line-height: 1; border-radius: 0.35em;\">\n",
       "    ELIMINAÇÕES PRESENTES\n",
       "    <span style=\"font-size: 0.8em; font-weight: bold; line-height: 1; border-radius: 0.35em; vertical-align: middle; margin-left: 0.5rem\">Achado</span>\n",
       "</mark>\n",
       ". 20:50 h: \n",
       "<mark class=\"entity\" style=\"background: #BDC3C7; padding: 0.45em 0.6em; margin: 0 0.25em; line-height: 1; border-radius: 0.35em;\">\n",
       "    Paciente\n",
       "    <span style=\"font-size: 0.8em; font-weight: bold; line-height: 1; border-radius: 0.35em; vertical-align: middle; margin-left: 0.5rem\">Paciente ou Grupo Deficiente</span>\n",
       "</mark>\n",
       " com \n",
       "<mark class=\"entity\" style=\"background: #2ECC71; padding: 0.45em 0.6em; margin: 0 0.25em; line-height: 1; border-radius: 0.35em;\">\n",
       "    cuff furado\n",
       "    <span style=\"font-size: 0.8em; font-weight: bold; line-height: 1; border-radius: 0.35em; vertical-align: middle; margin-left: 0.5rem\">Dispositivo médico</span>\n",
       "</mark>\n",
       ", realizado \n",
       "<mark class=\"entity\" style=\"background: #1ABC9C; padding: 0.45em 0.6em; margin: 0 0.25em; line-height: 1; border-radius: 0.35em;\">\n",
       "    troca de\n",
       "    <span style=\"font-size: 0.8em; font-weight: bold; line-height: 1; border-radius: 0.35em; vertical-align: middle; margin-left: 0.5rem\">Procedimento terapêutico ou preventivo</span>\n",
       "</mark>\n",
       " \n",
       "<mark class=\"entity\" style=\"background: #2ECC71; padding: 0.45em 0.6em; margin: 0 0.25em; line-height: 1; border-radius: 0.35em;\">\n",
       "    TOT\n",
       "    <span style=\"font-size: 0.8em; font-weight: bold; line-height: 1; border-radius: 0.35em; vertical-align: middle; margin-left: 0.5rem\">Dispositivo médico</span>\n",
       "</mark>\n",
       ", instalado TOT 7.5, \n",
       "<mark class=\"entity\" style=\"background: #1ABC9C; padding: 0.45em 0.6em; margin: 0 0.25em; line-height: 1; border-radius: 0.35em;\">\n",
       "    VM\n",
       "    <span style=\"font-size: 0.8em; font-weight: bold; line-height: 1; border-radius: 0.35em; vertical-align: middle; margin-left: 0.5rem\">Procedimento terapêutico ou preventivo</span>\n",
       "</mark>\n",
       " \n",
       "<mark class=\"entity\" style=\"background: #1ABC9C; padding: 0.45em 0.6em; margin: 0 0.25em; line-height: 1; border-radius: 0.35em;\">\n",
       "    modo controlado\n",
       "    <span style=\"font-size: 0.8em; font-weight: bold; line-height: 1; border-radius: 0.35em; vertical-align: middle; margin-left: 0.5rem\">Procedimento terapêutico ou preventivo</span>\n",
       "</mark>\n",
       " \n",
       "<mark class=\"entity\" style=\"background: #E74C3C; padding: 0.45em 0.6em; margin: 0 0.25em; line-height: 1; border-radius: 0.35em;\">\n",
       "    VC\n",
       "    <span style=\"font-size: 0.8em; font-weight: bold; line-height: 1; border-radius: 0.35em; vertical-align: middle; margin-left: 0.5rem\">Abreviação</span>\n",
       "</mark>\n",
       " 500, \n",
       "<mark class=\"entity\" style=\"background: #E74C3C; padding: 0.45em 0.6em; margin: 0 0.25em; line-height: 1; border-radius: 0.35em;\">\n",
       "    PEEP\n",
       "    <span style=\"font-size: 0.8em; font-weight: bold; line-height: 1; border-radius: 0.35em; vertical-align: middle; margin-left: 0.5rem\">Abreviação</span>\n",
       "</mark>\n",
       " 07, \n",
       "<mark class=\"entity\" style=\"background: #E74C3C; padding: 0.45em 0.6em; margin: 0 0.25em; line-height: 1; border-radius: 0.35em;\">\n",
       "    FIO2\n",
       "    <span style=\"font-size: 0.8em; font-weight: bold; line-height: 1; border-radius: 0.35em; vertical-align: middle; margin-left: 0.5rem\">Abreviação</span>\n",
       "</mark>\n",
       " a 50%. 22:30h: ESQUEMA DE \n",
       "<mark class=\"entity\" style=\"background: #2C3E50; padding: 0.45em 0.6em; margin: 0 0.25em; line-height: 1; border-radius: 0.35em;\">\n",
       "    SUPERVISÃO NOTURNA\n",
       "    <span style=\"font-size: 0.8em; font-weight: bold; line-height: 1; border-radius: 0.35em; vertical-align: middle; margin-left: 0.5rem\">Atividade de saúde</span>\n",
       "</mark>\n",
       ": \n",
       "<mark class=\"entity\" style=\"background: #9B59B6; padding: 0.45em 0.6em; margin: 0 0.25em; line-height: 1; border-radius: 0.35em;\">\n",
       "    TRAQUEOSTOMIZADO\n",
       "    <span style=\"font-size: 0.8em; font-weight: bold; line-height: 1; border-radius: 0.35em; vertical-align: middle; margin-left: 0.5rem\">Achado</span>\n",
       "</mark>\n",
       ", EM \n",
       "<mark class=\"entity\" style=\"background: #1ABC9C; padding: 0.45em 0.6em; margin: 0 0.25em; line-height: 1; border-radius: 0.35em;\">\n",
       "    DESMAME VENTILATÓRIO\n",
       "    <span style=\"font-size: 0.8em; font-weight: bold; line-height: 1; border-radius: 0.35em; vertical-align: middle; margin-left: 0.5rem\">Procedimento terapêutico ou preventivo</span>\n",
       "</mark>\n",
       " EM \n",
       "<mark class=\"entity\" style=\"background: #E74C3C; padding: 0.45em 0.6em; margin: 0 0.25em; line-height: 1; border-radius: 0.35em;\">\n",
       "    PS\n",
       "    <span style=\"font-size: 0.8em; font-weight: bold; line-height: 1; border-radius: 0.35em; vertical-align: middle; margin-left: 0.5rem\">Abreviação</span>\n",
       "</mark>\n",
       " DE 17, PEEP 5, FIO2 50%. PERMANECE \n",
       "<mark class=\"entity\" style=\"background: #76D7C4; padding: 0.45em 0.6em; margin: 0 0.25em; line-height: 1; border-radius: 0.35em;\">\n",
       "    EXTREMAMENTE\n",
       "    <span style=\"font-size: 0.8em; font-weight: bold; line-height: 1; border-radius: 0.35em; vertical-align: middle; margin-left: 0.5rem\">Conceito qualitativo</span>\n",
       "</mark>\n",
       " \n",
       "<mark class=\"entity\" style=\"background: #2980B9; padding: 0.45em 0.6em; margin: 0 0.25em; line-height: 1; border-radius: 0.35em;\">\n",
       "    AGITADO\n",
       "    <span style=\"font-size: 0.8em; font-weight: bold; line-height: 1; border-radius: 0.35em; vertical-align: middle; margin-left: 0.5rem\">Sinal ou sintoma</span>\n",
       "</mark>\n",
       " (não responde à sedação intermitente). REINICIADO  \n",
       "<mark class=\"entity\" style=\"background: #7D3C98; padding: 0.45em 0.6em; margin: 0 0.25em; line-height: 1; border-radius: 0.35em;\">\n",
       "    DORMONID\n",
       "    <span style=\"font-size: 0.8em; font-weight: bold; line-height: 1; border-radius: 0.35em; vertical-align: middle; margin-left: 0.5rem\">Substância farmacológica</span>\n",
       "</mark>\n",
       " 7 \n",
       "<mark class=\"entity\" style=\"background: #E74C3C; padding: 0.45em 0.6em; margin: 0 0.25em; line-height: 1; border-radius: 0.35em;\">\n",
       "    ML\n",
       "    <span style=\"font-size: 0.8em; font-weight: bold; line-height: 1; border-radius: 0.35em; vertical-align: middle; margin-left: 0.5rem\">Abreviação</span>\n",
       "</mark>\n",
       "/H, \n",
       "<mark class=\"entity\" style=\"background: #7D3C98; padding: 0.45em 0.6em; margin: 0 0.25em; line-height: 1; border-radius: 0.35em;\">\n",
       "    FENTANIL\n",
       "    <span style=\"font-size: 0.8em; font-weight: bold; line-height: 1; border-radius: 0.35em; vertical-align: middle; margin-left: 0.5rem\">Substância farmacológica</span>\n",
       "</mark>\n",
       " 2 ML/H (continua não respondendo). PERMANECE AGITADO, ARRANCOU \n",
       "<mark class=\"entity\" style=\"background: #E74C3C; padding: 0.45em 0.6em; margin: 0 0.25em; line-height: 1; border-radius: 0.35em;\">\n",
       "    SOE\n",
       "    <span style=\"font-size: 0.8em; font-weight: bold; line-height: 1; border-radius: 0.35em; vertical-align: middle; margin-left: 0.5rem\">Abreviação</span>\n",
       "</mark>\n",
       ". ACESSO VENOSO PERIFÉRICO EM \n",
       "<mark class=\"entity\" style=\"background: #3498DB; padding: 0.45em 0.6em; margin: 0 0.25em; line-height: 1; border-radius: 0.35em;\">\n",
       "    MSD\n",
       "    <span style=\"font-size: 0.8em; font-weight: bold; line-height: 1; border-radius: 0.35em; vertical-align: middle; margin-left: 0.5rem\">Localização do corpo ou região</span>\n",
       "</mark>\n",
       " COM PLANO BÁSICO DE HIDRATAÇÃO + \n",
       "<mark class=\"entity\" style=\"background: #1ABC9C; padding: 0.45em 0.6em; margin: 0 0.25em; line-height: 1; border-radius: 0.35em;\">\n",
       "    SEDAÇÃO\n",
       "    <span style=\"font-size: 0.8em; font-weight: bold; line-height: 1; border-radius: 0.35em; vertical-align: middle; margin-left: 0.5rem\">Procedimento terapêutico ou preventivo</span>\n",
       "</mark>\n",
       ". \n",
       "<mark class=\"entity\" style=\"background: #2980B9; padding: 0.45em 0.6em; margin: 0 0.25em; line-height: 1; border-radius: 0.35em;\">\n",
       "    POLISSECRETIVO\n",
       "    <span style=\"font-size: 0.8em; font-weight: bold; line-height: 1; border-radius: 0.35em; vertical-align: middle; margin-left: 0.5rem\">Sinal ou sintoma</span>\n",
       "</mark>\n",
       " (mantendo trach care). FO SEM SINAIS FLOGÍSTICOS EM \n",
       "<mark class=\"entity\" style=\"background: #3498DB; padding: 0.45em 0.6em; margin: 0 0.25em; line-height: 1; border-radius: 0.35em;\">\n",
       "    FACE\n",
       "    <span style=\"font-size: 0.8em; font-weight: bold; line-height: 1; border-radius: 0.35em; vertical-align: middle; margin-left: 0.5rem\">Localização do corpo ou região</span>\n",
       "</mark>\n",
       ", EDEMA EM FACE \n",
       "<mark class=\"entity\" style=\"background: #E74C3C; padding: 0.45em 0.6em; margin: 0 0.25em; line-height: 1; border-radius: 0.35em;\">\n",
       "    LD\n",
       "    <span style=\"font-size: 0.8em; font-weight: bold; line-height: 1; border-radius: 0.35em; vertical-align: middle; margin-left: 0.5rem\">Abreviação</span>\n",
       "</mark>\n",
       ". \n",
       "<mark class=\"entity\" style=\"background: #16A085; padding: 0.45em 0.6em; margin: 0 0.25em; line-height: 1; border-radius: 0.35em;\">\n",
       "    MONITORIZAÇÃO DE MÚLTIPLOS\n",
       "    <span style=\"font-size: 0.8em; font-weight: bold; line-height: 1; border-radius: 0.35em; vertical-align: middle; margin-left: 0.5rem\">Procedimento de diagnóstico</span>\n",
       "</mark>\n",
       " PARÂMETROS CONFORME ROTINA DA \n",
       "<mark class=\"entity\" style=\"background: #D35400; padding: 0.45em 0.6em; margin: 0 0.25em; line-height: 1; border-radius: 0.35em;\">\n",
       "    UTI\n",
       "    <span style=\"font-size: 0.8em; font-weight: bold; line-height: 1; border-radius: 0.35em; vertical-align: middle; margin-left: 0.5rem\">Organização relacionada ao cuidado de saúde</span>\n",
       "</mark>\n",
       ". DIURESE EM \n",
       "<mark class=\"entity\" style=\"background: #2ECC71; padding: 0.45em 0.6em; margin: 0 0.25em; line-height: 1; border-radius: 0.35em;\">\n",
       "    UROPEN\n",
       "    <span style=\"font-size: 0.8em; font-weight: bold; line-height: 1; border-radius: 0.35em; vertical-align: middle; margin-left: 0.5rem\">Dispositivo médico</span>\n",
       "</mark>\n",
       ". 23:30 h: Retorna do \n",
       "<mark class=\"entity\" style=\"background: #D35400; padding: 0.45em 0.6em; margin: 0 0.25em; line-height: 1; border-radius: 0.35em;\">\n",
       "    CC\n",
       "    <span style=\"font-size: 0.8em; font-weight: bold; line-height: 1; border-radius: 0.35em; vertical-align: middle; margin-left: 0.5rem\">Organização relacionada ao cuidado de saúde</span>\n",
       "</mark>\n",
       ", onde realizou \n",
       "<mark class=\"entity\" style=\"background: #1ABC9C; padding: 0.45em 0.6em; margin: 0 0.25em; line-height: 1; border-radius: 0.35em;\">\n",
       "    relaparotomia exploradora\n",
       "    <span style=\"font-size: 0.8em; font-weight: bold; line-height: 1; border-radius: 0.35em; vertical-align: middle; margin-left: 0.5rem\">Procedimento terapêutico ou preventivo</span>\n",
       "</mark>\n",
       ", instalado \n",
       "<mark class=\"entity\" style=\"background: #1ABC9C; padding: 0.45em 0.6em; margin: 0 0.25em; line-height: 1; border-radius: 0.35em;\">\n",
       "    sistema\n",
       "    <span style=\"font-size: 0.8em; font-weight: bold; line-height: 1; border-radius: 0.35em; vertical-align: middle; margin-left: 0.5rem\">Procedimento terapêutico ou preventivo</span>\n",
       "</mark>\n",
       " de aspiração fechado em \n",
       "<mark class=\"entity\" style=\"background: #1ABC9C; padding: 0.45em 0.6em; margin: 0 0.25em; line-height: 1; border-radius: 0.35em;\">\n",
       "    traqueostomia\n",
       "    <span style=\"font-size: 0.8em; font-weight: bold; line-height: 1; border-radius: 0.35em; vertical-align: middle; margin-left: 0.5rem\">Procedimento terapêutico ou preventivo</span>\n",
       "</mark>\n",
       " (trach care) \n",
       "<mark class=\"entity\" style=\"background: #73C6B6; padding: 0.45em 0.6em; margin: 0 0.25em; line-height: 1; border-radius: 0.35em;\">\n",
       "    no\n",
       "    <span style=\"font-size: 0.8em; font-weight: bold; line-height: 1; border-radius: 0.35em; vertical-align: middle; margin-left: 0.5rem\">Conceito temporal</span>\n",
       "</mark>\n",
       " CC, trajeto de volta do CC \n",
       "<mark class=\"entity\" style=\"background: #27AE60; padding: 0.45em 0.6em; margin: 0 0.25em; line-height: 1; border-radius: 0.35em;\">\n",
       "    sem intercorrências\n",
       "    <span style=\"font-size: 0.8em; font-weight: bold; line-height: 1; border-radius: 0.35em; vertical-align: middle; margin-left: 0.5rem\">Negação</span>\n",
       "</mark>\n",
       "\n",
       "<mark class=\"entity\" style=\"background: #9B59B6; padding: 0.45em 0.6em; margin: 0 0.25em; line-height: 1; border-radius: 0.35em;\">\n",
       "    cor\n",
       "    <span style=\"font-size: 0.8em; font-weight: bold; line-height: 1; border-radius: 0.35em; vertical-align: middle; margin-left: 0.5rem\">Achado</span>\n",
       "</mark>\n",
       "rências, mantém \n",
       "<mark class=\"entity\" style=\"background: #16A085; padding: 0.45em 0.6em; margin: 0 0.25em; line-height: 1; border-radius: 0.35em;\">\n",
       "    monitorização de parâmetros\n",
       "    <span style=\"font-size: 0.8em; font-weight: bold; line-height: 1; border-radius: 0.35em; vertical-align: middle; margin-left: 0.5rem\">Procedimento de diagnóstico</span>\n",
       "</mark>\n",
       ", TOT nº 7,5 em \n",
       "<mark class=\"entity\" style=\"background: #3498DB; padding: 0.45em 0.6em; margin: 0 0.25em; line-height: 1; border-radius: 0.35em;\">\n",
       "    rima\n",
       "    <span style=\"font-size: 0.8em; font-weight: bold; line-height: 1; border-radius: 0.35em; vertical-align: middle; margin-left: 0.5rem\">Localização do corpo ou região</span>\n",
       "</mark>\n",
       " 22, VM modo VCV 440ml, \n",
       "<mark class=\"entity\" style=\"background: #E74C3C; padding: 0.45em 0.6em; margin: 0 0.25em; line-height: 1; border-radius: 0.35em;\">\n",
       "    peep\n",
       "    <span style=\"font-size: 0.8em; font-weight: bold; line-height: 1; border-radius: 0.35em; vertical-align: middle; margin-left: 0.5rem\">Abreviação</span>\n",
       "</mark>\n",
       " 6, \n",
       "<mark class=\"entity\" style=\"background: #E74C3C; padding: 0.45em 0.6em; margin: 0 0.25em; line-height: 1; border-radius: 0.35em;\">\n",
       "    fio2\n",
       "    <span style=\"font-size: 0.8em; font-weight: bold; line-height: 1; border-radius: 0.35em; vertical-align: middle; margin-left: 0.5rem\">Abreviação</span>\n",
       "</mark>\n",
       " a 40%, \n",
       "<mark class=\"entity\" style=\"background: #9B59B6; padding: 0.45em 0.6em; margin: 0 0.25em; line-height: 1; border-radius: 0.35em;\">\n",
       "    pupilas isocóricas\n",
       "    <span style=\"font-size: 0.8em; font-weight: bold; line-height: 1; border-radius: 0.35em; vertical-align: middle; margin-left: 0.5rem\">Achado</span>\n",
       "</mark>\n",
       " fotorreagentes, \n",
       "<mark class=\"entity\" style=\"background: #1ABC9C; padding: 0.45em 0.6em; margin: 0 0.25em; line-height: 1; border-radius: 0.35em;\">\n",
       "    SNG\n",
       "    <span style=\"font-size: 0.8em; font-weight: bold; line-height: 1; border-radius: 0.35em; vertical-align: middle; margin-left: 0.5rem\">Procedimento terapêutico ou preventivo</span>\n",
       "</mark>\n",
       " com \n",
       "<mark class=\"entity\" style=\"background: #5DADE2; padding: 0.45em 0.6em; margin: 0 0.25em; line-height: 1; border-radius: 0.35em;\">\n",
       "    débito\n",
       "    <span style=\"font-size: 0.8em; font-weight: bold; line-height: 1; border-radius: 0.35em; vertical-align: middle; margin-left: 0.5rem\">Conceito quantitativo</span>\n",
       "</mark>\n",
       " em \n",
       "<mark class=\"entity\" style=\"background: #5DADE2; padding: 0.45em 0.6em; margin: 0 0.25em; line-height: 1; border-radius: 0.35em;\">\n",
       "    média quantidade\n",
       "    <span style=\"font-size: 0.8em; font-weight: bold; line-height: 1; border-radius: 0.35em; vertical-align: middle; margin-left: 0.5rem\">Conceito quantitativo</span>\n",
       "</mark>\n",
       " de \n",
       "<mark class=\"entity\" style=\"background: #2980B9; padding: 0.45em 0.6em; margin: 0 0.25em; line-height: 1; border-radius: 0.35em;\">\n",
       "    aspecto borra\n",
       "    <span style=\"font-size: 0.8em; font-weight: bold; line-height: 1; border-radius: 0.35em; vertical-align: middle; margin-left: 0.5rem\">Sinal ou sintoma</span>\n",
       "</mark>\n",
       " de café, diurese via \n",
       "<mark class=\"entity\" style=\"background: #2ECC71; padding: 0.45em 0.6em; margin: 0 0.25em; line-height: 1; border-radius: 0.35em;\">\n",
       "    SVD\n",
       "    <span style=\"font-size: 0.8em; font-weight: bold; line-height: 1; border-radius: 0.35em; vertical-align: middle; margin-left: 0.5rem\">Dispositivo médico</span>\n",
       "</mark>\n",
       " em média quantidade, sem grumos, de cor amarelo claro, \n",
       "<mark class=\"entity\" style=\"background: #9B59B6; padding: 0.45em 0.6em; margin: 0 0.25em; line-height: 1; border-radius: 0.35em;\">\n",
       "    PAM\n",
       "    <span style=\"font-size: 0.8em; font-weight: bold; line-height: 1; border-radius: 0.35em; vertical-align: middle; margin-left: 0.5rem\">Achado</span>\n",
       "</mark>\n",
       " em \n",
       "<mark class=\"entity\" style=\"background: #F39C12; padding: 0.45em 0.6em; margin: 0 0.25em; line-height: 1; border-radius: 0.35em;\">\n",
       "    radial\n",
       "    <span style=\"font-size: 0.8em; font-weight: bold; line-height: 1; border-radius: 0.35em; vertical-align: middle; margin-left: 0.5rem\">Parte do corpo, órgão ou componente do órgão</span>\n",
       "</mark>\n",
       " \n",
       "<mark class=\"entity\" style=\"background: #BB8FCE; padding: 0.45em 0.6em; margin: 0 0.25em; line-height: 1; border-radius: 0.35em;\">\n",
       "    esquerda\n",
       "    <span style=\"font-size: 0.8em; font-weight: bold; line-height: 1; border-radius: 0.35em; vertical-align: middle; margin-left: 0.5rem\">Conceito espacial</span>\n",
       "</mark>\n",
       ", \n",
       "<mark class=\"entity\" style=\"background: #2ECC71; padding: 0.45em 0.6em; margin: 0 0.25em; line-height: 1; border-radius: 0.35em;\">\n",
       "    acesso venoso\n",
       "    <span style=\"font-size: 0.8em; font-weight: bold; line-height: 1; border-radius: 0.35em; vertical-align: middle; margin-left: 0.5rem\">Dispositivo médico</span>\n",
       "</mark>\n",
       " central em \n",
       "<mark class=\"entity\" style=\"background: #F39C12; padding: 0.45em 0.6em; margin: 0 0.25em; line-height: 1; border-radius: 0.35em;\">\n",
       "    subclávia\n",
       "    <span style=\"font-size: 0.8em; font-weight: bold; line-height: 1; border-radius: 0.35em; vertical-align: middle; margin-left: 0.5rem\">Parte do corpo, órgão ou componente do órgão</span>\n",
       "</mark>\n",
       " à \n",
       "<mark class=\"entity\" style=\"background: #BB8FCE; padding: 0.45em 0.6em; margin: 0 0.25em; line-height: 1; border-radius: 0.35em;\">\n",
       "    direita\n",
       "    <span style=\"font-size: 0.8em; font-weight: bold; line-height: 1; border-radius: 0.35em; vertical-align: middle; margin-left: 0.5rem\">Conceito espacial</span>\n",
       "</mark>\n",
       ", evacuação ausente no período.</div></span>"
      ],
      "text/plain": [
       "<IPython.core.display.HTML object>"
      ]
     },
     "metadata": {},
     "output_type": "display_data"
    }
   ],
   "source": [
    "from typing import List, Dict\n",
    "from spacy import displacy\n",
    "\n",
    "def visualize_entities(text: str, entities: List[Dict[str, str]], colors: Dict[str, str]) -> None:\n",
    "    \"\"\"\n",
    "    Visualize named entities in the text using spaCy's displaCy.\n",
    "\n",
    "    Args:\n",
    "        text (str): The input text containing named entities.\n",
    "        entities (List[Dict[str, str]]): A list of dictionaries where each dictionary contains the start index, end index, and label of an entity.\n",
    "        colors (Dict[str, str]): A dictionary mapping entity labels to their corresponding colors.\n",
    "\n",
    "    Returns:\n",
    "        None\n",
    "    \"\"\"\n",
    "    # Define options for displaCy visualization\n",
    "    # - \"ents\": List of entity labels to be visualized\n",
    "    # - \"colors\": Dictionary mapping entity labels to colors\n",
    "    displacy_options = {\"ents\": list(colors.keys()), \"colors\": colors}\n",
    "    \n",
    "    # Prepare the data for displaCy rendering\n",
    "    # - \"text\": The input text\n",
    "    # - \"ents\": List of entities with their start index, end index, and label\n",
    "    render_data = [{\"text\": text, \"ents\": [{\"start\": entity[0], \"end\": entity[1], \"label\": entity[2]} for entity in entities]}]\n",
    "    \n",
    "    # Render the named entities using displaCy\n",
    "    # - style=\"ent\": Specifies that the visualization should show named entities\n",
    "    # - jupyter=True: Specifies that the visualization should be displayed in a Jupyter notebook\n",
    "    # - options: Options for displaCy visualization\n",
    "    displacy.render(render_data, style=\"ent\", manual=True, jupyter=True, options=displacy_options)\n",
    "\n",
    "# Define a dictionary mapping entity labels to colors\n",
    "entity_colors = {\n",
    "    'Abreviação': '#E74C3C', \n",
    "    'Localização do corpo ou região': '#3498DB',\n",
    "    'Achado': '#9B59B6', \n",
    "    'Organização relacionada à assistência médica': '#34495E',\n",
    "    'Dispositivo médico': '#2ECC71', \n",
    "    'Procedimento terapêutico ou preventivo': '#1ABC9C',\n",
    "    'Parte do corpo, órgão ou componente do órgão': '#F39C12', \n",
    "    'Procedimento de diagnóstico': '#16A085',\n",
    "    'Negação': '#27AE60', \n",
    "    'Sinal ou sintoma': '#2980B9',\n",
    "    'Comida': '#8E44AD', \n",
    "    'Atividade de saúde': '#2C3E50',\n",
    "    'Organização relacionada ao cuidado de saúde': '#D35400', \n",
    "    'Lesão ou envenenamento': '#7F8C8D',\n",
    "    'Função patológica|Sinal ou sintoma': '#C0392B', \n",
    "    'Paciente ou Grupo Deficiente': '#BDC3C7',\n",
    "    'Substância farmacológica': '#7D3C98', \n",
    "    'Conceito qualitativo': '#76D7C4',\n",
    "    'Conceito quantitativo': '#5DADE2', \n",
    "    'Sinal ou sintoma|Doença ou Síndrome': '#F1948A',\n",
    "    'Conceito espacial': '#BB8FCE', \n",
    "    'Conceito temporal': '#73C6B6'\n",
    "}\n",
    "\n",
    "# Example usage:\n",
    "# - raw_text_example_medical is the raw text containing named entities\n",
    "# - merged_entities is a list of dictionaries where each dictionary contains the start index, end index, and label of an entity\n",
    "# - The function call visualizes the named entities in the text using displaCy\n",
    "visualize_entities(raw_text_example_medical, merged_entities, entity_colors)\n",
    "\n"
   ]
  },
  {
   "cell_type": "markdown",
   "metadata": {},
   "source": [
    "## Annotating your own data\n",
    "\n",
    "Let's assume you have a dataset of 100 medical records and you want to annotate medical procedures and medications. You'll need to use a an annotation tool. Data annotation is an essential step in training our machine learning models. Today, we will guide you through the process of labeling your data using web-based graphical user interfaces (GUIs).\n",
    "\n",
    "#### Step 1: Choosing the Right Tool for Annotation\n",
    "\n",
    "Selecting the appropriate tool for data labeling is crucial for efficient and accurate annotation. Here are some of the recommended tools, each offering unique features:\n",
    "\n",
    "- **[Label Studio](https://labelstud.io/)**: A versatile and feature-rich tool, ideal for a wide range of annotation tasks.\n",
    "- **[Doccano](https://github.com/doccano/)**: A user-friendly tool, particularly well-suited for text annotation.\n",
    "- **[Argilla](https://docs.argilla.io/en/latest/index.html)**: A powerful option with advanced features like weak supervision and active learning. This tool is highly recommended for complex annotation tasks. For a deeper understanding of Human-in-the-Loop Machine Learning, refer to [this book](https://www.manning.com/books/human-in-the-loop-machine-learning).\n",
    "\n",
    "While we will primarily focus on Label Studio due to its extensive feature set, feel free to explore Doccano or other tools listed in [this exhaustive list](https://github.com/doccano/awesome-annotation-tools).\n",
    "\n",
    "#### Step 2: Setup and Installation \n",
    "\n",
    "Setting up these annotation tools is generally straightforward. To streamline the process, a ready-to-use Label Studio instance has been prepared for you. Follow these steps to get started:\n",
    "\n",
    "1. **Create Your Account**: Click [this link](https://labelclasse.jacob.al/user/signup/?token=36cf05fc40c431c9) to create your Label Studio account.\n",
    "2. **Login**: Use [this link](https://labelclasse.jacob.al) to log in to your account.\n",
    "3. **Data Conversion**: Convert your data into a format that Label Studio can process. Label Studio expects a JSON file structured as follows:\n",
    "\n",
    "```json\n",
    "[\n",
    "    {\n",
    "        \"id\": 1,\n",
    "        \"data\": {\n",
    "            \"text\": \"Here's some text to label\",\n",
    "            \"meta_info\": {\n",
    "                \"some_meta\": 123,\n",
    "                \"another_meta\": 456\n",
    "            }\n",
    "        }\n",
    "    }\n",
    "]\n",
    "```\n",
    "\n",
    "#### Important Considerations\n",
    "\n",
    "- **Tool Selection**: Choose the tool that best fits your annotation needs. For instance, if your project involves complex tasks, Argilla might be the best option due to its advanced features.\n",
    "- **Data Preparation**: Ensure your data is properly formatted before importing it into the annotation tool. This step is crucial for smooth operation and accurate labeling.\n",
    "- **User Interface Familiarity**: Spend some time getting familiar with the user interface of the chosen tool. This will improve your efficiency and accuracy during the annotation process.\n",
    "\n"
   ]
  },
  {
   "cell_type": "code",
   "execution_count": 15,
   "metadata": {},
   "outputs": [
    {
     "data": {
      "text/html": [
       "<div>\n",
       "<style scoped>\n",
       "    .dataframe tbody tr th:only-of-type {\n",
       "        vertical-align: middle;\n",
       "    }\n",
       "\n",
       "    .dataframe tbody tr th {\n",
       "        vertical-align: top;\n",
       "    }\n",
       "\n",
       "    .dataframe thead th {\n",
       "        text-align: right;\n",
       "    }\n",
       "</style>\n",
       "<table border=\"1\" class=\"dataframe\">\n",
       "  <thead>\n",
       "    <tr style=\"text-align: right;\">\n",
       "      <th></th>\n",
       "      <th>text</th>\n",
       "      <th>uid</th>\n",
       "      <th>text_pt</th>\n",
       "      <th>Asthma</th>\n",
       "      <th>CAD</th>\n",
       "      <th>CHF</th>\n",
       "      <th>Depression</th>\n",
       "      <th>Diabetes</th>\n",
       "      <th>Gallstones</th>\n",
       "      <th>GERD</th>\n",
       "      <th>Gout</th>\n",
       "      <th>Hypercholesterolemia</th>\n",
       "      <th>Hypertension</th>\n",
       "      <th>Hypertriglyceridemia</th>\n",
       "      <th>OA</th>\n",
       "      <th>Obesity</th>\n",
       "      <th>OSA</th>\n",
       "      <th>PVD</th>\n",
       "      <th>Venous Insufficiency</th>\n",
       "      <th>cleaned_text</th>\n",
       "    </tr>\n",
       "  </thead>\n",
       "  <tbody>\n",
       "    <tr>\n",
       "      <th>0</th>\n",
       "      <td>490646815 | WMC | 31530471 | | 9629480 | 11/23...</td>\n",
       "      <td>0</td>\n",
       "      <td>490646815 | WMC | 31530471 | | 9629480 | 11/23...</td>\n",
       "      <td>0</td>\n",
       "      <td>1</td>\n",
       "      <td>1</td>\n",
       "      <td>0</td>\n",
       "      <td>1</td>\n",
       "      <td>0</td>\n",
       "      <td>1</td>\n",
       "      <td>0</td>\n",
       "      <td>0</td>\n",
       "      <td>1</td>\n",
       "      <td>0</td>\n",
       "      <td>1</td>\n",
       "      <td>0</td>\n",
       "      <td>0</td>\n",
       "      <td>1</td>\n",
       "      <td>1</td>\n",
       "      <td>Data de Alta: 6/20/2006 MÉDICO EM ATENDIMENTO:...</td>\n",
       "    </tr>\n",
       "    <tr>\n",
       "      <th>1</th>\n",
       "      <td>368346277 | EMH | 64927307 | | 815098 | 3/29/1...</td>\n",
       "      <td>2</td>\n",
       "      <td>368346277 | EMH | 64927307 | | 815098 | 29/03/...</td>\n",
       "      <td>0</td>\n",
       "      <td>1</td>\n",
       "      <td>0</td>\n",
       "      <td>0</td>\n",
       "      <td>0</td>\n",
       "      <td>0</td>\n",
       "      <td>0</td>\n",
       "      <td>0</td>\n",
       "      <td>1</td>\n",
       "      <td>1</td>\n",
       "      <td>0</td>\n",
       "      <td>0</td>\n",
       "      <td>1</td>\n",
       "      <td>0</td>\n",
       "      <td>1</td>\n",
       "      <td>0</td>\n",
       "      <td>Data de alta: 10/12/1993 DIAGNÓSTICO PRINCIPAL...</td>\n",
       "    </tr>\n",
       "    <tr>\n",
       "      <th>2</th>\n",
       "      <td>908761918 | MMC | 45427009 | | 0927689 | 5/26/...</td>\n",
       "      <td>4</td>\n",
       "      <td>908761918 | MMC | 45427009 | | 0927689 | 5/26/...</td>\n",
       "      <td>1</td>\n",
       "      <td>1</td>\n",
       "      <td>1</td>\n",
       "      <td>0</td>\n",
       "      <td>1</td>\n",
       "      <td>0</td>\n",
       "      <td>1</td>\n",
       "      <td>0</td>\n",
       "      <td>1</td>\n",
       "      <td>1</td>\n",
       "      <td>1</td>\n",
       "      <td>0</td>\n",
       "      <td>1</td>\n",
       "      <td>0</td>\n",
       "      <td>0</td>\n",
       "      <td>1</td>\n",
       "      <td>Data de Alta: 9/29/2007 MÉDICO ASSISTENTE: SAL...</td>\n",
       "    </tr>\n",
       "    <tr>\n",
       "      <th>3</th>\n",
       "      <td>614370301 | OH | 58149804 | | 530586 | 10/21/1...</td>\n",
       "      <td>7</td>\n",
       "      <td>614370301 | OH | 58149804 | | 530586 | 21/10/1...</td>\n",
       "      <td>0</td>\n",
       "      <td>1</td>\n",
       "      <td>0</td>\n",
       "      <td>0</td>\n",
       "      <td>1</td>\n",
       "      <td>0</td>\n",
       "      <td>0</td>\n",
       "      <td>0</td>\n",
       "      <td>0</td>\n",
       "      <td>1</td>\n",
       "      <td>0</td>\n",
       "      <td>0</td>\n",
       "      <td>1</td>\n",
       "      <td>0</td>\n",
       "      <td>0</td>\n",
       "      <td>0</td>\n",
       "      <td>Data de Alta: 15/10/1995 DIAGNÓSTICO PRINCIPAL...</td>\n",
       "    </tr>\n",
       "    <tr>\n",
       "      <th>4</th>\n",
       "      <td>279607396 | PMH | 77790323 | | 371979 | 10/13/...</td>\n",
       "      <td>10</td>\n",
       "      <td>279607396 | PMH | 77790323 | | 371979 | 10/13/...</td>\n",
       "      <td>0</td>\n",
       "      <td>0</td>\n",
       "      <td>0</td>\n",
       "      <td>0</td>\n",
       "      <td>0</td>\n",
       "      <td>0</td>\n",
       "      <td>0</td>\n",
       "      <td>0</td>\n",
       "      <td>0</td>\n",
       "      <td>1</td>\n",
       "      <td>0</td>\n",
       "      <td>0</td>\n",
       "      <td>1</td>\n",
       "      <td>0</td>\n",
       "      <td>0</td>\n",
       "      <td>0</td>\n",
       "      <td>Data de Alta: 06/11/1992 DIAGNÓSTICO DE ADMISS...</td>\n",
       "    </tr>\n",
       "    <tr>\n",
       "      <th>...</th>\n",
       "      <td>...</td>\n",
       "      <td>...</td>\n",
       "      <td>...</td>\n",
       "      <td>...</td>\n",
       "      <td>...</td>\n",
       "      <td>...</td>\n",
       "      <td>...</td>\n",
       "      <td>...</td>\n",
       "      <td>...</td>\n",
       "      <td>...</td>\n",
       "      <td>...</td>\n",
       "      <td>...</td>\n",
       "      <td>...</td>\n",
       "      <td>...</td>\n",
       "      <td>...</td>\n",
       "      <td>...</td>\n",
       "      <td>...</td>\n",
       "      <td>...</td>\n",
       "      <td>...</td>\n",
       "      <td>...</td>\n",
       "    </tr>\n",
       "    <tr>\n",
       "      <th>1232</th>\n",
       "      <td>637843490 | AEH | 54848709 | | 5419602 | 11/28...</td>\n",
       "      <td>1215</td>\n",
       "      <td>637843490 | AEH | 54848709 | | 5419602 | 11/28...</td>\n",
       "      <td>0</td>\n",
       "      <td>1</td>\n",
       "      <td>0</td>\n",
       "      <td>0</td>\n",
       "      <td>1</td>\n",
       "      <td>0</td>\n",
       "      <td>1</td>\n",
       "      <td>0</td>\n",
       "      <td>1</td>\n",
       "      <td>1</td>\n",
       "      <td>0</td>\n",
       "      <td>1</td>\n",
       "      <td>0</td>\n",
       "      <td>0</td>\n",
       "      <td>0</td>\n",
       "      <td>0</td>\n",
       "      <td>Data de Alta: 29/01/2007 * ORDENS DE ALTA FINA...</td>\n",
       "    </tr>\n",
       "    <tr>\n",
       "      <th>1233</th>\n",
       "      <td>482506854 | ERH | 18073415 | | 775999 | 1/27/2...</td>\n",
       "      <td>1217</td>\n",
       "      <td>482506854 | ERH | 18073415 | | 775999 | 1/27/2...</td>\n",
       "      <td>1</td>\n",
       "      <td>1</td>\n",
       "      <td>0</td>\n",
       "      <td>0</td>\n",
       "      <td>1</td>\n",
       "      <td>0</td>\n",
       "      <td>0</td>\n",
       "      <td>0</td>\n",
       "      <td>0</td>\n",
       "      <td>1</td>\n",
       "      <td>0</td>\n",
       "      <td>0</td>\n",
       "      <td>0</td>\n",
       "      <td>0</td>\n",
       "      <td>0</td>\n",
       "      <td>0</td>\n",
       "      <td>Data de Alta: 12/10/2002 * ORDEM DE ALTA * ROR...</td>\n",
       "    </tr>\n",
       "    <tr>\n",
       "      <th>1234</th>\n",
       "      <td>747959081 | BH | 31199129 | | 3498389 | 8/6/20...</td>\n",
       "      <td>1219</td>\n",
       "      <td>747959081 | BH | 31199129 | | 3498389 | 8/6/20...</td>\n",
       "      <td>0</td>\n",
       "      <td>1</td>\n",
       "      <td>1</td>\n",
       "      <td>1</td>\n",
       "      <td>1</td>\n",
       "      <td>0</td>\n",
       "      <td>0</td>\n",
       "      <td>0</td>\n",
       "      <td>1</td>\n",
       "      <td>1</td>\n",
       "      <td>0</td>\n",
       "      <td>0</td>\n",
       "      <td>0</td>\n",
       "      <td>0</td>\n",
       "      <td>0</td>\n",
       "      <td>0</td>\n",
       "      <td>Data de Alta: 21/4/2006 MÉDICO ASSISTENTE: NIC...</td>\n",
       "    </tr>\n",
       "    <tr>\n",
       "      <th>1235</th>\n",
       "      <td>781979567 | MCH | 91301170 | | 8750646 | 7/12/...</td>\n",
       "      <td>1222</td>\n",
       "      <td>781979567 | MCH | 91301170 | 8750646 | 7/12/20...</td>\n",
       "      <td>0</td>\n",
       "      <td>1</td>\n",
       "      <td>1</td>\n",
       "      <td>0</td>\n",
       "      <td>1</td>\n",
       "      <td>0</td>\n",
       "      <td>0</td>\n",
       "      <td>0</td>\n",
       "      <td>1</td>\n",
       "      <td>1</td>\n",
       "      <td>0</td>\n",
       "      <td>0</td>\n",
       "      <td>1</td>\n",
       "      <td>0</td>\n",
       "      <td>0</td>\n",
       "      <td>0</td>\n",
       "      <td>* ORDENS DE ALTA * GOUD, JODY 499-78-41-6 Hunt...</td>\n",
       "    </tr>\n",
       "    <tr>\n",
       "      <th>1236</th>\n",
       "      <td>083251795 | GV | 63911803 | | 822578 | 2/5/199...</td>\n",
       "      <td>1235</td>\n",
       "      <td>083251795 | GV | 63911803 | | 822578 | 2/5/199...</td>\n",
       "      <td>0</td>\n",
       "      <td>1</td>\n",
       "      <td>0</td>\n",
       "      <td>0</td>\n",
       "      <td>1</td>\n",
       "      <td>0</td>\n",
       "      <td>0</td>\n",
       "      <td>0</td>\n",
       "      <td>1</td>\n",
       "      <td>1</td>\n",
       "      <td>0</td>\n",
       "      <td>0</td>\n",
       "      <td>1</td>\n",
       "      <td>0</td>\n",
       "      <td>0</td>\n",
       "      <td>1</td>\n",
       "      <td>Data de Alta: 4/15/1999 DIAGNÓSTICO PRINCIPAL:...</td>\n",
       "    </tr>\n",
       "  </tbody>\n",
       "</table>\n",
       "<p>1237 rows × 20 columns</p>\n",
       "</div>"
      ],
      "text/plain": [
       "                                                   text   uid  \\\n",
       "0     490646815 | WMC | 31530471 | | 9629480 | 11/23...     0   \n",
       "1     368346277 | EMH | 64927307 | | 815098 | 3/29/1...     2   \n",
       "2     908761918 | MMC | 45427009 | | 0927689 | 5/26/...     4   \n",
       "3     614370301 | OH | 58149804 | | 530586 | 10/21/1...     7   \n",
       "4     279607396 | PMH | 77790323 | | 371979 | 10/13/...    10   \n",
       "...                                                 ...   ...   \n",
       "1232  637843490 | AEH | 54848709 | | 5419602 | 11/28...  1215   \n",
       "1233  482506854 | ERH | 18073415 | | 775999 | 1/27/2...  1217   \n",
       "1234  747959081 | BH | 31199129 | | 3498389 | 8/6/20...  1219   \n",
       "1235  781979567 | MCH | 91301170 | | 8750646 | 7/12/...  1222   \n",
       "1236  083251795 | GV | 63911803 | | 822578 | 2/5/199...  1235   \n",
       "\n",
       "                                                text_pt  Asthma  CAD  CHF  \\\n",
       "0     490646815 | WMC | 31530471 | | 9629480 | 11/23...       0    1    1   \n",
       "1     368346277 | EMH | 64927307 | | 815098 | 29/03/...       0    1    0   \n",
       "2     908761918 | MMC | 45427009 | | 0927689 | 5/26/...       1    1    1   \n",
       "3     614370301 | OH | 58149804 | | 530586 | 21/10/1...       0    1    0   \n",
       "4     279607396 | PMH | 77790323 | | 371979 | 10/13/...       0    0    0   \n",
       "...                                                 ...     ...  ...  ...   \n",
       "1232  637843490 | AEH | 54848709 | | 5419602 | 11/28...       0    1    0   \n",
       "1233  482506854 | ERH | 18073415 | | 775999 | 1/27/2...       1    1    0   \n",
       "1234  747959081 | BH | 31199129 | | 3498389 | 8/6/20...       0    1    1   \n",
       "1235  781979567 | MCH | 91301170 | 8750646 | 7/12/20...       0    1    1   \n",
       "1236  083251795 | GV | 63911803 | | 822578 | 2/5/199...       0    1    0   \n",
       "\n",
       "      Depression  Diabetes  Gallstones  GERD  Gout  Hypercholesterolemia  \\\n",
       "0              0         1           0     1     0                     0   \n",
       "1              0         0           0     0     0                     1   \n",
       "2              0         1           0     1     0                     1   \n",
       "3              0         1           0     0     0                     0   \n",
       "4              0         0           0     0     0                     0   \n",
       "...          ...       ...         ...   ...   ...                   ...   \n",
       "1232           0         1           0     1     0                     1   \n",
       "1233           0         1           0     0     0                     0   \n",
       "1234           1         1           0     0     0                     1   \n",
       "1235           0         1           0     0     0                     1   \n",
       "1236           0         1           0     0     0                     1   \n",
       "\n",
       "      Hypertension  Hypertriglyceridemia  OA  Obesity  OSA  PVD  \\\n",
       "0                1                     0   1        0    0    1   \n",
       "1                1                     0   0        1    0    1   \n",
       "2                1                     1   0        1    0    0   \n",
       "3                1                     0   0        1    0    0   \n",
       "4                1                     0   0        1    0    0   \n",
       "...            ...                   ...  ..      ...  ...  ...   \n",
       "1232             1                     0   1        0    0    0   \n",
       "1233             1                     0   0        0    0    0   \n",
       "1234             1                     0   0        0    0    0   \n",
       "1235             1                     0   0        1    0    0   \n",
       "1236             1                     0   0        1    0    0   \n",
       "\n",
       "      Venous Insufficiency                                       cleaned_text  \n",
       "0                        1  Data de Alta: 6/20/2006 MÉDICO EM ATENDIMENTO:...  \n",
       "1                        0  Data de alta: 10/12/1993 DIAGNÓSTICO PRINCIPAL...  \n",
       "2                        1  Data de Alta: 9/29/2007 MÉDICO ASSISTENTE: SAL...  \n",
       "3                        0  Data de Alta: 15/10/1995 DIAGNÓSTICO PRINCIPAL...  \n",
       "4                        0  Data de Alta: 06/11/1992 DIAGNÓSTICO DE ADMISS...  \n",
       "...                    ...                                                ...  \n",
       "1232                     0  Data de Alta: 29/01/2007 * ORDENS DE ALTA FINA...  \n",
       "1233                     0  Data de Alta: 12/10/2002 * ORDEM DE ALTA * ROR...  \n",
       "1234                     0  Data de Alta: 21/4/2006 MÉDICO ASSISTENTE: NIC...  \n",
       "1235                     0  * ORDENS DE ALTA * GOUD, JODY 499-78-41-6 Hunt...  \n",
       "1236                     1  Data de Alta: 4/15/1999 DIAGNÓSTICO PRINCIPAL:...  \n",
       "\n",
       "[1237 rows x 20 columns]"
      ]
     },
     "execution_count": 15,
     "metadata": {},
     "output_type": "execute_result"
    }
   ],
   "source": [
    "df"
   ]
  },
  {
   "cell_type": "code",
   "execution_count": 16,
   "metadata": {},
   "outputs": [
    {
     "data": {
      "text/plain": [
       "Index(['text', 'uid', 'text_pt', 'Asthma', 'CAD', 'CHF', 'Depression',\n",
       "       'Diabetes', 'Gallstones', 'GERD', 'Gout', 'Hypercholesterolemia',\n",
       "       'Hypertension', 'Hypertriglyceridemia', 'OA', 'Obesity', 'OSA', 'PVD',\n",
       "       'Venous Insufficiency', 'cleaned_text'],\n",
       "      dtype='object')"
      ]
     },
     "execution_count": 16,
     "metadata": {},
     "output_type": "execute_result"
    }
   ],
   "source": [
    "df.columns"
   ]
  },
  {
   "cell_type": "code",
   "execution_count": 17,
   "metadata": {},
   "outputs": [],
   "source": [
    "text_col = 'cleaned_text'\n",
    "meta_cols = [ # Just as an example, these are the columns that we'll use as metadata and are not part of the task itself.\n",
    "    'uid',\n",
    "    'Asthma',\n",
    "    'CAD' # etc\n",
    "]\n",
    "\n"
   ]
  },
  {
   "cell_type": "code",
   "execution_count": 18,
   "metadata": {},
   "outputs": [
    {
     "data": {
      "text/plain": [
       "100"
      ]
     },
     "execution_count": 18,
     "metadata": {},
     "output_type": "execute_result"
    }
   ],
   "source": [
    "# Initialize an empty list to store dictionaries\n",
    "list_of_dicts = []\n",
    "\n",
    "# Iterate over the first 100 rows of the DataFrame 'df'\n",
    "for row in df.head(100).itertuples():\n",
    "    # Append a dictionary to 'list_of_dicts' for each row\n",
    "    list_of_dicts.append({\n",
    "        'id': row.Index,  # Use the row index as the 'id'\n",
    "        'data': {\n",
    "            'text': getattr(row, text_col),  # Extract the text from the specified column\n",
    "            'meta_info': {m: getattr(row, m) for m in meta_cols}  # Extract meta information from specified columns\n",
    "        }\n",
    "    })\n",
    "\n",
    "# Return the length of the list of dictionaries\n",
    "len(list_of_dicts)"
   ]
  },
  {
   "cell_type": "code",
   "execution_count": 19,
   "metadata": {},
   "outputs": [
    {
     "data": {
      "text/plain": [
       "{'id': 0,\n",
       " 'data': {'text': 'Data de Alta: 6/20/2006 MÉDICO EM ATENDIMENTO: TRUKA, DEON XAVIER M.D. SERVIÇO: BH. DIAGNÓSTICO PRINCIPAL: Anemia e Sangramento Gastrointestinal. DIAGNÓSTICOS SECUNDÁRIOS: Diabetes, substituição da válvula mitral, fibrilação atrial e doença renal crônica. HISTÓRICO DA DOENÇA ATUAL: A paciente é uma mulher de 86 anos com histórico de diabetes, doença renal crônica, insuficiência cardíaca congestiva com fração de ejeção de 45% a 50%, que se apresenta com queixa principal de fadiga e fraqueza há uma semana. Ela apresentava piora da dor na virilha e no quadril direito, pós-artroplastia total do quadril há aproximadamente 13 anos, que piorou nas últimas duas semanas, e também recentemente completou um tratamento com Levaquin para infecção do trato urinário. Ela se apresentou ao consultório do Dr. Parent queixando-se de fadiga e fraqueza há uma semana. Ela teve algumas dores abdominais em uma distribuição semelhante a uma faixa ao redor do lado direito. Foi constatado que seu hematócrito estava em 21, abaixo dos 30 oito dias atrás, e ela foi encaminhada ao departamento de emergência para transfusão e avaliação da anemia. MEDICAÇÕES PRÉ-ADMISSÃO: Caltrate plus D um comprimido via oral duas vezes ao dia, Lantus 7 unidades subcutâneas todas as noites, NovoLog 4 unidades/4 unidades/5 unidades subcutâneas três vezes ao dia, Imdur 30 mg duas vezes ao dia, amlodipina 5 mg duas vezes ao dia, furosemida 80 mg diariamente, valsartan 120 mg diariamente, warfarina 4 mg diariamente, sulfato ferroso 325 mg via oral diariamente e multivitamínico diariamente. HISTÓRICO MÉDICO PRÉVIO: Doença renal crônica, presumivelmente devido a insuficiência cardíaca congestiva/diurese/doença da artéria renal/nefropatia diabética inicial; diabetes tipo 2; acidente vascular cerebral anterior; insuficiência cardíaca congestiva com fração de ejeção de 45% a 50%; doença valvar reumática com substituição da válvula mitral e reparo da válvula tricúspide; fibrilação atrial; histórico de obstrução do intestino delgado; pós-artroplastia total do quadril direito há aproximadamente 13 anos. HISTÓRICO FAMILIAR: Sem histórico familiar de doença renal ou doença cardíaca. HISTÓRICO SOCIAL: Ela tem 10 filhos, mora sozinha com serviço de cuidados em casa em ME, mas se mudou para morar com a filha em News Irv In. Ela nega uso de tabaco e raramente consome álcool. ALERGIAS: Codeína e Benadryl. EXAME FÍSICO DE ADMISSÃO: Sinais vitais: temperatura 96,7, frequência cardíaca 60, pressão arterial 153/74, frequência respiratória 22 e saturação de oxigênio 95% em ar ambiente. A paciente é uma mulher idosa frágil que não apresenta desconforto agudo. Ela tem dentição precária. A pressão venosa jugular é difícil de avaliar devido à regurgitação tricúspide. Os pulmões estavam limpos à ausculta bilateral. O exame cardiovascular mostrou bradicardia com frequência cardíaca na faixa dos 50 batimentos por minuto, irregularidade ao auscultar S1 e S2, e um sopro sistólico 3/6 ouvindo-se em todo o ciclo, com S2 de som mecânico. O abdômen estava levemente doloroso à palpação no epigástrio médio, sem dor à descompressão nem sinais de proteção. Os membros apresentavam alterações de estase venosa em suas extremidades inferiores bilateralmente. Os pés estavam frios com pulsos dorsais do pé e tibial posterior diminuídos. No exame neurológico, ela estava alerta e orientada em relação às três esferas de cognição e intacta nos nervos cranianos II a XII. ESTUDOS: O ECG mostrou fibrilação atrial com resposta ventricular lenta, frequência cardíaca de 53, QRS alargado, uma onda Q em aVL e ondas U nas derivações laterais. Raio-X de tórax mostrou efusões pleurais e edema pulmonar melhorados, cardiomegalia marcada estável. Raio-X do quadril direito mostrou: 1. Pós-artroplastia total do quadril direito com área de lise periprotética estável e remodelação cortical. 2. Artrose grave no quadril esquerdo. 3. Aterosclerose difusa. EGD em 24/10/06 mostrou hérnia hiatal, pólipos fundicais com patologia mostrando lesões hipoplásicas e inflamatórias; erosões antrais leves com patologia demonstrando regeneração leve, inespecífica, sem presença de H. pylori; e duodenite com patologia mostrando mucosa normal, mas sem sangramento ativo nem sinais de sangramento recente. Cápsula endoscópica em 5/7/06 mostrou úlcera gástrica em processo de cicatrização, provavelmente no antro, linfangiectasia intestinal e angiectasia no intestino delgado distal. Colonoscopia em 12/9/06 demonstrou divertículo cecal, pólipo sésil ascendente de aproximadamente 3 mm e vários pequenos pólipos sésseis no retossigmoide. PROCEDIMENTO: Transposição da veia basílica direita em 12/9/06 pelo Dr. Jacinto Goonez. EVOLUÇÃO HOSPITALAR POR PROBLEMA: 1. Sangramento gastrointestinal: No departamento de emergência, os sinais vitais da paciente eram temperatura 95,4, frequência cardíaca 62, frequência respiratória 16, pressão arterial 127/66 com saturação de oxigênio a 98% em ar ambiente. Foi constatado que ela estava com fezes positivas para sangue oculto e a equipe de gastroenterologia foi consultada. Ela foi iniciada com Nexium 20 mg via intravenosa duas vezes ao dia e recebeu vitamina K 10 mg subcutânea e duas unidades de plasma fresco congelado, além disso, foram transfundidas três unidades de concentrado de hemácias, com administração de Lasix 120 mg IV para cada bolsa. Vale ressaltar que a paciente realizou uma colonoscopia em Wa em 26/8/05, que mostrou úlceras retais com sangramento, com biópsias consistentes com colite isquêmica. Uma EGD em 24/10/06 mostrou hérnia hiatal; pólipos fundicais (patologia: hipoplásicos/inflamatórios); erosões antrais leves (patologia: regeneração leve, inespecífica, sem H. pylori); duodenite (patologia: mucosa normal), mas sem sangramento ativo nem sinais de sangramento recente. A cápsula endoscópica em 5/7/06 mostrou úlcera gástrica em processo de cicatrização, provavelmente no antro, linfangiectasia intestinal e angiectasia no intestino delgado distal, que foram consideradas as fontes prováveis do sangramento. A colonoscopia realizada em 12/9/06 para procurar angiectasias passíveis de intervenção mostrou apenas um divertículo cecal, um pólipo sésil ascendente de aproximadamente 3 mm e vários pequenos pólipos sésseis no retossigmoide. A paciente começou a usar Aranesp, mas teve uma queda de cinco pontos no hematócrito, de 32 para 27, em 12/9/06, e precisou de mais duas unidades de sangue, juntamente com Lasix. O hematócrito da paciente permaneceu estável em cerca de 30 a 32, e ela será reiniciada na anticoagulação na quinta-feira, 10/12/06, uma semana após a cirurgia de fístula AV. 2. Renal: A paciente possui doença renal crônica e está sendo considerada para possível hemodiálise no futuro. Ela continuou usando Caltrate plus D, multivitamínico e suplementação de ferro, e começou a tomar Aranesp 25 mcg semanalmente e foi submetida a sevelâmer 400 mg três vezes ao dia para níveis elevados de fosfato. Um estudo de mapeamento das veias foi realizado em 25/7/06, e uma transposição da veia basílica direita foi realizada em 12/9/06 pelo Dr. Landrie. A paciente apresentou resfriamento da mão direita, dormência e fraqueza após a cirurgia (sempre com pulso radial dopplerável), devido a roubo de fluxo versus neurapraxia, o que melhorou até a alta. Ela fará acompanhamento com o Dr. Chanthasene como paciente ambulatorial. O creatinina da paciente estava em 3,3 na admissão, melhorou para 2,0 até 12/9/06, dia de sua cirurgia, e aumentou novamente para 3,2 em 1/10/06. Ela recebeu bolus de Lasix intravenoso, pois apresentava sinais de sobrecarga de volume com ganho de peso acima de oito libras durante sua hospitalização, e a creatinina melhorou para 2,7 até o dia da alta. 3. Cardiovascular: Bomba: A fração de ejeção da paciente é de 45% a 50% e ela recebeu 120 mg de Lasix IV para cada unidade de concentrado de hemácias que recebeu, além de 120 mg oralmente por dia, com bolus intravenoso de 180 mg conforme necessário para sobrecarga de volume, conforme julgado pelo aumento de peso. Os medicamentos anti-hipertensivos foram inicialmente suspensos devido ao sangramento gastrointestinal e reiniciados em 24/10/06, com pressões sistólicas se mantendo na faixa dos 120s a 130s. Ritmo: A paciente tem fibrilação atrial com resposta ventricular lenta, com frequências cardíacas chegando a menos de 40 batimentos por minuto. Às vezes, sua frequência cardíaca parecia regular e foi considerada um ritmo de escape juncional. Ela permaneceu assintomática durante toda a sua hospitalização. Ela foi discutida com seu cardiologista, Dr. Fritz, que considerará a colocação de um marcapasso como paciente ambulatorial. 4. Endócrino: Ela está em eutiroidismo com TSH de 2,422. Para seu diabetes, ela recebia Lantus todas as noites e asparto antes das refeições e insulina regular conforme necessário com base em uma escala deslizante. As medições de glicemia capilar estavam elevadas para valores acima de 300 no início desta internação, mas melhoraram para valores em torno de 100 ao aumentar a dose de insulina. 5. Musculoesquelético: A paciente possui uma artroplastia total de quadril direito realizada aproximadamente 13 anos atrás e reclamou de dor no quadril direito na admissão. Um raio-X mostrou ausência de alterações significativas no implante e a dor melhorou na manhã de 24/10/06. Ela fará acompanhamento com o médico fisiatra, Dr. Allan Kofoed. COMPLICAÇÕES: Fraqueza, dormência e resfriamento da mão direita após a cirurgia de fístula AV, possivelmente devido a roubo de fluxo ou neurapraxia, melhoraram significativamente até a alta. CONSULTORES: Dr. Garfield Kiehne, cirurgia vascular, Dr. Ambrose Moldrem, gastroenterologia. EXAME FÍSICO NA ALTA: Sinais vitais estáveis. Estertores bibasais nos pulmões. Sopro sistólico 3/6 ouvido em todo o ciclo, além de um S2 mecânico. Abdômen benigno. Extremidades inferiores com alterações crônicas de estase venosa. Fístula AV no membro superior direito com pulso positivo. Pulso radial direito diminuído com mão distal aquecida e força de preensão manual no membro direito de 4/5. MEDICAÇÕES NA ALTA: Norvasc 5 mg diariamente, Caltrate plus D um comprimido via oral duas vezes ao dia, Aranesp 25 mcg subcutâneo semanalmente, Lovenox 50 mg subcutâneo diariamente a partir de quinta-feira, 10/12/06 (a ser descontinuado quando o INR da paciente estiver terapêutico com a varfarina), Nexium 40 mg via oral duas vezes ao dia, sulfato ferroso 325 mg via oral duas vezes ao dia, Lasix 160 mg via oral diariamente, insulina asparto 5 unidades subcutâneas a cada refeição, insulina Lantus 15 unidades subcutâneas todas as noites, Imdur 30 mg via oral duas vezes ao dia, sevelâmero 400 mg via oral três vezes ao dia, multivitamínico um comprimido diariamente, valsartan 120 mg via oral diariamente, Coumadin 4 mg via oral todas as noites a partir de quinta-feira, 10/12/06. DESTINO: Retorno para casa com serviços. CONSULTAS DE ACOMPANHAMENTO: A paciente fará acompanhamento com o Dr. Brendan B Tordsen em uma ou duas semanas, com o Dr. Schaetzle, cirurgia vascular, em 5/5/06 às 8h30, com o Dr. Salvatore Sherrod, fisiatra, em 29/11/06 às 10h, e com o Dr. Margarito Nolting em 9/7/07 às 11h45. STATUS DE EMERGÊNCIA: A paciente é de ressuscitação total, e seu procurador de saúde é sua filha, Shane Lutao. MÉDICO DE ATENÇÃO PRIMÁRIA: Rufus Mannheimer, MD. Documento de eScription: 6-5214206 CSSten Tel Ditado por: BEIER, JULIO Médico presente: HAMBRIC, MARGARITO KURT ID da Ditado 1739778 D: 15/10/06',\n",
       "  'meta_info': {'uid': 0, 'Asthma': 0, 'CAD': 1}}}"
      ]
     },
     "execution_count": 19,
     "metadata": {},
     "output_type": "execute_result"
    }
   ],
   "source": [
    "list_of_dicts[0]"
   ]
  },
  {
   "cell_type": "code",
   "execution_count": 20,
   "metadata": {},
   "outputs": [],
   "source": [
    "# Import the json module to handle JSON data\n",
    "import json\n",
    "\n",
    "# Open a file in write mode to save the JSON data\n",
    "with open('outputs/cn_first_100_ner.json', 'w') as file:\n",
    "    # Serialize 'list_of_dicts' to a JSON formatted string and write it to the file\n",
    "    json.dump(list_of_dicts, file)"
   ]
  },
  {
   "cell_type": "markdown",
   "metadata": {},
   "source": [
    "## Step 4: Reading back your data\n",
    "\n",
    "Once you've annotated and exported your data to a JSON format, you can read it back using the following code:\n"
   ]
  },
  {
   "cell_type": "code",
   "execution_count": 22,
   "metadata": {},
   "outputs": [
    {
     "data": {
      "text/plain": [
       "[{'id': 743,\n",
       "  'annotations': [{'id': 612,\n",
       "    'completed_by': 1,\n",
       "    'result': [{'value': {'start': 182,\n",
       "       'end': 212,\n",
       "       'text': 'substituição da válvula mitral',\n",
       "       'labels': ['Procedimento']},\n",
       "      'id': 'kstD2SIBL8',\n",
       "      'from_name': 'label',\n",
       "      'to_name': 'text',\n",
       "      'type': 'labels',\n",
       "      'origin': 'manual'},\n",
       "     {'value': {'start': 576,\n",
       "       'end': 605,\n",
       "       'text': 'artroplastia total do quadril',\n",
       "       'labels': ['Procedimento']},\n",
       "      'id': '_phchysu_z',\n",
       "      'from_name': 'label',\n",
       "      'to_name': 'text',\n",
       "      'type': 'labels',\n",
       "      'origin': 'manual'},\n",
       "     {'value': {'start': 721,\n",
       "       'end': 729,\n",
       "       'text': 'Levaquin',\n",
       "       'labels': ['Medicamento']},\n",
       "      'id': 'jSbewazLvL',\n",
       "      'from_name': 'label',\n",
       "      'to_name': 'text',\n",
       "      'type': 'labels',\n",
       "      'origin': 'manual'},\n",
       "     {'value': {'start': 1099,\n",
       "       'end': 1109,\n",
       "       'text': 'transfusão',\n",
       "       'labels': ['Procedimento']},\n",
       "      'id': '-jKNCewNDD',\n",
       "      'from_name': 'label',\n",
       "      'to_name': 'text',\n",
       "      'type': 'labels',\n",
       "      'origin': 'manual'},\n",
       "     {'value': {'start': 1158,\n",
       "       'end': 1173,\n",
       "       'text': 'Caltrate plus D',\n",
       "       'labels': ['Medicamento']},\n",
       "      'id': 'Tl5nJIlVLm',\n",
       "      'from_name': 'label',\n",
       "      'to_name': 'text',\n",
       "      'type': 'labels',\n",
       "      'origin': 'manual'},\n",
       "     {'value': {'start': 1216,\n",
       "       'end': 1222,\n",
       "       'text': 'Lantus',\n",
       "       'labels': ['Medicamento']},\n",
       "      'id': '6vA8lYaMWZ',\n",
       "      'from_name': 'label',\n",
       "      'to_name': 'text',\n",
       "      'type': 'labels',\n",
       "      'origin': 'manual'},\n",
       "     {'value': {'start': 1263,\n",
       "       'end': 1270,\n",
       "       'text': 'NovoLog',\n",
       "       'labels': ['Medicamento']},\n",
       "      'id': 'QEj3fnkVqN',\n",
       "      'from_name': 'label',\n",
       "      'to_name': 'text',\n",
       "      'type': 'labels',\n",
       "      'origin': 'manual'},\n",
       "     {'value': {'start': 1335,\n",
       "       'end': 1340,\n",
       "       'text': 'Imdur',\n",
       "       'labels': ['Medicamento']},\n",
       "      'id': 'ADm_4otsPv',\n",
       "      'from_name': 'label',\n",
       "      'to_name': 'text',\n",
       "      'type': 'labels',\n",
       "      'origin': 'manual'},\n",
       "     {'value': {'start': 1366,\n",
       "       'end': 1376,\n",
       "       'text': 'amlodipina',\n",
       "       'labels': ['Medicamento']},\n",
       "      'id': 'lRxiDjbb-q',\n",
       "      'from_name': 'label',\n",
       "      'to_name': 'text',\n",
       "      'type': 'labels',\n",
       "      'origin': 'manual'},\n",
       "     {'value': {'start': 1401,\n",
       "       'end': 1411,\n",
       "       'text': 'furosemida',\n",
       "       'labels': ['Medicamento']},\n",
       "      'id': 'HifEM3pHR0',\n",
       "      'from_name': 'label',\n",
       "      'to_name': 'text',\n",
       "      'type': 'labels',\n",
       "      'origin': 'manual'},\n",
       "     {'value': {'start': 1431,\n",
       "       'end': 1440,\n",
       "       'text': 'valsartan',\n",
       "       'labels': ['Medicamento']},\n",
       "      'id': '0IW5ElSPUg',\n",
       "      'from_name': 'label',\n",
       "      'to_name': 'text',\n",
       "      'type': 'labels',\n",
       "      'origin': 'manual'},\n",
       "     {'value': {'start': 1461,\n",
       "       'end': 1470,\n",
       "       'text': 'warfarina',\n",
       "       'labels': ['Medicamento']},\n",
       "      'id': 'FP-JyrjGLy',\n",
       "      'from_name': 'label',\n",
       "      'to_name': 'text',\n",
       "      'type': 'labels',\n",
       "      'origin': 'manual'},\n",
       "     {'value': {'start': 1489,\n",
       "       'end': 1504,\n",
       "       'text': 'sulfato ferroso',\n",
       "       'labels': ['Medicamento']},\n",
       "      'id': 'UYBtzJLlYn',\n",
       "      'from_name': 'label',\n",
       "      'to_name': 'text',\n",
       "      'type': 'labels',\n",
       "      'origin': 'manual'},\n",
       "     {'value': {'start': 1535,\n",
       "       'end': 1550,\n",
       "       'text': 'multivitamínico',\n",
       "       'labels': ['Medicamento']},\n",
       "      'id': 'jpnRizpML8',\n",
       "      'from_name': 'label',\n",
       "      'to_name': 'text',\n",
       "      'type': 'labels',\n",
       "      'origin': 'manual'},\n",
       "     {'value': {'start': 2014,\n",
       "       'end': 2051,\n",
       "       'text': 'artroplastia total do quadril direito',\n",
       "       'labels': ['Procedimento']},\n",
       "      'id': 'fAGF0HnKtt',\n",
       "      'from_name': 'label',\n",
       "      'to_name': 'text',\n",
       "      'type': 'labels',\n",
       "      'origin': 'manual'},\n",
       "     {'value': {'start': 2361,\n",
       "       'end': 2368,\n",
       "       'text': 'Codeína',\n",
       "       'labels': ['Medicamento']},\n",
       "      'id': 'LpFrx-TYs5',\n",
       "      'from_name': 'label',\n",
       "      'to_name': 'text',\n",
       "      'type': 'labels',\n",
       "      'origin': 'manual'},\n",
       "     {'value': {'start': 2371,\n",
       "       'end': 2379,\n",
       "       'text': 'Benadryl',\n",
       "       'labels': ['Medicamento']},\n",
       "      'id': '0vA2S-_cFZ',\n",
       "      'from_name': 'label',\n",
       "      'to_name': 'text',\n",
       "      'type': 'labels',\n",
       "      'origin': 'manual'},\n",
       "     {'value': {'start': 2913,\n",
       "       'end': 2922,\n",
       "       'text': 'auscultar',\n",
       "       'labels': ['Procedimento']},\n",
       "      'id': 'ilomMnFtW7',\n",
       "      'from_name': 'label',\n",
       "      'to_name': 'text',\n",
       "      'type': 'labels',\n",
       "      'origin': 'manual'},\n",
       "     {'value': {'start': 2769,\n",
       "       'end': 2787,\n",
       "       'text': 'ausculta bilateral',\n",
       "       'labels': ['Procedimento']},\n",
       "      'id': 'Ep0qFMyALn',\n",
       "      'from_name': 'label',\n",
       "      'to_name': 'text',\n",
       "      'type': 'labels',\n",
       "      'origin': 'manual'},\n",
       "     {'value': {'start': 2791,\n",
       "       'end': 2811,\n",
       "       'text': 'exame cardiovascular',\n",
       "       'labels': ['Procedimento']},\n",
       "      'id': 'nC6YdQ-Sf9',\n",
       "      'from_name': 'label',\n",
       "      'to_name': 'text',\n",
       "      'type': 'labels',\n",
       "      'origin': 'manual'},\n",
       "     {'value': {'start': 3047,\n",
       "       'end': 3055,\n",
       "       'text': 'palpação',\n",
       "       'labels': ['Procedimento']},\n",
       "      'id': 'UBzcXreXb2',\n",
       "      'from_name': 'label',\n",
       "      'to_name': 'text',\n",
       "      'type': 'labels',\n",
       "      'origin': 'manual'},\n",
       "     {'value': {'start': 3305,\n",
       "       'end': 3322,\n",
       "       'text': 'exame neurológico',\n",
       "       'labels': ['Procedimento']},\n",
       "      'id': 'B5Prlu_Dz8',\n",
       "      'from_name': 'label',\n",
       "      'to_name': 'text',\n",
       "      'type': 'labels',\n",
       "      'origin': 'manual'},\n",
       "     {'value': {'start': 3445,\n",
       "       'end': 3448,\n",
       "       'text': 'ECG',\n",
       "       'labels': ['Procedimento']},\n",
       "      'id': 'Air0JZcdxl',\n",
       "      'from_name': 'label',\n",
       "      'to_name': 'text',\n",
       "      'type': 'labels',\n",
       "      'origin': 'manual'},\n",
       "     {'value': {'start': 3601,\n",
       "       'end': 3616,\n",
       "       'text': 'Raio-X de tórax',\n",
       "       'labels': ['Procedimento']},\n",
       "      'id': '2kQVzDX5-T',\n",
       "      'from_name': 'label',\n",
       "      'to_name': 'text',\n",
       "      'type': 'labels',\n",
       "      'origin': 'manual'},\n",
       "     {'value': {'start': 3702,\n",
       "       'end': 3727,\n",
       "       'text': 'Raio-X do quadril direito',\n",
       "       'labels': ['Procedimento']},\n",
       "      'id': 'L1NK5qIjJQ',\n",
       "      'from_name': 'label',\n",
       "      'to_name': 'text',\n",
       "      'type': 'labels',\n",
       "      'origin': 'manual'},\n",
       "     {'value': {'start': 3744,\n",
       "       'end': 3781,\n",
       "       'text': 'artroplastia total do quadril direito',\n",
       "       'labels': ['Procedimento']},\n",
       "      'id': 'EpRtDKffwl',\n",
       "      'from_name': 'label',\n",
       "      'to_name': 'text',\n",
       "      'type': 'labels',\n",
       "      'origin': 'manual'},\n",
       "     {'value': {'start': 3969,\n",
       "       'end': 3978,\n",
       "       'text': 'patologia',\n",
       "       'labels': ['Procedimento']},\n",
       "      'id': 'rmssb_kMa1',\n",
       "      'from_name': 'label',\n",
       "      'to_name': 'text',\n",
       "      'type': 'labels',\n",
       "      'origin': 'manual'},\n",
       "     {'value': {'start': 3908,\n",
       "       'end': 3911,\n",
       "       'text': 'EGD',\n",
       "       'labels': ['Procedimento']},\n",
       "      'id': 't3dxPhjUSD',\n",
       "      'from_name': 'label',\n",
       "      'to_name': 'text',\n",
       "      'type': 'labels',\n",
       "      'origin': 'manual'},\n",
       "     {'value': {'start': 4052,\n",
       "       'end': 4061,\n",
       "       'text': 'patologia',\n",
       "       'labels': ['Procedimento']},\n",
       "      'id': '0ebTXp6doD',\n",
       "      'from_name': 'label',\n",
       "      'to_name': 'text',\n",
       "      'type': 'labels',\n",
       "      'origin': 'manual'},\n",
       "     {'value': {'start': 4150,\n",
       "       'end': 4159,\n",
       "       'text': 'patologia',\n",
       "       'labels': ['Procedimento']},\n",
       "      'id': 'kM0Cv7Ywn5',\n",
       "      'from_name': 'label',\n",
       "      'to_name': 'text',\n",
       "      'type': 'labels',\n",
       "      'origin': 'manual'},\n",
       "     {'value': {'start': 4246,\n",
       "       'end': 4265,\n",
       "       'text': 'Cápsula endoscópica',\n",
       "       'labels': ['Procedimento']},\n",
       "      'id': 'gPgiFKA9Ev',\n",
       "      'from_name': 'label',\n",
       "      'to_name': 'text',\n",
       "      'type': 'labels',\n",
       "      'origin': 'manual'},\n",
       "     {'value': {'start': 4423,\n",
       "       'end': 4435,\n",
       "       'text': 'Colonoscopia',\n",
       "       'labels': ['Procedimento']},\n",
       "      'id': 'osRjuUQa1v',\n",
       "      'from_name': 'label',\n",
       "      'to_name': 'text',\n",
       "      'type': 'labels',\n",
       "      'origin': 'manual'},\n",
       "     {'value': {'start': 4591,\n",
       "       'end': 4628,\n",
       "       'text': 'Transposição da veia basílica direita',\n",
       "       'labels': ['Procedimento']},\n",
       "      'id': 'SxndiQ4qqL',\n",
       "      'from_name': 'label',\n",
       "      'to_name': 'text',\n",
       "      'type': 'labels',\n",
       "      'origin': 'manual'},\n",
       "     {'value': {'start': 5077,\n",
       "       'end': 5083,\n",
       "       'text': 'Nexium',\n",
       "       'labels': ['Medicamento']},\n",
       "      'id': 'Db9RZAlOkT',\n",
       "      'from_name': 'label',\n",
       "      'to_name': 'text',\n",
       "      'type': 'labels',\n",
       "      'origin': 'manual'},\n",
       "     {'value': {'start': 5134,\n",
       "       'end': 5144,\n",
       "       'text': 'vitamina K',\n",
       "       'labels': ['Medicamento']},\n",
       "      'id': '4IKGzv3s0D',\n",
       "      'from_name': 'label',\n",
       "      'to_name': 'text',\n",
       "      'type': 'labels',\n",
       "      'origin': 'manual'},\n",
       "     {'value': {'start': 5301,\n",
       "       'end': 5306,\n",
       "       'text': 'Lasix',\n",
       "       'labels': ['Medicamento']},\n",
       "      'id': 'JNlBbRwcwg',\n",
       "      'from_name': 'label',\n",
       "      'to_name': 'text',\n",
       "      'type': 'labels',\n",
       "      'origin': 'manual'},\n",
       "     {'value': {'start': 5377,\n",
       "       'end': 5389,\n",
       "       'text': 'colonoscopia',\n",
       "       'labels': ['Procedimento']},\n",
       "      'id': 'OwUfVmQIl2',\n",
       "      'from_name': 'label',\n",
       "      'to_name': 'text',\n",
       "      'type': 'labels',\n",
       "      'origin': 'manual'},\n",
       "     {'value': {'start': 5456,\n",
       "       'end': 5464,\n",
       "       'text': 'biópsias',\n",
       "       'labels': ['Procedimento']},\n",
       "      'id': '14OYuJtpT4',\n",
       "      'from_name': 'label',\n",
       "      'to_name': 'text',\n",
       "      'type': 'labels',\n",
       "      'origin': 'manual'},\n",
       "     {'value': {'start': 5504,\n",
       "       'end': 5507,\n",
       "       'text': 'EGD',\n",
       "       'labels': ['Procedimento']},\n",
       "      'id': 'ndaL5gLYnS',\n",
       "      'from_name': 'label',\n",
       "      'to_name': 'text',\n",
       "      'type': 'labels',\n",
       "      'origin': 'manual'},\n",
       "     {'value': {'start': 5785,\n",
       "       'end': 5804,\n",
       "       'text': 'cápsula endoscópica',\n",
       "       'labels': ['Procedimento']},\n",
       "      'id': 'MMk0HeHpT0',\n",
       "      'from_name': 'label',\n",
       "      'to_name': 'text',\n",
       "      'type': 'labels',\n",
       "      'origin': 'manual'},\n",
       "     {'value': {'start': 6023,\n",
       "       'end': 6035,\n",
       "       'text': 'colonoscopia',\n",
       "       'labels': ['Procedimento']},\n",
       "      'id': 'l-klEjgTcf',\n",
       "      'from_name': 'label',\n",
       "      'to_name': 'text',\n",
       "      'type': 'labels',\n",
       "      'origin': 'manual'},\n",
       "     {'value': {'start': 6275,\n",
       "       'end': 6282,\n",
       "       'text': 'Aranesp',\n",
       "       'labels': ['Medicamento']},\n",
       "      'id': '973BPwL_eR',\n",
       "      'from_name': 'label',\n",
       "      'to_name': 'text',\n",
       "      'type': 'labels',\n",
       "      'origin': 'manual'},\n",
       "     {'value': {'start': 6421,\n",
       "       'end': 6426,\n",
       "       'text': 'Lasix',\n",
       "       'labels': ['Medicamento']},\n",
       "      'id': '7ebM7w-UwK',\n",
       "      'from_name': 'label',\n",
       "      'to_name': 'text',\n",
       "      'type': 'labels',\n",
       "      'origin': 'manual'},\n",
       "     {'value': {'start': 6579,\n",
       "       'end': 6598,\n",
       "       'text': 'cirurgia de fístula',\n",
       "       'labels': ['Procedimento']},\n",
       "      'id': 'SZvhDzhUBO',\n",
       "      'from_name': 'label',\n",
       "      'to_name': 'text',\n",
       "      'type': 'labels',\n",
       "      'origin': 'manual'},\n",
       "     {'value': {'start': 6691,\n",
       "       'end': 6702,\n",
       "       'text': 'hemodiálise',\n",
       "       'labels': ['Procedimento']},\n",
       "      'id': 'DSXln0dl2u',\n",
       "      'from_name': 'label',\n",
       "      'to_name': 'text',\n",
       "      'type': 'labels',\n",
       "      'origin': 'manual'},\n",
       "     {'value': {'start': 6735,\n",
       "       'end': 6750,\n",
       "       'text': 'Caltrate plus D',\n",
       "       'labels': ['Medicamento']},\n",
       "      'id': '87oGt9c6E5',\n",
       "      'from_name': 'label',\n",
       "      'to_name': 'text',\n",
       "      'type': 'labels',\n",
       "      'origin': 'manual'},\n",
       "     {'value': {'start': 6752,\n",
       "       'end': 6767,\n",
       "       'text': 'multivitamínico',\n",
       "       'labels': ['Medicamento']},\n",
       "      'id': 'WddJBH37-4',\n",
       "      'from_name': 'label',\n",
       "      'to_name': 'text',\n",
       "      'type': 'labels',\n",
       "      'origin': 'manual'},\n",
       "     {'value': {'start': 6812,\n",
       "       'end': 6819,\n",
       "       'text': 'Aranesp',\n",
       "       'labels': ['Medicamento']},\n",
       "      'id': 'KAXOLGX_om',\n",
       "      'from_name': 'label',\n",
       "      'to_name': 'text',\n",
       "      'type': 'labels',\n",
       "      'origin': 'manual'},\n",
       "     {'value': {'start': 6770,\n",
       "       'end': 6792,\n",
       "       'text': 'suplementação de ferro',\n",
       "       'labels': ['Medicamento']},\n",
       "      'id': 'L_yniT-3Cd',\n",
       "      'from_name': 'label',\n",
       "      'to_name': 'text',\n",
       "      'type': 'labels',\n",
       "      'origin': 'manual'},\n",
       "     {'value': {'start': 6858,\n",
       "       'end': 6867,\n",
       "       'text': 'sevelâmer',\n",
       "       'labels': ['Medicamento']},\n",
       "      'id': 'Bm8LcumZ-b',\n",
       "      'from_name': 'label',\n",
       "      'to_name': 'text',\n",
       "      'type': 'labels',\n",
       "      'origin': 'manual'},\n",
       "     {'value': {'start': 6939,\n",
       "       'end': 6959,\n",
       "       'text': 'mapeamento das veias',\n",
       "       'labels': ['Procedimento']},\n",
       "      'id': 'gEHQk15ECC',\n",
       "      'from_name': 'label',\n",
       "      'to_name': 'text',\n",
       "      'type': 'labels',\n",
       "      'origin': 'manual'},\n",
       "     {'value': {'start': 6992,\n",
       "       'end': 7029,\n",
       "       'text': 'transposição da veia basílica direita',\n",
       "       'labels': ['Procedimento']},\n",
       "      'id': 'ji6Y3TcozS',\n",
       "      'from_name': 'label',\n",
       "      'to_name': 'text',\n",
       "      'type': 'labels',\n",
       "      'origin': 'manual'},\n",
       "     {'value': {'start': 7152,\n",
       "       'end': 7160,\n",
       "       'text': 'cirurgia',\n",
       "       'labels': ['Procedimento']},\n",
       "      'id': '6DnWDLOZ64',\n",
       "      'from_name': 'label',\n",
       "      'to_name': 'text',\n",
       "      'type': 'labels',\n",
       "      'origin': 'manual'},\n",
       "     {'value': {'start': 7512,\n",
       "       'end': 7517,\n",
       "       'text': 'Lasix',\n",
       "       'labels': ['Medicamento']},\n",
       "      'id': 'U-7V_x5HgZ',\n",
       "      'from_name': 'label',\n",
       "      'to_name': 'text',\n",
       "      'type': 'labels',\n",
       "      'origin': 'manual'},\n",
       "     {'value': {'start': 7794,\n",
       "       'end': 7799,\n",
       "       'text': 'Lasix',\n",
       "       'labels': ['Medicamento']},\n",
       "      'id': 'QVP131v6iC',\n",
       "      'from_name': 'label',\n",
       "      'to_name': 'text',\n",
       "      'type': 'labels',\n",
       "      'origin': 'manual'},\n",
       "     {'value': {'start': 8597,\n",
       "       'end': 8607,\n",
       "       'text': 'marcapasso',\n",
       "       'labels': ['Procedimento']},\n",
       "      'id': 'uTCkzRb0Mp',\n",
       "      'from_name': 'label',\n",
       "      'to_name': 'text',\n",
       "      'type': 'labels',\n",
       "      'origin': 'manual'},\n",
       "     {'value': {'start': 8724,\n",
       "       'end': 8730,\n",
       "       'text': 'Lantus',\n",
       "       'labels': ['Medicamento']},\n",
       "      'id': 'TuyXaBhUzW',\n",
       "      'from_name': 'label',\n",
       "      'to_name': 'text',\n",
       "      'type': 'labels',\n",
       "      'origin': 'manual'},\n",
       "     {'value': {'start': 8749,\n",
       "       'end': 8756,\n",
       "       'text': 'asparto',\n",
       "       'labels': ['Medicamento']},\n",
       "      'id': '5GM00LGmmK',\n",
       "      'from_name': 'label',\n",
       "      'to_name': 'text',\n",
       "      'type': 'labels',\n",
       "      'origin': 'manual'},\n",
       "     {'value': {'start': 9020,\n",
       "       'end': 9028,\n",
       "       'text': 'insulina',\n",
       "       'labels': ['Medicamento']},\n",
       "      'id': 'vhv2dwzKgi',\n",
       "      'from_name': 'label',\n",
       "      'to_name': 'text',\n",
       "      'type': 'labels',\n",
       "      'origin': 'manual'},\n",
       "     {'value': {'start': 9075,\n",
       "       'end': 9112,\n",
       "       'text': 'artroplastia total de quadril direito',\n",
       "       'labels': ['Procedimento']},\n",
       "      'id': 'G5HD9xhAs3',\n",
       "      'from_name': 'label',\n",
       "      'to_name': 'text',\n",
       "      'type': 'labels',\n",
       "      'origin': 'manual'},\n",
       "     {'value': {'start': 9206,\n",
       "       'end': 9212,\n",
       "       'text': 'raio-X',\n",
       "       'labels': ['Procedimento']},\n",
       "      'id': 'sxWNFgcvTE',\n",
       "      'from_name': 'label',\n",
       "      'to_name': 'text',\n",
       "      'type': 'labels',\n",
       "      'origin': 'manual'},\n",
       "     {'value': {'start': 9446,\n",
       "       'end': 9468,\n",
       "       'text': 'cirurgia de fístula AV',\n",
       "       'labels': ['Procedimento']},\n",
       "      'id': 'ykOjh7_1Iq',\n",
       "      'from_name': 'label',\n",
       "      'to_name': 'text',\n",
       "      'type': 'labels',\n",
       "      'origin': 'manual'},\n",
       "     {'value': {'start': 10075,\n",
       "       'end': 10082,\n",
       "       'text': 'Norvasc',\n",
       "       'labels': ['Medicamento']},\n",
       "      'id': '07LOYJLCUb',\n",
       "      'from_name': 'label',\n",
       "      'to_name': 'text',\n",
       "      'type': 'labels',\n",
       "      'origin': 'manual'},\n",
       "     {'value': {'start': 10101,\n",
       "       'end': 10116,\n",
       "       'text': 'Caltrate plus D',\n",
       "       'labels': ['Medicamento']},\n",
       "      'id': 'Sz3sItkH1I',\n",
       "      'from_name': 'label',\n",
       "      'to_name': 'text',\n",
       "      'type': 'labels',\n",
       "      'origin': 'manual'},\n",
       "     {'value': {'start': 10159,\n",
       "       'end': 10166,\n",
       "       'text': 'Aranesp',\n",
       "       'labels': ['Medicamento']},\n",
       "      'id': 'eJQsYSxSNL',\n",
       "      'from_name': 'label',\n",
       "      'to_name': 'text',\n",
       "      'type': 'labels',\n",
       "      'origin': 'manual'},\n",
       "     {'value': {'start': 10199,\n",
       "       'end': 10206,\n",
       "       'text': 'Lovenox',\n",
       "       'labels': ['Medicamento']},\n",
       "      'id': 'ErkEAojjTS',\n",
       "      'from_name': 'label',\n",
       "      'to_name': 'text',\n",
       "      'type': 'labels',\n",
       "      'origin': 'manual'},\n",
       "     {'value': {'start': 10355,\n",
       "       'end': 10361,\n",
       "       'text': 'Nexium',\n",
       "       'labels': ['Medicamento']},\n",
       "      'id': 'WPbfHmEjrt',\n",
       "      'from_name': 'label',\n",
       "      'to_name': 'text',\n",
       "      'type': 'labels',\n",
       "      'origin': 'manual'},\n",
       "     {'value': {'start': 10396,\n",
       "       'end': 10411,\n",
       "       'text': 'sulfato ferroso',\n",
       "       'labels': ['Medicamento']},\n",
       "      'id': 'l0HHNQ387D',\n",
       "      'from_name': 'label',\n",
       "      'to_name': 'text',\n",
       "      'type': 'labels',\n",
       "      'origin': 'manual'},\n",
       "     {'value': {'start': 10447,\n",
       "       'end': 10452,\n",
       "       'text': 'Lasix',\n",
       "       'labels': ['Medicamento']},\n",
       "      'id': 'W4eQ7Ar_eX',\n",
       "      'from_name': 'label',\n",
       "      'to_name': 'text',\n",
       "      'type': 'labels',\n",
       "      'origin': 'manual'},\n",
       "     {'value': {'start': 10482,\n",
       "       'end': 10498,\n",
       "       'text': 'insulina asparto',\n",
       "       'labels': ['Medicamento']},\n",
       "      'id': 'BLdkRrzeGL',\n",
       "      'from_name': 'label',\n",
       "      'to_name': 'text',\n",
       "      'type': 'labels',\n",
       "      'origin': 'manual'},\n",
       "     {'value': {'start': 10539,\n",
       "       'end': 10554,\n",
       "       'text': 'insulina Lantus',\n",
       "       'labels': ['Medicamento']},\n",
       "      'id': '5Ka8uwsIr2',\n",
       "      'from_name': 'label',\n",
       "      'to_name': 'text',\n",
       "      'type': 'labels',\n",
       "      'origin': 'manual'},\n",
       "     {'value': {'start': 10596,\n",
       "       'end': 10601,\n",
       "       'text': 'Imdur',\n",
       "       'labels': ['Medicamento']},\n",
       "      'id': 'UDSAZN_uDm',\n",
       "      'from_name': 'label',\n",
       "      'to_name': 'text',\n",
       "      'type': 'labels',\n",
       "      'origin': 'manual'},\n",
       "     {'value': {'start': 10636,\n",
       "       'end': 10646,\n",
       "       'text': 'sevelâmero',\n",
       "       'labels': ['Medicamento']},\n",
       "      'id': 'VNaqfMPld2',\n",
       "      'from_name': 'label',\n",
       "      'to_name': 'text',\n",
       "      'type': 'labels',\n",
       "      'origin': 'manual'},\n",
       "     {'value': {'start': 10682,\n",
       "       'end': 10697,\n",
       "       'text': 'multivitamínico',\n",
       "       'labels': ['Medicamento']},\n",
       "      'id': 'vaAlOAMmy9',\n",
       "      'from_name': 'label',\n",
       "      'to_name': 'text',\n",
       "      'type': 'labels',\n",
       "      'origin': 'manual'},\n",
       "     {'value': {'start': 10764,\n",
       "       'end': 10772,\n",
       "       'text': 'Coumadin',\n",
       "       'labels': ['Medicamento']},\n",
       "      'id': 'kqHtlmzHjy',\n",
       "      'from_name': 'label',\n",
       "      'to_name': 'text',\n",
       "      'type': 'labels',\n",
       "      'origin': 'manual'},\n",
       "     {'value': {'start': 11013,\n",
       "       'end': 11030,\n",
       "       'text': 'cirurgia vascular',\n",
       "       'labels': ['Procedimento']},\n",
       "      'id': 'ixz2vKvaoU',\n",
       "      'from_name': 'label',\n",
       "      'to_name': 'text',\n",
       "      'type': 'labels',\n",
       "      'origin': 'manual'}],\n",
       "    'was_cancelled': False,\n",
       "    'ground_truth': False,\n",
       "    'created_at': '2023-08-28T12:29:40.668280Z',\n",
       "    'updated_at': '2023-08-28T12:29:40.668355Z',\n",
       "    'lead_time': 3.75,\n",
       "    'prediction': {},\n",
       "    'result_count': 0,\n",
       "    'task': 743,\n",
       "    'project': 22,\n",
       "    'parent_prediction': None,\n",
       "    'parent_annotation': None}],\n",
       "  'file_upload': 'b68e3d91-aula_06_cn_first_100_ner.json',\n",
       "  'drafts': [],\n",
       "  'predictions': [],\n",
       "  'data': {'text': 'Data de Alta: 6/20/2006 MÉDICO EM ATENDIMENTO: TRUKA, DEON XAVIER M.D. SERVIÇO: BH. DIAGNÓSTICO PRINCIPAL: Anemia e Sangramento Gastrointestinal. DIAGNÓSTICOS SECUNDÁRIOS: Diabetes, substituição da válvula mitral, fibrilação atrial e doença renal crônica. HISTÓRICO DA DOENÇA ATUAL: A paciente é uma mulher de 86 anos com histórico de diabetes, doença renal crônica, insuficiência cardíaca congestiva com fração de ejeção de 45% a 50%, que se apresenta com queixa principal de fadiga e fraqueza há uma semana. Ela apresentava piora da dor na virilha e no quadril direito, pós-artroplastia total do quadril há aproximadamente 13 anos, que piorou nas últimas duas semanas, e também recentemente completou um tratamento com Levaquin para infecção do trato urinário. Ela se apresentou ao consultório do Dr. Parent queixando-se de fadiga e fraqueza há uma semana. Ela teve algumas dores abdominais em uma distribuição semelhante a uma faixa ao redor do lado direito. Foi constatado que seu hematócrito estava em 21, abaixo dos 30 oito dias atrás, e ela foi encaminhada ao departamento de emergência para transfusão e avaliação da anemia. MEDICAÇÕES PRÉ-ADMISSÃO: Caltrate plus D um comprimido via oral duas vezes ao dia, Lantus 7 unidades subcutâneas todas as noites, NovoLog 4 unidades/4 unidades/5 unidades subcutâneas três vezes ao dia, Imdur 30 mg duas vezes ao dia, amlodipina 5 mg duas vezes ao dia, furosemida 80 mg diariamente, valsartan 120 mg diariamente, warfarina 4 mg diariamente, sulfato ferroso 325 mg via oral diariamente e multivitamínico diariamente. HISTÓRICO MÉDICO PRÉVIO: Doença renal crônica, presumivelmente devido a insuficiência cardíaca congestiva/diurese/doença da artéria renal/nefropatia diabética inicial; diabetes tipo 2; acidente vascular cerebral anterior; insuficiência cardíaca congestiva com fração de ejeção de 45% a 50%; doença valvar reumática com substituição da válvula mitral e reparo da válvula tricúspide; fibrilação atrial; histórico de obstrução do intestino delgado; pós-artroplastia total do quadril direito há aproximadamente 13 anos. HISTÓRICO FAMILIAR: Sem histórico familiar de doença renal ou doença cardíaca. HISTÓRICO SOCIAL: Ela tem 10 filhos, mora sozinha com serviço de cuidados em casa em ME, mas se mudou para morar com a filha em News Irv In. Ela nega uso de tabaco e raramente consome álcool. ALERGIAS: Codeína e Benadryl. EXAME FÍSICO DE ADMISSÃO: Sinais vitais: temperatura 96,7, frequência cardíaca 60, pressão arterial 153/74, frequência respiratória 22 e saturação de oxigênio 95% em ar ambiente. A paciente é uma mulher idosa frágil que não apresenta desconforto agudo. Ela tem dentição precária. A pressão venosa jugular é difícil de avaliar devido à regurgitação tricúspide. Os pulmões estavam limpos à ausculta bilateral. O exame cardiovascular mostrou bradicardia com frequência cardíaca na faixa dos 50 batimentos por minuto, irregularidade ao auscultar S1 e S2, e um sopro sistólico 3/6 ouvindo-se em todo o ciclo, com S2 de som mecânico. O abdômen estava levemente doloroso à palpação no epigástrio médio, sem dor à descompressão nem sinais de proteção. Os membros apresentavam alterações de estase venosa em suas extremidades inferiores bilateralmente. Os pés estavam frios com pulsos dorsais do pé e tibial posterior diminuídos. No exame neurológico, ela estava alerta e orientada em relação às três esferas de cognição e intacta nos nervos cranianos II a XII. ESTUDOS: O ECG mostrou fibrilação atrial com resposta ventricular lenta, frequência cardíaca de 53, QRS alargado, uma onda Q em aVL e ondas U nas derivações laterais. Raio-X de tórax mostrou efusões pleurais e edema pulmonar melhorados, cardiomegalia marcada estável. Raio-X do quadril direito mostrou: 1. Pós-artroplastia total do quadril direito com área de lise periprotética estável e remodelação cortical. 2. Artrose grave no quadril esquerdo. 3. Aterosclerose difusa. EGD em 24/10/06 mostrou hérnia hiatal, pólipos fundicais com patologia mostrando lesões hipoplásicas e inflamatórias; erosões antrais leves com patologia demonstrando regeneração leve, inespecífica, sem presença de H. pylori; e duodenite com patologia mostrando mucosa normal, mas sem sangramento ativo nem sinais de sangramento recente. Cápsula endoscópica em 5/7/06 mostrou úlcera gástrica em processo de cicatrização, provavelmente no antro, linfangiectasia intestinal e angiectasia no intestino delgado distal. Colonoscopia em 12/9/06 demonstrou divertículo cecal, pólipo sésil ascendente de aproximadamente 3 mm e vários pequenos pólipos sésseis no retossigmoide. PROCEDIMENTO: Transposição da veia basílica direita em 12/9/06 pelo Dr. Jacinto Goonez. EVOLUÇÃO HOSPITALAR POR PROBLEMA: 1. Sangramento gastrointestinal: No departamento de emergência, os sinais vitais da paciente eram temperatura 95,4, frequência cardíaca 62, frequência respiratória 16, pressão arterial 127/66 com saturação de oxigênio a 98% em ar ambiente. Foi constatado que ela estava com fezes positivas para sangue oculto e a equipe de gastroenterologia foi consultada. Ela foi iniciada com Nexium 20 mg via intravenosa duas vezes ao dia e recebeu vitamina K 10 mg subcutânea e duas unidades de plasma fresco congelado, além disso, foram transfundidas três unidades de concentrado de hemácias, com administração de Lasix 120 mg IV para cada bolsa. Vale ressaltar que a paciente realizou uma colonoscopia em Wa em 26/8/05, que mostrou úlceras retais com sangramento, com biópsias consistentes com colite isquêmica. Uma EGD em 24/10/06 mostrou hérnia hiatal; pólipos fundicais (patologia: hipoplásicos/inflamatórios); erosões antrais leves (patologia: regeneração leve, inespecífica, sem H. pylori); duodenite (patologia: mucosa normal), mas sem sangramento ativo nem sinais de sangramento recente. A cápsula endoscópica em 5/7/06 mostrou úlcera gástrica em processo de cicatrização, provavelmente no antro, linfangiectasia intestinal e angiectasia no intestino delgado distal, que foram consideradas as fontes prováveis do sangramento. A colonoscopia realizada em 12/9/06 para procurar angiectasias passíveis de intervenção mostrou apenas um divertículo cecal, um pólipo sésil ascendente de aproximadamente 3 mm e vários pequenos pólipos sésseis no retossigmoide. A paciente começou a usar Aranesp, mas teve uma queda de cinco pontos no hematócrito, de 32 para 27, em 12/9/06, e precisou de mais duas unidades de sangue, juntamente com Lasix. O hematócrito da paciente permaneceu estável em cerca de 30 a 32, e ela será reiniciada na anticoagulação na quinta-feira, 10/12/06, uma semana após a cirurgia de fístula AV. 2. Renal: A paciente possui doença renal crônica e está sendo considerada para possível hemodiálise no futuro. Ela continuou usando Caltrate plus D, multivitamínico e suplementação de ferro, e começou a tomar Aranesp 25 mcg semanalmente e foi submetida a sevelâmer 400 mg três vezes ao dia para níveis elevados de fosfato. Um estudo de mapeamento das veias foi realizado em 25/7/06, e uma transposição da veia basílica direita foi realizada em 12/9/06 pelo Dr. Landrie. A paciente apresentou resfriamento da mão direita, dormência e fraqueza após a cirurgia (sempre com pulso radial dopplerável), devido a roubo de fluxo versus neurapraxia, o que melhorou até a alta. Ela fará acompanhamento com o Dr. Chanthasene como paciente ambulatorial. O creatinina da paciente estava em 3,3 na admissão, melhorou para 2,0 até 12/9/06, dia de sua cirurgia, e aumentou novamente para 3,2 em 1/10/06. Ela recebeu bolus de Lasix intravenoso, pois apresentava sinais de sobrecarga de volume com ganho de peso acima de oito libras durante sua hospitalização, e a creatinina melhorou para 2,7 até o dia da alta. 3. Cardiovascular: Bomba: A fração de ejeção da paciente é de 45% a 50% e ela recebeu 120 mg de Lasix IV para cada unidade de concentrado de hemácias que recebeu, além de 120 mg oralmente por dia, com bolus intravenoso de 180 mg conforme necessário para sobrecarga de volume, conforme julgado pelo aumento de peso. Os medicamentos anti-hipertensivos foram inicialmente suspensos devido ao sangramento gastrointestinal e reiniciados em 24/10/06, com pressões sistólicas se mantendo na faixa dos 120s a 130s. Ritmo: A paciente tem fibrilação atrial com resposta ventricular lenta, com frequências cardíacas chegando a menos de 40 batimentos por minuto. Às vezes, sua frequência cardíaca parecia regular e foi considerada um ritmo de escape juncional. Ela permaneceu assintomática durante toda a sua hospitalização. Ela foi discutida com seu cardiologista, Dr. Fritz, que considerará a colocação de um marcapasso como paciente ambulatorial. 4. Endócrino: Ela está em eutiroidismo com TSH de 2,422. Para seu diabetes, ela recebia Lantus todas as noites e asparto antes das refeições e insulina regular conforme necessário com base em uma escala deslizante. As medições de glicemia capilar estavam elevadas para valores acima de 300 no início desta internação, mas melhoraram para valores em torno de 100 ao aumentar a dose de insulina. 5. Musculoesquelético: A paciente possui uma artroplastia total de quadril direito realizada aproximadamente 13 anos atrás e reclamou de dor no quadril direito na admissão. Um raio-X mostrou ausência de alterações significativas no implante e a dor melhorou na manhã de 24/10/06. Ela fará acompanhamento com o médico fisiatra, Dr. Allan Kofoed. COMPLICAÇÕES: Fraqueza, dormência e resfriamento da mão direita após a cirurgia de fístula AV, possivelmente devido a roubo de fluxo ou neurapraxia, melhoraram significativamente até a alta. CONSULTORES: Dr. Garfield Kiehne, cirurgia vascular, Dr. Ambrose Moldrem, gastroenterologia. EXAME FÍSICO NA ALTA: Sinais vitais estáveis. Estertores bibasais nos pulmões. Sopro sistólico 3/6 ouvido em todo o ciclo, além de um S2 mecânico. Abdômen benigno. Extremidades inferiores com alterações crônicas de estase venosa. Fístula AV no membro superior direito com pulso positivo. Pulso radial direito diminuído com mão distal aquecida e força de preensão manual no membro direito de 4/5. MEDICAÇÕES NA ALTA: Norvasc 5 mg diariamente, Caltrate plus D um comprimido via oral duas vezes ao dia, Aranesp 25 mcg subcutâneo semanalmente, Lovenox 50 mg subcutâneo diariamente a partir de quinta-feira, 10/12/06 (a ser descontinuado quando o INR da paciente estiver terapêutico com a varfarina), Nexium 40 mg via oral duas vezes ao dia, sulfato ferroso 325 mg via oral duas vezes ao dia, Lasix 160 mg via oral diariamente, insulina asparto 5 unidades subcutâneas a cada refeição, insulina Lantus 15 unidades subcutâneas todas as noites, Imdur 30 mg via oral duas vezes ao dia, sevelâmero 400 mg via oral três vezes ao dia, multivitamínico um comprimido diariamente, valsartan 120 mg via oral diariamente, Coumadin 4 mg via oral todas as noites a partir de quinta-feira, 10/12/06. DESTINO: Retorno para casa com serviços. CONSULTAS DE ACOMPANHAMENTO: A paciente fará acompanhamento com o Dr. Brendan B Tordsen em uma ou duas semanas, com o Dr. Schaetzle, cirurgia vascular, em 5/5/06 às 8h30, com o Dr. Salvatore Sherrod, fisiatra, em 29/11/06 às 10h, e com o Dr. Margarito Nolting em 9/7/07 às 11h45. STATUS DE EMERGÊNCIA: A paciente é de ressuscitação total, e seu procurador de saúde é sua filha, Shane Lutao. MÉDICO DE ATENÇÃO PRIMÁRIA: Rufus Mannheimer, MD. Documento de eScription: 6-5214206 CSSten Tel Ditado por: BEIER, JULIO Médico presente: HAMBRIC, MARGARITO KURT ID da Ditado 1739778 D: 15/10/06',\n",
       "   'meta_info': {'uid': 0, 'Asthma': 0, 'CAD': 1}},\n",
       "  'meta': {},\n",
       "  'created_at': '2023-08-28T12:09:38.578951Z',\n",
       "  'updated_at': '2023-08-28T12:29:40.799041Z',\n",
       "  'inner_id': 1,\n",
       "  'total_annotations': 1,\n",
       "  'cancelled_annotations': 0,\n",
       "  'total_predictions': 0,\n",
       "  'comment_count': 0,\n",
       "  'unresolved_comment_count': 0,\n",
       "  'last_comment_updated_at': None,\n",
       "  'project': 22,\n",
       "  'updated_by': 1,\n",
       "  'comment_authors': []}]"
      ]
     },
     "execution_count": 22,
     "metadata": {},
     "output_type": "execute_result"
    }
   ],
   "source": [
    "# reading back a json exported from labelstudio\n",
    "\n",
    "# Open the JSON file exported from Label Studio in read mode\n",
    "with open('outputs/cn_first_100_ner_fromlabelstudio.json', 'r') as file:\n",
    "    # Load the JSON data from the file into the variable 'tmp_data'\n",
    "    tmp_data = json.load(file)\n",
    "\n",
    "# Display the loaded JSON data\n",
    "tmp_data\n"
   ]
  },
  {
   "cell_type": "code",
   "execution_count": 23,
   "metadata": {},
   "outputs": [
    {
     "data": {
      "text/plain": [
       "[(182, 212, 'Procedimento'),\n",
       " (576, 605, 'Procedimento'),\n",
       " (721, 729, 'Medicamento'),\n",
       " (1099, 1109, 'Procedimento'),\n",
       " (1158, 1173, 'Medicamento'),\n",
       " (1216, 1222, 'Medicamento'),\n",
       " (1263, 1270, 'Medicamento'),\n",
       " (1335, 1340, 'Medicamento'),\n",
       " (1366, 1376, 'Medicamento'),\n",
       " (1401, 1411, 'Medicamento'),\n",
       " (1431, 1440, 'Medicamento'),\n",
       " (1461, 1470, 'Medicamento'),\n",
       " (1489, 1504, 'Medicamento'),\n",
       " (1535, 1550, 'Medicamento'),\n",
       " (2014, 2051, 'Procedimento'),\n",
       " (2361, 2368, 'Medicamento'),\n",
       " (2371, 2379, 'Medicamento'),\n",
       " (2913, 2922, 'Procedimento'),\n",
       " (2769, 2787, 'Procedimento'),\n",
       " (2791, 2811, 'Procedimento'),\n",
       " (3047, 3055, 'Procedimento'),\n",
       " (3305, 3322, 'Procedimento'),\n",
       " (3445, 3448, 'Procedimento'),\n",
       " (3601, 3616, 'Procedimento'),\n",
       " (3702, 3727, 'Procedimento'),\n",
       " (3744, 3781, 'Procedimento'),\n",
       " (3969, 3978, 'Procedimento'),\n",
       " (3908, 3911, 'Procedimento'),\n",
       " (4052, 4061, 'Procedimento'),\n",
       " (4150, 4159, 'Procedimento'),\n",
       " (4246, 4265, 'Procedimento'),\n",
       " (4423, 4435, 'Procedimento'),\n",
       " (4591, 4628, 'Procedimento'),\n",
       " (5077, 5083, 'Medicamento'),\n",
       " (5134, 5144, 'Medicamento'),\n",
       " (5301, 5306, 'Medicamento'),\n",
       " (5377, 5389, 'Procedimento'),\n",
       " (5456, 5464, 'Procedimento'),\n",
       " (5504, 5507, 'Procedimento'),\n",
       " (5785, 5804, 'Procedimento'),\n",
       " (6023, 6035, 'Procedimento'),\n",
       " (6275, 6282, 'Medicamento'),\n",
       " (6421, 6426, 'Medicamento'),\n",
       " (6579, 6598, 'Procedimento'),\n",
       " (6691, 6702, 'Procedimento'),\n",
       " (6735, 6750, 'Medicamento'),\n",
       " (6752, 6767, 'Medicamento'),\n",
       " (6812, 6819, 'Medicamento'),\n",
       " (6770, 6792, 'Medicamento'),\n",
       " (6858, 6867, 'Medicamento'),\n",
       " (6939, 6959, 'Procedimento'),\n",
       " (6992, 7029, 'Procedimento'),\n",
       " (7152, 7160, 'Procedimento'),\n",
       " (7512, 7517, 'Medicamento'),\n",
       " (7794, 7799, 'Medicamento'),\n",
       " (8597, 8607, 'Procedimento'),\n",
       " (8724, 8730, 'Medicamento'),\n",
       " (8749, 8756, 'Medicamento'),\n",
       " (9020, 9028, 'Medicamento'),\n",
       " (9075, 9112, 'Procedimento'),\n",
       " (9206, 9212, 'Procedimento'),\n",
       " (9446, 9468, 'Procedimento'),\n",
       " (10075, 10082, 'Medicamento'),\n",
       " (10101, 10116, 'Medicamento'),\n",
       " (10159, 10166, 'Medicamento'),\n",
       " (10199, 10206, 'Medicamento'),\n",
       " (10355, 10361, 'Medicamento'),\n",
       " (10396, 10411, 'Medicamento'),\n",
       " (10447, 10452, 'Medicamento'),\n",
       " (10482, 10498, 'Medicamento'),\n",
       " (10539, 10554, 'Medicamento'),\n",
       " (10596, 10601, 'Medicamento'),\n",
       " (10636, 10646, 'Medicamento'),\n",
       " (10682, 10697, 'Medicamento'),\n",
       " (10764, 10772, 'Medicamento'),\n",
       " (11013, 11030, 'Procedimento')]"
      ]
     },
     "execution_count": 23,
     "metadata": {},
     "output_type": "execute_result"
    }
   ],
   "source": [
    "# Extract the first item from the loaded JSON data\n",
    "item = tmp_data[0]\n",
    "\n",
    "# Extract the text data from the 'data' field of the item\n",
    "txt = item['data']['text']\n",
    "\n",
    "# Extract the first annotation dictionary from the 'annotations' field\n",
    "annotation_dict = item['annotations'][0]\n",
    "\n",
    "# Initialize an empty list to store entity spans\n",
    "entities_span = []\n",
    "\n",
    "# Iterate over each annotation result in the annotation dictionary\n",
    "for annotation in annotation_dict['result']:\n",
    "    # Append a tuple containing the start, end, and label of the entity to 'entities_span'\n",
    "    entities_span.append((annotation['value']['start'], annotation['value']['end'], annotation['value']['labels'][0]))\n",
    "\n",
    "# Display the list of entity spans\n",
    "entities_span"
   ]
  },
  {
   "cell_type": "code",
   "execution_count": 24,
   "metadata": {},
   "outputs": [
    {
     "data": {
      "text/html": [
       "<span class=\"tex2jax_ignore\"><div class=\"entities\" style=\"line-height: 2.5; direction: ltr\">Data de Alta: 6/20/2006 MÉDICO EM ATENDIMENTO: TRUKA, DEON XAVIER M.D. SERVIÇO: BH. DIAGNÓSTICO PRINCIPAL: Anemia e Sangramento Gastrointestinal. DIAGNÓSTICOS SECUNDÁRIOS: Diabetes, \n",
       "<mark class=\"entity\" style=\"background: #3498DB; padding: 0.45em 0.6em; margin: 0 0.25em; line-height: 1; border-radius: 0.35em;\">\n",
       "    substituição da válvula mitral\n",
       "    <span style=\"font-size: 0.8em; font-weight: bold; line-height: 1; border-radius: 0.35em; vertical-align: middle; margin-left: 0.5rem\">Procedimento</span>\n",
       "</mark>\n",
       ", fibrilação atrial e doença renal crônica. HISTÓRICO DA DOENÇA ATUAL: A paciente é uma mulher de 86 anos com histórico de diabetes, doença renal crônica, insuficiência cardíaca congestiva com fração de ejeção de 45% a 50%, que se apresenta com queixa principal de fadiga e fraqueza há uma semana. Ela apresentava piora da dor na virilha e no quadril direito, pós-\n",
       "<mark class=\"entity\" style=\"background: #3498DB; padding: 0.45em 0.6em; margin: 0 0.25em; line-height: 1; border-radius: 0.35em;\">\n",
       "    artroplastia total do quadril\n",
       "    <span style=\"font-size: 0.8em; font-weight: bold; line-height: 1; border-radius: 0.35em; vertical-align: middle; margin-left: 0.5rem\">Procedimento</span>\n",
       "</mark>\n",
       " há aproximadamente 13 anos, que piorou nas últimas duas semanas, e também recentemente completou um tratamento com \n",
       "<mark class=\"entity\" style=\"background: #2ECC71; padding: 0.45em 0.6em; margin: 0 0.25em; line-height: 1; border-radius: 0.35em;\">\n",
       "    Levaquin\n",
       "    <span style=\"font-size: 0.8em; font-weight: bold; line-height: 1; border-radius: 0.35em; vertical-align: middle; margin-left: 0.5rem\">Medicamento</span>\n",
       "</mark>\n",
       " para infecção do trato urinário. Ela se apresentou ao consultório do Dr. Parent queixando-se de fadiga e fraqueza há uma semana. Ela teve algumas dores abdominais em uma distribuição semelhante a uma faixa ao redor do lado direito. Foi constatado que seu hematócrito estava em 21, abaixo dos 30 oito dias atrás, e ela foi encaminhada ao departamento de emergência para \n",
       "<mark class=\"entity\" style=\"background: #3498DB; padding: 0.45em 0.6em; margin: 0 0.25em; line-height: 1; border-radius: 0.35em;\">\n",
       "    transfusão\n",
       "    <span style=\"font-size: 0.8em; font-weight: bold; line-height: 1; border-radius: 0.35em; vertical-align: middle; margin-left: 0.5rem\">Procedimento</span>\n",
       "</mark>\n",
       " e avaliação da anemia. MEDICAÇÕES PRÉ-ADMISSÃO: \n",
       "<mark class=\"entity\" style=\"background: #2ECC71; padding: 0.45em 0.6em; margin: 0 0.25em; line-height: 1; border-radius: 0.35em;\">\n",
       "    Caltrate plus D\n",
       "    <span style=\"font-size: 0.8em; font-weight: bold; line-height: 1; border-radius: 0.35em; vertical-align: middle; margin-left: 0.5rem\">Medicamento</span>\n",
       "</mark>\n",
       " um comprimido via oral duas vezes ao dia, \n",
       "<mark class=\"entity\" style=\"background: #2ECC71; padding: 0.45em 0.6em; margin: 0 0.25em; line-height: 1; border-radius: 0.35em;\">\n",
       "    Lantus\n",
       "    <span style=\"font-size: 0.8em; font-weight: bold; line-height: 1; border-radius: 0.35em; vertical-align: middle; margin-left: 0.5rem\">Medicamento</span>\n",
       "</mark>\n",
       " 7 unidades subcutâneas todas as noites, \n",
       "<mark class=\"entity\" style=\"background: #2ECC71; padding: 0.45em 0.6em; margin: 0 0.25em; line-height: 1; border-radius: 0.35em;\">\n",
       "    NovoLog\n",
       "    <span style=\"font-size: 0.8em; font-weight: bold; line-height: 1; border-radius: 0.35em; vertical-align: middle; margin-left: 0.5rem\">Medicamento</span>\n",
       "</mark>\n",
       " 4 unidades/4 unidades/5 unidades subcutâneas três vezes ao dia, \n",
       "<mark class=\"entity\" style=\"background: #2ECC71; padding: 0.45em 0.6em; margin: 0 0.25em; line-height: 1; border-radius: 0.35em;\">\n",
       "    Imdur\n",
       "    <span style=\"font-size: 0.8em; font-weight: bold; line-height: 1; border-radius: 0.35em; vertical-align: middle; margin-left: 0.5rem\">Medicamento</span>\n",
       "</mark>\n",
       " 30 mg duas vezes ao dia, \n",
       "<mark class=\"entity\" style=\"background: #2ECC71; padding: 0.45em 0.6em; margin: 0 0.25em; line-height: 1; border-radius: 0.35em;\">\n",
       "    amlodipina\n",
       "    <span style=\"font-size: 0.8em; font-weight: bold; line-height: 1; border-radius: 0.35em; vertical-align: middle; margin-left: 0.5rem\">Medicamento</span>\n",
       "</mark>\n",
       " 5 mg duas vezes ao dia, \n",
       "<mark class=\"entity\" style=\"background: #2ECC71; padding: 0.45em 0.6em; margin: 0 0.25em; line-height: 1; border-radius: 0.35em;\">\n",
       "    furosemida\n",
       "    <span style=\"font-size: 0.8em; font-weight: bold; line-height: 1; border-radius: 0.35em; vertical-align: middle; margin-left: 0.5rem\">Medicamento</span>\n",
       "</mark>\n",
       " 80 mg diariamente, \n",
       "<mark class=\"entity\" style=\"background: #2ECC71; padding: 0.45em 0.6em; margin: 0 0.25em; line-height: 1; border-radius: 0.35em;\">\n",
       "    valsartan\n",
       "    <span style=\"font-size: 0.8em; font-weight: bold; line-height: 1; border-radius: 0.35em; vertical-align: middle; margin-left: 0.5rem\">Medicamento</span>\n",
       "</mark>\n",
       " 120 mg diariamente, \n",
       "<mark class=\"entity\" style=\"background: #2ECC71; padding: 0.45em 0.6em; margin: 0 0.25em; line-height: 1; border-radius: 0.35em;\">\n",
       "    warfarina\n",
       "    <span style=\"font-size: 0.8em; font-weight: bold; line-height: 1; border-radius: 0.35em; vertical-align: middle; margin-left: 0.5rem\">Medicamento</span>\n",
       "</mark>\n",
       " 4 mg diariamente, \n",
       "<mark class=\"entity\" style=\"background: #2ECC71; padding: 0.45em 0.6em; margin: 0 0.25em; line-height: 1; border-radius: 0.35em;\">\n",
       "    sulfato ferroso\n",
       "    <span style=\"font-size: 0.8em; font-weight: bold; line-height: 1; border-radius: 0.35em; vertical-align: middle; margin-left: 0.5rem\">Medicamento</span>\n",
       "</mark>\n",
       " 325 mg via oral diariamente e \n",
       "<mark class=\"entity\" style=\"background: #2ECC71; padding: 0.45em 0.6em; margin: 0 0.25em; line-height: 1; border-radius: 0.35em;\">\n",
       "    multivitamínico\n",
       "    <span style=\"font-size: 0.8em; font-weight: bold; line-height: 1; border-radius: 0.35em; vertical-align: middle; margin-left: 0.5rem\">Medicamento</span>\n",
       "</mark>\n",
       " diariamente. HISTÓRICO MÉDICO PRÉVIO: Doença renal crônica, presumivelmente devido a insuficiência cardíaca congestiva/diurese/doença da artéria renal/nefropatia diabética inicial; diabetes tipo 2; acidente vascular cerebral anterior; insuficiência cardíaca congestiva com fração de ejeção de 45% a 50%; doença valvar reumática com substituição da válvula mitral e reparo da válvula tricúspide; fibrilação atrial; histórico de obstrução do intestino delgado; pós-\n",
       "<mark class=\"entity\" style=\"background: #3498DB; padding: 0.45em 0.6em; margin: 0 0.25em; line-height: 1; border-radius: 0.35em;\">\n",
       "    artroplastia total do quadril direito\n",
       "    <span style=\"font-size: 0.8em; font-weight: bold; line-height: 1; border-radius: 0.35em; vertical-align: middle; margin-left: 0.5rem\">Procedimento</span>\n",
       "</mark>\n",
       " há aproximadamente 13 anos. HISTÓRICO FAMILIAR: Sem histórico familiar de doença renal ou doença cardíaca. HISTÓRICO SOCIAL: Ela tem 10 filhos, mora sozinha com serviço de cuidados em casa em ME, mas se mudou para morar com a filha em News Irv In. Ela nega uso de tabaco e raramente consome álcool. ALERGIAS: \n",
       "<mark class=\"entity\" style=\"background: #2ECC71; padding: 0.45em 0.6em; margin: 0 0.25em; line-height: 1; border-radius: 0.35em;\">\n",
       "    Codeína\n",
       "    <span style=\"font-size: 0.8em; font-weight: bold; line-height: 1; border-radius: 0.35em; vertical-align: middle; margin-left: 0.5rem\">Medicamento</span>\n",
       "</mark>\n",
       " e \n",
       "<mark class=\"entity\" style=\"background: #2ECC71; padding: 0.45em 0.6em; margin: 0 0.25em; line-height: 1; border-radius: 0.35em;\">\n",
       "    Benadryl\n",
       "    <span style=\"font-size: 0.8em; font-weight: bold; line-height: 1; border-radius: 0.35em; vertical-align: middle; margin-left: 0.5rem\">Medicamento</span>\n",
       "</mark>\n",
       ". EXAME FÍSICO DE ADMISSÃO: Sinais vitais: temperatura 96,7, frequência cardíaca 60, pressão arterial 153/74, frequência respiratória 22 e saturação de oxigênio 95% em ar ambiente. A paciente é uma mulher idosa frágil que não apresenta desconforto agudo. Ela tem dentição precária. A pressão venosa jugular é difícil de avaliar devido à regurgitação tricúspide. Os pulmões estavam limpos à \n",
       "<mark class=\"entity\" style=\"background: #3498DB; padding: 0.45em 0.6em; margin: 0 0.25em; line-height: 1; border-radius: 0.35em;\">\n",
       "    ausculta bilateral\n",
       "    <span style=\"font-size: 0.8em; font-weight: bold; line-height: 1; border-radius: 0.35em; vertical-align: middle; margin-left: 0.5rem\">Procedimento</span>\n",
       "</mark>\n",
       ". O \n",
       "<mark class=\"entity\" style=\"background: #3498DB; padding: 0.45em 0.6em; margin: 0 0.25em; line-height: 1; border-radius: 0.35em;\">\n",
       "    exame cardiovascular\n",
       "    <span style=\"font-size: 0.8em; font-weight: bold; line-height: 1; border-radius: 0.35em; vertical-align: middle; margin-left: 0.5rem\">Procedimento</span>\n",
       "</mark>\n",
       " mostrou bradicardia com frequência cardíaca na faixa dos 50 batimentos por minuto, irregularidade ao \n",
       "<mark class=\"entity\" style=\"background: #3498DB; padding: 0.45em 0.6em; margin: 0 0.25em; line-height: 1; border-radius: 0.35em;\">\n",
       "    auscultar\n",
       "    <span style=\"font-size: 0.8em; font-weight: bold; line-height: 1; border-radius: 0.35em; vertical-align: middle; margin-left: 0.5rem\">Procedimento</span>\n",
       "</mark>\n",
       " S1 e S2, e um sopro sistólico 3/6 ouvindo-se em todo o ciclo, com S2 de som mecânico. O abdômen estava levemente doloroso à \n",
       "<mark class=\"entity\" style=\"background: #3498DB; padding: 0.45em 0.6em; margin: 0 0.25em; line-height: 1; border-radius: 0.35em;\">\n",
       "    palpação\n",
       "    <span style=\"font-size: 0.8em; font-weight: bold; line-height: 1; border-radius: 0.35em; vertical-align: middle; margin-left: 0.5rem\">Procedimento</span>\n",
       "</mark>\n",
       " no epigástrio médio, sem dor à descompressão nem sinais de proteção. Os membros apresentavam alterações de estase venosa em suas extremidades inferiores bilateralmente. Os pés estavam frios com pulsos dorsais do pé e tibial posterior diminuídos. No \n",
       "<mark class=\"entity\" style=\"background: #3498DB; padding: 0.45em 0.6em; margin: 0 0.25em; line-height: 1; border-radius: 0.35em;\">\n",
       "    exame neurológico\n",
       "    <span style=\"font-size: 0.8em; font-weight: bold; line-height: 1; border-radius: 0.35em; vertical-align: middle; margin-left: 0.5rem\">Procedimento</span>\n",
       "</mark>\n",
       ", ela estava alerta e orientada em relação às três esferas de cognição e intacta nos nervos cranianos II a XII. ESTUDOS: O \n",
       "<mark class=\"entity\" style=\"background: #3498DB; padding: 0.45em 0.6em; margin: 0 0.25em; line-height: 1; border-radius: 0.35em;\">\n",
       "    ECG\n",
       "    <span style=\"font-size: 0.8em; font-weight: bold; line-height: 1; border-radius: 0.35em; vertical-align: middle; margin-left: 0.5rem\">Procedimento</span>\n",
       "</mark>\n",
       " mostrou fibrilação atrial com resposta ventricular lenta, frequência cardíaca de 53, QRS alargado, uma onda Q em aVL e ondas U nas derivações laterais. \n",
       "<mark class=\"entity\" style=\"background: #3498DB; padding: 0.45em 0.6em; margin: 0 0.25em; line-height: 1; border-radius: 0.35em;\">\n",
       "    Raio-X de tórax\n",
       "    <span style=\"font-size: 0.8em; font-weight: bold; line-height: 1; border-radius: 0.35em; vertical-align: middle; margin-left: 0.5rem\">Procedimento</span>\n",
       "</mark>\n",
       " mostrou efusões pleurais e edema pulmonar melhorados, cardiomegalia marcada estável. \n",
       "<mark class=\"entity\" style=\"background: #3498DB; padding: 0.45em 0.6em; margin: 0 0.25em; line-height: 1; border-radius: 0.35em;\">\n",
       "    Raio-X do quadril direito\n",
       "    <span style=\"font-size: 0.8em; font-weight: bold; line-height: 1; border-radius: 0.35em; vertical-align: middle; margin-left: 0.5rem\">Procedimento</span>\n",
       "</mark>\n",
       " mostrou: 1. Pós-\n",
       "<mark class=\"entity\" style=\"background: #3498DB; padding: 0.45em 0.6em; margin: 0 0.25em; line-height: 1; border-radius: 0.35em;\">\n",
       "    artroplastia total do quadril direito\n",
       "    <span style=\"font-size: 0.8em; font-weight: bold; line-height: 1; border-radius: 0.35em; vertical-align: middle; margin-left: 0.5rem\">Procedimento</span>\n",
       "</mark>\n",
       " com área de lise periprotética estável e remodelação cortical. 2. Artrose grave no quadril esquerdo. 3. Aterosclerose difusa. \n",
       "<mark class=\"entity\" style=\"background: #3498DB; padding: 0.45em 0.6em; margin: 0 0.25em; line-height: 1; border-radius: 0.35em;\">\n",
       "    EGD\n",
       "    <span style=\"font-size: 0.8em; font-weight: bold; line-height: 1; border-radius: 0.35em; vertical-align: middle; margin-left: 0.5rem\">Procedimento</span>\n",
       "</mark>\n",
       " em 24/10/06 mostrou hérnia hiatal, pólipos fundicais com \n",
       "<mark class=\"entity\" style=\"background: #3498DB; padding: 0.45em 0.6em; margin: 0 0.25em; line-height: 1; border-radius: 0.35em;\">\n",
       "    patologia\n",
       "    <span style=\"font-size: 0.8em; font-weight: bold; line-height: 1; border-radius: 0.35em; vertical-align: middle; margin-left: 0.5rem\">Procedimento</span>\n",
       "</mark>\n",
       " mostrando lesões hipoplásicas e inflamatórias; erosões antrais leves com \n",
       "<mark class=\"entity\" style=\"background: #3498DB; padding: 0.45em 0.6em; margin: 0 0.25em; line-height: 1; border-radius: 0.35em;\">\n",
       "    patologia\n",
       "    <span style=\"font-size: 0.8em; font-weight: bold; line-height: 1; border-radius: 0.35em; vertical-align: middle; margin-left: 0.5rem\">Procedimento</span>\n",
       "</mark>\n",
       " demonstrando regeneração leve, inespecífica, sem presença de H. pylori; e duodenite com \n",
       "<mark class=\"entity\" style=\"background: #3498DB; padding: 0.45em 0.6em; margin: 0 0.25em; line-height: 1; border-radius: 0.35em;\">\n",
       "    patologia\n",
       "    <span style=\"font-size: 0.8em; font-weight: bold; line-height: 1; border-radius: 0.35em; vertical-align: middle; margin-left: 0.5rem\">Procedimento</span>\n",
       "</mark>\n",
       " mostrando mucosa normal, mas sem sangramento ativo nem sinais de sangramento recente. \n",
       "<mark class=\"entity\" style=\"background: #3498DB; padding: 0.45em 0.6em; margin: 0 0.25em; line-height: 1; border-radius: 0.35em;\">\n",
       "    Cápsula endoscópica\n",
       "    <span style=\"font-size: 0.8em; font-weight: bold; line-height: 1; border-radius: 0.35em; vertical-align: middle; margin-left: 0.5rem\">Procedimento</span>\n",
       "</mark>\n",
       " em 5/7/06 mostrou úlcera gástrica em processo de cicatrização, provavelmente no antro, linfangiectasia intestinal e angiectasia no intestino delgado distal. \n",
       "<mark class=\"entity\" style=\"background: #3498DB; padding: 0.45em 0.6em; margin: 0 0.25em; line-height: 1; border-radius: 0.35em;\">\n",
       "    Colonoscopia\n",
       "    <span style=\"font-size: 0.8em; font-weight: bold; line-height: 1; border-radius: 0.35em; vertical-align: middle; margin-left: 0.5rem\">Procedimento</span>\n",
       "</mark>\n",
       " em 12/9/06 demonstrou divertículo cecal, pólipo sésil ascendente de aproximadamente 3 mm e vários pequenos pólipos sésseis no retossigmoide. PROCEDIMENTO: \n",
       "<mark class=\"entity\" style=\"background: #3498DB; padding: 0.45em 0.6em; margin: 0 0.25em; line-height: 1; border-radius: 0.35em;\">\n",
       "    Transposição da veia basílica direita\n",
       "    <span style=\"font-size: 0.8em; font-weight: bold; line-height: 1; border-radius: 0.35em; vertical-align: middle; margin-left: 0.5rem\">Procedimento</span>\n",
       "</mark>\n",
       " em 12/9/06 pelo Dr. Jacinto Goonez. EVOLUÇÃO HOSPITALAR POR PROBLEMA: 1. Sangramento gastrointestinal: No departamento de emergência, os sinais vitais da paciente eram temperatura 95,4, frequência cardíaca 62, frequência respiratória 16, pressão arterial 127/66 com saturação de oxigênio a 98% em ar ambiente. Foi constatado que ela estava com fezes positivas para sangue oculto e a equipe de gastroenterologia foi consultada. Ela foi iniciada com \n",
       "<mark class=\"entity\" style=\"background: #2ECC71; padding: 0.45em 0.6em; margin: 0 0.25em; line-height: 1; border-radius: 0.35em;\">\n",
       "    Nexium\n",
       "    <span style=\"font-size: 0.8em; font-weight: bold; line-height: 1; border-radius: 0.35em; vertical-align: middle; margin-left: 0.5rem\">Medicamento</span>\n",
       "</mark>\n",
       " 20 mg via intravenosa duas vezes ao dia e recebeu \n",
       "<mark class=\"entity\" style=\"background: #2ECC71; padding: 0.45em 0.6em; margin: 0 0.25em; line-height: 1; border-radius: 0.35em;\">\n",
       "    vitamina K\n",
       "    <span style=\"font-size: 0.8em; font-weight: bold; line-height: 1; border-radius: 0.35em; vertical-align: middle; margin-left: 0.5rem\">Medicamento</span>\n",
       "</mark>\n",
       " 10 mg subcutânea e duas unidades de plasma fresco congelado, além disso, foram transfundidas três unidades de concentrado de hemácias, com administração de \n",
       "<mark class=\"entity\" style=\"background: #2ECC71; padding: 0.45em 0.6em; margin: 0 0.25em; line-height: 1; border-radius: 0.35em;\">\n",
       "    Lasix\n",
       "    <span style=\"font-size: 0.8em; font-weight: bold; line-height: 1; border-radius: 0.35em; vertical-align: middle; margin-left: 0.5rem\">Medicamento</span>\n",
       "</mark>\n",
       " 120 mg IV para cada bolsa. Vale ressaltar que a paciente realizou uma \n",
       "<mark class=\"entity\" style=\"background: #3498DB; padding: 0.45em 0.6em; margin: 0 0.25em; line-height: 1; border-radius: 0.35em;\">\n",
       "    colonoscopia\n",
       "    <span style=\"font-size: 0.8em; font-weight: bold; line-height: 1; border-radius: 0.35em; vertical-align: middle; margin-left: 0.5rem\">Procedimento</span>\n",
       "</mark>\n",
       " em Wa em 26/8/05, que mostrou úlceras retais com sangramento, com \n",
       "<mark class=\"entity\" style=\"background: #3498DB; padding: 0.45em 0.6em; margin: 0 0.25em; line-height: 1; border-radius: 0.35em;\">\n",
       "    biópsias\n",
       "    <span style=\"font-size: 0.8em; font-weight: bold; line-height: 1; border-radius: 0.35em; vertical-align: middle; margin-left: 0.5rem\">Procedimento</span>\n",
       "</mark>\n",
       " consistentes com colite isquêmica. Uma \n",
       "<mark class=\"entity\" style=\"background: #3498DB; padding: 0.45em 0.6em; margin: 0 0.25em; line-height: 1; border-radius: 0.35em;\">\n",
       "    EGD\n",
       "    <span style=\"font-size: 0.8em; font-weight: bold; line-height: 1; border-radius: 0.35em; vertical-align: middle; margin-left: 0.5rem\">Procedimento</span>\n",
       "</mark>\n",
       " em 24/10/06 mostrou hérnia hiatal; pólipos fundicais (patologia: hipoplásicos/inflamatórios); erosões antrais leves (patologia: regeneração leve, inespecífica, sem H. pylori); duodenite (patologia: mucosa normal), mas sem sangramento ativo nem sinais de sangramento recente. A \n",
       "<mark class=\"entity\" style=\"background: #3498DB; padding: 0.45em 0.6em; margin: 0 0.25em; line-height: 1; border-radius: 0.35em;\">\n",
       "    cápsula endoscópica\n",
       "    <span style=\"font-size: 0.8em; font-weight: bold; line-height: 1; border-radius: 0.35em; vertical-align: middle; margin-left: 0.5rem\">Procedimento</span>\n",
       "</mark>\n",
       " em 5/7/06 mostrou úlcera gástrica em processo de cicatrização, provavelmente no antro, linfangiectasia intestinal e angiectasia no intestino delgado distal, que foram consideradas as fontes prováveis do sangramento. A \n",
       "<mark class=\"entity\" style=\"background: #3498DB; padding: 0.45em 0.6em; margin: 0 0.25em; line-height: 1; border-radius: 0.35em;\">\n",
       "    colonoscopia\n",
       "    <span style=\"font-size: 0.8em; font-weight: bold; line-height: 1; border-radius: 0.35em; vertical-align: middle; margin-left: 0.5rem\">Procedimento</span>\n",
       "</mark>\n",
       " realizada em 12/9/06 para procurar angiectasias passíveis de intervenção mostrou apenas um divertículo cecal, um pólipo sésil ascendente de aproximadamente 3 mm e vários pequenos pólipos sésseis no retossigmoide. A paciente começou a usar \n",
       "<mark class=\"entity\" style=\"background: #2ECC71; padding: 0.45em 0.6em; margin: 0 0.25em; line-height: 1; border-radius: 0.35em;\">\n",
       "    Aranesp\n",
       "    <span style=\"font-size: 0.8em; font-weight: bold; line-height: 1; border-radius: 0.35em; vertical-align: middle; margin-left: 0.5rem\">Medicamento</span>\n",
       "</mark>\n",
       ", mas teve uma queda de cinco pontos no hematócrito, de 32 para 27, em 12/9/06, e precisou de mais duas unidades de sangue, juntamente com \n",
       "<mark class=\"entity\" style=\"background: #2ECC71; padding: 0.45em 0.6em; margin: 0 0.25em; line-height: 1; border-radius: 0.35em;\">\n",
       "    Lasix\n",
       "    <span style=\"font-size: 0.8em; font-weight: bold; line-height: 1; border-radius: 0.35em; vertical-align: middle; margin-left: 0.5rem\">Medicamento</span>\n",
       "</mark>\n",
       ". O hematócrito da paciente permaneceu estável em cerca de 30 a 32, e ela será reiniciada na anticoagulação na quinta-feira, 10/12/06, uma semana após a \n",
       "<mark class=\"entity\" style=\"background: #3498DB; padding: 0.45em 0.6em; margin: 0 0.25em; line-height: 1; border-radius: 0.35em;\">\n",
       "    cirurgia de fístula\n",
       "    <span style=\"font-size: 0.8em; font-weight: bold; line-height: 1; border-radius: 0.35em; vertical-align: middle; margin-left: 0.5rem\">Procedimento</span>\n",
       "</mark>\n",
       " AV. 2. Renal: A paciente possui doença renal crônica e está sendo considerada para possível \n",
       "<mark class=\"entity\" style=\"background: #3498DB; padding: 0.45em 0.6em; margin: 0 0.25em; line-height: 1; border-radius: 0.35em;\">\n",
       "    hemodiálise\n",
       "    <span style=\"font-size: 0.8em; font-weight: bold; line-height: 1; border-radius: 0.35em; vertical-align: middle; margin-left: 0.5rem\">Procedimento</span>\n",
       "</mark>\n",
       " no futuro. Ela continuou usando \n",
       "<mark class=\"entity\" style=\"background: #2ECC71; padding: 0.45em 0.6em; margin: 0 0.25em; line-height: 1; border-radius: 0.35em;\">\n",
       "    Caltrate plus D\n",
       "    <span style=\"font-size: 0.8em; font-weight: bold; line-height: 1; border-radius: 0.35em; vertical-align: middle; margin-left: 0.5rem\">Medicamento</span>\n",
       "</mark>\n",
       ", \n",
       "<mark class=\"entity\" style=\"background: #2ECC71; padding: 0.45em 0.6em; margin: 0 0.25em; line-height: 1; border-radius: 0.35em;\">\n",
       "    multivitamínico\n",
       "    <span style=\"font-size: 0.8em; font-weight: bold; line-height: 1; border-radius: 0.35em; vertical-align: middle; margin-left: 0.5rem\">Medicamento</span>\n",
       "</mark>\n",
       " e \n",
       "<mark class=\"entity\" style=\"background: #2ECC71; padding: 0.45em 0.6em; margin: 0 0.25em; line-height: 1; border-radius: 0.35em;\">\n",
       "    suplementação de ferro\n",
       "    <span style=\"font-size: 0.8em; font-weight: bold; line-height: 1; border-radius: 0.35em; vertical-align: middle; margin-left: 0.5rem\">Medicamento</span>\n",
       "</mark>\n",
       ", e começou a tomar \n",
       "<mark class=\"entity\" style=\"background: #2ECC71; padding: 0.45em 0.6em; margin: 0 0.25em; line-height: 1; border-radius: 0.35em;\">\n",
       "    Aranesp\n",
       "    <span style=\"font-size: 0.8em; font-weight: bold; line-height: 1; border-radius: 0.35em; vertical-align: middle; margin-left: 0.5rem\">Medicamento</span>\n",
       "</mark>\n",
       " 25 mcg semanalmente e foi submetida a \n",
       "<mark class=\"entity\" style=\"background: #2ECC71; padding: 0.45em 0.6em; margin: 0 0.25em; line-height: 1; border-radius: 0.35em;\">\n",
       "    sevelâmer\n",
       "    <span style=\"font-size: 0.8em; font-weight: bold; line-height: 1; border-radius: 0.35em; vertical-align: middle; margin-left: 0.5rem\">Medicamento</span>\n",
       "</mark>\n",
       " 400 mg três vezes ao dia para níveis elevados de fosfato. Um estudo de \n",
       "<mark class=\"entity\" style=\"background: #3498DB; padding: 0.45em 0.6em; margin: 0 0.25em; line-height: 1; border-radius: 0.35em;\">\n",
       "    mapeamento das veias\n",
       "    <span style=\"font-size: 0.8em; font-weight: bold; line-height: 1; border-radius: 0.35em; vertical-align: middle; margin-left: 0.5rem\">Procedimento</span>\n",
       "</mark>\n",
       " foi realizado em 25/7/06, e uma \n",
       "<mark class=\"entity\" style=\"background: #3498DB; padding: 0.45em 0.6em; margin: 0 0.25em; line-height: 1; border-radius: 0.35em;\">\n",
       "    transposição da veia basílica direita\n",
       "    <span style=\"font-size: 0.8em; font-weight: bold; line-height: 1; border-radius: 0.35em; vertical-align: middle; margin-left: 0.5rem\">Procedimento</span>\n",
       "</mark>\n",
       " foi realizada em 12/9/06 pelo Dr. Landrie. A paciente apresentou resfriamento da mão direita, dormência e fraqueza após a \n",
       "<mark class=\"entity\" style=\"background: #3498DB; padding: 0.45em 0.6em; margin: 0 0.25em; line-height: 1; border-radius: 0.35em;\">\n",
       "    cirurgia\n",
       "    <span style=\"font-size: 0.8em; font-weight: bold; line-height: 1; border-radius: 0.35em; vertical-align: middle; margin-left: 0.5rem\">Procedimento</span>\n",
       "</mark>\n",
       " (sempre com pulso radial dopplerável), devido a roubo de fluxo versus neurapraxia, o que melhorou até a alta. Ela fará acompanhamento com o Dr. Chanthasene como paciente ambulatorial. O creatinina da paciente estava em 3,3 na admissão, melhorou para 2,0 até 12/9/06, dia de sua cirurgia, e aumentou novamente para 3,2 em 1/10/06. Ela recebeu bolus de \n",
       "<mark class=\"entity\" style=\"background: #2ECC71; padding: 0.45em 0.6em; margin: 0 0.25em; line-height: 1; border-radius: 0.35em;\">\n",
       "    Lasix\n",
       "    <span style=\"font-size: 0.8em; font-weight: bold; line-height: 1; border-radius: 0.35em; vertical-align: middle; margin-left: 0.5rem\">Medicamento</span>\n",
       "</mark>\n",
       " intravenoso, pois apresentava sinais de sobrecarga de volume com ganho de peso acima de oito libras durante sua hospitalização, e a creatinina melhorou para 2,7 até o dia da alta. 3. Cardiovascular: Bomba: A fração de ejeção da paciente é de 45% a 50% e ela recebeu 120 mg de \n",
       "<mark class=\"entity\" style=\"background: #2ECC71; padding: 0.45em 0.6em; margin: 0 0.25em; line-height: 1; border-radius: 0.35em;\">\n",
       "    Lasix\n",
       "    <span style=\"font-size: 0.8em; font-weight: bold; line-height: 1; border-radius: 0.35em; vertical-align: middle; margin-left: 0.5rem\">Medicamento</span>\n",
       "</mark>\n",
       " IV para cada unidade de concentrado de hemácias que recebeu, além de 120 mg oralmente por dia, com bolus intravenoso de 180 mg conforme necessário para sobrecarga de volume, conforme julgado pelo aumento de peso. Os medicamentos anti-hipertensivos foram inicialmente suspensos devido ao sangramento gastrointestinal e reiniciados em 24/10/06, com pressões sistólicas se mantendo na faixa dos 120s a 130s. Ritmo: A paciente tem fibrilação atrial com resposta ventricular lenta, com frequências cardíacas chegando a menos de 40 batimentos por minuto. Às vezes, sua frequência cardíaca parecia regular e foi considerada um ritmo de escape juncional. Ela permaneceu assintomática durante toda a sua hospitalização. Ela foi discutida com seu cardiologista, Dr. Fritz, que considerará a colocação de um \n",
       "<mark class=\"entity\" style=\"background: #3498DB; padding: 0.45em 0.6em; margin: 0 0.25em; line-height: 1; border-radius: 0.35em;\">\n",
       "    marcapasso\n",
       "    <span style=\"font-size: 0.8em; font-weight: bold; line-height: 1; border-radius: 0.35em; vertical-align: middle; margin-left: 0.5rem\">Procedimento</span>\n",
       "</mark>\n",
       " como paciente ambulatorial. 4. Endócrino: Ela está em eutiroidismo com TSH de 2,422. Para seu diabetes, ela recebia \n",
       "<mark class=\"entity\" style=\"background: #2ECC71; padding: 0.45em 0.6em; margin: 0 0.25em; line-height: 1; border-radius: 0.35em;\">\n",
       "    Lantus\n",
       "    <span style=\"font-size: 0.8em; font-weight: bold; line-height: 1; border-radius: 0.35em; vertical-align: middle; margin-left: 0.5rem\">Medicamento</span>\n",
       "</mark>\n",
       " todas as noites e \n",
       "<mark class=\"entity\" style=\"background: #2ECC71; padding: 0.45em 0.6em; margin: 0 0.25em; line-height: 1; border-radius: 0.35em;\">\n",
       "    asparto\n",
       "    <span style=\"font-size: 0.8em; font-weight: bold; line-height: 1; border-radius: 0.35em; vertical-align: middle; margin-left: 0.5rem\">Medicamento</span>\n",
       "</mark>\n",
       " antes das refeições e insulina regular conforme necessário com base em uma escala deslizante. As medições de glicemia capilar estavam elevadas para valores acima de 300 no início desta internação, mas melhoraram para valores em torno de 100 ao aumentar a dose de \n",
       "<mark class=\"entity\" style=\"background: #2ECC71; padding: 0.45em 0.6em; margin: 0 0.25em; line-height: 1; border-radius: 0.35em;\">\n",
       "    insulina\n",
       "    <span style=\"font-size: 0.8em; font-weight: bold; line-height: 1; border-radius: 0.35em; vertical-align: middle; margin-left: 0.5rem\">Medicamento</span>\n",
       "</mark>\n",
       ". 5. Musculoesquelético: A paciente possui uma \n",
       "<mark class=\"entity\" style=\"background: #3498DB; padding: 0.45em 0.6em; margin: 0 0.25em; line-height: 1; border-radius: 0.35em;\">\n",
       "    artroplastia total de quadril direito\n",
       "    <span style=\"font-size: 0.8em; font-weight: bold; line-height: 1; border-radius: 0.35em; vertical-align: middle; margin-left: 0.5rem\">Procedimento</span>\n",
       "</mark>\n",
       " realizada aproximadamente 13 anos atrás e reclamou de dor no quadril direito na admissão. Um \n",
       "<mark class=\"entity\" style=\"background: #3498DB; padding: 0.45em 0.6em; margin: 0 0.25em; line-height: 1; border-radius: 0.35em;\">\n",
       "    raio-X\n",
       "    <span style=\"font-size: 0.8em; font-weight: bold; line-height: 1; border-radius: 0.35em; vertical-align: middle; margin-left: 0.5rem\">Procedimento</span>\n",
       "</mark>\n",
       " mostrou ausência de alterações significativas no implante e a dor melhorou na manhã de 24/10/06. Ela fará acompanhamento com o médico fisiatra, Dr. Allan Kofoed. COMPLICAÇÕES: Fraqueza, dormência e resfriamento da mão direita após a \n",
       "<mark class=\"entity\" style=\"background: #3498DB; padding: 0.45em 0.6em; margin: 0 0.25em; line-height: 1; border-radius: 0.35em;\">\n",
       "    cirurgia de fístula AV\n",
       "    <span style=\"font-size: 0.8em; font-weight: bold; line-height: 1; border-radius: 0.35em; vertical-align: middle; margin-left: 0.5rem\">Procedimento</span>\n",
       "</mark>\n",
       ", possivelmente devido a roubo de fluxo ou neurapraxia, melhoraram significativamente até a alta. CONSULTORES: Dr. Garfield Kiehne, cirurgia vascular, Dr. Ambrose Moldrem, gastroenterologia. EXAME FÍSICO NA ALTA: Sinais vitais estáveis. Estertores bibasais nos pulmões. Sopro sistólico 3/6 ouvido em todo o ciclo, além de um S2 mecânico. Abdômen benigno. Extremidades inferiores com alterações crônicas de estase venosa. Fístula AV no membro superior direito com pulso positivo. Pulso radial direito diminuído com mão distal aquecida e força de preensão manual no membro direito de 4/5. MEDICAÇÕES NA ALTA: \n",
       "<mark class=\"entity\" style=\"background: #2ECC71; padding: 0.45em 0.6em; margin: 0 0.25em; line-height: 1; border-radius: 0.35em;\">\n",
       "    Norvasc\n",
       "    <span style=\"font-size: 0.8em; font-weight: bold; line-height: 1; border-radius: 0.35em; vertical-align: middle; margin-left: 0.5rem\">Medicamento</span>\n",
       "</mark>\n",
       " 5 mg diariamente, \n",
       "<mark class=\"entity\" style=\"background: #2ECC71; padding: 0.45em 0.6em; margin: 0 0.25em; line-height: 1; border-radius: 0.35em;\">\n",
       "    Caltrate plus D\n",
       "    <span style=\"font-size: 0.8em; font-weight: bold; line-height: 1; border-radius: 0.35em; vertical-align: middle; margin-left: 0.5rem\">Medicamento</span>\n",
       "</mark>\n",
       " um comprimido via oral duas vezes ao dia, \n",
       "<mark class=\"entity\" style=\"background: #2ECC71; padding: 0.45em 0.6em; margin: 0 0.25em; line-height: 1; border-radius: 0.35em;\">\n",
       "    Aranesp\n",
       "    <span style=\"font-size: 0.8em; font-weight: bold; line-height: 1; border-radius: 0.35em; vertical-align: middle; margin-left: 0.5rem\">Medicamento</span>\n",
       "</mark>\n",
       " 25 mcg subcutâneo semanalmente, \n",
       "<mark class=\"entity\" style=\"background: #2ECC71; padding: 0.45em 0.6em; margin: 0 0.25em; line-height: 1; border-radius: 0.35em;\">\n",
       "    Lovenox\n",
       "    <span style=\"font-size: 0.8em; font-weight: bold; line-height: 1; border-radius: 0.35em; vertical-align: middle; margin-left: 0.5rem\">Medicamento</span>\n",
       "</mark>\n",
       " 50 mg subcutâneo diariamente a partir de quinta-feira, 10/12/06 (a ser descontinuado quando o INR da paciente estiver terapêutico com a varfarina), \n",
       "<mark class=\"entity\" style=\"background: #2ECC71; padding: 0.45em 0.6em; margin: 0 0.25em; line-height: 1; border-radius: 0.35em;\">\n",
       "    Nexium\n",
       "    <span style=\"font-size: 0.8em; font-weight: bold; line-height: 1; border-radius: 0.35em; vertical-align: middle; margin-left: 0.5rem\">Medicamento</span>\n",
       "</mark>\n",
       " 40 mg via oral duas vezes ao dia, \n",
       "<mark class=\"entity\" style=\"background: #2ECC71; padding: 0.45em 0.6em; margin: 0 0.25em; line-height: 1; border-radius: 0.35em;\">\n",
       "    sulfato ferroso\n",
       "    <span style=\"font-size: 0.8em; font-weight: bold; line-height: 1; border-radius: 0.35em; vertical-align: middle; margin-left: 0.5rem\">Medicamento</span>\n",
       "</mark>\n",
       " 325 mg via oral duas vezes ao dia, \n",
       "<mark class=\"entity\" style=\"background: #2ECC71; padding: 0.45em 0.6em; margin: 0 0.25em; line-height: 1; border-radius: 0.35em;\">\n",
       "    Lasix\n",
       "    <span style=\"font-size: 0.8em; font-weight: bold; line-height: 1; border-radius: 0.35em; vertical-align: middle; margin-left: 0.5rem\">Medicamento</span>\n",
       "</mark>\n",
       " 160 mg via oral diariamente, \n",
       "<mark class=\"entity\" style=\"background: #2ECC71; padding: 0.45em 0.6em; margin: 0 0.25em; line-height: 1; border-radius: 0.35em;\">\n",
       "    insulina asparto\n",
       "    <span style=\"font-size: 0.8em; font-weight: bold; line-height: 1; border-radius: 0.35em; vertical-align: middle; margin-left: 0.5rem\">Medicamento</span>\n",
       "</mark>\n",
       " 5 unidades subcutâneas a cada refeição, \n",
       "<mark class=\"entity\" style=\"background: #2ECC71; padding: 0.45em 0.6em; margin: 0 0.25em; line-height: 1; border-radius: 0.35em;\">\n",
       "    insulina Lantus\n",
       "    <span style=\"font-size: 0.8em; font-weight: bold; line-height: 1; border-radius: 0.35em; vertical-align: middle; margin-left: 0.5rem\">Medicamento</span>\n",
       "</mark>\n",
       " 15 unidades subcutâneas todas as noites, \n",
       "<mark class=\"entity\" style=\"background: #2ECC71; padding: 0.45em 0.6em; margin: 0 0.25em; line-height: 1; border-radius: 0.35em;\">\n",
       "    Imdur\n",
       "    <span style=\"font-size: 0.8em; font-weight: bold; line-height: 1; border-radius: 0.35em; vertical-align: middle; margin-left: 0.5rem\">Medicamento</span>\n",
       "</mark>\n",
       " 30 mg via oral duas vezes ao dia, \n",
       "<mark class=\"entity\" style=\"background: #2ECC71; padding: 0.45em 0.6em; margin: 0 0.25em; line-height: 1; border-radius: 0.35em;\">\n",
       "    sevelâmero\n",
       "    <span style=\"font-size: 0.8em; font-weight: bold; line-height: 1; border-radius: 0.35em; vertical-align: middle; margin-left: 0.5rem\">Medicamento</span>\n",
       "</mark>\n",
       " 400 mg via oral três vezes ao dia, \n",
       "<mark class=\"entity\" style=\"background: #2ECC71; padding: 0.45em 0.6em; margin: 0 0.25em; line-height: 1; border-radius: 0.35em;\">\n",
       "    multivitamínico\n",
       "    <span style=\"font-size: 0.8em; font-weight: bold; line-height: 1; border-radius: 0.35em; vertical-align: middle; margin-left: 0.5rem\">Medicamento</span>\n",
       "</mark>\n",
       " um comprimido diariamente, valsartan 120 mg via oral diariamente, \n",
       "<mark class=\"entity\" style=\"background: #2ECC71; padding: 0.45em 0.6em; margin: 0 0.25em; line-height: 1; border-radius: 0.35em;\">\n",
       "    Coumadin\n",
       "    <span style=\"font-size: 0.8em; font-weight: bold; line-height: 1; border-radius: 0.35em; vertical-align: middle; margin-left: 0.5rem\">Medicamento</span>\n",
       "</mark>\n",
       " 4 mg via oral todas as noites a partir de quinta-feira, 10/12/06. DESTINO: Retorno para casa com serviços. CONSULTAS DE ACOMPANHAMENTO: A paciente fará acompanhamento com o Dr. Brendan B Tordsen em uma ou duas semanas, com o Dr. Schaetzle, \n",
       "<mark class=\"entity\" style=\"background: #3498DB; padding: 0.45em 0.6em; margin: 0 0.25em; line-height: 1; border-radius: 0.35em;\">\n",
       "    cirurgia vascular\n",
       "    <span style=\"font-size: 0.8em; font-weight: bold; line-height: 1; border-radius: 0.35em; vertical-align: middle; margin-left: 0.5rem\">Procedimento</span>\n",
       "</mark>\n",
       ", em 5/5/06 às 8h30, com o Dr. Salvatore Sherrod, fisiatra, em 29/11/06 às 10h, e com o Dr. Margarito Nolting em 9/7/07 às 11h45. STATUS DE EMERGÊNCIA: A paciente é de ressuscitação total, e seu procurador de saúde é sua filha, Shane Lutao. MÉDICO DE ATENÇÃO PRIMÁRIA: Rufus Mannheimer, MD. Documento de eScription: 6-5214206 CSSten Tel Ditado por: BEIER, JULIO Médico presente: HAMBRIC, MARGARITO KURT ID da Ditado 1739778 D: 15/10/06</div></span>"
      ],
      "text/plain": [
       "<IPython.core.display.HTML object>"
      ]
     },
     "metadata": {},
     "output_type": "display_data"
    }
   ],
   "source": [
    "# Import the displacy module from the spaCy library for visualizing entities\n",
    "from spacy import displacy\n",
    "\n",
    "# Define a dictionary to map entity labels to specific colors for visualization\n",
    "colors = {\n",
    "    'Medicamento': '#2ECC71',  # Green color for 'Medicamento' entities\n",
    "    'Procedimento': '#3498DB',  # Blue color for 'Procedimento' entities\n",
    "}\n",
    "\n",
    "# Define options for displacy visualization, including the entity labels and their corresponding colors\n",
    "options = {\"ents\": list(colors.keys()), \"colors\": colors}\n",
    "\n",
    "# Prepare the data for rendering by displacy\n",
    "# 'render_data' is a list of dictionaries, each containing the text and its corresponding entities\n",
    "render_data = [{\"text\": txt, \"ents\": [{\"start\": i[0], \"end\": i[1], \"label\": i[2]} for i in entities_span]}]\n",
    "\n",
    "# Render the entities in the text using displacy with the specified options\n",
    "# 'style=\"ent\"' specifies that we are visualizing named entities\n",
    "# 'manual=True' indicates that we are providing the entities manually\n",
    "# 'jupyter=True' ensures the visualization is displayed correctly in a Jupyter notebook\n",
    "displacy.render(render_data, style=\"ent\", manual=True, jupyter=True, options=options)"
   ]
  },
  {
   "cell_type": "markdown",
   "metadata": {},
   "source": [
    "### Using Weak Supervision Techniques to Warm-Start Your Annotation Task\n",
    "\n",
    "Named Entity Recognition (NER) is a task that can be both time-consuming and resource-intensive due to the significant effort required for data labeling. Any approach that can reduce the amount of data needing manual annotation will save considerable time and resources. **Weak supervision** is one such technique, offering a powerful means to conserve effort and expedite the annotation process.\n",
    "\n",
    "#### What is Weak Supervision?\n",
    "\n",
    "Weak supervision is a machine learning approach that leverages both human expertise and heuristic methods to train models. This technique is particularly valuable when dealing with limited labeled data and can enhance the performance of models that are already trained on some labeled data.\n",
    "\n",
    "> **Note:** Although we won't get into the theoretical aspects of weak supervision here, those interested can explore this topic further in my comprehensive course available at [Programa de Pós-Graduação em Tecnologia da Informação/UFRN](https://posgraduacao.ufrn.br/ppgti).\n",
    "\n",
    "#### Strategy: Using Pretrained Models for Label Generation\n",
    "\n",
    "One strategy within the weak supervision framework involves utilizing pretrained models to generate labels for your dataset. The principle is straightforward: the more advanced the pretrained model, the higher the quality of the generated labels.\n",
    "\n",
    "- **Pretrained Models**: These are models that have been previously trained on large datasets and can be repurposed to generate annotations for new data.\n",
    "- **Generated Labels**: While these labels may not be perfect, they provide a cost-effective alternative to manual annotation, particularly in specialized fields like medicine where expert annotators are required.\n",
    "\n",
    "#### Practical Application in NER\n",
    "\n",
    "In our class, we will demonstrate how to use Large Language Models (LLMs) to initiate the NER annotation task. Specifically, we will employ GPT-4 to generate labels for the following entities:\n",
    "- **Medicamento** (Medication)\n",
    "- **Doença** (Disease)\n",
    "- **Procedimento** (Procedure)\n",
    "\n",
    "##### Steps to Follow:\n",
    "\n",
    "1. **Model Selection**: Ensure you have the necessary clearance and budget to use a large language model. Be mindful of data protection regulations such as LGPD (Lei Geral de Proteção de Dados).\n",
    "2. **Data Preparation**: Prepare your dataset for annotation.\n",
    "3. **Label Generation**: Use GPT-4 to generate annotations for your dataset. These annotations will serve as a preliminary labeling, which can then be refined further if needed.\n",
    "\n",
    "> **Important:** The generated annotations might not be flawless, but they can significantly reduce the workload compared to having a human expert manually annotate the entire dataset.\n",
    "\n",
    "#### Example Application\n",
    "\n",
    "To illustrate this, we will apply the annotation method to an example dataset. This practical demonstration will show how GPT-4 can identify and label entities related to 'Medicamento', 'Doença', and 'Procedimento'. \n",
    "\n",
    "Let's proceed with the example from earlier to see how this works in practice.\n"
   ]
  },
  {
   "cell_type": "code",
   "execution_count": 25,
   "metadata": {},
   "outputs": [],
   "source": [
    "input_text = \"10:00: AVALIADO RAIO-X, SNE MAL POSICIONADA, REPASSADA SEM INTERCORRÊNCIA NO PROCEDIMENTO. AUSCULTA ABDOMINAL POSITIVA. RETIRO FIO GUIA, SOLICITO RAIO-X PARA AVALIAÇÃO DA POSIÇÃO. 17:50: CLIENTE RELATOU CEFALÉIA NO PERÍODO DA MANHÃ E FOI MEDICADO. CONSCIENTE, PUPILAS ISOCÓRICAS FOTORREAGENTES, COMUNICATIVO, EUPNÉICO, REPOUSO NO LEITO, ACEITANDO BEM A DIETA, SEM ACESSO PERIFÉRICO, APRESENTANDO EDEMA EM OMBRO E, MANTENDO TIPÓIA DE ATADURA EM MSE, ABDÔMEN PLANO E FLÁCIDO, ELIMINAÇÕES PRESENTES. 20:50 h: Paciente com cuff furado, realizado troca de TOT, instalado TOT 7.5, VM modo controlado VC 500, PEEP 07, FIO2 a 50%. 22:30h: ESQUEMA DE SUPERVISÃO NOTURNA: TRAQUEOSTOMIZADO, EM DESMAME VENTILATÓRIO EM PS DE 17, PEEP 5, FIO2 50%. PERMANECE EXTREMAMENTE AGITADO (não responde à sedação intermitente). REINICIADO  DORMONID 7 ML/H, FENTANIL 2 ML/H (continua não respondendo). PERMANECE AGITADO, ARRANCOU SOE. ACESSO VENOSO PERIFÉRICO EM MSD COM PLANO BÁSICO DE HIDRATAÇÃO + SEDAÇÃO. POLISSECRETIVO (mantendo trach care). FO SEM SINAIS FLOGÍSTICOS EM FACE, EDEMA EM FACE LD. MONITORIZAÇÃO DE MÚLTIPLOS PARÂMETROS CONFORME ROTINA DA UTI. DIURESE EM UROPEN. 23:30 h: Retorna do CC, onde realizou relaparotomia exploradora, instalado sistema de aspiração fechado em traqueostomia (trach care) no CC, trajeto de volta do CC sem intercorrências, mantém monitorização de parâmetros, TOT nº 7,5 em rima 22, VM modo VCV 440ml, peep 6, fio2 a 40%, pupilas isocóricas fotorreagentes, SNG com débito em média quantidade de aspecto borra de café, diurese via SVD em média quantidade, sem grumos, de cor amarelo claro, PAM em radial esquerda, acesso venoso central em subclávia à direita, evacuação ausente no período.\""
   ]
  },
  {
   "cell_type": "code",
   "execution_count": 26,
   "metadata": {},
   "outputs": [],
   "source": [
    "from langchain_openai import ChatOpenAI\n",
    "from langchain.pydantic_v1 import BaseModel, Field\n",
    "from typing import Optional, Sequence\n",
    "from langchain_core.prompts import ChatPromptTemplate\n",
    "\n",
    "class Medicamento(BaseModel):\n",
    "    \"\"\"Identifica o nome do medicamento\"\"\"\n",
    "\n",
    "    principio_ativo: str = Field(..., description=\"Nome do princípio ativo do medicamento (ex.: clonazepam)\")\n",
    "    nome_comercial: Optional[str] = Field(None, description=\"Nome comercial do medicamento (ex.: Rivotril)\")\n",
    "    dosagem: Optional[str] = Field(None, description=\"Dosagem do medicamento (ex.: 2mg)\")\n",
    "\n",
    "class Doenca(BaseModel):\n",
    "    \"\"\"Identifica o nome da doença\"\"\"\n",
    "\n",
    "    nome: str = Field(..., description=\"Nome da doença (ex.: hipertensão arterial)\")\n",
    "    parte_do_corpo: Optional[str] = Field(None, description=\"Parte do corpo afetada pela doença (ex.: coração)\")\n",
    "\n",
    "class ProcedimentoMedico(BaseModel):\n",
    "    \"\"\"Identifica o nome do procedimento médico\"\"\"\n",
    "\n",
    "    nome: str = Field(..., description=\"Nome do procedimento médico (ex.: cirurgia cardíaca)\")\n",
    "    \n",
    "class TodosSaude(BaseModel):\n",
    "    \"\"\"Identifica as informações sobre todos os medicamentos mencionados em um texto\"\"\"\n",
    "    \n",
    "    doencas: Sequence[Doenca] = Field(..., description=\"Lista de doenças identificadas no texto\")\n",
    "    procedimentos_medicos: Sequence[ProcedimentoMedico] = Field(..., description=\"Lista de procedimentos médicos identificados no texto\")\n",
    "    medicamentos: Sequence[Medicamento] = Field(..., description=\"Lista de medicamentos identificados no texto\")\n",
    "\n"
   ]
  },
  {
   "cell_type": "code",
   "execution_count": 27,
   "metadata": {},
   "outputs": [],
   "source": [
    "# Import the load_dotenv function from the dotenv module to load environment variables from a .env file\n",
    "from dotenv import load_dotenv\n",
    "\n",
    "# Load environment variables from a .env file into the environment\n",
    "load_dotenv()\n",
    "\n",
    "# Initialize the ChatOpenAI model with specific parameters\n",
    "# temperature: controls the randomness of the model's output\n",
    "# model: specifies the model version to use\n",
    "# timeout: sets the maximum time to wait for a response\n",
    "# max_retries: defines the number of retry attempts in case of failure\n",
    "gpt4_model = ChatOpenAI(temperature=0, model='gpt-4o-mini', timeout=10, max_retries=10)\n",
    "\n",
    "# Define a prompt template for the chat model using ChatPromptTemplate\n",
    "# The prompt consists of a system message and a human message\n",
    "prompt = ChatPromptTemplate.from_messages(\n",
    "    [\n",
    "        (\n",
    "            \"system\",\n",
    "            \"Você é um algoritmo perfeito para extração de entidades nomeadas sobre medicamentos. \"\n",
    "            \"Você deve extrair informações relevantes do texto, exatamente como está escrito no texto. \"\n",
    "            \"Se você não souber o valor de um atributo solicitado para extrair, retorne nulo para o valor do atributo.\",\n",
    "        ),\n",
    "        (\"human\", \"{text}\"),  # Placeholder for the human input text\n",
    "    ]\n",
    ")\n",
    "\n",
    "# Create a processing chain by combining the prompt template and the chat model\n",
    "# The chain will take the prompt and pass it to the model, expecting structured output in the TodosSaude format\n",
    "chain = prompt | gpt4_model.with_structured_output(TodosSaude)"
   ]
  },
  {
   "cell_type": "code",
   "execution_count": 28,
   "metadata": {},
   "outputs": [
    {
     "data": {
      "text/plain": [
       "TodosSaude(doencas=[Doenca(nome='cefaleia', parte_do_corpo=None)], procedimentos_medicos=[ProcedimentoMedico(nome='raio-x'), ProcedimentoMedico(nome='troca de TOT'), ProcedimentoMedico(nome='desmame ventilatório'), ProcedimentoMedico(nome='relaparotomia exploradora')], medicamentos=[Medicamento(principio_ativo='dormonid', nome_comercial=None, dosagem='7 ml/h'), Medicamento(principio_ativo='fentanil', nome_comercial=None, dosagem='2 ml/h')])"
      ]
     },
     "execution_count": 28,
     "metadata": {},
     "output_type": "execute_result"
    }
   ],
   "source": [
    "gpt_output = chain.invoke(input_text)\n",
    "gpt_output"
   ]
  },
  {
   "cell_type": "code",
   "execution_count": 29,
   "metadata": {},
   "outputs": [
    {
     "data": {
      "text/plain": [
       "[Doenca(nome='cefaleia', parte_do_corpo=None)]"
      ]
     },
     "execution_count": 29,
     "metadata": {},
     "output_type": "execute_result"
    }
   ],
   "source": [
    "gpt_output.doencas"
   ]
  },
  {
   "cell_type": "code",
   "execution_count": 30,
   "metadata": {},
   "outputs": [
    {
     "data": {
      "text/plain": [
       "[ProcedimentoMedico(nome='raio-x'),\n",
       " ProcedimentoMedico(nome='troca de TOT'),\n",
       " ProcedimentoMedico(nome='desmame ventilatório'),\n",
       " ProcedimentoMedico(nome='relaparotomia exploradora')]"
      ]
     },
     "execution_count": 30,
     "metadata": {},
     "output_type": "execute_result"
    }
   ],
   "source": [
    "gpt_output.procedimentos_medicos"
   ]
  },
  {
   "cell_type": "code",
   "execution_count": 31,
   "metadata": {},
   "outputs": [
    {
     "data": {
      "text/plain": [
       "[Medicamento(principio_ativo='dormonid', nome_comercial=None, dosagem='7 ml/h'),\n",
       " Medicamento(principio_ativo='fentanil', nome_comercial=None, dosagem='2 ml/h')]"
      ]
     },
     "execution_count": 31,
     "metadata": {},
     "output_type": "execute_result"
    }
   ],
   "source": [
    "gpt_output.medicamentos"
   ]
  },
  {
   "cell_type": "code",
   "execution_count": 32,
   "metadata": {},
   "outputs": [
    {
     "data": {
      "text/plain": [
       "__main__.TodosSaude"
      ]
     },
     "execution_count": 32,
     "metadata": {},
     "output_type": "execute_result"
    }
   ],
   "source": [
    "type(gpt_output)"
   ]
  },
  {
   "cell_type": "code",
   "execution_count": 36,
   "metadata": {},
   "outputs": [
    {
     "name": "stdout",
     "output_type": "stream",
     "text": [
      "[(16, 22, 'Procedimento'), (146, 152, 'Procedimento'), (542, 554, 'Procedimento'), (683, 703, 'Procedimento'), (817, 825, 'Medicamento'), (834, 842, 'Medicamento'), (1195, 1220, 'Procedimento')]\n"
     ]
    }
   ],
   "source": [
    "import re\n",
    "from typing import List, Tuple\n",
    "\n",
    "def extract_entities(gpt_output: TodosSaude, text: str) -> List[Tuple[int, int, str]]:\n",
    "    \"\"\"\n",
    "    Extract entities (medications, medical procedures, diseases) from the input text.\n",
    "\n",
    "    Args:\n",
    "        gpt_output (TodosSaude): The output from GPT containing medications, medical procedures, and diseases.\n",
    "        text (str): The input text from which to extract entities.\n",
    "\n",
    "    Returns:\n",
    "        List[Tuple[int, int, str]]: A list of tuples, each containing the start index, end index, and type of an entity.\n",
    "    \"\"\"\n",
    "    # Initialize lists to store the spans of medications, medical procedures, and diseases\n",
    "    medication_spans = []\n",
    "    procedure_spans = []\n",
    "    disease_spans = []\n",
    "\n",
    "    # Helper function to find and append spans\n",
    "    def find_spans(entity_name: str, entity_type: str, spans_list: List[Tuple[int, int, str]]):\n",
    "        if entity_name:\n",
    "            for match in re.finditer(entity_name, text, re.IGNORECASE):\n",
    "                spans_list.append((match.start(), match.end(), entity_type))\n",
    "\n",
    "    # Extract medication spans\n",
    "    for medication in gpt_output.medicamentos:\n",
    "        find_spans(medication.principio_ativo, 'Medicamento', medication_spans)\n",
    "        find_spans(medication.nome_comercial, 'Medicamento', medication_spans)\n",
    "\n",
    "    # Extract medical procedure spans\n",
    "    for procedure in gpt_output.procedimentos_medicos:\n",
    "        find_spans(procedure.nome, 'Procedimento', procedure_spans)\n",
    "\n",
    "    # Extract disease spans\n",
    "    for disease in gpt_output.doencas:\n",
    "        find_spans(disease.nome, 'Doença', disease_spans)\n",
    "\n",
    "    # Combine all the spans into one list\n",
    "    all_spans = medication_spans + procedure_spans + disease_spans\n",
    "\n",
    "    # Sort the entities by start index\n",
    "    sorted_spans = sorted(all_spans, key=lambda x: x[0])\n",
    "\n",
    "    return sorted_spans\n",
    "\n",
    "# Example usage\n",
    "entities_span = extract_entities(gpt_output, input_text)\n",
    "print(entities_span)"
   ]
  },
  {
   "cell_type": "code",
   "execution_count": 37,
   "metadata": {},
   "outputs": [
    {
     "data": {
      "text/html": [
       "<span class=\"tex2jax_ignore\"><div class=\"entities\" style=\"line-height: 2.5; direction: ltr\">10:00: AVALIADO \n",
       "<mark class=\"entity\" style=\"background: #3498DB; padding: 0.45em 0.6em; margin: 0 0.25em; line-height: 1; border-radius: 0.35em;\">\n",
       "    RAIO-X\n",
       "    <span style=\"font-size: 0.8em; font-weight: bold; line-height: 1; border-radius: 0.35em; vertical-align: middle; margin-left: 0.5rem\">Procedimento</span>\n",
       "</mark>\n",
       ", SNE MAL POSICIONADA, REPASSADA SEM INTERCORRÊNCIA NO PROCEDIMENTO. AUSCULTA ABDOMINAL POSITIVA. RETIRO FIO GUIA, SOLICITO \n",
       "<mark class=\"entity\" style=\"background: #3498DB; padding: 0.45em 0.6em; margin: 0 0.25em; line-height: 1; border-radius: 0.35em;\">\n",
       "    RAIO-X\n",
       "    <span style=\"font-size: 0.8em; font-weight: bold; line-height: 1; border-radius: 0.35em; vertical-align: middle; margin-left: 0.5rem\">Procedimento</span>\n",
       "</mark>\n",
       " PARA AVALIAÇÃO DA POSIÇÃO. 17:50: CLIENTE RELATOU CEFALÉIA NO PERÍODO DA MANHÃ E FOI MEDICADO. CONSCIENTE, PUPILAS ISOCÓRICAS FOTORREAGENTES, COMUNICATIVO, EUPNÉICO, REPOUSO NO LEITO, ACEITANDO BEM A DIETA, SEM ACESSO PERIFÉRICO, APRESENTANDO EDEMA EM OMBRO E, MANTENDO TIPÓIA DE ATADURA EM MSE, ABDÔMEN PLANO E FLÁCIDO, ELIMINAÇÕES PRESENTES. 20:50 h: Paciente com cuff furado, realizado \n",
       "<mark class=\"entity\" style=\"background: #3498DB; padding: 0.45em 0.6em; margin: 0 0.25em; line-height: 1; border-radius: 0.35em;\">\n",
       "    troca de TOT\n",
       "    <span style=\"font-size: 0.8em; font-weight: bold; line-height: 1; border-radius: 0.35em; vertical-align: middle; margin-left: 0.5rem\">Procedimento</span>\n",
       "</mark>\n",
       ", instalado TOT 7.5, VM modo controlado VC 500, PEEP 07, FIO2 a 50%. 22:30h: ESQUEMA DE SUPERVISÃO NOTURNA: TRAQUEOSTOMIZADO, EM \n",
       "<mark class=\"entity\" style=\"background: #3498DB; padding: 0.45em 0.6em; margin: 0 0.25em; line-height: 1; border-radius: 0.35em;\">\n",
       "    DESMAME VENTILATÓRIO\n",
       "    <span style=\"font-size: 0.8em; font-weight: bold; line-height: 1; border-radius: 0.35em; vertical-align: middle; margin-left: 0.5rem\">Procedimento</span>\n",
       "</mark>\n",
       " EM PS DE 17, PEEP 5, FIO2 50%. PERMANECE EXTREMAMENTE AGITADO (não responde à sedação intermitente). REINICIADO  \n",
       "<mark class=\"entity\" style=\"background: #2ECC71; padding: 0.45em 0.6em; margin: 0 0.25em; line-height: 1; border-radius: 0.35em;\">\n",
       "    DORMONID\n",
       "    <span style=\"font-size: 0.8em; font-weight: bold; line-height: 1; border-radius: 0.35em; vertical-align: middle; margin-left: 0.5rem\">Medicamento</span>\n",
       "</mark>\n",
       " 7 ML/H, \n",
       "<mark class=\"entity\" style=\"background: #2ECC71; padding: 0.45em 0.6em; margin: 0 0.25em; line-height: 1; border-radius: 0.35em;\">\n",
       "    FENTANIL\n",
       "    <span style=\"font-size: 0.8em; font-weight: bold; line-height: 1; border-radius: 0.35em; vertical-align: middle; margin-left: 0.5rem\">Medicamento</span>\n",
       "</mark>\n",
       " 2 ML/H (continua não respondendo). PERMANECE AGITADO, ARRANCOU SOE. ACESSO VENOSO PERIFÉRICO EM MSD COM PLANO BÁSICO DE HIDRATAÇÃO + SEDAÇÃO. POLISSECRETIVO (mantendo trach care). FO SEM SINAIS FLOGÍSTICOS EM FACE, EDEMA EM FACE LD. MONITORIZAÇÃO DE MÚLTIPLOS PARÂMETROS CONFORME ROTINA DA UTI. DIURESE EM UROPEN. 23:30 h: Retorna do CC, onde realizou \n",
       "<mark class=\"entity\" style=\"background: #3498DB; padding: 0.45em 0.6em; margin: 0 0.25em; line-height: 1; border-radius: 0.35em;\">\n",
       "    relaparotomia exploradora\n",
       "    <span style=\"font-size: 0.8em; font-weight: bold; line-height: 1; border-radius: 0.35em; vertical-align: middle; margin-left: 0.5rem\">Procedimento</span>\n",
       "</mark>\n",
       ", instalado sistema de aspiração fechado em traqueostomia (trach care) no CC, trajeto de volta do CC sem intercorrências, mantém monitorização de parâmetros, TOT nº 7,5 em rima 22, VM modo VCV 440ml, peep 6, fio2 a 40%, pupilas isocóricas fotorreagentes, SNG com débito em média quantidade de aspecto borra de café, diurese via SVD em média quantidade, sem grumos, de cor amarelo claro, PAM em radial esquerda, acesso venoso central em subclávia à direita, evacuação ausente no período.</div></span>"
      ],
      "text/plain": [
       "<IPython.core.display.HTML object>"
      ]
     },
     "metadata": {},
     "output_type": "display_data"
    }
   ],
   "source": [
    "# Import the displacy module from spaCy for visualizing named entities\n",
    "from spacy import displacy\n",
    "\n",
    "# Define a dictionary to map entity labels to specific colors for visualization\n",
    "colors = {\n",
    "    'Medicamento': '#2ECC71',  # Green color for 'Medicamento' entities\n",
    "    'Procedimento': '#3498DB',  # Blue color for 'Procedimento' entities\n",
    "    'Doença': '#E74C3C'        # Red color for 'Doença' entities\n",
    "}\n",
    "\n",
    "# Define options for displacy visualization, including the entity labels and their corresponding colors\n",
    "options = {\"ents\": list(colors.keys()), \"colors\": colors}\n",
    "\n",
    "# Prepare the data for rendering by displacy\n",
    "# 'render_data' is a list of dictionaries, each containing the text and its corresponding entities\n",
    "render_data = [{\"text\": input_text, \"ents\": [{\"start\": i[0], \"end\": i[1], \"label\": i[2]} for i in entities_span]}]\n",
    "\n",
    "# Render the entities in the text using displacy with the specified options\n",
    "# 'style=\"ent\"' specifies that we are visualizing named entities\n",
    "# 'manual=True' indicates that we are providing the entities manually\n",
    "# 'jupyter=True' ensures the visualization is displayed correctly in a Jupyter notebook\n",
    "displacy.render(render_data, style=\"ent\", manual=True, jupyter=True, options=options)"
   ]
  },
  {
   "cell_type": "markdown",
   "metadata": {},
   "source": [
    "## Leveraging Pre-trained Models for Named Entity Recognition (NER)\n",
    "\n",
    "### What are Pre-trained Models?\n",
    "\n",
    "In the context of Natural Language Processing (NLP), pre-trained models are powerful tools that can significantly expedite and enhance your NER tasks.  Imagine them as neural networks already trained on vast amounts of data. These models come \"pre-loaded\" with knowledge about language structure, grammar, and even specific entities, depending on their training data. This means you can leverage their existing knowledge without having to train a model from scratch.\n",
    "\n",
    "Instead of training your own model, you can use these pre-trained models as a starting point. This is particularly beneficial when:\n",
    "\n",
    "- **Limited Data:** You have a small dataset for your specific NER task.\n",
    "- **Time Constraints:** Training a robust NER model from scratch can be computationally expensive and time-consuming. \n",
    "\n",
    "###  Choosing the Right Pre-trained Model: Factors to Consider\n",
    "\n",
    "While pre-trained models offer convenience and efficiency, it's crucial to understand their limitations and select them carefully:\n",
    "\n",
    "- **Domain Specificity:** Pre-trained models are often trained on specific types of data. For instance, a model trained on legal documents might not perform well on medical records. Always choose a model trained on data similar to your target domain.\n",
    "\n",
    "    - **Example:** If you're identifying diseases in medical records, a model pre-trained on biomedical literature would be a better choice than a model trained on news articles.\n",
    "\n",
    "- **Label Alignment:**  The labels used during the pre-training phase dictate the entities a model can recognize. \n",
    "\n",
    "    - **Example:** A model trained to identify people and locations in news articles won't be effective in recognizing chemical compounds in scientific papers.\n",
    "\n",
    "- **Performance Evaluation:** Even within a relevant domain, different pre-trained models will have varying levels of performance. It's essential to evaluate and compare different models on a subset of your data to determine the best fit for your specific NER task.  \n",
    "\n",
    "> **Key Takeaway:**  Using a pre-trained model doesn't mean you can skip the evaluation process. Always test and fine-tune the chosen model on your data to ensure optimal performance for your specific NER application. \n",
    "\n",
    "One example of a pretrained model use case was presented before in this notebook, as seen in our first example discussed earlier:\n"
   ]
  },
  {
   "cell_type": "code",
   "execution_count": 38,
   "metadata": {},
   "outputs": [
    {
     "data": {
      "text/html": [
       "<span class=\"tex2jax_ignore\"><div class=\"entities\" style=\"line-height: 2.5; direction: ltr\">Meu nome é \n",
       "<mark class=\"entity\" style=\"background: #ddd; padding: 0.45em 0.6em; margin: 0 0.25em; line-height: 1; border-radius: 0.35em;\">\n",
       "    Elias Jacob\n",
       "    <span style=\"font-size: 0.8em; font-weight: bold; line-height: 1; border-radius: 0.35em; vertical-align: middle; margin-left: 0.5rem\">PER</span>\n",
       "</mark>\n",
       " e eu moro em \n",
       "<mark class=\"entity\" style=\"background: #ff9561; padding: 0.45em 0.6em; margin: 0 0.25em; line-height: 1; border-radius: 0.35em;\">\n",
       "    Natal\n",
       "    <span style=\"font-size: 0.8em; font-weight: bold; line-height: 1; border-radius: 0.35em; vertical-align: middle; margin-left: 0.5rem\">LOC</span>\n",
       "</mark>\n",
       ", \n",
       "<mark class=\"entity\" style=\"background: #ff9561; padding: 0.45em 0.6em; margin: 0 0.25em; line-height: 1; border-radius: 0.35em;\">\n",
       "    Rio Grande do Norte\n",
       "    <span style=\"font-size: 0.8em; font-weight: bold; line-height: 1; border-radius: 0.35em; vertical-align: middle; margin-left: 0.5rem\">LOC</span>\n",
       "</mark>\n",
       ". Eu trabalho no \n",
       "<mark class=\"entity\" style=\"background: #7aecec; padding: 0.45em 0.6em; margin: 0 0.25em; line-height: 1; border-radius: 0.35em;\">\n",
       "    Instituto Metrópole Digital\n",
       "    <span style=\"font-size: 0.8em; font-weight: bold; line-height: 1; border-radius: 0.35em; vertical-align: middle; margin-left: 0.5rem\">ORG</span>\n",
       "</mark>\n",
       ", que é a unidade mais bacana da \n",
       "<mark class=\"entity\" style=\"background: #ff9561; padding: 0.45em 0.6em; margin: 0 0.25em; line-height: 1; border-radius: 0.35em;\">\n",
       "    UFRN\n",
       "    <span style=\"font-size: 0.8em; font-weight: bold; line-height: 1; border-radius: 0.35em; vertical-align: middle; margin-left: 0.5rem\">LOC</span>\n",
       "</mark>\n",
       ". Desde 2021 eu também trabalho como \n",
       "<mark class=\"entity\" style=\"background: #ddd; padding: 0.45em 0.6em; margin: 0 0.25em; line-height: 1; border-radius: 0.35em;\">\n",
       "    Corregedor da UFRN\n",
       "    <span style=\"font-size: 0.8em; font-weight: bold; line-height: 1; border-radius: 0.35em; vertical-align: middle; margin-left: 0.5rem\">MISC</span>\n",
       "</mark>\n",
       ". Quando a pandemia começou, no início de 2020, eu estava com as malas prontas para uma viagem de férias para o \n",
       "<mark class=\"entity\" style=\"background: #ff9561; padding: 0.45em 0.6em; margin: 0 0.25em; line-height: 1; border-radius: 0.35em;\">\n",
       "    Japão\n",
       "    <span style=\"font-size: 0.8em; font-weight: bold; line-height: 1; border-radius: 0.35em; vertical-align: middle; margin-left: 0.5rem\">LOC</span>\n",
       "</mark>\n",
       ". Eu até fui buscar meu visto no \n",
       "<mark class=\"entity\" style=\"background: #ddd; padding: 0.45em 0.6em; margin: 0 0.25em; line-height: 1; border-radius: 0.35em;\">\n",
       "    Consulado\n",
       "    <span style=\"font-size: 0.8em; font-weight: bold; line-height: 1; border-radius: 0.35em; vertical-align: middle; margin-left: 0.5rem\">MISC</span>\n",
       "</mark>\n",
       " em \n",
       "<mark class=\"entity\" style=\"background: #ff9561; padding: 0.45em 0.6em; margin: 0 0.25em; line-height: 1; border-radius: 0.35em;\">\n",
       "    Recife\n",
       "    <span style=\"font-size: 0.8em; font-weight: bold; line-height: 1; border-radius: 0.35em; vertical-align: middle; margin-left: 0.5rem\">LOC</span>\n",
       "</mark>\n",
       ", mas, quando chegou mais perto da viagem, meus voos foram todos cancelados pela \n",
       "<mark class=\"entity\" style=\"background: #7aecec; padding: 0.45em 0.6em; margin: 0 0.25em; line-height: 1; border-radius: 0.35em;\">\n",
       "    United Airlines\n",
       "    <span style=\"font-size: 0.8em; font-weight: bold; line-height: 1; border-radius: 0.35em; vertical-align: middle; margin-left: 0.5rem\">ORG</span>\n",
       "</mark>\n",
       " e eu não viajei. No dia 11 de novembro de 2023, eu fui no show do \n",
       "<mark class=\"entity\" style=\"background: #ddd; padding: 0.45em 0.6em; margin: 0 0.25em; line-height: 1; border-radius: 0.35em;\">\n",
       "    Roger Waters\n",
       "    <span style=\"font-size: 0.8em; font-weight: bold; line-height: 1; border-radius: 0.35em; vertical-align: middle; margin-left: 0.5rem\">PER</span>\n",
       "</mark>\n",
       " em \n",
       "<mark class=\"entity\" style=\"background: #ff9561; padding: 0.45em 0.6em; margin: 0 0.25em; line-height: 1; border-radius: 0.35em;\">\n",
       "    São Paulo\n",
       "    <span style=\"font-size: 0.8em; font-weight: bold; line-height: 1; border-radius: 0.35em; vertical-align: middle; margin-left: 0.5rem\">LOC</span>\n",
       "</mark>\n",
       ". Felizmente, eu conseguir dar uma passada no \n",
       "<mark class=\"entity\" style=\"background: #7aecec; padding: 0.45em 0.6em; margin: 0 0.25em; line-height: 1; border-radius: 0.35em;\">\n",
       "    Kidoairaku\n",
       "    <span style=\"font-size: 0.8em; font-weight: bold; line-height: 1; border-radius: 0.35em; vertical-align: middle; margin-left: 0.5rem\">ORG</span>\n",
       "</mark>\n",
       ", meu restaurante japonês favorito lá.</div></span>"
      ],
      "text/plain": [
       "<IPython.core.display.HTML object>"
      ]
     },
     "metadata": {},
     "output_type": "display_data"
    }
   ],
   "source": [
    "# Import the spaCy library and the displacy module for visualizing named entities\n",
    "import spacy\n",
    "from spacy import displacy\n",
    "\n",
    "# Load the Portuguese language model 'pt_core_news_lg'\n",
    "# Note: You can also use 'pt_core_news_sm' for a smaller model. To install it, run: python -m spacy download pt_core_news_lg\n",
    "nlp = spacy.load('pt_core_news_lg')\n",
    "\n",
    "# Define a text example containing various entities such as names, locations, and organizations\n",
    "text_example = (\n",
    "    \"Meu nome é Elias Jacob e eu moro em Natal, Rio Grande do Norte. Eu trabalho no Instituto Metrópole Digital, \"\n",
    "    \"que é a unidade mais bacana da UFRN. Desde 2021 eu também trabalho como Corregedor da UFRN. Quando a pandemia \"\n",
    "    \"começou, no início de 2020, eu estava com as malas prontas para uma viagem de férias para o Japão. Eu até fui \"\n",
    "    \"buscar meu visto no Consulado em Recife, mas, quando chegou mais perto da viagem, meus voos foram todos cancelados \"\n",
    "    \"pela United Airlines e eu não viajei. No dia 11 de novembro de 2023, eu fui no show do Roger Waters em São Paulo. \"\n",
    "    \"Felizmente, eu conseguir dar uma passada no Kidoairaku, meu restaurante japonês favorito lá.\"\n",
    ")\n",
    "\n",
    "# Process the text example using the loaded spaCy model to create a Doc object\n",
    "doc = nlp(text_example)\n",
    "\n",
    "# Render the named entities in the text using displacy with the 'ent' style\n",
    "# 'jupyter=True' ensures the visualization is displayed correctly in a Jupyter notebook\n",
    "displacy.render(doc, style='ent', jupyter=True)"
   ]
  },
  {
   "cell_type": "markdown",
   "metadata": {},
   "source": [
    "\n",
    "In fact, when we load a Spacy model, we're essentially leveraging a pretrained model previously trained by Spacy developers to recognize specific entities such as: LOC, MISC, ORG, PER. \n"
   ]
  },
  {
   "cell_type": "markdown",
   "metadata": {},
   "source": [
    "## Harnessing the Power of HuggingFace Transformers for NLP Tasks\n",
    "\n",
    "The [HuggingFace Transformers](https://huggingface.co/transformers/) library stands as one of the most comprehensive libraries crafted specifically to support Natural Language Processing (NLP) tasks. This powerful tool provides access to a vast collection of pre-trained models that have been fine-tuned on an assortment of NLP tasks. These tasks range from text classification, question-answering, and named entity recognition to text generation, and much more.\n",
    "\n",
    "What makes HuggingFace Transformers truly remarkable is its compatibility with popular deep learning frameworks like PyTorch and TensorFlow. This implies that with just a handful of lines of code, we can harness these state-of-the-art pre-trained models and execute complex NLP tasks such as Named Entity Recognition (NER) on our datasets.\n",
    "\n",
    "Here's a step-by-step guide to illustrate how we can utilize HuggingFace Transformers:\n",
    "\n",
    "### Step 1: Accessing HuggingFace's Model Repository\n",
    "\n",
    "Our journey begins by visiting the [HuggingFace model repository](https://huggingface.co/models), which serves as a treasure trove of various pre-trained models ready for use.\n",
    "\n",
    "### Step 2: Filtering Models Based on Task and Language\n",
    "\n",
    "Once we're at the repository, we will be presented with various options to filter the available models. For our purpose of performing Token Classification (NER is a form of token classification) in Portuguese, we need to set the task filter to 'Token Classification' and the language filter to 'Portuguese'.\n",
    "\n",
    "### Step 3: Selecting the Right Model \n",
    "\n",
    "Having applied the filters, we now get to choose the specific model suitable for our data. Here are some model suggestions based on their specializations:\n",
    "\n",
    "* [Clinical NER PT - Diagnostic](https://huggingface.co/pucpr/clinicalnerpt-diagnostic)\n",
    "* [Clinical NER PT - Disorder](https://huggingface.co/pucpr/clinicalnerpt-disorder)\n",
    "* [Clinical NER PT - Disease](https://huggingface.co/pucpr/clinicalnerpt-disease)\n",
    "* [Clinical NER PT - Chemical](https://huggingface.co/pucpr/clinicalnerpt-chemical)\n",
    "* [Clinical NER PT - Laboratory](https://huggingface.co/pucpr/clinicalnerpt-laboratory)\n",
    "* [Clinical NER PT - Finding](https://huggingface.co/pucpr/clinicalnerpt-finding)\n",
    "* [Clinical NER PT - Medical](https://huggingface.co/pucpr/clinicalnerpt-medical)\n",
    "* [Clinical NER PT - Procedure](https://huggingface.co/pucpr/clinicalnerpt-procedure)\n",
    "* [Clinical NER PT - Healthcare](https://huggingface.co/pucpr/clinicalnerpt-healthcare)\n",
    "* [TempClin BioBertPT - All](https://huggingface.co/pucpr-br/tempclin-biobertpt-all)\n",
    "\n",
    "These links lead towards the detailed overview of each model, including their usage scripts, which you can directly apply to your data.\n",
    "\n",
    "This comprehensive guide hopefully clarifies not just the importance but also the process of implementing HuggingFace Transformers for NLP tasks such as NER."
   ]
  },
  {
   "cell_type": "code",
   "execution_count": 40,
   "metadata": {},
   "outputs": [
    {
     "name": "stdout",
     "output_type": "stream",
     "text": [
      "10:00: AVALIADO RAIO-X, SNE MAL POSICIONADA, REPASSADA SEM INTERCORRÊNCIA NO PROCEDIMENTO. AUSCULTA ABDOMINAL POSITIVA. RETIRO FIO GUIA, SOLICITO RAIO-X PARA AVALIAÇÃO DA POSIÇÃO. 17:50: CLIENTE RELATOU CEFALÉIA NO PERÍODO DA MANHÃ E FOI MEDICADO. CONSCIENTE, PUPILAS ISOCÓRICAS FOTORREAGENTES, COMUNICATIVO, EUPNÉICO, REPOUSO NO LEITO, ACEITANDO BEM A DIETA, SEM ACESSO PERIFÉRICO, APRESENTANDO EDEMA EM OMBRO E, MANTENDO TIPÓIA DE ATADURA EM MSE, ABDÔMEN PLANO E FLÁCIDO, ELIMINAÇÕES PRESENTES. 20:50 h: Paciente com cuff furado, realizado troca de TOT, instalado TOT 7.5, VM modo controlado VC 500, PEEP 07, FIO2 a 50%. 22:30h: ESQUEMA DE SUPERVISÃO NOTURNA: TRAQUEOSTOMIZADO, EM DESMAME VENTILATÓRIO EM PS DE 17, PEEP 5, FIO2 50%. PERMANECE EXTREMAMENTE AGITADO (não responde à sedação intermitente). REINICIADO  DORMONID 7 ML/H, FENTANIL 2 ML/H (continua não respondendo). PERMANECE AGITADO, ARRANCOU SOE. ACESSO VENOSO PERIFÉRICO EM MSD COM PLANO BÁSICO DE HIDRATAÇÃO + SEDAÇÃO. POLISSECRETIVO (mantendo trach care). FO SEM SINAIS FLOGÍSTICOS EM FACE, EDEMA EM FACE LD. MONITORIZAÇÃO DE MÚLTIPLOS PARÂMETROS CONFORME ROTINA DA UTI. DIURESE EM UROPEN. 23:30 h: Retorna do CC, onde realizou relaparotomia exploradora, instalado sistema de aspiração fechado em traqueostomia (trach care) no CC, trajeto de volta do CC sem intercorrências, mantém monitorização de parâmetros, TOT nº 7,5 em rima 22, VM modo VCV 440ml, peep 6, fio2 a 40%, pupilas isocóricas fotorreagentes, SNG com débito em média quantidade de aspecto borra de café, diurese via SVD em média quantidade, sem grumos, de cor amarelo claro, PAM em radial esquerda, acesso venoso central em subclávia à direita, evacuação ausente no período.\n"
     ]
    }
   ],
   "source": [
    "with open('data/healthcare/example_medical_raw.txt', 'r') as f:\n",
    "    txt_example = f.read()\n",
    "\n",
    "print(txt_example)"
   ]
  },
  {
   "cell_type": "code",
   "execution_count": 41,
   "metadata": {},
   "outputs": [
    {
     "name": "stderr",
     "output_type": "stream",
     "text": [
      "/home/jacob/miniforge3/envs/imd1107/lib/python3.11/site-packages/transformers/tokenization_utils_base.py:1601: FutureWarning: `clean_up_tokenization_spaces` was not set. It will be set to `True` by default. This behavior will be depracted in transformers v4.45, and will be then set to `False` by default. For more details check this issue: https://github.com/huggingface/transformers/issues/31884\n",
      "  warnings.warn(\n"
     ]
    }
   ],
   "source": [
    "from transformers import pipeline, AutoModelForTokenClassification, AutoTokenizer\n",
    "\n",
    "# Define the model name for the clinical named entity recognition (NER) task\n",
    "model_name = 'pucpr/clinicalnerpt-chemical'\n",
    "\n",
    "# Load the tokenizer associated with the specified model\n",
    "tokenizer = AutoTokenizer.from_pretrained(model_name)\n",
    "\n",
    "# Load the pre-trained model for token classification\n",
    "model = AutoModelForTokenClassification.from_pretrained(model_name)\n",
    "\n",
    "# Create a pipeline for named entity recognition (NER) using the loaded model and tokenizer\n",
    "# 'aggregation_strategy' is set to 'first' to aggregate tokens into entities based on the first token\n",
    "# 'device=-1' indicates that the pipeline should run on the CPU (use 'device=0' for GPU)\n",
    "nlp = pipeline('ner', model=model, tokenizer=tokenizer, aggregation_strategy='first', device=-1)"
   ]
  },
  {
   "cell_type": "code",
   "execution_count": 42,
   "metadata": {},
   "outputs": [
    {
     "data": {
      "text/plain": [
       "[{'entity_group': 'ChemicalDrugs',\n",
       "  'score': 0.93268013,\n",
       "  'word': 'dormonid',\n",
       "  'start': 817,\n",
       "  'end': 825},\n",
       " {'entity_group': 'ChemicalDrugs',\n",
       "  'score': 0.9052683,\n",
       "  'word': 'fentanil',\n",
       "  'start': 834,\n",
       "  'end': 842}]"
      ]
     },
     "execution_count": 42,
     "metadata": {},
     "output_type": "execute_result"
    }
   ],
   "source": [
    "entities = nlp(txt_example)\n",
    "entities"
   ]
  },
  {
   "cell_type": "code",
   "execution_count": 43,
   "metadata": {},
   "outputs": [
    {
     "data": {
      "text/plain": [
       "['#008000', '#800000', '#FFFF00', '#A52A2A', '#00FFFF']"
      ]
     },
     "execution_count": 43,
     "metadata": {},
     "output_type": "execute_result"
    }
   ],
   "source": [
    "import random\n",
    "from typing import List\n",
    "\n",
    "def get_random_colors(num_colors: int) -> List[str]:\n",
    "    \"\"\"\n",
    "    Returns a list of random colors from a predefined set of color codes.\n",
    "\n",
    "    Args:\n",
    "        num_colors (int): The number of random colors to return. Must be less than or equal to the number of available colors.\n",
    "\n",
    "    Returns:\n",
    "        List[str]: A list of random color codes in hexadecimal format.\n",
    "\n",
    "    Raises:\n",
    "        AssertionError: If num_colors is greater than the number of available colors.\n",
    "\n",
    "    Example:\n",
    "        >>> get_random_colors(5)\n",
    "        ['#FF0000', '#00FF00', '#0000FF', '#FFFF00', '#00FFFF']\n",
    "    \"\"\"\n",
    "    # Predefined list of color codes\n",
    "    color_codes = [\n",
    "        '#FF0000',  # Red\n",
    "        '#00FF00',  # Lime\n",
    "        '#0000FF',  # Blue\n",
    "        '#FFFF00',  # Yellow\n",
    "        '#00FFFF',  # Aqua\n",
    "        '#FF00FF',  # Fuchsia\n",
    "        '#C0C0C0',  # Silver\n",
    "        '#808080',  # Gray\n",
    "        '#800000',  # Maroon\n",
    "        '#808000',  # Olive\n",
    "        '#008000',  # Green\n",
    "        '#800080',  # Purple\n",
    "        '#008080',  # Teal\n",
    "        '#000080',  # Navy\n",
    "        '#FFA500',  # Orange\n",
    "        '#A52A2A',  # Brown\n",
    "        '#8B4513',  # SaddleBrown\n",
    "        '#5F9EA0',  # CadetBlue\n",
    "        '#7FFF00',  # Chartreuse\n",
    "        '#D2691E',  # Chocolate\n",
    "        '#FF7F50',  # Coral\n",
    "        '#6495ED',  # CornflowerBlue\n",
    "        '#DC143C',  # Crimson\n",
    "        '#00FFFF',  # Cyan\n",
    "        '#00008B',  # DarkBlue\n",
    "        '#008B8B',  # DarkCyan\n",
    "        '#B8860B',  # DarkGoldenRod\n",
    "        '#A9A9A9'   # DarkGray\n",
    "    ]\n",
    "\n",
    "    # Ensure the requested number of colors does not exceed the available colors\n",
    "    assert num_colors <= len(color_codes), f'You can only get up to {len(color_codes)} colors'\n",
    "\n",
    "    # Return a random sample of the requested number of colors\n",
    "    return random.sample(color_codes, num_colors)\n",
    "\n",
    "# Example usage\n",
    "get_random_colors(5)"
   ]
  },
  {
   "cell_type": "code",
   "execution_count": 44,
   "metadata": {},
   "outputs": [],
   "source": [
    "from typing import List, Tuple, Dict, Optional\n",
    "from spacy import displacy\n",
    "\n",
    "def render_named_entities(text: str, entity_spans: List[Tuple[int, int, str]], colors: Optional[Dict[str, str]] = None) -> None:\n",
    "    \"\"\"\n",
    "    Render named entities in the text using displaCy.\n",
    "\n",
    "    Args:\n",
    "        text (str): The text to render.\n",
    "        entity_spans (List[Tuple[int, int, str]]): A list of tuples, each containing the start index, end index, and type of an entity.\n",
    "        colors (Optional[Dict[str, str]]): A dictionary mapping entity types to colors. If None, random colors will be used.\n",
    "\n",
    "    Returns:\n",
    "        None\n",
    "\n",
    "    Example:\n",
    "        >>> text = \"John Doe works at OpenAI.\"\n",
    "        >>> entity_spans = [(0, 8, 'PERSON'), (18, 24, 'ORG')]\n",
    "        >>> render_named_entities(text, entity_spans)\n",
    "    \"\"\"\n",
    "    # If no colors are provided, generate random colors for each entity type\n",
    "    if colors is None:\n",
    "        entity_types = list(set([span[2] for span in entity_spans]))\n",
    "        random_colors = get_random_colors(len(entity_types))\n",
    "        colors = {entity_type: random_colors[i] for i, entity_type in enumerate(entity_types)}\n",
    "\n",
    "    # Define the options for displaCy visualization\n",
    "    displacy_options = {\"ents\": list(colors.keys()), \"colors\": colors}\n",
    "\n",
    "    # Prepare the data for displaCy rendering\n",
    "    displacy_data = [{\"text\": text, \"ents\": [{\"start\": span[0], \"end\": span[1], \"label\": span[2]} for span in entity_spans]}]\n",
    "\n",
    "    # Render the named entities in the text using displaCy\n",
    "    displacy.render(displacy_data, style=\"ent\", manual=True, jupyter=True, options=displacy_options)"
   ]
  },
  {
   "cell_type": "code",
   "execution_count": 45,
   "metadata": {},
   "outputs": [],
   "source": [
    "from typing import List, Tuple, Dict, Optional\n",
    "from transformers import Pipeline\n",
    "\n",
    "def perform_inference_and_render_entities(huggingface_pipeline: Pipeline, text: str, colors: Optional[Dict[str, str]] = None) -> None:\n",
    "    \"\"\"\n",
    "    Perform inference using a Hugging Face pipeline and render the entities in the text.\n",
    "\n",
    "    Args:\n",
    "        huggingface_pipeline (Pipeline): The Hugging Face pipeline to use for inference.\n",
    "        text (str): The text to perform inference on and render.\n",
    "        colors (Optional[Dict[str, str]]): A dictionary mapping entity types to colors. If None, random colors will be used.\n",
    "\n",
    "    Returns:\n",
    "        None\n",
    "    \"\"\"\n",
    "    # Perform inference using the Hugging Face pipeline\n",
    "    extracted_entities = huggingface_pipeline(text)\n",
    "    \n",
    "    # Prepare a list of entity spans\n",
    "    entity_spans = []\n",
    "    for entity in extracted_entities:\n",
    "        entity_spans.append((entity['start'], entity['end'], entity['entity_group']))\n",
    "    \n",
    "    # Render the entities in the text\n",
    "    render_named_entities(text, entity_spans, colors)"
   ]
  },
  {
   "cell_type": "code",
   "execution_count": 46,
   "metadata": {},
   "outputs": [
    {
     "name": "stdout",
     "output_type": "stream",
     "text": [
      "Loading model pucpr/clinicalnerpt-diagnostic\n"
     ]
    },
    {
     "data": {
      "application/vnd.jupyter.widget-view+json": {
       "model_id": "97c1ff9ea67c49a39886a1d60af9bbc0",
       "version_major": 2,
       "version_minor": 0
      },
      "text/plain": [
       "tokenizer_config.json:   0%|          | 0.00/151 [00:00<?, ?B/s]"
      ]
     },
     "metadata": {},
     "output_type": "display_data"
    },
    {
     "data": {
      "application/vnd.jupyter.widget-view+json": {
       "model_id": "e74adc44730e47d1b15e2df69cc56dd0",
       "version_major": 2,
       "version_minor": 0
      },
      "text/plain": [
       "config.json:   0%|          | 0.00/1.08k [00:00<?, ?B/s]"
      ]
     },
     "metadata": {},
     "output_type": "display_data"
    },
    {
     "data": {
      "application/vnd.jupyter.widget-view+json": {
       "model_id": "bc0aede455604e1fbb6a7d2804080078",
       "version_major": 2,
       "version_minor": 0
      },
      "text/plain": [
       "vocab.txt:   0%|          | 0.00/996k [00:00<?, ?B/s]"
      ]
     },
     "metadata": {},
     "output_type": "display_data"
    },
    {
     "data": {
      "application/vnd.jupyter.widget-view+json": {
       "model_id": "8bff0b78836441f28af85395b820e64a",
       "version_major": 2,
       "version_minor": 0
      },
      "text/plain": [
       "special_tokens_map.json:   0%|          | 0.00/112 [00:00<?, ?B/s]"
      ]
     },
     "metadata": {},
     "output_type": "display_data"
    },
    {
     "data": {
      "application/vnd.jupyter.widget-view+json": {
       "model_id": "3b51538ae5ae4ee19b70f78fb4412c71",
       "version_major": 2,
       "version_minor": 0
      },
      "text/plain": [
       "pytorch_model.bin:   0%|          | 0.00/709M [00:00<?, ?B/s]"
      ]
     },
     "metadata": {},
     "output_type": "display_data"
    },
    {
     "name": "stdout",
     "output_type": "stream",
     "text": [
      "Loading model pucpr/clinicalnerpt-disorder\n",
      "Loading model pucpr/clinicalnerpt-disease\n"
     ]
    },
    {
     "data": {
      "application/vnd.jupyter.widget-view+json": {
       "model_id": "4194da6494674ca782bc1f4af87ce199",
       "version_major": 2,
       "version_minor": 0
      },
      "text/plain": [
       "tokenizer_config.json:   0%|          | 0.00/151 [00:00<?, ?B/s]"
      ]
     },
     "metadata": {},
     "output_type": "display_data"
    },
    {
     "data": {
      "application/vnd.jupyter.widget-view+json": {
       "model_id": "f72183da4f2e47f196e3be6267fdc99e",
       "version_major": 2,
       "version_minor": 0
      },
      "text/plain": [
       "config.json:   0%|          | 0.00/1.07k [00:00<?, ?B/s]"
      ]
     },
     "metadata": {},
     "output_type": "display_data"
    },
    {
     "data": {
      "application/vnd.jupyter.widget-view+json": {
       "model_id": "f19c96d912274039a0c32c46ba8600f9",
       "version_major": 2,
       "version_minor": 0
      },
      "text/plain": [
       "vocab.txt:   0%|          | 0.00/996k [00:00<?, ?B/s]"
      ]
     },
     "metadata": {},
     "output_type": "display_data"
    },
    {
     "data": {
      "application/vnd.jupyter.widget-view+json": {
       "model_id": "ff79962c38514247be64452f48fc389e",
       "version_major": 2,
       "version_minor": 0
      },
      "text/plain": [
       "special_tokens_map.json:   0%|          | 0.00/112 [00:00<?, ?B/s]"
      ]
     },
     "metadata": {},
     "output_type": "display_data"
    },
    {
     "data": {
      "application/vnd.jupyter.widget-view+json": {
       "model_id": "d4628845eee94538b9fd53fc8936a5ae",
       "version_major": 2,
       "version_minor": 0
      },
      "text/plain": [
       "pytorch_model.bin:   0%|          | 0.00/709M [00:00<?, ?B/s]"
      ]
     },
     "metadata": {},
     "output_type": "display_data"
    },
    {
     "name": "stdout",
     "output_type": "stream",
     "text": [
      "Loading model pucpr/clinicalnerpt-chemical\n",
      "Loading model pucpr/clinicalnerpt-laboratory\n"
     ]
    },
    {
     "data": {
      "application/vnd.jupyter.widget-view+json": {
       "model_id": "7da713f7fcb54a7dbe2c7dc055f97efa",
       "version_major": 2,
       "version_minor": 0
      },
      "text/plain": [
       "tokenizer_config.json:   0%|          | 0.00/151 [00:00<?, ?B/s]"
      ]
     },
     "metadata": {},
     "output_type": "display_data"
    },
    {
     "data": {
      "application/vnd.jupyter.widget-view+json": {
       "model_id": "e30a346a9b0b458c91408133ebad7e36",
       "version_major": 2,
       "version_minor": 0
      },
      "text/plain": [
       "config.json:   0%|          | 0.00/1.09k [00:00<?, ?B/s]"
      ]
     },
     "metadata": {},
     "output_type": "display_data"
    },
    {
     "data": {
      "application/vnd.jupyter.widget-view+json": {
       "model_id": "7f8f884151934f4fad63f2b0a5513d13",
       "version_major": 2,
       "version_minor": 0
      },
      "text/plain": [
       "vocab.txt:   0%|          | 0.00/996k [00:00<?, ?B/s]"
      ]
     },
     "metadata": {},
     "output_type": "display_data"
    },
    {
     "data": {
      "application/vnd.jupyter.widget-view+json": {
       "model_id": "5544fe7b806e4c798b60e3bbc2357bfa",
       "version_major": 2,
       "version_minor": 0
      },
      "text/plain": [
       "special_tokens_map.json:   0%|          | 0.00/112 [00:00<?, ?B/s]"
      ]
     },
     "metadata": {},
     "output_type": "display_data"
    },
    {
     "data": {
      "application/vnd.jupyter.widget-view+json": {
       "model_id": "611535465b544c91af199164da0569fa",
       "version_major": 2,
       "version_minor": 0
      },
      "text/plain": [
       "pytorch_model.bin:   0%|          | 0.00/709M [00:00<?, ?B/s]"
      ]
     },
     "metadata": {},
     "output_type": "display_data"
    },
    {
     "name": "stdout",
     "output_type": "stream",
     "text": [
      "Loading model pucpr/clinicalnerpt-finding\n"
     ]
    },
    {
     "data": {
      "application/vnd.jupyter.widget-view+json": {
       "model_id": "1f9a800755214eaa8676d292667fc415",
       "version_major": 2,
       "version_minor": 0
      },
      "text/plain": [
       "tokenizer_config.json:   0%|          | 0.00/151 [00:00<?, ?B/s]"
      ]
     },
     "metadata": {},
     "output_type": "display_data"
    },
    {
     "data": {
      "application/vnd.jupyter.widget-view+json": {
       "model_id": "1c946d149892420b9c2e2fd90e376d0a",
       "version_major": 2,
       "version_minor": 0
      },
      "text/plain": [
       "config.json:   0%|          | 0.00/1.03k [00:00<?, ?B/s]"
      ]
     },
     "metadata": {},
     "output_type": "display_data"
    },
    {
     "data": {
      "application/vnd.jupyter.widget-view+json": {
       "model_id": "a1b5392f59834a65bd8da1ed32c31720",
       "version_major": 2,
       "version_minor": 0
      },
      "text/plain": [
       "vocab.txt:   0%|          | 0.00/996k [00:00<?, ?B/s]"
      ]
     },
     "metadata": {},
     "output_type": "display_data"
    },
    {
     "data": {
      "application/vnd.jupyter.widget-view+json": {
       "model_id": "2c5cc28755194d989e2613b6d6bcbe13",
       "version_major": 2,
       "version_minor": 0
      },
      "text/plain": [
       "special_tokens_map.json:   0%|          | 0.00/112 [00:00<?, ?B/s]"
      ]
     },
     "metadata": {},
     "output_type": "display_data"
    },
    {
     "data": {
      "application/vnd.jupyter.widget-view+json": {
       "model_id": "6b9e85eb6f8845af9605eb6ee6f3d605",
       "version_major": 2,
       "version_minor": 0
      },
      "text/plain": [
       "pytorch_model.bin:   0%|          | 0.00/709M [00:00<?, ?B/s]"
      ]
     },
     "metadata": {},
     "output_type": "display_data"
    },
    {
     "name": "stdout",
     "output_type": "stream",
     "text": [
      "Loading model pucpr/clinicalnerpt-medical\n"
     ]
    },
    {
     "data": {
      "application/vnd.jupyter.widget-view+json": {
       "model_id": "bfa0efb385b24102b249a1b2b5bb81cd",
       "version_major": 2,
       "version_minor": 0
      },
      "text/plain": [
       "tokenizer_config.json:   0%|          | 0.00/151 [00:00<?, ?B/s]"
      ]
     },
     "metadata": {},
     "output_type": "display_data"
    },
    {
     "data": {
      "application/vnd.jupyter.widget-view+json": {
       "model_id": "1c09e41361f84d80a166043cf8ee08a2",
       "version_major": 2,
       "version_minor": 0
      },
      "text/plain": [
       "config.json:   0%|          | 0.00/1.05k [00:00<?, ?B/s]"
      ]
     },
     "metadata": {},
     "output_type": "display_data"
    },
    {
     "data": {
      "application/vnd.jupyter.widget-view+json": {
       "model_id": "205fe9f784d540fa885800813c1c3898",
       "version_major": 2,
       "version_minor": 0
      },
      "text/plain": [
       "vocab.txt:   0%|          | 0.00/996k [00:00<?, ?B/s]"
      ]
     },
     "metadata": {},
     "output_type": "display_data"
    },
    {
     "data": {
      "application/vnd.jupyter.widget-view+json": {
       "model_id": "c577070b600e404498aa52dfdfafde3b",
       "version_major": 2,
       "version_minor": 0
      },
      "text/plain": [
       "special_tokens_map.json:   0%|          | 0.00/112 [00:00<?, ?B/s]"
      ]
     },
     "metadata": {},
     "output_type": "display_data"
    },
    {
     "data": {
      "application/vnd.jupyter.widget-view+json": {
       "model_id": "cb28076754d049e3b5ec2d06fba17ec7",
       "version_major": 2,
       "version_minor": 0
      },
      "text/plain": [
       "pytorch_model.bin:   0%|          | 0.00/709M [00:00<?, ?B/s]"
      ]
     },
     "metadata": {},
     "output_type": "display_data"
    },
    {
     "name": "stdout",
     "output_type": "stream",
     "text": [
      "Loading model pucpr/clinicalnerpt-procedure\n"
     ]
    },
    {
     "data": {
      "application/vnd.jupyter.widget-view+json": {
       "model_id": "72fce0cba50c41a9bfccd2971d85476c",
       "version_major": 2,
       "version_minor": 0
      },
      "text/plain": [
       "tokenizer_config.json:   0%|          | 0.00/151 [00:00<?, ?B/s]"
      ]
     },
     "metadata": {},
     "output_type": "display_data"
    },
    {
     "data": {
      "application/vnd.jupyter.widget-view+json": {
       "model_id": "9c21950c1b1c45b3be07de9899e9e285",
       "version_major": 2,
       "version_minor": 0
      },
      "text/plain": [
       "config.json:   0%|          | 0.00/1.04k [00:00<?, ?B/s]"
      ]
     },
     "metadata": {},
     "output_type": "display_data"
    },
    {
     "data": {
      "application/vnd.jupyter.widget-view+json": {
       "model_id": "74a0623612d349338f7276f2a92b7e1b",
       "version_major": 2,
       "version_minor": 0
      },
      "text/plain": [
       "vocab.txt:   0%|          | 0.00/996k [00:00<?, ?B/s]"
      ]
     },
     "metadata": {},
     "output_type": "display_data"
    },
    {
     "data": {
      "application/vnd.jupyter.widget-view+json": {
       "model_id": "0b8645157df14f3097460cb1179807ea",
       "version_major": 2,
       "version_minor": 0
      },
      "text/plain": [
       "special_tokens_map.json:   0%|          | 0.00/112 [00:00<?, ?B/s]"
      ]
     },
     "metadata": {},
     "output_type": "display_data"
    },
    {
     "data": {
      "application/vnd.jupyter.widget-view+json": {
       "model_id": "7571b8f3fa914e698cfff7810e18a30d",
       "version_major": 2,
       "version_minor": 0
      },
      "text/plain": [
       "pytorch_model.bin:   0%|          | 0.00/709M [00:00<?, ?B/s]"
      ]
     },
     "metadata": {},
     "output_type": "display_data"
    },
    {
     "name": "stdout",
     "output_type": "stream",
     "text": [
      "Loading model pucpr/clinicalnerpt-healthcare\n"
     ]
    },
    {
     "data": {
      "application/vnd.jupyter.widget-view+json": {
       "model_id": "faabdb6b19d4426bb51e37e35fbdda87",
       "version_major": 2,
       "version_minor": 0
      },
      "text/plain": [
       "tokenizer_config.json:   0%|          | 0.00/151 [00:00<?, ?B/s]"
      ]
     },
     "metadata": {},
     "output_type": "display_data"
    },
    {
     "data": {
      "application/vnd.jupyter.widget-view+json": {
       "model_id": "4b5435678b4e4c768f4cfb6496e8f233",
       "version_major": 2,
       "version_minor": 0
      },
      "text/plain": [
       "config.json:   0%|          | 0.00/1.07k [00:00<?, ?B/s]"
      ]
     },
     "metadata": {},
     "output_type": "display_data"
    },
    {
     "data": {
      "application/vnd.jupyter.widget-view+json": {
       "model_id": "02c2be41b3af419ebdb8660965c73b0b",
       "version_major": 2,
       "version_minor": 0
      },
      "text/plain": [
       "vocab.txt:   0%|          | 0.00/996k [00:00<?, ?B/s]"
      ]
     },
     "metadata": {},
     "output_type": "display_data"
    },
    {
     "data": {
      "application/vnd.jupyter.widget-view+json": {
       "model_id": "0bf2876f19f8449d87a87693dcacab5f",
       "version_major": 2,
       "version_minor": 0
      },
      "text/plain": [
       "special_tokens_map.json:   0%|          | 0.00/112 [00:00<?, ?B/s]"
      ]
     },
     "metadata": {},
     "output_type": "display_data"
    },
    {
     "data": {
      "application/vnd.jupyter.widget-view+json": {
       "model_id": "a07c58f8aece4ae4bd9239e5098f1b8b",
       "version_major": 2,
       "version_minor": 0
      },
      "text/plain": [
       "pytorch_model.bin:   0%|          | 0.00/709M [00:00<?, ?B/s]"
      ]
     },
     "metadata": {},
     "output_type": "display_data"
    },
    {
     "name": "stdout",
     "output_type": "stream",
     "text": [
      "Loading model pucpr-br/tempclin-biobertpt-all\n"
     ]
    },
    {
     "data": {
      "application/vnd.jupyter.widget-view+json": {
       "model_id": "35aab52a3f694bad8e9ffc879ba94ddb",
       "version_major": 2,
       "version_minor": 0
      },
      "text/plain": [
       "tokenizer_config.json:   0%|          | 0.00/621 [00:00<?, ?B/s]"
      ]
     },
     "metadata": {},
     "output_type": "display_data"
    },
    {
     "data": {
      "application/vnd.jupyter.widget-view+json": {
       "model_id": "88ced4b3227f4df09e321360d5f2ac5f",
       "version_major": 2,
       "version_minor": 0
      },
      "text/plain": [
       "vocab.txt:   0%|          | 0.00/996k [00:00<?, ?B/s]"
      ]
     },
     "metadata": {},
     "output_type": "display_data"
    },
    {
     "data": {
      "application/vnd.jupyter.widget-view+json": {
       "model_id": "3dd2246106154873bb5edc52c1a7aaec",
       "version_major": 2,
       "version_minor": 0
      },
      "text/plain": [
       "tokenizer.json:   0%|          | 0.00/2.92M [00:00<?, ?B/s]"
      ]
     },
     "metadata": {},
     "output_type": "display_data"
    },
    {
     "data": {
      "application/vnd.jupyter.widget-view+json": {
       "model_id": "5890c3da9ed44ac08ed72c67aab3014d",
       "version_major": 2,
       "version_minor": 0
      },
      "text/plain": [
       "special_tokens_map.json:   0%|          | 0.00/125 [00:00<?, ?B/s]"
      ]
     },
     "metadata": {},
     "output_type": "display_data"
    },
    {
     "data": {
      "application/vnd.jupyter.widget-view+json": {
       "model_id": "ecc3a48fe3844ed58ddf3ebcde8397fe",
       "version_major": 2,
       "version_minor": 0
      },
      "text/plain": [
       "config.json:   0%|          | 0.00/1.54k [00:00<?, ?B/s]"
      ]
     },
     "metadata": {},
     "output_type": "display_data"
    },
    {
     "data": {
      "application/vnd.jupyter.widget-view+json": {
       "model_id": "fd8cce7ddbec4930a3f3e00120378af3",
       "version_major": 2,
       "version_minor": 0
      },
      "text/plain": [
       "pytorch_model.bin:   0%|          | 0.00/709M [00:00<?, ?B/s]"
      ]
     },
     "metadata": {},
     "output_type": "display_data"
    }
   ],
   "source": [
    "from transformers import AutoTokenizer, AutoModelForTokenClassification, pipeline\n",
    "\n",
    "# Initialize an empty dictionary to store the loaded models\n",
    "models_dict = {}\n",
    "\n",
    "# List of model names to be loaded\n",
    "models_name_list = [\n",
    "    'pucpr/clinicalnerpt-diagnostic',\n",
    "    'pucpr/clinicalnerpt-disorder',\n",
    "    'pucpr/clinicalnerpt-disease',\n",
    "    'pucpr/clinicalnerpt-chemical',\n",
    "    'pucpr/clinicalnerpt-laboratory',\n",
    "    'pucpr/clinicalnerpt-finding',\n",
    "    'pucpr/clinicalnerpt-medical',\n",
    "    'pucpr/clinicalnerpt-procedure',\n",
    "    'pucpr/clinicalnerpt-healthcare',\n",
    "    'pucpr-br/tempclin-biobertpt-all',\n",
    "]\n",
    "\n",
    "# Loop through each model name in the list to load and initialize the models\n",
    "for model_name in models_name_list:\n",
    "    print(f'Loading model {model_name}')  # Print the name of the model being loaded\n",
    "    \n",
    "    # Load the tokenizer for the current model\n",
    "    tokenizer = AutoTokenizer.from_pretrained(model_name)\n",
    "    \n",
    "    # Load the pre-trained model for token classification\n",
    "    model = AutoModelForTokenClassification.from_pretrained(model_name)\n",
    "    \n",
    "    # Create a named entity recognition (NER) pipeline using the loaded model and tokenizer\n",
    "    # 'aggregation_strategy' is set to 'first' to aggregate tokens into entities based on the first token\n",
    "    # 'device=-1' indicates that the pipeline should run on the CPU (use 'device=0' for GPU)\n",
    "    nlp = pipeline('ner', model=model, tokenizer=tokenizer, aggregation_strategy='first', device=-1)\n",
    "    \n",
    "    # Store the NER pipeline in the dictionary with the model name as the key\n",
    "    models_dict[model_name] = nlp"
   ]
  },
  {
   "cell_type": "code",
   "execution_count": 47,
   "metadata": {},
   "outputs": [
    {
     "name": "stdout",
     "output_type": "stream",
     "text": [
      "Inference with model pucpr/clinicalnerpt-diagnostic\n"
     ]
    },
    {
     "data": {
      "text/html": [
       "<span class=\"tex2jax_ignore\"><div class=\"entities\" style=\"line-height: 2.5; direction: ltr\">10:00: AVALIADO \n",
       "<mark class=\"entity\" style=\"background: #FF0000; padding: 0.45em 0.6em; margin: 0 0.25em; line-height: 1; border-radius: 0.35em;\">\n",
       "    RAIO\n",
       "    <span style=\"font-size: 0.8em; font-weight: bold; line-height: 1; border-radius: 0.35em; vertical-align: middle; margin-left: 0.5rem\">DiagnosticProcedure</span>\n",
       "</mark>\n",
       "\n",
       "<mark class=\"entity\" style=\"background: #FF0000; padding: 0.45em 0.6em; margin: 0 0.25em; line-height: 1; border-radius: 0.35em;\">\n",
       "    -\n",
       "    <span style=\"font-size: 0.8em; font-weight: bold; line-height: 1; border-radius: 0.35em; vertical-align: middle; margin-left: 0.5rem\">DiagnosticProcedure</span>\n",
       "</mark>\n",
       "\n",
       "<mark class=\"entity\" style=\"background: #FF0000; padding: 0.45em 0.6em; margin: 0 0.25em; line-height: 1; border-radius: 0.35em;\">\n",
       "    X\n",
       "    <span style=\"font-size: 0.8em; font-weight: bold; line-height: 1; border-radius: 0.35em; vertical-align: middle; margin-left: 0.5rem\">DiagnosticProcedure</span>\n",
       "</mark>\n",
       ", SNE MAL POSICIONADA, REPASSADA SEM INTERCORRÊNCIA NO PROCEDIMENTO. \n",
       "<mark class=\"entity\" style=\"background: #FF0000; padding: 0.45em 0.6em; margin: 0 0.25em; line-height: 1; border-radius: 0.35em;\">\n",
       "    AUSCULTA ABDOMINAL POSITIVA\n",
       "    <span style=\"font-size: 0.8em; font-weight: bold; line-height: 1; border-radius: 0.35em; vertical-align: middle; margin-left: 0.5rem\">DiagnosticProcedure</span>\n",
       "</mark>\n",
       ". RETIRO FIO GUIA, SOLICITO \n",
       "<mark class=\"entity\" style=\"background: #FF0000; padding: 0.45em 0.6em; margin: 0 0.25em; line-height: 1; border-radius: 0.35em;\">\n",
       "    RAIO\n",
       "    <span style=\"font-size: 0.8em; font-weight: bold; line-height: 1; border-radius: 0.35em; vertical-align: middle; margin-left: 0.5rem\">DiagnosticProcedure</span>\n",
       "</mark>\n",
       "\n",
       "<mark class=\"entity\" style=\"background: #FF0000; padding: 0.45em 0.6em; margin: 0 0.25em; line-height: 1; border-radius: 0.35em;\">\n",
       "    -\n",
       "    <span style=\"font-size: 0.8em; font-weight: bold; line-height: 1; border-radius: 0.35em; vertical-align: middle; margin-left: 0.5rem\">DiagnosticProcedure</span>\n",
       "</mark>\n",
       "\n",
       "<mark class=\"entity\" style=\"background: #FF0000; padding: 0.45em 0.6em; margin: 0 0.25em; line-height: 1; border-radius: 0.35em;\">\n",
       "    X\n",
       "    <span style=\"font-size: 0.8em; font-weight: bold; line-height: 1; border-radius: 0.35em; vertical-align: middle; margin-left: 0.5rem\">DiagnosticProcedure</span>\n",
       "</mark>\n",
       " PARA AVALIAÇÃO DA POSIÇÃO. 17:50: CLIENTE RELATOU CEFALÉIA NO PERÍODO DA MANHÃ E FOI MEDICADO. CONSCIENTE, PUPILAS ISOCÓRICAS FOTORREAGENTES, COMUNICATIVO, EUPNÉICO, REPOUSO NO LEITO, ACEITANDO BEM A DIETA, SEM ACESSO PERIFÉRICO, APRESENTANDO EDEMA EM OMBRO E, MANTENDO TIPÓIA DE ATADURA EM MSE, ABDÔMEN PLANO E FLÁCIDO, ELIMINAÇÕES PRESENTES. 20:50 h: Paciente com cuff furado, realizado troca de TOT, instalado TOT 7.5, VM modo controlado VC 500, PEEP 07, FIO2 a 50%. 22:30h: ESQUEMA DE SUPERVISÃO NOTURNA: TRAQUEOSTOMIZADO, EM DESMAME VENTILATÓRIO EM PS DE 17, PEEP 5, FIO2 50%. PERMANECE EXTREMAMENTE AGITADO (não responde à sedação intermitente). REINICIADO  DORMONID 7 ML/H, FENTANIL 2 ML/H (continua não respondendo). PERMANECE AGITADO, ARRANCOU SOE. ACESSO VENOSO PERIFÉRICO EM MSD COM PLANO BÁSICO DE HIDRATAÇÃO + SEDAÇÃO. POLISSECRETIVO (mantendo trach care). FO SEM SINAIS FLOGÍSTICOS EM FACE, EDEMA EM FACE LD. \n",
       "<mark class=\"entity\" style=\"background: #FF0000; padding: 0.45em 0.6em; margin: 0 0.25em; line-height: 1; border-radius: 0.35em;\">\n",
       "    MONITORIZAÇÃO DE MÚLTIPLOS PARÂMETROS\n",
       "    <span style=\"font-size: 0.8em; font-weight: bold; line-height: 1; border-radius: 0.35em; vertical-align: middle; margin-left: 0.5rem\">DiagnosticProcedure</span>\n",
       "</mark>\n",
       " CONFORME ROTINA DA UTI. DIURESE EM UROPEN. 23:30 h: Retorna do CC, onde realizou relaparotomia exploradora, instalado sistema de aspiração fechado em traqueostomia (trach care) no CC, trajeto de volta do CC sem intercorrências, mantém \n",
       "<mark class=\"entity\" style=\"background: #FF0000; padding: 0.45em 0.6em; margin: 0 0.25em; line-height: 1; border-radius: 0.35em;\">\n",
       "    monitorização de parâmetros\n",
       "    <span style=\"font-size: 0.8em; font-weight: bold; line-height: 1; border-radius: 0.35em; vertical-align: middle; margin-left: 0.5rem\">DiagnosticProcedure</span>\n",
       "</mark>\n",
       ", TOT nº 7,5 em rima 22, VM modo VCV 440ml, peep 6, fio2 a 40%, pupilas isocóricas fotorreagentes, SNG com débito em média quantidade de aspecto borra de café, diurese via SVD em média quantidade, sem grumos, de cor amarelo claro, \n",
       "<mark class=\"entity\" style=\"background: #FF0000; padding: 0.45em 0.6em; margin: 0 0.25em; line-height: 1; border-radius: 0.35em;\">\n",
       "    PAM\n",
       "    <span style=\"font-size: 0.8em; font-weight: bold; line-height: 1; border-radius: 0.35em; vertical-align: middle; margin-left: 0.5rem\">DiagnosticProcedure</span>\n",
       "</mark>\n",
       " em radial esquerda, acesso venoso central em subclávia à direita, evacuação ausente no período.</div></span>"
      ],
      "text/plain": [
       "<IPython.core.display.HTML object>"
      ]
     },
     "metadata": {},
     "output_type": "display_data"
    },
    {
     "name": "stdout",
     "output_type": "stream",
     "text": [
      "\n",
      "\n",
      "\n",
      "\n",
      "\n",
      "Inference with model pucpr/clinicalnerpt-disorder\n"
     ]
    },
    {
     "data": {
      "text/html": [
       "<span class=\"tex2jax_ignore\"><div class=\"entities\" style=\"line-height: 2.5; direction: ltr\">10:00: AVALIADO RAIO-X, SNE MAL POSICIONADA, REPASSADA SEM \n",
       "<mark class=\"entity\" style=\"background: #6495ED; padding: 0.45em 0.6em; margin: 0 0.25em; line-height: 1; border-radius: 0.35em;\">\n",
       "    INTERCORRÊNCIA\n",
       "    <span style=\"font-size: 0.8em; font-weight: bold; line-height: 1; border-radius: 0.35em; vertical-align: middle; margin-left: 0.5rem\">Disorder</span>\n",
       "</mark>\n",
       " NO PROCEDIMENTO. \n",
       "<mark class=\"entity\" style=\"background: #6495ED; padding: 0.45em 0.6em; margin: 0 0.25em; line-height: 1; border-radius: 0.35em;\">\n",
       "    AUSCULTA\n",
       "    <span style=\"font-size: 0.8em; font-weight: bold; line-height: 1; border-radius: 0.35em; vertical-align: middle; margin-left: 0.5rem\">Disorder</span>\n",
       "</mark>\n",
       " ABDOMINAL POSITIVA. RETIRO FIO GUIA, SOLICITO RAIO-X PARA AVALIAÇÃO DA POSIÇÃO. 17:50: CLIENTE RELATOU \n",
       "<mark class=\"entity\" style=\"background: #6495ED; padding: 0.45em 0.6em; margin: 0 0.25em; line-height: 1; border-radius: 0.35em;\">\n",
       "    CEFALÉIA\n",
       "    <span style=\"font-size: 0.8em; font-weight: bold; line-height: 1; border-radius: 0.35em; vertical-align: middle; margin-left: 0.5rem\">Disorder</span>\n",
       "</mark>\n",
       " NO PERÍODO DA MANHÃ E FOI MEDICADO. \n",
       "<mark class=\"entity\" style=\"background: #6495ED; padding: 0.45em 0.6em; margin: 0 0.25em; line-height: 1; border-radius: 0.35em;\">\n",
       "    CONSCIENTE\n",
       "    <span style=\"font-size: 0.8em; font-weight: bold; line-height: 1; border-radius: 0.35em; vertical-align: middle; margin-left: 0.5rem\">Disorder</span>\n",
       "</mark>\n",
       ", \n",
       "<mark class=\"entity\" style=\"background: #6495ED; padding: 0.45em 0.6em; margin: 0 0.25em; line-height: 1; border-radius: 0.35em;\">\n",
       "    PUPILAS ISOCÓRICAS FOTORREAGENTES\n",
       "    <span style=\"font-size: 0.8em; font-weight: bold; line-height: 1; border-radius: 0.35em; vertical-align: middle; margin-left: 0.5rem\">Disorder</span>\n",
       "</mark>\n",
       ", \n",
       "<mark class=\"entity\" style=\"background: #6495ED; padding: 0.45em 0.6em; margin: 0 0.25em; line-height: 1; border-radius: 0.35em;\">\n",
       "    COMUNICATIVO\n",
       "    <span style=\"font-size: 0.8em; font-weight: bold; line-height: 1; border-radius: 0.35em; vertical-align: middle; margin-left: 0.5rem\">Disorder</span>\n",
       "</mark>\n",
       ", \n",
       "<mark class=\"entity\" style=\"background: #6495ED; padding: 0.45em 0.6em; margin: 0 0.25em; line-height: 1; border-radius: 0.35em;\">\n",
       "    EUPNÉICO\n",
       "    <span style=\"font-size: 0.8em; font-weight: bold; line-height: 1; border-radius: 0.35em; vertical-align: middle; margin-left: 0.5rem\">Disorder</span>\n",
       "</mark>\n",
       ", \n",
       "<mark class=\"entity\" style=\"background: #6495ED; padding: 0.45em 0.6em; margin: 0 0.25em; line-height: 1; border-radius: 0.35em;\">\n",
       "    REPOUSO NO LEITO\n",
       "    <span style=\"font-size: 0.8em; font-weight: bold; line-height: 1; border-radius: 0.35em; vertical-align: middle; margin-left: 0.5rem\">Disorder</span>\n",
       "</mark>\n",
       ", ACEITANDO \n",
       "<mark class=\"entity\" style=\"background: #6495ED; padding: 0.45em 0.6em; margin: 0 0.25em; line-height: 1; border-radius: 0.35em;\">\n",
       "    BEM\n",
       "    <span style=\"font-size: 0.8em; font-weight: bold; line-height: 1; border-radius: 0.35em; vertical-align: middle; margin-left: 0.5rem\">Disorder</span>\n",
       "</mark>\n",
       " A \n",
       "<mark class=\"entity\" style=\"background: #6495ED; padding: 0.45em 0.6em; margin: 0 0.25em; line-height: 1; border-radius: 0.35em;\">\n",
       "    DIETA\n",
       "    <span style=\"font-size: 0.8em; font-weight: bold; line-height: 1; border-radius: 0.35em; vertical-align: middle; margin-left: 0.5rem\">Disorder</span>\n",
       "</mark>\n",
       ", SEM ACESSO PERIFÉRICO, APRESENTANDO \n",
       "<mark class=\"entity\" style=\"background: #6495ED; padding: 0.45em 0.6em; margin: 0 0.25em; line-height: 1; border-radius: 0.35em;\">\n",
       "    EDEMA\n",
       "    <span style=\"font-size: 0.8em; font-weight: bold; line-height: 1; border-radius: 0.35em; vertical-align: middle; margin-left: 0.5rem\">Disorder</span>\n",
       "</mark>\n",
       " EM OMBRO E, MANTENDO TIPÓIA DE ATADURA EM MSE, ABDÔMEN \n",
       "<mark class=\"entity\" style=\"background: #6495ED; padding: 0.45em 0.6em; margin: 0 0.25em; line-height: 1; border-radius: 0.35em;\">\n",
       "    PLANO\n",
       "    <span style=\"font-size: 0.8em; font-weight: bold; line-height: 1; border-radius: 0.35em; vertical-align: middle; margin-left: 0.5rem\">Disorder</span>\n",
       "</mark>\n",
       " E \n",
       "<mark class=\"entity\" style=\"background: #6495ED; padding: 0.45em 0.6em; margin: 0 0.25em; line-height: 1; border-radius: 0.35em;\">\n",
       "    FLÁCIDO\n",
       "    <span style=\"font-size: 0.8em; font-weight: bold; line-height: 1; border-radius: 0.35em; vertical-align: middle; margin-left: 0.5rem\">Disorder</span>\n",
       "</mark>\n",
       ", \n",
       "<mark class=\"entity\" style=\"background: #6495ED; padding: 0.45em 0.6em; margin: 0 0.25em; line-height: 1; border-radius: 0.35em;\">\n",
       "    ELIMINAÇÕES PRESENTES\n",
       "    <span style=\"font-size: 0.8em; font-weight: bold; line-height: 1; border-radius: 0.35em; vertical-align: middle; margin-left: 0.5rem\">Disorder</span>\n",
       "</mark>\n",
       ". 20:50 h: Paciente com \n",
       "<mark class=\"entity\" style=\"background: #6495ED; padding: 0.45em 0.6em; margin: 0 0.25em; line-height: 1; border-radius: 0.35em;\">\n",
       "    cuff furado\n",
       "    <span style=\"font-size: 0.8em; font-weight: bold; line-height: 1; border-radius: 0.35em; vertical-align: middle; margin-left: 0.5rem\">Disorder</span>\n",
       "</mark>\n",
       ", realizado troca de TOT, instalado TOT 7.5, VM modo controlado VC 500, PEEP 07, FIO2 a 50%. 22:30h: ESQUEMA DE SUPERVISÃO NOTURNA: TRAQUEOSTOMIZADO, EM DESMAME VENTILATÓRIO EM PS DE 17, PEEP 5, FIO2 50%. PERMANECE \n",
       "<mark class=\"entity\" style=\"background: #6495ED; padding: 0.45em 0.6em; margin: 0 0.25em; line-height: 1; border-radius: 0.35em;\">\n",
       "    EXTREMAMENTE\n",
       "    <span style=\"font-size: 0.8em; font-weight: bold; line-height: 1; border-radius: 0.35em; vertical-align: middle; margin-left: 0.5rem\">Disorder</span>\n",
       "</mark>\n",
       " \n",
       "<mark class=\"entity\" style=\"background: #6495ED; padding: 0.45em 0.6em; margin: 0 0.25em; line-height: 1; border-radius: 0.35em;\">\n",
       "    AGITADO\n",
       "    <span style=\"font-size: 0.8em; font-weight: bold; line-height: 1; border-radius: 0.35em; vertical-align: middle; margin-left: 0.5rem\">Disorder</span>\n",
       "</mark>\n",
       " (não responde à sedação intermitente). REINICIADO  DORMONID 7 ML/H, FENTANIL 2 ML/H (continua não respondendo). PERMANECE \n",
       "<mark class=\"entity\" style=\"background: #6495ED; padding: 0.45em 0.6em; margin: 0 0.25em; line-height: 1; border-radius: 0.35em;\">\n",
       "    AGITADO\n",
       "    <span style=\"font-size: 0.8em; font-weight: bold; line-height: 1; border-radius: 0.35em; vertical-align: middle; margin-left: 0.5rem\">Disorder</span>\n",
       "</mark>\n",
       ", \n",
       "<mark class=\"entity\" style=\"background: #6495ED; padding: 0.45em 0.6em; margin: 0 0.25em; line-height: 1; border-radius: 0.35em;\">\n",
       "    ARRANCOU\n",
       "    <span style=\"font-size: 0.8em; font-weight: bold; line-height: 1; border-radius: 0.35em; vertical-align: middle; margin-left: 0.5rem\">Disorder</span>\n",
       "</mark>\n",
       " SOE. ACESSO VENOSO PERIFÉRICO EM MSD COM PLANO BÁSICO DE HIDRATAÇÃO + SEDAÇÃO. POLISSECRETIVO (mantendo trach care). \n",
       "<mark class=\"entity\" style=\"background: #6495ED; padding: 0.45em 0.6em; margin: 0 0.25em; line-height: 1; border-radius: 0.35em;\">\n",
       "    FO\n",
       "    <span style=\"font-size: 0.8em; font-weight: bold; line-height: 1; border-radius: 0.35em; vertical-align: middle; margin-left: 0.5rem\">Disorder</span>\n",
       "</mark>\n",
       " SEM \n",
       "<mark class=\"entity\" style=\"background: #6495ED; padding: 0.45em 0.6em; margin: 0 0.25em; line-height: 1; border-radius: 0.35em;\">\n",
       "    SINAIS FLOGÍSTICOS\n",
       "    <span style=\"font-size: 0.8em; font-weight: bold; line-height: 1; border-radius: 0.35em; vertical-align: middle; margin-left: 0.5rem\">Disorder</span>\n",
       "</mark>\n",
       " EM FACE, \n",
       "<mark class=\"entity\" style=\"background: #6495ED; padding: 0.45em 0.6em; margin: 0 0.25em; line-height: 1; border-radius: 0.35em;\">\n",
       "    EDEMA\n",
       "    <span style=\"font-size: 0.8em; font-weight: bold; line-height: 1; border-radius: 0.35em; vertical-align: middle; margin-left: 0.5rem\">Disorder</span>\n",
       "</mark>\n",
       " EM FACE LD. MONITORIZAÇÃO DE MÚLTIPLOS PARÂMETROS CONFORME ROTINA DA UTI. \n",
       "<mark class=\"entity\" style=\"background: #6495ED; padding: 0.45em 0.6em; margin: 0 0.25em; line-height: 1; border-radius: 0.35em;\">\n",
       "    DIURESE\n",
       "    <span style=\"font-size: 0.8em; font-weight: bold; line-height: 1; border-radius: 0.35em; vertical-align: middle; margin-left: 0.5rem\">Disorder</span>\n",
       "</mark>\n",
       " EM UROPEN. 23:30 h: Retorna do CC, onde realizou relaparotomia exploradora, instalado sistema de aspiração fechado em traqueostomia (trach care) no CC, trajeto de volta do CC sem \n",
       "<mark class=\"entity\" style=\"background: #6495ED; padding: 0.45em 0.6em; margin: 0 0.25em; line-height: 1; border-radius: 0.35em;\">\n",
       "    intercorrências\n",
       "    <span style=\"font-size: 0.8em; font-weight: bold; line-height: 1; border-radius: 0.35em; vertical-align: middle; margin-left: 0.5rem\">Disorder</span>\n",
       "</mark>\n",
       ", mantém monitorização de parâmetros, TOT nº 7,5 em rima 22, VM modo VCV 440ml, peep 6, fio2 a 40%, \n",
       "<mark class=\"entity\" style=\"background: #6495ED; padding: 0.45em 0.6em; margin: 0 0.25em; line-height: 1; border-radius: 0.35em;\">\n",
       "    pupilas isocóricas fotorreagentes\n",
       "    <span style=\"font-size: 0.8em; font-weight: bold; line-height: 1; border-radius: 0.35em; vertical-align: middle; margin-left: 0.5rem\">Disorder</span>\n",
       "</mark>\n",
       ", SNG com débito em média quantidade de \n",
       "<mark class=\"entity\" style=\"background: #6495ED; padding: 0.45em 0.6em; margin: 0 0.25em; line-height: 1; border-radius: 0.35em;\">\n",
       "    aspecto borra de café\n",
       "    <span style=\"font-size: 0.8em; font-weight: bold; line-height: 1; border-radius: 0.35em; vertical-align: middle; margin-left: 0.5rem\">Disorder</span>\n",
       "</mark>\n",
       ", \n",
       "<mark class=\"entity\" style=\"background: #6495ED; padding: 0.45em 0.6em; margin: 0 0.25em; line-height: 1; border-radius: 0.35em;\">\n",
       "    diurese\n",
       "    <span style=\"font-size: 0.8em; font-weight: bold; line-height: 1; border-radius: 0.35em; vertical-align: middle; margin-left: 0.5rem\">Disorder</span>\n",
       "</mark>\n",
       " via SVD em média quantidade, sem \n",
       "<mark class=\"entity\" style=\"background: #6495ED; padding: 0.45em 0.6em; margin: 0 0.25em; line-height: 1; border-radius: 0.35em;\">\n",
       "    grumos\n",
       "    <span style=\"font-size: 0.8em; font-weight: bold; line-height: 1; border-radius: 0.35em; vertical-align: middle; margin-left: 0.5rem\">Disorder</span>\n",
       "</mark>\n",
       ", de \n",
       "<mark class=\"entity\" style=\"background: #6495ED; padding: 0.45em 0.6em; margin: 0 0.25em; line-height: 1; border-radius: 0.35em;\">\n",
       "    cor amarelo claro\n",
       "    <span style=\"font-size: 0.8em; font-weight: bold; line-height: 1; border-radius: 0.35em; vertical-align: middle; margin-left: 0.5rem\">Disorder</span>\n",
       "</mark>\n",
       ", PAM em radial esquerda, acesso venoso central em subclávia à direita, evacuação ausente no período.</div></span>"
      ],
      "text/plain": [
       "<IPython.core.display.HTML object>"
      ]
     },
     "metadata": {},
     "output_type": "display_data"
    },
    {
     "name": "stdout",
     "output_type": "stream",
     "text": [
      "\n",
      "\n",
      "\n",
      "\n",
      "\n",
      "Inference with model pucpr/clinicalnerpt-disease\n"
     ]
    },
    {
     "data": {
      "text/html": [
       "<span class=\"tex2jax_ignore\"><div class=\"entities\" style=\"line-height: 2.5; direction: ltr\">10:00: AVALIADO RAIO-X, SNE MAL POSICIONADA, REPASSADA SEM INTERCORRÊNCIA NO PROCEDIMENTO. AUSCULTA ABDOMINAL POSITIVA. RETIRO FIO GUIA, SOLICITO RAIO-X PARA AVALIAÇÃO DA POSIÇÃO. 17:50: CLIENTE RELATOU CEFALÉIA NO PERÍODO DA MANHÃ E FOI MEDICADO. CONSCIENTE, PUPILAS ISOCÓRICAS FOTORREAGENTES, COMUNICATIVO, EUPNÉICO, REPOUSO NO LEITO, ACEITANDO BEM A DIETA, SEM ACESSO PERIFÉRICO, APRESENTANDO EDEMA EM OMBRO E, MANTENDO TIPÓIA DE ATADURA EM MSE, ABDÔMEN PLANO E FLÁCIDO, ELIMINAÇÕES PRESENTES. 20:50 h: Paciente com cuff furado, realizado troca de TOT, instalado TOT 7.5, VM modo controlado VC 500, PEEP 07, FIO2 a 50%. 22:30h: ESQUEMA DE SUPERVISÃO NOTURNA: TRAQUEOSTOMIZADO, EM DESMAME VENTILATÓRIO EM PS DE 17, PEEP 5, FIO2 50%. PERMANECE EXTREMAMENTE AGITADO (não responde à sedação intermitente). REINICIADO  DORMONID 7 ML/H, FENTANIL 2 ML/H (continua não respondendo). PERMANECE AGITADO, ARRANCOU SOE. ACESSO VENOSO PERIFÉRICO EM MSD COM PLANO BÁSICO DE HIDRATAÇÃO + SEDAÇÃO. POLISSECRETIVO (mantendo trach care). FO SEM SINAIS FLOGÍSTICOS EM FACE, EDEMA EM FACE LD. MONITORIZAÇÃO DE MÚLTIPLOS PARÂMETROS CONFORME ROTINA DA UTI. DIURESE EM UROPEN. 23:30 h: Retorna do CC, onde realizou relaparotomia exploradora, instalado sistema de aspiração fechado em traqueostomia (trach care) no CC, trajeto de volta do CC sem intercorrências, mantém monitorização de parâmetros, TOT nº 7,5 em rima 22, VM modo VCV 440ml, peep 6, fio2 a 40%, pupilas isocóricas fotorreagentes, SNG com débito em média quantidade de aspecto borra de café, diurese via SVD em média quantidade, sem grumos, de cor amarelo claro, PAM em radial esquerda, acesso venoso central em subclávia à direita, evacuação ausente no período.</div></span>"
      ],
      "text/plain": [
       "<IPython.core.display.HTML object>"
      ]
     },
     "metadata": {},
     "output_type": "display_data"
    },
    {
     "name": "stdout",
     "output_type": "stream",
     "text": [
      "\n",
      "\n",
      "\n",
      "\n",
      "\n",
      "Inference with model pucpr/clinicalnerpt-chemical\n"
     ]
    },
    {
     "data": {
      "text/html": [
       "<span class=\"tex2jax_ignore\"><div class=\"entities\" style=\"line-height: 2.5; direction: ltr\">10:00: AVALIADO RAIO-X, SNE MAL POSICIONADA, REPASSADA SEM INTERCORRÊNCIA NO PROCEDIMENTO. AUSCULTA ABDOMINAL POSITIVA. RETIRO FIO GUIA, SOLICITO RAIO-X PARA AVALIAÇÃO DA POSIÇÃO. 17:50: CLIENTE RELATOU CEFALÉIA NO PERÍODO DA MANHÃ E FOI MEDICADO. CONSCIENTE, PUPILAS ISOCÓRICAS FOTORREAGENTES, COMUNICATIVO, EUPNÉICO, REPOUSO NO LEITO, ACEITANDO BEM A DIETA, SEM ACESSO PERIFÉRICO, APRESENTANDO EDEMA EM OMBRO E, MANTENDO TIPÓIA DE ATADURA EM MSE, ABDÔMEN PLANO E FLÁCIDO, ELIMINAÇÕES PRESENTES. 20:50 h: Paciente com cuff furado, realizado troca de TOT, instalado TOT 7.5, VM modo controlado VC 500, PEEP 07, FIO2 a 50%. 22:30h: ESQUEMA DE SUPERVISÃO NOTURNA: TRAQUEOSTOMIZADO, EM DESMAME VENTILATÓRIO EM PS DE 17, PEEP 5, FIO2 50%. PERMANECE EXTREMAMENTE AGITADO (não responde à sedação intermitente). REINICIADO  \n",
       "<mark class=\"entity\" style=\"background: #808000; padding: 0.45em 0.6em; margin: 0 0.25em; line-height: 1; border-radius: 0.35em;\">\n",
       "    DORMONID\n",
       "    <span style=\"font-size: 0.8em; font-weight: bold; line-height: 1; border-radius: 0.35em; vertical-align: middle; margin-left: 0.5rem\">ChemicalDrugs</span>\n",
       "</mark>\n",
       " 7 ML/H, \n",
       "<mark class=\"entity\" style=\"background: #808000; padding: 0.45em 0.6em; margin: 0 0.25em; line-height: 1; border-radius: 0.35em;\">\n",
       "    FENTANIL\n",
       "    <span style=\"font-size: 0.8em; font-weight: bold; line-height: 1; border-radius: 0.35em; vertical-align: middle; margin-left: 0.5rem\">ChemicalDrugs</span>\n",
       "</mark>\n",
       " 2 ML/H (continua não respondendo). PERMANECE AGITADO, ARRANCOU SOE. ACESSO VENOSO PERIFÉRICO EM MSD COM PLANO BÁSICO DE HIDRATAÇÃO + SEDAÇÃO. POLISSECRETIVO (mantendo trach care). FO SEM SINAIS FLOGÍSTICOS EM FACE, EDEMA EM FACE LD. MONITORIZAÇÃO DE MÚLTIPLOS PARÂMETROS CONFORME ROTINA DA UTI. DIURESE EM UROPEN. 23:30 h: Retorna do CC, onde realizou relaparotomia exploradora, instalado sistema de aspiração fechado em traqueostomia (trach care) no CC, trajeto de volta do CC sem intercorrências, mantém monitorização de parâmetros, TOT nº 7,5 em rima 22, VM modo VCV 440ml, peep 6, fio2 a 40%, pupilas isocóricas fotorreagentes, SNG com débito em média quantidade de aspecto borra de café, diurese via SVD em média quantidade, sem grumos, de cor amarelo claro, PAM em radial esquerda, acesso venoso central em subclávia à direita, evacuação ausente no período.</div></span>"
      ],
      "text/plain": [
       "<IPython.core.display.HTML object>"
      ]
     },
     "metadata": {},
     "output_type": "display_data"
    },
    {
     "name": "stdout",
     "output_type": "stream",
     "text": [
      "\n",
      "\n",
      "\n",
      "\n",
      "\n",
      "Inference with model pucpr/clinicalnerpt-laboratory\n"
     ]
    },
    {
     "data": {
      "text/html": [
       "<span class=\"tex2jax_ignore\"><div class=\"entities\" style=\"line-height: 2.5; direction: ltr\">10:00: AVALIADO RAIO-X, SNE MAL POSICIONADA, REPASSADA SEM INTERCORRÊNCIA NO PROCEDIMENTO. AUSCULTA ABDOMINAL POSITIVA. RETIRO FIO GUIA, SOLICITO RAIO-X PARA AVALIAÇÃO DA POSIÇÃO. 17:50: CLIENTE RELATOU CEFALÉIA NO PERÍODO DA MANHÃ E FOI MEDICADO. CONSCIENTE, PUPILAS ISOCÓRICAS FOTORREAGENTES, COMUNICATIVO, EUPNÉICO, REPOUSO NO LEITO, ACEITANDO BEM A DIETA, SEM ACESSO PERIFÉRICO, APRESENTANDO EDEMA EM OMBRO E, MANTENDO TIPÓIA DE ATADURA EM MSE, ABDÔMEN PLANO E FLÁCIDO, ELIMINAÇÕES PRESENTES. 20:50 h: Paciente com cuff furado, realizado troca de TOT, instalado TOT 7.5, VM modo controlado VC 500, PEEP 07, FIO2 a 50%. 22:30h: ESQUEMA DE SUPERVISÃO NOTURNA: TRAQUEOSTOMIZADO, EM DESMAME VENTILATÓRIO EM PS DE 17, PEEP 5, FIO2 50%. PERMANECE EXTREMAMENTE AGITADO (não responde à sedação intermitente). REINICIADO  DORMONID 7 ML/H, FENTANIL 2 ML/H (continua não respondendo). PERMANECE AGITADO, ARRANCOU SOE. ACESSO VENOSO PERIFÉRICO EM MSD COM PLANO BÁSICO DE HIDRATAÇÃO + SEDAÇÃO. POLISSECRETIVO (mantendo trach care). FO SEM SINAIS FLOGÍSTICOS EM FACE, EDEMA EM FACE LD. MONITORIZAÇÃO DE MÚLTIPLOS PARÂMETROS CONFORME ROTINA DA UTI. DIURESE EM UROPEN. 23:30 h: Retorna do CC, onde realizou relaparotomia exploradora, instalado sistema de aspiração fechado em traqueostomia (trach care) no CC, trajeto de volta do CC sem intercorrências, mantém monitorização de parâmetros, TOT nº 7,5 em rima 22, VM modo VCV 440ml, peep 6, fio2 a 40%, pupilas isocóricas fotorreagentes, SNG com débito em média quantidade de aspecto borra de café, diurese via SVD em média quantidade, sem grumos, de cor amarelo claro, PAM em radial esquerda, acesso venoso central em subclávia à direita, evacuação ausente no período.</div></span>"
      ],
      "text/plain": [
       "<IPython.core.display.HTML object>"
      ]
     },
     "metadata": {},
     "output_type": "display_data"
    },
    {
     "name": "stdout",
     "output_type": "stream",
     "text": [
      "\n",
      "\n",
      "\n",
      "\n",
      "\n",
      "Inference with model pucpr/clinicalnerpt-finding\n"
     ]
    },
    {
     "data": {
      "text/html": [
       "<span class=\"tex2jax_ignore\"><div class=\"entities\" style=\"line-height: 2.5; direction: ltr\">10:00: AVALIADO RAIO-X, SNE MAL \n",
       "<mark class=\"entity\" style=\"background: #D2691E; padding: 0.45em 0.6em; margin: 0 0.25em; line-height: 1; border-radius: 0.35em;\">\n",
       "    POSICIONADA\n",
       "    <span style=\"font-size: 0.8em; font-weight: bold; line-height: 1; border-radius: 0.35em; vertical-align: middle; margin-left: 0.5rem\">Finding</span>\n",
       "</mark>\n",
       ", REPASSADA SEM INTERCORRÊNCIA NO PROCEDIMENTO. \n",
       "<mark class=\"entity\" style=\"background: #D2691E; padding: 0.45em 0.6em; margin: 0 0.25em; line-height: 1; border-radius: 0.35em;\">\n",
       "    AUSCULTA ABDOMINAL POSITIVA\n",
       "    <span style=\"font-size: 0.8em; font-weight: bold; line-height: 1; border-radius: 0.35em; vertical-align: middle; margin-left: 0.5rem\">Finding</span>\n",
       "</mark>\n",
       ". RETIRO FIO GUIA, SOLICITO RAIO-X PARA AVALIAÇÃO DA POSIÇÃO. 17:50: CLIENTE RELATOU CEFALÉIA NO PERÍODO DA MANHÃ E FOI MEDICADO. \n",
       "<mark class=\"entity\" style=\"background: #D2691E; padding: 0.45em 0.6em; margin: 0 0.25em; line-height: 1; border-radius: 0.35em;\">\n",
       "    CONSCIENTE\n",
       "    <span style=\"font-size: 0.8em; font-weight: bold; line-height: 1; border-radius: 0.35em; vertical-align: middle; margin-left: 0.5rem\">Finding</span>\n",
       "</mark>\n",
       ", \n",
       "<mark class=\"entity\" style=\"background: #D2691E; padding: 0.45em 0.6em; margin: 0 0.25em; line-height: 1; border-radius: 0.35em;\">\n",
       "    PUPILAS ISOCÓRICAS FOTORREAGENTES\n",
       "    <span style=\"font-size: 0.8em; font-weight: bold; line-height: 1; border-radius: 0.35em; vertical-align: middle; margin-left: 0.5rem\">Finding</span>\n",
       "</mark>\n",
       ", \n",
       "<mark class=\"entity\" style=\"background: #D2691E; padding: 0.45em 0.6em; margin: 0 0.25em; line-height: 1; border-radius: 0.35em;\">\n",
       "    COMUNICATIVO\n",
       "    <span style=\"font-size: 0.8em; font-weight: bold; line-height: 1; border-radius: 0.35em; vertical-align: middle; margin-left: 0.5rem\">Finding</span>\n",
       "</mark>\n",
       ", \n",
       "<mark class=\"entity\" style=\"background: #D2691E; padding: 0.45em 0.6em; margin: 0 0.25em; line-height: 1; border-radius: 0.35em;\">\n",
       "    EUPNÉICO\n",
       "    <span style=\"font-size: 0.8em; font-weight: bold; line-height: 1; border-radius: 0.35em; vertical-align: middle; margin-left: 0.5rem\">Finding</span>\n",
       "</mark>\n",
       ", \n",
       "<mark class=\"entity\" style=\"background: #D2691E; padding: 0.45em 0.6em; margin: 0 0.25em; line-height: 1; border-radius: 0.35em;\">\n",
       "    REPOUSO NO LEITO\n",
       "    <span style=\"font-size: 0.8em; font-weight: bold; line-height: 1; border-radius: 0.35em; vertical-align: middle; margin-left: 0.5rem\">Finding</span>\n",
       "</mark>\n",
       ", \n",
       "<mark class=\"entity\" style=\"background: #D2691E; padding: 0.45em 0.6em; margin: 0 0.25em; line-height: 1; border-radius: 0.35em;\">\n",
       "    ACEITANDO BEM A DIETA\n",
       "    <span style=\"font-size: 0.8em; font-weight: bold; line-height: 1; border-radius: 0.35em; vertical-align: middle; margin-left: 0.5rem\">Finding</span>\n",
       "</mark>\n",
       ", SEM ACESSO PERIFÉRICO, APRESENTANDO EDEMA EM OMBRO E, MANTENDO TIPÓIA DE ATADURA EM MSE, ABDÔMEN PLANO E \n",
       "<mark class=\"entity\" style=\"background: #D2691E; padding: 0.45em 0.6em; margin: 0 0.25em; line-height: 1; border-radius: 0.35em;\">\n",
       "    FLÁCIDO\n",
       "    <span style=\"font-size: 0.8em; font-weight: bold; line-height: 1; border-radius: 0.35em; vertical-align: middle; margin-left: 0.5rem\">Finding</span>\n",
       "</mark>\n",
       ", \n",
       "<mark class=\"entity\" style=\"background: #D2691E; padding: 0.45em 0.6em; margin: 0 0.25em; line-height: 1; border-radius: 0.35em;\">\n",
       "    ELIMINAÇÕES PRESENTES\n",
       "    <span style=\"font-size: 0.8em; font-weight: bold; line-height: 1; border-radius: 0.35em; vertical-align: middle; margin-left: 0.5rem\">Finding</span>\n",
       "</mark>\n",
       ". 20:50 h: Paciente com \n",
       "<mark class=\"entity\" style=\"background: #D2691E; padding: 0.45em 0.6em; margin: 0 0.25em; line-height: 1; border-radius: 0.35em;\">\n",
       "    cuff furado\n",
       "    <span style=\"font-size: 0.8em; font-weight: bold; line-height: 1; border-radius: 0.35em; vertical-align: middle; margin-left: 0.5rem\">Finding</span>\n",
       "</mark>\n",
       ", realizado troca de TOT, instalado TOT 7.5, VM modo controlado VC 500, PEEP 07, FIO2 a 50%. 22:30h: ESQUEMA DE SUPERVISÃO NOTURNA: \n",
       "<mark class=\"entity\" style=\"background: #D2691E; padding: 0.45em 0.6em; margin: 0 0.25em; line-height: 1; border-radius: 0.35em;\">\n",
       "    TRAQUEOSTOMIZADO\n",
       "    <span style=\"font-size: 0.8em; font-weight: bold; line-height: 1; border-radius: 0.35em; vertical-align: middle; margin-left: 0.5rem\">Finding</span>\n",
       "</mark>\n",
       ", EM DESMAME VENTILATÓRIO EM PS DE 17, PEEP 5, FIO2 50%. PERMANECE EXTREMAMENTE AGITADO (não responde à sedação intermitente). REINICIADO  DORMONID 7 ML/H, FENTANIL 2 ML/H (continua não respondendo). PERMANECE AGITADO, \n",
       "<mark class=\"entity\" style=\"background: #D2691E; padding: 0.45em 0.6em; margin: 0 0.25em; line-height: 1; border-radius: 0.35em;\">\n",
       "    ARRANCOU\n",
       "    <span style=\"font-size: 0.8em; font-weight: bold; line-height: 1; border-radius: 0.35em; vertical-align: middle; margin-left: 0.5rem\">Finding</span>\n",
       "</mark>\n",
       " SOE. ACESSO VENOSO PERIFÉRICO EM MSD COM PLANO BÁSICO DE HIDRATAÇÃO + SEDAÇÃO. POLISSECRETIVO (mantendo trach care). FO SEM SINAIS FLOGÍSTICOS EM FACE, EDEMA EM FACE LD. MONITORIZAÇÃO DE MÚLTIPLOS PARÂMETROS CONFORME ROTINA DA UTI. DIURESE EM UROPEN. 23:30 h: Retorna do CC, onde realizou relaparotomia exploradora, instalado sistema de aspiração fechado em traqueostomia (trach care) no CC, trajeto de volta do CC sem intercorrências, mantém monitorização de parâmetros, TOT nº 7,5 em rima 22, VM modo VCV 440ml, peep 6, fio2 a 40%, \n",
       "<mark class=\"entity\" style=\"background: #D2691E; padding: 0.45em 0.6em; margin: 0 0.25em; line-height: 1; border-radius: 0.35em;\">\n",
       "    pupilas isocóricas fotorreagentes\n",
       "    <span style=\"font-size: 0.8em; font-weight: bold; line-height: 1; border-radius: 0.35em; vertical-align: middle; margin-left: 0.5rem\">Finding</span>\n",
       "</mark>\n",
       ", SNG com débito em média quantidade de aspecto borra de café, \n",
       "<mark class=\"entity\" style=\"background: #D2691E; padding: 0.45em 0.6em; margin: 0 0.25em; line-height: 1; border-radius: 0.35em;\">\n",
       "    diurese\n",
       "    <span style=\"font-size: 0.8em; font-weight: bold; line-height: 1; border-radius: 0.35em; vertical-align: middle; margin-left: 0.5rem\">Finding</span>\n",
       "</mark>\n",
       " via SVD em média quantidade, sem \n",
       "<mark class=\"entity\" style=\"background: #D2691E; padding: 0.45em 0.6em; margin: 0 0.25em; line-height: 1; border-radius: 0.35em;\">\n",
       "    grumos\n",
       "    <span style=\"font-size: 0.8em; font-weight: bold; line-height: 1; border-radius: 0.35em; vertical-align: middle; margin-left: 0.5rem\">Finding</span>\n",
       "</mark>\n",
       ", de \n",
       "<mark class=\"entity\" style=\"background: #D2691E; padding: 0.45em 0.6em; margin: 0 0.25em; line-height: 1; border-radius: 0.35em;\">\n",
       "    cor amarelo claro\n",
       "    <span style=\"font-size: 0.8em; font-weight: bold; line-height: 1; border-radius: 0.35em; vertical-align: middle; margin-left: 0.5rem\">Finding</span>\n",
       "</mark>\n",
       ", PAM em radial esquerda, acesso venoso central em subclávia à direita, evacuação ausente no período.</div></span>"
      ],
      "text/plain": [
       "<IPython.core.display.HTML object>"
      ]
     },
     "metadata": {},
     "output_type": "display_data"
    },
    {
     "name": "stdout",
     "output_type": "stream",
     "text": [
      "\n",
      "\n",
      "\n",
      "\n",
      "\n",
      "Inference with model pucpr/clinicalnerpt-medical\n"
     ]
    },
    {
     "data": {
      "text/html": [
       "<span class=\"tex2jax_ignore\"><div class=\"entities\" style=\"line-height: 2.5; direction: ltr\">10:00: AVALIADO RAIO-X, SNE MAL POSICIONADA, REPASSADA SEM INTERCORRÊNCIA NO PROCEDIMENTO. AUSCULTA ABDOMINAL POSITIVA. RETIRO FIO GUIA, SOLICITO RAIO-X PARA AVALIAÇÃO DA POSIÇÃO. 17:50: CLIENTE RELATOU CEFALÉIA NO PERÍODO DA MANHÃ E FOI MEDICADO. CONSCIENTE, PUPILAS ISOCÓRICAS FOTORREAGENTES, COMUNICATIVO, EUPNÉICO, REPOUSO NO LEITO, ACEITANDO BEM A DIETA, SEM \n",
       "<mark class=\"entity\" style=\"background: #C0C0C0; padding: 0.45em 0.6em; margin: 0 0.25em; line-height: 1; border-radius: 0.35em;\">\n",
       "    ACESSO PERIFÉRICO\n",
       "    <span style=\"font-size: 0.8em; font-weight: bold; line-height: 1; border-radius: 0.35em; vertical-align: middle; margin-left: 0.5rem\">MedicalDevice</span>\n",
       "</mark>\n",
       ", APRESENTANDO EDEMA EM OMBRO E, MANTENDO \n",
       "<mark class=\"entity\" style=\"background: #C0C0C0; padding: 0.45em 0.6em; margin: 0 0.25em; line-height: 1; border-radius: 0.35em;\">\n",
       "    TIPÓIA DE ATADURA\n",
       "    <span style=\"font-size: 0.8em; font-weight: bold; line-height: 1; border-radius: 0.35em; vertical-align: middle; margin-left: 0.5rem\">MedicalDevice</span>\n",
       "</mark>\n",
       " EM MSE, ABDÔMEN PLANO E FLÁCIDO, ELIMINAÇÕES PRESENTES. 20:50 h: Paciente com \n",
       "<mark class=\"entity\" style=\"background: #C0C0C0; padding: 0.45em 0.6em; margin: 0 0.25em; line-height: 1; border-radius: 0.35em;\">\n",
       "    cuff furado\n",
       "    <span style=\"font-size: 0.8em; font-weight: bold; line-height: 1; border-radius: 0.35em; vertical-align: middle; margin-left: 0.5rem\">MedicalDevice</span>\n",
       "</mark>\n",
       ", realizado troca de TOT, instalado TOT 7.5, VM modo controlado VC 500, PEEP 07, FIO2 a 50%. 22:30h: ESQUEMA DE SUPERVISÃO NOTURNA: TRAQUEOSTOMIZADO, EM DESMAME VENTILATÓRIO EM PS DE 17, PEEP 5, FIO2 50%. PERMANECE EXTREMAMENTE AGITADO (não responde à sedação intermitente). REINICIADO  DORMONID 7 ML/H, FENTANIL 2 ML/H (continua não respondendo). PERMANECE AGITADO, ARRANCOU SOE. \n",
       "<mark class=\"entity\" style=\"background: #C0C0C0; padding: 0.45em 0.6em; margin: 0 0.25em; line-height: 1; border-radius: 0.35em;\">\n",
       "    ACESSO VENOSO PERIFÉRICO\n",
       "    <span style=\"font-size: 0.8em; font-weight: bold; line-height: 1; border-radius: 0.35em; vertical-align: middle; margin-left: 0.5rem\">MedicalDevice</span>\n",
       "</mark>\n",
       " EM MSD COM PLANO BÁSICO DE HIDRATAÇÃO + SEDAÇÃO. POLISSECRETIVO (mantendo \n",
       "<mark class=\"entity\" style=\"background: #C0C0C0; padding: 0.45em 0.6em; margin: 0 0.25em; line-height: 1; border-radius: 0.35em;\">\n",
       "    trach care\n",
       "    <span style=\"font-size: 0.8em; font-weight: bold; line-height: 1; border-radius: 0.35em; vertical-align: middle; margin-left: 0.5rem\">MedicalDevice</span>\n",
       "</mark>\n",
       "). FO SEM SINAIS FLOGÍSTICOS EM FACE, EDEMA EM FACE LD. MONITORIZAÇÃO DE MÚLTIPLOS PARÂMETROS CONFORME ROTINA DA UTI. DIURESE EM UROPEN. 23:30 h: Retorna do CC, onde realizou relaparotomia exploradora, instalado sistema de aspiração fechado em traqueostomia (\n",
       "<mark class=\"entity\" style=\"background: #C0C0C0; padding: 0.45em 0.6em; margin: 0 0.25em; line-height: 1; border-radius: 0.35em;\">\n",
       "    trach care\n",
       "    <span style=\"font-size: 0.8em; font-weight: bold; line-height: 1; border-radius: 0.35em; vertical-align: middle; margin-left: 0.5rem\">MedicalDevice</span>\n",
       "</mark>\n",
       ") no CC, trajeto de volta do CC sem intercorrências, mantém monitorização de parâmetros, TOT nº 7,5 em rima 22, VM modo VCV 440ml, peep 6, fio2 a 40%, pupilas isocóricas fotorreagentes, SNG com débito em média quantidade de aspecto borra de café, diurese via SVD em média quantidade, sem grumos, de cor amarelo claro, PAM em radial esquerda, acesso venoso central em subclávia à direita, evacuação ausente no período.</div></span>"
      ],
      "text/plain": [
       "<IPython.core.display.HTML object>"
      ]
     },
     "metadata": {},
     "output_type": "display_data"
    },
    {
     "name": "stdout",
     "output_type": "stream",
     "text": [
      "\n",
      "\n",
      "\n",
      "\n",
      "\n",
      "Inference with model pucpr/clinicalnerpt-procedure\n"
     ]
    },
    {
     "data": {
      "text/html": [
       "<span class=\"tex2jax_ignore\"><div class=\"entities\" style=\"line-height: 2.5; direction: ltr\">10:00: AVALIADO \n",
       "<mark class=\"entity\" style=\"background: #008080; padding: 0.45em 0.6em; margin: 0 0.25em; line-height: 1; border-radius: 0.35em;\">\n",
       "    RAIO-\n",
       "    <span style=\"font-size: 0.8em; font-weight: bold; line-height: 1; border-radius: 0.35em; vertical-align: middle; margin-left: 0.5rem\">Procedures</span>\n",
       "</mark>\n",
       "X, SNE MAL POSICIONADA, REPASSADA SEM INTERCORRÊNCIA NO PROCEDIMENTO. AUSCULTA ABDOMINAL POSITIVA. RETIRO \n",
       "<mark class=\"entity\" style=\"background: #008080; padding: 0.45em 0.6em; margin: 0 0.25em; line-height: 1; border-radius: 0.35em;\">\n",
       "    FIO GUIA\n",
       "    <span style=\"font-size: 0.8em; font-weight: bold; line-height: 1; border-radius: 0.35em; vertical-align: middle; margin-left: 0.5rem\">Procedures</span>\n",
       "</mark>\n",
       ", SOLICITO \n",
       "<mark class=\"entity\" style=\"background: #008080; padding: 0.45em 0.6em; margin: 0 0.25em; line-height: 1; border-radius: 0.35em;\">\n",
       "    RAIO-X\n",
       "    <span style=\"font-size: 0.8em; font-weight: bold; line-height: 1; border-radius: 0.35em; vertical-align: middle; margin-left: 0.5rem\">Procedures</span>\n",
       "</mark>\n",
       " PARA AVALIAÇÃO DA POSIÇÃO. 17:50: CLIENTE RELATOU CEFALÉIA NO PERÍODO DA MANHÃ E FOI MEDICADO. CONSCIENTE, PUPILAS ISOCÓRICAS FOTORREAGENTES, COMUNICATIVO, EUPNÉICO, REPOUSO NO LEITO, ACEITANDO BEM A DIETA, SEM \n",
       "<mark class=\"entity\" style=\"background: #008080; padding: 0.45em 0.6em; margin: 0 0.25em; line-height: 1; border-radius: 0.35em;\">\n",
       "    ACESSO PERIFÉRICO\n",
       "    <span style=\"font-size: 0.8em; font-weight: bold; line-height: 1; border-radius: 0.35em; vertical-align: middle; margin-left: 0.5rem\">Procedures</span>\n",
       "</mark>\n",
       ", APRESENTANDO EDEMA EM OMBRO E, MANTENDO \n",
       "<mark class=\"entity\" style=\"background: #008080; padding: 0.45em 0.6em; margin: 0 0.25em; line-height: 1; border-radius: 0.35em;\">\n",
       "    TIPÓIA DE ATADURA\n",
       "    <span style=\"font-size: 0.8em; font-weight: bold; line-height: 1; border-radius: 0.35em; vertical-align: middle; margin-left: 0.5rem\">Procedures</span>\n",
       "</mark>\n",
       " EM MSE, ABDÔMEN PLANO E FLÁCIDO, ELIMINAÇÕES PRESENTES. 20:50 h: Paciente com cuff furado, realizado troca \n",
       "<mark class=\"entity\" style=\"background: #008080; padding: 0.45em 0.6em; margin: 0 0.25em; line-height: 1; border-radius: 0.35em;\">\n",
       "    de TOT\n",
       "    <span style=\"font-size: 0.8em; font-weight: bold; line-height: 1; border-radius: 0.35em; vertical-align: middle; margin-left: 0.5rem\">Procedures</span>\n",
       "</mark>\n",
       ", instalado TOT 7.5, VM modo controlado VC 500, PEEP 07, FIO2 a 50%. 22:30h: \n",
       "<mark class=\"entity\" style=\"background: #008080; padding: 0.45em 0.6em; margin: 0 0.25em; line-height: 1; border-radius: 0.35em;\">\n",
       "    ESQUEMA DE SUPERVISÃO NOTURNA\n",
       "    <span style=\"font-size: 0.8em; font-weight: bold; line-height: 1; border-radius: 0.35em; vertical-align: middle; margin-left: 0.5rem\">Procedures</span>\n",
       "</mark>\n",
       ": \n",
       "<mark class=\"entity\" style=\"background: #008080; padding: 0.45em 0.6em; margin: 0 0.25em; line-height: 1; border-radius: 0.35em;\">\n",
       "    TRAQUEOSTOMIZADO\n",
       "    <span style=\"font-size: 0.8em; font-weight: bold; line-height: 1; border-radius: 0.35em; vertical-align: middle; margin-left: 0.5rem\">Procedures</span>\n",
       "</mark>\n",
       ", EM \n",
       "<mark class=\"entity\" style=\"background: #008080; padding: 0.45em 0.6em; margin: 0 0.25em; line-height: 1; border-radius: 0.35em;\">\n",
       "    DESMAME VENTILATÓRIO\n",
       "    <span style=\"font-size: 0.8em; font-weight: bold; line-height: 1; border-radius: 0.35em; vertical-align: middle; margin-left: 0.5rem\">Procedures</span>\n",
       "</mark>\n",
       " EM PS DE 17, PEEP 5, FIO2 50%. PERMANECE EXTREMAMENTE AGITADO (não responde à \n",
       "<mark class=\"entity\" style=\"background: #008080; padding: 0.45em 0.6em; margin: 0 0.25em; line-height: 1; border-radius: 0.35em;\">\n",
       "    sedação intermitente\n",
       "    <span style=\"font-size: 0.8em; font-weight: bold; line-height: 1; border-radius: 0.35em; vertical-align: middle; margin-left: 0.5rem\">Procedures</span>\n",
       "</mark>\n",
       "). REINICIADO  DORMONID 7 ML/H, FENTANIL 2 ML/H (continua não respondendo). PERMANECE AGITADO, ARRANCOU SOE. \n",
       "<mark class=\"entity\" style=\"background: #008080; padding: 0.45em 0.6em; margin: 0 0.25em; line-height: 1; border-radius: 0.35em;\">\n",
       "    ACESSO VENOSO PERIFÉRICO\n",
       "    <span style=\"font-size: 0.8em; font-weight: bold; line-height: 1; border-radius: 0.35em; vertical-align: middle; margin-left: 0.5rem\">Procedures</span>\n",
       "</mark>\n",
       " EM MSD COM \n",
       "<mark class=\"entity\" style=\"background: #008080; padding: 0.45em 0.6em; margin: 0 0.25em; line-height: 1; border-radius: 0.35em;\">\n",
       "    PLANO BÁSICO DE HIDRATAÇÃO\n",
       "    <span style=\"font-size: 0.8em; font-weight: bold; line-height: 1; border-radius: 0.35em; vertical-align: middle; margin-left: 0.5rem\">Procedures</span>\n",
       "</mark>\n",
       " + \n",
       "<mark class=\"entity\" style=\"background: #008080; padding: 0.45em 0.6em; margin: 0 0.25em; line-height: 1; border-radius: 0.35em;\">\n",
       "    SEDAÇÃO\n",
       "    <span style=\"font-size: 0.8em; font-weight: bold; line-height: 1; border-radius: 0.35em; vertical-align: middle; margin-left: 0.5rem\">Procedures</span>\n",
       "</mark>\n",
       ". POLISSECRETIVO (mantendo trach care). FO SEM SINAIS FLOGÍSTICOS EM FACE, EDEMA EM FACE LD. \n",
       "<mark class=\"entity\" style=\"background: #008080; padding: 0.45em 0.6em; margin: 0 0.25em; line-height: 1; border-radius: 0.35em;\">\n",
       "    MONITORIZAÇÃO DE MÚLTIPLOS PARÂMETROS\n",
       "    <span style=\"font-size: 0.8em; font-weight: bold; line-height: 1; border-radius: 0.35em; vertical-align: middle; margin-left: 0.5rem\">Procedures</span>\n",
       "</mark>\n",
       " CONFORME ROTINA DA UTI. DIURESE EM UROPEN. 23:30 h: Retorna do CC, onde realizou \n",
       "<mark class=\"entity\" style=\"background: #008080; padding: 0.45em 0.6em; margin: 0 0.25em; line-height: 1; border-radius: 0.35em;\">\n",
       "    relaparotomia exploradora\n",
       "    <span style=\"font-size: 0.8em; font-weight: bold; line-height: 1; border-radius: 0.35em; vertical-align: middle; margin-left: 0.5rem\">Procedures</span>\n",
       "</mark>\n",
       ", instalado \n",
       "<mark class=\"entity\" style=\"background: #008080; padding: 0.45em 0.6em; margin: 0 0.25em; line-height: 1; border-radius: 0.35em;\">\n",
       "    sistema de aspiração fechado\n",
       "    <span style=\"font-size: 0.8em; font-weight: bold; line-height: 1; border-radius: 0.35em; vertical-align: middle; margin-left: 0.5rem\">Procedures</span>\n",
       "</mark>\n",
       " em traqueostomia (trach care) no CC, trajeto de volta do CC sem intercorrências, mantém monitorização \n",
       "<mark class=\"entity\" style=\"background: #008080; padding: 0.45em 0.6em; margin: 0 0.25em; line-height: 1; border-radius: 0.35em;\">\n",
       "    de parâmetros\n",
       "    <span style=\"font-size: 0.8em; font-weight: bold; line-height: 1; border-radius: 0.35em; vertical-align: middle; margin-left: 0.5rem\">Procedures</span>\n",
       "</mark>\n",
       ", TOT nº 7,5 em rima 22, VM modo VCV 440ml, peep 6, fio2 a 40%, pupilas isocóricas fotorreagentes, SNG com débito em média quantidade de aspecto borra de café, diurese via SVD em média quantidade, sem grumos, de cor amarelo claro, PAM em radial esquerda, acesso venoso central em subclávia à direita, evacuação ausente no período.</div></span>"
      ],
      "text/plain": [
       "<IPython.core.display.HTML object>"
      ]
     },
     "metadata": {},
     "output_type": "display_data"
    },
    {
     "name": "stdout",
     "output_type": "stream",
     "text": [
      "\n",
      "\n",
      "\n",
      "\n",
      "\n",
      "Inference with model pucpr/clinicalnerpt-healthcare\n"
     ]
    },
    {
     "data": {
      "text/html": [
       "<span class=\"tex2jax_ignore\"><div class=\"entities\" style=\"line-height: 2.5; direction: ltr\">10:00: AVALIADO RAIO-X, SNE MAL POSICIONADA, REPASSADA SEM INTERCORRÊNCIA NO PROCEDIMENTO. AUSCULTA ABDOMINAL POSITIVA. RETIRO FIO GUIA, SOLICITO RAIO-X PARA AVALIAÇÃO DA POSIÇÃO. 17:50: CLIENTE RELATOU CEFALÉIA NO PERÍODO DA MANHÃ E FOI MEDICADO. CONSCIENTE, PUPILAS ISOCÓRICAS FOTORREAGENTES, COMUNICATIVO, EUPNÉICO, REPOUSO NO LEITO, ACEITANDO BEM A DIETA, SEM ACESSO PERIFÉRICO, APRESENTANDO EDEMA EM OMBRO E, MANTENDO TIPÓIA DE ATADURA EM MSE, ABDÔMEN PLANO E FLÁCIDO, ELIMINAÇÕES PRESENTES. 20:50 h: Paciente com cuff furado, realizado troca de TOT, instalado TOT 7.5, VM modo controlado VC 500, PEEP 07, FIO2 a 50%. 22:30h: ESQUEMA DE SUPERVISÃO NOTURNA: TRAQUEOSTOMIZADO, EM DESMAME VENTILATÓRIO EM PS DE 17, PEEP 5, FIO2 50%. PERMANECE EXTREMAMENTE AGITADO (não responde à sedação intermitente). REINICIADO  DORMONID 7 ML/H, FENTANIL 2 ML/H (continua não respondendo). PERMANECE AGITADO, ARRANCOU SOE. ACESSO VENOSO PERIFÉRICO EM MSD COM PLANO BÁSICO DE HIDRATAÇÃO + SEDAÇÃO. POLISSECRETIVO (mantendo trach care). FO SEM SINAIS FLOGÍSTICOS EM FACE, EDEMA EM FACE LD. MONITORIZAÇÃO DE MÚLTIPLOS PARÂMETROS CONFORME ROTINA DA UTI. DIURESE EM UROPEN. 23:30 h: Retorna do CC, onde realizou relaparotomia exploradora, instalado sistema de aspiração fechado em traqueostomia (trach care) no CC, trajeto de volta do CC sem intercorrências, mantém monitorização de parâmetros, TOT nº 7,5 em rima 22, VM modo VCV 440ml, peep 6, fio2 a 40%, pupilas isocóricas fotorreagentes, SNG com débito em média quantidade de aspecto borra de café, diurese via SVD em média quantidade, sem grumos, de cor amarelo claro, PAM em radial esquerda, acesso venoso central em subclávia à direita, evacuação ausente no período.</div></span>"
      ],
      "text/plain": [
       "<IPython.core.display.HTML object>"
      ]
     },
     "metadata": {},
     "output_type": "display_data"
    },
    {
     "name": "stdout",
     "output_type": "stream",
     "text": [
      "\n",
      "\n",
      "\n",
      "\n",
      "\n",
      "Inference with model pucpr-br/tempclin-biobertpt-all\n"
     ]
    },
    {
     "data": {
      "text/html": [
       "<span class=\"tex2jax_ignore\"><div class=\"entities\" style=\"line-height: 2.5; direction: ltr\">10:00: AVALIADO \n",
       "<mark class=\"entity\" style=\"background: #000080; padding: 0.45em 0.6em; margin: 0 0.25em; line-height: 1; border-radius: 0.35em;\">\n",
       "    RAIO\n",
       "    <span style=\"font-size: 0.8em; font-weight: bold; line-height: 1; border-radius: 0.35em; vertical-align: middle; margin-left: 0.5rem\">Teste</span>\n",
       "</mark>\n",
       "\n",
       "<mark class=\"entity\" style=\"background: #000080; padding: 0.45em 0.6em; margin: 0 0.25em; line-height: 1; border-radius: 0.35em;\">\n",
       "    -\n",
       "    <span style=\"font-size: 0.8em; font-weight: bold; line-height: 1; border-radius: 0.35em; vertical-align: middle; margin-left: 0.5rem\">Teste</span>\n",
       "</mark>\n",
       "\n",
       "<mark class=\"entity\" style=\"background: #000080; padding: 0.45em 0.6em; margin: 0 0.25em; line-height: 1; border-radius: 0.35em;\">\n",
       "    X\n",
       "    <span style=\"font-size: 0.8em; font-weight: bold; line-height: 1; border-radius: 0.35em; vertical-align: middle; margin-left: 0.5rem\">Teste</span>\n",
       "</mark>\n",
       ", SNE MAL POSICIONADA, REPASSADA SEM \n",
       "<mark class=\"entity\" style=\"background: #808080; padding: 0.45em 0.6em; margin: 0 0.25em; line-height: 1; border-radius: 0.35em;\">\n",
       "    INTERCORRÊNCIA\n",
       "    <span style=\"font-size: 0.8em; font-weight: bold; line-height: 1; border-radius: 0.35em; vertical-align: middle; margin-left: 0.5rem\">Problema</span>\n",
       "</mark>\n",
       " NO PROCEDIMENTO. AUSCULTA ABDOMINAL POSITIVA. \n",
       "<mark class=\"entity\" style=\"background: #DC143C; padding: 0.45em 0.6em; margin: 0 0.25em; line-height: 1; border-radius: 0.35em;\">\n",
       "    RETIRO\n",
       "    <span style=\"font-size: 0.8em; font-weight: bold; line-height: 1; border-radius: 0.35em; vertical-align: middle; margin-left: 0.5rem\">Ocorrencia</span>\n",
       "</mark>\n",
       " FIO GUIA, SOLICITO \n",
       "<mark class=\"entity\" style=\"background: #000080; padding: 0.45em 0.6em; margin: 0 0.25em; line-height: 1; border-radius: 0.35em;\">\n",
       "    RAIO\n",
       "    <span style=\"font-size: 0.8em; font-weight: bold; line-height: 1; border-radius: 0.35em; vertical-align: middle; margin-left: 0.5rem\">Teste</span>\n",
       "</mark>\n",
       "\n",
       "<mark class=\"entity\" style=\"background: #000080; padding: 0.45em 0.6em; margin: 0 0.25em; line-height: 1; border-radius: 0.35em;\">\n",
       "    -\n",
       "    <span style=\"font-size: 0.8em; font-weight: bold; line-height: 1; border-radius: 0.35em; vertical-align: middle; margin-left: 0.5rem\">Teste</span>\n",
       "</mark>\n",
       "\n",
       "<mark class=\"entity\" style=\"background: #000080; padding: 0.45em 0.6em; margin: 0 0.25em; line-height: 1; border-radius: 0.35em;\">\n",
       "    X\n",
       "    <span style=\"font-size: 0.8em; font-weight: bold; line-height: 1; border-radius: 0.35em; vertical-align: middle; margin-left: 0.5rem\">Teste</span>\n",
       "</mark>\n",
       " PARA AVALIAÇÃO DA POSIÇÃO\n",
       "<mark class=\"entity\" style=\"background: #7FFF00; padding: 0.45em 0.6em; margin: 0 0.25em; line-height: 1; border-radius: 0.35em;\">\n",
       "    .\n",
       "    <span style=\"font-size: 0.8em; font-weight: bold; line-height: 1; border-radius: 0.35em; vertical-align: middle; margin-left: 0.5rem\"><pad></span>\n",
       "</mark>\n",
       " 17:50: CLIENTE \n",
       "<mark class=\"entity\" style=\"background: #FF7F50; padding: 0.45em 0.6em; margin: 0 0.25em; line-height: 1; border-radius: 0.35em;\">\n",
       "    RELATOU\n",
       "    <span style=\"font-size: 0.8em; font-weight: bold; line-height: 1; border-radius: 0.35em; vertical-align: middle; margin-left: 0.5rem\">Evidencia</span>\n",
       "</mark>\n",
       " \n",
       "<mark class=\"entity\" style=\"background: #808080; padding: 0.45em 0.6em; margin: 0 0.25em; line-height: 1; border-radius: 0.35em;\">\n",
       "    CEFALÉIA\n",
       "    <span style=\"font-size: 0.8em; font-weight: bold; line-height: 1; border-radius: 0.35em; vertical-align: middle; margin-left: 0.5rem\">Problema</span>\n",
       "</mark>\n",
       " NO PERÍODO DA MANHÃ E FOI MEDICADO. CONSCIENTE, PUPILAS ISOCÓRICAS FOTORREAGENTES, COMUNICATIVO, EUPNÉICO, REPOUSO NO LEITO, ACEITANDO BEM A DIETA, SEM \n",
       "<mark class=\"entity\" style=\"background: #808080; padding: 0.45em 0.6em; margin: 0 0.25em; line-height: 1; border-radius: 0.35em;\">\n",
       "    ACESSO\n",
       "    <span style=\"font-size: 0.8em; font-weight: bold; line-height: 1; border-radius: 0.35em; vertical-align: middle; margin-left: 0.5rem\">Problema</span>\n",
       "</mark>\n",
       " PERIFÉRICO, APRESENTANDO \n",
       "<mark class=\"entity\" style=\"background: #808080; padding: 0.45em 0.6em; margin: 0 0.25em; line-height: 1; border-radius: 0.35em;\">\n",
       "    EDEMA EM\n",
       "    <span style=\"font-size: 0.8em; font-weight: bold; line-height: 1; border-radius: 0.35em; vertical-align: middle; margin-left: 0.5rem\">Problema</span>\n",
       "</mark>\n",
       " OMBRO E, MANTENDO \n",
       "<mark class=\"entity\" style=\"background: #808080; padding: 0.45em 0.6em; margin: 0 0.25em; line-height: 1; border-radius: 0.35em;\">\n",
       "    TIPÓIA\n",
       "    <span style=\"font-size: 0.8em; font-weight: bold; line-height: 1; border-radius: 0.35em; vertical-align: middle; margin-left: 0.5rem\">Problema</span>\n",
       "</mark>\n",
       " DE \n",
       "<mark class=\"entity\" style=\"background: #808080; padding: 0.45em 0.6em; margin: 0 0.25em; line-height: 1; border-radius: 0.35em;\">\n",
       "    ATADURA\n",
       "    <span style=\"font-size: 0.8em; font-weight: bold; line-height: 1; border-radius: 0.35em; vertical-align: middle; margin-left: 0.5rem\">Problema</span>\n",
       "</mark>\n",
       " EM MSE, \n",
       "<mark class=\"entity\" style=\"background: #808080; padding: 0.45em 0.6em; margin: 0 0.25em; line-height: 1; border-radius: 0.35em;\">\n",
       "    ABDÔMEN\n",
       "    <span style=\"font-size: 0.8em; font-weight: bold; line-height: 1; border-radius: 0.35em; vertical-align: middle; margin-left: 0.5rem\">Problema</span>\n",
       "</mark>\n",
       " PLANO E FLÁCIDO, ELIMINAÇÕES PRESENTES\n",
       "<mark class=\"entity\" style=\"background: #7FFF00; padding: 0.45em 0.6em; margin: 0 0.25em; line-height: 1; border-radius: 0.35em;\">\n",
       "    .\n",
       "    <span style=\"font-size: 0.8em; font-weight: bold; line-height: 1; border-radius: 0.35em; vertical-align: middle; margin-left: 0.5rem\"><pad></span>\n",
       "</mark>\n",
       " 20:50 h: Paciente com cuff furado, realizado troca de TOT, instalado \n",
       "<mark class=\"entity\" style=\"background: #6495ED; padding: 0.45em 0.6em; margin: 0 0.25em; line-height: 1; border-radius: 0.35em;\">\n",
       "    TOT\n",
       "    <span style=\"font-size: 0.8em; font-weight: bold; line-height: 1; border-radius: 0.35em; vertical-align: middle; margin-left: 0.5rem\">Tratamento</span>\n",
       "</mark>\n",
       " 7.5, VM modo controlado \n",
       "<mark class=\"entity\" style=\"background: #6495ED; padding: 0.45em 0.6em; margin: 0 0.25em; line-height: 1; border-radius: 0.35em;\">\n",
       "    VC\n",
       "    <span style=\"font-size: 0.8em; font-weight: bold; line-height: 1; border-radius: 0.35em; vertical-align: middle; margin-left: 0.5rem\">Tratamento</span>\n",
       "</mark>\n",
       " 500, \n",
       "<mark class=\"entity\" style=\"background: #000080; padding: 0.45em 0.6em; margin: 0 0.25em; line-height: 1; border-radius: 0.35em;\">\n",
       "    PEEP\n",
       "    <span style=\"font-size: 0.8em; font-weight: bold; line-height: 1; border-radius: 0.35em; vertical-align: middle; margin-left: 0.5rem\">Teste</span>\n",
       "</mark>\n",
       " 07, FIO2 a 50%. 22:30h: ESQUEMA DE SUPERVISÃO NOTURNA: \n",
       "<mark class=\"entity\" style=\"background: #808080; padding: 0.45em 0.6em; margin: 0 0.25em; line-height: 1; border-radius: 0.35em;\">\n",
       "    TRAQUEOSTOMIZADO\n",
       "    <span style=\"font-size: 0.8em; font-weight: bold; line-height: 1; border-radius: 0.35em; vertical-align: middle; margin-left: 0.5rem\">Problema</span>\n",
       "</mark>\n",
       ", EM DESMAME VENTILATÓRIO EM PS DE 17, \n",
       "<mark class=\"entity\" style=\"background: #808080; padding: 0.45em 0.6em; margin: 0 0.25em; line-height: 1; border-radius: 0.35em;\">\n",
       "    PEEP\n",
       "    <span style=\"font-size: 0.8em; font-weight: bold; line-height: 1; border-radius: 0.35em; vertical-align: middle; margin-left: 0.5rem\">Problema</span>\n",
       "</mark>\n",
       " 5, \n",
       "<mark class=\"entity\" style=\"background: #808080; padding: 0.45em 0.6em; margin: 0 0.25em; line-height: 1; border-radius: 0.35em;\">\n",
       "    FIO2\n",
       "    <span style=\"font-size: 0.8em; font-weight: bold; line-height: 1; border-radius: 0.35em; vertical-align: middle; margin-left: 0.5rem\">Problema</span>\n",
       "</mark>\n",
       " 50%. PERMANECE EXTREMAMENTE AGITADO (não responde à sedação intermitente). REINICIADO  \n",
       "<mark class=\"entity\" style=\"background: #6495ED; padding: 0.45em 0.6em; margin: 0 0.25em; line-height: 1; border-radius: 0.35em;\">\n",
       "    DORMONID\n",
       "    <span style=\"font-size: 0.8em; font-weight: bold; line-height: 1; border-radius: 0.35em; vertical-align: middle; margin-left: 0.5rem\">Tratamento</span>\n",
       "</mark>\n",
       " 7 \n",
       "<mark class=\"entity\" style=\"background: #6495ED; padding: 0.45em 0.6em; margin: 0 0.25em; line-height: 1; border-radius: 0.35em;\">\n",
       "    ML\n",
       "    <span style=\"font-size: 0.8em; font-weight: bold; line-height: 1; border-radius: 0.35em; vertical-align: middle; margin-left: 0.5rem\">Tratamento</span>\n",
       "</mark>\n",
       "/H, \n",
       "<mark class=\"entity\" style=\"background: #6495ED; padding: 0.45em 0.6em; margin: 0 0.25em; line-height: 1; border-radius: 0.35em;\">\n",
       "    FENTANIL 2 ML\n",
       "    <span style=\"font-size: 0.8em; font-weight: bold; line-height: 1; border-radius: 0.35em; vertical-align: middle; margin-left: 0.5rem\">Tratamento</span>\n",
       "</mark>\n",
       "/H (continua não respondendo). PERMANECE AGITADO, ARRANCOU SOE. \n",
       "<mark class=\"entity\" style=\"background: #808080; padding: 0.45em 0.6em; margin: 0 0.25em; line-height: 1; border-radius: 0.35em;\">\n",
       "    ACESSO VENOSO PERIFÉRICO\n",
       "    <span style=\"font-size: 0.8em; font-weight: bold; line-height: 1; border-radius: 0.35em; vertical-align: middle; margin-left: 0.5rem\">Problema</span>\n",
       "</mark>\n",
       " EM MSD COM PLANO BÁSICO DE \n",
       "<mark class=\"entity\" style=\"background: #808080; padding: 0.45em 0.6em; margin: 0 0.25em; line-height: 1; border-radius: 0.35em;\">\n",
       "    HIDRATAÇÃO\n",
       "    <span style=\"font-size: 0.8em; font-weight: bold; line-height: 1; border-radius: 0.35em; vertical-align: middle; margin-left: 0.5rem\">Problema</span>\n",
       "</mark>\n",
       " + \n",
       "<mark class=\"entity\" style=\"background: #808080; padding: 0.45em 0.6em; margin: 0 0.25em; line-height: 1; border-radius: 0.35em;\">\n",
       "    SEDAÇÃO\n",
       "    <span style=\"font-size: 0.8em; font-weight: bold; line-height: 1; border-radius: 0.35em; vertical-align: middle; margin-left: 0.5rem\">Problema</span>\n",
       "</mark>\n",
       ". POLISSECRETIVO (mantendo trach care)\n",
       "<mark class=\"entity\" style=\"background: #7FFF00; padding: 0.45em 0.6em; margin: 0 0.25em; line-height: 1; border-radius: 0.35em;\">\n",
       "    .\n",
       "    <span style=\"font-size: 0.8em; font-weight: bold; line-height: 1; border-radius: 0.35em; vertical-align: middle; margin-left: 0.5rem\"><pad></span>\n",
       "</mark>\n",
       " FO SEM \n",
       "<mark class=\"entity\" style=\"background: #808080; padding: 0.45em 0.6em; margin: 0 0.25em; line-height: 1; border-radius: 0.35em;\">\n",
       "    SINAIS\n",
       "    <span style=\"font-size: 0.8em; font-weight: bold; line-height: 1; border-radius: 0.35em; vertical-align: middle; margin-left: 0.5rem\">Problema</span>\n",
       "</mark>\n",
       " FLOGÍSTICOS EM FACE, EDEMA EM FACE LD. MONITORIZAÇÃO DE MÚLTIPLOS PARÂMETROS CONFORME ROTINA DA UTI. DIURESE EM UROPEN. 23:30 h: Retorna do CC, onde realizou relaparotomia exploradora, instalado sistema de aspiração fechado em traqueostomia (trach care) no CC, trajeto de volta do CC sem intercorrências, mantém monitorização de parâmetros, TOT nº 7,5 em rima 22, VM modo VCV 440ml, peep 6, fio2 a 40%, pupilas isocóricas fotorreagentes, SNG com débito em média quantidade de aspecto borra de café, diurese via SVD em média quantidade, sem grumos, de cor amarelo claro, PAM em radial esquerda, acesso venoso central em subclávia à direita, evacuação ausente no período.</div></span>"
      ],
      "text/plain": [
       "<IPython.core.display.HTML object>"
      ]
     },
     "metadata": {},
     "output_type": "display_data"
    },
    {
     "name": "stdout",
     "output_type": "stream",
     "text": [
      "\n",
      "\n",
      "\n",
      "\n",
      "\n"
     ]
    }
   ],
   "source": [
    "# Iterate over each model in the models_dict dictionary\n",
    "for model_name, ner_pipeline in models_dict.items():\n",
    "    # Print the name of the model being used for inference\n",
    "    print(f'Inference with model {model_name}')\n",
    "    \n",
    "    # Perform inference using the NER pipeline and render the entities in the example text\n",
    "    perform_inference_and_render_entities(ner_pipeline, txt_example)\n",
    "    \n",
    "    # Print four newline characters to separate the output of different models\n",
    "    print('\\n' * 4)"
   ]
  },
  {
   "cell_type": "code",
   "execution_count": 48,
   "metadata": {},
   "outputs": [
    {
     "name": "stdout",
     "output_type": "stream",
     "text": [
      "Inference with model pucpr/clinicalnerpt-diagnostic\n"
     ]
    },
    {
     "data": {
      "text/html": [
       "<span class=\"tex2jax_ignore\"><div class=\"entities\" style=\"line-height: 2.5; direction: ltr\">Data de alta: 3/3/2006 MÉDICO ASSISTENTE: BALIS, NORBERTO M.D. SERVIÇO: FHCC. DIAGNÓSTICOS DE ALTA: Pneumonia e ITU. DIAGNÓSTICOS DE ALTA ASSOCIADOS: 1. História de acidente vascular encefálico embólico da MCA direita em 5/15, pós ICA direita em 3/1/06. 2. História de epilepsia temporal. 3. TDAH. 4. Câncer de pulmão não pequenas células estágio III, pós radioterapia e quimioterapia. 5. Hipertensão. 6. Asma. 7. Doença de Graves. 8. Depressão. 9. História de síndrome do roubo subclávio. 10. História de infecção do trato urinário. HISTÓRIA DA DOENÇA ATUAL: Esta é uma mulher de 63 anos, destra, com histórico de câncer de pulmão não pequenas células estágio III, pós radioterapia e quimioterapia, histórico de acidente vascular encefálico embólico da MCA direita, pós CEA direita em 3/1/06 por estenose de 70% da ICA direita, possível histórico de epilepsia temporal direita, que foi readmitida no serviço de medicina de sua casa de repouso por alteração do estado mental, febre e tosse. A paciente foi internada recentemente de 24/2/06 a 5/1/06 por alteração do estado mental, tratada para ITU presumida, mas cresceu com levedura, sem bactérias. A paciente foi consultada por neurologia devido à sonolência aumentada. Ela fez uma \n",
       "<mark class=\"entity\" style=\"background: #800000; padding: 0.45em 0.6em; margin: 0 0.25em; line-height: 1; border-radius: 0.35em;\">\n",
       "    tomografia de cabeça\n",
       "    <span style=\"font-size: 0.8em; font-weight: bold; line-height: 1; border-radius: 0.35em; vertical-align: middle; margin-left: 0.5rem\">DiagnosticProcedure</span>\n",
       "</mark>\n",
       " naquele momento que mostra encefalomalacia na distribuição da MCA direita consistente com AVC antigo, sem hemorragias intracranianas agudas, deslocamentos de linha média ou efeito de massa. Não foram observadas lesões metastáticas definitivas. De acordo com o oncologista da paciente, sua resposta ao tratamento tem sido excelente. Ela tem um \n",
       "<mark class=\"entity\" style=\"background: #800000; padding: 0.45em 0.6em; margin: 0 0.25em; line-height: 1; border-radius: 0.35em;\">\n",
       "    EEG\n",
       "    <span style=\"font-size: 0.8em; font-weight: bold; line-height: 1; border-radius: 0.35em; vertical-align: middle; margin-left: 0.5rem\">DiagnosticProcedure</span>\n",
       "</mark>\n",
       " negativo. A \n",
       "<mark class=\"entity\" style=\"background: #800000; padding: 0.45em 0.6em; margin: 0 0.25em; line-height: 1; border-radius: 0.35em;\">\n",
       "    ressonância magnética\n",
       "    <span style=\"font-size: 0.8em; font-weight: bold; line-height: 1; border-radius: 0.35em; vertical-align: middle; margin-left: 0.5rem\">DiagnosticProcedure</span>\n",
       "</mark>\n",
       "/\n",
       "<mark class=\"entity\" style=\"background: #800000; padding: 0.45em 0.6em; margin: 0 0.25em; line-height: 1; border-radius: 0.35em;\">\n",
       "    arteriografia cerebral\n",
       "    <span style=\"font-size: 0.8em; font-weight: bold; line-height: 1; border-radius: 0.35em; vertical-align: middle; margin-left: 0.5rem\">DiagnosticProcedure</span>\n",
       "</mark>\n",
       " sempre mostra o infarto da MCA direita. B12, folato, TSH e RPR normais. Neurologia naquela época concordou que nenhuma avaliação adicional da sonolência é necessária neste momento e que a doença leptomeningeal é improvável devido à falta de achados neurológicos. A paciente foi então transferida para reabilitação em 5/1/06. De acordo com a equipe de enfermagem e discussão com a equipe médica, a paciente teve estado mental variável, às vezes parecendo alerta e adequada e outras vezes alucinante e agitada. Ela também teve períodos de tosse, febre e dor ao urinar. De acordo com o filho, ela teve tosse nos últimos 10 dias antes da internação. Ela não tem se alimentado adequadamente, com alimentos saindo de sua boca e está pouco responsiva. Ela fez um raio-X de tórax em 26/7/06 que mostra uma massa hilar direita e infiltrado no lobo superior direito. Ela foi iniciada em moxifloxacina 400 mg via oral diariamente em 26/7/06 e depois transferida para o Hospital Comunitário de Kendertawn a pedido do filho devido à alteração do estado mental, tosse, febre e pneumonia presumida. No pronto-socorro, sua temperatura era de 98,8, pulso de 122, pressão arterial de 160/68, respiração em 20. Ela recebeu vancomicina, levofloxacina e 4 litros de líquidos. O raio-X de tórax era compatível com pneumonia no lobo superior direito, com suspeita de pneumonia pós-obstrutiva. Seu exame de urina estava bastante sujo com cristais de oxalato, leveduras e mais de 100 leucócitos. Ela foi iniciada em vancomicina e levofloxacina para pneumonia presumida e ITU. Sua tomografia de cabeça não mostrou nenhuma alteração aguda, mas também mostrou infarto crônico da MCA direita. A paciente foi transferida para o andar para mais tratamento.</div></span>"
      ],
      "text/plain": [
       "<IPython.core.display.HTML object>"
      ]
     },
     "metadata": {},
     "output_type": "display_data"
    },
    {
     "name": "stdout",
     "output_type": "stream",
     "text": [
      "\n",
      "\n",
      "\n",
      "\n",
      "\n",
      "Inference with model pucpr/clinicalnerpt-disorder\n"
     ]
    },
    {
     "data": {
      "text/html": [
       "<span class=\"tex2jax_ignore\"><div class=\"entities\" style=\"line-height: 2.5; direction: ltr\">Data de alta: 3/3/2006 MÉDICO ASSISTENTE: BALIS, NORBERTO M.D. SERVIÇO: FHCC. DIAGNÓSTICOS DE ALTA: \n",
       "<mark class=\"entity\" style=\"background: #FF0000; padding: 0.45em 0.6em; margin: 0 0.25em; line-height: 1; border-radius: 0.35em;\">\n",
       "    Pneumonia\n",
       "    <span style=\"font-size: 0.8em; font-weight: bold; line-height: 1; border-radius: 0.35em; vertical-align: middle; margin-left: 0.5rem\">Disorder</span>\n",
       "</mark>\n",
       " e \n",
       "<mark class=\"entity\" style=\"background: #FF0000; padding: 0.45em 0.6em; margin: 0 0.25em; line-height: 1; border-radius: 0.35em;\">\n",
       "    ITU\n",
       "    <span style=\"font-size: 0.8em; font-weight: bold; line-height: 1; border-radius: 0.35em; vertical-align: middle; margin-left: 0.5rem\">Disorder</span>\n",
       "</mark>\n",
       ". DIAGNÓSTICOS DE ALTA ASSOCIADOS: 1. História de \n",
       "<mark class=\"entity\" style=\"background: #FF0000; padding: 0.45em 0.6em; margin: 0 0.25em; line-height: 1; border-radius: 0.35em;\">\n",
       "    acidente\n",
       "    <span style=\"font-size: 0.8em; font-weight: bold; line-height: 1; border-radius: 0.35em; vertical-align: middle; margin-left: 0.5rem\">Disorder</span>\n",
       "</mark>\n",
       " \n",
       "<mark class=\"entity\" style=\"background: #FF0000; padding: 0.45em 0.6em; margin: 0 0.25em; line-height: 1; border-radius: 0.35em;\">\n",
       "    vascular encefálico embólico\n",
       "    <span style=\"font-size: 0.8em; font-weight: bold; line-height: 1; border-radius: 0.35em; vertical-align: middle; margin-left: 0.5rem\">Disorder</span>\n",
       "</mark>\n",
       " da MCA direita em 5/15, pós ICA direita em 3/1/06. 2. História de \n",
       "<mark class=\"entity\" style=\"background: #FF0000; padding: 0.45em 0.6em; margin: 0 0.25em; line-height: 1; border-radius: 0.35em;\">\n",
       "    epilepsia temporal\n",
       "    <span style=\"font-size: 0.8em; font-weight: bold; line-height: 1; border-radius: 0.35em; vertical-align: middle; margin-left: 0.5rem\">Disorder</span>\n",
       "</mark>\n",
       ". 3. TDAH. 4. \n",
       "<mark class=\"entity\" style=\"background: #FF0000; padding: 0.45em 0.6em; margin: 0 0.25em; line-height: 1; border-radius: 0.35em;\">\n",
       "    Câncer de pulmão\n",
       "    <span style=\"font-size: 0.8em; font-weight: bold; line-height: 1; border-radius: 0.35em; vertical-align: middle; margin-left: 0.5rem\">Disorder</span>\n",
       "</mark>\n",
       " não pequenas \n",
       "<mark class=\"entity\" style=\"background: #FF0000; padding: 0.45em 0.6em; margin: 0 0.25em; line-height: 1; border-radius: 0.35em;\">\n",
       "    células\n",
       "    <span style=\"font-size: 0.8em; font-weight: bold; line-height: 1; border-radius: 0.35em; vertical-align: middle; margin-left: 0.5rem\">Disorder</span>\n",
       "</mark>\n",
       " estágio III, pós radioterapia e quimioterapia. 5. \n",
       "<mark class=\"entity\" style=\"background: #FF0000; padding: 0.45em 0.6em; margin: 0 0.25em; line-height: 1; border-radius: 0.35em;\">\n",
       "    Hipertensão\n",
       "    <span style=\"font-size: 0.8em; font-weight: bold; line-height: 1; border-radius: 0.35em; vertical-align: middle; margin-left: 0.5rem\">Disorder</span>\n",
       "</mark>\n",
       ". 6. \n",
       "<mark class=\"entity\" style=\"background: #FF0000; padding: 0.45em 0.6em; margin: 0 0.25em; line-height: 1; border-radius: 0.35em;\">\n",
       "    Asma\n",
       "    <span style=\"font-size: 0.8em; font-weight: bold; line-height: 1; border-radius: 0.35em; vertical-align: middle; margin-left: 0.5rem\">Disorder</span>\n",
       "</mark>\n",
       ". 7. \n",
       "<mark class=\"entity\" style=\"background: #FF0000; padding: 0.45em 0.6em; margin: 0 0.25em; line-height: 1; border-radius: 0.35em;\">\n",
       "    Doença de Graves\n",
       "    <span style=\"font-size: 0.8em; font-weight: bold; line-height: 1; border-radius: 0.35em; vertical-align: middle; margin-left: 0.5rem\">Disorder</span>\n",
       "</mark>\n",
       ". 8. \n",
       "<mark class=\"entity\" style=\"background: #FF0000; padding: 0.45em 0.6em; margin: 0 0.25em; line-height: 1; border-radius: 0.35em;\">\n",
       "    Depressão\n",
       "    <span style=\"font-size: 0.8em; font-weight: bold; line-height: 1; border-radius: 0.35em; vertical-align: middle; margin-left: 0.5rem\">Disorder</span>\n",
       "</mark>\n",
       ". 9. História de \n",
       "<mark class=\"entity\" style=\"background: #FF0000; padding: 0.45em 0.6em; margin: 0 0.25em; line-height: 1; border-radius: 0.35em;\">\n",
       "    síndrome do roubo subclávio\n",
       "    <span style=\"font-size: 0.8em; font-weight: bold; line-height: 1; border-radius: 0.35em; vertical-align: middle; margin-left: 0.5rem\">Disorder</span>\n",
       "</mark>\n",
       ". 10. História de \n",
       "<mark class=\"entity\" style=\"background: #FF0000; padding: 0.45em 0.6em; margin: 0 0.25em; line-height: 1; border-radius: 0.35em;\">\n",
       "    infecção do trato urinário\n",
       "    <span style=\"font-size: 0.8em; font-weight: bold; line-height: 1; border-radius: 0.35em; vertical-align: middle; margin-left: 0.5rem\">Disorder</span>\n",
       "</mark>\n",
       ". HISTÓRIA DA DOENÇA ATUAL: Esta é uma mulher de 63 anos, destra, com histórico de \n",
       "<mark class=\"entity\" style=\"background: #FF0000; padding: 0.45em 0.6em; margin: 0 0.25em; line-height: 1; border-radius: 0.35em;\">\n",
       "    câncer de pulmão\n",
       "    <span style=\"font-size: 0.8em; font-weight: bold; line-height: 1; border-radius: 0.35em; vertical-align: middle; margin-left: 0.5rem\">Disorder</span>\n",
       "</mark>\n",
       " não pequenas células estágio III, pós radioterapia e quimioterapia, histórico de \n",
       "<mark class=\"entity\" style=\"background: #FF0000; padding: 0.45em 0.6em; margin: 0 0.25em; line-height: 1; border-radius: 0.35em;\">\n",
       "    acidente\n",
       "    <span style=\"font-size: 0.8em; font-weight: bold; line-height: 1; border-radius: 0.35em; vertical-align: middle; margin-left: 0.5rem\">Disorder</span>\n",
       "</mark>\n",
       " \n",
       "<mark class=\"entity\" style=\"background: #FF0000; padding: 0.45em 0.6em; margin: 0 0.25em; line-height: 1; border-radius: 0.35em;\">\n",
       "    vascular\n",
       "    <span style=\"font-size: 0.8em; font-weight: bold; line-height: 1; border-radius: 0.35em; vertical-align: middle; margin-left: 0.5rem\">Disorder</span>\n",
       "</mark>\n",
       " encefálico \n",
       "<mark class=\"entity\" style=\"background: #FF0000; padding: 0.45em 0.6em; margin: 0 0.25em; line-height: 1; border-radius: 0.35em;\">\n",
       "    embólico\n",
       "    <span style=\"font-size: 0.8em; font-weight: bold; line-height: 1; border-radius: 0.35em; vertical-align: middle; margin-left: 0.5rem\">Disorder</span>\n",
       "</mark>\n",
       " da MCA direita, pós CEA direita em 3/1/06 por \n",
       "<mark class=\"entity\" style=\"background: #FF0000; padding: 0.45em 0.6em; margin: 0 0.25em; line-height: 1; border-radius: 0.35em;\">\n",
       "    estenose\n",
       "    <span style=\"font-size: 0.8em; font-weight: bold; line-height: 1; border-radius: 0.35em; vertical-align: middle; margin-left: 0.5rem\">Disorder</span>\n",
       "</mark>\n",
       " de 70% da ICA direita, possível histórico de \n",
       "<mark class=\"entity\" style=\"background: #FF0000; padding: 0.45em 0.6em; margin: 0 0.25em; line-height: 1; border-radius: 0.35em;\">\n",
       "    epilepsia temporal direita\n",
       "    <span style=\"font-size: 0.8em; font-weight: bold; line-height: 1; border-radius: 0.35em; vertical-align: middle; margin-left: 0.5rem\">Disorder</span>\n",
       "</mark>\n",
       ", que foi readmitida no serviço de medicina de sua casa de repouso por \n",
       "<mark class=\"entity\" style=\"background: #FF0000; padding: 0.45em 0.6em; margin: 0 0.25em; line-height: 1; border-radius: 0.35em;\">\n",
       "    alteração do estado mental\n",
       "    <span style=\"font-size: 0.8em; font-weight: bold; line-height: 1; border-radius: 0.35em; vertical-align: middle; margin-left: 0.5rem\">Disorder</span>\n",
       "</mark>\n",
       ", \n",
       "<mark class=\"entity\" style=\"background: #FF0000; padding: 0.45em 0.6em; margin: 0 0.25em; line-height: 1; border-radius: 0.35em;\">\n",
       "    febre\n",
       "    <span style=\"font-size: 0.8em; font-weight: bold; line-height: 1; border-radius: 0.35em; vertical-align: middle; margin-left: 0.5rem\">Disorder</span>\n",
       "</mark>\n",
       " e \n",
       "<mark class=\"entity\" style=\"background: #FF0000; padding: 0.45em 0.6em; margin: 0 0.25em; line-height: 1; border-radius: 0.35em;\">\n",
       "    tosse\n",
       "    <span style=\"font-size: 0.8em; font-weight: bold; line-height: 1; border-radius: 0.35em; vertical-align: middle; margin-left: 0.5rem\">Disorder</span>\n",
       "</mark>\n",
       ". A paciente foi internada recentemente de 24/2/06 a 5/1/06 por \n",
       "<mark class=\"entity\" style=\"background: #FF0000; padding: 0.45em 0.6em; margin: 0 0.25em; line-height: 1; border-radius: 0.35em;\">\n",
       "    alteração do estado mental\n",
       "    <span style=\"font-size: 0.8em; font-weight: bold; line-height: 1; border-radius: 0.35em; vertical-align: middle; margin-left: 0.5rem\">Disorder</span>\n",
       "</mark>\n",
       ", tratada para \n",
       "<mark class=\"entity\" style=\"background: #FF0000; padding: 0.45em 0.6em; margin: 0 0.25em; line-height: 1; border-radius: 0.35em;\">\n",
       "    ITU\n",
       "    <span style=\"font-size: 0.8em; font-weight: bold; line-height: 1; border-radius: 0.35em; vertical-align: middle; margin-left: 0.5rem\">Disorder</span>\n",
       "</mark>\n",
       " presumida, mas cresceu com \n",
       "<mark class=\"entity\" style=\"background: #FF0000; padding: 0.45em 0.6em; margin: 0 0.25em; line-height: 1; border-radius: 0.35em;\">\n",
       "    levedura\n",
       "    <span style=\"font-size: 0.8em; font-weight: bold; line-height: 1; border-radius: 0.35em; vertical-align: middle; margin-left: 0.5rem\">Disorder</span>\n",
       "</mark>\n",
       ", sem \n",
       "<mark class=\"entity\" style=\"background: #FF0000; padding: 0.45em 0.6em; margin: 0 0.25em; line-height: 1; border-radius: 0.35em;\">\n",
       "    bactérias\n",
       "    <span style=\"font-size: 0.8em; font-weight: bold; line-height: 1; border-radius: 0.35em; vertical-align: middle; margin-left: 0.5rem\">Disorder</span>\n",
       "</mark>\n",
       ". A paciente foi consultada por neurologia devido à \n",
       "<mark class=\"entity\" style=\"background: #FF0000; padding: 0.45em 0.6em; margin: 0 0.25em; line-height: 1; border-radius: 0.35em;\">\n",
       "    sonolência aumentada\n",
       "    <span style=\"font-size: 0.8em; font-weight: bold; line-height: 1; border-radius: 0.35em; vertical-align: middle; margin-left: 0.5rem\">Disorder</span>\n",
       "</mark>\n",
       ". Ela fez uma tomografia de cabeça naquele momento que mostra \n",
       "<mark class=\"entity\" style=\"background: #FF0000; padding: 0.45em 0.6em; margin: 0 0.25em; line-height: 1; border-radius: 0.35em;\">\n",
       "    encefalomalacia\n",
       "    <span style=\"font-size: 0.8em; font-weight: bold; line-height: 1; border-radius: 0.35em; vertical-align: middle; margin-left: 0.5rem\">Disorder</span>\n",
       "</mark>\n",
       " na distribuição da MCA direita consistente com \n",
       "<mark class=\"entity\" style=\"background: #FF0000; padding: 0.45em 0.6em; margin: 0 0.25em; line-height: 1; border-radius: 0.35em;\">\n",
       "    AVC\n",
       "    <span style=\"font-size: 0.8em; font-weight: bold; line-height: 1; border-radius: 0.35em; vertical-align: middle; margin-left: 0.5rem\">Disorder</span>\n",
       "</mark>\n",
       " antigo, sem \n",
       "<mark class=\"entity\" style=\"background: #FF0000; padding: 0.45em 0.6em; margin: 0 0.25em; line-height: 1; border-radius: 0.35em;\">\n",
       "    hemorragias intracranianas agudas\n",
       "    <span style=\"font-size: 0.8em; font-weight: bold; line-height: 1; border-radius: 0.35em; vertical-align: middle; margin-left: 0.5rem\">Disorder</span>\n",
       "</mark>\n",
       ", \n",
       "<mark class=\"entity\" style=\"background: #FF0000; padding: 0.45em 0.6em; margin: 0 0.25em; line-height: 1; border-radius: 0.35em;\">\n",
       "    deslocamentos de linha média\n",
       "    <span style=\"font-size: 0.8em; font-weight: bold; line-height: 1; border-radius: 0.35em; vertical-align: middle; margin-left: 0.5rem\">Disorder</span>\n",
       "</mark>\n",
       " ou \n",
       "<mark class=\"entity\" style=\"background: #FF0000; padding: 0.45em 0.6em; margin: 0 0.25em; line-height: 1; border-radius: 0.35em;\">\n",
       "    efeito de massa\n",
       "    <span style=\"font-size: 0.8em; font-weight: bold; line-height: 1; border-radius: 0.35em; vertical-align: middle; margin-left: 0.5rem\">Disorder</span>\n",
       "</mark>\n",
       ". Não foram observadas \n",
       "<mark class=\"entity\" style=\"background: #FF0000; padding: 0.45em 0.6em; margin: 0 0.25em; line-height: 1; border-radius: 0.35em;\">\n",
       "    lesões metastáticas definitivas\n",
       "    <span style=\"font-size: 0.8em; font-weight: bold; line-height: 1; border-radius: 0.35em; vertical-align: middle; margin-left: 0.5rem\">Disorder</span>\n",
       "</mark>\n",
       ". De acordo com o oncologista da paciente, sua resposta ao tratamento tem sido excelente. Ela tem um EEG negativo. A ressonância magnética/arteriografia cerebral sempre mostra o \n",
       "<mark class=\"entity\" style=\"background: #FF0000; padding: 0.45em 0.6em; margin: 0 0.25em; line-height: 1; border-radius: 0.35em;\">\n",
       "    infarto\n",
       "    <span style=\"font-size: 0.8em; font-weight: bold; line-height: 1; border-radius: 0.35em; vertical-align: middle; margin-left: 0.5rem\">Disorder</span>\n",
       "</mark>\n",
       " da MCA direita. B12, folato, TSH e RPR normais. Neurologia naquela época concordou que nenhuma avaliação adicional da sonolência é necessária neste momento e que a doença leptomeningeal é improvável devido à falta de achados neurológicos. A paciente foi então transferida para reabilitação em 5/1/06. De acordo com a equipe de enfermagem e discussão com a equipe médica, a paciente teve estado mental variável, às vezes parecendo alerta e adequada e outras vezes alucinante e agitada. Ela também teve períodos de tosse, febre e dor ao urinar. De acordo com o filho, ela teve tosse nos últimos 10 dias antes da internação. Ela não tem se alimentado adequadamente, com alimentos saindo de sua boca e está pouco responsiva. Ela fez um raio-X de tórax em 26/7/06 que mostra uma massa hilar direita e infiltrado no lobo superior direito. Ela foi iniciada em moxifloxacina 400 mg via oral diariamente em 26/7/06 e depois transferida para o Hospital Comunitário de Kendertawn a pedido do filho devido à alteração do estado mental, tosse, febre e pneumonia presumida. No pronto-socorro, sua temperatura era de 98,8, pulso de 122, pressão arterial de 160/68, respiração em 20. Ela recebeu vancomicina, levofloxacina e 4 litros de líquidos. O raio-X de tórax era compatível com pneumonia no lobo superior direito, com suspeita de pneumonia pós-obstrutiva. Seu exame de urina estava bastante sujo com cristais de oxalato, leveduras e mais de 100 leucócitos. Ela foi iniciada em vancomicina e levofloxacina para pneumonia presumida e ITU. Sua tomografia de cabeça não mostrou nenhuma alteração aguda, mas também mostrou infarto crônico da MCA direita. A paciente foi transferida para o andar para mais tratamento.</div></span>"
      ],
      "text/plain": [
       "<IPython.core.display.HTML object>"
      ]
     },
     "metadata": {},
     "output_type": "display_data"
    },
    {
     "name": "stdout",
     "output_type": "stream",
     "text": [
      "\n",
      "\n",
      "\n",
      "\n",
      "\n",
      "Inference with model pucpr/clinicalnerpt-disease\n"
     ]
    },
    {
     "data": {
      "text/html": [
       "<span class=\"tex2jax_ignore\"><div class=\"entities\" style=\"line-height: 2.5; direction: ltr\">Data de alta: 3/3/2006 MÉDICO ASSISTENTE: BALIS, NORBERTO M.D. SERVIÇO: \n",
       "<mark class=\"entity\" style=\"background: #6495ED; padding: 0.45em 0.6em; margin: 0 0.25em; line-height: 1; border-radius: 0.35em;\">\n",
       "    FHCC\n",
       "    <span style=\"font-size: 0.8em; font-weight: bold; line-height: 1; border-radius: 0.35em; vertical-align: middle; margin-left: 0.5rem\">DiseaseOrSyndrome</span>\n",
       "</mark>\n",
       ". DIAGNÓSTICOS DE ALTA: \n",
       "<mark class=\"entity\" style=\"background: #6495ED; padding: 0.45em 0.6em; margin: 0 0.25em; line-height: 1; border-radius: 0.35em;\">\n",
       "    Pneumonia\n",
       "    <span style=\"font-size: 0.8em; font-weight: bold; line-height: 1; border-radius: 0.35em; vertical-align: middle; margin-left: 0.5rem\">DiseaseOrSyndrome</span>\n",
       "</mark>\n",
       " e \n",
       "<mark class=\"entity\" style=\"background: #6495ED; padding: 0.45em 0.6em; margin: 0 0.25em; line-height: 1; border-radius: 0.35em;\">\n",
       "    ITU\n",
       "    <span style=\"font-size: 0.8em; font-weight: bold; line-height: 1; border-radius: 0.35em; vertical-align: middle; margin-left: 0.5rem\">DiseaseOrSyndrome</span>\n",
       "</mark>\n",
       ". DIAGNÓSTICOS DE ALTA ASSOCIADOS: 1. História de \n",
       "<mark class=\"entity\" style=\"background: #6495ED; padding: 0.45em 0.6em; margin: 0 0.25em; line-height: 1; border-radius: 0.35em;\">\n",
       "    acidente\n",
       "    <span style=\"font-size: 0.8em; font-weight: bold; line-height: 1; border-radius: 0.35em; vertical-align: middle; margin-left: 0.5rem\">DiseaseOrSyndrome</span>\n",
       "</mark>\n",
       " \n",
       "<mark class=\"entity\" style=\"background: #6495ED; padding: 0.45em 0.6em; margin: 0 0.25em; line-height: 1; border-radius: 0.35em;\">\n",
       "    vascular encefálico embólico\n",
       "    <span style=\"font-size: 0.8em; font-weight: bold; line-height: 1; border-radius: 0.35em; vertical-align: middle; margin-left: 0.5rem\">DiseaseOrSyndrome</span>\n",
       "</mark>\n",
       " da MCA direita em 5/15, pós ICA direita em 3/1/06. 2. História de \n",
       "<mark class=\"entity\" style=\"background: #6495ED; padding: 0.45em 0.6em; margin: 0 0.25em; line-height: 1; border-radius: 0.35em;\">\n",
       "    epilepsia temporal\n",
       "    <span style=\"font-size: 0.8em; font-weight: bold; line-height: 1; border-radius: 0.35em; vertical-align: middle; margin-left: 0.5rem\">DiseaseOrSyndrome</span>\n",
       "</mark>\n",
       ". 3. \n",
       "<mark class=\"entity\" style=\"background: #6495ED; padding: 0.45em 0.6em; margin: 0 0.25em; line-height: 1; border-radius: 0.35em;\">\n",
       "    TDAH\n",
       "    <span style=\"font-size: 0.8em; font-weight: bold; line-height: 1; border-radius: 0.35em; vertical-align: middle; margin-left: 0.5rem\">DiseaseOrSyndrome</span>\n",
       "</mark>\n",
       ". 4. \n",
       "<mark class=\"entity\" style=\"background: #6495ED; padding: 0.45em 0.6em; margin: 0 0.25em; line-height: 1; border-radius: 0.35em;\">\n",
       "    Câncer de pulmão\n",
       "    <span style=\"font-size: 0.8em; font-weight: bold; line-height: 1; border-radius: 0.35em; vertical-align: middle; margin-left: 0.5rem\">DiseaseOrSyndrome</span>\n",
       "</mark>\n",
       " não \n",
       "<mark class=\"entity\" style=\"background: #6495ED; padding: 0.45em 0.6em; margin: 0 0.25em; line-height: 1; border-radius: 0.35em;\">\n",
       "    pequenas células\n",
       "    <span style=\"font-size: 0.8em; font-weight: bold; line-height: 1; border-radius: 0.35em; vertical-align: middle; margin-left: 0.5rem\">DiseaseOrSyndrome</span>\n",
       "</mark>\n",
       " estágio III, pós radioterapia e quimioterapia. 5. \n",
       "<mark class=\"entity\" style=\"background: #6495ED; padding: 0.45em 0.6em; margin: 0 0.25em; line-height: 1; border-radius: 0.35em;\">\n",
       "    Hipertensão\n",
       "    <span style=\"font-size: 0.8em; font-weight: bold; line-height: 1; border-radius: 0.35em; vertical-align: middle; margin-left: 0.5rem\">DiseaseOrSyndrome</span>\n",
       "</mark>\n",
       ". 6. \n",
       "<mark class=\"entity\" style=\"background: #6495ED; padding: 0.45em 0.6em; margin: 0 0.25em; line-height: 1; border-radius: 0.35em;\">\n",
       "    Asma\n",
       "    <span style=\"font-size: 0.8em; font-weight: bold; line-height: 1; border-radius: 0.35em; vertical-align: middle; margin-left: 0.5rem\">DiseaseOrSyndrome</span>\n",
       "</mark>\n",
       ". 7. \n",
       "<mark class=\"entity\" style=\"background: #6495ED; padding: 0.45em 0.6em; margin: 0 0.25em; line-height: 1; border-radius: 0.35em;\">\n",
       "    Doença de Graves\n",
       "    <span style=\"font-size: 0.8em; font-weight: bold; line-height: 1; border-radius: 0.35em; vertical-align: middle; margin-left: 0.5rem\">DiseaseOrSyndrome</span>\n",
       "</mark>\n",
       ". 8. \n",
       "<mark class=\"entity\" style=\"background: #6495ED; padding: 0.45em 0.6em; margin: 0 0.25em; line-height: 1; border-radius: 0.35em;\">\n",
       "    Depressão\n",
       "    <span style=\"font-size: 0.8em; font-weight: bold; line-height: 1; border-radius: 0.35em; vertical-align: middle; margin-left: 0.5rem\">DiseaseOrSyndrome</span>\n",
       "</mark>\n",
       ". 9. História de \n",
       "<mark class=\"entity\" style=\"background: #6495ED; padding: 0.45em 0.6em; margin: 0 0.25em; line-height: 1; border-radius: 0.35em;\">\n",
       "    síndrome do roubo subclávio\n",
       "    <span style=\"font-size: 0.8em; font-weight: bold; line-height: 1; border-radius: 0.35em; vertical-align: middle; margin-left: 0.5rem\">DiseaseOrSyndrome</span>\n",
       "</mark>\n",
       ". 10. História de \n",
       "<mark class=\"entity\" style=\"background: #6495ED; padding: 0.45em 0.6em; margin: 0 0.25em; line-height: 1; border-radius: 0.35em;\">\n",
       "    infecção do trato urinário\n",
       "    <span style=\"font-size: 0.8em; font-weight: bold; line-height: 1; border-radius: 0.35em; vertical-align: middle; margin-left: 0.5rem\">DiseaseOrSyndrome</span>\n",
       "</mark>\n",
       ". HISTÓRIA DA DOENÇA ATUAL: Esta é uma mulher de 63 anos, destra, com histórico de \n",
       "<mark class=\"entity\" style=\"background: #6495ED; padding: 0.45em 0.6em; margin: 0 0.25em; line-height: 1; border-radius: 0.35em;\">\n",
       "    câncer de pulmão\n",
       "    <span style=\"font-size: 0.8em; font-weight: bold; line-height: 1; border-radius: 0.35em; vertical-align: middle; margin-left: 0.5rem\">DiseaseOrSyndrome</span>\n",
       "</mark>\n",
       " não \n",
       "<mark class=\"entity\" style=\"background: #6495ED; padding: 0.45em 0.6em; margin: 0 0.25em; line-height: 1; border-radius: 0.35em;\">\n",
       "    pequenas células\n",
       "    <span style=\"font-size: 0.8em; font-weight: bold; line-height: 1; border-radius: 0.35em; vertical-align: middle; margin-left: 0.5rem\">DiseaseOrSyndrome</span>\n",
       "</mark>\n",
       " estágio III, pós radioterapia e quimioterapia, histórico de \n",
       "<mark class=\"entity\" style=\"background: #6495ED; padding: 0.45em 0.6em; margin: 0 0.25em; line-height: 1; border-radius: 0.35em;\">\n",
       "    acidente\n",
       "    <span style=\"font-size: 0.8em; font-weight: bold; line-height: 1; border-radius: 0.35em; vertical-align: middle; margin-left: 0.5rem\">DiseaseOrSyndrome</span>\n",
       "</mark>\n",
       " \n",
       "<mark class=\"entity\" style=\"background: #6495ED; padding: 0.45em 0.6em; margin: 0 0.25em; line-height: 1; border-radius: 0.35em;\">\n",
       "    vascular\n",
       "    <span style=\"font-size: 0.8em; font-weight: bold; line-height: 1; border-radius: 0.35em; vertical-align: middle; margin-left: 0.5rem\">DiseaseOrSyndrome</span>\n",
       "</mark>\n",
       " encefálico \n",
       "<mark class=\"entity\" style=\"background: #6495ED; padding: 0.45em 0.6em; margin: 0 0.25em; line-height: 1; border-radius: 0.35em;\">\n",
       "    embólico\n",
       "    <span style=\"font-size: 0.8em; font-weight: bold; line-height: 1; border-radius: 0.35em; vertical-align: middle; margin-left: 0.5rem\">DiseaseOrSyndrome</span>\n",
       "</mark>\n",
       " da MCA direita, pós CEA direita em 3/1/06 por estenose de 70% da ICA direita, possível histórico de \n",
       "<mark class=\"entity\" style=\"background: #6495ED; padding: 0.45em 0.6em; margin: 0 0.25em; line-height: 1; border-radius: 0.35em;\">\n",
       "    epilepsia temporal direita\n",
       "    <span style=\"font-size: 0.8em; font-weight: bold; line-height: 1; border-radius: 0.35em; vertical-align: middle; margin-left: 0.5rem\">DiseaseOrSyndrome</span>\n",
       "</mark>\n",
       ", que foi readmitida no serviço de medicina de sua casa de repouso por alteração do estado mental, febre e tosse. A paciente foi internada recentemente de 24/2/06 a 5/1/06 por alteração do estado mental, tratada para \n",
       "<mark class=\"entity\" style=\"background: #6495ED; padding: 0.45em 0.6em; margin: 0 0.25em; line-height: 1; border-radius: 0.35em;\">\n",
       "    ITU\n",
       "    <span style=\"font-size: 0.8em; font-weight: bold; line-height: 1; border-radius: 0.35em; vertical-align: middle; margin-left: 0.5rem\">DiseaseOrSyndrome</span>\n",
       "</mark>\n",
       " presumida, mas cresceu com levedura, sem bactérias. A paciente foi consultada por neurologia devido à sonolência aumentada. Ela fez uma tomografia de cabeça naquele momento que mostra \n",
       "<mark class=\"entity\" style=\"background: #6495ED; padding: 0.45em 0.6em; margin: 0 0.25em; line-height: 1; border-radius: 0.35em;\">\n",
       "    encefalomalacia\n",
       "    <span style=\"font-size: 0.8em; font-weight: bold; line-height: 1; border-radius: 0.35em; vertical-align: middle; margin-left: 0.5rem\">DiseaseOrSyndrome</span>\n",
       "</mark>\n",
       " na distribuição da MCA direita consistente com \n",
       "<mark class=\"entity\" style=\"background: #6495ED; padding: 0.45em 0.6em; margin: 0 0.25em; line-height: 1; border-radius: 0.35em;\">\n",
       "    AVC\n",
       "    <span style=\"font-size: 0.8em; font-weight: bold; line-height: 1; border-radius: 0.35em; vertical-align: middle; margin-left: 0.5rem\">DiseaseOrSyndrome</span>\n",
       "</mark>\n",
       " antigo, sem hemorragias intracranianas \n",
       "<mark class=\"entity\" style=\"background: #6495ED; padding: 0.45em 0.6em; margin: 0 0.25em; line-height: 1; border-radius: 0.35em;\">\n",
       "    agudas\n",
       "    <span style=\"font-size: 0.8em; font-weight: bold; line-height: 1; border-radius: 0.35em; vertical-align: middle; margin-left: 0.5rem\">DiseaseOrSyndrome</span>\n",
       "</mark>\n",
       ", deslocamentos de linha média ou efeito de massa. Não foram observadas lesões metastáticas definitivas. De acordo com o oncologista da paciente, sua resposta ao tratamento tem sido excelente. Ela tem um EEG negativo. A ressonância magnética/arteriografia cerebral sempre mostra o \n",
       "<mark class=\"entity\" style=\"background: #6495ED; padding: 0.45em 0.6em; margin: 0 0.25em; line-height: 1; border-radius: 0.35em;\">\n",
       "    infarto\n",
       "    <span style=\"font-size: 0.8em; font-weight: bold; line-height: 1; border-radius: 0.35em; vertical-align: middle; margin-left: 0.5rem\">DiseaseOrSyndrome</span>\n",
       "</mark>\n",
       " da \n",
       "<mark class=\"entity\" style=\"background: #6495ED; padding: 0.45em 0.6em; margin: 0 0.25em; line-height: 1; border-radius: 0.35em;\">\n",
       "    MCA\n",
       "    <span style=\"font-size: 0.8em; font-weight: bold; line-height: 1; border-radius: 0.35em; vertical-align: middle; margin-left: 0.5rem\">DiseaseOrSyndrome</span>\n",
       "</mark>\n",
       " direita. B12, folato, TSH e RPR normais. Neurologia naquela época concordou que nenhuma avaliação adicional da sonolência é necessária neste momento e que a doença leptomeningeal é improvável devido à falta de achados neurológicos. A paciente foi então transferida para reabilitação em 5/1/06. De acordo com a equipe de enfermagem e discussão com a equipe médica, a paciente teve estado mental variável, às vezes parecendo alerta e adequada e outras vezes alucinante e agitada. Ela também teve períodos de tosse, febre e dor ao urinar. De acordo com o filho, ela teve tosse nos últimos 10 dias antes da internação. Ela não tem se alimentado adequadamente, com alimentos saindo de sua boca e está pouco responsiva. Ela fez um raio-X de tórax em 26/7/06 que mostra uma massa hilar direita e infiltrado no lobo superior direito. Ela foi iniciada em moxifloxacina 400 mg via oral diariamente em 26/7/06 e depois transferida para o Hospital Comunitário de Kendertawn a pedido do filho devido à alteração do estado mental, tosse, febre e pneumonia presumida. No pronto-socorro, sua temperatura era de 98,8, pulso de 122, pressão arterial de 160/68, respiração em 20. Ela recebeu vancomicina, levofloxacina e 4 litros de líquidos. O raio-X de tórax era compatível com pneumonia no lobo superior direito, com suspeita de pneumonia pós-obstrutiva. Seu exame de urina estava bastante sujo com cristais de oxalato, leveduras e mais de 100 leucócitos. Ela foi iniciada em vancomicina e levofloxacina para pneumonia presumida e ITU. Sua tomografia de cabeça não mostrou nenhuma alteração aguda, mas também mostrou infarto crônico da MCA direita. A paciente foi transferida para o andar para mais tratamento.</div></span>"
      ],
      "text/plain": [
       "<IPython.core.display.HTML object>"
      ]
     },
     "metadata": {},
     "output_type": "display_data"
    },
    {
     "name": "stdout",
     "output_type": "stream",
     "text": [
      "\n",
      "\n",
      "\n",
      "\n",
      "\n",
      "Inference with model pucpr/clinicalnerpt-chemical\n"
     ]
    },
    {
     "data": {
      "text/html": [
       "<span class=\"tex2jax_ignore\"><div class=\"entities\" style=\"line-height: 2.5; direction: ltr\">Data de alta: 3/3/2006 MÉDICO ASSISTENTE: \n",
       "<mark class=\"entity\" style=\"background: #FF7F50; padding: 0.45em 0.6em; margin: 0 0.25em; line-height: 1; border-radius: 0.35em;\">\n",
       "    BALIS\n",
       "    <span style=\"font-size: 0.8em; font-weight: bold; line-height: 1; border-radius: 0.35em; vertical-align: middle; margin-left: 0.5rem\">ChemicalDrugs</span>\n",
       "</mark>\n",
       ", NORBERTO M.D. SERVIÇO: FHCC. DIAGNÓSTICOS DE ALTA: Pneumonia e ITU. DIAGNÓSTICOS DE ALTA ASSOCIADOS: 1. História de acidente vascular encefálico embólico da MCA direita em 5/15, pós ICA direita em 3/1/06. 2. História de epilepsia temporal. 3. TDAH. 4. Câncer de pulmão não pequenas células estágio III, pós radioterapia e quimioterapia. 5. Hipertensão. 6. Asma. 7. Doença de Graves. 8. Depressão. 9. História de síndrome do roubo subclávio. 10. História de infecção do trato urinário. HISTÓRIA DA DOENÇA ATUAL: Esta é uma mulher de 63 anos, destra, com histórico de câncer de pulmão não pequenas células estágio III, pós radioterapia e quimioterapia, histórico de acidente vascular encefálico embólico da MCA direita, pós CEA direita em 3/1/06 por estenose de 70% da ICA direita, possível histórico de epilepsia temporal direita, que foi readmitida no serviço de medicina de sua casa de repouso por alteração do estado mental, febre e tosse. A paciente foi internada recentemente de 24/2/06 a 5/1/06 por alteração do estado mental, tratada para ITU presumida, mas cresceu com levedura, sem bactérias. A paciente foi consultada por neurologia devido à sonolência aumentada. Ela fez uma tomografia de cabeça naquele momento que mostra encefalomalacia na distribuição da MCA direita consistente com AVC antigo, sem hemorragias intracranianas agudas, deslocamentos de linha média ou efeito de massa. Não foram observadas lesões metastáticas definitivas. De acordo com o oncologista da paciente, sua resposta ao tratamento tem sido excelente. Ela tem um EEG negativo. A ressonância magnética/arteriografia cerebral sempre mostra o infarto da MCA direita. B12, folato, TSH e RPR normais. Neurologia naquela época concordou que nenhuma avaliação adicional da sonolência é necessária neste momento e que a doença leptomeningeal é improvável devido à falta de achados neurológicos. A paciente foi então transferida para reabilitação em 5/1/06. De acordo com a equipe de enfermagem e discussão com a equipe médica, a paciente teve estado mental variável, às vezes parecendo alerta e adequada e outras vezes alucinante e agitada. Ela também teve períodos de tosse, febre e dor ao urinar. De acordo com o filho, ela teve tosse nos últimos 10 dias antes da internação. Ela não tem se alimentado adequadamente, com alimentos saindo de sua boca e está pouco responsiva. Ela fez um raio-X de tórax em 26/7/06 que mostra uma massa hilar direita e infiltrado no lobo superior direito. Ela foi iniciada em moxifloxacina 400 mg via oral diariamente em 26/7/06 e depois transferida para o Hospital Comunitário de Kendertawn a pedido do filho devido à alteração do estado mental, tosse, febre e pneumonia presumida. No pronto-socorro, sua temperatura era de 98,8, pulso de 122, pressão arterial de 160/68, respiração em 20. Ela recebeu vancomicina, levofloxacina e 4 litros de líquidos. O raio-X de tórax era compatível com pneumonia no lobo superior direito, com suspeita de pneumonia pós-obstrutiva. Seu exame de urina estava bastante sujo com cristais de oxalato, leveduras e mais de 100 leucócitos. Ela foi iniciada em vancomicina e levofloxacina para pneumonia presumida e ITU. Sua tomografia de cabeça não mostrou nenhuma alteração aguda, mas também mostrou infarto crônico da MCA direita. A paciente foi transferida para o andar para mais tratamento.</div></span>"
      ],
      "text/plain": [
       "<IPython.core.display.HTML object>"
      ]
     },
     "metadata": {},
     "output_type": "display_data"
    },
    {
     "name": "stdout",
     "output_type": "stream",
     "text": [
      "\n",
      "\n",
      "\n",
      "\n",
      "\n",
      "Inference with model pucpr/clinicalnerpt-laboratory\n"
     ]
    },
    {
     "data": {
      "text/html": [
       "<span class=\"tex2jax_ignore\"><div class=\"entities\" style=\"line-height: 2.5; direction: ltr\">Data de alta: 3/3/2006 MÉDICO ASSISTENTE: BALIS, NORBERTO M.D. SERVIÇO: FHCC. DIAGNÓSTICOS DE ALTA: Pneumonia e ITU. DIAGNÓSTICOS DE ALTA ASSOCIADOS: 1. História de acidente vascular encefálico embólico da MCA direita em 5/15, pós ICA direita em 3/1/06. 2. História de epilepsia temporal. 3. TDAH. 4. Câncer de pulmão não pequenas células estágio III, pós radioterapia e quimioterapia. 5. Hipertensão. 6. Asma. 7. Doença de Graves. 8. Depressão. 9. História de síndrome do roubo subclávio. 10. História de infecção do trato urinário. HISTÓRIA DA DOENÇA ATUAL: Esta é uma mulher de 63 anos, destra, com histórico de câncer de pulmão não pequenas células estágio III, pós radioterapia e quimioterapia, histórico de acidente vascular encefálico embólico da MCA direita, pós CEA direita em 3/1/06 por estenose de 70% da ICA direita, possível histórico de epilepsia temporal direita, que foi readmitida no serviço de medicina de sua casa de repouso por alteração do estado mental, febre e tosse. A paciente foi internada recentemente de 24/2/06 a 5/1/06 por alteração do estado mental, tratada para ITU presumida, mas cresceu com levedura, sem bactérias. A paciente foi consultada por neurologia devido à sonolência aumentada. Ela fez uma tomografia de cabeça naquele momento que mostra encefalomalacia na distribuição da MCA direita consistente com AVC antigo, sem hemorragias intracranianas agudas, deslocamentos de linha média ou efeito de massa. Não foram observadas lesões metastáticas definitivas. De acordo com o oncologista da paciente, sua resposta ao tratamento tem sido excelente. Ela tem um EEG \n",
       "<mark class=\"entity\" style=\"background: #808080; padding: 0.45em 0.6em; margin: 0 0.25em; line-height: 1; border-radius: 0.35em;\">\n",
       "    negativo\n",
       "    <span style=\"font-size: 0.8em; font-weight: bold; line-height: 1; border-radius: 0.35em; vertical-align: middle; margin-left: 0.5rem\">LaboratoryOrTestResult</span>\n",
       "</mark>\n",
       ". A ressonância magnética/arteriografia cerebral sempre mostra o infarto da MCA direita. \n",
       "<mark class=\"entity\" style=\"background: #808080; padding: 0.45em 0.6em; margin: 0 0.25em; line-height: 1; border-radius: 0.35em;\">\n",
       "    B12\n",
       "    <span style=\"font-size: 0.8em; font-weight: bold; line-height: 1; border-radius: 0.35em; vertical-align: middle; margin-left: 0.5rem\">LaboratoryOrTestResult</span>\n",
       "</mark>\n",
       ", \n",
       "<mark class=\"entity\" style=\"background: #808080; padding: 0.45em 0.6em; margin: 0 0.25em; line-height: 1; border-radius: 0.35em;\">\n",
       "    folato\n",
       "    <span style=\"font-size: 0.8em; font-weight: bold; line-height: 1; border-radius: 0.35em; vertical-align: middle; margin-left: 0.5rem\">LaboratoryOrTestResult</span>\n",
       "</mark>\n",
       ", \n",
       "<mark class=\"entity\" style=\"background: #808080; padding: 0.45em 0.6em; margin: 0 0.25em; line-height: 1; border-radius: 0.35em;\">\n",
       "    TSH\n",
       "    <span style=\"font-size: 0.8em; font-weight: bold; line-height: 1; border-radius: 0.35em; vertical-align: middle; margin-left: 0.5rem\">LaboratoryOrTestResult</span>\n",
       "</mark>\n",
       " e \n",
       "<mark class=\"entity\" style=\"background: #808080; padding: 0.45em 0.6em; margin: 0 0.25em; line-height: 1; border-radius: 0.35em;\">\n",
       "    RPR normais\n",
       "    <span style=\"font-size: 0.8em; font-weight: bold; line-height: 1; border-radius: 0.35em; vertical-align: middle; margin-left: 0.5rem\">LaboratoryOrTestResult</span>\n",
       "</mark>\n",
       ". Neurologia naquela época concordou que nenhuma avaliação adicional da sonolência é necessária neste momento e que a doença leptomeningeal é improvável devido à falta de achados neurológicos. A paciente foi então transferida para reabilitação em 5/1/06. De acordo com a equipe de enfermagem e discussão com a equipe médica, a paciente teve estado mental variável, às vezes parecendo alerta e adequada e outras vezes alucinante e agitada. Ela também teve períodos de tosse, febre e dor ao urinar. De acordo com o filho, ela teve tosse nos últimos 10 dias antes da internação. Ela não tem se alimentado adequadamente, com alimentos saindo de sua boca e está pouco responsiva. Ela fez um raio-X de tórax em 26/7/06 que mostra uma massa hilar direita e infiltrado no lobo superior direito. Ela foi iniciada em moxifloxacina 400 mg via oral diariamente em 26/7/06 e depois transferida para o Hospital Comunitário de Kendertawn a pedido do filho devido à alteração do estado mental, tosse, febre e pneumonia presumida. No pronto-socorro, sua temperatura era de 98,8, pulso de 122, pressão arterial de 160/68, respiração em 20. Ela recebeu vancomicina, levofloxacina e 4 litros de líquidos. O raio-X de tórax era compatível com pneumonia no lobo superior direito, com suspeita de pneumonia pós-obstrutiva. Seu exame de urina estava bastante sujo com cristais de oxalato, leveduras e mais de 100 leucócitos. Ela foi iniciada em vancomicina e levofloxacina para pneumonia presumida e ITU. Sua tomografia de cabeça não mostrou nenhuma alteração aguda, mas também mostrou infarto crônico da MCA direita. A paciente foi transferida para o andar para mais tratamento.</div></span>"
      ],
      "text/plain": [
       "<IPython.core.display.HTML object>"
      ]
     },
     "metadata": {},
     "output_type": "display_data"
    },
    {
     "name": "stdout",
     "output_type": "stream",
     "text": [
      "\n",
      "\n",
      "\n",
      "\n",
      "\n",
      "Inference with model pucpr/clinicalnerpt-finding\n"
     ]
    },
    {
     "data": {
      "text/html": [
       "<span class=\"tex2jax_ignore\"><div class=\"entities\" style=\"line-height: 2.5; direction: ltr\">Data de alta: 3/3/2006 MÉDICO ASSISTENTE: BALIS, NORBERTO M.D. SERVIÇO: FHCC. DIAGNÓSTICOS DE ALTA: Pneumonia e ITU. DIAGNÓSTICOS DE ALTA ASSOCIADOS: 1. História de acidente vascular encefálico embólico da MCA direita em 5/15, pós ICA direita em 3/1/06. 2. História de epilepsia temporal. 3. TDAH. 4. Câncer de pulmão não pequenas células estágio III, pós radioterapia e quimioterapia. 5. Hipertensão. 6. Asma. 7. Doença de Graves. 8. Depressão. 9. História de síndrome do roubo subclávio. 10. História de infecção do trato urinário. HISTÓRIA DA DOENÇA ATUAL: Esta é uma mulher de 63 anos, \n",
       "<mark class=\"entity\" style=\"background: #6495ED; padding: 0.45em 0.6em; margin: 0 0.25em; line-height: 1; border-radius: 0.35em;\">\n",
       "    destra\n",
       "    <span style=\"font-size: 0.8em; font-weight: bold; line-height: 1; border-radius: 0.35em; vertical-align: middle; margin-left: 0.5rem\">Finding</span>\n",
       "</mark>\n",
       ", com histórico de câncer de pulmão não pequenas células estágio III, pós radioterapia e quimioterapia, histórico de acidente vascular encefálico embólico da MCA direita, pós CEA direita em 3/1/06 por estenose de 70% da ICA direita, possível histórico de epilepsia temporal direita, que foi readmitida no serviço de medicina de sua casa de repouso por alteração do estado mental, febre e tosse. A paciente foi internada recentemente de 24/2/06 a 5/1/06 por alteração do estado mental, tratada para ITU presumida, mas cresceu com levedura, sem bactérias. A paciente foi consultada por neurologia devido à sonolência aumentada. Ela fez uma tomografia de cabeça naquele momento que mostra encefalomalacia na distribuição da MCA direita consistente com AVC antigo, sem hemorragias intracranianas agudas, deslocamentos de linha média ou efeito de massa. Não foram observadas lesões metastáticas definitivas. De acordo com o oncologista da paciente, sua \n",
       "<mark class=\"entity\" style=\"background: #6495ED; padding: 0.45em 0.6em; margin: 0 0.25em; line-height: 1; border-radius: 0.35em;\">\n",
       "    resposta\n",
       "    <span style=\"font-size: 0.8em; font-weight: bold; line-height: 1; border-radius: 0.35em; vertical-align: middle; margin-left: 0.5rem\">Finding</span>\n",
       "</mark>\n",
       " ao tratamento tem sido \n",
       "<mark class=\"entity\" style=\"background: #6495ED; padding: 0.45em 0.6em; margin: 0 0.25em; line-height: 1; border-radius: 0.35em;\">\n",
       "    excelente\n",
       "    <span style=\"font-size: 0.8em; font-weight: bold; line-height: 1; border-radius: 0.35em; vertical-align: middle; margin-left: 0.5rem\">Finding</span>\n",
       "</mark>\n",
       ". Ela tem um EEG \n",
       "<mark class=\"entity\" style=\"background: #6495ED; padding: 0.45em 0.6em; margin: 0 0.25em; line-height: 1; border-radius: 0.35em;\">\n",
       "    negativo\n",
       "    <span style=\"font-size: 0.8em; font-weight: bold; line-height: 1; border-radius: 0.35em; vertical-align: middle; margin-left: 0.5rem\">Finding</span>\n",
       "</mark>\n",
       ". A ressonância magnética/arteriografia cerebral sempre mostra o infarto da MCA direita. B12, folato, TSH e RPR normais. Neurologia naquela época concordou que nenhuma avaliação adicional da sonolência é necessária neste momento e que a doença leptomeningeal é improvável devido à falta de achados neurológicos. A paciente foi então transferida para reabilitação em 5/1/06. De acordo com a equipe de enfermagem e discussão com a equipe médica, a paciente teve estado mental variável, às vezes parecendo alerta e adequada e outras vezes alucinante e agitada. Ela também teve períodos de tosse, febre e dor ao urinar. De acordo com o filho, ela teve tosse nos últimos 10 dias antes da internação. Ela não tem se alimentado adequadamente, com alimentos saindo de sua boca e está pouco responsiva. Ela fez um raio-X de tórax em 26/7/06 que mostra uma massa hilar direita e infiltrado no lobo superior direito. Ela foi iniciada em moxifloxacina 400 mg via oral diariamente em 26/7/06 e depois transferida para o Hospital Comunitário de Kendertawn a pedido do filho devido à alteração do estado mental, tosse, febre e pneumonia presumida. No pronto-socorro, sua temperatura era de 98,8, pulso de 122, pressão arterial de 160/68, respiração em 20. Ela recebeu vancomicina, levofloxacina e 4 litros de líquidos. O raio-X de tórax era compatível com pneumonia no lobo superior direito, com suspeita de pneumonia pós-obstrutiva. Seu exame de urina estava bastante sujo com cristais de oxalato, leveduras e mais de 100 leucócitos. Ela foi iniciada em vancomicina e levofloxacina para pneumonia presumida e ITU. Sua tomografia de cabeça não mostrou nenhuma alteração aguda, mas também mostrou infarto crônico da MCA direita. A paciente foi transferida para o andar para mais tratamento.</div></span>"
      ],
      "text/plain": [
       "<IPython.core.display.HTML object>"
      ]
     },
     "metadata": {},
     "output_type": "display_data"
    },
    {
     "name": "stdout",
     "output_type": "stream",
     "text": [
      "\n",
      "\n",
      "\n",
      "\n",
      "\n",
      "Inference with model pucpr/clinicalnerpt-medical\n"
     ]
    },
    {
     "data": {
      "text/html": [
       "<span class=\"tex2jax_ignore\"><div class=\"entities\" style=\"line-height: 2.5; direction: ltr\">Data de alta: 3/3/2006 MÉDICO ASSISTENTE: BALIS, NORBERTO M.D. SERVIÇO: FHCC. DIAGNÓSTICOS DE ALTA: Pneumonia e ITU. DIAGNÓSTICOS DE ALTA ASSOCIADOS: 1. História de acidente vascular encefálico embólico da MCA direita em 5/15, pós ICA direita em 3/1/06. 2. História de epilepsia temporal. 3. TDAH. 4. Câncer de pulmão não pequenas células estágio III, pós radioterapia e quimioterapia. 5. Hipertensão. 6. Asma. 7. Doença de Graves. 8. Depressão. 9. História de síndrome do roubo subclávio. 10. História de infecção do trato urinário. HISTÓRIA DA DOENÇA ATUAL: Esta é uma mulher de 63 anos, destra, com histórico de câncer de pulmão não pequenas células estágio III, pós radioterapia e quimioterapia, histórico de acidente vascular encefálico embólico da MCA direita, pós CEA direita em 3/1/06 por estenose de 70% da ICA direita, possível histórico de epilepsia temporal direita, que foi readmitida no serviço de medicina de sua casa de repouso por alteração do estado mental, febre e tosse. A paciente foi internada recentemente de 24/2/06 a 5/1/06 por alteração do estado mental, tratada para ITU presumida, mas cresceu com levedura, sem bactérias. A paciente foi consultada por neurologia devido à sonolência aumentada. Ela fez uma tomografia de cabeça naquele momento que mostra encefalomalacia na distribuição da MCA direita consistente com AVC antigo, sem hemorragias intracranianas agudas, deslocamentos de linha média ou efeito de massa. Não foram observadas lesões metastáticas definitivas. De acordo com o oncologista da paciente, sua resposta ao tratamento tem sido excelente. Ela tem um EEG negativo. A ressonância magnética/arteriografia cerebral sempre mostra o infarto da MCA direita. B12, folato, TSH e RPR normais. Neurologia naquela época concordou que nenhuma avaliação adicional da sonolência é necessária neste momento e que a doença leptomeningeal é improvável devido à falta de achados neurológicos. A paciente foi então transferida para reabilitação em 5/1/06. De acordo com a equipe de enfermagem e discussão com a equipe médica, a paciente teve estado mental variável, às vezes parecendo alerta e adequada e outras vezes alucinante e agitada. Ela também teve períodos de tosse, febre e dor ao urinar. De acordo com o filho, ela teve tosse nos últimos 10 dias antes da internação. Ela não tem se alimentado adequadamente, com alimentos saindo de sua boca e está pouco responsiva. Ela fez um raio-X de tórax em 26/7/06 que mostra uma massa hilar direita e infiltrado no lobo superior direito. Ela foi iniciada em moxifloxacina 400 mg via oral diariamente em 26/7/06 e depois transferida para o Hospital Comunitário de Kendertawn a pedido do filho devido à alteração do estado mental, tosse, febre e pneumonia presumida. No pronto-socorro, sua temperatura era de 98,8, pulso de 122, pressão arterial de 160/68, respiração em 20. Ela recebeu vancomicina, levofloxacina e 4 litros de líquidos. O raio-X de tórax era compatível com pneumonia no lobo superior direito, com suspeita de pneumonia pós-obstrutiva. Seu exame de urina estava bastante sujo com cristais de oxalato, leveduras e mais de 100 leucócitos. Ela foi iniciada em vancomicina e levofloxacina para pneumonia presumida e ITU. Sua tomografia de cabeça não mostrou nenhuma alteração aguda, mas também mostrou infarto crônico da MCA direita. A paciente foi transferida para o andar para mais tratamento.</div></span>"
      ],
      "text/plain": [
       "<IPython.core.display.HTML object>"
      ]
     },
     "metadata": {},
     "output_type": "display_data"
    },
    {
     "name": "stdout",
     "output_type": "stream",
     "text": [
      "\n",
      "\n",
      "\n",
      "\n",
      "\n",
      "Inference with model pucpr/clinicalnerpt-procedure\n"
     ]
    },
    {
     "data": {
      "text/html": [
       "<span class=\"tex2jax_ignore\"><div class=\"entities\" style=\"line-height: 2.5; direction: ltr\">Data de alta: 3/3/2006 MÉDICO ASSISTENTE: BALIS, NORBERTO M.D. SERVIÇO: FHCC. DIAGNÓSTICOS DE ALTA: Pneumonia e ITU. DIAGNÓSTICOS DE ALTA ASSOCIADOS: 1. História de acidente vascular encefálico embólico da MCA direita em 5/15, pós ICA direita em 3/1/06. 2. História de epilepsia temporal. 3. TDAH. 4. Câncer de pulmão não pequenas células estágio III, pós radioterapia e \n",
       "<mark class=\"entity\" style=\"background: #D2691E; padding: 0.45em 0.6em; margin: 0 0.25em; line-height: 1; border-radius: 0.35em;\">\n",
       "    quimioterapia\n",
       "    <span style=\"font-size: 0.8em; font-weight: bold; line-height: 1; border-radius: 0.35em; vertical-align: middle; margin-left: 0.5rem\">Procedures</span>\n",
       "</mark>\n",
       ". 5. Hipertensão. 6. Asma. 7. Doença de Graves. 8. Depressão. 9. História de síndrome do roubo subclávio. 10. História de infecção do trato urinário. HISTÓRIA DA DOENÇA ATUAL: Esta é uma mulher de 63 anos, destra, com histórico de câncer de pulmão não pequenas células estágio III, pós radioterapia e \n",
       "<mark class=\"entity\" style=\"background: #D2691E; padding: 0.45em 0.6em; margin: 0 0.25em; line-height: 1; border-radius: 0.35em;\">\n",
       "    quimioterapia\n",
       "    <span style=\"font-size: 0.8em; font-weight: bold; line-height: 1; border-radius: 0.35em; vertical-align: middle; margin-left: 0.5rem\">Procedures</span>\n",
       "</mark>\n",
       ", histórico de acidente vascular encefálico embólico da MCA direita, pós CEA direita em 3/1/06 por estenose de 70% da ICA direita, possível histórico de epilepsia temporal direita, que foi readmitida no serviço de medicina de sua casa de repouso por alteração do estado mental, febre e tosse. A paciente foi \n",
       "<mark class=\"entity\" style=\"background: #D2691E; padding: 0.45em 0.6em; margin: 0 0.25em; line-height: 1; border-radius: 0.35em;\">\n",
       "    internada\n",
       "    <span style=\"font-size: 0.8em; font-weight: bold; line-height: 1; border-radius: 0.35em; vertical-align: middle; margin-left: 0.5rem\">Procedures</span>\n",
       "</mark>\n",
       " recentemente de 24/2/06 a 5/1/06 por alteração do estado mental, \n",
       "<mark class=\"entity\" style=\"background: #D2691E; padding: 0.45em 0.6em; margin: 0 0.25em; line-height: 1; border-radius: 0.35em;\">\n",
       "    tratada\n",
       "    <span style=\"font-size: 0.8em; font-weight: bold; line-height: 1; border-radius: 0.35em; vertical-align: middle; margin-left: 0.5rem\">Procedures</span>\n",
       "</mark>\n",
       " para ITU presumida, mas cresceu com levedura, sem bactérias. A paciente foi \n",
       "<mark class=\"entity\" style=\"background: #D2691E; padding: 0.45em 0.6em; margin: 0 0.25em; line-height: 1; border-radius: 0.35em;\">\n",
       "    consultada\n",
       "    <span style=\"font-size: 0.8em; font-weight: bold; line-height: 1; border-radius: 0.35em; vertical-align: middle; margin-left: 0.5rem\">Procedures</span>\n",
       "</mark>\n",
       " por neurologia devido à sonolência aumentada. Ela fez uma \n",
       "<mark class=\"entity\" style=\"background: #D2691E; padding: 0.45em 0.6em; margin: 0 0.25em; line-height: 1; border-radius: 0.35em;\">\n",
       "    tomografia de cabeça\n",
       "    <span style=\"font-size: 0.8em; font-weight: bold; line-height: 1; border-radius: 0.35em; vertical-align: middle; margin-left: 0.5rem\">Procedures</span>\n",
       "</mark>\n",
       " naquele momento que mostra encefalomalacia na distribuição da MCA direita consistente com AVC antigo, sem hemorragias intracranianas agudas, deslocamentos de linha média ou efeito de massa. Não foram observadas lesões metastáticas definitivas. De acordo com o oncologista da paciente, sua resposta ao tratamento tem sido excelente. Ela tem um EEG negativo. A \n",
       "<mark class=\"entity\" style=\"background: #D2691E; padding: 0.45em 0.6em; margin: 0 0.25em; line-height: 1; border-radius: 0.35em;\">\n",
       "    ressonância magnética\n",
       "    <span style=\"font-size: 0.8em; font-weight: bold; line-height: 1; border-radius: 0.35em; vertical-align: middle; margin-left: 0.5rem\">Procedures</span>\n",
       "</mark>\n",
       "/\n",
       "<mark class=\"entity\" style=\"background: #D2691E; padding: 0.45em 0.6em; margin: 0 0.25em; line-height: 1; border-radius: 0.35em;\">\n",
       "    arteriografia cerebral\n",
       "    <span style=\"font-size: 0.8em; font-weight: bold; line-height: 1; border-radius: 0.35em; vertical-align: middle; margin-left: 0.5rem\">Procedures</span>\n",
       "</mark>\n",
       " sempre mostra o infarto da MCA direita. B12, folato, TSH e RPR normais. Neurologia naquela época concordou que nenhuma avaliação adicional da sonolência é necessária neste momento e que a doença leptomeningeal é improvável devido à falta de achados neurológicos. A paciente foi então transferida para reabilitação em 5/1/06. De acordo com a equipe de enfermagem e discussão com a equipe médica, a paciente teve estado mental variável, às vezes parecendo alerta e adequada e outras vezes alucinante e agitada. Ela também teve períodos de tosse, febre e dor ao urinar. De acordo com o filho, ela teve tosse nos últimos 10 dias antes da internação. Ela não tem se alimentado adequadamente, com alimentos saindo de sua boca e está pouco responsiva. Ela fez um raio-X de tórax em 26/7/06 que mostra uma massa hilar direita e infiltrado no lobo superior direito. Ela foi iniciada em moxifloxacina 400 mg via oral diariamente em 26/7/06 e depois transferida para o Hospital Comunitário de Kendertawn a pedido do filho devido à alteração do estado mental, tosse, febre e pneumonia presumida. No pronto-socorro, sua temperatura era de 98,8, pulso de 122, pressão arterial de 160/68, respiração em 20. Ela recebeu vancomicina, levofloxacina e 4 litros de líquidos. O raio-X de tórax era compatível com pneumonia no lobo superior direito, com suspeita de pneumonia pós-obstrutiva. Seu exame de urina estava bastante sujo com cristais de oxalato, leveduras e mais de 100 leucócitos. Ela foi iniciada em vancomicina e levofloxacina para pneumonia presumida e ITU. Sua tomografia de cabeça não mostrou nenhuma alteração aguda, mas também mostrou infarto crônico da MCA direita. A paciente foi transferida para o andar para mais tratamento.</div></span>"
      ],
      "text/plain": [
       "<IPython.core.display.HTML object>"
      ]
     },
     "metadata": {},
     "output_type": "display_data"
    },
    {
     "name": "stdout",
     "output_type": "stream",
     "text": [
      "\n",
      "\n",
      "\n",
      "\n",
      "\n",
      "Inference with model pucpr/clinicalnerpt-healthcare\n"
     ]
    },
    {
     "data": {
      "text/html": [
       "<span class=\"tex2jax_ignore\"><div class=\"entities\" style=\"line-height: 2.5; direction: ltr\">Data de \n",
       "<mark class=\"entity\" style=\"background: #000080; padding: 0.45em 0.6em; margin: 0 0.25em; line-height: 1; border-radius: 0.35em;\">\n",
       "    alta\n",
       "    <span style=\"font-size: 0.8em; font-weight: bold; line-height: 1; border-radius: 0.35em; vertical-align: middle; margin-left: 0.5rem\">HealthCareActivity</span>\n",
       "</mark>\n",
       ": 3/3/2006 MÉDICO ASSISTENTE: BALIS, NORBERTO M.D. SERVIÇO: FHCC. DIAGNÓSTICOS DE \n",
       "<mark class=\"entity\" style=\"background: #000080; padding: 0.45em 0.6em; margin: 0 0.25em; line-height: 1; border-radius: 0.35em;\">\n",
       "    ALTA\n",
       "    <span style=\"font-size: 0.8em; font-weight: bold; line-height: 1; border-radius: 0.35em; vertical-align: middle; margin-left: 0.5rem\">HealthCareActivity</span>\n",
       "</mark>\n",
       ": Pneumonia e ITU. DIAGNÓSTICOS DE \n",
       "<mark class=\"entity\" style=\"background: #000080; padding: 0.45em 0.6em; margin: 0 0.25em; line-height: 1; border-radius: 0.35em;\">\n",
       "    ALTA\n",
       "    <span style=\"font-size: 0.8em; font-weight: bold; line-height: 1; border-radius: 0.35em; vertical-align: middle; margin-left: 0.5rem\">HealthCareActivity</span>\n",
       "</mark>\n",
       " ASSOCIADOS: 1. História de acidente vascular encefálico embólico da MCA direita em 5/15, pós ICA direita em 3/1/06. 2. História de epilepsia temporal. 3. TDAH. 4. Câncer de pulmão não pequenas células estágio III, pós radioterapia e quimioterapia. 5. Hipertensão. 6. Asma. 7. Doença de Graves. 8. Depressão. 9. História de síndrome do roubo subclávio. 10. História de infecção do trato urinário. HISTÓRIA DA DOENÇA ATUAL: Esta é uma mulher de 63 anos, destra, com histórico de câncer de pulmão não pequenas células estágio III, pós radioterapia e quimioterapia, histórico de acidente vascular encefálico embólico da MCA direita, pós CEA direita em 3/1/06 por estenose de 70% da ICA direita, possível histórico de epilepsia temporal direita, que foi \n",
       "<mark class=\"entity\" style=\"background: #000080; padding: 0.45em 0.6em; margin: 0 0.25em; line-height: 1; border-radius: 0.35em;\">\n",
       "    readmitida\n",
       "    <span style=\"font-size: 0.8em; font-weight: bold; line-height: 1; border-radius: 0.35em; vertical-align: middle; margin-left: 0.5rem\">HealthCareActivity</span>\n",
       "</mark>\n",
       " no serviço de medicina de sua casa de repouso por alteração do estado mental, febre e tosse. A paciente foi \n",
       "<mark class=\"entity\" style=\"background: #000080; padding: 0.45em 0.6em; margin: 0 0.25em; line-height: 1; border-radius: 0.35em;\">\n",
       "    internada\n",
       "    <span style=\"font-size: 0.8em; font-weight: bold; line-height: 1; border-radius: 0.35em; vertical-align: middle; margin-left: 0.5rem\">HealthCareActivity</span>\n",
       "</mark>\n",
       " recentemente de 24/2/06 a 5/1/06 por alteração do estado mental, tratada para ITU presumida, mas cresceu com levedura, sem bactérias. A paciente foi \n",
       "<mark class=\"entity\" style=\"background: #000080; padding: 0.45em 0.6em; margin: 0 0.25em; line-height: 1; border-radius: 0.35em;\">\n",
       "    consultada\n",
       "    <span style=\"font-size: 0.8em; font-weight: bold; line-height: 1; border-radius: 0.35em; vertical-align: middle; margin-left: 0.5rem\">HealthCareActivity</span>\n",
       "</mark>\n",
       " por neurologia devido à sonolência aumentada. Ela fez uma tomografia de cabeça naquele momento que mostra encefalomalacia na distribuição da MCA direita consistente com AVC antigo, sem hemorragias intracranianas agudas, deslocamentos de linha média ou efeito de massa. Não foram observadas lesões metastáticas definitivas. De acordo com o oncologista da paciente, sua resposta ao tratamento tem sido excelente. Ela tem um EEG negativo. A ressonância magnética/arteriografia cerebral sempre mostra o infarto da MCA direita. B12, folato, TSH e RPR normais. Neurologia naquela época concordou que nenhuma \n",
       "<mark class=\"entity\" style=\"background: #000080; padding: 0.45em 0.6em; margin: 0 0.25em; line-height: 1; border-radius: 0.35em;\">\n",
       "    avaliação\n",
       "    <span style=\"font-size: 0.8em; font-weight: bold; line-height: 1; border-radius: 0.35em; vertical-align: middle; margin-left: 0.5rem\">HealthCareActivity</span>\n",
       "</mark>\n",
       " adicional da sonolência é necessária neste momento e que a doença leptomeningeal é improvável devido à falta de achados neurológicos. A paciente foi então transferida para reabilitação em 5/1/06. De acordo com a equipe de enfermagem e discussão com a equipe médica, a paciente teve estado mental variável, às vezes parecendo alerta e adequada e outras vezes alucinante e agitada. Ela também teve períodos de tosse, febre e dor ao urinar. De acordo com o filho, ela teve tosse nos últimos 10 dias antes da internação. Ela não tem se alimentado adequadamente, com alimentos saindo de sua boca e está pouco responsiva. Ela fez um raio-X de tórax em 26/7/06 que mostra uma massa hilar direita e infiltrado no lobo superior direito. Ela foi iniciada em moxifloxacina 400 mg via oral diariamente em 26/7/06 e depois transferida para o Hospital Comunitário de Kendertawn a pedido do filho devido à alteração do estado mental, tosse, febre e pneumonia presumida. No pronto-socorro, sua temperatura era de 98,8, pulso de 122, pressão arterial de 160/68, respiração em 20. Ela recebeu vancomicina, levofloxacina e 4 litros de líquidos. O raio-X de tórax era compatível com pneumonia no lobo superior direito, com suspeita de pneumonia pós-obstrutiva. Seu exame de urina estava bastante sujo com cristais de oxalato, leveduras e mais de 100 leucócitos. Ela foi iniciada em vancomicina e levofloxacina para pneumonia presumida e ITU. Sua tomografia de cabeça não mostrou nenhuma alteração aguda, mas também mostrou infarto crônico da MCA direita. A paciente foi transferida para o andar para mais tratamento.</div></span>"
      ],
      "text/plain": [
       "<IPython.core.display.HTML object>"
      ]
     },
     "metadata": {},
     "output_type": "display_data"
    },
    {
     "name": "stdout",
     "output_type": "stream",
     "text": [
      "\n",
      "\n",
      "\n",
      "\n",
      "\n",
      "Inference with model pucpr-br/tempclin-biobertpt-all\n"
     ]
    },
    {
     "data": {
      "text/html": [
       "<span class=\"tex2jax_ignore\"><div class=\"entities\" style=\"line-height: 2.5; direction: ltr\">Data de \n",
       "<mark class=\"entity\" style=\"background: #808000; padding: 0.45em 0.6em; margin: 0 0.25em; line-height: 1; border-radius: 0.35em;\">\n",
       "    alta\n",
       "    <span style=\"font-size: 0.8em; font-weight: bold; line-height: 1; border-radius: 0.35em; vertical-align: middle; margin-left: 0.5rem\">Ocorrencia</span>\n",
       "</mark>\n",
       ": 3/3/2006 MÉDICO ASSISTENTE: BALIS, NORBERTO M.D. SERVIÇO: FHCC. DIAGNÓSTICOS DE \n",
       "<mark class=\"entity\" style=\"background: #808000; padding: 0.45em 0.6em; margin: 0 0.25em; line-height: 1; border-radius: 0.35em;\">\n",
       "    ALTA\n",
       "    <span style=\"font-size: 0.8em; font-weight: bold; line-height: 1; border-radius: 0.35em; vertical-align: middle; margin-left: 0.5rem\">Ocorrencia</span>\n",
       "</mark>\n",
       ": \n",
       "<mark class=\"entity\" style=\"background: #FF00FF; padding: 0.45em 0.6em; margin: 0 0.25em; line-height: 1; border-radius: 0.35em;\">\n",
       "    Pneumonia\n",
       "    <span style=\"font-size: 0.8em; font-weight: bold; line-height: 1; border-radius: 0.35em; vertical-align: middle; margin-left: 0.5rem\">Problema</span>\n",
       "</mark>\n",
       " e \n",
       "<mark class=\"entity\" style=\"background: #FF00FF; padding: 0.45em 0.6em; margin: 0 0.25em; line-height: 1; border-radius: 0.35em;\">\n",
       "    ITU\n",
       "    <span style=\"font-size: 0.8em; font-weight: bold; line-height: 1; border-radius: 0.35em; vertical-align: middle; margin-left: 0.5rem\">Problema</span>\n",
       "</mark>\n",
       "\n",
       "<mark class=\"entity\" style=\"background: #6495ED; padding: 0.45em 0.6em; margin: 0 0.25em; line-height: 1; border-radius: 0.35em;\">\n",
       "    .\n",
       "    <span style=\"font-size: 0.8em; font-weight: bold; line-height: 1; border-radius: 0.35em; vertical-align: middle; margin-left: 0.5rem\"><pad></span>\n",
       "</mark>\n",
       " DIAGNÓSTICOS DE \n",
       "<mark class=\"entity\" style=\"background: #808000; padding: 0.45em 0.6em; margin: 0 0.25em; line-height: 1; border-radius: 0.35em;\">\n",
       "    ALTA\n",
       "    <span style=\"font-size: 0.8em; font-weight: bold; line-height: 1; border-radius: 0.35em; vertical-align: middle; margin-left: 0.5rem\">Ocorrencia</span>\n",
       "</mark>\n",
       " ASSOCIADOS: 1. História de \n",
       "<mark class=\"entity\" style=\"background: #FF00FF; padding: 0.45em 0.6em; margin: 0 0.25em; line-height: 1; border-radius: 0.35em;\">\n",
       "    acidente\n",
       "    <span style=\"font-size: 0.8em; font-weight: bold; line-height: 1; border-radius: 0.35em; vertical-align: middle; margin-left: 0.5rem\">Problema</span>\n",
       "</mark>\n",
       " \n",
       "<mark class=\"entity\" style=\"background: #FF00FF; padding: 0.45em 0.6em; margin: 0 0.25em; line-height: 1; border-radius: 0.35em;\">\n",
       "    vascular encefálico embólico da\n",
       "    <span style=\"font-size: 0.8em; font-weight: bold; line-height: 1; border-radius: 0.35em; vertical-align: middle; margin-left: 0.5rem\">Problema</span>\n",
       "</mark>\n",
       " \n",
       "<mark class=\"entity\" style=\"background: #5F9EA0; padding: 0.45em 0.6em; margin: 0 0.25em; line-height: 1; border-radius: 0.35em;\">\n",
       "    MCA\n",
       "    <span style=\"font-size: 0.8em; font-weight: bold; line-height: 1; border-radius: 0.35em; vertical-align: middle; margin-left: 0.5rem\">Tratamento</span>\n",
       "</mark>\n",
       " direita em 5/15, pós \n",
       "<mark class=\"entity\" style=\"background: #FF00FF; padding: 0.45em 0.6em; margin: 0 0.25em; line-height: 1; border-radius: 0.35em;\">\n",
       "    ICA\n",
       "    <span style=\"font-size: 0.8em; font-weight: bold; line-height: 1; border-radius: 0.35em; vertical-align: middle; margin-left: 0.5rem\">Problema</span>\n",
       "</mark>\n",
       " direita em 3/1/06. 2. História de \n",
       "<mark class=\"entity\" style=\"background: #FF00FF; padding: 0.45em 0.6em; margin: 0 0.25em; line-height: 1; border-radius: 0.35em;\">\n",
       "    epilepsia temporal\n",
       "    <span style=\"font-size: 0.8em; font-weight: bold; line-height: 1; border-radius: 0.35em; vertical-align: middle; margin-left: 0.5rem\">Problema</span>\n",
       "</mark>\n",
       ". 3. \n",
       "<mark class=\"entity\" style=\"background: #FF00FF; padding: 0.45em 0.6em; margin: 0 0.25em; line-height: 1; border-radius: 0.35em;\">\n",
       "    TDAH\n",
       "    <span style=\"font-size: 0.8em; font-weight: bold; line-height: 1; border-radius: 0.35em; vertical-align: middle; margin-left: 0.5rem\">Problema</span>\n",
       "</mark>\n",
       ". 4. \n",
       "<mark class=\"entity\" style=\"background: #FF00FF; padding: 0.45em 0.6em; margin: 0 0.25em; line-height: 1; border-radius: 0.35em;\">\n",
       "    Câncer de pulmão não pequenas células estágio III\n",
       "    <span style=\"font-size: 0.8em; font-weight: bold; line-height: 1; border-radius: 0.35em; vertical-align: middle; margin-left: 0.5rem\">Problema</span>\n",
       "</mark>\n",
       ", pós \n",
       "<mark class=\"entity\" style=\"background: #008000; padding: 0.45em 0.6em; margin: 0 0.25em; line-height: 1; border-radius: 0.35em;\">\n",
       "    radioterapia\n",
       "    <span style=\"font-size: 0.8em; font-weight: bold; line-height: 1; border-radius: 0.35em; vertical-align: middle; margin-left: 0.5rem\">Teste</span>\n",
       "</mark>\n",
       " e \n",
       "<mark class=\"entity\" style=\"background: #5F9EA0; padding: 0.45em 0.6em; margin: 0 0.25em; line-height: 1; border-radius: 0.35em;\">\n",
       "    quimioterapia\n",
       "    <span style=\"font-size: 0.8em; font-weight: bold; line-height: 1; border-radius: 0.35em; vertical-align: middle; margin-left: 0.5rem\">Tratamento</span>\n",
       "</mark>\n",
       ". 5. \n",
       "<mark class=\"entity\" style=\"background: #FF00FF; padding: 0.45em 0.6em; margin: 0 0.25em; line-height: 1; border-radius: 0.35em;\">\n",
       "    Hipertensão\n",
       "    <span style=\"font-size: 0.8em; font-weight: bold; line-height: 1; border-radius: 0.35em; vertical-align: middle; margin-left: 0.5rem\">Problema</span>\n",
       "</mark>\n",
       ". 6. \n",
       "<mark class=\"entity\" style=\"background: #FF00FF; padding: 0.45em 0.6em; margin: 0 0.25em; line-height: 1; border-radius: 0.35em;\">\n",
       "    Asma\n",
       "    <span style=\"font-size: 0.8em; font-weight: bold; line-height: 1; border-radius: 0.35em; vertical-align: middle; margin-left: 0.5rem\">Problema</span>\n",
       "</mark>\n",
       ". 7. \n",
       "<mark class=\"entity\" style=\"background: #FF00FF; padding: 0.45em 0.6em; margin: 0 0.25em; line-height: 1; border-radius: 0.35em;\">\n",
       "    Doença\n",
       "    <span style=\"font-size: 0.8em; font-weight: bold; line-height: 1; border-radius: 0.35em; vertical-align: middle; margin-left: 0.5rem\">Problema</span>\n",
       "</mark>\n",
       " de Graves. 8. \n",
       "<mark class=\"entity\" style=\"background: #FF00FF; padding: 0.45em 0.6em; margin: 0 0.25em; line-height: 1; border-radius: 0.35em;\">\n",
       "    Depressão\n",
       "    <span style=\"font-size: 0.8em; font-weight: bold; line-height: 1; border-radius: 0.35em; vertical-align: middle; margin-left: 0.5rem\">Problema</span>\n",
       "</mark>\n",
       ". 9. História de \n",
       "<mark class=\"entity\" style=\"background: #FF00FF; padding: 0.45em 0.6em; margin: 0 0.25em; line-height: 1; border-radius: 0.35em;\">\n",
       "    síndrome\n",
       "    <span style=\"font-size: 0.8em; font-weight: bold; line-height: 1; border-radius: 0.35em; vertical-align: middle; margin-left: 0.5rem\">Problema</span>\n",
       "</mark>\n",
       " do \n",
       "<mark class=\"entity\" style=\"background: #FF00FF; padding: 0.45em 0.6em; margin: 0 0.25em; line-height: 1; border-radius: 0.35em;\">\n",
       "    roubo subclávio\n",
       "    <span style=\"font-size: 0.8em; font-weight: bold; line-height: 1; border-radius: 0.35em; vertical-align: middle; margin-left: 0.5rem\">Problema</span>\n",
       "</mark>\n",
       ". 10. História de \n",
       "<mark class=\"entity\" style=\"background: #FF00FF; padding: 0.45em 0.6em; margin: 0 0.25em; line-height: 1; border-radius: 0.35em;\">\n",
       "    infecção do trato\n",
       "    <span style=\"font-size: 0.8em; font-weight: bold; line-height: 1; border-radius: 0.35em; vertical-align: middle; margin-left: 0.5rem\">Problema</span>\n",
       "</mark>\n",
       " urinário\n",
       "<mark class=\"entity\" style=\"background: #6495ED; padding: 0.45em 0.6em; margin: 0 0.25em; line-height: 1; border-radius: 0.35em;\">\n",
       "    .\n",
       "    <span style=\"font-size: 0.8em; font-weight: bold; line-height: 1; border-radius: 0.35em; vertical-align: middle; margin-left: 0.5rem\"><pad></span>\n",
       "</mark>\n",
       " HISTÓRIA DA DOENÇA ATUAL: Esta é uma mulher de 63 anos, destra, com histórico de \n",
       "<mark class=\"entity\" style=\"background: #FF00FF; padding: 0.45em 0.6em; margin: 0 0.25em; line-height: 1; border-radius: 0.35em;\">\n",
       "    câncer de pulmão não pequenas células estágio III\n",
       "    <span style=\"font-size: 0.8em; font-weight: bold; line-height: 1; border-radius: 0.35em; vertical-align: middle; margin-left: 0.5rem\">Problema</span>\n",
       "</mark>\n",
       ", pós \n",
       "<mark class=\"entity\" style=\"background: #008000; padding: 0.45em 0.6em; margin: 0 0.25em; line-height: 1; border-radius: 0.35em;\">\n",
       "    radioterapia\n",
       "    <span style=\"font-size: 0.8em; font-weight: bold; line-height: 1; border-radius: 0.35em; vertical-align: middle; margin-left: 0.5rem\">Teste</span>\n",
       "</mark>\n",
       " e \n",
       "<mark class=\"entity\" style=\"background: #5F9EA0; padding: 0.45em 0.6em; margin: 0 0.25em; line-height: 1; border-radius: 0.35em;\">\n",
       "    quimioterapia\n",
       "    <span style=\"font-size: 0.8em; font-weight: bold; line-height: 1; border-radius: 0.35em; vertical-align: middle; margin-left: 0.5rem\">Tratamento</span>\n",
       "</mark>\n",
       ", histórico de \n",
       "<mark class=\"entity\" style=\"background: #FF00FF; padding: 0.45em 0.6em; margin: 0 0.25em; line-height: 1; border-radius: 0.35em;\">\n",
       "    acidente\n",
       "    <span style=\"font-size: 0.8em; font-weight: bold; line-height: 1; border-radius: 0.35em; vertical-align: middle; margin-left: 0.5rem\">Problema</span>\n",
       "</mark>\n",
       " \n",
       "<mark class=\"entity\" style=\"background: #FF00FF; padding: 0.45em 0.6em; margin: 0 0.25em; line-height: 1; border-radius: 0.35em;\">\n",
       "    vascular encefálico embólico da\n",
       "    <span style=\"font-size: 0.8em; font-weight: bold; line-height: 1; border-radius: 0.35em; vertical-align: middle; margin-left: 0.5rem\">Problema</span>\n",
       "</mark>\n",
       " \n",
       "<mark class=\"entity\" style=\"background: #5F9EA0; padding: 0.45em 0.6em; margin: 0 0.25em; line-height: 1; border-radius: 0.35em;\">\n",
       "    MCA\n",
       "    <span style=\"font-size: 0.8em; font-weight: bold; line-height: 1; border-radius: 0.35em; vertical-align: middle; margin-left: 0.5rem\">Tratamento</span>\n",
       "</mark>\n",
       " \n",
       "<mark class=\"entity\" style=\"background: #FF00FF; padding: 0.45em 0.6em; margin: 0 0.25em; line-height: 1; border-radius: 0.35em;\">\n",
       "    direita\n",
       "    <span style=\"font-size: 0.8em; font-weight: bold; line-height: 1; border-radius: 0.35em; vertical-align: middle; margin-left: 0.5rem\">Problema</span>\n",
       "</mark>\n",
       ", pós \n",
       "<mark class=\"entity\" style=\"background: #FF00FF; padding: 0.45em 0.6em; margin: 0 0.25em; line-height: 1; border-radius: 0.35em;\">\n",
       "    CEA\n",
       "    <span style=\"font-size: 0.8em; font-weight: bold; line-height: 1; border-radius: 0.35em; vertical-align: middle; margin-left: 0.5rem\">Problema</span>\n",
       "</mark>\n",
       " direita em 3/1/06 por \n",
       "<mark class=\"entity\" style=\"background: #FF00FF; padding: 0.45em 0.6em; margin: 0 0.25em; line-height: 1; border-radius: 0.35em;\">\n",
       "    estenose de 70% da\n",
       "    <span style=\"font-size: 0.8em; font-weight: bold; line-height: 1; border-radius: 0.35em; vertical-align: middle; margin-left: 0.5rem\">Problema</span>\n",
       "</mark>\n",
       " \n",
       "<mark class=\"entity\" style=\"background: #FF00FF; padding: 0.45em 0.6em; margin: 0 0.25em; line-height: 1; border-radius: 0.35em;\">\n",
       "    ICA direita\n",
       "    <span style=\"font-size: 0.8em; font-weight: bold; line-height: 1; border-radius: 0.35em; vertical-align: middle; margin-left: 0.5rem\">Problema</span>\n",
       "</mark>\n",
       ", possível histórico de \n",
       "<mark class=\"entity\" style=\"background: #FF00FF; padding: 0.45em 0.6em; margin: 0 0.25em; line-height: 1; border-radius: 0.35em;\">\n",
       "    epilepsia temporal direita\n",
       "    <span style=\"font-size: 0.8em; font-weight: bold; line-height: 1; border-radius: 0.35em; vertical-align: middle; margin-left: 0.5rem\">Problema</span>\n",
       "</mark>\n",
       ", que foi \n",
       "<mark class=\"entity\" style=\"background: #808000; padding: 0.45em 0.6em; margin: 0 0.25em; line-height: 1; border-radius: 0.35em;\">\n",
       "    readmitida\n",
       "    <span style=\"font-size: 0.8em; font-weight: bold; line-height: 1; border-radius: 0.35em; vertical-align: middle; margin-left: 0.5rem\">Ocorrencia</span>\n",
       "</mark>\n",
       " no serviço de medicina de sua casa de repouso por \n",
       "<mark class=\"entity\" style=\"background: #FF00FF; padding: 0.45em 0.6em; margin: 0 0.25em; line-height: 1; border-radius: 0.35em;\">\n",
       "    alteração do estado mental\n",
       "    <span style=\"font-size: 0.8em; font-weight: bold; line-height: 1; border-radius: 0.35em; vertical-align: middle; margin-left: 0.5rem\">Problema</span>\n",
       "</mark>\n",
       ", \n",
       "<mark class=\"entity\" style=\"background: #FF00FF; padding: 0.45em 0.6em; margin: 0 0.25em; line-height: 1; border-radius: 0.35em;\">\n",
       "    febre\n",
       "    <span style=\"font-size: 0.8em; font-weight: bold; line-height: 1; border-radius: 0.35em; vertical-align: middle; margin-left: 0.5rem\">Problema</span>\n",
       "</mark>\n",
       " e \n",
       "<mark class=\"entity\" style=\"background: #FF00FF; padding: 0.45em 0.6em; margin: 0 0.25em; line-height: 1; border-radius: 0.35em;\">\n",
       "    tosse\n",
       "    <span style=\"font-size: 0.8em; font-weight: bold; line-height: 1; border-radius: 0.35em; vertical-align: middle; margin-left: 0.5rem\">Problema</span>\n",
       "</mark>\n",
       "\n",
       "<mark class=\"entity\" style=\"background: #6495ED; padding: 0.45em 0.6em; margin: 0 0.25em; line-height: 1; border-radius: 0.35em;\">\n",
       "    .\n",
       "    <span style=\"font-size: 0.8em; font-weight: bold; line-height: 1; border-radius: 0.35em; vertical-align: middle; margin-left: 0.5rem\"><pad></span>\n",
       "</mark>\n",
       " A paciente foi \n",
       "<mark class=\"entity\" style=\"background: #808000; padding: 0.45em 0.6em; margin: 0 0.25em; line-height: 1; border-radius: 0.35em;\">\n",
       "    internada\n",
       "    <span style=\"font-size: 0.8em; font-weight: bold; line-height: 1; border-radius: 0.35em; vertical-align: middle; margin-left: 0.5rem\">Ocorrencia</span>\n",
       "</mark>\n",
       " recentemente de 24/2/06 a 5/1/06 por \n",
       "<mark class=\"entity\" style=\"background: #FF00FF; padding: 0.45em 0.6em; margin: 0 0.25em; line-height: 1; border-radius: 0.35em;\">\n",
       "    alteração do estado mental\n",
       "    <span style=\"font-size: 0.8em; font-weight: bold; line-height: 1; border-radius: 0.35em; vertical-align: middle; margin-left: 0.5rem\">Problema</span>\n",
       "</mark>\n",
       ", tratada para \n",
       "<mark class=\"entity\" style=\"background: #FF00FF; padding: 0.45em 0.6em; margin: 0 0.25em; line-height: 1; border-radius: 0.35em;\">\n",
       "    ITU\n",
       "    <span style=\"font-size: 0.8em; font-weight: bold; line-height: 1; border-radius: 0.35em; vertical-align: middle; margin-left: 0.5rem\">Problema</span>\n",
       "</mark>\n",
       " presumida, mas cresceu com \n",
       "<mark class=\"entity\" style=\"background: #FF00FF; padding: 0.45em 0.6em; margin: 0 0.25em; line-height: 1; border-radius: 0.35em;\">\n",
       "    levedura\n",
       "    <span style=\"font-size: 0.8em; font-weight: bold; line-height: 1; border-radius: 0.35em; vertical-align: middle; margin-left: 0.5rem\">Problema</span>\n",
       "</mark>\n",
       ", sem \n",
       "<mark class=\"entity\" style=\"background: #FF00FF; padding: 0.45em 0.6em; margin: 0 0.25em; line-height: 1; border-radius: 0.35em;\">\n",
       "    bactérias\n",
       "    <span style=\"font-size: 0.8em; font-weight: bold; line-height: 1; border-radius: 0.35em; vertical-align: middle; margin-left: 0.5rem\">Problema</span>\n",
       "</mark>\n",
       "\n",
       "<mark class=\"entity\" style=\"background: #6495ED; padding: 0.45em 0.6em; margin: 0 0.25em; line-height: 1; border-radius: 0.35em;\">\n",
       "    .\n",
       "    <span style=\"font-size: 0.8em; font-weight: bold; line-height: 1; border-radius: 0.35em; vertical-align: middle; margin-left: 0.5rem\"><pad></span>\n",
       "</mark>\n",
       " A paciente foi \n",
       "<mark class=\"entity\" style=\"background: #808000; padding: 0.45em 0.6em; margin: 0 0.25em; line-height: 1; border-radius: 0.35em;\">\n",
       "    consultada\n",
       "    <span style=\"font-size: 0.8em; font-weight: bold; line-height: 1; border-radius: 0.35em; vertical-align: middle; margin-left: 0.5rem\">Ocorrencia</span>\n",
       "</mark>\n",
       " por \n",
       "<mark class=\"entity\" style=\"background: #008000; padding: 0.45em 0.6em; margin: 0 0.25em; line-height: 1; border-radius: 0.35em;\">\n",
       "    neurologia\n",
       "    <span style=\"font-size: 0.8em; font-weight: bold; line-height: 1; border-radius: 0.35em; vertical-align: middle; margin-left: 0.5rem\">Teste</span>\n",
       "</mark>\n",
       " devido à \n",
       "<mark class=\"entity\" style=\"background: #FF00FF; padding: 0.45em 0.6em; margin: 0 0.25em; line-height: 1; border-radius: 0.35em;\">\n",
       "    sonolência aumentada\n",
       "    <span style=\"font-size: 0.8em; font-weight: bold; line-height: 1; border-radius: 0.35em; vertical-align: middle; margin-left: 0.5rem\">Problema</span>\n",
       "</mark>\n",
       "\n",
       "<mark class=\"entity\" style=\"background: #6495ED; padding: 0.45em 0.6em; margin: 0 0.25em; line-height: 1; border-radius: 0.35em;\">\n",
       "    .\n",
       "    <span style=\"font-size: 0.8em; font-weight: bold; line-height: 1; border-radius: 0.35em; vertical-align: middle; margin-left: 0.5rem\"><pad></span>\n",
       "</mark>\n",
       " Ela fez uma \n",
       "<mark class=\"entity\" style=\"background: #008000; padding: 0.45em 0.6em; margin: 0 0.25em; line-height: 1; border-radius: 0.35em;\">\n",
       "    tomografia\n",
       "    <span style=\"font-size: 0.8em; font-weight: bold; line-height: 1; border-radius: 0.35em; vertical-align: middle; margin-left: 0.5rem\">Teste</span>\n",
       "</mark>\n",
       " de cabeça naquele momento que mostra \n",
       "<mark class=\"entity\" style=\"background: #FF00FF; padding: 0.45em 0.6em; margin: 0 0.25em; line-height: 1; border-radius: 0.35em;\">\n",
       "    encefalomalacia na distribuição\n",
       "    <span style=\"font-size: 0.8em; font-weight: bold; line-height: 1; border-radius: 0.35em; vertical-align: middle; margin-left: 0.5rem\">Problema</span>\n",
       "</mark>\n",
       " da \n",
       "<mark class=\"entity\" style=\"background: #FF00FF; padding: 0.45em 0.6em; margin: 0 0.25em; line-height: 1; border-radius: 0.35em;\">\n",
       "    MCA\n",
       "    <span style=\"font-size: 0.8em; font-weight: bold; line-height: 1; border-radius: 0.35em; vertical-align: middle; margin-left: 0.5rem\">Problema</span>\n",
       "</mark>\n",
       " direita consistente com \n",
       "<mark class=\"entity\" style=\"background: #FF00FF; padding: 0.45em 0.6em; margin: 0 0.25em; line-height: 1; border-radius: 0.35em;\">\n",
       "    AVC\n",
       "    <span style=\"font-size: 0.8em; font-weight: bold; line-height: 1; border-radius: 0.35em; vertical-align: middle; margin-left: 0.5rem\">Problema</span>\n",
       "</mark>\n",
       " antigo, sem \n",
       "<mark class=\"entity\" style=\"background: #FF00FF; padding: 0.45em 0.6em; margin: 0 0.25em; line-height: 1; border-radius: 0.35em;\">\n",
       "    hemorragias intracranianas agudas\n",
       "    <span style=\"font-size: 0.8em; font-weight: bold; line-height: 1; border-radius: 0.35em; vertical-align: middle; margin-left: 0.5rem\">Problema</span>\n",
       "</mark>\n",
       ", \n",
       "<mark class=\"entity\" style=\"background: #FF00FF; padding: 0.45em 0.6em; margin: 0 0.25em; line-height: 1; border-radius: 0.35em;\">\n",
       "    deslocamentos de linha média\n",
       "    <span style=\"font-size: 0.8em; font-weight: bold; line-height: 1; border-radius: 0.35em; vertical-align: middle; margin-left: 0.5rem\">Problema</span>\n",
       "</mark>\n",
       " ou \n",
       "<mark class=\"entity\" style=\"background: #FF00FF; padding: 0.45em 0.6em; margin: 0 0.25em; line-height: 1; border-radius: 0.35em;\">\n",
       "    efeito\n",
       "    <span style=\"font-size: 0.8em; font-weight: bold; line-height: 1; border-radius: 0.35em; vertical-align: middle; margin-left: 0.5rem\">Problema</span>\n",
       "</mark>\n",
       " de \n",
       "<mark class=\"entity\" style=\"background: #FF00FF; padding: 0.45em 0.6em; margin: 0 0.25em; line-height: 1; border-radius: 0.35em;\">\n",
       "    massa\n",
       "    <span style=\"font-size: 0.8em; font-weight: bold; line-height: 1; border-radius: 0.35em; vertical-align: middle; margin-left: 0.5rem\">Problema</span>\n",
       "</mark>\n",
       ". Não foram observadas \n",
       "<mark class=\"entity\" style=\"background: #FF00FF; padding: 0.45em 0.6em; margin: 0 0.25em; line-height: 1; border-radius: 0.35em;\">\n",
       "    lesões metastáticas definitivas\n",
       "    <span style=\"font-size: 0.8em; font-weight: bold; line-height: 1; border-radius: 0.35em; vertical-align: middle; margin-left: 0.5rem\">Problema</span>\n",
       "</mark>\n",
       "\n",
       "<mark class=\"entity\" style=\"background: #6495ED; padding: 0.45em 0.6em; margin: 0 0.25em; line-height: 1; border-radius: 0.35em;\">\n",
       "    .\n",
       "    <span style=\"font-size: 0.8em; font-weight: bold; line-height: 1; border-radius: 0.35em; vertical-align: middle; margin-left: 0.5rem\"><pad></span>\n",
       "</mark>\n",
       " De acordo com o \n",
       "<mark class=\"entity\" style=\"background: #008000; padding: 0.45em 0.6em; margin: 0 0.25em; line-height: 1; border-radius: 0.35em;\">\n",
       "    oncologista\n",
       "    <span style=\"font-size: 0.8em; font-weight: bold; line-height: 1; border-radius: 0.35em; vertical-align: middle; margin-left: 0.5rem\">Teste</span>\n",
       "</mark>\n",
       " da paciente, sua resposta ao tratamento tem sido excelente. Ela tem um \n",
       "<mark class=\"entity\" style=\"background: #008000; padding: 0.45em 0.6em; margin: 0 0.25em; line-height: 1; border-radius: 0.35em;\">\n",
       "    EEG\n",
       "    <span style=\"font-size: 0.8em; font-weight: bold; line-height: 1; border-radius: 0.35em; vertical-align: middle; margin-left: 0.5rem\">Teste</span>\n",
       "</mark>\n",
       " negativo\n",
       "<mark class=\"entity\" style=\"background: #6495ED; padding: 0.45em 0.6em; margin: 0 0.25em; line-height: 1; border-radius: 0.35em;\">\n",
       "    .\n",
       "    <span style=\"font-size: 0.8em; font-weight: bold; line-height: 1; border-radius: 0.35em; vertical-align: middle; margin-left: 0.5rem\"><pad></span>\n",
       "</mark>\n",
       " A \n",
       "<mark class=\"entity\" style=\"background: #008000; padding: 0.45em 0.6em; margin: 0 0.25em; line-height: 1; border-radius: 0.35em;\">\n",
       "    ressonância\n",
       "    <span style=\"font-size: 0.8em; font-weight: bold; line-height: 1; border-radius: 0.35em; vertical-align: middle; margin-left: 0.5rem\">Teste</span>\n",
       "</mark>\n",
       " \n",
       "<mark class=\"entity\" style=\"background: #008000; padding: 0.45em 0.6em; margin: 0 0.25em; line-height: 1; border-radius: 0.35em;\">\n",
       "    magnética\n",
       "    <span style=\"font-size: 0.8em; font-weight: bold; line-height: 1; border-radius: 0.35em; vertical-align: middle; margin-left: 0.5rem\">Teste</span>\n",
       "</mark>\n",
       "/\n",
       "<mark class=\"entity\" style=\"background: #008000; padding: 0.45em 0.6em; margin: 0 0.25em; line-height: 1; border-radius: 0.35em;\">\n",
       "    arteriografia\n",
       "    <span style=\"font-size: 0.8em; font-weight: bold; line-height: 1; border-radius: 0.35em; vertical-align: middle; margin-left: 0.5rem\">Teste</span>\n",
       "</mark>\n",
       " cerebral sempre mostra o \n",
       "<mark class=\"entity\" style=\"background: #FF00FF; padding: 0.45em 0.6em; margin: 0 0.25em; line-height: 1; border-radius: 0.35em;\">\n",
       "    infarto da\n",
       "    <span style=\"font-size: 0.8em; font-weight: bold; line-height: 1; border-radius: 0.35em; vertical-align: middle; margin-left: 0.5rem\">Problema</span>\n",
       "</mark>\n",
       " \n",
       "<mark class=\"entity\" style=\"background: #5F9EA0; padding: 0.45em 0.6em; margin: 0 0.25em; line-height: 1; border-radius: 0.35em;\">\n",
       "    MCA\n",
       "    <span style=\"font-size: 0.8em; font-weight: bold; line-height: 1; border-radius: 0.35em; vertical-align: middle; margin-left: 0.5rem\">Tratamento</span>\n",
       "</mark>\n",
       " \n",
       "<mark class=\"entity\" style=\"background: #FF00FF; padding: 0.45em 0.6em; margin: 0 0.25em; line-height: 1; border-radius: 0.35em;\">\n",
       "    direita\n",
       "    <span style=\"font-size: 0.8em; font-weight: bold; line-height: 1; border-radius: 0.35em; vertical-align: middle; margin-left: 0.5rem\">Problema</span>\n",
       "</mark>\n",
       ". B12, folato, TSH e RPR normais. Neurologia naquela época concordou que nenhuma avaliação adicional da sonolência é necessária neste momento e que a doença leptomeningeal é improvável devido à falta de achados neurológicos. A paciente foi então transferida para reabilitação em 5/1/06. De acordo com a equipe de enfermagem e discussão com a equipe médica, a paciente teve estado mental variável, às vezes parecendo alerta e adequada e outras vezes alucinante e agitada. Ela também teve períodos de tosse, febre e dor ao urinar. De acordo com o filho, ela teve tosse nos últimos 10 dias antes da internação. Ela não tem se alimentado adequadamente, com alimentos saindo de sua boca e está pouco responsiva. Ela fez um raio-X de tórax em 26/7/06 que mostra uma massa hilar direita e infiltrado no lobo superior direito. Ela foi iniciada em moxifloxacina 400 mg via oral diariamente em 26/7/06 e depois transferida para o Hospital Comunitário de Kendertawn a pedido do filho devido à alteração do estado mental, tosse, febre e pneumonia presumida. No pronto-socorro, sua temperatura era de 98,8, pulso de 122, pressão arterial de 160/68, respiração em 20. Ela recebeu vancomicina, levofloxacina e 4 litros de líquidos. O raio-X de tórax era compatível com pneumonia no lobo superior direito, com suspeita de pneumonia pós-obstrutiva. Seu exame de urina estava bastante sujo com cristais de oxalato, leveduras e mais de 100 leucócitos. Ela foi iniciada em vancomicina e levofloxacina para pneumonia presumida e ITU. Sua tomografia de cabeça não mostrou nenhuma alteração aguda, mas também mostrou infarto crônico da MCA direita. A paciente foi transferida para o andar para mais tratamento.</div></span>"
      ],
      "text/plain": [
       "<IPython.core.display.HTML object>"
      ]
     },
     "metadata": {},
     "output_type": "display_data"
    },
    {
     "name": "stdout",
     "output_type": "stream",
     "text": [
      "\n",
      "\n",
      "\n",
      "\n",
      "\n"
     ]
    }
   ],
   "source": [
    "# Extract the cleaned text from the 6th row of the DataFrame 'df'\n",
    "txt_example_2 = df.cleaned_text.iloc[5]\n",
    "\n",
    "# Iterate over each model in the models_dict dictionary\n",
    "for model_name, ner_pipeline in models_dict.items():\n",
    "    # Print the name of the model being used for inference\n",
    "    print(f'Inference with model {model_name}')\n",
    "    \n",
    "    # Perform inference using the NER pipeline and render the entities in the extracted text\n",
    "    perform_inference_and_render_entities(ner_pipeline, txt_example_2)\n",
    "    \n",
    "    # Print four newline characters to separate the output of different models\n",
    "    print('\\n' * 4)"
   ]
  },
  {
   "cell_type": "markdown",
   "metadata": {},
   "source": [
    "## Dealing with Large Texts using HuggingFace Transformers\n",
    "\n",
    "HuggingFace Transformers is a powerful library that simplifies the use of Transformer models. However, a common limitation in these models is their restriction on input text length, typically capped at 512 tokens. This limitation stems from the computational demands of the self-attention mechanism inherent to Transformer architectures.\n",
    "\n",
    "### Understanding the Bottleneck: Self-Attention and Quadratic Complexity\n",
    "\n",
    "The self-attention mechanism, crucial for Transformers to capture relationships between words in a sequence, involves calculating attention scores between every pair of tokens. This process results in quadratic complexity: as the number of tokens (text length) increases, the number of connections and computations required grows quadratically. This quadratic scaling leads to significant memory and computational demands, making it impractical for standard Transformers to handle very long sequences. \n",
    "\n",
    "<center>\n",
    "<img src=\"images/transformer_quadratic.webp\" alt=\"\" style=\"width: 50%; height: 50%\"/>\n",
    "</center>\n",
    "\n",
    "For a deeper dive into this constraint, refer to this [informative article](http://jalammar.github.io/illustrated-transformer/) or explore [this interactive visualization](https://colab.research.google.com/github/tensorflow/tensor2tensor/blob/master/tensor2tensor/notebooks/hello_t2t.ipynb). While research is exploring less computationally intensive attention mechanisms, this discussion will focus on practical strategies for managing the existing constraint.\n",
    "\n",
    "### Text Segmentation: Addressing the 512 Token Limit\n",
    "\n",
    "When working with Transformer-based models, ensure your text doesn't exceed the 512 token limit. But what defines a token in this context?\n",
    "\n",
    "> **What is a Token?**\n",
    ">\n",
    "> In essence, a token is a meaningful unit of text. While we often perceive words as individual tokens, Transformer models utilize **subword tokenization**. This approach breaks down words into smaller units, which may include parts of words or byte-pair encodings (BPE). Subword tokenization allows the model to represent any word, even those absent from its vocabulary, by combining these smaller units.\n",
    "\n",
    "This approach offers several advantages:\n",
    "\n",
    "- **Handling Out-of-Vocabulary Words:** By breaking down words into smaller units, the model can represent unseen words as combinations of known subword tokens.\n",
    "- **Reduced Vocabulary Size:** Representing words through subword units leads to a smaller overall vocabulary size, which can improve efficiency. \n",
    "\n",
    "Consider the example below for a clearer understanding:"
   ]
  },
  {
   "cell_type": "code",
   "execution_count": 49,
   "metadata": {},
   "outputs": [
    {
     "data": {
      "text/plain": [
       "{'input_ids': [101, 3396, 10303, 125, 5546, 6288, 22278, 119, 102], 'token_type_ids': [0, 0, 0, 0, 0, 0, 0, 0, 0], 'attention_mask': [1, 1, 1, 1, 1, 1, 1, 1, 1]}"
      ]
     },
     "execution_count": 49,
     "metadata": {},
     "output_type": "execute_result"
    }
   ],
   "source": [
    "from transformers import AutoTokenizer\n",
    "\n",
    "# Load the pre-trained tokenizer for the BERT model in Portuguese\n",
    "# The model \"neuralmind/bert-base-portuguese-cased\" is a BERT model trained on Portuguese text\n",
    "tokenizer = AutoTokenizer.from_pretrained(\"neuralmind/bert-base-portuguese-cased\")\n",
    "\n",
    "# Define a sample text in Portuguese\n",
    "text_1 = 'Eu gosto de farofa.'\n",
    "\n",
    "# Tokenize the sample text using the loaded tokenizer\n",
    "# The tokenizer converts the text into a format suitable for input to the BERT model\n",
    "text_1_tokenized = tokenizer(text_1)\n",
    "\n",
    "# Display the tokenized output\n",
    "# The output includes token IDs, attention masks, and other information required by the model\n",
    "text_1_tokenized"
   ]
  },
  {
   "cell_type": "markdown",
   "metadata": {},
   "source": [
    "Above, we can see the sentence `\"Eu gosto de farofa\"` has 9 tokens in total (`[101, 3396, 10303, 125, 5546, 6288, 22278, 119, 102]`). Let's check what they mean"
   ]
  },
  {
   "cell_type": "code",
   "execution_count": 50,
   "metadata": {},
   "outputs": [
    {
     "name": "stdout",
     "output_type": "stream",
     "text": [
      "101 \t\t \"[CLS]\"\n",
      "3396 \t\t \"Eu\"\n",
      "10303 \t\t \"gosto\"\n",
      "125 \t\t \"de\"\n",
      "5546 \t\t \"far\"\n",
      "6288 \t\t \"##of\"\n",
      "22278 \t\t \"##a\"\n",
      "119 \t\t \".\"\n",
      "102 \t\t \"[SEP]\"\n"
     ]
    }
   ],
   "source": [
    "# Iterate over each token ID in the 'input_ids' list from the tokenized text\n",
    "for token_id in text_1_tokenized['input_ids']:\n",
    "    # Print the token ID and its corresponding decoded token (i.e., the original text representation)\n",
    "    # The 'decode' method converts the token ID back to its string representation\n",
    "    print(token_id, '\\t\\t', f'\"{tokenizer.decode(token_id)}\"')"
   ]
  },
  {
   "cell_type": "markdown",
   "metadata": {},
   "source": [
    "### Key Special Tokens\n",
    "\n",
    "In Transformer-based models, special tokens such as `[CLS]` and `[SEP]` play essential roles. These tokens are added by the tokenizer at specific locations in the text to provide the model with crucial context about the text's structure.\n",
    "\n",
    "- **[CLS]**: Known as the Classification token, `[CLS]` is automatically inserted at the beginning of the text during the tokenization process. The model uses this token to understand the start of a piece of text and often utilizes the representation of this token for classification tasks.\n",
    "\n",
    "- **[SEP]**: The Separator token `[SEP]` is placed at the end of the text or between two texts when comparing texts. This token helps the model discern where one piece of information ends and another begins, aiding in tasks such as sentence pair classification and question-answering.\n",
    "\n",
    "To further clarify, consider the following analogy:\n",
    "\n",
    "- **[CLS] Token**: Think of it as the title of a book. It gives you an idea of what the content is about right from the beginning.\n",
    "- **[SEP] Token**: Imagine it as a chapter divider in a book. It clearly indicates where one chapter (or piece of information) ends and another begins, helping you navigate through the content.\n",
    "\n",
    "\n",
    "### Tokenization Process\n",
    "\n",
    "When processing input data, Transformer models use a tokenization process to break down words into manageable pieces called tokens. This process is needed for handling the diverse vocabulary and structure of natural language. Here are some examples to illustrate how tokenization works:\n",
    "\n",
    "- **\"Eu\"**: This word is present in the model's vocabulary and is represented as a single token.\n",
    "- **\"gosto\"**: Also present in the model's vocabulary and converted into one token.\n",
    "- **\"de\"**: Another word from the model's vocabulary represented as a single token.\n",
    "- **\"farofa\"**: A word not present in the model's vocabulary. Hence, it gets broken down into three subword tokens: `\"far\"`, `\"##of\"`, and `\"##a\"`.\n",
    "\n",
    "This tokenization strategy ensures that every kind of word, even unknown ones, can be processed by the model, enabling it to handle a wide variety of linguistic inputs.\n",
    "\n",
    "### Importance of Tokenizer-Specific Conventions\n",
    "\n",
    "It's important to note that special tokens are a convention dependent on the tokenizer used to train the model. For instance:\n",
    "\n",
    "- **BERT-based models**: Most will have the `[CLS]` and `[SEP]` tokens.\n",
    "- **GPT-2 models**: These models do not use `[CLS]` and `[SEP]` tokens.\n",
    "\n",
    "Moreover, different tokenizers from the same architecture may have different tokens as well. Understanding the specific conventions of the tokenizer you are working with is crucial for effectively utilizing Transformer models.\n"
   ]
  },
  {
   "cell_type": "code",
   "execution_count": 51,
   "metadata": {},
   "outputs": [
    {
     "data": {
      "application/vnd.jupyter.widget-view+json": {
       "model_id": "e1975940be72426aad1d29f87f7869a3",
       "version_major": 2,
       "version_minor": 0
      },
      "text/plain": [
       "tokenizer_config.json:   0%|          | 0.00/49.0 [00:00<?, ?B/s]"
      ]
     },
     "metadata": {},
     "output_type": "display_data"
    },
    {
     "data": {
      "application/vnd.jupyter.widget-view+json": {
       "model_id": "762c033eea20433da4539accc558e306",
       "version_major": 2,
       "version_minor": 0
      },
      "text/plain": [
       "config.json:   0%|          | 0.00/625 [00:00<?, ?B/s]"
      ]
     },
     "metadata": {},
     "output_type": "display_data"
    },
    {
     "data": {
      "application/vnd.jupyter.widget-view+json": {
       "model_id": "c02ef123dfcb4afd93ae5c6cfac3f77a",
       "version_major": 2,
       "version_minor": 0
      },
      "text/plain": [
       "vocab.txt:   0%|          | 0.00/996k [00:00<?, ?B/s]"
      ]
     },
     "metadata": {},
     "output_type": "display_data"
    },
    {
     "data": {
      "application/vnd.jupyter.widget-view+json": {
       "model_id": "171f3853867745618b70a8abb893e0f4",
       "version_major": 2,
       "version_minor": 0
      },
      "text/plain": [
       "tokenizer.json:   0%|          | 0.00/1.96M [00:00<?, ?B/s]"
      ]
     },
     "metadata": {},
     "output_type": "display_data"
    },
    {
     "data": {
      "text/plain": [
       "{'input_ids': [101, 41859, 11783, 15340, 10104, 13301, 89549, 119, 102], 'token_type_ids': [0, 0, 0, 0, 0, 0, 0, 0, 0], 'attention_mask': [1, 1, 1, 1, 1, 1, 1, 1, 1]}"
      ]
     },
     "execution_count": 51,
     "metadata": {},
     "output_type": "execute_result"
    }
   ],
   "source": [
    "# Import the AutoTokenizer class from the transformers library\n",
    "from transformers import AutoTokenizer\n",
    "\n",
    "# Load the pre-trained tokenizer for the multilingual BERT model\n",
    "# The model \"bert-base-multilingual-cased\" is a BERT model trained on multiple languages\n",
    "tokenizer = AutoTokenizer.from_pretrained(\"bert-base-multilingual-cased\")\n",
    "\n",
    "# Define a sample text in Portuguese\n",
    "text_1 = 'Eu gosto de farofa.'\n",
    "\n",
    "# Tokenize the sample text using the loaded tokenizer\n",
    "# The tokenizer converts the text into a format suitable for input to the BERT model\n",
    "text_1_tokenized = tokenizer(text_1)\n",
    "\n",
    "# Display the tokenized output\n",
    "# The output includes token IDs, attention masks, and other information required by the model\n",
    "text_1_tokenized"
   ]
  },
  {
   "cell_type": "code",
   "execution_count": 52,
   "metadata": {},
   "outputs": [
    {
     "name": "stdout",
     "output_type": "stream",
     "text": [
      "101 \t\t \"[CLS]\"\n",
      "41859 \t\t \"Eu\"\n",
      "11783 \t\t \"go\"\n",
      "15340 \t\t \"##sto\"\n",
      "10104 \t\t \"de\"\n",
      "13301 \t\t \"far\"\n",
      "89549 \t\t \"##ofa\"\n",
      "119 \t\t \".\"\n",
      "102 \t\t \"[SEP]\"\n"
     ]
    }
   ],
   "source": [
    "# Iterate over each token ID in the 'input_ids' list from the tokenized text\n",
    "for token_id in text_1_tokenized['input_ids']:\n",
    "    # Print the token ID and its corresponding decoded token (i.e., the original text representation)\n",
    "    # The 'decode' method converts the token ID back to its string representation\n",
    "    print(token_id, '\\t\\t', f'\"{tokenizer.decode(token_id)}\"')"
   ]
  },
  {
   "cell_type": "code",
   "execution_count": 53,
   "metadata": {},
   "outputs": [
    {
     "data": {
      "application/vnd.jupyter.widget-view+json": {
       "model_id": "11a756aeaf2b4b6d8fb53d4b7b8bd4f0",
       "version_major": 2,
       "version_minor": 0
      },
      "text/plain": [
       "tokenizer_config.json:   0%|          | 0.00/26.0 [00:00<?, ?B/s]"
      ]
     },
     "metadata": {},
     "output_type": "display_data"
    },
    {
     "data": {
      "application/vnd.jupyter.widget-view+json": {
       "model_id": "c975e3912e1d4a2aa5c33c2f73550315",
       "version_major": 2,
       "version_minor": 0
      },
      "text/plain": [
       "config.json:   0%|          | 0.00/665 [00:00<?, ?B/s]"
      ]
     },
     "metadata": {},
     "output_type": "display_data"
    },
    {
     "data": {
      "application/vnd.jupyter.widget-view+json": {
       "model_id": "a37bcfefa5c24dfe8d7fc81c58fb6da5",
       "version_major": 2,
       "version_minor": 0
      },
      "text/plain": [
       "vocab.json:   0%|          | 0.00/1.04M [00:00<?, ?B/s]"
      ]
     },
     "metadata": {},
     "output_type": "display_data"
    },
    {
     "data": {
      "application/vnd.jupyter.widget-view+json": {
       "model_id": "c9dc73a2e6174325ae7060627a9ef4d6",
       "version_major": 2,
       "version_minor": 0
      },
      "text/plain": [
       "merges.txt:   0%|          | 0.00/456k [00:00<?, ?B/s]"
      ]
     },
     "metadata": {},
     "output_type": "display_data"
    },
    {
     "data": {
      "application/vnd.jupyter.widget-view+json": {
       "model_id": "353953a7c8594f24ab6c85b636a7871f",
       "version_major": 2,
       "version_minor": 0
      },
      "text/plain": [
       "tokenizer.json:   0%|          | 0.00/1.36M [00:00<?, ?B/s]"
      ]
     },
     "metadata": {},
     "output_type": "display_data"
    },
    {
     "data": {
      "text/plain": [
       "{'input_ids': [36, 84, 308, 455, 78, 390, 1290, 1659, 64, 13], 'attention_mask': [1, 1, 1, 1, 1, 1, 1, 1, 1, 1]}"
      ]
     },
     "execution_count": 53,
     "metadata": {},
     "output_type": "execute_result"
    }
   ],
   "source": [
    "# Import the AutoTokenizer class from the transformers library\n",
    "from transformers import AutoTokenizer\n",
    "\n",
    "# Load the pre-trained tokenizer for the GPT-2 model\n",
    "# The model \"gpt2\" is a generative pre-trained transformer model\n",
    "tokenizer = AutoTokenizer.from_pretrained(\"gpt2\")\n",
    "\n",
    "# Define a sample text in Portuguese\n",
    "text_1 = 'Eu gosto de farofa.'\n",
    "\n",
    "# Tokenize the sample text using the loaded tokenizer\n",
    "# The tokenizer converts the text into a format suitable for input to the GPT-2 model\n",
    "text_1_tokenized = tokenizer(text_1)\n",
    "\n",
    "# Display the tokenized output\n",
    "# The output includes token IDs, attention masks, and other information required by the model\n",
    "text_1_tokenized"
   ]
  },
  {
   "cell_type": "code",
   "execution_count": 54,
   "metadata": {},
   "outputs": [
    {
     "name": "stdout",
     "output_type": "stream",
     "text": [
      "36 \t\t \"E\"\n",
      "84 \t\t \"u\"\n",
      "308 \t\t \" g\"\n",
      "455 \t\t \"ost\"\n",
      "78 \t\t \"o\"\n",
      "390 \t\t \" de\"\n",
      "1290 \t\t \" far\"\n",
      "1659 \t\t \"of\"\n",
      "64 \t\t \"a\"\n",
      "13 \t\t \".\"\n"
     ]
    }
   ],
   "source": [
    "# Iterate over each token ID in the 'input_ids' list from the tokenized text\n",
    "for token in text_1_tokenized['input_ids']:\n",
    "    # Print the token ID and its corresponding decoded token (i.e., the original text representation)\n",
    "    # The 'decode' method converts the token ID back to its string representation\n",
    "    print(token, '\\t\\t', f'\"{tokenizer.decode(token)}\"')"
   ]
  },
  {
   "cell_type": "markdown",
   "metadata": {},
   "source": [
    "### Strategies for Handling Large Texts\n",
    "\n",
    "Transformer models, while highly effective, have limitations when it comes to handling large texts. Here are several strategies to manage these limitations:\n",
    "\n",
    "#### 1. **Text Pruning**\n",
    "Text pruning involves trimming the text to fit within the transformer's token limit. While straightforward, this technique has significant drawbacks:\n",
    "- **Risk of Information Loss**: Important information might be discarded, potentially affecting the model's performance on tasks requiring comprehensive understanding.\n",
    "- **Context Disruption**: Removing parts of the text can disrupt the context, making it harder for the model to grasp the overall meaning.\n",
    "\n",
    "#### 2. **Chunking**\n",
    "Chunking is a more balanced approach, especially suitable for lengthy documents. Here’s how it works:\n",
    "- **Segment Division**: The text is divided into smaller chunks or segments, each containing fewer than the maximum number of tokens the transformer can handle.\n",
    "- **Maintaining Context**: By carefully choosing chunk boundaries, you can preserve essential context within each segment.\n",
    "- **Example**: Think of chunking as dividing a book into chapters. Each chapter is self-contained but contributes to the overall story.\n",
    "\n",
    "#### 3. **Sliding Window Approach**\n",
    "The sliding window approach enhances chunking by maintaining context across segments:\n",
    "- **Overlapping Segments**: Instead of simply partitioning the text, this method uses overlapping windows, where part of the previous segment’s content is included in the current segment.\n",
    "- **Context Preservation**: This overlap ensures that the context flows smoothly from one segment to the next, much like how a series of overlapping photographs can create a panoramic view.\n",
    "- **Example**: Imagine reading a story where each page shares a few sentences with the previous page. This overlap helps you remember the context as you move forward.\n",
    "\n",
    "#### 4. **Using Transformers with Larger Input Sizes**\n",
    "Some transformer models are designed to handle larger inputs. These include:\n",
    "- **Longformer**: Developed to handle longer sequences by combining local and global attention mechanisms.\n",
    "- **BigBird**: Uses sparse attention mechanisms to manage longer texts efficiently.\n",
    "- **Current Limitations**: While these models are promising, they are still being refined and may not yet match the maturity and accuracy of established transformer models.\n",
    "- **Technical Trade-offs**: These models use different techniques to approximate full self-attention mechanisms, balancing memory efficiency with potential accuracy trade-offs.\n",
    "\n",
    "### Focus on Chunking\n",
    "For simplicity and practicality, we will focus on the chunking strategy. Chunking is effective for managing large texts without significantly compromising context or important information.\n",
    "\n",
    "> **Note**: When implementing chunking, consider the natural breaks in the text, such as paragraphs or sentences, to ensure each chunk is as meaningful and self-contained as possible.\n"
   ]
  },
  {
   "cell_type": "code",
   "execution_count": 55,
   "metadata": {},
   "outputs": [
    {
     "name": "stderr",
     "output_type": "stream",
     "text": [
      "/home/jacob/miniforge3/envs/imd1107/lib/python3.11/site-packages/transformers/tokenization_utils_base.py:1601: FutureWarning: `clean_up_tokenization_spaces` was not set. It will be set to `True` by default. This behavior will be depracted in transformers v4.45, and will be then set to `False` by default. For more details check this issue: https://github.com/huggingface/transformers/issues/31884\n",
      "  warnings.warn(\n",
      "Token indices sequence length is longer than the specified maximum sequence length for this model (3283 > 512). Running this sequence through the model will result in indexing errors\n"
     ]
    },
    {
     "name": "stdout",
     "output_type": "stream",
     "text": [
      "count    1237.000000\n",
      "mean     2091.936944\n",
      "std       891.235993\n",
      "min        23.000000\n",
      "25%      1470.000000\n",
      "50%      1968.000000\n",
      "75%      2606.000000\n",
      "max      5475.000000\n",
      "dtype: float64\n"
     ]
    }
   ],
   "source": [
    "# Lets check how many tokens each clinical note has considering a given tokenizer\n",
    "\n",
    "# Define the model checkpoint\n",
    "model_checkpoint = 'pucpr/clinicalnerpt-disorder'\n",
    "\n",
    "# Load the tokenizer and the model from the checkpoint\n",
    "tokenizer = AutoTokenizer.from_pretrained(model_checkpoint)\n",
    "model = AutoModelForTokenClassification.from_pretrained(model_checkpoint)\n",
    "\n",
    "# Create a named entity recognition pipeline using the model and tokenizer\n",
    "ner_pipeline = pipeline('ner', model=model, tokenizer=tokenizer, aggregation_strategy='first', device=-1)\n",
    "\n",
    "# Tokenize the cleaned text from the dataframe\n",
    "tokenized_texts = tokenizer(df['cleaned_text'].values.tolist(), truncation=False)\n",
    "\n",
    "# Calculate the length of each tokenized text\n",
    "tokenized_text_lengths = [len(tokenized_text) for tokenized_text in tokenized_texts['input_ids']]\n",
    "\n",
    "# Create a pandas Series from the lengths and describe it\n",
    "token_lengths_series = pd.Series(tokenized_text_lengths)\n",
    "token_lengths_description = token_lengths_series.describe()\n",
    "\n",
    "# Print the description\n",
    "print(token_lengths_description)\n"
   ]
  },
  {
   "cell_type": "code",
   "execution_count": 58,
   "metadata": {},
   "outputs": [
    {
     "data": {
      "application/vnd.plotly.v1+json": {
       "config": {
        "plotlyServerURL": "https://plot.ly"
       },
       "data": [
        {
         "alignmentgroup": "True",
         "bingroup": "x",
         "hovertemplate": "variable=0<br>value=%{x}<br>count=%{y}<extra></extra>",
         "legendgroup": "0",
         "marker": {
          "color": "#636efa",
          "pattern": {
           "shape": ""
          }
         },
         "name": "0",
         "nbinsx": 100,
         "offsetgroup": "0",
         "orientation": "v",
         "showlegend": true,
         "type": "histogram",
         "x": [
          1237,
          2091.9369442198868,
          891.2359927237305,
          23,
          1470,
          1968,
          2606,
          5475
         ],
         "xaxis": "x",
         "yaxis": "y"
        }
       ],
       "layout": {
        "annotations": [
         {
          "arrowhead": 1,
          "showarrow": true,
          "text": "512 tokens",
          "x": 512,
          "y": 100
         },
         {
          "arrowhead": 1,
          "showarrow": true,
          "text": "I have trained a model that handles sentences up to here",
          "x": 7680,
          "y": 100
         }
        ],
        "barmode": "relative",
        "legend": {
         "title": {
          "text": "variable"
         },
         "tracegroupgap": 0
        },
        "margin": {
         "t": 60
        },
        "shapes": [
         {
          "line": {
           "color": "red",
           "dash": "dash",
           "width": 3
          },
          "type": "line",
          "x0": 512,
          "x1": 512,
          "xref": "x",
          "y0": 0,
          "y1": 1,
          "yref": "y domain"
         },
         {
          "line": {
           "color": "green",
           "dash": "dash",
           "width": 3
          },
          "type": "line",
          "x0": 7680,
          "x1": 7680,
          "xref": "x",
          "y0": 0,
          "y1": 1,
          "yref": "y domain"
         },
         {
          "line": {
           "color": "blue",
           "dash": "dash",
           "width": 3
          },
          "type": "line",
          "x0": 8192,
          "x1": 8192,
          "xref": "x",
          "y0": 0,
          "y1": 1,
          "yref": "y domain"
         }
        ],
        "showlegend": false,
        "template": {
         "data": {
          "bar": [
           {
            "error_x": {
             "color": "#2a3f5f"
            },
            "error_y": {
             "color": "#2a3f5f"
            },
            "marker": {
             "line": {
              "color": "#E5ECF6",
              "width": 0.5
             },
             "pattern": {
              "fillmode": "overlay",
              "size": 10,
              "solidity": 0.2
             }
            },
            "type": "bar"
           }
          ],
          "barpolar": [
           {
            "marker": {
             "line": {
              "color": "#E5ECF6",
              "width": 0.5
             },
             "pattern": {
              "fillmode": "overlay",
              "size": 10,
              "solidity": 0.2
             }
            },
            "type": "barpolar"
           }
          ],
          "carpet": [
           {
            "aaxis": {
             "endlinecolor": "#2a3f5f",
             "gridcolor": "white",
             "linecolor": "white",
             "minorgridcolor": "white",
             "startlinecolor": "#2a3f5f"
            },
            "baxis": {
             "endlinecolor": "#2a3f5f",
             "gridcolor": "white",
             "linecolor": "white",
             "minorgridcolor": "white",
             "startlinecolor": "#2a3f5f"
            },
            "type": "carpet"
           }
          ],
          "choropleth": [
           {
            "colorbar": {
             "outlinewidth": 0,
             "ticks": ""
            },
            "type": "choropleth"
           }
          ],
          "contour": [
           {
            "colorbar": {
             "outlinewidth": 0,
             "ticks": ""
            },
            "colorscale": [
             [
              0,
              "#0d0887"
             ],
             [
              0.1111111111111111,
              "#46039f"
             ],
             [
              0.2222222222222222,
              "#7201a8"
             ],
             [
              0.3333333333333333,
              "#9c179e"
             ],
             [
              0.4444444444444444,
              "#bd3786"
             ],
             [
              0.5555555555555556,
              "#d8576b"
             ],
             [
              0.6666666666666666,
              "#ed7953"
             ],
             [
              0.7777777777777778,
              "#fb9f3a"
             ],
             [
              0.8888888888888888,
              "#fdca26"
             ],
             [
              1,
              "#f0f921"
             ]
            ],
            "type": "contour"
           }
          ],
          "contourcarpet": [
           {
            "colorbar": {
             "outlinewidth": 0,
             "ticks": ""
            },
            "type": "contourcarpet"
           }
          ],
          "heatmap": [
           {
            "colorbar": {
             "outlinewidth": 0,
             "ticks": ""
            },
            "colorscale": [
             [
              0,
              "#0d0887"
             ],
             [
              0.1111111111111111,
              "#46039f"
             ],
             [
              0.2222222222222222,
              "#7201a8"
             ],
             [
              0.3333333333333333,
              "#9c179e"
             ],
             [
              0.4444444444444444,
              "#bd3786"
             ],
             [
              0.5555555555555556,
              "#d8576b"
             ],
             [
              0.6666666666666666,
              "#ed7953"
             ],
             [
              0.7777777777777778,
              "#fb9f3a"
             ],
             [
              0.8888888888888888,
              "#fdca26"
             ],
             [
              1,
              "#f0f921"
             ]
            ],
            "type": "heatmap"
           }
          ],
          "heatmapgl": [
           {
            "colorbar": {
             "outlinewidth": 0,
             "ticks": ""
            },
            "colorscale": [
             [
              0,
              "#0d0887"
             ],
             [
              0.1111111111111111,
              "#46039f"
             ],
             [
              0.2222222222222222,
              "#7201a8"
             ],
             [
              0.3333333333333333,
              "#9c179e"
             ],
             [
              0.4444444444444444,
              "#bd3786"
             ],
             [
              0.5555555555555556,
              "#d8576b"
             ],
             [
              0.6666666666666666,
              "#ed7953"
             ],
             [
              0.7777777777777778,
              "#fb9f3a"
             ],
             [
              0.8888888888888888,
              "#fdca26"
             ],
             [
              1,
              "#f0f921"
             ]
            ],
            "type": "heatmapgl"
           }
          ],
          "histogram": [
           {
            "marker": {
             "pattern": {
              "fillmode": "overlay",
              "size": 10,
              "solidity": 0.2
             }
            },
            "type": "histogram"
           }
          ],
          "histogram2d": [
           {
            "colorbar": {
             "outlinewidth": 0,
             "ticks": ""
            },
            "colorscale": [
             [
              0,
              "#0d0887"
             ],
             [
              0.1111111111111111,
              "#46039f"
             ],
             [
              0.2222222222222222,
              "#7201a8"
             ],
             [
              0.3333333333333333,
              "#9c179e"
             ],
             [
              0.4444444444444444,
              "#bd3786"
             ],
             [
              0.5555555555555556,
              "#d8576b"
             ],
             [
              0.6666666666666666,
              "#ed7953"
             ],
             [
              0.7777777777777778,
              "#fb9f3a"
             ],
             [
              0.8888888888888888,
              "#fdca26"
             ],
             [
              1,
              "#f0f921"
             ]
            ],
            "type": "histogram2d"
           }
          ],
          "histogram2dcontour": [
           {
            "colorbar": {
             "outlinewidth": 0,
             "ticks": ""
            },
            "colorscale": [
             [
              0,
              "#0d0887"
             ],
             [
              0.1111111111111111,
              "#46039f"
             ],
             [
              0.2222222222222222,
              "#7201a8"
             ],
             [
              0.3333333333333333,
              "#9c179e"
             ],
             [
              0.4444444444444444,
              "#bd3786"
             ],
             [
              0.5555555555555556,
              "#d8576b"
             ],
             [
              0.6666666666666666,
              "#ed7953"
             ],
             [
              0.7777777777777778,
              "#fb9f3a"
             ],
             [
              0.8888888888888888,
              "#fdca26"
             ],
             [
              1,
              "#f0f921"
             ]
            ],
            "type": "histogram2dcontour"
           }
          ],
          "mesh3d": [
           {
            "colorbar": {
             "outlinewidth": 0,
             "ticks": ""
            },
            "type": "mesh3d"
           }
          ],
          "parcoords": [
           {
            "line": {
             "colorbar": {
              "outlinewidth": 0,
              "ticks": ""
             }
            },
            "type": "parcoords"
           }
          ],
          "pie": [
           {
            "automargin": true,
            "type": "pie"
           }
          ],
          "scatter": [
           {
            "fillpattern": {
             "fillmode": "overlay",
             "size": 10,
             "solidity": 0.2
            },
            "type": "scatter"
           }
          ],
          "scatter3d": [
           {
            "line": {
             "colorbar": {
              "outlinewidth": 0,
              "ticks": ""
             }
            },
            "marker": {
             "colorbar": {
              "outlinewidth": 0,
              "ticks": ""
             }
            },
            "type": "scatter3d"
           }
          ],
          "scattercarpet": [
           {
            "marker": {
             "colorbar": {
              "outlinewidth": 0,
              "ticks": ""
             }
            },
            "type": "scattercarpet"
           }
          ],
          "scattergeo": [
           {
            "marker": {
             "colorbar": {
              "outlinewidth": 0,
              "ticks": ""
             }
            },
            "type": "scattergeo"
           }
          ],
          "scattergl": [
           {
            "marker": {
             "colorbar": {
              "outlinewidth": 0,
              "ticks": ""
             }
            },
            "type": "scattergl"
           }
          ],
          "scattermapbox": [
           {
            "marker": {
             "colorbar": {
              "outlinewidth": 0,
              "ticks": ""
             }
            },
            "type": "scattermapbox"
           }
          ],
          "scatterpolar": [
           {
            "marker": {
             "colorbar": {
              "outlinewidth": 0,
              "ticks": ""
             }
            },
            "type": "scatterpolar"
           }
          ],
          "scatterpolargl": [
           {
            "marker": {
             "colorbar": {
              "outlinewidth": 0,
              "ticks": ""
             }
            },
            "type": "scatterpolargl"
           }
          ],
          "scatterternary": [
           {
            "marker": {
             "colorbar": {
              "outlinewidth": 0,
              "ticks": ""
             }
            },
            "type": "scatterternary"
           }
          ],
          "surface": [
           {
            "colorbar": {
             "outlinewidth": 0,
             "ticks": ""
            },
            "colorscale": [
             [
              0,
              "#0d0887"
             ],
             [
              0.1111111111111111,
              "#46039f"
             ],
             [
              0.2222222222222222,
              "#7201a8"
             ],
             [
              0.3333333333333333,
              "#9c179e"
             ],
             [
              0.4444444444444444,
              "#bd3786"
             ],
             [
              0.5555555555555556,
              "#d8576b"
             ],
             [
              0.6666666666666666,
              "#ed7953"
             ],
             [
              0.7777777777777778,
              "#fb9f3a"
             ],
             [
              0.8888888888888888,
              "#fdca26"
             ],
             [
              1,
              "#f0f921"
             ]
            ],
            "type": "surface"
           }
          ],
          "table": [
           {
            "cells": {
             "fill": {
              "color": "#EBF0F8"
             },
             "line": {
              "color": "white"
             }
            },
            "header": {
             "fill": {
              "color": "#C8D4E3"
             },
             "line": {
              "color": "white"
             }
            },
            "type": "table"
           }
          ]
         },
         "layout": {
          "annotationdefaults": {
           "arrowcolor": "#2a3f5f",
           "arrowhead": 0,
           "arrowwidth": 1
          },
          "autotypenumbers": "strict",
          "coloraxis": {
           "colorbar": {
            "outlinewidth": 0,
            "ticks": ""
           }
          },
          "colorscale": {
           "diverging": [
            [
             0,
             "#8e0152"
            ],
            [
             0.1,
             "#c51b7d"
            ],
            [
             0.2,
             "#de77ae"
            ],
            [
             0.3,
             "#f1b6da"
            ],
            [
             0.4,
             "#fde0ef"
            ],
            [
             0.5,
             "#f7f7f7"
            ],
            [
             0.6,
             "#e6f5d0"
            ],
            [
             0.7,
             "#b8e186"
            ],
            [
             0.8,
             "#7fbc41"
            ],
            [
             0.9,
             "#4d9221"
            ],
            [
             1,
             "#276419"
            ]
           ],
           "sequential": [
            [
             0,
             "#0d0887"
            ],
            [
             0.1111111111111111,
             "#46039f"
            ],
            [
             0.2222222222222222,
             "#7201a8"
            ],
            [
             0.3333333333333333,
             "#9c179e"
            ],
            [
             0.4444444444444444,
             "#bd3786"
            ],
            [
             0.5555555555555556,
             "#d8576b"
            ],
            [
             0.6666666666666666,
             "#ed7953"
            ],
            [
             0.7777777777777778,
             "#fb9f3a"
            ],
            [
             0.8888888888888888,
             "#fdca26"
            ],
            [
             1,
             "#f0f921"
            ]
           ],
           "sequentialminus": [
            [
             0,
             "#0d0887"
            ],
            [
             0.1111111111111111,
             "#46039f"
            ],
            [
             0.2222222222222222,
             "#7201a8"
            ],
            [
             0.3333333333333333,
             "#9c179e"
            ],
            [
             0.4444444444444444,
             "#bd3786"
            ],
            [
             0.5555555555555556,
             "#d8576b"
            ],
            [
             0.6666666666666666,
             "#ed7953"
            ],
            [
             0.7777777777777778,
             "#fb9f3a"
            ],
            [
             0.8888888888888888,
             "#fdca26"
            ],
            [
             1,
             "#f0f921"
            ]
           ]
          },
          "colorway": [
           "#636efa",
           "#EF553B",
           "#00cc96",
           "#ab63fa",
           "#FFA15A",
           "#19d3f3",
           "#FF6692",
           "#B6E880",
           "#FF97FF",
           "#FECB52"
          ],
          "font": {
           "color": "#2a3f5f"
          },
          "geo": {
           "bgcolor": "white",
           "lakecolor": "white",
           "landcolor": "#E5ECF6",
           "showlakes": true,
           "showland": true,
           "subunitcolor": "white"
          },
          "hoverlabel": {
           "align": "left"
          },
          "hovermode": "closest",
          "mapbox": {
           "style": "light"
          },
          "paper_bgcolor": "white",
          "plot_bgcolor": "#E5ECF6",
          "polar": {
           "angularaxis": {
            "gridcolor": "white",
            "linecolor": "white",
            "ticks": ""
           },
           "bgcolor": "#E5ECF6",
           "radialaxis": {
            "gridcolor": "white",
            "linecolor": "white",
            "ticks": ""
           }
          },
          "scene": {
           "xaxis": {
            "backgroundcolor": "#E5ECF6",
            "gridcolor": "white",
            "gridwidth": 2,
            "linecolor": "white",
            "showbackground": true,
            "ticks": "",
            "zerolinecolor": "white"
           },
           "yaxis": {
            "backgroundcolor": "#E5ECF6",
            "gridcolor": "white",
            "gridwidth": 2,
            "linecolor": "white",
            "showbackground": true,
            "ticks": "",
            "zerolinecolor": "white"
           },
           "zaxis": {
            "backgroundcolor": "#E5ECF6",
            "gridcolor": "white",
            "gridwidth": 2,
            "linecolor": "white",
            "showbackground": true,
            "ticks": "",
            "zerolinecolor": "white"
           }
          },
          "shapedefaults": {
           "line": {
            "color": "#2a3f5f"
           }
          },
          "ternary": {
           "aaxis": {
            "gridcolor": "white",
            "linecolor": "white",
            "ticks": ""
           },
           "baxis": {
            "gridcolor": "white",
            "linecolor": "white",
            "ticks": ""
           },
           "bgcolor": "#E5ECF6",
           "caxis": {
            "gridcolor": "white",
            "linecolor": "white",
            "ticks": ""
           }
          },
          "title": {
           "x": 0.05
          },
          "xaxis": {
           "automargin": true,
           "gridcolor": "white",
           "linecolor": "white",
           "ticks": "",
           "title": {
            "standoff": 15
           },
           "zerolinecolor": "white",
           "zerolinewidth": 2
          },
          "yaxis": {
           "automargin": true,
           "gridcolor": "white",
           "linecolor": "white",
           "ticks": "",
           "title": {
            "standoff": 15
           },
           "zerolinecolor": "white",
           "zerolinewidth": 2
          }
         }
        },
        "xaxis": {
         "anchor": "y",
         "domain": [
          0,
          1
         ],
         "title": {
          "text": "value"
         }
        },
        "yaxis": {
         "anchor": "x",
         "domain": [
          0,
          1
         ],
         "title": {
          "text": "count"
         }
        }
       }
      },
      "text/html": [
       "<div>                            <div id=\"18379f00-aacc-4fa1-bc2a-f6ba31b021c0\" class=\"plotly-graph-div\" style=\"height:525px; width:100%;\"></div>            <script type=\"text/javascript\">                require([\"plotly\"], function(Plotly) {                    window.PLOTLYENV=window.PLOTLYENV || {};                                    if (document.getElementById(\"18379f00-aacc-4fa1-bc2a-f6ba31b021c0\")) {                    Plotly.newPlot(                        \"18379f00-aacc-4fa1-bc2a-f6ba31b021c0\",                        [{\"alignmentgroup\":\"True\",\"bingroup\":\"x\",\"hovertemplate\":\"variable=0\\u003cbr\\u003evalue=%{x}\\u003cbr\\u003ecount=%{y}\\u003cextra\\u003e\\u003c\\u002fextra\\u003e\",\"legendgroup\":\"0\",\"marker\":{\"color\":\"#636efa\",\"pattern\":{\"shape\":\"\"}},\"name\":\"0\",\"nbinsx\":100,\"offsetgroup\":\"0\",\"orientation\":\"v\",\"showlegend\":true,\"x\":[1237.0,2091.9369442198868,891.2359927237305,23.0,1470.0,1968.0,2606.0,5475.0],\"xaxis\":\"x\",\"yaxis\":\"y\",\"type\":\"histogram\"}],                        {\"template\":{\"data\":{\"histogram2dcontour\":[{\"type\":\"histogram2dcontour\",\"colorbar\":{\"outlinewidth\":0,\"ticks\":\"\"},\"colorscale\":[[0.0,\"#0d0887\"],[0.1111111111111111,\"#46039f\"],[0.2222222222222222,\"#7201a8\"],[0.3333333333333333,\"#9c179e\"],[0.4444444444444444,\"#bd3786\"],[0.5555555555555556,\"#d8576b\"],[0.6666666666666666,\"#ed7953\"],[0.7777777777777778,\"#fb9f3a\"],[0.8888888888888888,\"#fdca26\"],[1.0,\"#f0f921\"]]}],\"choropleth\":[{\"type\":\"choropleth\",\"colorbar\":{\"outlinewidth\":0,\"ticks\":\"\"}}],\"histogram2d\":[{\"type\":\"histogram2d\",\"colorbar\":{\"outlinewidth\":0,\"ticks\":\"\"},\"colorscale\":[[0.0,\"#0d0887\"],[0.1111111111111111,\"#46039f\"],[0.2222222222222222,\"#7201a8\"],[0.3333333333333333,\"#9c179e\"],[0.4444444444444444,\"#bd3786\"],[0.5555555555555556,\"#d8576b\"],[0.6666666666666666,\"#ed7953\"],[0.7777777777777778,\"#fb9f3a\"],[0.8888888888888888,\"#fdca26\"],[1.0,\"#f0f921\"]]}],\"heatmap\":[{\"type\":\"heatmap\",\"colorbar\":{\"outlinewidth\":0,\"ticks\":\"\"},\"colorscale\":[[0.0,\"#0d0887\"],[0.1111111111111111,\"#46039f\"],[0.2222222222222222,\"#7201a8\"],[0.3333333333333333,\"#9c179e\"],[0.4444444444444444,\"#bd3786\"],[0.5555555555555556,\"#d8576b\"],[0.6666666666666666,\"#ed7953\"],[0.7777777777777778,\"#fb9f3a\"],[0.8888888888888888,\"#fdca26\"],[1.0,\"#f0f921\"]]}],\"heatmapgl\":[{\"type\":\"heatmapgl\",\"colorbar\":{\"outlinewidth\":0,\"ticks\":\"\"},\"colorscale\":[[0.0,\"#0d0887\"],[0.1111111111111111,\"#46039f\"],[0.2222222222222222,\"#7201a8\"],[0.3333333333333333,\"#9c179e\"],[0.4444444444444444,\"#bd3786\"],[0.5555555555555556,\"#d8576b\"],[0.6666666666666666,\"#ed7953\"],[0.7777777777777778,\"#fb9f3a\"],[0.8888888888888888,\"#fdca26\"],[1.0,\"#f0f921\"]]}],\"contourcarpet\":[{\"type\":\"contourcarpet\",\"colorbar\":{\"outlinewidth\":0,\"ticks\":\"\"}}],\"contour\":[{\"type\":\"contour\",\"colorbar\":{\"outlinewidth\":0,\"ticks\":\"\"},\"colorscale\":[[0.0,\"#0d0887\"],[0.1111111111111111,\"#46039f\"],[0.2222222222222222,\"#7201a8\"],[0.3333333333333333,\"#9c179e\"],[0.4444444444444444,\"#bd3786\"],[0.5555555555555556,\"#d8576b\"],[0.6666666666666666,\"#ed7953\"],[0.7777777777777778,\"#fb9f3a\"],[0.8888888888888888,\"#fdca26\"],[1.0,\"#f0f921\"]]}],\"surface\":[{\"type\":\"surface\",\"colorbar\":{\"outlinewidth\":0,\"ticks\":\"\"},\"colorscale\":[[0.0,\"#0d0887\"],[0.1111111111111111,\"#46039f\"],[0.2222222222222222,\"#7201a8\"],[0.3333333333333333,\"#9c179e\"],[0.4444444444444444,\"#bd3786\"],[0.5555555555555556,\"#d8576b\"],[0.6666666666666666,\"#ed7953\"],[0.7777777777777778,\"#fb9f3a\"],[0.8888888888888888,\"#fdca26\"],[1.0,\"#f0f921\"]]}],\"mesh3d\":[{\"type\":\"mesh3d\",\"colorbar\":{\"outlinewidth\":0,\"ticks\":\"\"}}],\"scatter\":[{\"fillpattern\":{\"fillmode\":\"overlay\",\"size\":10,\"solidity\":0.2},\"type\":\"scatter\"}],\"parcoords\":[{\"type\":\"parcoords\",\"line\":{\"colorbar\":{\"outlinewidth\":0,\"ticks\":\"\"}}}],\"scatterpolargl\":[{\"type\":\"scatterpolargl\",\"marker\":{\"colorbar\":{\"outlinewidth\":0,\"ticks\":\"\"}}}],\"bar\":[{\"error_x\":{\"color\":\"#2a3f5f\"},\"error_y\":{\"color\":\"#2a3f5f\"},\"marker\":{\"line\":{\"color\":\"#E5ECF6\",\"width\":0.5},\"pattern\":{\"fillmode\":\"overlay\",\"size\":10,\"solidity\":0.2}},\"type\":\"bar\"}],\"scattergeo\":[{\"type\":\"scattergeo\",\"marker\":{\"colorbar\":{\"outlinewidth\":0,\"ticks\":\"\"}}}],\"scatterpolar\":[{\"type\":\"scatterpolar\",\"marker\":{\"colorbar\":{\"outlinewidth\":0,\"ticks\":\"\"}}}],\"histogram\":[{\"marker\":{\"pattern\":{\"fillmode\":\"overlay\",\"size\":10,\"solidity\":0.2}},\"type\":\"histogram\"}],\"scattergl\":[{\"type\":\"scattergl\",\"marker\":{\"colorbar\":{\"outlinewidth\":0,\"ticks\":\"\"}}}],\"scatter3d\":[{\"type\":\"scatter3d\",\"line\":{\"colorbar\":{\"outlinewidth\":0,\"ticks\":\"\"}},\"marker\":{\"colorbar\":{\"outlinewidth\":0,\"ticks\":\"\"}}}],\"scattermapbox\":[{\"type\":\"scattermapbox\",\"marker\":{\"colorbar\":{\"outlinewidth\":0,\"ticks\":\"\"}}}],\"scatterternary\":[{\"type\":\"scatterternary\",\"marker\":{\"colorbar\":{\"outlinewidth\":0,\"ticks\":\"\"}}}],\"scattercarpet\":[{\"type\":\"scattercarpet\",\"marker\":{\"colorbar\":{\"outlinewidth\":0,\"ticks\":\"\"}}}],\"carpet\":[{\"aaxis\":{\"endlinecolor\":\"#2a3f5f\",\"gridcolor\":\"white\",\"linecolor\":\"white\",\"minorgridcolor\":\"white\",\"startlinecolor\":\"#2a3f5f\"},\"baxis\":{\"endlinecolor\":\"#2a3f5f\",\"gridcolor\":\"white\",\"linecolor\":\"white\",\"minorgridcolor\":\"white\",\"startlinecolor\":\"#2a3f5f\"},\"type\":\"carpet\"}],\"table\":[{\"cells\":{\"fill\":{\"color\":\"#EBF0F8\"},\"line\":{\"color\":\"white\"}},\"header\":{\"fill\":{\"color\":\"#C8D4E3\"},\"line\":{\"color\":\"white\"}},\"type\":\"table\"}],\"barpolar\":[{\"marker\":{\"line\":{\"color\":\"#E5ECF6\",\"width\":0.5},\"pattern\":{\"fillmode\":\"overlay\",\"size\":10,\"solidity\":0.2}},\"type\":\"barpolar\"}],\"pie\":[{\"automargin\":true,\"type\":\"pie\"}]},\"layout\":{\"autotypenumbers\":\"strict\",\"colorway\":[\"#636efa\",\"#EF553B\",\"#00cc96\",\"#ab63fa\",\"#FFA15A\",\"#19d3f3\",\"#FF6692\",\"#B6E880\",\"#FF97FF\",\"#FECB52\"],\"font\":{\"color\":\"#2a3f5f\"},\"hovermode\":\"closest\",\"hoverlabel\":{\"align\":\"left\"},\"paper_bgcolor\":\"white\",\"plot_bgcolor\":\"#E5ECF6\",\"polar\":{\"bgcolor\":\"#E5ECF6\",\"angularaxis\":{\"gridcolor\":\"white\",\"linecolor\":\"white\",\"ticks\":\"\"},\"radialaxis\":{\"gridcolor\":\"white\",\"linecolor\":\"white\",\"ticks\":\"\"}},\"ternary\":{\"bgcolor\":\"#E5ECF6\",\"aaxis\":{\"gridcolor\":\"white\",\"linecolor\":\"white\",\"ticks\":\"\"},\"baxis\":{\"gridcolor\":\"white\",\"linecolor\":\"white\",\"ticks\":\"\"},\"caxis\":{\"gridcolor\":\"white\",\"linecolor\":\"white\",\"ticks\":\"\"}},\"coloraxis\":{\"colorbar\":{\"outlinewidth\":0,\"ticks\":\"\"}},\"colorscale\":{\"sequential\":[[0.0,\"#0d0887\"],[0.1111111111111111,\"#46039f\"],[0.2222222222222222,\"#7201a8\"],[0.3333333333333333,\"#9c179e\"],[0.4444444444444444,\"#bd3786\"],[0.5555555555555556,\"#d8576b\"],[0.6666666666666666,\"#ed7953\"],[0.7777777777777778,\"#fb9f3a\"],[0.8888888888888888,\"#fdca26\"],[1.0,\"#f0f921\"]],\"sequentialminus\":[[0.0,\"#0d0887\"],[0.1111111111111111,\"#46039f\"],[0.2222222222222222,\"#7201a8\"],[0.3333333333333333,\"#9c179e\"],[0.4444444444444444,\"#bd3786\"],[0.5555555555555556,\"#d8576b\"],[0.6666666666666666,\"#ed7953\"],[0.7777777777777778,\"#fb9f3a\"],[0.8888888888888888,\"#fdca26\"],[1.0,\"#f0f921\"]],\"diverging\":[[0,\"#8e0152\"],[0.1,\"#c51b7d\"],[0.2,\"#de77ae\"],[0.3,\"#f1b6da\"],[0.4,\"#fde0ef\"],[0.5,\"#f7f7f7\"],[0.6,\"#e6f5d0\"],[0.7,\"#b8e186\"],[0.8,\"#7fbc41\"],[0.9,\"#4d9221\"],[1,\"#276419\"]]},\"xaxis\":{\"gridcolor\":\"white\",\"linecolor\":\"white\",\"ticks\":\"\",\"title\":{\"standoff\":15},\"zerolinecolor\":\"white\",\"automargin\":true,\"zerolinewidth\":2},\"yaxis\":{\"gridcolor\":\"white\",\"linecolor\":\"white\",\"ticks\":\"\",\"title\":{\"standoff\":15},\"zerolinecolor\":\"white\",\"automargin\":true,\"zerolinewidth\":2},\"scene\":{\"xaxis\":{\"backgroundcolor\":\"#E5ECF6\",\"gridcolor\":\"white\",\"linecolor\":\"white\",\"showbackground\":true,\"ticks\":\"\",\"zerolinecolor\":\"white\",\"gridwidth\":2},\"yaxis\":{\"backgroundcolor\":\"#E5ECF6\",\"gridcolor\":\"white\",\"linecolor\":\"white\",\"showbackground\":true,\"ticks\":\"\",\"zerolinecolor\":\"white\",\"gridwidth\":2},\"zaxis\":{\"backgroundcolor\":\"#E5ECF6\",\"gridcolor\":\"white\",\"linecolor\":\"white\",\"showbackground\":true,\"ticks\":\"\",\"zerolinecolor\":\"white\",\"gridwidth\":2}},\"shapedefaults\":{\"line\":{\"color\":\"#2a3f5f\"}},\"annotationdefaults\":{\"arrowcolor\":\"#2a3f5f\",\"arrowhead\":0,\"arrowwidth\":1},\"geo\":{\"bgcolor\":\"white\",\"landcolor\":\"#E5ECF6\",\"subunitcolor\":\"white\",\"showland\":true,\"showlakes\":true,\"lakecolor\":\"white\"},\"title\":{\"x\":0.05},\"mapbox\":{\"style\":\"light\"}}},\"xaxis\":{\"anchor\":\"y\",\"domain\":[0.0,1.0],\"title\":{\"text\":\"value\"}},\"yaxis\":{\"anchor\":\"x\",\"domain\":[0.0,1.0],\"title\":{\"text\":\"count\"}},\"legend\":{\"title\":{\"text\":\"variable\"},\"tracegroupgap\":0},\"margin\":{\"t\":60},\"barmode\":\"relative\",\"shapes\":[{\"line\":{\"color\":\"red\",\"dash\":\"dash\",\"width\":3},\"type\":\"line\",\"x0\":512,\"x1\":512,\"xref\":\"x\",\"y0\":0,\"y1\":1,\"yref\":\"y domain\"},{\"line\":{\"color\":\"green\",\"dash\":\"dash\",\"width\":3},\"type\":\"line\",\"x0\":7680,\"x1\":7680,\"xref\":\"x\",\"y0\":0,\"y1\":1,\"yref\":\"y domain\"},{\"line\":{\"color\":\"blue\",\"dash\":\"dash\",\"width\":3},\"type\":\"line\",\"x0\":8192,\"x1\":8192,\"xref\":\"x\",\"y0\":0,\"y1\":1,\"yref\":\"y domain\"}],\"annotations\":[{\"arrowhead\":1,\"showarrow\":true,\"text\":\"512 tokens\",\"x\":512,\"y\":100},{\"arrowhead\":1,\"showarrow\":true,\"text\":\"I have trained a model that handles sentences up to here\",\"x\":7680,\"y\":100}],\"showlegend\":false},                        {\"responsive\": true}                    ).then(function(){\n",
       "                            \n",
       "var gd = document.getElementById('18379f00-aacc-4fa1-bc2a-f6ba31b021c0');\n",
       "var x = new MutationObserver(function (mutations, observer) {{\n",
       "        var display = window.getComputedStyle(gd).display;\n",
       "        if (!display || display === 'none') {{\n",
       "            console.log([gd, 'removed!']);\n",
       "            Plotly.purge(gd);\n",
       "            observer.disconnect();\n",
       "        }}\n",
       "}});\n",
       "\n",
       "// Listen for the removal of the full notebook cells\n",
       "var notebookContainer = gd.closest('#notebook-container');\n",
       "if (notebookContainer) {{\n",
       "    x.observe(notebookContainer, {childList: true});\n",
       "}}\n",
       "\n",
       "// Listen for the clearing of the current output cell\n",
       "var outputEl = gd.closest('.output');\n",
       "if (outputEl) {{\n",
       "    x.observe(outputEl, {childList: true});\n",
       "}}\n",
       "\n",
       "                        })                };                });            </script>        </div>"
      ]
     },
     "metadata": {},
     "output_type": "display_data"
    }
   ],
   "source": [
    "import plotly.express as px\n",
    "import pandas as pd\n",
    "from typing import List\n",
    "\n",
    "def plot_token_distribution(token_lengths: List[int], with_gpt4=False) -> None:\n",
    "    \"\"\"\n",
    "    Plot a histogram of token lengths with vertical lines indicating important thresholds.\n",
    "\n",
    "    Args:\n",
    "        token_lengths (List[int]): The lengths of the tokenized texts.\n",
    "        with_gpt4 (bool): Whether to include the GPT-4 maximum input size in the plot.\n",
    "\n",
    "    Returns:\n",
    "        None\n",
    "    \"\"\"\n",
    "    # Create a histogram of the token lengths\n",
    "    histogram_figure = px.histogram(pd.Series(token_lengths), nbins=100)\n",
    "\n",
    "    # Add vertical lines at 512, 7680, and 8192 tokens\n",
    "    histogram_figure.add_vline(x=512, line_width=3, line_dash=\"dash\", line_color=\"red\")\n",
    "    histogram_figure.add_vline(x=7680, line_width=3, line_dash=\"dash\", line_color=\"green\")\n",
    "    histogram_figure.add_vline(x=8192, line_width=3, line_dash=\"dash\", line_color=\"blue\")\n",
    "\n",
    "    # Add annotations for the vertical lines\n",
    "    histogram_figure.add_annotation(x=512, y=100, text=\"512 tokens\", showarrow=True, arrowhead=1)\n",
    "    histogram_figure.add_annotation(x=7680, y=100, text=\"I have trained a model that handles sentences up to here\", showarrow=True, arrowhead=1)\n",
    "\n",
    "    if with_gpt4:\n",
    "        # Add a vertical line at 128000 tokens (GPT-4 max input size)\n",
    "        histogram_figure.add_vline(x=128000, line_width=3, line_dash=\"dash\", line_color=\"purple\")\n",
    "        histogram_figure.add_annotation(x=128000, y=100, text=\"128000 tokens (GPT-4 max input size)\", showarrow=True, arrowhead=1)\n",
    "    # Hide the legend\n",
    "    histogram_figure.update_layout(showlegend=False)\n",
    "\n",
    "    # Display the plot\n",
    "    histogram_figure.show()\n",
    "\n",
    "# Call the function with the token lengths\n",
    "plot_token_distribution(token_lengths_description)"
   ]
  },
  {
   "cell_type": "code",
   "execution_count": 59,
   "metadata": {},
   "outputs": [
    {
     "data": {
      "application/vnd.plotly.v1+json": {
       "config": {
        "plotlyServerURL": "https://plot.ly"
       },
       "data": [
        {
         "alignmentgroup": "True",
         "bingroup": "x",
         "hovertemplate": "variable=0<br>value=%{x}<br>count=%{y}<extra></extra>",
         "legendgroup": "0",
         "marker": {
          "color": "#636efa",
          "pattern": {
           "shape": ""
          }
         },
         "name": "0",
         "nbinsx": 100,
         "offsetgroup": "0",
         "orientation": "v",
         "showlegend": true,
         "type": "histogram",
         "x": [
          1237,
          2091.9369442198868,
          891.2359927237305,
          23,
          1470,
          1968,
          2606,
          5475
         ],
         "xaxis": "x",
         "yaxis": "y"
        }
       ],
       "layout": {
        "annotations": [
         {
          "arrowhead": 1,
          "showarrow": true,
          "text": "512 tokens",
          "x": 512,
          "y": 100
         },
         {
          "arrowhead": 1,
          "showarrow": true,
          "text": "I have trained a model that handles sentences up to here",
          "x": 7680,
          "y": 100
         },
         {
          "arrowhead": 1,
          "showarrow": true,
          "text": "128000 tokens (GPT-4 max input size)",
          "x": 128000,
          "y": 100
         }
        ],
        "barmode": "relative",
        "legend": {
         "title": {
          "text": "variable"
         },
         "tracegroupgap": 0
        },
        "margin": {
         "t": 60
        },
        "shapes": [
         {
          "line": {
           "color": "red",
           "dash": "dash",
           "width": 3
          },
          "type": "line",
          "x0": 512,
          "x1": 512,
          "xref": "x",
          "y0": 0,
          "y1": 1,
          "yref": "y domain"
         },
         {
          "line": {
           "color": "green",
           "dash": "dash",
           "width": 3
          },
          "type": "line",
          "x0": 7680,
          "x1": 7680,
          "xref": "x",
          "y0": 0,
          "y1": 1,
          "yref": "y domain"
         },
         {
          "line": {
           "color": "blue",
           "dash": "dash",
           "width": 3
          },
          "type": "line",
          "x0": 8192,
          "x1": 8192,
          "xref": "x",
          "y0": 0,
          "y1": 1,
          "yref": "y domain"
         },
         {
          "line": {
           "color": "purple",
           "dash": "dash",
           "width": 3
          },
          "type": "line",
          "x0": 128000,
          "x1": 128000,
          "xref": "x",
          "y0": 0,
          "y1": 1,
          "yref": "y domain"
         }
        ],
        "showlegend": false,
        "template": {
         "data": {
          "bar": [
           {
            "error_x": {
             "color": "#2a3f5f"
            },
            "error_y": {
             "color": "#2a3f5f"
            },
            "marker": {
             "line": {
              "color": "#E5ECF6",
              "width": 0.5
             },
             "pattern": {
              "fillmode": "overlay",
              "size": 10,
              "solidity": 0.2
             }
            },
            "type": "bar"
           }
          ],
          "barpolar": [
           {
            "marker": {
             "line": {
              "color": "#E5ECF6",
              "width": 0.5
             },
             "pattern": {
              "fillmode": "overlay",
              "size": 10,
              "solidity": 0.2
             }
            },
            "type": "barpolar"
           }
          ],
          "carpet": [
           {
            "aaxis": {
             "endlinecolor": "#2a3f5f",
             "gridcolor": "white",
             "linecolor": "white",
             "minorgridcolor": "white",
             "startlinecolor": "#2a3f5f"
            },
            "baxis": {
             "endlinecolor": "#2a3f5f",
             "gridcolor": "white",
             "linecolor": "white",
             "minorgridcolor": "white",
             "startlinecolor": "#2a3f5f"
            },
            "type": "carpet"
           }
          ],
          "choropleth": [
           {
            "colorbar": {
             "outlinewidth": 0,
             "ticks": ""
            },
            "type": "choropleth"
           }
          ],
          "contour": [
           {
            "colorbar": {
             "outlinewidth": 0,
             "ticks": ""
            },
            "colorscale": [
             [
              0,
              "#0d0887"
             ],
             [
              0.1111111111111111,
              "#46039f"
             ],
             [
              0.2222222222222222,
              "#7201a8"
             ],
             [
              0.3333333333333333,
              "#9c179e"
             ],
             [
              0.4444444444444444,
              "#bd3786"
             ],
             [
              0.5555555555555556,
              "#d8576b"
             ],
             [
              0.6666666666666666,
              "#ed7953"
             ],
             [
              0.7777777777777778,
              "#fb9f3a"
             ],
             [
              0.8888888888888888,
              "#fdca26"
             ],
             [
              1,
              "#f0f921"
             ]
            ],
            "type": "contour"
           }
          ],
          "contourcarpet": [
           {
            "colorbar": {
             "outlinewidth": 0,
             "ticks": ""
            },
            "type": "contourcarpet"
           }
          ],
          "heatmap": [
           {
            "colorbar": {
             "outlinewidth": 0,
             "ticks": ""
            },
            "colorscale": [
             [
              0,
              "#0d0887"
             ],
             [
              0.1111111111111111,
              "#46039f"
             ],
             [
              0.2222222222222222,
              "#7201a8"
             ],
             [
              0.3333333333333333,
              "#9c179e"
             ],
             [
              0.4444444444444444,
              "#bd3786"
             ],
             [
              0.5555555555555556,
              "#d8576b"
             ],
             [
              0.6666666666666666,
              "#ed7953"
             ],
             [
              0.7777777777777778,
              "#fb9f3a"
             ],
             [
              0.8888888888888888,
              "#fdca26"
             ],
             [
              1,
              "#f0f921"
             ]
            ],
            "type": "heatmap"
           }
          ],
          "heatmapgl": [
           {
            "colorbar": {
             "outlinewidth": 0,
             "ticks": ""
            },
            "colorscale": [
             [
              0,
              "#0d0887"
             ],
             [
              0.1111111111111111,
              "#46039f"
             ],
             [
              0.2222222222222222,
              "#7201a8"
             ],
             [
              0.3333333333333333,
              "#9c179e"
             ],
             [
              0.4444444444444444,
              "#bd3786"
             ],
             [
              0.5555555555555556,
              "#d8576b"
             ],
             [
              0.6666666666666666,
              "#ed7953"
             ],
             [
              0.7777777777777778,
              "#fb9f3a"
             ],
             [
              0.8888888888888888,
              "#fdca26"
             ],
             [
              1,
              "#f0f921"
             ]
            ],
            "type": "heatmapgl"
           }
          ],
          "histogram": [
           {
            "marker": {
             "pattern": {
              "fillmode": "overlay",
              "size": 10,
              "solidity": 0.2
             }
            },
            "type": "histogram"
           }
          ],
          "histogram2d": [
           {
            "colorbar": {
             "outlinewidth": 0,
             "ticks": ""
            },
            "colorscale": [
             [
              0,
              "#0d0887"
             ],
             [
              0.1111111111111111,
              "#46039f"
             ],
             [
              0.2222222222222222,
              "#7201a8"
             ],
             [
              0.3333333333333333,
              "#9c179e"
             ],
             [
              0.4444444444444444,
              "#bd3786"
             ],
             [
              0.5555555555555556,
              "#d8576b"
             ],
             [
              0.6666666666666666,
              "#ed7953"
             ],
             [
              0.7777777777777778,
              "#fb9f3a"
             ],
             [
              0.8888888888888888,
              "#fdca26"
             ],
             [
              1,
              "#f0f921"
             ]
            ],
            "type": "histogram2d"
           }
          ],
          "histogram2dcontour": [
           {
            "colorbar": {
             "outlinewidth": 0,
             "ticks": ""
            },
            "colorscale": [
             [
              0,
              "#0d0887"
             ],
             [
              0.1111111111111111,
              "#46039f"
             ],
             [
              0.2222222222222222,
              "#7201a8"
             ],
             [
              0.3333333333333333,
              "#9c179e"
             ],
             [
              0.4444444444444444,
              "#bd3786"
             ],
             [
              0.5555555555555556,
              "#d8576b"
             ],
             [
              0.6666666666666666,
              "#ed7953"
             ],
             [
              0.7777777777777778,
              "#fb9f3a"
             ],
             [
              0.8888888888888888,
              "#fdca26"
             ],
             [
              1,
              "#f0f921"
             ]
            ],
            "type": "histogram2dcontour"
           }
          ],
          "mesh3d": [
           {
            "colorbar": {
             "outlinewidth": 0,
             "ticks": ""
            },
            "type": "mesh3d"
           }
          ],
          "parcoords": [
           {
            "line": {
             "colorbar": {
              "outlinewidth": 0,
              "ticks": ""
             }
            },
            "type": "parcoords"
           }
          ],
          "pie": [
           {
            "automargin": true,
            "type": "pie"
           }
          ],
          "scatter": [
           {
            "fillpattern": {
             "fillmode": "overlay",
             "size": 10,
             "solidity": 0.2
            },
            "type": "scatter"
           }
          ],
          "scatter3d": [
           {
            "line": {
             "colorbar": {
              "outlinewidth": 0,
              "ticks": ""
             }
            },
            "marker": {
             "colorbar": {
              "outlinewidth": 0,
              "ticks": ""
             }
            },
            "type": "scatter3d"
           }
          ],
          "scattercarpet": [
           {
            "marker": {
             "colorbar": {
              "outlinewidth": 0,
              "ticks": ""
             }
            },
            "type": "scattercarpet"
           }
          ],
          "scattergeo": [
           {
            "marker": {
             "colorbar": {
              "outlinewidth": 0,
              "ticks": ""
             }
            },
            "type": "scattergeo"
           }
          ],
          "scattergl": [
           {
            "marker": {
             "colorbar": {
              "outlinewidth": 0,
              "ticks": ""
             }
            },
            "type": "scattergl"
           }
          ],
          "scattermapbox": [
           {
            "marker": {
             "colorbar": {
              "outlinewidth": 0,
              "ticks": ""
             }
            },
            "type": "scattermapbox"
           }
          ],
          "scatterpolar": [
           {
            "marker": {
             "colorbar": {
              "outlinewidth": 0,
              "ticks": ""
             }
            },
            "type": "scatterpolar"
           }
          ],
          "scatterpolargl": [
           {
            "marker": {
             "colorbar": {
              "outlinewidth": 0,
              "ticks": ""
             }
            },
            "type": "scatterpolargl"
           }
          ],
          "scatterternary": [
           {
            "marker": {
             "colorbar": {
              "outlinewidth": 0,
              "ticks": ""
             }
            },
            "type": "scatterternary"
           }
          ],
          "surface": [
           {
            "colorbar": {
             "outlinewidth": 0,
             "ticks": ""
            },
            "colorscale": [
             [
              0,
              "#0d0887"
             ],
             [
              0.1111111111111111,
              "#46039f"
             ],
             [
              0.2222222222222222,
              "#7201a8"
             ],
             [
              0.3333333333333333,
              "#9c179e"
             ],
             [
              0.4444444444444444,
              "#bd3786"
             ],
             [
              0.5555555555555556,
              "#d8576b"
             ],
             [
              0.6666666666666666,
              "#ed7953"
             ],
             [
              0.7777777777777778,
              "#fb9f3a"
             ],
             [
              0.8888888888888888,
              "#fdca26"
             ],
             [
              1,
              "#f0f921"
             ]
            ],
            "type": "surface"
           }
          ],
          "table": [
           {
            "cells": {
             "fill": {
              "color": "#EBF0F8"
             },
             "line": {
              "color": "white"
             }
            },
            "header": {
             "fill": {
              "color": "#C8D4E3"
             },
             "line": {
              "color": "white"
             }
            },
            "type": "table"
           }
          ]
         },
         "layout": {
          "annotationdefaults": {
           "arrowcolor": "#2a3f5f",
           "arrowhead": 0,
           "arrowwidth": 1
          },
          "autotypenumbers": "strict",
          "coloraxis": {
           "colorbar": {
            "outlinewidth": 0,
            "ticks": ""
           }
          },
          "colorscale": {
           "diverging": [
            [
             0,
             "#8e0152"
            ],
            [
             0.1,
             "#c51b7d"
            ],
            [
             0.2,
             "#de77ae"
            ],
            [
             0.3,
             "#f1b6da"
            ],
            [
             0.4,
             "#fde0ef"
            ],
            [
             0.5,
             "#f7f7f7"
            ],
            [
             0.6,
             "#e6f5d0"
            ],
            [
             0.7,
             "#b8e186"
            ],
            [
             0.8,
             "#7fbc41"
            ],
            [
             0.9,
             "#4d9221"
            ],
            [
             1,
             "#276419"
            ]
           ],
           "sequential": [
            [
             0,
             "#0d0887"
            ],
            [
             0.1111111111111111,
             "#46039f"
            ],
            [
             0.2222222222222222,
             "#7201a8"
            ],
            [
             0.3333333333333333,
             "#9c179e"
            ],
            [
             0.4444444444444444,
             "#bd3786"
            ],
            [
             0.5555555555555556,
             "#d8576b"
            ],
            [
             0.6666666666666666,
             "#ed7953"
            ],
            [
             0.7777777777777778,
             "#fb9f3a"
            ],
            [
             0.8888888888888888,
             "#fdca26"
            ],
            [
             1,
             "#f0f921"
            ]
           ],
           "sequentialminus": [
            [
             0,
             "#0d0887"
            ],
            [
             0.1111111111111111,
             "#46039f"
            ],
            [
             0.2222222222222222,
             "#7201a8"
            ],
            [
             0.3333333333333333,
             "#9c179e"
            ],
            [
             0.4444444444444444,
             "#bd3786"
            ],
            [
             0.5555555555555556,
             "#d8576b"
            ],
            [
             0.6666666666666666,
             "#ed7953"
            ],
            [
             0.7777777777777778,
             "#fb9f3a"
            ],
            [
             0.8888888888888888,
             "#fdca26"
            ],
            [
             1,
             "#f0f921"
            ]
           ]
          },
          "colorway": [
           "#636efa",
           "#EF553B",
           "#00cc96",
           "#ab63fa",
           "#FFA15A",
           "#19d3f3",
           "#FF6692",
           "#B6E880",
           "#FF97FF",
           "#FECB52"
          ],
          "font": {
           "color": "#2a3f5f"
          },
          "geo": {
           "bgcolor": "white",
           "lakecolor": "white",
           "landcolor": "#E5ECF6",
           "showlakes": true,
           "showland": true,
           "subunitcolor": "white"
          },
          "hoverlabel": {
           "align": "left"
          },
          "hovermode": "closest",
          "mapbox": {
           "style": "light"
          },
          "paper_bgcolor": "white",
          "plot_bgcolor": "#E5ECF6",
          "polar": {
           "angularaxis": {
            "gridcolor": "white",
            "linecolor": "white",
            "ticks": ""
           },
           "bgcolor": "#E5ECF6",
           "radialaxis": {
            "gridcolor": "white",
            "linecolor": "white",
            "ticks": ""
           }
          },
          "scene": {
           "xaxis": {
            "backgroundcolor": "#E5ECF6",
            "gridcolor": "white",
            "gridwidth": 2,
            "linecolor": "white",
            "showbackground": true,
            "ticks": "",
            "zerolinecolor": "white"
           },
           "yaxis": {
            "backgroundcolor": "#E5ECF6",
            "gridcolor": "white",
            "gridwidth": 2,
            "linecolor": "white",
            "showbackground": true,
            "ticks": "",
            "zerolinecolor": "white"
           },
           "zaxis": {
            "backgroundcolor": "#E5ECF6",
            "gridcolor": "white",
            "gridwidth": 2,
            "linecolor": "white",
            "showbackground": true,
            "ticks": "",
            "zerolinecolor": "white"
           }
          },
          "shapedefaults": {
           "line": {
            "color": "#2a3f5f"
           }
          },
          "ternary": {
           "aaxis": {
            "gridcolor": "white",
            "linecolor": "white",
            "ticks": ""
           },
           "baxis": {
            "gridcolor": "white",
            "linecolor": "white",
            "ticks": ""
           },
           "bgcolor": "#E5ECF6",
           "caxis": {
            "gridcolor": "white",
            "linecolor": "white",
            "ticks": ""
           }
          },
          "title": {
           "x": 0.05
          },
          "xaxis": {
           "automargin": true,
           "gridcolor": "white",
           "linecolor": "white",
           "ticks": "",
           "title": {
            "standoff": 15
           },
           "zerolinecolor": "white",
           "zerolinewidth": 2
          },
          "yaxis": {
           "automargin": true,
           "gridcolor": "white",
           "linecolor": "white",
           "ticks": "",
           "title": {
            "standoff": 15
           },
           "zerolinecolor": "white",
           "zerolinewidth": 2
          }
         }
        },
        "xaxis": {
         "anchor": "y",
         "domain": [
          0,
          1
         ],
         "title": {
          "text": "value"
         }
        },
        "yaxis": {
         "anchor": "x",
         "domain": [
          0,
          1
         ],
         "title": {
          "text": "count"
         }
        }
       }
      },
      "text/html": [
       "<div>                            <div id=\"e637be21-8233-47fe-b5d5-6e142da56625\" class=\"plotly-graph-div\" style=\"height:525px; width:100%;\"></div>            <script type=\"text/javascript\">                require([\"plotly\"], function(Plotly) {                    window.PLOTLYENV=window.PLOTLYENV || {};                                    if (document.getElementById(\"e637be21-8233-47fe-b5d5-6e142da56625\")) {                    Plotly.newPlot(                        \"e637be21-8233-47fe-b5d5-6e142da56625\",                        [{\"alignmentgroup\":\"True\",\"bingroup\":\"x\",\"hovertemplate\":\"variable=0\\u003cbr\\u003evalue=%{x}\\u003cbr\\u003ecount=%{y}\\u003cextra\\u003e\\u003c\\u002fextra\\u003e\",\"legendgroup\":\"0\",\"marker\":{\"color\":\"#636efa\",\"pattern\":{\"shape\":\"\"}},\"name\":\"0\",\"nbinsx\":100,\"offsetgroup\":\"0\",\"orientation\":\"v\",\"showlegend\":true,\"x\":[1237.0,2091.9369442198868,891.2359927237305,23.0,1470.0,1968.0,2606.0,5475.0],\"xaxis\":\"x\",\"yaxis\":\"y\",\"type\":\"histogram\"}],                        {\"template\":{\"data\":{\"histogram2dcontour\":[{\"type\":\"histogram2dcontour\",\"colorbar\":{\"outlinewidth\":0,\"ticks\":\"\"},\"colorscale\":[[0.0,\"#0d0887\"],[0.1111111111111111,\"#46039f\"],[0.2222222222222222,\"#7201a8\"],[0.3333333333333333,\"#9c179e\"],[0.4444444444444444,\"#bd3786\"],[0.5555555555555556,\"#d8576b\"],[0.6666666666666666,\"#ed7953\"],[0.7777777777777778,\"#fb9f3a\"],[0.8888888888888888,\"#fdca26\"],[1.0,\"#f0f921\"]]}],\"choropleth\":[{\"type\":\"choropleth\",\"colorbar\":{\"outlinewidth\":0,\"ticks\":\"\"}}],\"histogram2d\":[{\"type\":\"histogram2d\",\"colorbar\":{\"outlinewidth\":0,\"ticks\":\"\"},\"colorscale\":[[0.0,\"#0d0887\"],[0.1111111111111111,\"#46039f\"],[0.2222222222222222,\"#7201a8\"],[0.3333333333333333,\"#9c179e\"],[0.4444444444444444,\"#bd3786\"],[0.5555555555555556,\"#d8576b\"],[0.6666666666666666,\"#ed7953\"],[0.7777777777777778,\"#fb9f3a\"],[0.8888888888888888,\"#fdca26\"],[1.0,\"#f0f921\"]]}],\"heatmap\":[{\"type\":\"heatmap\",\"colorbar\":{\"outlinewidth\":0,\"ticks\":\"\"},\"colorscale\":[[0.0,\"#0d0887\"],[0.1111111111111111,\"#46039f\"],[0.2222222222222222,\"#7201a8\"],[0.3333333333333333,\"#9c179e\"],[0.4444444444444444,\"#bd3786\"],[0.5555555555555556,\"#d8576b\"],[0.6666666666666666,\"#ed7953\"],[0.7777777777777778,\"#fb9f3a\"],[0.8888888888888888,\"#fdca26\"],[1.0,\"#f0f921\"]]}],\"heatmapgl\":[{\"type\":\"heatmapgl\",\"colorbar\":{\"outlinewidth\":0,\"ticks\":\"\"},\"colorscale\":[[0.0,\"#0d0887\"],[0.1111111111111111,\"#46039f\"],[0.2222222222222222,\"#7201a8\"],[0.3333333333333333,\"#9c179e\"],[0.4444444444444444,\"#bd3786\"],[0.5555555555555556,\"#d8576b\"],[0.6666666666666666,\"#ed7953\"],[0.7777777777777778,\"#fb9f3a\"],[0.8888888888888888,\"#fdca26\"],[1.0,\"#f0f921\"]]}],\"contourcarpet\":[{\"type\":\"contourcarpet\",\"colorbar\":{\"outlinewidth\":0,\"ticks\":\"\"}}],\"contour\":[{\"type\":\"contour\",\"colorbar\":{\"outlinewidth\":0,\"ticks\":\"\"},\"colorscale\":[[0.0,\"#0d0887\"],[0.1111111111111111,\"#46039f\"],[0.2222222222222222,\"#7201a8\"],[0.3333333333333333,\"#9c179e\"],[0.4444444444444444,\"#bd3786\"],[0.5555555555555556,\"#d8576b\"],[0.6666666666666666,\"#ed7953\"],[0.7777777777777778,\"#fb9f3a\"],[0.8888888888888888,\"#fdca26\"],[1.0,\"#f0f921\"]]}],\"surface\":[{\"type\":\"surface\",\"colorbar\":{\"outlinewidth\":0,\"ticks\":\"\"},\"colorscale\":[[0.0,\"#0d0887\"],[0.1111111111111111,\"#46039f\"],[0.2222222222222222,\"#7201a8\"],[0.3333333333333333,\"#9c179e\"],[0.4444444444444444,\"#bd3786\"],[0.5555555555555556,\"#d8576b\"],[0.6666666666666666,\"#ed7953\"],[0.7777777777777778,\"#fb9f3a\"],[0.8888888888888888,\"#fdca26\"],[1.0,\"#f0f921\"]]}],\"mesh3d\":[{\"type\":\"mesh3d\",\"colorbar\":{\"outlinewidth\":0,\"ticks\":\"\"}}],\"scatter\":[{\"fillpattern\":{\"fillmode\":\"overlay\",\"size\":10,\"solidity\":0.2},\"type\":\"scatter\"}],\"parcoords\":[{\"type\":\"parcoords\",\"line\":{\"colorbar\":{\"outlinewidth\":0,\"ticks\":\"\"}}}],\"scatterpolargl\":[{\"type\":\"scatterpolargl\",\"marker\":{\"colorbar\":{\"outlinewidth\":0,\"ticks\":\"\"}}}],\"bar\":[{\"error_x\":{\"color\":\"#2a3f5f\"},\"error_y\":{\"color\":\"#2a3f5f\"},\"marker\":{\"line\":{\"color\":\"#E5ECF6\",\"width\":0.5},\"pattern\":{\"fillmode\":\"overlay\",\"size\":10,\"solidity\":0.2}},\"type\":\"bar\"}],\"scattergeo\":[{\"type\":\"scattergeo\",\"marker\":{\"colorbar\":{\"outlinewidth\":0,\"ticks\":\"\"}}}],\"scatterpolar\":[{\"type\":\"scatterpolar\",\"marker\":{\"colorbar\":{\"outlinewidth\":0,\"ticks\":\"\"}}}],\"histogram\":[{\"marker\":{\"pattern\":{\"fillmode\":\"overlay\",\"size\":10,\"solidity\":0.2}},\"type\":\"histogram\"}],\"scattergl\":[{\"type\":\"scattergl\",\"marker\":{\"colorbar\":{\"outlinewidth\":0,\"ticks\":\"\"}}}],\"scatter3d\":[{\"type\":\"scatter3d\",\"line\":{\"colorbar\":{\"outlinewidth\":0,\"ticks\":\"\"}},\"marker\":{\"colorbar\":{\"outlinewidth\":0,\"ticks\":\"\"}}}],\"scattermapbox\":[{\"type\":\"scattermapbox\",\"marker\":{\"colorbar\":{\"outlinewidth\":0,\"ticks\":\"\"}}}],\"scatterternary\":[{\"type\":\"scatterternary\",\"marker\":{\"colorbar\":{\"outlinewidth\":0,\"ticks\":\"\"}}}],\"scattercarpet\":[{\"type\":\"scattercarpet\",\"marker\":{\"colorbar\":{\"outlinewidth\":0,\"ticks\":\"\"}}}],\"carpet\":[{\"aaxis\":{\"endlinecolor\":\"#2a3f5f\",\"gridcolor\":\"white\",\"linecolor\":\"white\",\"minorgridcolor\":\"white\",\"startlinecolor\":\"#2a3f5f\"},\"baxis\":{\"endlinecolor\":\"#2a3f5f\",\"gridcolor\":\"white\",\"linecolor\":\"white\",\"minorgridcolor\":\"white\",\"startlinecolor\":\"#2a3f5f\"},\"type\":\"carpet\"}],\"table\":[{\"cells\":{\"fill\":{\"color\":\"#EBF0F8\"},\"line\":{\"color\":\"white\"}},\"header\":{\"fill\":{\"color\":\"#C8D4E3\"},\"line\":{\"color\":\"white\"}},\"type\":\"table\"}],\"barpolar\":[{\"marker\":{\"line\":{\"color\":\"#E5ECF6\",\"width\":0.5},\"pattern\":{\"fillmode\":\"overlay\",\"size\":10,\"solidity\":0.2}},\"type\":\"barpolar\"}],\"pie\":[{\"automargin\":true,\"type\":\"pie\"}]},\"layout\":{\"autotypenumbers\":\"strict\",\"colorway\":[\"#636efa\",\"#EF553B\",\"#00cc96\",\"#ab63fa\",\"#FFA15A\",\"#19d3f3\",\"#FF6692\",\"#B6E880\",\"#FF97FF\",\"#FECB52\"],\"font\":{\"color\":\"#2a3f5f\"},\"hovermode\":\"closest\",\"hoverlabel\":{\"align\":\"left\"},\"paper_bgcolor\":\"white\",\"plot_bgcolor\":\"#E5ECF6\",\"polar\":{\"bgcolor\":\"#E5ECF6\",\"angularaxis\":{\"gridcolor\":\"white\",\"linecolor\":\"white\",\"ticks\":\"\"},\"radialaxis\":{\"gridcolor\":\"white\",\"linecolor\":\"white\",\"ticks\":\"\"}},\"ternary\":{\"bgcolor\":\"#E5ECF6\",\"aaxis\":{\"gridcolor\":\"white\",\"linecolor\":\"white\",\"ticks\":\"\"},\"baxis\":{\"gridcolor\":\"white\",\"linecolor\":\"white\",\"ticks\":\"\"},\"caxis\":{\"gridcolor\":\"white\",\"linecolor\":\"white\",\"ticks\":\"\"}},\"coloraxis\":{\"colorbar\":{\"outlinewidth\":0,\"ticks\":\"\"}},\"colorscale\":{\"sequential\":[[0.0,\"#0d0887\"],[0.1111111111111111,\"#46039f\"],[0.2222222222222222,\"#7201a8\"],[0.3333333333333333,\"#9c179e\"],[0.4444444444444444,\"#bd3786\"],[0.5555555555555556,\"#d8576b\"],[0.6666666666666666,\"#ed7953\"],[0.7777777777777778,\"#fb9f3a\"],[0.8888888888888888,\"#fdca26\"],[1.0,\"#f0f921\"]],\"sequentialminus\":[[0.0,\"#0d0887\"],[0.1111111111111111,\"#46039f\"],[0.2222222222222222,\"#7201a8\"],[0.3333333333333333,\"#9c179e\"],[0.4444444444444444,\"#bd3786\"],[0.5555555555555556,\"#d8576b\"],[0.6666666666666666,\"#ed7953\"],[0.7777777777777778,\"#fb9f3a\"],[0.8888888888888888,\"#fdca26\"],[1.0,\"#f0f921\"]],\"diverging\":[[0,\"#8e0152\"],[0.1,\"#c51b7d\"],[0.2,\"#de77ae\"],[0.3,\"#f1b6da\"],[0.4,\"#fde0ef\"],[0.5,\"#f7f7f7\"],[0.6,\"#e6f5d0\"],[0.7,\"#b8e186\"],[0.8,\"#7fbc41\"],[0.9,\"#4d9221\"],[1,\"#276419\"]]},\"xaxis\":{\"gridcolor\":\"white\",\"linecolor\":\"white\",\"ticks\":\"\",\"title\":{\"standoff\":15},\"zerolinecolor\":\"white\",\"automargin\":true,\"zerolinewidth\":2},\"yaxis\":{\"gridcolor\":\"white\",\"linecolor\":\"white\",\"ticks\":\"\",\"title\":{\"standoff\":15},\"zerolinecolor\":\"white\",\"automargin\":true,\"zerolinewidth\":2},\"scene\":{\"xaxis\":{\"backgroundcolor\":\"#E5ECF6\",\"gridcolor\":\"white\",\"linecolor\":\"white\",\"showbackground\":true,\"ticks\":\"\",\"zerolinecolor\":\"white\",\"gridwidth\":2},\"yaxis\":{\"backgroundcolor\":\"#E5ECF6\",\"gridcolor\":\"white\",\"linecolor\":\"white\",\"showbackground\":true,\"ticks\":\"\",\"zerolinecolor\":\"white\",\"gridwidth\":2},\"zaxis\":{\"backgroundcolor\":\"#E5ECF6\",\"gridcolor\":\"white\",\"linecolor\":\"white\",\"showbackground\":true,\"ticks\":\"\",\"zerolinecolor\":\"white\",\"gridwidth\":2}},\"shapedefaults\":{\"line\":{\"color\":\"#2a3f5f\"}},\"annotationdefaults\":{\"arrowcolor\":\"#2a3f5f\",\"arrowhead\":0,\"arrowwidth\":1},\"geo\":{\"bgcolor\":\"white\",\"landcolor\":\"#E5ECF6\",\"subunitcolor\":\"white\",\"showland\":true,\"showlakes\":true,\"lakecolor\":\"white\"},\"title\":{\"x\":0.05},\"mapbox\":{\"style\":\"light\"}}},\"xaxis\":{\"anchor\":\"y\",\"domain\":[0.0,1.0],\"title\":{\"text\":\"value\"}},\"yaxis\":{\"anchor\":\"x\",\"domain\":[0.0,1.0],\"title\":{\"text\":\"count\"}},\"legend\":{\"title\":{\"text\":\"variable\"},\"tracegroupgap\":0},\"margin\":{\"t\":60},\"barmode\":\"relative\",\"shapes\":[{\"line\":{\"color\":\"red\",\"dash\":\"dash\",\"width\":3},\"type\":\"line\",\"x0\":512,\"x1\":512,\"xref\":\"x\",\"y0\":0,\"y1\":1,\"yref\":\"y domain\"},{\"line\":{\"color\":\"green\",\"dash\":\"dash\",\"width\":3},\"type\":\"line\",\"x0\":7680,\"x1\":7680,\"xref\":\"x\",\"y0\":0,\"y1\":1,\"yref\":\"y domain\"},{\"line\":{\"color\":\"blue\",\"dash\":\"dash\",\"width\":3},\"type\":\"line\",\"x0\":8192,\"x1\":8192,\"xref\":\"x\",\"y0\":0,\"y1\":1,\"yref\":\"y domain\"},{\"line\":{\"color\":\"purple\",\"dash\":\"dash\",\"width\":3},\"type\":\"line\",\"x0\":128000,\"x1\":128000,\"xref\":\"x\",\"y0\":0,\"y1\":1,\"yref\":\"y domain\"}],\"annotations\":[{\"arrowhead\":1,\"showarrow\":true,\"text\":\"512 tokens\",\"x\":512,\"y\":100},{\"arrowhead\":1,\"showarrow\":true,\"text\":\"I have trained a model that handles sentences up to here\",\"x\":7680,\"y\":100},{\"arrowhead\":1,\"showarrow\":true,\"text\":\"128000 tokens (GPT-4 max input size)\",\"x\":128000,\"y\":100}],\"showlegend\":false},                        {\"responsive\": true}                    ).then(function(){\n",
       "                            \n",
       "var gd = document.getElementById('e637be21-8233-47fe-b5d5-6e142da56625');\n",
       "var x = new MutationObserver(function (mutations, observer) {{\n",
       "        var display = window.getComputedStyle(gd).display;\n",
       "        if (!display || display === 'none') {{\n",
       "            console.log([gd, 'removed!']);\n",
       "            Plotly.purge(gd);\n",
       "            observer.disconnect();\n",
       "        }}\n",
       "}});\n",
       "\n",
       "// Listen for the removal of the full notebook cells\n",
       "var notebookContainer = gd.closest('#notebook-container');\n",
       "if (notebookContainer) {{\n",
       "    x.observe(notebookContainer, {childList: true});\n",
       "}}\n",
       "\n",
       "// Listen for the clearing of the current output cell\n",
       "var outputEl = gd.closest('.output');\n",
       "if (outputEl) {{\n",
       "    x.observe(outputEl, {childList: true});\n",
       "}}\n",
       "\n",
       "                        })                };                });            </script>        </div>"
      ]
     },
     "metadata": {},
     "output_type": "display_data"
    }
   ],
   "source": [
    "plot_token_distribution(token_lengths_description, with_gpt4=True)"
   ]
  },
  {
   "cell_type": "code",
   "execution_count": 61,
   "metadata": {},
   "outputs": [
    {
     "name": "stdout",
     "output_type": "stream",
     "text": [
      "Data de Desligamento: MÉDICO RESPONSÁVEL: JOSILOWSKY, ODELL MD MÉDICO DE CUIDADOS PRIMÁRIOS: Dr. Freddie Fluegge, 216-754-4187 PRINCIPAL QUEIXA: Sepse. HISTÓRICO DA DOENÇA ATUAL: A Sra. Wiest é uma mulher de 83 anos com vários problemas médicos, incluindo doença arterial coronariana pós-CABG, diabetes mellitus, ICC (FE 55%) e fibrilação atrial, que apresentou hipotensão, provavelmente secundária a sepse de celulite na extremidade inferior direita. Ela desenvolveu celulite na extremidade inferior direita há um mês. Dois dias antes da admissão, a paciente desenvolveu piora de eritema, edema e sensibilidade junto com calafrios e suores. Ela foi levada para a sala de emergência em 07/08/2006 e apresentava hipotensão com pressão arterial sistólica na faixa dos 80. Ela recebeu líquidos intravenosos e iniciou vancomicina, aztreonam e clindamicina, mas permaneceu hipotensa. Ela começou a receber dopamina, Levophed e vasopressina, bem como Decadron. A cirurgia foi consultada para realizar uma biópsia para descartar a possibilidade de fascite necrosante. Um TC da extremidade inferior foi feito na sala de emergência e ela foi admitida na UTI. As culturas sanguíneas da paciente cresciam estreptococos do grupo A. A cultura da ferida cresceu estreptococos do grupo A e E.coli. A paciente também foi diagnosticada com uma infecção do trato urinário por klebseilla. Seus antibióticos foram alterados para vancomicina, levofloxacino e Flagyl. Sua pressão arterial melhorou e no dia da transferência para a enfermaria em 09/03/2006, ela foi notada como oligúrica, presumivelmente devido à insuficiência renal aguda secundária à hipotensão. Sua produção de urina continuou a diminuir e ela desenvolveu uma acidose metabólica com bicarbonato em 10. Seu ácido lático naquele momento era de 4.4. Seu gasometria arterial foi: 7. 09/23/98 e ela foi transferida de volta para a UTI. Do ponto de vista renal, a IRA pós-estreptocócica glomerulonefrite seria menos provável devido ao momento da infecção estreptocócica. Ela não apresentava hipertensão arterial ou cilindros leucocitários. O exame de urina mostrou hematúria positiva. Ela tinha níveis baixos de complemento, então havia alguma suspeita de SHU após a infecção pelo estreptococo do grupo B, embora nenhum esquistócito tenha sido visto no esfregaço. A paciente estava anúrica na admissão à UTI e iniciou terapia de substituição renal. Sua produção de urina se recuperou e era superior a 800 mL diários enquanto na UTI. No entanto, no dia da transferência para a enfermaria em 30/04/2006, sua produção de urina começou a diminuir e ela começou a fazer diálise intermitente por um cateter LIJ tunelizado. A equipe renal acompanhou de perto e seus medicamentos foram ajustados de acordo com a função renal. A vancomicina foi ajustada com base nos níveis. Em termos de hipertensão, sua pressão arterial se normalizou e seu betabloqueador está sendo ajustado para cima. Do ponto de vista cardíaco, a troponina da paciente atingiu um pico de 0,87 no contexto de choque séptico. Ela foi avaliada pela cardiologia do MMMC e isso foi considerado consistente com isquemia por demanda. Ela realmente não apresentou sintomas cardíacos No momento, ela continuará tomando aspirina diariamente. Seu LDL era de 63 e uma estatina foi iniciada. Na verdade, será necessário fazer a verificação de lipídios em jejum uma vez que sua doença aguda tenha passado e seu LDL objetivo seja inferior a 70. A paciente tem histórico de FA em uso de Coumadin. Seu objetivo de INR é 2-3. Seu INR está diminuindo. Ela está sem Coumadin porque várias linhas precisaram ser retiradas, incluindo uma subclávia direita. O cateter de hemodiálise será removido, caso ela tenha melhor produção de urina ou um tipo de acesso mais permanente será colocado. Ela fará uso de heparina profilática trice por dia para profilaxia de TVP quando seu INR atingir 1,5. Do ponto de vista hematológico, a paciente inicialmente tinha trombocitopenia na admissão. Houve preocupação com DIC, devido ao aumento rápido da INR dela. No entanto, o fibrinogênio estava normal e a INR se estabilizou desde então. Ela permanece com trombocitopenia persistente, embora sua contagem de plaquetas esteja se recuperando. O anticorpo do fator plaquetário 4 foi negativo. Não houve um precipitante claro além da sepse. Ela tem uma anemia normocítica com queda acentuada do hematócrito desde a admissão e houve alguma preocupação com hemólise com o aumento da bilirrubina, haptoglobina baixa e múltiplas hemácias imaturas, mas não foram observados esquistócitos na contagem diferencial manual. Ela precisou de duas unidades de células vermelhas empacotadas nesta admissão. Seu hematócrito e plaquetas diminuíram em 27/02/2006 conforme os esteroides estavam sendo reduzidos. Seu Coombs direto foi negativo. A haptoglobina estava dentro dos limites normais. Medicamentos que causam a trombocitopenia dela, como Seroquel e heparina, foram interrompidos. Do ponto de vista pulmonar, ela está oxigenando e ventilando bem e não requer oxigênio suplementar. Ela começou a receber alimentação por sonda em 09/11/2006, com hiperglicemia acentuada e também esteroides para sua hipotensão contribuindo para a hiperglicemia. Na verdade, ela começou a receber um protocolo de insulina intravenosa na UTI para melhor controle e depois foi trocada para insulina NPH e insulina regular além de uma escala móvel de insulina regular com bom efeito. Sua medicação em casa era Lantus 25 unidades subcutâneas diariamente. Seu TSH estava dentro dos limites normais e ela continuará tomando levotiroxina. A paciente desenvolveu dor em seu quarto dedo esquerdo durante esta admissão e a articulação PIP foi puncionada em 27/02/06 por um reumatologista. A aparência do líquido é consistente com gota. Ela melhorou com esteroides. Seu ultrassom de ombro direito mostrou um pequeno derrame, que provavelmente não seria infeccioso de acordo com a radiologia. Ela começou a tomar Decadron 4 mg p.o. a cada 6h., e apenas apresenta dor residual leve. Do ponto de vista gastrointestinal, seus testes de função hepática aumentaram em 27/08/06 com ALT de 122, bilirrubina total de 8.7 e fosfatase alcalina de 196. Ela apresentava um aumento do INR (fora do Coumadin) consistente com lesão hepática e disfunção hepatocelular. Sua TC abdominal estava normal. A GI foi consultada. A etiologia não ficou clara e o diagnóstico diferencial era lesão hepática relacionada a drogas versus infecção ou fígado de choque, e menos provável, doença hepática gordurosa. As sorologias para hepatite foram negativas e o Tylenol foi suspenso desde 27/08/06. Flagyl e clindamicina foram suspensos em 09/11/07 e suas LFTs diminuíram. O AMA foi negativo. ASMA estava pendente na época desta ditadura. Do ponto de vista neurológico, a paciente inicialmente precisou de Dilaudid PCA para a dor em suas pernas. Agora, ela está confortável com um adesivo de fentanil com administração de bolus de Dilaudid. Seroquel foi iniciado para sedação, mas foi interrompido devido à trombocitopenia. Do ponto de vista dermatológico, ela teve úlceras de estase venosa na extremidade inferior esquerda. Ela tem uma úlcera de insuficiência arterial na extremidade inferior direita. Ela foi atendida por um centro de tratamento de lesões. A cirurgia vascular solicitou ABIs e avaliação do fluxo vascular após a resolução de sua doença aguda. Para nutrição, o paciente iniciou alimentação por sonda através de um tubo nasogástrico devido a sedação prolongada. Ela precisará continuar melhorando seu estado nutricional. Uma avaliação de deglutição foi realizada em 27/10/07 e ela foi autorizada a fazer dieta oral e de consistência branda. Em termos de acesso, ela tem um cateter de hemodiálise subclávio direito e um cateter de artéria radial esquerda que foi interrompido em 03/01/06. O direito subclávio será removido quando o INR estiver em 1,5 e o cateter de hemodiálise será removido ou substituído por um acesso mais permanente, dependendo da produção de urina. Para profilaxia, ela está tomando Nexium. Ela não está usando meias pneumáticas devido à celulite e a heparina foi suspensa devido à trombocitopenia, agora será reiniciada em 27/10/07 ou quando seu INR estiver em 1,5. HISTÓRICO MÉDICO ANTERIOR: Diabetes mellitus tipo II em uso de insulina, DAC pós-CABG (1998). A veia safena direita foi utilizada na cirurgia. Desde então, ela apresenta inchaço basal e edema na extremidade inferior direita, ICC com disfunção diastólica, FE de 55% em julho de 2004, peso seco é de 150 libras segundo a paciente. Fibrilação atrial em uso de Coumadin. Síndrome do seio doente, com implante de marca-passo permanente em outubro de 2006, complicado por hemotórax que exigiu toracoscopia. Insuficiência renal crônica com creatinina basal de 1,7, gota, osteoartrite, em uso de prótese total de joelho esquerdo em 1995, prótese total de joelho direito em 1990, hipotireoidismo, osteoporose e perda auditiva crônica. MEDICAMENTOS DOMICILIARES: Lantus 25 unidades subcutâneas uma vez ao dia pela manhã, NovoLog de acordo com escala móvel, aspirina 81 mg via oral diariamente, taper de prednisona (iniciada em 29/11/06) meia dose diária por duas semanas, depois meia dose em dias alternados por mais duas semanas, torsemida 20 mg 2-3 comprimidos via oral diariamente, dependendo do peso, metoprolol 12,5 mg via oral duas vezes ao dia. Coumadin? 1 mg via oral à noite, fentanil 25 mcg/h a cada 72 h., potássio, levo-tiroxina 75 mcg via oral diariamente. ALERGIAS: Penicilina causa erupções vermelhas. Esta é a única alergia que a paciente refere. Cefalosporina, reação desconhecida. Quinolonas, reação desconhecida, mas a paciente já tomou levofloxacino e ciprofloxacino anteriormente sem problemas. Sulfamida e Bactrim, reação desconhecida. Codeína, reação desconhecida. HISTÓRIA SOCIAL: A paciente mora com sua filha e cinco netos, com idades entre 7 e 20 anos. Ela é uma ex- trabalhadora do setor de saúde e organizadora sindical. No dia a dia, ela usa um andador. Ela nunca fumou tabaco. Ela raramente bebe álcool e nunca usou drogas. HISTÓRIA FAMILIAR: Pais: não sabe a história familiar de seus pais ou irmãos. Ela tem um filho com histórico de diabetes. EXAME FÍSICO DE ADMISSÃO: Temperatura 98,7, frequência cardíaca 98, pressão arterial 171/85, frequência respiratória 19-23, oxigenação 97%-98% com 2 L (essa é a admissão na UTI em 09/03/06). Em geral, ela estava gemendo de dor, ligeiramente sonolenta, mas facilmente despertável. Orientada com relação a pessoa, \"Hospital Memorial Beebe\" e \"Abril\". Fala em frases completas. Ouvidos, pupilas ligeiramente sluggishly reativas bilateralmente. A orofaringe notável por mucosas secas. Pescoço estava flexível. Pulmões estavam limpos com diminuição dos sons respiratórios nas bases bilateralmente. O exame cardiovascular mostrou taquicardia, ritmo regular com S1 e S2 apagados. O abdome apresentava ruídos intestinais normais, não tendo distensão ou dor à palpação. Membros, dor ao movimentar os membros superiores. Ela tinha osteoartrite de base nos ombros, mais acentuada à direita. A extremidade inferior direita apresentava eritema, calor e edema 2+ com sensibilidade extrema a 1 cm abaixo do joelho. A lateral distal da extremidade inferior apresentava uma placa preta muito escura de 3 cm na área da biópsia. Ela tinha um pé direito frio com pulso pedioso dorsal 1+. Extremidade inferior esquerda apresentando edema 2+, pulso pedio dorsal 1+. Mão esquerda, quarto e quinto dedos MCP-PIP com eritema e calor. Neurologicamente, os pares cranianos II a XII estão geralmente intactos. Movendo todos os membros. Os exames de força total foram impedidos pela dor. Seu ECG mostrou estimulação ventricular. Raio-x de tórax em 07/08/06 mostrou cardiomegalia, um cateter no IJ direito (colocado no pronto-socorro), sem consolidação focal. Não há edema pulmonar evidente ou pneumotórax. TC da extremidade inferior direita mostrou celulite sem gás. Ecocardiograma em julho de 2004, FE de 55%, sem anormalidades regionais de movimento de parede. O VD estava dilatado com função normal. Ela tinha achatamento septal diastólico consistente com sobrecarga de volume do VD por aumento atrial, MR de leve a moderada, IAD de 17+. DADOS LABORATORIAIS: Notáveis ​para bicarbonato 21, Ureia 49, Criatina 1.6 (baseline de 1.7), glicose 204, magnésio 1.3, ácido lático estava em 6,5 e foi para 6,2, bilirrubina total estava em 1,5, AST 45. INR 1.4. Hematócrito de 43,2, plaquetas de 156.000, contagem de leucócitos de 9,8, neutrófilos 84%, bastonetes 14%, linfócitos 1%, monócitos 1%. Enzimas cardíacas eram positivas às 21h de 09/03/06 com troponina em 0,26. DADOS DE MICROBIOLOGIA: Cultura de sangue em 08/07/06 positiva para estreptococos do grupo A beta-hemolítico. Urina de 08/07/06, mais de 100.000 klebsiellas (pansensíveis). Culturas de sangue em 22/11/06 positivas para estreptococos do grupo A beta-hemolítico. Culturas sanguíneas em 09/03/06, sem crescimento. Fluido articular de 07/06 do joelho direito, sem crescimento, alguns polis, nenhum organismo visto no Gram. Culturas sanguíneas de 01/04/06, 12 e 06/11/06, todos sem crescimento até o momento desta ditadura. Cultura de fezes negativa para C.diff. Fluido do quarto dedo esquerdo negativo para organismos no Gram ou cultura em 27/02/06. Cultura de escarro em 14/09/07, 1+ flora oral suspeita. Raio-x de tórax em 14/09/07, opacificação difusa dentro do hemitórax inferior esquerdo devido à atelectasia, sem alteração desde 10/06/06. Biópsia fascial da extremidade inferior direita em 08/07/06, tecido fibroconectivo denso, sem inflamação aguda presente. IMPRESSÃO: A Sra. Holoman é uma mulher de 83 anos com vários problemas médicos que apresentou hipotensão, provavelmente secundária a sepse de celulite na extremidade inferior direita e uma ITU por klebseilla. PLANO: 1. ID: A paciente teve bacteremia por estreptococos do grupo A provavelmente devido a celulite. Ela foi tratada empiricamente com vancomicina por 6 semanas. O dia um foi 22/11/06. O vancomicina está sendo ajustada bimestralmente porque a paciente está requerendo hemodiálise e tem diminuição da produção de urina. O ecocardiograma não demonstrou vegetações. O segundo ecocardiograma estava pendente em 27/10/07 no momento desta ditadura para descartar qualquer tipo de vegetação. Ela tinha algumas lesões em seus dedos do pé que pareciam Úlceras de Janeway. A ITU por klebsiella foi tratada com levofloxacino. 2. Renal: A paciente está com insuficiência renal aguda oligúrica em insuficiência renal crônica, com questionamento se é resultado de sepse e vasodilatação e hipotensão versus uma ATN verdadeira. Ela tem necessitado de hemodiálise. A última hemodiálise foi em 27/10/07. A produção de urina está melhorando. A paciente pode ter um cateter túnel permanente colocado, dependendo da recuperação da produção de urina. Usaremos Lasix se necessário para controlar o volume. 3. Cardiovascular: A paciente teve isquemia por demanda com troponina máxima de 0,87 com séptico. Seu LDL era de 63 e uma estatina foi iniciada. Ela continuará tomando aspirina e betabloqueador. Verificaremos seus lipídios em jejum quando a doença aguda for resolvida como paciente externa. No momento, ela tem pressão arterial normal ao ajustar o betabloqueador para cima e considerar adicionar um segundo medicamento para normalizar sua hipotensão. Estamos evitando inibidores da ECA por causa de sua insuficiência renal aguda. Ela tem FA e síndrome do seio doente. Ela está em uso de Coumadin como paciente externa, com marca-passo permanente. Estamos suspendendo o Coumadin por agora e isso pode ser retomado assim que a decisão for sobre o acesso à hemodiálise. Ela teve um aumento do INR na UTI, presumivelmente devido ao fígado de choque, uma vez que suas outras LFTs também estão aumentadas simultaneamente. 4. Endocrino: A paciente tem diabetes mellitus. Ela tem níveis elevados de glicose no sangue com a alimentação por tubo e uso de esteroides. Estamos ajustando sua insulina. Seu regime em casa é Lantus. A alimentação por tubo foi interrompida em 27/10/07 porque a paciente foi liberada para comer uma dieta para diabéticos e iremos ajustar sua insulina de acordo. Ela está hipotireoidiana e deve continuar tomando levo-tiroxina em casa. 5. Reumatologia: A paciente teve um surto de gota em sua mão esquerda, ombro direito e joelho direito. As punções foram consistentes com gota. As culturas não cresceram até o momento. Ela está em um taper de dexametasona, no entanto, diminuindo para 1 mg IV de 12 em 12h a partir de 09/07, de acordo com a reumatologia. 6. Hematologia: A paciente apresentou plaquetas persistentemente baixas e anemia. Inicialmente, houve preocupação com DIC. No entanto, o fibrinogênio estava normal. Houve preocupação com hemólise. Seu hematócrito e plaquetas diminuíram no momento em que os esteroides estavam sendo reduzidos e ela realmente precisou de duas unidades de hemácias empacotadas em 27/02/06. Sua dexametasona foi aumentada. Em resposta a isso, a heparina foi interrompida. Seu anticorpo fator plaquetário IV é negativo. Continuaremos acompanhando a contagem enquanto reduzimos os esteroides. É possível que as alterações no hematócrito e nas plaquetas sejam devido à sepse. 7. GI: Em 27/08/06, ela apresentou aumento das enzimas hepáticas. Continuamos acompanhando a tendência das enzimas e elas diminuíram no momento desta ditadura. 8. Neurologia: A paciente tem dor intensa devido à gota. Ela está em PCA de Dilaudid inicialmente, agora está com adesivo de fentanil em casa com bolus de Dilaudid conforme necessário. 9. Dermatologia: A paciente tem histórico de úlceras de estase venosa na extremidade inferior esquerda. Ela apresenta insuficiência arterial na extremidade inferior direita. Ela foi vista por um centro de tratamento de feridas. A cirurgia vascular solicitou ABIs e avaliação do fluxo vascular após a resolução da sua doença aguda. 10. Nutrição: A paciente iniciou alimentação por tubo devido à sedação prolongada. Ela precisará continuar melhorando seu estado nutricional. Avaliação de deglutição e fala com planejamento em 27/10/07. Ela foi autorizada a fazer dieta com alimentos sólidos. 11. Profilaxia: A paciente precisará de profilaxia para TVP quando o INR atingir 1,5. Ela está em uso de inibidor de bomba de prótons (PPI) enquanto está em uso de esteroides. DISPOSIÇÃO: Reabilitação. Ela tem um cateter subclávio direito que deve ser removido antes da alta e uma decisão sobre o cateter de hemodiálise deve ser tomada. Seu procurador de assistência médica é sua filha, Trotochaud, cujo número de celular é 739-718-1160 e o número residencial é 110-533-7410. CÓDIGO: NR ou DNI. PLANO DE CUIDADOS CONTINUADOS: 1. Acompanhar os resultados de todas as culturas até a resolução. 2. Remover o cateter subclávio direito. 3. Tomar decisão sobre a necessidade de diálise intermitente e, se necessário, por qual acesso. 4. Retomar o Coumadin assim que esse acesso for colocado ou assim que todas as linhas forem removidas. 5. Reavaliar os lipídios como paciente externa. 6. ABIs para ambas as pernas e acompanhamento de úlcera crônica não cicatrizante.\n"
     ]
    }
   ],
   "source": [
    "# Find the index of the second longest tokenized text\n",
    "# 'tokenized_text_lengths' is a list of lengths of tokenized texts\n",
    "# 'sorted(tokenized_text_lengths)[-2]' gets the second largest length\n",
    "# 'index()' finds the index of this length in the original list\n",
    "id_second_biggest_text = tokenized_text_lengths.index(sorted(tokenized_text_lengths)[-2])\n",
    "\n",
    "# Retrieve the cleaned text corresponding to the second longest tokenized text\n",
    "# 'df.iloc[id_second_biggest_text]' gets the row at the specified index\n",
    "# '.cleaned_text' accesses the 'cleaned_text' column of that row\n",
    "huge_text = df.iloc[id_second_biggest_text].cleaned_text\n",
    "\n",
    "# Display the retrieved text\n",
    "print(huge_text)"
   ]
  },
  {
   "cell_type": "code",
   "execution_count": 62,
   "metadata": {},
   "outputs": [
    {
     "data": {
      "text/plain": [
       "(19077, 2931)"
      ]
     },
     "execution_count": 62,
     "metadata": {},
     "output_type": "execute_result"
    }
   ],
   "source": [
    "len(huge_text), len(huge_text.split())"
   ]
  },
  {
   "cell_type": "code",
   "execution_count": 63,
   "metadata": {},
   "outputs": [
    {
     "data": {
      "text/plain": [
       "512"
      ]
     },
     "execution_count": 63,
     "metadata": {},
     "output_type": "execute_result"
    }
   ],
   "source": [
    "len(tokenizer(huge_text, truncation=True)['input_ids'])"
   ]
  },
  {
   "cell_type": "code",
   "execution_count": 64,
   "metadata": {},
   "outputs": [
    {
     "data": {
      "text/plain": [
       "5387"
      ]
     },
     "execution_count": 64,
     "metadata": {},
     "output_type": "execute_result"
    }
   ],
   "source": [
    "len(tokenizer(huge_text, truncation=False)['input_ids'])"
   ]
  },
  {
   "cell_type": "code",
   "execution_count": 65,
   "metadata": {},
   "outputs": [
    {
     "data": {
      "text/html": [
       "<span class=\"tex2jax_ignore\"><div class=\"entities\" style=\"line-height: 2.5; direction: ltr\">Data de \n",
       "<mark class=\"entity\" style=\"background: #A52A2A; padding: 0.45em 0.6em; margin: 0 0.25em; line-height: 1; border-radius: 0.35em;\">\n",
       "    Desligamento\n",
       "    <span style=\"font-size: 0.8em; font-weight: bold; line-height: 1; border-radius: 0.35em; vertical-align: middle; margin-left: 0.5rem\">Ocorrencia</span>\n",
       "</mark>\n",
       ": MÉDICO RESPONSÁVEL: JOSILOWSKY, ODELL MD MÉDICO DE CUIDADOS PRIMÁRIOS: Dr. Freddie Fluegge, 216-754-4187 PRINCIPAL QUEIXA: \n",
       "<mark class=\"entity\" style=\"background: #FF0000; padding: 0.45em 0.6em; margin: 0 0.25em; line-height: 1; border-radius: 0.35em;\">\n",
       "    Sepse\n",
       "    <span style=\"font-size: 0.8em; font-weight: bold; line-height: 1; border-radius: 0.35em; vertical-align: middle; margin-left: 0.5rem\">Problema</span>\n",
       "</mark>\n",
       "\n",
       "<mark class=\"entity\" style=\"background: #008080; padding: 0.45em 0.6em; margin: 0 0.25em; line-height: 1; border-radius: 0.35em;\">\n",
       "    .\n",
       "    <span style=\"font-size: 0.8em; font-weight: bold; line-height: 1; border-radius: 0.35em; vertical-align: middle; margin-left: 0.5rem\"><pad></span>\n",
       "</mark>\n",
       " HISTÓRICO DA DOENÇA ATUAL: A Sra. Wiest é uma mulher de 83 anos com vários problemas médicos, incluindo \n",
       "<mark class=\"entity\" style=\"background: #FF0000; padding: 0.45em 0.6em; margin: 0 0.25em; line-height: 1; border-radius: 0.35em;\">\n",
       "    doença arterial coronariana pós\n",
       "    <span style=\"font-size: 0.8em; font-weight: bold; line-height: 1; border-radius: 0.35em; vertical-align: middle; margin-left: 0.5rem\">Problema</span>\n",
       "</mark>\n",
       "-\n",
       "<mark class=\"entity\" style=\"background: #FF0000; padding: 0.45em 0.6em; margin: 0 0.25em; line-height: 1; border-radius: 0.35em;\">\n",
       "    CABG\n",
       "    <span style=\"font-size: 0.8em; font-weight: bold; line-height: 1; border-radius: 0.35em; vertical-align: middle; margin-left: 0.5rem\">Problema</span>\n",
       "</mark>\n",
       ", \n",
       "<mark class=\"entity\" style=\"background: #FF0000; padding: 0.45em 0.6em; margin: 0 0.25em; line-height: 1; border-radius: 0.35em;\">\n",
       "    diabetes mellitus\n",
       "    <span style=\"font-size: 0.8em; font-weight: bold; line-height: 1; border-radius: 0.35em; vertical-align: middle; margin-left: 0.5rem\">Problema</span>\n",
       "</mark>\n",
       ", \n",
       "<mark class=\"entity\" style=\"background: #FF0000; padding: 0.45em 0.6em; margin: 0 0.25em; line-height: 1; border-radius: 0.35em;\">\n",
       "    ICC\n",
       "    <span style=\"font-size: 0.8em; font-weight: bold; line-height: 1; border-radius: 0.35em; vertical-align: middle; margin-left: 0.5rem\">Problema</span>\n",
       "</mark>\n",
       " (FE 55%) e \n",
       "<mark class=\"entity\" style=\"background: #FF0000; padding: 0.45em 0.6em; margin: 0 0.25em; line-height: 1; border-radius: 0.35em;\">\n",
       "    fibrilação atrial\n",
       "    <span style=\"font-size: 0.8em; font-weight: bold; line-height: 1; border-radius: 0.35em; vertical-align: middle; margin-left: 0.5rem\">Problema</span>\n",
       "</mark>\n",
       ", que apresentou \n",
       "<mark class=\"entity\" style=\"background: #FF0000; padding: 0.45em 0.6em; margin: 0 0.25em; line-height: 1; border-radius: 0.35em;\">\n",
       "    hipotensão\n",
       "    <span style=\"font-size: 0.8em; font-weight: bold; line-height: 1; border-radius: 0.35em; vertical-align: middle; margin-left: 0.5rem\">Problema</span>\n",
       "</mark>\n",
       ", provavelmente secundária a \n",
       "<mark class=\"entity\" style=\"background: #FF0000; padding: 0.45em 0.6em; margin: 0 0.25em; line-height: 1; border-radius: 0.35em;\">\n",
       "    sepse de celulite\n",
       "    <span style=\"font-size: 0.8em; font-weight: bold; line-height: 1; border-radius: 0.35em; vertical-align: middle; margin-left: 0.5rem\">Problema</span>\n",
       "</mark>\n",
       " na extremidade \n",
       "<mark class=\"entity\" style=\"background: #FF0000; padding: 0.45em 0.6em; margin: 0 0.25em; line-height: 1; border-radius: 0.35em;\">\n",
       "    inferior\n",
       "    <span style=\"font-size: 0.8em; font-weight: bold; line-height: 1; border-radius: 0.35em; vertical-align: middle; margin-left: 0.5rem\">Problema</span>\n",
       "</mark>\n",
       " direita\n",
       "<mark class=\"entity\" style=\"background: #008080; padding: 0.45em 0.6em; margin: 0 0.25em; line-height: 1; border-radius: 0.35em;\">\n",
       "    .\n",
       "    <span style=\"font-size: 0.8em; font-weight: bold; line-height: 1; border-radius: 0.35em; vertical-align: middle; margin-left: 0.5rem\"><pad></span>\n",
       "</mark>\n",
       " Ela desenvolveu \n",
       "<mark class=\"entity\" style=\"background: #FF0000; padding: 0.45em 0.6em; margin: 0 0.25em; line-height: 1; border-radius: 0.35em;\">\n",
       "    celulite\n",
       "    <span style=\"font-size: 0.8em; font-weight: bold; line-height: 1; border-radius: 0.35em; vertical-align: middle; margin-left: 0.5rem\">Problema</span>\n",
       "</mark>\n",
       " na extremidade \n",
       "<mark class=\"entity\" style=\"background: #FF0000; padding: 0.45em 0.6em; margin: 0 0.25em; line-height: 1; border-radius: 0.35em;\">\n",
       "    inferior\n",
       "    <span style=\"font-size: 0.8em; font-weight: bold; line-height: 1; border-radius: 0.35em; vertical-align: middle; margin-left: 0.5rem\">Problema</span>\n",
       "</mark>\n",
       " direita há um mês\n",
       "<mark class=\"entity\" style=\"background: #008080; padding: 0.45em 0.6em; margin: 0 0.25em; line-height: 1; border-radius: 0.35em;\">\n",
       "    .\n",
       "    <span style=\"font-size: 0.8em; font-weight: bold; line-height: 1; border-radius: 0.35em; vertical-align: middle; margin-left: 0.5rem\"><pad></span>\n",
       "</mark>\n",
       " Dois dias antes da admissão, a paciente desenvolveu \n",
       "<mark class=\"entity\" style=\"background: #FF0000; padding: 0.45em 0.6em; margin: 0 0.25em; line-height: 1; border-radius: 0.35em;\">\n",
       "    piora\n",
       "    <span style=\"font-size: 0.8em; font-weight: bold; line-height: 1; border-radius: 0.35em; vertical-align: middle; margin-left: 0.5rem\">Problema</span>\n",
       "</mark>\n",
       " de \n",
       "<mark class=\"entity\" style=\"background: #FF0000; padding: 0.45em 0.6em; margin: 0 0.25em; line-height: 1; border-radius: 0.35em;\">\n",
       "    eritema\n",
       "    <span style=\"font-size: 0.8em; font-weight: bold; line-height: 1; border-radius: 0.35em; vertical-align: middle; margin-left: 0.5rem\">Problema</span>\n",
       "</mark>\n",
       ", \n",
       "<mark class=\"entity\" style=\"background: #FF0000; padding: 0.45em 0.6em; margin: 0 0.25em; line-height: 1; border-radius: 0.35em;\">\n",
       "    edema\n",
       "    <span style=\"font-size: 0.8em; font-weight: bold; line-height: 1; border-radius: 0.35em; vertical-align: middle; margin-left: 0.5rem\">Problema</span>\n",
       "</mark>\n",
       " e \n",
       "<mark class=\"entity\" style=\"background: #FF0000; padding: 0.45em 0.6em; margin: 0 0.25em; line-height: 1; border-radius: 0.35em;\">\n",
       "    sensibilidade\n",
       "    <span style=\"font-size: 0.8em; font-weight: bold; line-height: 1; border-radius: 0.35em; vertical-align: middle; margin-left: 0.5rem\">Problema</span>\n",
       "</mark>\n",
       " junto com \n",
       "<mark class=\"entity\" style=\"background: #FF0000; padding: 0.45em 0.6em; margin: 0 0.25em; line-height: 1; border-radius: 0.35em;\">\n",
       "    calafrios\n",
       "    <span style=\"font-size: 0.8em; font-weight: bold; line-height: 1; border-radius: 0.35em; vertical-align: middle; margin-left: 0.5rem\">Problema</span>\n",
       "</mark>\n",
       " e \n",
       "<mark class=\"entity\" style=\"background: #FF0000; padding: 0.45em 0.6em; margin: 0 0.25em; line-height: 1; border-radius: 0.35em;\">\n",
       "    suores\n",
       "    <span style=\"font-size: 0.8em; font-weight: bold; line-height: 1; border-radius: 0.35em; vertical-align: middle; margin-left: 0.5rem\">Problema</span>\n",
       "</mark>\n",
       "\n",
       "<mark class=\"entity\" style=\"background: #008080; padding: 0.45em 0.6em; margin: 0 0.25em; line-height: 1; border-radius: 0.35em;\">\n",
       "    .\n",
       "    <span style=\"font-size: 0.8em; font-weight: bold; line-height: 1; border-radius: 0.35em; vertical-align: middle; margin-left: 0.5rem\"><pad></span>\n",
       "</mark>\n",
       " Ela foi levada para a sala de \n",
       "<mark class=\"entity\" style=\"background: #00FFFF; padding: 0.45em 0.6em; margin: 0 0.25em; line-height: 1; border-radius: 0.35em;\">\n",
       "    emergência\n",
       "    <span style=\"font-size: 0.8em; font-weight: bold; line-height: 1; border-radius: 0.35em; vertical-align: middle; margin-left: 0.5rem\">DepartamentoClinico</span>\n",
       "</mark>\n",
       " em 07/08/2006 e apresentava \n",
       "<mark class=\"entity\" style=\"background: #FF0000; padding: 0.45em 0.6em; margin: 0 0.25em; line-height: 1; border-radius: 0.35em;\">\n",
       "    hipotensão\n",
       "    <span style=\"font-size: 0.8em; font-weight: bold; line-height: 1; border-radius: 0.35em; vertical-align: middle; margin-left: 0.5rem\">Problema</span>\n",
       "</mark>\n",
       " com pressão arterial sistólica na faixa dos 80. Ela recebeu líquidos intravenosos e iniciou \n",
       "<mark class=\"entity\" style=\"background: #DC143C; padding: 0.45em 0.6em; margin: 0 0.25em; line-height: 1; border-radius: 0.35em;\">\n",
       "    vancomicina\n",
       "    <span style=\"font-size: 0.8em; font-weight: bold; line-height: 1; border-radius: 0.35em; vertical-align: middle; margin-left: 0.5rem\">Tratamento</span>\n",
       "</mark>\n",
       ", \n",
       "<mark class=\"entity\" style=\"background: #DC143C; padding: 0.45em 0.6em; margin: 0 0.25em; line-height: 1; border-radius: 0.35em;\">\n",
       "    aztreonam\n",
       "    <span style=\"font-size: 0.8em; font-weight: bold; line-height: 1; border-radius: 0.35em; vertical-align: middle; margin-left: 0.5rem\">Tratamento</span>\n",
       "</mark>\n",
       " e \n",
       "<mark class=\"entity\" style=\"background: #DC143C; padding: 0.45em 0.6em; margin: 0 0.25em; line-height: 1; border-radius: 0.35em;\">\n",
       "    clindamicina\n",
       "    <span style=\"font-size: 0.8em; font-weight: bold; line-height: 1; border-radius: 0.35em; vertical-align: middle; margin-left: 0.5rem\">Tratamento</span>\n",
       "</mark>\n",
       ", mas permaneceu hipotensa. Ela começou a receber \n",
       "<mark class=\"entity\" style=\"background: #DC143C; padding: 0.45em 0.6em; margin: 0 0.25em; line-height: 1; border-radius: 0.35em;\">\n",
       "    dopamina\n",
       "    <span style=\"font-size: 0.8em; font-weight: bold; line-height: 1; border-radius: 0.35em; vertical-align: middle; margin-left: 0.5rem\">Tratamento</span>\n",
       "</mark>\n",
       ", \n",
       "<mark class=\"entity\" style=\"background: #DC143C; padding: 0.45em 0.6em; margin: 0 0.25em; line-height: 1; border-radius: 0.35em;\">\n",
       "    Levophed\n",
       "    <span style=\"font-size: 0.8em; font-weight: bold; line-height: 1; border-radius: 0.35em; vertical-align: middle; margin-left: 0.5rem\">Tratamento</span>\n",
       "</mark>\n",
       " e \n",
       "<mark class=\"entity\" style=\"background: #DC143C; padding: 0.45em 0.6em; margin: 0 0.25em; line-height: 1; border-radius: 0.35em;\">\n",
       "    vasopressina\n",
       "    <span style=\"font-size: 0.8em; font-weight: bold; line-height: 1; border-radius: 0.35em; vertical-align: middle; margin-left: 0.5rem\">Tratamento</span>\n",
       "</mark>\n",
       ", bem como \n",
       "<mark class=\"entity\" style=\"background: #DC143C; padding: 0.45em 0.6em; margin: 0 0.25em; line-height: 1; border-radius: 0.35em;\">\n",
       "    Decadron\n",
       "    <span style=\"font-size: 0.8em; font-weight: bold; line-height: 1; border-radius: 0.35em; vertical-align: middle; margin-left: 0.5rem\">Tratamento</span>\n",
       "</mark>\n",
       "\n",
       "<mark class=\"entity\" style=\"background: #008080; padding: 0.45em 0.6em; margin: 0 0.25em; line-height: 1; border-radius: 0.35em;\">\n",
       "    .\n",
       "    <span style=\"font-size: 0.8em; font-weight: bold; line-height: 1; border-radius: 0.35em; vertical-align: middle; margin-left: 0.5rem\"><pad></span>\n",
       "</mark>\n",
       " A \n",
       "<mark class=\"entity\" style=\"background: #DC143C; padding: 0.45em 0.6em; margin: 0 0.25em; line-height: 1; border-radius: 0.35em;\">\n",
       "    cirurgia\n",
       "    <span style=\"font-size: 0.8em; font-weight: bold; line-height: 1; border-radius: 0.35em; vertical-align: middle; margin-left: 0.5rem\">Tratamento</span>\n",
       "</mark>\n",
       " foi consultada para realizar uma \n",
       "<mark class=\"entity\" style=\"background: #800080; padding: 0.45em 0.6em; margin: 0 0.25em; line-height: 1; border-radius: 0.35em;\">\n",
       "    biópsia\n",
       "    <span style=\"font-size: 0.8em; font-weight: bold; line-height: 1; border-radius: 0.35em; vertical-align: middle; margin-left: 0.5rem\">Teste</span>\n",
       "</mark>\n",
       " para descartar a possibilidade de \n",
       "<mark class=\"entity\" style=\"background: #FF0000; padding: 0.45em 0.6em; margin: 0 0.25em; line-height: 1; border-radius: 0.35em;\">\n",
       "    fascite necrosante\n",
       "    <span style=\"font-size: 0.8em; font-weight: bold; line-height: 1; border-radius: 0.35em; vertical-align: middle; margin-left: 0.5rem\">Problema</span>\n",
       "</mark>\n",
       "\n",
       "<mark class=\"entity\" style=\"background: #DC143C; padding: 0.45em 0.6em; margin: 0 0.25em; line-height: 1; border-radius: 0.35em;\">\n",
       "    .\n",
       "    <span style=\"font-size: 0.8em; font-weight: bold; line-height: 1; border-radius: 0.35em; vertical-align: middle; margin-left: 0.5rem\">Tratamento</span>\n",
       "</mark>\n",
       " Um \n",
       "<mark class=\"entity\" style=\"background: #800080; padding: 0.45em 0.6em; margin: 0 0.25em; line-height: 1; border-radius: 0.35em;\">\n",
       "    TC\n",
       "    <span style=\"font-size: 0.8em; font-weight: bold; line-height: 1; border-radius: 0.35em; vertical-align: middle; margin-left: 0.5rem\">Teste</span>\n",
       "</mark>\n",
       " da extremidade inferior foi feito na sala de \n",
       "<mark class=\"entity\" style=\"background: #00FFFF; padding: 0.45em 0.6em; margin: 0 0.25em; line-height: 1; border-radius: 0.35em;\">\n",
       "    emergência\n",
       "    <span style=\"font-size: 0.8em; font-weight: bold; line-height: 1; border-radius: 0.35em; vertical-align: middle; margin-left: 0.5rem\">DepartamentoClinico</span>\n",
       "</mark>\n",
       " e ela foi \n",
       "<mark class=\"entity\" style=\"background: #A52A2A; padding: 0.45em 0.6em; margin: 0 0.25em; line-height: 1; border-radius: 0.35em;\">\n",
       "    admitida\n",
       "    <span style=\"font-size: 0.8em; font-weight: bold; line-height: 1; border-radius: 0.35em; vertical-align: middle; margin-left: 0.5rem\">Ocorrencia</span>\n",
       "</mark>\n",
       " na \n",
       "<mark class=\"entity\" style=\"background: #00FFFF; padding: 0.45em 0.6em; margin: 0 0.25em; line-height: 1; border-radius: 0.35em;\">\n",
       "    UTI\n",
       "    <span style=\"font-size: 0.8em; font-weight: bold; line-height: 1; border-radius: 0.35em; vertical-align: middle; margin-left: 0.5rem\">DepartamentoClinico</span>\n",
       "</mark>\n",
       "\n",
       "<mark class=\"entity\" style=\"background: #008080; padding: 0.45em 0.6em; margin: 0 0.25em; line-height: 1; border-radius: 0.35em;\">\n",
       "    .\n",
       "    <span style=\"font-size: 0.8em; font-weight: bold; line-height: 1; border-radius: 0.35em; vertical-align: middle; margin-left: 0.5rem\"><pad></span>\n",
       "</mark>\n",
       " As culturas sanguíneas da paciente cresciam \n",
       "<mark class=\"entity\" style=\"background: #FF0000; padding: 0.45em 0.6em; margin: 0 0.25em; line-height: 1; border-radius: 0.35em;\">\n",
       "    estreptococos\n",
       "    <span style=\"font-size: 0.8em; font-weight: bold; line-height: 1; border-radius: 0.35em; vertical-align: middle; margin-left: 0.5rem\">Problema</span>\n",
       "</mark>\n",
       " do \n",
       "<mark class=\"entity\" style=\"background: #FF0000; padding: 0.45em 0.6em; margin: 0 0.25em; line-height: 1; border-radius: 0.35em;\">\n",
       "    grupo A\n",
       "    <span style=\"font-size: 0.8em; font-weight: bold; line-height: 1; border-radius: 0.35em; vertical-align: middle; margin-left: 0.5rem\">Problema</span>\n",
       "</mark>\n",
       ". A cultura da ferida cresceu \n",
       "<mark class=\"entity\" style=\"background: #FF0000; padding: 0.45em 0.6em; margin: 0 0.25em; line-height: 1; border-radius: 0.35em;\">\n",
       "    estreptococos\n",
       "    <span style=\"font-size: 0.8em; font-weight: bold; line-height: 1; border-radius: 0.35em; vertical-align: middle; margin-left: 0.5rem\">Problema</span>\n",
       "</mark>\n",
       " do \n",
       "<mark class=\"entity\" style=\"background: #FF0000; padding: 0.45em 0.6em; margin: 0 0.25em; line-height: 1; border-radius: 0.35em;\">\n",
       "    grupo A\n",
       "    <span style=\"font-size: 0.8em; font-weight: bold; line-height: 1; border-radius: 0.35em; vertical-align: middle; margin-left: 0.5rem\">Problema</span>\n",
       "</mark>\n",
       " e \n",
       "<mark class=\"entity\" style=\"background: #FF0000; padding: 0.45em 0.6em; margin: 0 0.25em; line-height: 1; border-radius: 0.35em;\">\n",
       "    E\n",
       "    <span style=\"font-size: 0.8em; font-weight: bold; line-height: 1; border-radius: 0.35em; vertical-align: middle; margin-left: 0.5rem\">Problema</span>\n",
       "</mark>\n",
       ".coli\n",
       "<mark class=\"entity\" style=\"background: #008080; padding: 0.45em 0.6em; margin: 0 0.25em; line-height: 1; border-radius: 0.35em;\">\n",
       "    .\n",
       "    <span style=\"font-size: 0.8em; font-weight: bold; line-height: 1; border-radius: 0.35em; vertical-align: middle; margin-left: 0.5rem\"><pad></span>\n",
       "</mark>\n",
       " A paciente também foi diagnosticada com uma \n",
       "<mark class=\"entity\" style=\"background: #FF0000; padding: 0.45em 0.6em; margin: 0 0.25em; line-height: 1; border-radius: 0.35em;\">\n",
       "    infecção\n",
       "    <span style=\"font-size: 0.8em; font-weight: bold; line-height: 1; border-radius: 0.35em; vertical-align: middle; margin-left: 0.5rem\">Problema</span>\n",
       "</mark>\n",
       " do \n",
       "<mark class=\"entity\" style=\"background: #FF0000; padding: 0.45em 0.6em; margin: 0 0.25em; line-height: 1; border-radius: 0.35em;\">\n",
       "    trato\n",
       "    <span style=\"font-size: 0.8em; font-weight: bold; line-height: 1; border-radius: 0.35em; vertical-align: middle; margin-left: 0.5rem\">Problema</span>\n",
       "</mark>\n",
       " urinário por \n",
       "<mark class=\"entity\" style=\"background: #FF0000; padding: 0.45em 0.6em; margin: 0 0.25em; line-height: 1; border-radius: 0.35em;\">\n",
       "    klebseilla\n",
       "    <span style=\"font-size: 0.8em; font-weight: bold; line-height: 1; border-radius: 0.35em; vertical-align: middle; margin-left: 0.5rem\">Problema</span>\n",
       "</mark>\n",
       ". Seus \n",
       "<mark class=\"entity\" style=\"background: #DC143C; padding: 0.45em 0.6em; margin: 0 0.25em; line-height: 1; border-radius: 0.35em;\">\n",
       "    antibióticos\n",
       "    <span style=\"font-size: 0.8em; font-weight: bold; line-height: 1; border-radius: 0.35em; vertical-align: middle; margin-left: 0.5rem\">Tratamento</span>\n",
       "</mark>\n",
       " foram alterados para \n",
       "<mark class=\"entity\" style=\"background: #DC143C; padding: 0.45em 0.6em; margin: 0 0.25em; line-height: 1; border-radius: 0.35em;\">\n",
       "    vancomicina\n",
       "    <span style=\"font-size: 0.8em; font-weight: bold; line-height: 1; border-radius: 0.35em; vertical-align: middle; margin-left: 0.5rem\">Tratamento</span>\n",
       "</mark>\n",
       ", \n",
       "<mark class=\"entity\" style=\"background: #DC143C; padding: 0.45em 0.6em; margin: 0 0.25em; line-height: 1; border-radius: 0.35em;\">\n",
       "    levofloxacino\n",
       "    <span style=\"font-size: 0.8em; font-weight: bold; line-height: 1; border-radius: 0.35em; vertical-align: middle; margin-left: 0.5rem\">Tratamento</span>\n",
       "</mark>\n",
       " e \n",
       "<mark class=\"entity\" style=\"background: #DC143C; padding: 0.45em 0.6em; margin: 0 0.25em; line-height: 1; border-radius: 0.35em;\">\n",
       "    Flagyl\n",
       "    <span style=\"font-size: 0.8em; font-weight: bold; line-height: 1; border-radius: 0.35em; vertical-align: middle; margin-left: 0.5rem\">Tratamento</span>\n",
       "</mark>\n",
       "\n",
       "<mark class=\"entity\" style=\"background: #008080; padding: 0.45em 0.6em; margin: 0 0.25em; line-height: 1; border-radius: 0.35em;\">\n",
       "    .\n",
       "    <span style=\"font-size: 0.8em; font-weight: bold; line-height: 1; border-radius: 0.35em; vertical-align: middle; margin-left: 0.5rem\"><pad></span>\n",
       "</mark>\n",
       " Sua pressão arterial melhorou e no dia da \n",
       "<mark class=\"entity\" style=\"background: #A52A2A; padding: 0.45em 0.6em; margin: 0 0.25em; line-height: 1; border-radius: 0.35em;\">\n",
       "    transferência\n",
       "    <span style=\"font-size: 0.8em; font-weight: bold; line-height: 1; border-radius: 0.35em; vertical-align: middle; margin-left: 0.5rem\">Ocorrencia</span>\n",
       "</mark>\n",
       " para a \n",
       "<mark class=\"entity\" style=\"background: #00FFFF; padding: 0.45em 0.6em; margin: 0 0.25em; line-height: 1; border-radius: 0.35em;\">\n",
       "    enfermaria\n",
       "    <span style=\"font-size: 0.8em; font-weight: bold; line-height: 1; border-radius: 0.35em; vertical-align: middle; margin-left: 0.5rem\">DepartamentoClinico</span>\n",
       "</mark>\n",
       " em 09/03/2006, ela foi notada como oligúrica, presumivelmente devido à \n",
       "<mark class=\"entity\" style=\"background: #FF0000; padding: 0.45em 0.6em; margin: 0 0.25em; line-height: 1; border-radius: 0.35em;\">\n",
       "    insuficiência\n",
       "    <span style=\"font-size: 0.8em; font-weight: bold; line-height: 1; border-radius: 0.35em; vertical-align: middle; margin-left: 0.5rem\">Problema</span>\n",
       "</mark>\n",
       " renal \n",
       "<mark class=\"entity\" style=\"background: #FF0000; padding: 0.45em 0.6em; margin: 0 0.25em; line-height: 1; border-radius: 0.35em;\">\n",
       "    aguda secundária\n",
       "    <span style=\"font-size: 0.8em; font-weight: bold; line-height: 1; border-radius: 0.35em; vertical-align: middle; margin-left: 0.5rem\">Problema</span>\n",
       "</mark>\n",
       " à \n",
       "<mark class=\"entity\" style=\"background: #FF0000; padding: 0.45em 0.6em; margin: 0 0.25em; line-height: 1; border-radius: 0.35em;\">\n",
       "    hipotensão\n",
       "    <span style=\"font-size: 0.8em; font-weight: bold; line-height: 1; border-radius: 0.35em; vertical-align: middle; margin-left: 0.5rem\">Problema</span>\n",
       "</mark>\n",
       "\n",
       "<mark class=\"entity\" style=\"background: #008080; padding: 0.45em 0.6em; margin: 0 0.25em; line-height: 1; border-radius: 0.35em;\">\n",
       "    .\n",
       "    <span style=\"font-size: 0.8em; font-weight: bold; line-height: 1; border-radius: 0.35em; vertical-align: middle; margin-left: 0.5rem\"><pad></span>\n",
       "</mark>\n",
       " Sua produção de urina continuou a diminuir e ela desenvolveu uma \n",
       "<mark class=\"entity\" style=\"background: #FF0000; padding: 0.45em 0.6em; margin: 0 0.25em; line-height: 1; border-radius: 0.35em;\">\n",
       "    acidose\n",
       "    <span style=\"font-size: 0.8em; font-weight: bold; line-height: 1; border-radius: 0.35em; vertical-align: middle; margin-left: 0.5rem\">Problema</span>\n",
       "</mark>\n",
       " metabólica com \n",
       "<mark class=\"entity\" style=\"background: #DC143C; padding: 0.45em 0.6em; margin: 0 0.25em; line-height: 1; border-radius: 0.35em;\">\n",
       "    bicarbonato\n",
       "    <span style=\"font-size: 0.8em; font-weight: bold; line-height: 1; border-radius: 0.35em; vertical-align: middle; margin-left: 0.5rem\">Tratamento</span>\n",
       "</mark>\n",
       " em \n",
       "<mark class=\"entity\" style=\"background: #008080; padding: 0.45em 0.6em; margin: 0 0.25em; line-height: 1; border-radius: 0.35em;\">\n",
       "    10.\n",
       "    <span style=\"font-size: 0.8em; font-weight: bold; line-height: 1; border-radius: 0.35em; vertical-align: middle; margin-left: 0.5rem\"><pad></span>\n",
       "</mark>\n",
       " Seu ácido lático naquele momento era de 4.4. Seu gasometria arterial foi: 7. 09/23/98 e ela foi transferida de volta para a UTI. Do ponto de vista renal, a IRA pós-estreptocócica glomerulonefrite seria menos provável devido ao momento da infecção estreptocócica. Ela não apresentava hipertensão arterial ou cilindros leucocitários. O exame de urina mostrou hematúria positiva. Ela tinha níveis baixos de complemento, então havia alguma suspeita de SHU após a infecção pelo estreptococo do grupo B, embora nenhum esquistócito tenha sido visto no esfregaço. A paciente estava anúrica na admissão à UTI e iniciou terapia de substituição renal. Sua produção de urina se recuperou e era superior a 800 mL diários enquanto na UTI. No entanto, no dia da transferência para a enfermaria em 30/04/2006, sua produção de urina começou a diminuir e ela começou a fazer diálise intermitente por um cateter LIJ tunelizado. A equipe renal acompanhou de perto e seus medicamentos foram ajustados de acordo com a função renal. A vancomicina foi ajustada com base nos níveis. Em termos de hipertensão, sua pressão arterial se normalizou e seu betabloqueador está sendo ajustado para cima. Do ponto de vista cardíaco, a troponina da paciente atingiu um pico de 0,87 no contexto de choque séptico. Ela foi avaliada pela cardiologia do MMMC e isso foi considerado consistente com isquemia por demanda. Ela realmente não apresentou sintomas cardíacos No momento, ela continuará tomando aspirina diariamente. Seu LDL era de 63 e uma estatina foi iniciada. Na verdade, será necessário fazer a verificação de lipídios em jejum uma vez que sua doença aguda tenha passado e seu LDL objetivo seja inferior a 70. A paciente tem histórico de FA em uso de Coumadin. Seu objetivo de INR é 2-3. Seu INR está diminuindo. Ela está sem Coumadin porque várias linhas precisaram ser retiradas, incluindo uma subclávia direita. O cateter de hemodiálise será removido, caso ela tenha melhor produção de urina ou um tipo de acesso mais permanente será colocado. Ela fará uso de heparina profilática trice por dia para profilaxia de TVP quando seu INR atingir 1,5. Do ponto de vista hematológico, a paciente inicialmente tinha trombocitopenia na admissão. Houve preocupação com DIC, devido ao aumento rápido da INR dela. No entanto, o fibrinogênio estava normal e a INR se estabilizou desde então. Ela permanece com trombocitopenia persistente, embora sua contagem de plaquetas esteja se recuperando. O anticorpo do fator plaquetário 4 foi negativo. Não houve um precipitante claro além da sepse. Ela tem uma anemia normocítica com queda acentuada do hematócrito desde a admissão e houve alguma preocupação com hemólise com o aumento da bilirrubina, haptoglobina baixa e múltiplas hemácias imaturas, mas não foram observados esquistócitos na contagem diferencial manual. Ela precisou de duas unidades de células vermelhas empacotadas nesta admissão. Seu hematócrito e plaquetas diminuíram em 27/02/2006 conforme os esteroides estavam sendo reduzidos. Seu Coombs direto foi negativo. A haptoglobina estava dentro dos limites normais. Medicamentos que causam a trombocitopenia dela, como Seroquel e heparina, foram interrompidos. Do ponto de vista pulmonar, ela está oxigenando e ventilando bem e não requer oxigênio suplementar. Ela começou a receber alimentação por sonda em 09/11/2006, com hiperglicemia acentuada e também esteroides para sua hipotensão contribuindo para a hiperglicemia. Na verdade, ela começou a receber um protocolo de insulina intravenosa na UTI para melhor controle e depois foi trocada para insulina NPH e insulina regular além de uma escala móvel de insulina regular com bom efeito. Sua medicação em casa era Lantus 25 unidades subcutâneas diariamente. Seu TSH estava dentro dos limites normais e ela continuará tomando levotiroxina. A paciente desenvolveu dor em seu quarto dedo esquerdo durante esta admissão e a articulação PIP foi puncionada em 27/02/06 por um reumatologista. A aparência do líquido é consistente com gota. Ela melhorou com esteroides. Seu ultrassom de ombro direito mostrou um pequeno derrame, que provavelmente não seria infeccioso de acordo com a radiologia. Ela começou a tomar Decadron 4 mg p.o. a cada 6h., e apenas apresenta dor residual leve. Do ponto de vista gastrointestinal, seus testes de função hepática aumentaram em 27/08/06 com ALT de 122, bilirrubina total de 8.7 e fosfatase alcalina de 196. Ela apresentava um aumento do INR (fora do Coumadin) consistente com lesão hepática e disfunção hepatocelular. Sua TC abdominal estava normal. A GI foi consultada. A etiologia não ficou clara e o diagnóstico diferencial era lesão hepática relacionada a drogas versus infecção ou fígado de choque, e menos provável, doença hepática gordurosa. As sorologias para hepatite foram negativas e o Tylenol foi suspenso desde 27/08/06. Flagyl e clindamicina foram suspensos em 09/11/07 e suas LFTs diminuíram. O AMA foi negativo. ASMA estava pendente na época desta ditadura. Do ponto de vista neurológico, a paciente inicialmente precisou de Dilaudid PCA para a dor em suas pernas. Agora, ela está confortável com um adesivo de fentanil com administração de bolus de Dilaudid. Seroquel foi iniciado para sedação, mas foi interrompido devido à trombocitopenia. Do ponto de vista dermatológico, ela teve úlceras de estase venosa na extremidade inferior esquerda. Ela tem uma úlcera de insuficiência arterial na extremidade inferior direita. Ela foi atendida por um centro de tratamento de lesões. A cirurgia vascular solicitou ABIs e avaliação do fluxo vascular após a resolução de sua doença aguda. Para nutrição, o paciente iniciou alimentação por sonda através de um tubo nasogástrico devido a sedação prolongada. Ela precisará continuar melhorando seu estado nutricional. Uma avaliação de deglutição foi realizada em 27/10/07 e ela foi autorizada a fazer dieta oral e de consistência branda. Em termos de acesso, ela tem um cateter de hemodiálise subclávio direito e um cateter de artéria radial esquerda que foi interrompido em 03/01/06. O direito subclávio será removido quando o INR estiver em 1,5 e o cateter de hemodiálise será removido ou substituído por um acesso mais permanente, dependendo da produção de urina. Para profilaxia, ela está tomando Nexium. Ela não está usando meias pneumáticas devido à celulite e a heparina foi suspensa devido à trombocitopenia, agora será reiniciada em 27/10/07 ou quando seu INR estiver em 1,5. HISTÓRICO MÉDICO ANTERIOR: Diabetes mellitus tipo II em uso de insulina, DAC pós-CABG (1998). A veia safena direita foi utilizada na cirurgia. Desde então, ela apresenta inchaço basal e edema na extremidade inferior direita, ICC com disfunção diastólica, FE de 55% em julho de 2004, peso seco é de 150 libras segundo a paciente. Fibrilação atrial em uso de Coumadin. Síndrome do seio doente, com implante de marca-passo permanente em outubro de 2006, complicado por hemotórax que exigiu toracoscopia. Insuficiência renal crônica com creatinina basal de 1,7, gota, osteoartrite, em uso de prótese total de joelho esquerdo em 1995, prótese total de joelho direito em 1990, hipotireoidismo, osteoporose e perda auditiva crônica. MEDICAMENTOS DOMICILIARES: Lantus 25 unidades subcutâneas uma vez ao dia pela manhã, NovoLog de acordo com escala móvel, aspirina 81 mg via oral diariamente, taper de prednisona (iniciada em 29/11/06) meia dose diária por duas semanas, depois meia dose em dias alternados por mais duas semanas, torsemida 20 mg 2-3 comprimidos via oral diariamente, dependendo do peso, metoprolol 12,5 mg via oral duas vezes ao dia. Coumadin? 1 mg via oral à noite, fentanil 25 mcg/h a cada 72 h., potássio, levo-tiroxina 75 mcg via oral diariamente. ALERGIAS: Penicilina causa erupções vermelhas. Esta é a única alergia que a paciente refere. Cefalosporina, reação desconhecida. Quinolonas, reação desconhecida, mas a paciente já tomou levofloxacino e ciprofloxacino anteriormente sem problemas. Sulfamida e Bactrim, reação desconhecida. Codeína, reação desconhecida. HISTÓRIA SOCIAL: A paciente mora com sua filha e cinco netos, com idades entre 7 e 20 anos. Ela é uma ex- trabalhadora do setor de saúde e organizadora sindical. No dia a dia, ela usa um andador. Ela nunca fumou tabaco. Ela raramente bebe álcool e nunca usou drogas. HISTÓRIA FAMILIAR: Pais: não sabe a história familiar de seus pais ou irmãos. Ela tem um filho com histórico de diabetes. EXAME FÍSICO DE ADMISSÃO: Temperatura 98,7, frequência cardíaca 98, pressão arterial 171/85, frequência respiratória 19-23, oxigenação 97%-98% com 2 L (essa é a admissão na UTI em 09/03/06). Em geral, ela estava gemendo de dor, ligeiramente sonolenta, mas facilmente despertável. Orientada com relação a pessoa, &quot;Hospital Memorial Beebe&quot; e &quot;Abril&quot;. Fala em frases completas. Ouvidos, pupilas ligeiramente sluggishly reativas bilateralmente. A orofaringe notável por mucosas secas. Pescoço estava flexível. Pulmões estavam limpos com diminuição dos sons respiratórios nas bases bilateralmente. O exame cardiovascular mostrou taquicardia, ritmo regular com S1 e S2 apagados. O abdome apresentava ruídos intestinais normais, não tendo distensão ou dor à palpação. Membros, dor ao movimentar os membros superiores. Ela tinha osteoartrite de base nos ombros, mais acentuada à direita. A extremidade inferior direita apresentava eritema, calor e edema 2+ com sensibilidade extrema a 1 cm abaixo do joelho. A lateral distal da extremidade inferior apresentava uma placa preta muito escura de 3 cm na área da biópsia. Ela tinha um pé direito frio com pulso pedioso dorsal 1+. Extremidade inferior esquerda apresentando edema 2+, pulso pedio dorsal 1+. Mão esquerda, quarto e quinto dedos MCP-PIP com eritema e calor. Neurologicamente, os pares cranianos II a XII estão geralmente intactos. Movendo todos os membros. Os exames de força total foram impedidos pela dor. Seu ECG mostrou estimulação ventricular. Raio-x de tórax em 07/08/06 mostrou cardiomegalia, um cateter no IJ direito (colocado no pronto-socorro), sem consolidação focal. Não há edema pulmonar evidente ou pneumotórax. TC da extremidade inferior direita mostrou celulite sem gás. Ecocardiograma em julho de 2004, FE de 55%, sem anormalidades regionais de movimento de parede. O VD estava dilatado com função normal. Ela tinha achatamento septal diastólico consistente com sobrecarga de volume do VD por aumento atrial, MR de leve a moderada, IAD de 17+. DADOS LABORATORIAIS: Notáveis ​para bicarbonato 21, Ureia 49, Criatina 1.6 (baseline de 1.7), glicose 204, magnésio 1.3, ácido lático estava em 6,5 e foi para 6,2, bilirrubina total estava em 1,5, AST 45. INR 1.4. Hematócrito de 43,2, plaquetas de 156.000, contagem de leucócitos de 9,8, neutrófilos 84%, bastonetes 14%, linfócitos 1%, monócitos 1%. Enzimas cardíacas eram positivas às 21h de 09/03/06 com troponina em 0,26. DADOS DE MICROBIOLOGIA: Cultura de sangue em 08/07/06 positiva para estreptococos do grupo A beta-hemolítico. Urina de 08/07/06, mais de 100.000 klebsiellas (pansensíveis). Culturas de sangue em 22/11/06 positivas para estreptococos do grupo A beta-hemolítico. Culturas sanguíneas em 09/03/06, sem crescimento. Fluido articular de 07/06 do joelho direito, sem crescimento, alguns polis, nenhum organismo visto no Gram. Culturas sanguíneas de 01/04/06, 12 e 06/11/06, todos sem crescimento até o momento desta ditadura. Cultura de fezes negativa para C.diff. Fluido do quarto dedo esquerdo negativo para organismos no Gram ou cultura em 27/02/06. Cultura de escarro em 14/09/07, 1+ flora oral suspeita. Raio-x de tórax em 14/09/07, opacificação difusa dentro do hemitórax inferior esquerdo devido à atelectasia, sem alteração desde 10/06/06. Biópsia fascial da extremidade inferior direita em 08/07/06, tecido fibroconectivo denso, sem inflamação aguda presente. IMPRESSÃO: A Sra. Holoman é uma mulher de 83 anos com vários problemas médicos que apresentou hipotensão, provavelmente secundária a sepse de celulite na extremidade inferior direita e uma ITU por klebseilla. PLANO: 1. ID: A paciente teve bacteremia por estreptococos do grupo A provavelmente devido a celulite. Ela foi tratada empiricamente com vancomicina por 6 semanas. O dia um foi 22/11/06. O vancomicina está sendo ajustada bimestralmente porque a paciente está requerendo hemodiálise e tem diminuição da produção de urina. O ecocardiograma não demonstrou vegetações. O segundo ecocardiograma estava pendente em 27/10/07 no momento desta ditadura para descartar qualquer tipo de vegetação. Ela tinha algumas lesões em seus dedos do pé que pareciam Úlceras de Janeway. A ITU por klebsiella foi tratada com levofloxacino. 2. Renal: A paciente está com insuficiência renal aguda oligúrica em insuficiência renal crônica, com questionamento se é resultado de sepse e vasodilatação e hipotensão versus uma ATN verdadeira. Ela tem necessitado de hemodiálise. A última hemodiálise foi em 27/10/07. A produção de urina está melhorando. A paciente pode ter um cateter túnel permanente colocado, dependendo da recuperação da produção de urina. Usaremos Lasix se necessário para controlar o volume. 3. Cardiovascular: A paciente teve isquemia por demanda com troponina máxima de 0,87 com séptico. Seu LDL era de 63 e uma estatina foi iniciada. Ela continuará tomando aspirina e betabloqueador. Verificaremos seus lipídios em jejum quando a doença aguda for resolvida como paciente externa. No momento, ela tem pressão arterial normal ao ajustar o betabloqueador para cima e considerar adicionar um segundo medicamento para normalizar sua hipotensão. Estamos evitando inibidores da ECA por causa de sua insuficiência renal aguda. Ela tem FA e síndrome do seio doente. Ela está em uso de Coumadin como paciente externa, com marca-passo permanente. Estamos suspendendo o Coumadin por agora e isso pode ser retomado assim que a decisão for sobre o acesso à hemodiálise. Ela teve um aumento do INR na UTI, presumivelmente devido ao fígado de choque, uma vez que suas outras LFTs também estão aumentadas simultaneamente. 4. Endocrino: A paciente tem diabetes mellitus. Ela tem níveis elevados de glicose no sangue com a alimentação por tubo e uso de esteroides. Estamos ajustando sua insulina. Seu regime em casa é Lantus. A alimentação por tubo foi interrompida em 27/10/07 porque a paciente foi liberada para comer uma dieta para diabéticos e iremos ajustar sua insulina de acordo. Ela está hipotireoidiana e deve continuar tomando levo-tiroxina em casa. 5. Reumatologia: A paciente teve um surto de gota em sua mão esquerda, ombro direito e joelho direito. As punções foram consistentes com gota. As culturas não cresceram até o momento. Ela está em um taper de dexametasona, no entanto, diminuindo para 1 mg IV de 12 em 12h a partir de 09/07, de acordo com a reumatologia. 6. Hematologia: A paciente apresentou plaquetas persistentemente baixas e anemia. Inicialmente, houve preocupação com DIC. No entanto, o fibrinogênio estava normal. Houve preocupação com hemólise. Seu hematócrito e plaquetas diminuíram no momento em que os esteroides estavam sendo reduzidos e ela realmente precisou de duas unidades de hemácias empacotadas em 27/02/06. Sua dexametasona foi aumentada. Em resposta a isso, a heparina foi interrompida. Seu anticorpo fator plaquetário IV é negativo. Continuaremos acompanhando a contagem enquanto reduzimos os esteroides. É possível que as alterações no hematócrito e nas plaquetas sejam devido à sepse. 7. GI: Em 27/08/06, ela apresentou aumento das enzimas hepáticas. Continuamos acompanhando a tendência das enzimas e elas diminuíram no momento desta ditadura. 8. Neurologia: A paciente tem dor intensa devido à gota. Ela está em PCA de Dilaudid inicialmente, agora está com adesivo de fentanil em casa com bolus de Dilaudid conforme necessário. 9. Dermatologia: A paciente tem histórico de úlceras de estase venosa na extremidade inferior esquerda. Ela apresenta insuficiência arterial na extremidade inferior direita. Ela foi vista por um centro de tratamento de feridas. A cirurgia vascular solicitou ABIs e avaliação do fluxo vascular após a resolução da sua doença aguda. 10. Nutrição: A paciente iniciou alimentação por tubo devido à sedação prolongada. Ela precisará continuar melhorando seu estado nutricional. Avaliação de deglutição e fala com planejamento em 27/10/07. Ela foi autorizada a fazer dieta com alimentos sólidos. 11. Profilaxia: A paciente precisará de profilaxia para TVP quando o INR atingir 1,5. Ela está em uso de inibidor de bomba de prótons (PPI) enquanto está em uso de esteroides. DISPOSIÇÃO: Reabilitação. Ela tem um cateter subclávio direito que deve ser removido antes da alta e uma decisão sobre o cateter de hemodiálise deve ser tomada. Seu procurador de assistência médica é sua filha, Trotochaud, cujo número de celular é 739-718-1160 e o número residencial é 110-533-7410. CÓDIGO: NR ou DNI. PLANO DE CUIDADOS CONTINUADOS: 1. Acompanhar os resultados de todas as culturas até a resolução. 2. Remover o cateter subclávio direito. 3. Tomar decisão sobre a necessidade de diálise intermitente e, se necessário, por qual acesso. 4. Retomar o Coumadin assim que esse acesso for colocado ou assim que todas as linhas forem removidas. 5. Reavaliar os lipídios como paciente externa. 6. ABIs para ambas as pernas e acompanhamento de úlcera crônica não cicatrizante.</div></span>"
      ],
      "text/plain": [
       "<IPython.core.display.HTML object>"
      ]
     },
     "metadata": {},
     "output_type": "display_data"
    }
   ],
   "source": [
    "# As you can see below, everything after the 512th token is ignored\n",
    "\n",
    "perform_inference_and_render_entities(nlp, huge_text)"
   ]
  },
  {
   "cell_type": "markdown",
   "metadata": {},
   "source": [
    "### Simple chunking\n",
    "\n",
    "Simple Chunking is a strategy that involves dividing or 'chunking' the text into numerous segments, each containing no more than 512 tokens. This allows larger bodies of text to be processed by the model incrementally, circumventing the token cap.\n",
    "An inherent problem with the Simple Chunking approach lies in its lack of context preservation between chunks. As the text is divided into separate blocks of 512 tokens, information or meaning that spans across these segments may get lost in the process.\n",
    "\n",
    "This absence of contextual continuity might affect the model's understanding and performance, especially when working with long texts where the meaningful connection between sentences or paragraphs is critical.\n",
    "\n",
    "Nevertheless, Simple Chunking serves as a practical starting point for handling large volumes of text data with HuggingFace Transformers. It lays the groundwork for other, more sophisticated techniques which seek to maintain context between chunks, thus resulting in enhanced performance when dealing with extensive text data.\n",
    "\n",
    "Let's see how to implement it"
   ]
  },
  {
   "cell_type": "code",
   "execution_count": 66,
   "metadata": {},
   "outputs": [],
   "source": [
    "from transformers import PreTrainedTokenizer\n",
    "from typing import List\n",
    "\n",
    "def simple_chunk_text_into_segments(text: str, chunk_size: int, tokenizer: PreTrainedTokenizer) -> List[str]:\n",
    "    \"\"\"\n",
    "    Chunk a large text into smaller segments using a tokenizer.\n",
    "\n",
    "    Args:\n",
    "        text (str): The text to be chunked.\n",
    "        chunk_size (int): The size of each chunk.\n",
    "        tokenizer (PreTrainedTokenizer): The tokenizer to use for chunking.\n",
    "\n",
    "    Returns:\n",
    "        List[str]: A list of text chunks.\n",
    "    \"\"\"\n",
    "    # Tokenize the text without truncation, special tokens, and with offset mapping\n",
    "    tokens = tokenizer(text, truncation=False, return_offsets_mapping=True, add_special_tokens=False)['input_ids'][1:-1]\n",
    "\n",
    "    # Initialize an empty list to store the chunks\n",
    "    text_chunks = []\n",
    "\n",
    "    # Iterate over the tokens in steps of chunk_size\n",
    "    for i in range(0, len(tokens), chunk_size):\n",
    "        # Decode the current chunk of tokens into text\n",
    "        decoded_chunk = tokenizer.decode(tokens[i:i+chunk_size])\n",
    "        # Append the decoded chunk to the list of chunks\n",
    "        text_chunks.append(decoded_chunk)\n",
    "\n",
    "    return text_chunks\n",
    "\n",
    "# Call the function with the huge text, chunk size, and tokenizer\n",
    "text_chunks = simple_chunk_text_into_segments(huge_text, 512, tokenizer)"
   ]
  },
  {
   "cell_type": "code",
   "execution_count": 67,
   "metadata": {},
   "outputs": [
    {
     "data": {
      "text/plain": [
       "11"
      ]
     },
     "execution_count": 67,
     "metadata": {},
     "output_type": "execute_result"
    }
   ],
   "source": [
    "len(text_chunks)"
   ]
  },
  {
   "cell_type": "code",
   "execution_count": 69,
   "metadata": {},
   "outputs": [
    {
     "name": "stdout",
     "output_type": "stream",
     "text": [
      "de desligamento : medico responsavel : josilowsky, odell md medico de cuidados primarios : dr. freddie fluegge, 216 - 754 - 4187 principal queixa : sepse. historico da doenca atual : a sra. wiest e uma mulher de 83 anos com varios problemas medicos, incluindo doenca arterial coronariana pos - cabg, diabetes mellitus, icc ( fe 55 % ) e fibrilacao atrial, que apresentou hipotensao, provavelmente secundaria a sepse de celulite na extremidade inferior direita. ela desenvolveu celulite na extremidade inferior direita ha um mes. dois dias antes da admissao, a paciente desenvolveu piora de eritema, edema e sensibilidade junto com calafrios e suores. ela foi levada para a sala de emergencia em 07 / 08 / 2006 e apresentava hipotensao com pressao arterial sistolica na faixa dos 80. ela recebeu liquidos intravenosos e iniciou vancomicina, aztreonam e clindamicina, mas permaneceu hipotensa. ela comecou a receber dopamina, levophed e vasopressina, bem como decadron. a cirurgia foi consultada para realizar uma biopsia para descartar a possibilidade de fascite necrosante. um tc da extremidade inferior foi feito na sala de emergencia e ela foi admitida na uti. as culturas sanguineas da paciente cresciam estreptococos do grupo a. a cultura da ferida cresceu estreptococos do grupo a e e. coli. a paciente tambem foi diagnosticada com uma infeccao do trato urinario por klebseilla. seus antibioticos foram alterados para vancomicina, levofloxacino e flagyl. sua pressao arterial melhorou e no dia da transferencia para a enfermaria em 09 / 03 / 2006, ela foi notada como oligurica, presumivelmente devido a insuficiencia renal aguda secundaria a hipotensao. sua producao de urina continuou a diminuir e ela desenvolveu uma acidose metabolica com bicarbonato em 10. seu acido latico naquele momento era de 4. 4. seu gasometria arterial foi : 7. 09 / 23 / 98 e ela foi\n"
     ]
    }
   ],
   "source": [
    "print(text_chunks[0])"
   ]
  },
  {
   "cell_type": "code",
   "execution_count": 70,
   "metadata": {},
   "outputs": [
    {
     "name": "stdout",
     "output_type": "stream",
     "text": [
      "Chunk 0\n"
     ]
    },
    {
     "data": {
      "text/html": [
       "<span class=\"tex2jax_ignore\"><div class=\"entities\" style=\"line-height: 2.5; direction: ltr\">de desligamento : medico responsavel : josilowsky, odell md medico de cuidados primarios : dr. freddie fluegge, 216 - 754 - 4187 principal queixa : sepse. historico da doenca atual : a sra. wiest e uma mulher de 83 anos com varios problemas medicos, incluindo doenca arterial coronariana pos - cabg, diabetes mellitus, icc ( fe 55 % ) e fibrilacao atrial, que apresentou hipotensao, provavelmente secundaria a sepse de celulite na extremidade inferior direita. ela desenvolveu celulite na extremidade inferior direita ha um mes. dois dias antes da admissao, a paciente desenvolveu piora de eritema, edema e sensibilidade junto com calafrios e suores. ela foi levada para a sala de emergencia em 07 / 08 / 2006 e apresentava hipotensao com pressao arterial sistolica na faixa dos 80. ela recebeu liquidos intravenosos e iniciou vancomicina, aztreonam e clindamicina, mas permaneceu hipotensa. ela comecou a receber dopamina, levophed e vasopressina, bem como decadron. a cirurgia foi consultada para realizar uma biopsia para descartar a possibilidade de fascite necrosante. um tc da extremidade inferior foi feito na sala de emergencia e ela foi admitida na uti. as culturas sanguineas da paciente cresciam estreptococos do grupo a. a cultura da ferida cresceu estreptococos do grupo a e e. coli. a paciente tambem foi diagnosticada com uma infeccao do trato urinario por klebseilla. seus antibioticos foram alterados para vancomicina, levofloxacino e flagyl. sua pressao arterial melhorou e no dia da transferencia para a enfermaria em 09 / 03 / 2006, ela foi notada como oligurica, presumivelmente devido a insuficiencia renal aguda secundaria a hipotensao. sua producao de urina continuou a diminuir e ela desenvolveu uma acidose metabolica com bicarbonato em 10. seu acido latico naquele momento era de 4. 4. seu gasometria arterial foi : 7. 09 / 23 / 98 e ela foi</div></span>"
      ],
      "text/plain": [
       "<IPython.core.display.HTML object>"
      ]
     },
     "metadata": {},
     "output_type": "display_data"
    },
    {
     "name": "stdout",
     "output_type": "stream",
     "text": [
      "\n",
      "\n",
      "\n",
      "Chunk 1\n"
     ]
    },
    {
     "data": {
      "text/html": [
       "<span class=\"tex2jax_ignore\"><div class=\"entities\" style=\"line-height: 2.5; direction: ltr\">transferida de volta para a uti. do ponto de vista renal, a ira pos - estreptococica glomerulonefrite seria menos provavel devido ao momento da infeccao estreptococica. ela nao apresentava hipertensao arterial ou cilindros leucocitarios. o exame de urina mostrou hematuria positiva. ela tinha niveis baixos de complemento, entao havia alguma suspeita de shu apos a infeccao pelo estreptococo do grupo b, embora nenhum esquistocito tenha sido visto no esfregaco. a paciente estava anurica na admissao a uti e iniciou terapia de substituicao renal. sua producao de urina se recuperou e era superior a 800 ml diarios enquanto na uti. no entanto, no dia da transferencia para a enfermaria em 30 / 04 / 2006, sua producao de urina comecou a diminuir e ela comecou a fazer dialise intermitente por um cateter lij tunelizado. a equipe renal acompanhou de perto e seus medicamentos foram ajustados de acordo com a funcao renal. a vancomicina foi ajustada com base nos niveis. em termos de hipertensao, sua pressao arterial se normalizou e seu betabloqueador esta sendo ajustado para cima. do ponto de vista cardiaco, a troponina da paciente atingiu um pico de 0, 87 no contexto de choque septico. ela foi avaliada pela cardiologia do mmmc e isso foi considerado consistente com isquemia por demanda. ela realmente nao apresentou sintomas cardiacos no momento, ela continuara tomando aspirina diariamente. seu ldl era de 63 e uma estatina foi iniciada. na verdade, sera necessario fazer a verificacao de lipidios em jejum uma vez que sua doenca aguda tenha passado e seu ldl objetivo seja inferior a 70. a paciente tem historico de fa em uso de coumadin. seu objetivo de inr e 2 - 3. seu inr esta diminuindo. ela esta sem coumadin porque varias linhas precisaram ser retiradas, incluindo uma subclavia direita. o cateter de hemodialise sera removido, caso ela tenha melhor producao de</div></span>"
      ],
      "text/plain": [
       "<IPython.core.display.HTML object>"
      ]
     },
     "metadata": {},
     "output_type": "display_data"
    },
    {
     "name": "stdout",
     "output_type": "stream",
     "text": [
      "\n",
      "\n",
      "\n",
      "Chunk 2\n"
     ]
    },
    {
     "data": {
      "text/html": [
       "<span class=\"tex2jax_ignore\"><div class=\"entities\" style=\"line-height: 2.5; direction: ltr\">urina ou um tipo de acesso mais permanente sera colocado. ela fara uso de heparina profilatica trice por dia para profilaxia de tvp quando seu inr atingir 1, 5. do ponto de vista hematologico, a paciente inicialmente tinha trombocitopenia na admissao. houve preocupacao com dic, devido ao aumento rapido da inr dela. no entanto, o fibrinogenio estava normal e a inr se estabilizou desde entao. ela permanece com trombocitopenia persistente, embora sua contagem de plaquetas esteja se recuperando. o anticorpo do fator plaquetario 4 foi negativo. nao houve um precipitante claro alem da sepse. ela tem uma anemia normocitica com queda acentuada do hematocrito desde a admissao e houve alguma preocupacao com hemolise com o aumento da bilirrubina, haptoglobina baixa e multiplas hemacias imaturas, mas nao foram observados esquistocitos na contagem diferencial manual. ela precisou de duas unidades de celulas vermelhas empacotadas nesta admissao. seu hematocrito e plaquetas diminuiram em 27 / 02 / 2006 conforme os esteroides estavam sendo reduzidos. seu coombs direto foi negativo. a haptoglobina estava dentro dos limites normais. medicamentos que causam a trombocitopenia dela, como seroquel e heparina, foram interrompidos. do ponto de vista pulmonar, ela esta oxigenando e ventilando bem e nao requer oxigenio suplementar. ela comecou a receber alimentacao por sonda em 09 / 11 / 2006, com hiperglicemia acentuada e tambem esteroides para sua hipotensao contribuindo para a hiperglicemia. na verdade, ela comecou a receber um protocolo de insulina intravenosa na uti para melhor controle e depois foi trocada para insulina nph e insulina regular alem de uma escala movel de insulina regular com bom efeito. sua medicacao em casa era lantus 25 unidades subcutaneas diariamente. seu tsh estava dentro dos limites normais e ela continuara tomando levotiroxina. a paciente desenvolveu</div></span>"
      ],
      "text/plain": [
       "<IPython.core.display.HTML object>"
      ]
     },
     "metadata": {},
     "output_type": "display_data"
    },
    {
     "name": "stdout",
     "output_type": "stream",
     "text": [
      "\n",
      "\n",
      "\n",
      "Chunk 3\n"
     ]
    },
    {
     "data": {
      "text/html": [
       "<span class=\"tex2jax_ignore\"><div class=\"entities\" style=\"line-height: 2.5; direction: ltr\">dor em seu quarto dedo esquerdo durante esta admissao e a articulacao pip foi puncionada em 27 / 02 / 06 por um reumatologista. a aparencia do liquido e consistente com gota. ela melhorou com esteroides. seu ultrassom de ombro direito mostrou um pequeno derrame, que provavelmente nao seria infeccioso de acordo com a radiologia. ela comecou a tomar decadron 4 mg p. o. a cada 6h., e apenas apresenta dor residual leve. do ponto de vista gastrointestinal, seus testes de funcao hepatica aumentaram em 27 / 08 / 06 com alt de 122, bilirrubina total de 8. 7 e fosfatase alcalina de 196. ela apresentava um aumento do inr ( fora do coumadin ) consistente com lesao hepatica e disfuncao hepatocelular. sua tc abdominal estava normal. a gi foi consultada. a etiologia nao ficou clara e o diagnostico diferencial era lesao hepatica relacionada a drogas versus infeccao ou figado de choque, e menos provavel, doenca hepatica gordurosa. as sorologias para hepatite foram negativas e o tylenol foi suspenso desde 27 / 08 / 06. flagyl e clindamicina foram suspensos em 09 / 11 / 07 e suas lfts diminuiram. o ama foi negativo. asma estava pendente na epoca desta ditadura. do ponto de vista neurologico, a paciente inicialmente precisou de dilaudid pca para a dor em suas pernas. agora, ela esta confortavel com um adesivo de fentanil com administracao de bolus de dilaudid. seroquel foi iniciado para sedacao, mas foi interrompido devido a trombocitopenia. do ponto de vista dermatologico, ela teve ulceras de estase venosa na extremidade inferior esquerda. ela tem uma ulcera de insuficiencia arterial na extremidade inferior direita. ela foi atendida por um centro de tratamento de lesoes. a cirurgia vascular solicitou abis e avaliacao do fluxo vascular apos a resolucao de sua doenca aguda. para nutricao, o paciente iniciou alimentacao por sonda at</div></span>"
      ],
      "text/plain": [
       "<IPython.core.display.HTML object>"
      ]
     },
     "metadata": {},
     "output_type": "display_data"
    },
    {
     "name": "stdout",
     "output_type": "stream",
     "text": [
      "\n",
      "\n",
      "\n",
      "Chunk 4\n"
     ]
    },
    {
     "data": {
      "text/html": [
       "<span class=\"tex2jax_ignore\"><div class=\"entities\" style=\"line-height: 2.5; direction: ltr\">##raves de um tubo nasogastrico devido a sedacao prolongada. ela precisara continuar melhorando seu estado nutricional. uma avaliacao de degluticao foi realizada em 27 / 10 / 07 e ela foi autorizada a fazer dieta oral e de consistencia branda. em termos de acesso, ela tem um cateter de hemodialise subclavio direito e um cateter de arteria radial esquerda que foi interrompido em 03 / 01 / 06. o direito subclavio sera removido quando o inr estiver em 1, 5 e o cateter de hemodialise sera removido ou substituido por um acesso mais permanente, dependendo da producao de urina. para profilaxia, ela esta tomando nexium. ela nao esta usando meias pneumaticas devido a celulite e a heparina foi suspensa devido a trombocitopenia, agora sera reiniciada em 27 / 10 / 07 ou quando seu inr estiver em 1, 5. historico medico anterior : diabetes mellitus tipo ii em uso de insulina, dac pos - cabg ( 1998 ). a veia safena direita foi utilizada na cirurgia. desde entao, ela apresenta inchaco basal e edema na extremidade inferior direita, icc com disfuncao diastolica, fe de 55 % em julho de 2004, peso seco e de 150 libras segundo a paciente. fibrilacao atrial em uso de coumadin. sindrome do seio doente, com implante de marca - passo permanente em outubro de 2006, complicado por hemotorax que exigiu toracoscopia. insuficiencia renal cronica com creatinina basal de 1, 7, gota, osteoartrite, em uso de protese total de joelho esquerdo em 1995, protese total de joelho direito em 1990, hipotireoidismo, osteoporose e perda auditiva cronica. medicamentos domiciliares : lantus 25 unidades subcutaneas uma vez ao dia pela manha, novolog de acordo com escala movel, aspirina 81 mg via oral diariamente, taper de prednisona ( iniciada em 29 / 11 / 06 ) meia dose diaria por duas semanas, depois meia dose em dias alternados por mais duas semanas, torsemida</div></span>"
      ],
      "text/plain": [
       "<IPython.core.display.HTML object>"
      ]
     },
     "metadata": {},
     "output_type": "display_data"
    },
    {
     "name": "stdout",
     "output_type": "stream",
     "text": [
      "\n",
      "\n",
      "\n",
      "Chunk 5\n"
     ]
    },
    {
     "data": {
      "text/html": [
       "<span class=\"tex2jax_ignore\"><div class=\"entities\" style=\"line-height: 2.5; direction: ltr\">20 mg 2 - 3 comprimidos via oral diariamente, dependendo do peso, metoprolol 12, 5 mg via oral duas vezes ao dia. coumadin? 1 mg via oral a noite, fentanil 25 mcg / h a cada 72 h., potassio, levo - tiroxina 75 mcg via oral diariamente. alergias : penicilina causa erupcoes vermelhas. esta e a unica alergia que a paciente refere. cefalosporina, reacao desconhecida. quinolonas, reacao desconhecida, mas a paciente ja tomou levofloxacino e ciprofloxacino anteriormente sem problemas. sulfamida e bactrim, reacao desconhecida. codeina, reacao desconhecida. historia social : a paciente mora com sua filha e cinco netos, com idades entre 7 e 20 anos. ela e uma ex - trabalhadora do setor de saude e organizadora sindical. no dia a dia, ela usa um andador. ela nunca fumou tabaco. ela raramente bebe alcool e nunca usou drogas. historia familiar : pais : nao sabe a historia familiar de seus pais ou irmaos. ela tem um filho com historico de diabetes. exame fisico de admissao : temperatura 98, 7, frequencia cardiaca 98, pressao arterial 171 / 85, frequencia respiratoria 19 - 23, oxigenacao 97 % - 98 % com 2 l ( essa e a admissao na uti em 09 / 03 / 06 ). em geral, ela estava gemendo de dor, ligeiramente sonolenta, mas facilmente despertavel. orientada com relacao a pessoa, &quot; hospital memorial beebe &quot; e &quot; abril &quot;. fala em frases completas. ouvidos, pupilas ligeiramente sluggishly reativas bilateralmente. a orofaringe notavel por mucosas secas. pescoco estava flexivel. pulmoes estavam limpos com diminuicao dos sons respiratorios nas bases bilateralmente. o exame cardiovascular mostrou taquicardia, ritmo regular com s1 e s2 apagados. o abdome apresentava ruidos intestinais normais, nao tendo distens</div></span>"
      ],
      "text/plain": [
       "<IPython.core.display.HTML object>"
      ]
     },
     "metadata": {},
     "output_type": "display_data"
    },
    {
     "name": "stdout",
     "output_type": "stream",
     "text": [
      "\n",
      "\n",
      "\n",
      "Chunk 6\n"
     ]
    },
    {
     "data": {
      "text/html": [
       "<span class=\"tex2jax_ignore\"><div class=\"entities\" style=\"line-height: 2.5; direction: ltr\">##ao ou dor a palpacao. membros, dor ao movimentar os membros superiores. ela tinha osteoartrite de base nos ombros, mais acentuada a direita. a extremidade inferior direita apresentava eritema, calor e edema 2 + com sensibilidade extrema a 1 cm abaixo do joelho. a lateral distal da extremidade inferior apresentava uma placa preta muito escura de 3 cm na area da biopsia. ela tinha um pe direito frio com pulso pedioso dorsal 1 +. extremidade inferior esquerda apresentando edema 2 +, pulso pedio dorsal 1 +. mao esquerda, quarto e quinto dedos mcp - pip com eritema e calor. neurologicamente, os pares cranianos ii a xii estao geralmente intactos. movendo todos os membros. os exames de forca total foram impedidos pela dor. seu ecg mostrou estimulacao ventricular. raio - x de torax em 07 / 08 / 06 mostrou cardiomegalia, um cateter no ij direito ( colocado no pronto - socorro ), sem consolidacao focal. nao ha edema pulmonar evidente ou pneumotorax. tc da extremidade inferior direita mostrou celulite sem gas. ecocardiograma em julho de 2004, fe de 55 %, sem anormalidades regionais de movimento de parede. o vd estava dilatado com funcao normal. ela tinha achatamento septal diastolico consistente com sobrecarga de volume do vd por aumento atrial, mr de leve a moderada, iad de 17 +. dados laboratoriais : notaveis para bicarbonato 21, ureia 49, criatina 1. 6 ( baseline de 1. 7 ), glicose 204, magnesio 1. 3, acido latico estava em 6, 5 e foi para 6, 2, bilirrubina total estava em 1, 5, ast 45. inr 1. 4. hematocrito de 43, 2, plaquetas de 156. 000, contagem de leucocitos de 9, 8, neutrofilos 84 %, bastonetes 14 %, linfocitos 1 %, monocitos 1 %. enzimas cardiacas eram positivas as 21h de 09 / 03 / 06 com troponina em 0,</div></span>"
      ],
      "text/plain": [
       "<IPython.core.display.HTML object>"
      ]
     },
     "metadata": {},
     "output_type": "display_data"
    },
    {
     "name": "stdout",
     "output_type": "stream",
     "text": [
      "\n",
      "\n",
      "\n",
      "Chunk 7\n"
     ]
    },
    {
     "data": {
      "text/html": [
       "<span class=\"tex2jax_ignore\"><div class=\"entities\" style=\"line-height: 2.5; direction: ltr\">26. dados de microbiologia : cultura de sangue em 08 / 07 / 06 positiva para estreptococos do grupo a beta - hemolitico. urina de 08 / 07 / 06, mais de 100. 000 klebsiellas ( pansensiveis ). culturas de sangue em 22 / 11 / 06 positivas para estreptococos do grupo a beta - hemolitico. culturas sanguineas em 09 / 03 / 06, sem crescimento. fluido articular de 07 / 06 do joelho direito, sem crescimento, alguns polis, nenhum organismo visto no gram. culturas sanguineas de 01 / 04 / 06, 12 e 06 / 11 / 06, todos sem crescimento ate o momento desta ditadura. cultura de fezes negativa para c. diff. fluido do quarto dedo esquerdo negativo para organismos no gram ou cultura em 27 / 02 / 06. cultura de escarro em 14 / 09 / 07, 1 + flora oral suspeita. raio - x de torax em 14 / 09 / 07, opacificacao difusa dentro do hemitorax inferior esquerdo devido a atelectasia, sem alteracao desde 10 / 06 / 06. biopsia fascial da extremidade inferior direita em 08 / 07 / 06, tecido fibroconectivo denso, sem inflamacao aguda presente. impressao : a sra. holoman e uma mulher de 83 anos com varios problemas medicos que apresentou hipotensao, provavelmente secundaria a sepse de celulite na extremidade inferior direita e uma itu por klebseilla. plano : 1. id : a paciente teve bacteremia por estreptococos do grupo a provavelmente devido a celulite. ela foi tratada empiricamente com vancomicina por 6 semanas. o dia um foi 22 / 11 / 06. o vancomicina esta sendo ajustada bimestralmente porque a paciente esta requerendo hemodialise e tem diminuicao da producao de urina. o ecocardiograma nao demonstrou vegetacoes. o segundo ecocardiograma estava pendente em 27 / 10 / 07 no momento desta ditadura para descartar qualquer tipo de vegetacao. ela tinha algumas lesoes em seus dedos do pe que pareciam ulceras de janeway. a itu por klebsiella foi tratada com le</div></span>"
      ],
      "text/plain": [
       "<IPython.core.display.HTML object>"
      ]
     },
     "metadata": {},
     "output_type": "display_data"
    },
    {
     "name": "stdout",
     "output_type": "stream",
     "text": [
      "\n",
      "\n",
      "\n",
      "Chunk 8\n"
     ]
    },
    {
     "data": {
      "text/html": [
       "<span class=\"tex2jax_ignore\"><div class=\"entities\" style=\"line-height: 2.5; direction: ltr\">##vofloxacino. 2. renal : a paciente esta com insuficiencia renal aguda oligurica em insuficiencia renal cronica, com questionamento se e resultado de sepse e vasodilatacao e hipotensao versus uma atn verdadeira. ela tem necessitado de hemodialise. a ultima hemodialise foi em 27 / 10 / 07. a producao de urina esta melhorando. a paciente pode ter um cateter tunel permanente colocado, dependendo da recuperacao da producao de urina. usaremos lasix se necessario para controlar o volume. 3. cardiovascular : a paciente teve isquemia por demanda com troponina maxima de 0, 87 com septico. seu ldl era de 63 e uma estatina foi iniciada. ela continuara tomando aspirina e betabloqueador. verificaremos seus lipidios em jejum quando a doenca aguda for resolvida como paciente externa. no momento, ela tem pressao arterial normal ao ajustar o betabloqueador para cima e considerar adicionar um segundo medicamento para normalizar sua hipotensao. estamos evitando inibidores da eca por causa de sua insuficiencia renal aguda. ela tem fa e sindrome do seio doente. ela esta em uso de coumadin como paciente externa, com marca - passo permanente. estamos suspendendo o coumadin por agora e isso pode ser retomado assim que a decisao for sobre o acesso a hemodialise. ela teve um aumento do inr na uti, presumivelmente devido ao figado de choque, uma vez que suas outras lfts tambem estao aumentadas simultaneamente. 4. endocrino : a paciente tem diabetes mellitus. ela tem niveis elevados de glicose no sangue com a alimentacao por tubo e uso de esteroides. estamos ajustando sua insulina. seu regime em casa e lantus. a alimentacao por tubo foi interrompida em 27 / 10 / 07 porque a paciente foi liberada para comer uma dieta para diabeticos e iremos ajustar sua insulina de acordo. ela esta hipotireoidiana e deve continuar tomando levo - tiroxina em casa. 5. reumatologia : a paciente teve um surto de got</div></span>"
      ],
      "text/plain": [
       "<IPython.core.display.HTML object>"
      ]
     },
     "metadata": {},
     "output_type": "display_data"
    },
    {
     "name": "stdout",
     "output_type": "stream",
     "text": [
      "\n",
      "\n",
      "\n",
      "Chunk 9\n"
     ]
    },
    {
     "data": {
      "text/html": [
       "<span class=\"tex2jax_ignore\"><div class=\"entities\" style=\"line-height: 2.5; direction: ltr\">##a em sua mao esquerda, ombro direito e joelho direito. as puncoes foram consistentes com gota. as culturas nao cresceram ate o momento. ela esta em um taper de dexametasona, no entanto, diminuindo para 1 mg iv de 12 em 12h a partir de 09 / 07, de acordo com a reumatologia. 6. hematologia : a paciente apresentou plaquetas persistentemente baixas e anemia. inicialmente, houve preocupacao com dic. no entanto, o fibrinogenio estava normal. houve preocupacao com hemolise. seu hematocrito e plaquetas diminuiram no momento em que os esteroides estavam sendo reduzidos e ela realmente precisou de duas unidades de hemacias empacotadas em 27 / 02 / 06. sua dexametasona foi aumentada. em resposta a isso, a heparina foi interrompida. seu anticorpo fator plaquetario iv e negativo. continuaremos acompanhando a contagem enquanto reduzimos os esteroides. e possivel que as alteracoes no hematocrito e nas plaquetas sejam devido a sepse. 7. gi : em 27 / 08 / 06, ela apresentou aumento das enzimas hepaticas. continuamos acompanhando a tendencia das enzimas e elas diminuiram no momento desta ditadura. 8. neurologia : a paciente tem dor intensa devido a gota. ela esta em pca de dilaudid inicialmente, agora esta com adesivo de fentanil em casa com bolus de dilaudid conforme necessario. 9. dermatologia : a paciente tem historico de ulceras de estase venosa na extremidade inferior esquerda. ela apresenta insuficiencia arterial na extremidade inferior direita. ela foi vista por um centro de tratamento de feridas. a cirurgia vascular solicitou abis e avaliacao do fluxo vascular apos a resolucao da sua doenca aguda. 10. nutricao : a paciente iniciou alimentacao por tubo devido a sedacao prolongada. ela precisara continuar melhorando seu estado nutricional. avaliacao de degluticao e fala com planejamento em 27 / 10 / 07. ela foi autorizada a fazer dieta com alimentos solidos. 11. profilaxia : a paciente precisara de</div></span>"
      ],
      "text/plain": [
       "<IPython.core.display.HTML object>"
      ]
     },
     "metadata": {},
     "output_type": "display_data"
    },
    {
     "name": "stdout",
     "output_type": "stream",
     "text": [
      "\n",
      "\n",
      "\n",
      "Chunk 10\n"
     ]
    },
    {
     "data": {
      "text/html": [
       "<span class=\"tex2jax_ignore\"><div class=\"entities\" style=\"line-height: 2.5; direction: ltr\">profilaxia para tvp quando o inr atingir 1, 5. ela esta em uso de inibidor de bomba de protons ( ppi ) enquanto esta em uso de esteroides. disposicao : reabilitacao. ela tem um cateter subclavio direito que deve ser removido antes da alta e uma decisao sobre o cateter de hemodialise deve ser tomada. seu procurador de assistencia medica e sua filha, trotochaud, cujo numero de celular e 739 - 718 - 1160 e o numero residencial e 110 - 533 - 7410. codigo : nr ou dni. plano de cuidados continuados : 1. acompanhar os resultados de todas as culturas ate a resolucao. 2. remover o cateter subclavio direito. 3. tomar decisao sobre a necessidade de dialise intermitente e, se necessario, por qual acesso. 4. retomar o coumadin assim que esse acesso for colocado ou assim que todas as linhas forem removidas. 5. reavaliar os lipidios como paciente externa. 6. abis para ambas as pernas e acompanhamento de ulcera cronica nao cicatrizante</div></span>"
      ],
      "text/plain": [
       "<IPython.core.display.HTML object>"
      ]
     },
     "metadata": {},
     "output_type": "display_data"
    },
    {
     "name": "stdout",
     "output_type": "stream",
     "text": [
      "\n",
      "\n",
      "\n"
     ]
    }
   ],
   "source": [
    "# Iterate over each chunk of text in the 'text_chunks' list\n",
    "for idx, chunk in enumerate(text_chunks):\n",
    "    # Print the index of the current chunk\n",
    "    print(f'Chunk {idx}')\n",
    "    \n",
    "    # Perform named entity recognition (NER) on the current chunk and render the entities\n",
    "    # 'nlp' is the NER pipeline\n",
    "    # 'chunk' is the current text chunk being processed\n",
    "    # 'colors' specifies the color to use for the 'Disorder' entity type\n",
    "    perform_inference_and_render_entities(nlp, chunk, colors={'Disorder': '#FFA500'})\n",
    "    \n",
    "    # Print two newline characters to separate the output of different chunks\n",
    "    print('\\n\\n')\n",
    "\n",
    "# Note: The comment below highlights a potential issue where entities might be split between chunks.\n",
    "# This can happen if an entity spans the boundary between two chunks, leading to incomplete entity recognition.\n",
    "# See the split in the middle of the entity between chunks 5 and 6 or 8 and 9."
   ]
  },
  {
   "cell_type": "markdown",
   "metadata": {},
   "source": [
    "### Advanced Chunking: Enhancing Text Segmentation with Semantic Awareness\n",
    "\n",
    "Advanced Chunking represents a significant evolution from Simple Chunking, offering a more sophisticated approach to text segmentation. This method goes beyond mere token count-based division, incorporating semantic understanding to create more meaningful and context-preserving chunks.\n",
    "\n",
    "#### Key Principles of Advanced Chunking\n",
    "\n",
    "1. **Semantic-Aware Segmentation**: \n",
    "   - Unlike Simple Chunking, Advanced Chunking considers the meaning and structure of the text.\n",
    "   - It aims to preserve semantic units such as sentences, paragraphs, or even thematic sections.\n",
    "\n",
    "2. **Boundary Respect**: \n",
    "   - Chunks are designed to end at natural linguistic boundaries (e.g., sentence or paragraph endings).\n",
    "   - This approach maintains the integrity of ideas and reduces the risk of splitting coherent thoughts.\n",
    "\n",
    "3. **Flexible Token Limits**: \n",
    "   - While still adhering to overall token constraints, Advanced Chunking allows for some flexibility to accommodate semantic units.\n",
    "   - This might result in slightly variable chunk sizes, prioritizing meaning over strict token counts.\n",
    "\n",
    "#### Advantages of Advanced Chunking\n",
    "\n",
    "- **Improved Context Preservation**: By keeping semantic units intact, each chunk retains more coherent information.\n",
    "- **Enhanced Readability**: For both humans and AI models, chunks aligned with natural language structures are easier to process and understand.\n",
    "- **Better Input for Transformers**: Providing semantically complete chunks can lead to improved performance in various NLP tasks.\n",
    "\n",
    "#### Challenges and Considerations\n",
    "\n",
    "1. **Increased Complexity**: \n",
    "   - Implementing Advanced Chunking requires more sophisticated algorithms to identify and respect semantic boundaries.\n",
    "   - This complexity can increase processing time and resource requirements.\n",
    "\n",
    "2. **Balancing Act**: \n",
    "   - There's often a trade-off between maintaining semantic integrity and adhering to token limits.\n",
    "   - Decisions must be made on when to prioritize semantic completeness over strict token count adherence.\n",
    "\n",
    "3. **Text Analysis Overhead**: \n",
    "   - Advanced Chunking necessitates a deeper analysis of the text structure, potentially including:\n",
    "     - Sentence boundary detection\n",
    "     - Paragraph identification\n",
    "     - Thematic content analysis\n",
    "\n",
    "4. **Handling Edge Cases**: \n",
    "   - Long sentences or paragraphs that exceed token limits require special handling.\n",
    "   - Strategies might include further subdivision or allowing occasional oversized chunks.\n",
    "\n",
    "#### Implementation Strategies\n",
    "\n",
    "1. **Pre-processing**: \n",
    "   - Analyze the text to identify sentence and paragraph boundaries.\n",
    "   - Consider using NLP libraries for more advanced linguistic analysis.\n",
    "\n",
    "2. **Adaptive Chunking**: \n",
    "   - Develop algorithms that can adjust chunk sizes based on semantic units while staying close to token limits.\n",
    "\n",
    "3. **Hierarchical Approach**: \n",
    "   - Consider a multi-level chunking strategy that respects both large (paragraphs) and small (sentences) semantic units.\n",
    "\n",
    "4. **Post-processing**: \n",
    "   - After initial chunking, refine chunks to ensure they don't break mid-sentence or mid-paragraph where possible.\n",
    "\n",
    "#### Practical Considerations\n",
    "\n",
    "- **Domain Specificity**: The effectiveness of Advanced Chunking can vary based on the type of text (e.g., technical documents vs. narrative text).\n",
    "- **Performance Metrics**: Develop ways to measure the quality of chunks beyond just token count adherence.\n",
    "- **Iterative Refinement**: Be prepared to fine-tune your chunking algorithm based on observed results and specific use case requirements.\n",
    "\n",
    "> **Challenge**: Implementing Advanced Chunking requires a blend of NLP techniques and creative problem-solving. As you approach this task, consider how you might balance semantic integrity with computational efficiency. What strategies could you employ to handle various text types and structures effectively?\n"
   ]
  },
  {
   "cell_type": "markdown",
   "metadata": {},
   "source": [
    "#### Streamlining Advanced Chunking with Langchain\n",
    "\n",
    "Working with Large Language Models (LLMs) often involves managing extensive texts that exceed the models' token limits. [Langchain](https://www.langchain.com/) simplifies this process by offering intuitive tools for advanced chunking. This section explores how Langchain facilitates this crucial task, enabling seamless interaction with LLMs.\n",
    "\n",
    "Langchain's strength lies in its ability to break down complex tasks into manageable components. For advanced chunking, it leverages specialized modules called **Text Splitters**. These components intelligently segment large texts into smaller, semantically coherent units, ensuring optimal compatibility with LLM input requirements.\n",
    "\n",
    "##### Understanding Langchain's Text Splitters\n",
    "\n",
    "Text Splitters operate on the principle of balancing chunk size with semantic integrity. Here's a breakdown of their typical workflow:\n",
    "\n",
    "1. **Fine-grained Segmentation**: The text is initially divided into small, meaningful units, often at the sentence level. This step ensures that the fundamental units of meaning are preserved. \n",
    "\n",
    "2. **Adaptive Chunk Aggregation**: These small units are then progressively combined to form larger chunks. The aggregation process is carefully controlled, aiming to create chunks that approach the desired size limit without breaking the flow of information.\n",
    "\n",
    "3. **Context Overlap**: To maintain coherence across chunks, Langchain incorporates an overlap mechanism. This means that consecutive chunks share a small amount of overlapping text, ensuring smoother transitions and preserving context for the LLM.\n",
    "\n",
    "##### Benefits of Langchain for Advanced Chunking\n",
    "\n",
    "- **Simplicity and Efficiency**: Langchain abstracts away the complexities of manual chunking, providing a streamlined and efficient solution.\n",
    "- **Semantic Awareness**: By focusing on meaningful units like sentences, Langchain ensures that chunks retain contextual relevance.\n",
    "- **Customization Options**: Langchain offers flexibility in configuring chunk size, overlap, and choice of splitting criteria, allowing for adaptation to specific use cases.\n"
   ]
  },
  {
   "cell_type": "code",
   "execution_count": 71,
   "metadata": {},
   "outputs": [
    {
     "name": "stderr",
     "output_type": "stream",
     "text": [
      "/home/jacob/miniforge3/envs/imd1107/lib/python3.11/site-packages/transformers/tokenization_utils_base.py:1601: FutureWarning:\n",
      "\n",
      "`clean_up_tokenization_spaces` was not set. It will be set to `True` by default. This behavior will be depracted in transformers v4.45, and will be then set to `False` by default. For more details check this issue: https://github.com/huggingface/transformers/issues/31884\n",
      "\n"
     ]
    },
    {
     "data": {
      "text/plain": [
       "(13, 11)"
      ]
     },
     "execution_count": 71,
     "metadata": {},
     "output_type": "execute_result"
    }
   ],
   "source": [
    "# Import the RecursiveCharacterTextSplitter class from the langchain_text_splitters module\n",
    "from langchain_text_splitters import RecursiveCharacterTextSplitter\n",
    "\n",
    "# Define the model name for the tokenizer\n",
    "model_name = 'pucpr/clinicalnerpt-disorder'\n",
    "\n",
    "# Load the tokenizer for the specified model\n",
    "tokenizer = AutoTokenizer.from_pretrained(model_name)\n",
    "\n",
    "# Initialize the RecursiveCharacterTextSplitter with the tokenizer and specified parameters\n",
    "# chunk_size=512: Maximum size of each chunk\n",
    "# chunk_overlap=0: Number of overlapping characters between chunks\n",
    "# separators=[\"\\t\", \"\\n\", \". \"]: List of separators to use for splitting the text\n",
    "text_splitter = RecursiveCharacterTextSplitter.from_huggingface_tokenizer(\n",
    "    tokenizer, chunk_size=512, chunk_overlap=0, separators=[\"\\t\", \"\\n\", \". \"]\n",
    ")\n",
    "\n",
    "# Split the large text into smaller chunks using the text splitter\n",
    "text_chunks_langchain = text_splitter.split_text(huge_text)\n",
    "\n",
    "# Print the lengths of the new text chunks, the langchain text chunks, and the original text chunks\n",
    "len(text_chunks_langchain), len(text_chunks)"
   ]
  },
  {
   "cell_type": "code",
   "execution_count": 73,
   "metadata": {},
   "outputs": [
    {
     "name": "stdout",
     "output_type": "stream",
     "text": [
      "Data de Desligamento: MÉDICO RESPONSÁVEL: JOSILOWSKY, ODELL MD MÉDICO DE CUIDADOS PRIMÁRIOS: Dr. Freddie Fluegge, 216-754-4187 PRINCIPAL QUEIXA: Sepse. HISTÓRICO DA DOENÇA ATUAL: A Sra. Wiest é uma mulher de 83 anos com vários problemas médicos, incluindo doença arterial coronariana pós-CABG, diabetes mellitus, ICC (FE 55%) e fibrilação atrial, que apresentou hipotensão, provavelmente secundária a sepse de celulite na extremidade inferior direita. Ela desenvolveu celulite na extremidade inferior direita há um mês. Dois dias antes da admissão, a paciente desenvolveu piora de eritema, edema e sensibilidade junto com calafrios e suores. Ela foi levada para a sala de emergência em 07/08/2006 e apresentava hipotensão com pressão arterial sistólica na faixa dos 80. Ela recebeu líquidos intravenosos e iniciou vancomicina, aztreonam e clindamicina, mas permaneceu hipotensa. Ela começou a receber dopamina, Levophed e vasopressina, bem como Decadron. A cirurgia foi consultada para realizar uma biópsia para descartar a possibilidade de fascite necrosante. Um TC da extremidade inferior foi feito na sala de emergência e ela foi admitida na UTI. As culturas sanguíneas da paciente cresciam estreptococos do grupo A. A cultura da ferida cresceu estreptococos do grupo A e E.coli. A paciente também foi diagnosticada com uma infecção do trato urinário por klebseilla. Seus antibióticos foram alterados para vancomicina, levofloxacino e Flagyl\n"
     ]
    }
   ],
   "source": [
    "print(text_chunks_langchain[0])"
   ]
  },
  {
   "cell_type": "code",
   "execution_count": 74,
   "metadata": {},
   "outputs": [
    {
     "name": "stdout",
     "output_type": "stream",
     "text": [
      "de desligamento : medico responsavel : josilowsky, odell md medico de cuidados primarios : dr. freddie fluegge, 216 - 754 - 4187 principal queixa : sepse. historico da doenca atual : a sra. wiest e uma mulher de 83 anos com varios problemas medicos, incluindo doenca arterial coronariana pos - cabg, diabetes mellitus, icc ( fe 55 % ) e fibrilacao atrial, que apresentou hipotensao, provavelmente secundaria a sepse de celulite na extremidade inferior direita. ela desenvolveu celulite na extremidade inferior direita ha um mes. dois dias antes da admissao, a paciente desenvolveu piora de eritema, edema e sensibilidade junto com calafrios e suores. ela foi levada para a sala de emergencia em 07 / 08 / 2006 e apresentava hipotensao com pressao arterial sistolica na faixa dos 80. ela recebeu liquidos intravenosos e iniciou vancomicina, aztreonam e clindamicina, mas permaneceu hipotensa. ela comecou a receber dopamina, levophed e vasopressina, bem como decadron. a cirurgia foi consultada para realizar uma biopsia para descartar a possibilidade de fascite necrosante. um tc da extremidade inferior foi feito na sala de emergencia e ela foi admitida na uti. as culturas sanguineas da paciente cresciam estreptococos do grupo a. a cultura da ferida cresceu estreptococos do grupo a e e. coli. a paciente tambem foi diagnosticada com uma infeccao do trato urinario por klebseilla. seus antibioticos foram alterados para vancomicina, levofloxacino e flagyl. sua pressao arterial melhorou e no dia da transferencia para a enfermaria em 09 / 03 / 2006, ela foi notada como oligurica, presumivelmente devido a insuficiencia renal aguda secundaria a hipotensao. sua producao de urina continuou a diminuir e ela desenvolveu uma acidose metabolica com bicarbonato em 10. seu acido latico naquele momento era de 4. 4. seu gasometria arterial foi : 7. 09 / 23 / 98 e ela foi\n"
     ]
    }
   ],
   "source": [
    "print(text_chunks[0])"
   ]
  },
  {
   "cell_type": "code",
   "execution_count": 75,
   "metadata": {},
   "outputs": [
    {
     "name": "stdout",
     "output_type": "stream",
     "text": [
      "Chunk 0 has 400 tokens\n",
      "Chunk 1 has 425 tokens\n",
      "Chunk 2 has 443 tokens\n",
      "Chunk 3 has 444 tokens\n",
      "Chunk 4 has 408 tokens\n",
      "Chunk 5 has 371 tokens\n",
      "Chunk 6 has 437 tokens\n",
      "Chunk 7 has 424 tokens\n",
      "Chunk 8 has 438 tokens\n",
      "Chunk 9 has 421 tokens\n",
      "Chunk 10 has 406 tokens\n",
      "Chunk 11 has 405 tokens\n",
      "Chunk 12 has 389 tokens\n"
     ]
    }
   ],
   "source": [
    "# Iterate over each chunk in the list of text chunks generated by the langchain text splitter\n",
    "for idx, chunk in enumerate(text_chunks_langchain):\n",
    "    # Tokenize the current chunk and calculate the number of tokens\n",
    "    # 'truncation=True' ensures that the text is truncated to fit the model's maximum input size\n",
    "    # 'input_ids' contains the token IDs for the chunk\n",
    "    num_tokens = len(tokenizer(chunk, truncation=True)['input_ids'])\n",
    "    \n",
    "    # Print the index of the chunk and the number of tokens it contains\n",
    "    print(f'Chunk {idx} has {num_tokens} tokens')"
   ]
  },
  {
   "cell_type": "code",
   "execution_count": 76,
   "metadata": {},
   "outputs": [
    {
     "name": "stdout",
     "output_type": "stream",
     "text": [
      "Chunk 0 has 512 tokens\n",
      "Chunk 1 has 512 tokens\n",
      "Chunk 2 has 512 tokens\n",
      "Chunk 3 has 512 tokens\n",
      "Chunk 4 has 512 tokens\n",
      "Chunk 5 has 512 tokens\n",
      "Chunk 6 has 512 tokens\n",
      "Chunk 7 has 512 tokens\n",
      "Chunk 8 has 512 tokens\n",
      "Chunk 9 has 512 tokens\n",
      "Chunk 10 has 265 tokens\n"
     ]
    }
   ],
   "source": [
    "# Iterate over each chunk in the list of text chunks\n",
    "for idx, chk in enumerate(text_chunks):\n",
    "    # Tokenize the current chunk and calculate the number of tokens\n",
    "    # 'truncation=True' ensures that the text is truncated to fit the model's maximum input size\n",
    "    # 'input_ids' contains the token IDs for the chunk\n",
    "    sz = len(tokenizer(chk, truncation=True)['input_ids'])\n",
    "    \n",
    "    # Print the index of the chunk and the number of tokens it contains\n",
    "    print(f'Chunk {idx} has {sz} tokens')"
   ]
  },
  {
   "cell_type": "markdown",
   "metadata": {},
   "source": [
    "## Training your Custom Named Entity Recognition (NER) Model: An In-Depth Guide\n",
    "\n",
    "Now, we're going to dive deeper into the process of training our own NER model. Leveraging the power of machine learning techniques and pre-annotated data, let's understand how to make such a model possible. The crucial technique that will enable us to achieve this feat is known as **Transfer Learning**.\n",
    "\n",
    "### Understanding Transfer Learning\n",
    "\n",
    "**Transfer learning** is an efficient technique in machine learning where a model, initially trained for one specific task, is adapted or 're-purposed' for another related task.\n",
    "\n",
    "<p align=\"center\">\n",
    "  <img src=\"images/transfer_learning2.png\"  alt=\"\" style=\"width: 60%; height: 60%\"/>\n",
    "</p>\n",
    "\n",
    "The above diagram compares traditional vs transfer learning approaches. In the traditional approach, we train a model from scratch for a specific task, which requires a large amount of data and significant time to train effectively. On the other hand, transfer learning allows us to leverage a pre-trained model and fine-tune it for our specific task. This approach is much faster and requires less data.\n",
    "\n",
    "#### Transfer Learning in Natural Language Processing (NLP)\n",
    "\n",
    "In the context of Natural Language Processing (NLP), transfer learning is typically executed through 'fine-tuning' a pre-trained language model using a new dataset.\n",
    "\n",
    "- **Pre-trained Language Models**: These are models trained on extensive and diverse text corpora. They have already learned various linguistic patterns, relationships, and structures, which are beneficial for numerous NLP tasks.\n",
    "- **Fine-tuning**: This involves adapting the pre-trained model to a specific task by training it on a smaller, task-specific dataset.\n",
    "\n",
    "Fine-tuning is particularly powerful because it allows the model to build upon the knowledge acquired during its initial training phase. The model has previously learned general language features like vocabulary, syntax, and semantics, which are pertinent to the new task. \n",
    "\n",
    "This approach is especially useful when you have a limited amount of data for the new task. Despite this limitation, the fine-tuned model can still perform impressively well.\n",
    "\n",
    "<p align=\"center\">\n",
    "  <img src=\"images/transfer_learning.png\"  alt=\"\" style=\"width: 80%; height: 80%\"/>\n",
    "</p>\n",
    "\n",
    "As demonstrated in the illustration above, the model initially learns from a larger, more general dataset. This already provides the model with much of the vocabulary and grammar rules of the language. Following this, the model is fine-tuned using a smaller, more specialized dataset. This helps the model understand the specific nuances and requirements of the new task.\n",
    "\n",
    "### Applying Transfer Learning to NER\n",
    "\n",
    "Now, let's apply the concept of transfer learning to our Named Entity Recognition (NER) task. We will fine-tune a pre-trained language model on our annotated dataset to train an efficient NER model. This model will be capable of performing pretty well even with a small amount of data.\n",
    "\n",
    "- **Step 1: Select a Pre-trained Model**: Choose a model that has been pre-trained on a large and diverse text corpus. Popular choices include BERT, GPT-3, and RoBERTa.\n",
    "- **Step 2: Prepare Your Dataset**: Ensure your dataset is annotated with the entities you want your model to recognize. Common entities include names, dates, locations, and more.\n",
    "- **Step 3: Fine-tune the Model**: Using your annotated dataset, fine-tune the pre-trained model. This will involve adjusting the model's parameters to better fit the specific patterns and entities in your data.\n",
    "- **Step 4: Evaluate and Adjust**: After fine-tuning, evaluate the model's performance on a validation set. Make necessary adjustments to improve accuracy and efficiency.\n",
    "\n",
    "### Key Points to Remember\n",
    "\n",
    "- **Efficiency**: Transfer learning is much faster and requires less data than training a model from scratch.\n",
    "- **Performance**: Fine-tuned models can perform exceptionally well even with limited task-specific data.\n",
    "- **Applicability**: This approach is particularly useful for tasks like NER, where pre-trained language models can leverage their understanding of linguistic structures.\n",
    "\n",
    "\n",
    "Now, coming back to our case, we're going to use the same concept of transfer learning. We will fine-tune a pre-trained language model on our annotated dataset to train an efficient NER model."
   ]
  },
  {
   "cell_type": "markdown",
   "metadata": {},
   "source": []
  },
  {
   "cell_type": "markdown",
   "metadata": {},
   "source": [
    "## Transitioning to Legal NER: Exploring the LeNER-BR Dataset\n",
    "\n",
    "While medical NER presents a valuable application of NLP, our focus shifts to legal NER, utilizing the specialized **LeNER-BR dataset**. This dataset provides a focused resource for training and evaluating models specifically on legal text.\n",
    "\n",
    "### Understanding LeNER-BR\n",
    "\n",
    "LeNER-BR comprises 70 legal documents meticulously annotated for Named Entity Recognition within a legal context.  These annotations categorize entities into six key classes: \n",
    "\n",
    "* **ORGANIZACAO:** This class encompasses the names of various organizations relevant to legal documents, such as government agencies, corporations, and institutions.\n",
    "* **PESSOA:**  This category identifies individuals mentioned within the legal text, including plaintiffs, defendants, witnesses, lawyers, and judges. \n",
    "* **TEMPO:**  Representations of temporal information are crucial in legal documents. This class captures dates, times, and durations relevant to the legal proceedings.\n",
    "* **LOCAL:**  Locations play a significant role in legal cases. This category identifies places like courthouses, addresses, cities, and countries mentioned in the documents.\n",
    "* **LEGISLACAO:**  Legal documents often refer to specific laws, regulations, and legal codes. This class annotates these references, providing valuable context to the legal content.\n",
    "* **JURISPRUDENCIA:** This category captures references to past legal cases, precedents, and rulings that hold relevance to the current document.\n",
    "\n",
    "These categories provide a structured framework for understanding the key elements within legal documents, enabling us to extract valuable information and insights for various legal NLP tasks.  \n",
    "\n",
    ">\n",
    "> If your work involves medical NER tasks in Portuguese language, you can consider exploring datasets like [SemClinBR](https://rdcu.be/cNgqV), [BRATECA](https://physionet.org/content/brateca/1.1/) or many others available at [Physionet](https://physionet.org/content/?topic=medical-text-processing). \n",
    ">\n",
    "> However, please note that while I have the necessary access to use these medical datasets, you don't, so I am unable to share them with the class.\n",
    ">"
   ]
  },
  {
   "cell_type": "markdown",
   "metadata": {},
   "source": [
    "### Our tools\n",
    "\n",
    "We'll be using the following tools for this exercise:\n",
    "\n",
    "- [spaCy](https://spacy.io/)\n",
    "- [HuggingFace Transformers](https://huggingface.co/transformers/)\n",
    "\n",
    "### SpaCy\n",
    "We'll start by using spaCy's pre-trained model for Portuguese, and then we'll fine-tune it using our own data.\n",
    "\n",
    "Spacy uses an ensemble of a CNN, a BiLSTM (Bidirectional LSTM), and a transition-based model to perform tasks like NER. They are used in the following way:\n",
    "\n",
    "1. **Convolutional Neural Network (CNN)**: The CNN in spaCy is used to extract features from the input text. These features could include things like the word itself, its prefix or suffix, its shape (e.g., is it capitalized, is it a digit, etc.), and the features of surrounding words. The CNN helps to convert these raw features into a more abstract representation that can be used for further processing. This is very useful in tasks where local and position-invariant features are helpful, such as in Named Entity Recognition (NER).\n",
    "\n",
    "2. **Bidirectional Long Short-Term Memory (BiLSTM)**: The BiLSTM takes the features extracted by the CNN and processes them in both forward and backward directions. This allows it to capture the context of each word from both before and after in the sentence. LSTM models are particularly good at handling sequences of data (like text), and the bidirectional part means that they can look at the context from both directions, which can be very helpful for understanding the meaning of a word in a sentence.\n",
    "\n",
    "3. **Transition-based Model**: This model takes the contextual embeddings from the BiLSTM and makes a prediction at each word about the named entities in the text or the grammatical relations in the sentence. For instance, in Named Entity Recognition, it would predict whether each word starts an entity, ends an entity, is inside an entity, or is not part of an entity at all.\n",
    "\n",
    "So, the CNN is used for feature extraction, the BiLSTM is used to capture context, and the transition-based model is used to make the final predictions based on the context. This combination allows spaCy to leverage the strengths of each type of model for high performance on tasks like NER and dependency parsing."
   ]
  },
  {
   "cell_type": "code",
   "execution_count": 77,
   "metadata": {},
   "outputs": [
    {
     "data": {
      "text/plain": [
       "DatasetDict({\n",
       "    train: Dataset({\n",
       "        features: ['id', 'tokens', 'ner_tags'],\n",
       "        num_rows: 7828\n",
       "    })\n",
       "    validation: Dataset({\n",
       "        features: ['id', 'tokens', 'ner_tags'],\n",
       "        num_rows: 1177\n",
       "    })\n",
       "    test: Dataset({\n",
       "        features: ['id', 'tokens', 'ner_tags'],\n",
       "        num_rows: 1390\n",
       "    })\n",
       "})"
      ]
     },
     "execution_count": 77,
     "metadata": {},
     "output_type": "execute_result"
    }
   ],
   "source": [
    "# Loading our dataset\n",
    "from datasets import load_dataset\n",
    "\n",
    "dataset = load_dataset('lener_br')\n",
    "dataset"
   ]
  },
  {
   "cell_type": "code",
   "execution_count": 87,
   "metadata": {},
   "outputs": [
    {
     "data": {
      "text/plain": [
       "{0: 'O',\n",
       " 1: 'B-ORGANIZACAO',\n",
       " 2: 'I-ORGANIZACAO',\n",
       " 3: 'B-PESSOA',\n",
       " 4: 'I-PESSOA',\n",
       " 5: 'B-TEMPO',\n",
       " 6: 'I-TEMPO',\n",
       " 7: 'B-LOCAL',\n",
       " 8: 'I-LOCAL',\n",
       " 9: 'B-LEGISLACAO',\n",
       " 10: 'I-LEGISLACAO',\n",
       " 11: 'B-JURISPRUDENCIA',\n",
       " 12: 'I-JURISPRUDENCIA'}"
      ]
     },
     "execution_count": 87,
     "metadata": {},
     "output_type": "execute_result"
    }
   ],
   "source": [
    "# Create a dictionary that maps integer IDs to label strings for named entity recognition (NER) tags\n",
    "# The dataset contains NER tags in the 'ner_tags' feature of the 'train' split\n",
    "# 'str2int' converts the string label to its corresponding integer ID\n",
    "# 'names' provides the list of all NER tag names\n",
    "id2label = {\n",
    "    dataset['train'].features['ner_tags'].feature.str2int(tag_name): tag_name\n",
    "    for tag_name in dataset['train'].features['ner_tags'].feature.names\n",
    "}\n",
    "\n",
    "# Display the created dictionary\n",
    "id2label"
   ]
  },
  {
   "cell_type": "code",
   "execution_count": 88,
   "metadata": {},
   "outputs": [],
   "source": [
    "lener_train = dataset['train']\n",
    "lener_valid = dataset['validation']\n",
    "lener_test = dataset['test']"
   ]
  },
  {
   "cell_type": "code",
   "execution_count": 89,
   "metadata": {},
   "outputs": [
    {
     "data": {
      "text/plain": [
       "{'id': '0',\n",
       " 'tokens': ['EMENTA',\n",
       "  ':',\n",
       "  'APELAÇÃO',\n",
       "  'CÍVEL',\n",
       "  '-',\n",
       "  'AÇÃO',\n",
       "  'DE',\n",
       "  'INDENIZAÇÃO',\n",
       "  'POR',\n",
       "  'DANOS',\n",
       "  'MORAIS',\n",
       "  '-',\n",
       "  'PRELIMINAR',\n",
       "  '-',\n",
       "  'ARGUIDA',\n",
       "  'PELO',\n",
       "  'MINISTÉRIO',\n",
       "  'PÚBLICO',\n",
       "  'EM',\n",
       "  'GRAU',\n",
       "  'RECURSAL',\n",
       "  '-',\n",
       "  'NULIDADE',\n",
       "  '-',\n",
       "  'AUSÊNCIA',\n",
       "  'DE',\n",
       "  'INTERVENÇÃO',\n",
       "  'DO',\n",
       "  'PARQUET',\n",
       "  'NA',\n",
       "  'INSTÂNCIA',\n",
       "  'A',\n",
       "  'QUO',\n",
       "  '-',\n",
       "  'PRESENÇA',\n",
       "  'DE',\n",
       "  'INCAPAZ',\n",
       "  '-',\n",
       "  'PREJUÍZO',\n",
       "  'EXISTENTE',\n",
       "  '-',\n",
       "  'PRELIMINAR',\n",
       "  'ACOLHIDA',\n",
       "  '-',\n",
       "  'NULIDADE',\n",
       "  'RECONHECIDA',\n",
       "  '.'],\n",
       " 'ner_tags': [0,\n",
       "  0,\n",
       "  0,\n",
       "  0,\n",
       "  0,\n",
       "  0,\n",
       "  0,\n",
       "  0,\n",
       "  0,\n",
       "  0,\n",
       "  0,\n",
       "  0,\n",
       "  0,\n",
       "  0,\n",
       "  0,\n",
       "  0,\n",
       "  1,\n",
       "  2,\n",
       "  0,\n",
       "  0,\n",
       "  0,\n",
       "  0,\n",
       "  0,\n",
       "  0,\n",
       "  0,\n",
       "  0,\n",
       "  0,\n",
       "  0,\n",
       "  0,\n",
       "  0,\n",
       "  0,\n",
       "  0,\n",
       "  0,\n",
       "  0,\n",
       "  0,\n",
       "  0,\n",
       "  0,\n",
       "  0,\n",
       "  0,\n",
       "  0,\n",
       "  0,\n",
       "  0,\n",
       "  0,\n",
       "  0,\n",
       "  0,\n",
       "  0,\n",
       "  0]}"
      ]
     },
     "execution_count": 89,
     "metadata": {},
     "output_type": "execute_result"
    }
   ],
   "source": [
    "lener_train[0]"
   ]
  },
  {
   "cell_type": "code",
   "execution_count": 91,
   "metadata": {},
   "outputs": [],
   "source": [
    "from typing import List, Tuple, Dict\n",
    "\n",
    "def convert_to_entity_tuples(data: Dict[str, List[str]]) -> Tuple[List[Tuple[int, int, str]], str]:\n",
    "    \"\"\"\n",
    "    Converts a dictionary containing token and NER tag information to a list of tuples containing start index,\n",
    "    end index, and label for each named entity.\n",
    "\n",
    "    Args:\n",
    "        data (Dict[str, List[str]]): A dictionary containing 'tokens' and 'ner_tags' keys.\n",
    "\n",
    "    Returns:\n",
    "        Tuple[List[Tuple[int, int, str]], str]: A list of tuples containing start index, end index, and label for each named entity,\n",
    "        and the original text formed by joining the tokens.\n",
    "\n",
    "    Example:\n",
    "        >>> data = {'tokens': ['John', 'Doe', 'is', 'a', 'doctor'], 'ner_tags': [1, 2, 0, 0, 3]}\n",
    "        >>> convert_to_entity_tuples(data)\n",
    "        ([(0, 8, 'PERSON'), (15, 21, 'PROFESSION')], 'John Doe is a doctor')\n",
    "    \"\"\"\n",
    "    # Extract tokens and NER tags from the input data\n",
    "    tokens = data['tokens']\n",
    "    ner_tags = data['ner_tags']\n",
    "    entity_tuples = []\n",
    "\n",
    "    i = 0\n",
    "    while i < len(tokens):\n",
    "        # Check if the current token is part of a named entity\n",
    "        if ner_tags[i] != 0:\n",
    "            label = ner_tags[i]\n",
    "            # Calculate the start index of the named entity\n",
    "            start_index = len(' '.join(tokens[:i])) + int(i > 0)\n",
    "            # Find the end index of the named entity\n",
    "            while i < len(tokens) and ner_tags[i] == label:\n",
    "                i += 1\n",
    "            end_index = len(' '.join(tokens[:i]))\n",
    "            # Add the named entity to the list of tuples\n",
    "            entity_tuples.append((start_index, end_index, label))\n",
    "        else:\n",
    "            i += 1\n",
    "\n",
    "    # Join the tokens to form the original text\n",
    "    original_text = ' '.join(tokens)\n",
    "    return entity_tuples, original_text\n",
    "\n",
    "\n",
    "def merge_entities_of_same_type(text: str, entity_spans: List[Tuple[int, int, str]]) -> List[Tuple[int, int, str]]:\n",
    "    \"\"\"\n",
    "    Merges B- and I- entities of the same type.\n",
    "\n",
    "    Args:\n",
    "        text (str): A string containing the text to be analyzed.\n",
    "        entity_spans (List[Tuple[int, int, str]]): A list of tuples containing start index, end index, and label for each named entity.\n",
    "\n",
    "    Returns:\n",
    "        List[Tuple[int, int, str]]: A list of tuples containing start index, end index, and label for each named entity with B- and I- entities of the same type merged and B- removed.\n",
    "\n",
    "    Example:\n",
    "        >>> text = \"John Doe is a doctor.\"\n",
    "        >>> entity_spans = [(0, 8, 'B-PERSON'), (15, 21, 'B-PROFESSION')]\n",
    "        >>> merge_entities_of_same_type(text, entity_spans)\n",
    "        [(0, 8, 'PERSON'), (15, 21, 'PROFESSION')]\n",
    "    \"\"\"\n",
    "    merged_entity_spans = []\n",
    "    for i in range(len(entity_spans)):\n",
    "        # Check if the current entity is a B- entity\n",
    "        if entity_spans[i][2][0] == 'B':\n",
    "            # Check if the next entity is an I- entity of the same type\n",
    "            if i < len(entity_spans) - 1 and entity_spans[i+1][2][0] == 'I' and entity_spans[i+1][2][2:] == entity_spans[i][2][2:]:\n",
    "                # Merge the two entities\n",
    "                merged_entity_spans.append((entity_spans[i][0], entity_spans[i+1][1], entity_spans[i][2][2:]))\n",
    "            # If the next entity is not an I- entity of the same type, add the current entity to the list\n",
    "            else:\n",
    "                merged_entity_spans.append((entity_spans[i][0], entity_spans[i][1], entity_spans[i][2][2:]))\n",
    "        else:\n",
    "            merged_entity_spans.append(entity_spans[i])\n",
    "    return merged_entity_spans"
   ]
  },
  {
   "cell_type": "code",
   "execution_count": 92,
   "metadata": {},
   "outputs": [
    {
     "data": {
      "text/plain": [
       "([(91, 101, 1), (102, 109, 2)],\n",
       " 'EMENTA : APELAÇÃO CÍVEL - AÇÃO DE INDENIZAÇÃO POR DANOS MORAIS - PRELIMINAR - ARGUIDA PELO MINISTÉRIO PÚBLICO EM GRAU RECURSAL - NULIDADE - AUSÊNCIA DE INTERVENÇÃO DO PARQUET NA INSTÂNCIA A QUO - PRESENÇA DE INCAPAZ - PREJUÍZO EXISTENTE - PRELIMINAR ACOLHIDA - NULIDADE RECONHECIDA .')"
      ]
     },
     "execution_count": 92,
     "metadata": {},
     "output_type": "execute_result"
    }
   ],
   "source": [
    "ner_tuple, text = convert_to_entity_tuples(lener_train[0])\n",
    "ner_tuple, text"
   ]
  },
  {
   "cell_type": "code",
   "execution_count": 93,
   "metadata": {},
   "outputs": [
    {
     "data": {
      "text/plain": [
       "[(91, 101, 'B-ORGANIZACAO'), (102, 109, 'I-ORGANIZACAO')]"
      ]
     },
     "execution_count": 93,
     "metadata": {},
     "output_type": "execute_result"
    }
   ],
   "source": [
    "ner_tuple = [(i[0], i[1], id2label[i[2]]) for i in ner_tuple]\n",
    "ner_tuple"
   ]
  },
  {
   "cell_type": "code",
   "execution_count": 94,
   "metadata": {},
   "outputs": [
    {
     "data": {
      "text/plain": [
       "[(91, 109, 'ORGANIZACAO'), (102, 109, 'I-ORGANIZACAO')]"
      ]
     },
     "execution_count": 94,
     "metadata": {},
     "output_type": "execute_result"
    }
   ],
   "source": [
    "ner_tuple = merge_entities_of_same_type(text, ner_tuple)\n",
    "ner_tuple"
   ]
  },
  {
   "cell_type": "code",
   "execution_count": 95,
   "metadata": {},
   "outputs": [
    {
     "data": {
      "text/html": [
       "<span class=\"tex2jax_ignore\"><div class=\"entities\" style=\"line-height: 2.5; direction: ltr\">EMENTA : APELAÇÃO CÍVEL - AÇÃO DE INDENIZAÇÃO POR DANOS MORAIS - PRELIMINAR - ARGUIDA PELO \n",
       "<mark class=\"entity\" style=\"background: #008B8B; padding: 0.45em 0.6em; margin: 0 0.25em; line-height: 1; border-radius: 0.35em;\">\n",
       "    MINISTÉRIO PÚBLICO\n",
       "    <span style=\"font-size: 0.8em; font-weight: bold; line-height: 1; border-radius: 0.35em; vertical-align: middle; margin-left: 0.5rem\">ORGANIZACAO</span>\n",
       "</mark>\n",
       "\n",
       "<mark class=\"entity\" style=\"background: #FF00FF; padding: 0.45em 0.6em; margin: 0 0.25em; line-height: 1; border-radius: 0.35em;\">\n",
       "    PÚBLICO\n",
       "    <span style=\"font-size: 0.8em; font-weight: bold; line-height: 1; border-radius: 0.35em; vertical-align: middle; margin-left: 0.5rem\">I-ORGANIZACAO</span>\n",
       "</mark>\n",
       " EM GRAU RECURSAL - NULIDADE - AUSÊNCIA DE INTERVENÇÃO DO PARQUET NA INSTÂNCIA A QUO - PRESENÇA DE INCAPAZ - PREJUÍZO EXISTENTE - PRELIMINAR ACOLHIDA - NULIDADE RECONHECIDA .</div></span>"
      ],
      "text/plain": [
       "<IPython.core.display.HTML object>"
      ]
     },
     "metadata": {},
     "output_type": "display_data"
    }
   ],
   "source": [
    "render_named_entities(text, ner_tuple)"
   ]
  },
  {
   "cell_type": "code",
   "execution_count": 96,
   "metadata": {},
   "outputs": [],
   "source": [
    "from typing import List, Tuple, Dict\n",
    "\n",
    "def prepare_lener_data_for_training(lener_data: List, id2label: Dict) -> List[Tuple[str, List[Tuple[int, int, str]]]]:\n",
    "    \"\"\"\n",
    "    Prepare the data for training by converting it to tuples and merging entities of the same type.\n",
    "\n",
    "    Args:\n",
    "        lener_data (List): The data to prepare for training.\n",
    "        id2label (Dict): A dictionary mapping entity IDs to labels.\n",
    "\n",
    "    Returns:\n",
    "        List[Tuple[str, List[Tuple[int, int, str]]]]: A list of tuples, each containing a text and a list of entity tuples.\n",
    "    \"\"\"\n",
    "    # Initialize an empty list to store the prepared data\n",
    "    prepared_data = []\n",
    "\n",
    "    # Iterate over the data\n",
    "    for data_item in lener_data:\n",
    "        # Convert the data item to tuples\n",
    "        entity_tuples, text = convert_to_entity_tuples(data_item)\n",
    "        # Replace the entity IDs with labels\n",
    "        entity_tuples = [(entity[0], entity[1], id2label[entity[2]]) for entity in entity_tuples]\n",
    "        # Merge entities of the same type\n",
    "        entity_tuples = merge_entities_of_same_type(text, entity_tuples)\n",
    "        # Append the text and the entity tuples to the prepared data\n",
    "        prepared_data.append((text, entity_tuples))\n",
    "\n",
    "    return prepared_data\n",
    "\n",
    "# Prepare the training, validation, and test data\n",
    "training_data = prepare_lener_data_for_training(lener_train, id2label)\n",
    "validation_data = prepare_lener_data_for_training(lener_valid, id2label)\n",
    "test_data = prepare_lener_data_for_training(lener_test, id2label)"
   ]
  },
  {
   "cell_type": "code",
   "execution_count": 97,
   "metadata": {},
   "outputs": [],
   "source": [
    "import random\n",
    "random.seed(271828)\n",
    "\n",
    "random.shuffle(training_data) # shuffle the training data"
   ]
  },
  {
   "cell_type": "code",
   "execution_count": 100,
   "metadata": {},
   "outputs": [
    {
     "data": {
      "text/plain": [
       "('Eis o teor da lei impugnada : Art . 1º As Quotas de Produtividade , que compõem o prêmio de produtividade , a que se refere o art . 66 da Lei Complementar nº 92 , de 05 de julho de 2002 , devidas aos Auditores Fiscais da Coordenação da Receita do Estado , a qualquer título , constituem parcela de sua remuneração e por isso , incorporam-se aos proventos de aposentadoria e são extensivas aos auditores fiscais aposentados e seus pensionistas .',\n",
       " [(126, 160, 'LEGISLACAO'),\n",
       "  (130, 160, 'I-LEGISLACAO'),\n",
       "  (166, 185, 'TEMPO'),\n",
       "  (169, 185, 'I-TEMPO'),\n",
       "  (221, 253, 'ORGANIZACAO'),\n",
       "  (233, 253, 'I-ORGANIZACAO')])"
      ]
     },
     "execution_count": 100,
     "metadata": {},
     "output_type": "execute_result"
    }
   ],
   "source": [
    "\n",
    "training_data[3]"
   ]
  },
  {
   "cell_type": "code",
   "execution_count": 101,
   "metadata": {},
   "outputs": [
    {
     "data": {
      "text/plain": [
       "(7828, 1177, 1390)"
      ]
     },
     "execution_count": 101,
     "metadata": {},
     "output_type": "execute_result"
    }
   ],
   "source": [
    "len(training_data), len(validation_data), len(test_data)"
   ]
  },
  {
   "cell_type": "code",
   "execution_count": 110,
   "metadata": {},
   "outputs": [],
   "source": [
    "import spacy\n",
    "from spacy.tokens import DocBin\n",
    "\n",
    "# Load a new blank spaCy model for Portuguese\n",
    "nlp = spacy.blank(\"pt\")\n",
    "\n",
    "def convert_to_spacy(data_list):\n",
    "    \"\"\"\n",
    "    Converts a list of texts and annotations to a spaCy DocBin object.\n",
    "\n",
    "    Args:\n",
    "        data_list (list): A list of tuples containing the text and annotations.\n",
    "\n",
    "    Returns:\n",
    "        DocBin: A spaCy DocBin object containing the labeled texts.\n",
    "    \"\"\"\n",
    "    # Create a DocBin object to store the processed documents\n",
    "    db = DocBin()\n",
    "\n",
    "    # Iterate over each text and its corresponding annotations in the data list\n",
    "    for text, annot in data_list:\n",
    "        # Create a spaCy Doc object from the text\n",
    "        doc = nlp.make_doc(text)\n",
    "        ents = []\n",
    "        seen_tokens = set()\n",
    "        \n",
    "        # Iterate over each annotation (start index, end index, label)\n",
    "        for start, end, label in annot:\n",
    "            # Create a span for the entity using character indexes\n",
    "            span = doc.char_span(start, end, label=label, alignment_mode=\"contract\")\n",
    "            \n",
    "            # If the span is None, it means the character span does not align with token boundaries\n",
    "            if span is None:\n",
    "                print(f\"Skipping entity [{start}, {end}, {label}] in the following text because the character span '{text[start:end]}' does not align with token boundaries:\\n\\n{text}\\n\")\n",
    "            else:\n",
    "                # Check for overlapping tokens\n",
    "                if any(token.i in seen_tokens for token in span):\n",
    "                    continue\n",
    "                    #print(f\"Skipping overlapping entity [{start}, {end}, {label}] in the following text\")\n",
    "                else:\n",
    "                    # Add the span to the list of entities\n",
    "                    ents.append(span)\n",
    "                    seen_tokens.update(token.i for token in span)\n",
    "        \n",
    "        # Assign the list of entities to the doc.ents attribute\n",
    "        doc.ents = ents\n",
    "        \n",
    "        # Add the processed document to the DocBin object\n",
    "        db.add(doc)\n",
    "\n",
    "    # Return the DocBin object containing all the processed documents\n",
    "    return db\n",
    "\n",
    "# Convert the training, validation, and test data to spaCy DocBin objects\n",
    "db_train = convert_to_spacy(training_data)\n",
    "db_valid = convert_to_spacy(validation_data)\n",
    "db_test = convert_to_spacy(test_data)"
   ]
  },
  {
   "cell_type": "code",
   "execution_count": 111,
   "metadata": {},
   "outputs": [
    {
     "data": {
      "text/plain": [
       "(7828, 1177, 1390)"
      ]
     },
     "execution_count": 111,
     "metadata": {},
     "output_type": "execute_result"
    }
   ],
   "source": [
    "len(db_train), len(db_valid), len(db_test)"
   ]
  },
  {
   "cell_type": "code",
   "execution_count": 113,
   "metadata": {},
   "outputs": [],
   "source": [
    "from pathlib import Path\n",
    "\n",
    "output_dir = Path('./outputs/spacy') # output directory\n",
    "output_dir.mkdir(parents=True, exist_ok=True) # create the output directory"
   ]
  },
  {
   "cell_type": "code",
   "execution_count": 114,
   "metadata": {},
   "outputs": [],
   "source": [
    "# Save the data to disk\n",
    "db_train.to_disk(\"./outputs/spacy/train.spacy\")\n",
    "db_valid.to_disk(\"./outputs/spacy/valid.spacy\")\n",
    "db_test.to_disk(\"./outputs/spacy/test.spacy\")"
   ]
  },
  {
   "cell_type": "code",
   "execution_count": 115,
   "metadata": {},
   "outputs": [
    {
     "data": {
      "text/plain": [
       "(7828, 1177, 1390)"
      ]
     },
     "execution_count": 115,
     "metadata": {},
     "output_type": "execute_result"
    }
   ],
   "source": [
    "# If we want to load it later\n",
    "from spacy.tokens import DocBin\n",
    "db_train = DocBin().from_disk(\"./outputs/spacy/train.spacy\")\n",
    "db_valid = DocBin().from_disk(\"./outputs/spacy/valid.spacy\")\n",
    "db_test = DocBin().from_disk(\"./outputs/spacy/test.spacy\")\n",
    "len(db_train), len(db_valid), len(db_test)"
   ]
  },
  {
   "cell_type": "code",
   "execution_count": 116,
   "metadata": {},
   "outputs": [
    {
     "name": "stdout",
     "output_type": "stream",
     "text": [
      "\u001b[38;5;3m⚠ To generate a more effective transformer-based config (GPU-only),\n",
      "install the spacy-transformers package and re-run this command. The config\n",
      "generated now does not use transformers.\u001b[0m\n",
      "\u001b[38;5;4mℹ Generated config template specific for your use case\u001b[0m\n",
      "- Language: pt\n",
      "- Pipeline: ner\n",
      "- Optimize for: efficiency\n",
      "- Hardware: CPU\n",
      "- Transformer: None\n",
      "\u001b[38;5;2m✔ Auto-filled config with all values\u001b[0m\n",
      "\u001b[38;5;2m✔ Saved config\u001b[0m\n",
      "outputs/spacy/config.cfg\n",
      "You can now add your data and train your pipeline:\n",
      "python -m spacy train config.cfg --paths.train ./train.spacy --paths.dev ./dev.spacy\n"
     ]
    }
   ],
   "source": [
    "# Creating the config file\n",
    "! python -m spacy init config \"./outputs/spacy/config.cfg\" --lang pt --pipeline ner --optimize efficiency --force"
   ]
  },
  {
   "cell_type": "code",
   "execution_count": 117,
   "metadata": {},
   "outputs": [
    {
     "name": "stdout",
     "output_type": "stream",
     "text": [
      "\u001b[38;5;4mℹ Saving to output directory: outputs/spacy\u001b[0m\n",
      "\u001b[38;5;4mℹ Using CPU\u001b[0m\n",
      "\u001b[1m\n",
      "=========================== Initializing pipeline ===========================\u001b[0m\n",
      "\u001b[38;5;2m✔ Initialized pipeline\u001b[0m\n",
      "\u001b[1m\n",
      "============================= Training pipeline =============================\u001b[0m\n",
      "\u001b[38;5;4mℹ Pipeline: ['tok2vec', 'ner']\u001b[0m\n",
      "\u001b[38;5;4mℹ Initial learn rate: 0.001\u001b[0m\n",
      "E    #       LOSS TOK2VEC  LOSS NER  ENTS_F  ENTS_P  ENTS_R  SCORE \n",
      "---  ------  ------------  --------  ------  ------  ------  ------\n",
      "  0       0          0.00     45.42    0.00    0.00    0.00    0.00\n",
      "  0     200       3948.38   3077.83    3.77    5.97    2.75    0.04\n",
      "  0     400        632.11   1614.60   31.80   34.59   29.42    0.32\n",
      "  0     600       5515.43   1307.05   52.98   58.31   48.54    0.53\n",
      "  0     800        305.55   1169.88   56.33   62.38   51.35    0.56\n",
      "  0    1000        650.63   1185.06   58.01   61.19   55.15    0.58\n",
      "  0    1200        436.25   1360.52   68.19   71.62   65.07    0.68\n",
      "  1    1400        550.49   1239.53   69.58   72.76   66.67    0.70\n",
      "  1    1600        877.33   1226.74   68.55   71.04   66.23    0.69\n",
      "  1    1800        710.35   1389.31   71.50   77.32   66.50    0.72\n",
      "  2    2000        455.43   1173.56   74.06   75.75   72.45    0.74\n",
      "  3    2200        606.88   1365.64   75.62   77.69   73.66    0.76\n",
      "  3    2400        706.84   1232.11   76.87   78.25   75.54    0.77\n",
      "  4    2600        768.47   1140.15   77.00   80.52   73.77    0.77\n",
      "  5    2800        984.04    957.09   77.53   81.48   73.94    0.78\n",
      "  6    3000        576.92    857.42   78.70   82.66   75.10    0.79\n",
      "  7    3200        569.15    783.17   75.02   79.02   71.40    0.75\n",
      "  8    3400        813.06    780.38   73.02   80.72   66.67    0.73\n",
      "  8    3600        920.36    701.12   77.92   80.46   75.54    0.78\n",
      "  9    3800        617.07    595.76   75.61   79.39   72.18    0.76\n",
      " 10    4000       1005.03    649.63   76.08   80.84   71.85    0.76\n",
      " 11    4200        828.53    602.01   76.87   80.23   73.77    0.77\n",
      " 12    4400       1783.04    562.06   75.93   79.42   72.73    0.76\n",
      " 13    4600        624.44    522.44   78.15   81.26   75.26    0.78\n",
      "\u001b[38;5;2m✔ Saved pipeline to output directory\u001b[0m\n",
      "outputs/spacy/model-last\n"
     ]
    }
   ],
   "source": [
    "# Training\n",
    "\n",
    "! python -m spacy train \"./outputs/spacy/config.cfg\" \\\n",
    "                        --output \"./outputs/spacy\" \\\n",
    "                        --paths.train \"./outputs/spacy/train.spacy\" \\\n",
    "                        --paths.dev \"./outputs/spacy/valid.spacy\""
   ]
  },
  {
   "cell_type": "code",
   "execution_count": 145,
   "metadata": {},
   "outputs": [
    {
     "data": {
      "text/plain": [
       "{'token_acc': 1.0,\n",
       " 'token_p': 1.0,\n",
       " 'token_r': 1.0,\n",
       " 'token_f': 1.0,\n",
       " 'ents_p': 0.8417630057803468,\n",
       " 'ents_r': 0.7584635416666666,\n",
       " 'ents_f': 0.797945205479452,\n",
       " 'ents_per_type': {'JURISPRUDENCIA': {'p': 0.8133333333333334,\n",
       "   'r': 0.6594594594594595,\n",
       "   'f': 0.7283582089552239},\n",
       "  'PESSOA': {'p': 0.8186046511627907,\n",
       "   'r': 0.7553648068669528,\n",
       "   'f': 0.7857142857142857},\n",
       "  'TEMPO': {'p': 0.8784530386740331, 'r': 0.828125, 'f': 0.8525469168900803},\n",
       "  'ORGANIZACAO': {'p': 0.832579185520362,\n",
       "   'r': 0.7345309381237525,\n",
       "   'f': 0.7804878048780488},\n",
       "  'LOCAL': {'p': 0.6444444444444445,\n",
       "   'r': 0.6170212765957447,\n",
       "   'f': 0.6304347826086957},\n",
       "  'LEGISLACAO': {'p': 0.886039886039886,\n",
       "   'r': 0.8227513227513228,\n",
       "   'f': 0.8532235939643347}},\n",
       " 'speed': 34316.68674538908}"
      ]
     },
     "execution_count": 145,
     "metadata": {},
     "output_type": "execute_result"
    }
   ],
   "source": [
    "# Evaluation\n",
    "from spacy.training.example import Example\n",
    "\n",
    "nlp_ner = spacy.load(\"./outputs/spacy/model-best\")\n",
    "db_test = DocBin().from_disk(\"./outputs/spacy/test.spacy\")\n",
    "\n",
    "\n",
    "examples = []\n",
    "for doc in db_test.get_docs(nlp_ner.vocab):\n",
    "    examples.append(Example(nlp_ner.make_doc(doc.text), doc))\n",
    "\n",
    "results_spacy = nlp_ner.evaluate(examples)\n",
    "results_spacy"
   ]
  },
  {
   "cell_type": "code",
   "execution_count": 146,
   "metadata": {},
   "outputs": [
    {
     "data": {
      "text/html": [
       "<div>\n",
       "<style scoped>\n",
       "    .dataframe tbody tr th:only-of-type {\n",
       "        vertical-align: middle;\n",
       "    }\n",
       "\n",
       "    .dataframe tbody tr th {\n",
       "        vertical-align: top;\n",
       "    }\n",
       "\n",
       "    .dataframe thead th {\n",
       "        text-align: right;\n",
       "    }\n",
       "</style>\n",
       "<table border=\"1\" class=\"dataframe\">\n",
       "  <thead>\n",
       "    <tr style=\"text-align: right;\">\n",
       "      <th></th>\n",
       "      <th>p</th>\n",
       "      <th>r</th>\n",
       "      <th>f</th>\n",
       "    </tr>\n",
       "  </thead>\n",
       "  <tbody>\n",
       "    <tr>\n",
       "      <th>JURISPRUDENCIA</th>\n",
       "      <td>0.813333</td>\n",
       "      <td>0.659459</td>\n",
       "      <td>0.728358</td>\n",
       "    </tr>\n",
       "    <tr>\n",
       "      <th>PESSOA</th>\n",
       "      <td>0.818605</td>\n",
       "      <td>0.755365</td>\n",
       "      <td>0.785714</td>\n",
       "    </tr>\n",
       "    <tr>\n",
       "      <th>TEMPO</th>\n",
       "      <td>0.878453</td>\n",
       "      <td>0.828125</td>\n",
       "      <td>0.852547</td>\n",
       "    </tr>\n",
       "    <tr>\n",
       "      <th>ORGANIZACAO</th>\n",
       "      <td>0.832579</td>\n",
       "      <td>0.734531</td>\n",
       "      <td>0.780488</td>\n",
       "    </tr>\n",
       "    <tr>\n",
       "      <th>LOCAL</th>\n",
       "      <td>0.644444</td>\n",
       "      <td>0.617021</td>\n",
       "      <td>0.630435</td>\n",
       "    </tr>\n",
       "    <tr>\n",
       "      <th>LEGISLACAO</th>\n",
       "      <td>0.886040</td>\n",
       "      <td>0.822751</td>\n",
       "      <td>0.853224</td>\n",
       "    </tr>\n",
       "  </tbody>\n",
       "</table>\n",
       "</div>"
      ],
      "text/plain": [
       "                       p         r         f\n",
       "JURISPRUDENCIA  0.813333  0.659459  0.728358\n",
       "PESSOA          0.818605  0.755365  0.785714\n",
       "TEMPO           0.878453  0.828125  0.852547\n",
       "ORGANIZACAO     0.832579  0.734531  0.780488\n",
       "LOCAL           0.644444  0.617021  0.630435\n",
       "LEGISLACAO      0.886040  0.822751  0.853224"
      ]
     },
     "execution_count": 146,
     "metadata": {},
     "output_type": "execute_result"
    }
   ],
   "source": [
    "pd.DataFrame(results_spacy['ents_per_type']).T"
   ]
  },
  {
   "cell_type": "code",
   "execution_count": 120,
   "metadata": {},
   "outputs": [],
   "source": [
    "example = \"\"\"TRIBUTÁRIO. IMPOSTO DE RENDA. NÃO INCIDÊNCIA. AUXÍLIO-ALIMENTAÇÃO (AUXÍLIO-ALMOÇO). VERBA DE NATUREZA INDENIZATÓRIA. PRECEDENTE DA TRU - 5a. REGIÃO. RECURSO INOMINADO DA FAZENDA NACIONAL IMPROVIDO.\n",
    "\n",
    "A parte ré interpõe recurso inominado contra sentença que julgou procedente o pedido de declaração da inexistência de declaração de não incidência de imposto de renda sobre as verbas decorrentes do pagamento de auxílio-almoço, bem como condenou a ré na repetição do indébito tributário.\n",
    "\n",
    "Em seu recurso, a União sustenta que a verba, recebida a título de auxílio-almoço, não teria natureza indenizatória, razão por que incidiria o imposto de renda.\n",
    "\n",
    "A sentença não merece ser reformada. Explico.\n",
    "\n",
    "O imposto de renda incide sobre a renda ou o acréscimo patrimonial de qualquer natureza, a teor do art. 43 do Código Tributário Nacional, in verbis:\n",
    "\n",
    "Art. 43. O imposto, de competência da União, sobre a renda e proventos de qualquer natureza tem como fato gerador a aquisição da disponibilidade econômica ou jurídica:\n",
    "I – de renda, assim entendido o produto do capital, do trabalho ou da combinação de ambos;\n",
    "II – de proventos de qualquer natureza, assim entendidos os acréscimos patrimoniais não compreendidos no inciso anterior.\n",
    "\n",
    "A verba recebida a título de auxílio-alimentação (auxílio-almoço) possui natureza indenizatória, uma vez que se destina a cobrir os custos de refeição do empregado, não configurando acréscimo patrimonial.\n",
    "\n",
    "O §1º. do art. 22 da Lei nº. 8.460/92, incluído pela Lei nº 9.257/97, reconhece a natureza indenizatória do auxílio-alimentação ao consignar que “a concessão do auxílio-alimentação será feita em pecúnia e terá caráter indenizatório”. Logo, tal verba não sofre a incidência do imposto de renda.\n",
    "\n",
    "Embora o referido dispositivo seja destinado aos servidores públicos federais, não se pode tratar de forma diferenciada os empregados públicos, em face do princípio da isonomia tributária, previsto no art. 150, II, da Constituição Federal, segundo o qual é vedado instituir tratamento desigual entre contribuintes que se encontrem em situação equivalente.\n",
    "\n",
    "No caso dos autos, os documentos comprovam que o autor percebe o auxílio-almoço, dotado de natureza indenizatória, cujo pagamento deu azo à incidência do imposto de renda. É cabível, portanto a restituição do seu indébito, bem como a declaração de não incidência do imposto sobre tal verba. Nesse sentido, invoco ainda os seguintes precedentes:\n",
    "\n",
    "TRIBUTÁRIO - PROCESSUAL CIVIL - INEXISTÊNCIA DE VIOLAÇÃO DO ART. 557 DO CPC - IMPOSTO DE RENDA - NÃO INCIDÊNCIA SOBRE VERBAS INDENIZATÓRIAS - AUXÍLIO-ALIMENTAÇÃO - AUXÍLIO-TRANSPORTE. 1. A eventual nulidade da decisão monocrática calcada no art. 557 do CPC fica superada com a reapreciação do recurso pelo órgão colegiado, na via de agravo regimental. 2. O fato gerador do imposto de renda é a aquisição de disponibilidade econômica ou jurídica decorrente de acréscimo patrimonial (art. 43 do CTN). 3. Não incide imposto de renda sobre as verbas recebidas a título de indenização. Precedentes. 4. O pagamento de verbas a título de auxílio-alimentação e auxílio-transporte correspondem ao pagamento de verbas indenizatórias, portanto, não incide na espécie imposto de renda. Agravo regimental improvido. (AGRESP 201000172325, HUMBERTO MARTINS, STJ - SEGUNDA TURMA, DJE DATA:23/04/2010)\n",
    "\n",
    "EMENTA TRIBUTÁRIO. IMPOSTO DE RENDA DA PESSOA FÍSICA - IRPF. “AUXÍLIO-ALMOÇO”. VERBA DESTINADA A RESSARCIR PARCIALMENTE AS DESPESAS DO EMPREGADO COM A SUA PRÓPRIA ALIMENTAÇÃO. NATUREZA INDENIZATÓRIA. NÃO INCIDÊNCIA DO IRPF. “AUXÍLIO-ENSINO”. VERBA DESTINADA A RESSARCIR PARCIALMENTE AS DESPESAS DO EMPREGADO COM A EDUCAÇÃO DE SEUS FILHOS. NATUREZA REMUNERATÓRIA INCIDÊNCIA DE IMPOSTO DE RENDA. ART. 43 DO CTN. PEDIDO DE UNIFORMIZAÇÃO CONHECIDO E PARCIALMENTE PROVIDO. (Recursos 05032827820154058312, MARCOS ANTONIO GARAPA DE CARVALHO - Turma Regional de Uniformização de Jurisprudência da 5a. Região, Creta - Data::06/04/2017 - Página N/I.)\n",
    "\n",
    "Recurso inominado da Fazenda Nacional improvido.\n",
    "\n",
    "Condenação da União em honorários advocatícios, arbitrados em dez por cento sobre o valor condenação.\n",
    "\n",
    " \n",
    "\n",
    "ACÓRDÃO\n",
    "\n",
    "Decide a 3ª Turma Recursal dos Juizados Especiais Federais de Pernambuco, por maioria, vencido o Juiz Federal Isaac Batista de Carvalho Neto, NEGAR PROVIMENTO AO RECURSO INOMINADO, nos termos da ementa supra.\n",
    "\n",
    "Recife, data do julgamento.\n",
    "\n",
    "Joaquim Lustosa Filho\n",
    "\n",
    "Juiz Federal Relator\"\"\""
   ]
  },
  {
   "cell_type": "code",
   "execution_count": 121,
   "metadata": {},
   "outputs": [
    {
     "data": {
      "text/html": [
       "<span class=\"tex2jax_ignore\"><div class=\"entities\" style=\"line-height: 2.5; direction: ltr\">TRIBUTÁRIO. IMPOSTO DE RENDA. NÃO INCIDÊNCIA. AUXÍLIO-ALIMENTAÇÃO (AUXÍLIO-ALMOÇO). VERBA DE NATUREZA INDENIZATÓRIA. PRECEDENTE DA \n",
       "<mark class=\"entity\" style=\"background: #2ECC71; padding: 0.45em 0.6em; margin: 0 0.25em; line-height: 1; border-radius: 0.35em;\">\n",
       "    TRU\n",
       "    <span style=\"font-size: 0.8em; font-weight: bold; line-height: 1; border-radius: 0.35em; vertical-align: middle; margin-left: 0.5rem\">ORGANIZACAO</span>\n",
       "</mark>\n",
       " - 5a. REGIÃO. RECURSO INOMINADO DA FAZENDA NACIONAL IMPROVIDO.<br><br>A parte ré interpõe recurso inominado contra sentença que julgou procedente o pedido de declaração da inexistência de declaração de não incidência de imposto de renda sobre as verbas decorrentes do pagamento de auxílio-almoço, bem como condenou a ré na repetição do indébito tributário.<br><br>Em seu recurso, a \n",
       "<mark class=\"entity\" style=\"background: #2ECC71; padding: 0.45em 0.6em; margin: 0 0.25em; line-height: 1; border-radius: 0.35em;\">\n",
       "    União\n",
       "    <span style=\"font-size: 0.8em; font-weight: bold; line-height: 1; border-radius: 0.35em; vertical-align: middle; margin-left: 0.5rem\">ORGANIZACAO</span>\n",
       "</mark>\n",
       " sustenta que a verba, recebida a título de auxílio-almoço, não teria natureza indenizatória, razão por que incidiria o imposto de renda.<br><br>A sentença não merece ser reformada. Explico.<br><br>O imposto de renda incide sobre a renda ou o acréscimo patrimonial de qualquer natureza, a teor do \n",
       "<mark class=\"entity\" style=\"background: #8E44AD; padding: 0.45em 0.6em; margin: 0 0.25em; line-height: 1; border-radius: 0.35em;\">\n",
       "    art. 43 do Código Tributário Nacional\n",
       "    <span style=\"font-size: 0.8em; font-weight: bold; line-height: 1; border-radius: 0.35em; vertical-align: middle; margin-left: 0.5rem\">LEGISLACAO</span>\n",
       "</mark>\n",
       ", in verbis:<br><br>Art. 43. O imposto, de competência da \n",
       "<mark class=\"entity\" style=\"background: #2ECC71; padding: 0.45em 0.6em; margin: 0 0.25em; line-height: 1; border-radius: 0.35em;\">\n",
       "    União\n",
       "    <span style=\"font-size: 0.8em; font-weight: bold; line-height: 1; border-radius: 0.35em; vertical-align: middle; margin-left: 0.5rem\">ORGANIZACAO</span>\n",
       "</mark>\n",
       ", sobre a renda e proventos de qualquer natureza tem como fato gerador a aquisição da disponibilidade econômica ou jurídica:<br>I – de renda, assim entendido o produto do capital, do trabalho ou da combinação de ambos;<br>II – de proventos de qualquer natureza, assim entendidos os acréscimos patrimoniais não compreendidos no inciso anterior.<br><br>A verba recebida a título de auxílio-alimentação (auxílio-almoço) possui natureza indenizatória, uma vez que se destina a cobrir os custos de refeição do empregado, não configurando acréscimo patrimonial.<br><br>O \n",
       "<mark class=\"entity\" style=\"background: #8E44AD; padding: 0.45em 0.6em; margin: 0 0.25em; line-height: 1; border-radius: 0.35em;\">\n",
       "    §1º. do art. 22 da Lei nº. 8.460/92\n",
       "    <span style=\"font-size: 0.8em; font-weight: bold; line-height: 1; border-radius: 0.35em; vertical-align: middle; margin-left: 0.5rem\">LEGISLACAO</span>\n",
       "</mark>\n",
       ", incluído pela \n",
       "<mark class=\"entity\" style=\"background: #8E44AD; padding: 0.45em 0.6em; margin: 0 0.25em; line-height: 1; border-radius: 0.35em;\">\n",
       "    Lei nº 9.257/97\n",
       "    <span style=\"font-size: 0.8em; font-weight: bold; line-height: 1; border-radius: 0.35em; vertical-align: middle; margin-left: 0.5rem\">LEGISLACAO</span>\n",
       "</mark>\n",
       ", reconhece a natureza indenizatória do auxílio-alimentação ao consignar que “a concessão do auxílio-alimentação será feita em pecúnia e terá caráter indenizatório”. Logo, tal verba não sofre a incidência do imposto de renda.<br><br>Embora o referido dispositivo seja destinado aos servidores públicos federais, não se pode tratar de forma diferenciada os empregados públicos, em face do princípio da isonomia tributária, previsto no art. \n",
       "<mark class=\"entity\" style=\"background: #8E44AD; padding: 0.45em 0.6em; margin: 0 0.25em; line-height: 1; border-radius: 0.35em;\">\n",
       "    150, II, da Constituição Federal\n",
       "    <span style=\"font-size: 0.8em; font-weight: bold; line-height: 1; border-radius: 0.35em; vertical-align: middle; margin-left: 0.5rem\">LEGISLACAO</span>\n",
       "</mark>\n",
       ", segundo o qual é vedado instituir tratamento desigual entre contribuintes que se encontrem em situação equivalente.<br><br>No caso dos autos, os documentos comprovam que o autor percebe o auxílio-almoço, dotado de natureza indenizatória, cujo pagamento deu azo à incidência do imposto de renda. É cabível, portanto a restituição do seu indébito, bem como a declaração de não incidência do imposto sobre tal verba. Nesse sentido, invoco ainda os seguintes precedentes:<br><br>TRIBUTÁRIO - PROCESSUAL CIVIL - INEXISTÊNCIA DE VIOLAÇÃO DO \n",
       "<mark class=\"entity\" style=\"background: #8E44AD; padding: 0.45em 0.6em; margin: 0 0.25em; line-height: 1; border-radius: 0.35em;\">\n",
       "    ART. 557 DO CPC\n",
       "    <span style=\"font-size: 0.8em; font-weight: bold; line-height: 1; border-radius: 0.35em; vertical-align: middle; margin-left: 0.5rem\">LEGISLACAO</span>\n",
       "</mark>\n",
       " - IMPOSTO DE RENDA - NÃO INCIDÊNCIA SOBRE VERBAS INDENIZATÓRIAS - AUXÍLIO-ALIMENTAÇÃO - AUXÍLIO-TRANSPORTE. 1. A eventual nulidade da decisão monocrática calcada no art. 557 do CPC fica superada com a reapreciação do recurso pelo órgão colegiado, na via de agravo regimental. 2. O fato gerador do imposto de renda é a aquisição de disponibilidade econômica ou jurídica decorrente de acréscimo patrimonial (art. 43 do CTN). 3. Não incide imposto de renda sobre as verbas recebidas a título de indenização. Precedentes. 4. O pagamento de verbas a título de auxílio-alimentação e auxílio-transporte correspondem ao pagamento de verbas indenizatórias, portanto, não incide na espécie imposto de renda. Agravo regimental improvido. (AGRESP 201000172325, \n",
       "<mark class=\"entity\" style=\"background: #3498DB; padding: 0.45em 0.6em; margin: 0 0.25em; line-height: 1; border-radius: 0.35em;\">\n",
       "    HUMBERTO MARTINS\n",
       "    <span style=\"font-size: 0.8em; font-weight: bold; line-height: 1; border-radius: 0.35em; vertical-align: middle; margin-left: 0.5rem\">PESSOA</span>\n",
       "</mark>\n",
       ", \n",
       "<mark class=\"entity\" style=\"background: #2ECC71; padding: 0.45em 0.6em; margin: 0 0.25em; line-height: 1; border-radius: 0.35em;\">\n",
       "    STJ\n",
       "    <span style=\"font-size: 0.8em; font-weight: bold; line-height: 1; border-radius: 0.35em; vertical-align: middle; margin-left: 0.5rem\">ORGANIZACAO</span>\n",
       "</mark>\n",
       " - \n",
       "<mark class=\"entity\" style=\"background: #2ECC71; padding: 0.45em 0.6em; margin: 0 0.25em; line-height: 1; border-radius: 0.35em;\">\n",
       "    SEGUNDA TURMA\n",
       "    <span style=\"font-size: 0.8em; font-weight: bold; line-height: 1; border-radius: 0.35em; vertical-align: middle; margin-left: 0.5rem\">ORGANIZACAO</span>\n",
       "</mark>\n",
       ", DJE \n",
       "<mark class=\"entity\" style=\"background: #E74C3C; padding: 0.45em 0.6em; margin: 0 0.25em; line-height: 1; border-radius: 0.35em;\">\n",
       "    DATA:23/04/2010\n",
       "    <span style=\"font-size: 0.8em; font-weight: bold; line-height: 1; border-radius: 0.35em; vertical-align: middle; margin-left: 0.5rem\">TEMPO</span>\n",
       "</mark>\n",
       ")<br><br>EMENTA TRIBUTÁRIO. IMPOSTO DE RENDA DA PESSOA FÍSICA - IRPF. “AUXÍLIO-ALMOÇO”. VERBA DESTINADA A RESSARCIR PARCIALMENTE AS DESPESAS DO EMPREGADO COM A SUA PRÓPRIA ALIMENTAÇÃO. NATUREZA INDENIZATÓRIA. NÃO INCIDÊNCIA DO IRPF. “AUXÍLIO-ENSINO”. VERBA DESTINADA A RESSARCIR PARCIALMENTE AS DESPESAS DO EMPREGADO COM A EDUCAÇÃO DE SEUS FILHOS. NATUREZA REMUNERATÓRIA INCIDÊNCIA DE IMPOSTO DE RENDA. \n",
       "<mark class=\"entity\" style=\"background: #8E44AD; padding: 0.45em 0.6em; margin: 0 0.25em; line-height: 1; border-radius: 0.35em;\">\n",
       "    ART. 43 DO CTN\n",
       "    <span style=\"font-size: 0.8em; font-weight: bold; line-height: 1; border-radius: 0.35em; vertical-align: middle; margin-left: 0.5rem\">LEGISLACAO</span>\n",
       "</mark>\n",
       ". PEDIDO DE UNIFORMIZAÇÃO CONHECIDO E PARCIALMENTE PROVIDO. (\n",
       "<mark class=\"entity\" style=\"background: #D35400; padding: 0.45em 0.6em; margin: 0 0.25em; line-height: 1; border-radius: 0.35em;\">\n",
       "    Recursos 05032827820154058312\n",
       "    <span style=\"font-size: 0.8em; font-weight: bold; line-height: 1; border-radius: 0.35em; vertical-align: middle; margin-left: 0.5rem\">JURISPRUDENCIA</span>\n",
       "</mark>\n",
       ", \n",
       "<mark class=\"entity\" style=\"background: #3498DB; padding: 0.45em 0.6em; margin: 0 0.25em; line-height: 1; border-radius: 0.35em;\">\n",
       "    MARCOS ANTONIO GARAPA DE CARVALHO\n",
       "    <span style=\"font-size: 0.8em; font-weight: bold; line-height: 1; border-radius: 0.35em; vertical-align: middle; margin-left: 0.5rem\">PESSOA</span>\n",
       "</mark>\n",
       " - Turma Regional de Uniformização de Jurisprudência da 5a. Região, Creta - Data::06/04/2017 - Página N/I.)<br><br>Recurso inominado da \n",
       "<mark class=\"entity\" style=\"background: #2ECC71; padding: 0.45em 0.6em; margin: 0 0.25em; line-height: 1; border-radius: 0.35em;\">\n",
       "    Fazenda Nacional\n",
       "    <span style=\"font-size: 0.8em; font-weight: bold; line-height: 1; border-radius: 0.35em; vertical-align: middle; margin-left: 0.5rem\">ORGANIZACAO</span>\n",
       "</mark>\n",
       " improvido.<br><br>Condenação da \n",
       "<mark class=\"entity\" style=\"background: #2ECC71; padding: 0.45em 0.6em; margin: 0 0.25em; line-height: 1; border-radius: 0.35em;\">\n",
       "    União\n",
       "    <span style=\"font-size: 0.8em; font-weight: bold; line-height: 1; border-radius: 0.35em; vertical-align: middle; margin-left: 0.5rem\">ORGANIZACAO</span>\n",
       "</mark>\n",
       " em honorários advocatícios, arbitrados em dez por cento sobre o valor condenação.<br><br> <br><br>ACÓRDÃO<br><br>Decide a \n",
       "<mark class=\"entity\" style=\"background: #2ECC71; padding: 0.45em 0.6em; margin: 0 0.25em; line-height: 1; border-radius: 0.35em;\">\n",
       "    3ª Turma Recursal dos Juizados Especiais Federais de Pernambuco\n",
       "    <span style=\"font-size: 0.8em; font-weight: bold; line-height: 1; border-radius: 0.35em; vertical-align: middle; margin-left: 0.5rem\">ORGANIZACAO</span>\n",
       "</mark>\n",
       ", por maioria, vencido o Juiz Federal \n",
       "<mark class=\"entity\" style=\"background: #3498DB; padding: 0.45em 0.6em; margin: 0 0.25em; line-height: 1; border-radius: 0.35em;\">\n",
       "    Isaac Batista de Carvalho Neto\n",
       "    <span style=\"font-size: 0.8em; font-weight: bold; line-height: 1; border-radius: 0.35em; vertical-align: middle; margin-left: 0.5rem\">PESSOA</span>\n",
       "</mark>\n",
       ", NEGAR PROVIMENTO AO RECURSO INOMINADO, nos termos da ementa supra.<br><br>Recife, data do julgamento.<br><br>\n",
       "<mark class=\"entity\" style=\"background: #3498DB; padding: 0.45em 0.6em; margin: 0 0.25em; line-height: 1; border-radius: 0.35em;\">\n",
       "    Joaquim Lustosa Filho\n",
       "    <span style=\"font-size: 0.8em; font-weight: bold; line-height: 1; border-radius: 0.35em; vertical-align: middle; margin-left: 0.5rem\">PESSOA</span>\n",
       "</mark>\n",
       "<br><br>Juiz Federal Relator</div></span>"
      ],
      "text/plain": [
       "<IPython.core.display.HTML object>"
      ]
     },
     "metadata": {},
     "output_type": "display_data"
    }
   ],
   "source": [
    "# Perform named entity recognition (NER) on the example text using the spaCy model\n",
    "doc_pred = nlp_ner(example)\n",
    "\n",
    "# Define a dictionary to map entity labels to specific colors for visualization\n",
    "colors = {\n",
    "    'ORGANIZACAO': '#2ECC71',  # Green for organizations\n",
    "    'PESSOA': '#3498DB',       # Blue for persons\n",
    "    'TEMPO': '#E74C3C',        # Red for time expressions\n",
    "    'LOCAL': '#F1C40F',        # Yellow for locations\n",
    "    'LEGISLACAO': '#8E44AD',   # Purple for legislation\n",
    "    'JURISPRUDENCIA': '#D35400' # Orange for jurisprudence\n",
    "}\n",
    "\n",
    "# Render the named entities in the text using spaCy's displaCy visualizer\n",
    "# 'style=\"ent\"' specifies that the visualization should highlight entities\n",
    "# 'jupyter=True' ensures the visualization is displayed correctly in a Jupyter notebook\n",
    "# 'options={'colors': colors}' applies the custom colors defined above to the entities\n",
    "spacy.displacy.render(doc_pred, style=\"ent\", jupyter=True, options={'colors': colors})"
   ]
  },
  {
   "cell_type": "code",
   "execution_count": 122,
   "metadata": {},
   "outputs": [],
   "source": [
    "# Here's the proof that the model has never seen the law number 9.257/97 before, but it was able to recognize it as a LEGISLACAO entity\n",
    "for i in training_data:\n",
    "    if '9.257/97' in i[0]:\n",
    "        print(i[0])\n"
   ]
  },
  {
   "cell_type": "code",
   "execution_count": 123,
   "metadata": {},
   "outputs": [],
   "source": [
    "# Here's the proof that the model has never seen the AGRESP acronym before, but it was able to recognize it as a JURISPRUDENCIA entity\n",
    "for i in training_data:\n",
    "    if 'agresp' in i[0].lower():\n",
    "        print(i[0])\n"
   ]
  },
  {
   "cell_type": "markdown",
   "metadata": {},
   "source": [
    "### HuggingFace Transformers\n",
    "\n",
    "Now, we'll use HuggingFace's pre-trained model for Portuguese, then fine-tune it with our own data.\n",
    "\n",
    "HuggingFace Transformers implements models like BERT (Bidirectional Encoder Representations from Transformers), GPT-2 (Generative Pretrained Transformer 2), and others. These models perform tasks like Named Entity Recognition (NER) as follows:\n",
    "\n",
    "1. **Tokenization**: All transformer models start by converting the input text into tokens. These tokens are words or parts of words that the model understands. They're usually shorter than a whole word and can include things like morphological roots, prefixes, suffixes, etc.\n",
    "\n",
    "2. **Embedding**: After tokenizing the text, each token is converted into a numerical representation called an embedding. These embeddings are vectors in a high-dimensional space that the model has learned during pre-training. Nearby vectors in this space correspond to similar meanings, so these embeddings capture the semantics of the words in some sense.\n",
    "\n",
    "3. **Transformer Architecture (BERT, GPT-2, etc.)**: Depending on the specific transformer model, different architectural patterns apply. But generally speaking, transformer architectures consist of several layers of self-attention mechanisms and feed-forward neural networks. Self-attention allows the model to weigh the importance of each token when considering a particular one. It essentially captures the context of each word by processing the entire text at once.\n",
    "\n",
    "4. **Fine-tuning**: The last step is to use our own training data to specialize ('fine-tune') the pre-trained transformer model for a specific task, like NER. We add a task-specific layer on top of the pre-trained model, train it on our data, and gradually adjust the parameters of both the task-specific layer and the pre-existing model.\n",
    "\n",
    "Therefore, tokenization and embedding are used for feature extraction, the transformer architecture (BERT, GPT-2, etc.) is used for context capturing, and fine-tuning is performed for task-specific predictions. This composite layout enables HuggingFace Transformers to exploit the advantages of each model type for great performance on tasks such as NER and dependency parsing.\n",
    "\n",
    "\n",
    "\n"
   ]
  },
  {
   "cell_type": "markdown",
   "metadata": {},
   "source": [
    "### Harnessing the Power of Pretrained Transformer Models in NLP Applications\n",
    "\n",
    "Transformer models have revolutionized the landscape of Natural Language Processing (NLP) applications. By leveraging a pretrained model from the Hugging Face Hub, we can directly fine-tune it to function effectively for our specific task.\n",
    "\n",
    "This technique, known as transfer learning, carries the advantage of saving significant amounts of time and computational resources. As long as the corpus utilized during pretraining isn't vastly different from that used during the fine-tuning phase, good results are generally achievable.\n",
    "\n",
    "#### The Need for Domain Adaptation\n",
    "\n",
    "Despite the efficiency of transfer learning, there are scenarios where it's beneficial to conduct an extra step of fine-tuning the language models on your specific dataset before going ahead with training a task-specific head. This is particularly relevant when dealing with niche or specialized text such as legal contracts or scientific articles.\n",
    "\n",
    "In these cases, a generic Transformer model like BERT might treat the domain-specific words in your data as rare tokens. This could negatively affect performance as these 'rare tokens' might actually be integral or frequently occurring elements in your specific application. Hence, by first fine-tuning the language model using in-domain data, we can notably improve the performance of numerous downstream tasks. And the best part? Usually, this step needs to be conducted only once!\n",
    "\n",
    "#### What Exactly is Domain Adaptation?\n",
    "\n",
    "Domain Adaptation essentially refers to this process of fine-tuning a pretrained language model on in-domain data. The method gained popularity in 2018, thanks to an architecture called ULMFiT - one of the pioneering neural architectures that really made transfer learning work for NLP.\n",
    "\n",
    "<br><br>\n",
    "<p align=\"center\">\n",
    "  <img src=\"images/ulmfit.svg\"  alt=\"\" style=\"width: 60%; height: 60%\"/>\n",
    "</p>\n",
    "<br><br>\n",
    "\n",
    "ULMFiT's approach was based on LSTMs (Long Short-Term Memory units), a type of recurrent neural network well-suited for sequence prediction tasks. It demonstrated impressive success with domain adaptation. \n",
    "\n",
    "Through the combined power of transfer learning and domain adaptation, we can harness the potent capabilities of pretrained Transformer models, tailored precisely for our unique NLP tasks. We'll explore how to perform a similar procedure of domain adaptation but with a Transformer rather than an LSTM."
   ]
  },
  {
   "cell_type": "markdown",
   "metadata": {},
   "source": [
    "### Detailed Steps to Train a Custom Named Entity Recognition (NER) Model\n",
    "\n",
    "In this section, we break down the process of training a custom NER model into three key steps. We aim to offer a clear and comprehensive explanation suitable for a classroom setting.\n",
    "\n",
    "#### Step 1: Loading a Pre-Trained Language Model\n",
    "\n",
    "To kick off our custom NER model training, we start by utilizing a pre-trained language model - specifically, one that is already fine-tuned to understand Portuguese. The power of using such a pre-trained model lies in its existing linguistic understanding. By leveraging previous learning, it provides our model with a significant headstart, which results in quicker training times and improved performance. This pre-trained model serves as a robust foundation on which we can construct our task-specific training.\n",
    "\n",
    "#### Step 2: Fine-Tuning the Language Model with Domain-Specific Text\n",
    "\n",
    "Once we have the base foundation set up, we proceed to the fine-tuning phase. During this stage, we 'specialize' our pre-trained language model further by exposing it to our specific dataset. This dataset contains text that directly pertains to the domain in which we'd like our model to operate. By aligning our pre-trained model with the peculiarities, styles, and common patterns found in our particular dataset, we help it grasp and adjust to these unique contextual aspects. In essence, the model learns the kind of language \"jargon\" or nuances associated with our specific domain.\n",
    "\n",
    "#### Step 3: Training the NER Model using the Fine-Tuned LM\n",
    "\n",
    "With a domain-adapted, fine-tuned language model in place, we're ready to focus on our primary goal - named entity recognition. We train our NER model using the outputs from the previously fine-tuned language model. The fine-tuned model generates what's known as 'embeddings' for each token in our text. These embeddings are high-dimensional numerical representations that capture various semantic aspects of the tokens.\n",
    "\n",
    "Our NER model then learns how to utilize these embeddings to identify and classify named entities within our domain-specific content. It essentially maps these learned embeddings to specific named entity categories. Consequently, our model becomes proficient at identifying and classifying entities within the input text as per the categories defined by us. \n",
    "\n",
    "The entire process, from initial loading of a pre-trained model through fine-tuning it with domain-specific data, to finally using it for training the NER model, creates a powerful sequence that enables our custom model to perform excellently at its designated Named Entity Recognition tasks."
   ]
  },
  {
   "cell_type": "markdown",
   "metadata": {},
   "source": [
    "#### Step 1: Loading a Pre-Trained Language Model"
   ]
  },
  {
   "cell_type": "code",
   "execution_count": 124,
   "metadata": {},
   "outputs": [
    {
     "name": "stderr",
     "output_type": "stream",
     "text": [
      "/home/jacob/miniforge3/envs/imd1107/lib/python3.11/site-packages/transformers/tokenization_utils_base.py:1601: FutureWarning:\n",
      "\n",
      "`clean_up_tokenization_spaces` was not set. It will be set to `True` by default. This behavior will be depracted in transformers v4.45, and will be then set to `False` by default. For more details check this issue: https://github.com/huggingface/transformers/issues/31884\n",
      "\n",
      "Some weights of the model checkpoint at neuralmind/bert-base-portuguese-cased were not used when initializing BertForMaskedLM: ['bert.pooler.dense.bias', 'bert.pooler.dense.weight', 'cls.seq_relationship.bias', 'cls.seq_relationship.weight']\n",
      "- This IS expected if you are initializing BertForMaskedLM from the checkpoint of a model trained on another task or with another architecture (e.g. initializing a BertForSequenceClassification model from a BertForPreTraining model).\n",
      "- This IS NOT expected if you are initializing BertForMaskedLM from the checkpoint of a model that you expect to be exactly identical (initializing a BertForSequenceClassification model from a BertForSequenceClassification model).\n"
     ]
    }
   ],
   "source": [
    "from transformers import AutoTokenizer, AutoModelForTokenClassification, AutoModelForMaskedLM, pipeline, AutoConfig\n",
    "from datasets import load_dataset\n",
    "from pathlib import Path\n",
    "import torch\n",
    "\n",
    "model_checkpoint = \"neuralmind/bert-base-portuguese-cased\"\n",
    "tokenizer = AutoTokenizer.from_pretrained(model_checkpoint)\n",
    "model = AutoModelForMaskedLM.from_pretrained(model_checkpoint)\n",
    "\n",
    "lener_train = load_dataset('lener_br', split='train')\n",
    "lener_valid = load_dataset('lener_br', split='validation')\n",
    "lener_test = load_dataset('lener_br', split='test')"
   ]
  },
  {
   "cell_type": "code",
   "execution_count": 126,
   "metadata": {},
   "outputs": [
    {
     "data": {
      "text/plain": [
       "'Verificando-se que a incapaz foi acompanhada de seu representante legal , bem como por Advogado , o qual exerceu com regularidade o contraditório e a ampla defesa , a ausência de intimação do parquet não se erige em vício suficiente para macular de nulidade o processo .'"
      ]
     },
     "execution_count": 126,
     "metadata": {},
     "output_type": "execute_result"
    }
   ],
   "source": [
    "train_dataset = [' '.join(tokens) for tokens in lener_train['tokens']]\n",
    "valid_dataset = [' '.join(tokens) for tokens in lener_valid['tokens']]\n",
    "test_dataset = [' '.join(tokens) for tokens in lener_test['tokens']]\n",
    "\n",
    "# merge train and valid datasets\n",
    "train_dataset = train_dataset + valid_dataset\n",
    "\n",
    "train_dataset[10]"
   ]
  },
  {
   "cell_type": "code",
   "execution_count": 127,
   "metadata": {},
   "outputs": [
    {
     "data": {
      "text/plain": [
       "Dataset({\n",
       "    features: ['text'],\n",
       "    num_rows: 9005\n",
       "})"
      ]
     },
     "execution_count": 127,
     "metadata": {},
     "output_type": "execute_result"
    }
   ],
   "source": [
    "# create huggingface datasets from the lists of texts\n",
    "\n",
    "from datasets import Dataset\n",
    "\n",
    "train_dataset = Dataset.from_dict({'text': train_dataset})\n",
    "test_dataset = Dataset.from_dict({'text': test_dataset})\n",
    "\n",
    "train_dataset = train_dataset.shuffle(seed=271828)\n",
    "train_dataset\n"
   ]
  },
  {
   "cell_type": "markdown",
   "metadata": {},
   "source": [
    "#### Step 2: Fine-Tuning the Language Model with Domain-Specific Text\n"
   ]
  },
  {
   "cell_type": "code",
   "execution_count": 128,
   "metadata": {},
   "outputs": [],
   "source": [
    "path_to_save_lm = Path('./outputs/bert_masked_lm')\n",
    "path_to_save_lm.mkdir(parents=True, exist_ok=True)"
   ]
  },
  {
   "cell_type": "code",
   "execution_count": 129,
   "metadata": {},
   "outputs": [
    {
     "data": {
      "application/vnd.jupyter.widget-view+json": {
       "model_id": "a7ab89545a3b40fabc3f42defbc33710",
       "version_major": 2,
       "version_minor": 0
      },
      "text/plain": [
       "Map:   0%|          | 0/9005 [00:00<?, ? examples/s]"
      ]
     },
     "metadata": {},
     "output_type": "display_data"
    },
    {
     "data": {
      "application/vnd.jupyter.widget-view+json": {
       "model_id": "2c7de89494bf48df85bc220790b8b426",
       "version_major": 2,
       "version_minor": 0
      },
      "text/plain": [
       "Map:   0%|          | 0/1390 [00:00<?, ? examples/s]"
      ]
     },
     "metadata": {},
     "output_type": "display_data"
    }
   ],
   "source": [
    "def tokenize_function(examples):\n",
    "    \"\"\"\n",
    "    Tokenizes the input text in the given examples using the tokenizer object.\n",
    "\n",
    "    Args:\n",
    "    - examples: A dictionary containing the input text to be tokenized.\n",
    "\n",
    "    Returns:\n",
    "    - A dictionary containing the tokenized input text.\n",
    "    \"\"\"\n",
    "    result = tokenizer(examples[\"text\"])\n",
    "    if tokenizer.is_fast:\n",
    "        result[\"word_ids\"] = [result.word_ids(i) for i in range(len(result[\"input_ids\"]))]\n",
    "    return result\n",
    "\n",
    "# Tokenize the datasets. This is the step where we convert the text to numerical representations of the tokens\n",
    "tokenized_train = train_dataset.map(\n",
    "    tokenize_function, batched=True, remove_columns=[\"text\"]\n",
    ")\n",
    "tokenized_test = test_dataset.map(\n",
    "    tokenize_function, batched=True, remove_columns=[\"text\"]\n",
    ")\n"
   ]
  },
  {
   "cell_type": "code",
   "execution_count": 130,
   "metadata": {},
   "outputs": [
    {
     "data": {
      "text/plain": [
       "Dataset({\n",
       "    features: ['input_ids', 'token_type_ids', 'attention_mask', 'word_ids'],\n",
       "    num_rows: 9005\n",
       "})"
      ]
     },
     "execution_count": 130,
     "metadata": {},
     "output_type": "execute_result"
    }
   ],
   "source": [
    "tokenized_train"
   ]
  },
  {
   "cell_type": "code",
   "execution_count": 131,
   "metadata": {},
   "outputs": [
    {
     "data": {
      "text/plain": [
       "{'input_ids': [101,\n",
       "  177,\n",
       "  22328,\n",
       "  5650,\n",
       "  22339,\n",
       "  22317,\n",
       "  248,\n",
       "  16484,\n",
       "  11635,\n",
       "  22317,\n",
       "  19893,\n",
       "  18504,\n",
       "  119,\n",
       "  102],\n",
       " 'token_type_ids': [0, 0, 0, 0, 0, 0, 0, 0, 0, 0, 0, 0, 0, 0],\n",
       " 'attention_mask': [1, 1, 1, 1, 1, 1, 1, 1, 1, 1, 1, 1, 1, 1],\n",
       " 'word_ids': [None, 0, 0, 0, 0, 0, 1, 1, 2, 2, 2, 2, 3, None]}"
      ]
     },
     "execution_count": 131,
     "metadata": {},
     "output_type": "execute_result"
    }
   ],
   "source": [
    "tokenized_train[0]"
   ]
  },
  {
   "cell_type": "code",
   "execution_count": 132,
   "metadata": {},
   "outputs": [
    {
     "name": "stdout",
     "output_type": "stream",
     "text": [
      "The number of tokens in the 0th text is 14\n",
      "The number of tokens in the 1th text is 13\n",
      "The number of tokens in the 2th text is 12\n",
      "The number of tokens in the 3th text is 20\n",
      "The number of tokens in the 4th text is 15\n",
      "The number of tokens in the 5th text is 23\n",
      "The number of tokens in the 6th text is 132\n",
      "The number of tokens in the 7th text is 65\n",
      "The number of tokens in the 8th text is 20\n",
      "The number of tokens in the 9th text is 59\n",
      "The number of tokens in the 10th text is 23\n",
      "The number of tokens in the 11th text is 4\n",
      "The number of tokens in the 12th text is 108\n",
      "The number of tokens in the 13th text is 73\n",
      "The number of tokens in the 14th text is 168\n",
      "The number of tokens in the 15th text is 22\n",
      "The number of tokens in the 16th text is 55\n",
      "The number of tokens in the 17th text is 23\n",
      "The number of tokens in the 18th text is 31\n",
      "The number of tokens in the 19th text is 64\n",
      "The number of tokens in the 20th text is 68\n",
      "The number of tokens in the 21th text is 18\n",
      "The number of tokens in the 22th text is 66\n",
      "The number of tokens in the 23th text is 8\n",
      "The number of tokens in the 24th text is 46\n",
      "The number of tokens in the 25th text is 40\n",
      "The number of tokens in the 26th text is 23\n",
      "The number of tokens in the 27th text is 12\n",
      "The number of tokens in the 28th text is 27\n",
      "The number of tokens in the 29th text is 109\n"
     ]
    }
   ],
   "source": [
    "for i in range(30):\n",
    "    print(f'The number of tokens in the {i}th text is {len(tokenized_train[i][\"input_ids\"])}')"
   ]
  },
  {
   "cell_type": "code",
   "execution_count": 133,
   "metadata": {},
   "outputs": [
    {
     "data": {
      "application/vnd.jupyter.widget-view+json": {
       "model_id": "8e610b093007497797a37bdc23756c3d",
       "version_major": 2,
       "version_minor": 0
      },
      "text/plain": [
       "Map:   0%|          | 0/9005 [00:00<?, ? examples/s]"
      ]
     },
     "metadata": {},
     "output_type": "display_data"
    },
    {
     "data": {
      "application/vnd.jupyter.widget-view+json": {
       "model_id": "e2ff0ed368ee4681b63dbe7f2092aa54",
       "version_major": 2,
       "version_minor": 0
      },
      "text/plain": [
       "Map:   0%|          | 0/1390 [00:00<?, ? examples/s]"
      ]
     },
     "metadata": {},
     "output_type": "display_data"
    }
   ],
   "source": [
    "def group_texts(examples):\n",
    "    \"\"\"\n",
    "    This function groups together a set of texts as contiguous text of fixed length (chunk_size). It's useful for training masked language models.\n",
    "\n",
    "    Args:\n",
    "    - examples: A dictionary containing the examples to group. Each key corresponds to a feature, and each value is a list of lists of tokens.\n",
    "\n",
    "    Returns:\n",
    "    - A dictionary containing the grouped examples. Each key corresponds to a feature, and each value is a list of lists of tokens.\n",
    "    \"\"\"\n",
    "    # Concatenate all texts\n",
    "    concatenated_examples = {k: sum(examples[k], []) for k in examples.keys()}\n",
    "    # Compute length of concatenated texts\n",
    "    total_length = len(concatenated_examples[list(examples.keys())[0]])\n",
    "    # We drop the last chunk if it's smaller than chunk_size\n",
    "    total_length = (total_length // chunk_size) * chunk_size\n",
    "    # Split by chunks of max_len\n",
    "    result = {\n",
    "        k: [t[i : i + chunk_size] for i in range(0, total_length, chunk_size)]\n",
    "        for k, t in concatenated_examples.items()\n",
    "    }\n",
    "    # Create a new labels column\n",
    "    result[\"labels\"] = result[\"input_ids\"].copy()\n",
    "    return result\n",
    "\n",
    "chunk_size = 512\n",
    "\n",
    "tokenized_train = tokenized_train.map(\n",
    "    group_texts,\n",
    "    batched=True,\n",
    ")\n",
    "\n",
    "tokenized_test = tokenized_test.map(\n",
    "    group_texts,\n",
    "    batched=True,\n",
    ")"
   ]
  },
  {
   "cell_type": "code",
   "execution_count": 134,
   "metadata": {},
   "outputs": [
    {
     "name": "stdout",
     "output_type": "stream",
     "text": [
      "The number of tokens in the 0th text is 512\n",
      "The number of tokens in the 1th text is 512\n",
      "The number of tokens in the 2th text is 512\n",
      "The number of tokens in the 3th text is 512\n",
      "The number of tokens in the 4th text is 512\n",
      "The number of tokens in the 5th text is 512\n",
      "The number of tokens in the 6th text is 512\n",
      "The number of tokens in the 7th text is 512\n",
      "The number of tokens in the 8th text is 512\n",
      "The number of tokens in the 9th text is 512\n",
      "The number of tokens in the 10th text is 512\n",
      "The number of tokens in the 11th text is 512\n",
      "The number of tokens in the 12th text is 512\n",
      "The number of tokens in the 13th text is 512\n",
      "The number of tokens in the 14th text is 512\n",
      "The number of tokens in the 15th text is 512\n",
      "The number of tokens in the 16th text is 512\n",
      "The number of tokens in the 17th text is 512\n",
      "The number of tokens in the 18th text is 512\n",
      "The number of tokens in the 19th text is 512\n",
      "The number of tokens in the 20th text is 512\n",
      "The number of tokens in the 21th text is 512\n",
      "The number of tokens in the 22th text is 512\n",
      "The number of tokens in the 23th text is 512\n",
      "The number of tokens in the 24th text is 512\n",
      "The number of tokens in the 25th text is 512\n",
      "The number of tokens in the 26th text is 512\n",
      "The number of tokens in the 27th text is 512\n",
      "The number of tokens in the 28th text is 512\n",
      "The number of tokens in the 29th text is 512\n"
     ]
    }
   ],
   "source": [
    "for i in range(30):\n",
    "    print(f'The number of tokens in the {i}th text is {len(tokenized_train[i][\"input_ids\"])}')"
   ]
  },
  {
   "cell_type": "code",
   "execution_count": 135,
   "metadata": {},
   "outputs": [
    {
     "data": {
      "text/plain": [
       "\"do fato de o desertor encontrar - se com sua namorada ( jovem ) grávida, revela - se importante trazermos à baila os ensinamentos dos ilustres professores Eugênio Zaffaroni e José Henrique Pierangeli, verbis :'Todo sujeito age numa circunstância dada e com um âmbito de autodeterminação também dado. [SEP] [CLS] NA AÇÃO CÍVEL ORIGINÁRIA 2. 821 PROCED. : MATO GROSSO RELATOR : MIN. RICARDO LEWANDOWSKI AGTE. ( S ) : UNIÃO ADV. ( A / S ) : ADVOGADO - GERAL DA UNIÃO AGDO. ( A / S ) : ESTADO DE MATO GROSSO PROC. ( A / S ) ( ES ) : PROCURADOR - GERAL DO ESTADO DE MATO GROSSO Decisão : O Tribunal, por unanimidade, negou provimento ao agravo regimental, nos termos do voto do Relator. [SEP] [CLS] PRESSUPOSTO RECURSAL NÃO OBSERVADO. [SEP] [CLS] O STF, em julgados recentes, concluiu que a Constituição Federal não define o momento em que ocorrem o fato gerador, a base de cálculo e a exigibilidade da contribuição previdenciária, podendo assim tais matérias ser disciplinadas por lei ordinária. [SEP] [CLS] INCIDÊNCIA DA SÚMULA [UNK] 410 DO STJ. [SEP] [CLS] RELATOR : MINISTRO GEN EX LUIS CARLOS GOMES MATTOS. [SEP] [CLS] 604. 446 / RJ, Rel. Min. HERMAN BENJAMIN, DJe 18. 11. 2015 ; AR 3. 993 / RJ, Rel. Min. LUIS FELIPE SALOMÃO, DJe 3. 3. 2015. [SEP] [CLS] Insurge - se a recorrente em face do acórdão revisando aduzindo que o mesmo fora proferido com violação ao art. 62, I, da CLT, ao não reconhecer que o labor desenvolvido pelo reclamante está inserido na atividade caracterizada como exercente de atividade externa, sem controle de horário. [SEP] [CLS] ` ` PROCESSUAL PENAL\""
      ]
     },
     "execution_count": 135,
     "metadata": {},
     "output_type": "execute_result"
    }
   ],
   "source": [
    "tokenizer.decode(tokenized_train[1][\"input_ids\"])"
   ]
  },
  {
   "cell_type": "code",
   "execution_count": 136,
   "metadata": {},
   "outputs": [],
   "source": [
    "from transformers import DataCollatorForLanguageModeling\n",
    "\n",
    "data_collator = DataCollatorForLanguageModeling(tokenizer=tokenizer, mlm_probability=0.15)\n"
   ]
  },
  {
   "cell_type": "code",
   "execution_count": 141,
   "metadata": {},
   "outputs": [],
   "source": [
    "from transformers import TrainingArguments\n",
    "\n",
    "# Define the batch size for training\n",
    "training_batch_size = 24\n",
    "\n",
    "# Extract the model name from the model checkpoint\n",
    "model_name = model_checkpoint.split(\"/\")[-1]\n",
    "\n",
    "# Define the training arguments\n",
    "training_arguments = TrainingArguments(\n",
    "    # Define the output directory for the trained model\n",
    "    output_dir=path_to_save_lm / f\"{model_name}-finetuned-lener\",\n",
    "    # Overwrite the output directory if it already exists\n",
    "    overwrite_output_dir=True,\n",
    "    # Evaluate the model after every epoch\n",
    "    eval_strategy=\"epoch\",\n",
    "    # Set the learning rate\n",
    "    learning_rate=3e-5,\n",
    "    # Set the weight decay\n",
    "    weight_decay=0.01,\n",
    "    # Set the batch size for training\n",
    "    per_device_train_batch_size=training_batch_size,\n",
    "    # Set the batch size for evaluation\n",
    "    per_device_eval_batch_size=training_batch_size,\n",
    "    # Use mixed precision training\n",
    "    bf16=True,\n",
    "    # Log the training loss after every 5 steps\n",
    "    logging_steps=5,\n",
    "    # Log strategy\n",
    "    logging_strategy='steps',\n",
    "    # Train the model for 20 epochs\n",
    "    num_train_epochs=20,\n",
    "    # Save only the best model\n",
    "    save_total_limit=1,\n",
    "    # Save the model after every epoch\n",
    "    save_strategy='epoch',\n",
    "    # Load the best model at the end of training\n",
    "    load_best_model_at_end=True,\n",
    "    # Use the evaluation loss to determine the best model\n",
    "    metric_for_best_model=\"eval_loss\",\n",
    "    # Lower evaluation loss is better\n",
    "    greater_is_better=False,\n",
    "    # Accumulate gradients for 1 steps before performing an update\n",
    "    gradient_accumulation_steps=1,\n",
    "    # Set the random seed for reproducibility\n",
    "    seed=271828,\n",
    ")"
   ]
  },
  {
   "cell_type": "code",
   "execution_count": 142,
   "metadata": {},
   "outputs": [],
   "source": [
    "from transformers import Trainer\n",
    "\n",
    "trainer = Trainer(\n",
    "    model=model,\n",
    "    args=training_arguments,\n",
    "    train_dataset=tokenized_train,\n",
    "    eval_dataset=tokenized_test,\n",
    "    data_collator=data_collator,\n",
    "    tokenizer=tokenizer,\n",
    ")\n"
   ]
  },
  {
   "cell_type": "code",
   "execution_count": 143,
   "metadata": {},
   "outputs": [
    {
     "name": "stderr",
     "output_type": "stream",
     "text": [
      "/home/jacob/miniforge3/envs/imd1107/lib/python3.11/site-packages/torch/nn/parallel/parallel_apply.py:79: FutureWarning:\n",
      "\n",
      "`torch.cuda.amp.autocast(args...)` is deprecated. Please use `torch.amp.autocast('cuda', args...)` instead.\n",
      "\n",
      "/home/jacob/miniforge3/envs/imd1107/lib/python3.11/site-packages/torch/nn/parallel/_functions.py:68: UserWarning:\n",
      "\n",
      "Was asked to gather along dimension 0, but all input tensors were scalars; will instead unsqueeze and return a vector.\n",
      "\n"
     ]
    },
    {
     "data": {
      "text/html": [
       "\n",
       "    <div>\n",
       "      \n",
       "      <progress value='360' max='360' style='width:300px; height:20px; vertical-align: middle;'></progress>\n",
       "      [360/360 10:28, Epoch 20/20]\n",
       "    </div>\n",
       "    <table border=\"1\" class=\"dataframe\">\n",
       "  <thead>\n",
       " <tr style=\"text-align: left;\">\n",
       "      <th>Epoch</th>\n",
       "      <th>Training Loss</th>\n",
       "      <th>Validation Loss</th>\n",
       "    </tr>\n",
       "  </thead>\n",
       "  <tbody>\n",
       "    <tr>\n",
       "      <td>1</td>\n",
       "      <td>1.285800</td>\n",
       "      <td>1.110343</td>\n",
       "    </tr>\n",
       "    <tr>\n",
       "      <td>2</td>\n",
       "      <td>1.205400</td>\n",
       "      <td>1.074170</td>\n",
       "    </tr>\n",
       "    <tr>\n",
       "      <td>3</td>\n",
       "      <td>1.200500</td>\n",
       "      <td>1.060949</td>\n",
       "    </tr>\n",
       "    <tr>\n",
       "      <td>4</td>\n",
       "      <td>1.176100</td>\n",
       "      <td>1.036157</td>\n",
       "    </tr>\n",
       "    <tr>\n",
       "      <td>5</td>\n",
       "      <td>1.135800</td>\n",
       "      <td>1.058085</td>\n",
       "    </tr>\n",
       "    <tr>\n",
       "      <td>6</td>\n",
       "      <td>1.115000</td>\n",
       "      <td>1.031998</td>\n",
       "    </tr>\n",
       "    <tr>\n",
       "      <td>7</td>\n",
       "      <td>1.100200</td>\n",
       "      <td>1.023526</td>\n",
       "    </tr>\n",
       "    <tr>\n",
       "      <td>8</td>\n",
       "      <td>1.081600</td>\n",
       "      <td>1.056674</td>\n",
       "    </tr>\n",
       "    <tr>\n",
       "      <td>9</td>\n",
       "      <td>1.083500</td>\n",
       "      <td>0.998244</td>\n",
       "    </tr>\n",
       "    <tr>\n",
       "      <td>10</td>\n",
       "      <td>1.071600</td>\n",
       "      <td>1.017125</td>\n",
       "    </tr>\n",
       "    <tr>\n",
       "      <td>11</td>\n",
       "      <td>1.053300</td>\n",
       "      <td>1.002458</td>\n",
       "    </tr>\n",
       "    <tr>\n",
       "      <td>12</td>\n",
       "      <td>1.019600</td>\n",
       "      <td>1.016127</td>\n",
       "    </tr>\n",
       "    <tr>\n",
       "      <td>13</td>\n",
       "      <td>1.038500</td>\n",
       "      <td>1.039811</td>\n",
       "    </tr>\n",
       "    <tr>\n",
       "      <td>14</td>\n",
       "      <td>1.017400</td>\n",
       "      <td>0.989593</td>\n",
       "    </tr>\n",
       "    <tr>\n",
       "      <td>15</td>\n",
       "      <td>1.023800</td>\n",
       "      <td>0.973164</td>\n",
       "    </tr>\n",
       "    <tr>\n",
       "      <td>16</td>\n",
       "      <td>1.029100</td>\n",
       "      <td>1.004841</td>\n",
       "    </tr>\n",
       "    <tr>\n",
       "      <td>17</td>\n",
       "      <td>1.041100</td>\n",
       "      <td>1.007121</td>\n",
       "    </tr>\n",
       "    <tr>\n",
       "      <td>18</td>\n",
       "      <td>1.011200</td>\n",
       "      <td>1.007037</td>\n",
       "    </tr>\n",
       "    <tr>\n",
       "      <td>19</td>\n",
       "      <td>1.015900</td>\n",
       "      <td>1.031323</td>\n",
       "    </tr>\n",
       "    <tr>\n",
       "      <td>20</td>\n",
       "      <td>1.004000</td>\n",
       "      <td>1.004582</td>\n",
       "    </tr>\n",
       "  </tbody>\n",
       "</table><p>"
      ],
      "text/plain": [
       "<IPython.core.display.HTML object>"
      ]
     },
     "metadata": {},
     "output_type": "display_data"
    },
    {
     "name": "stderr",
     "output_type": "stream",
     "text": [
      "/home/jacob/miniforge3/envs/imd1107/lib/python3.11/site-packages/torch/nn/parallel/parallel_apply.py:79: FutureWarning:\n",
      "\n",
      "`torch.cuda.amp.autocast(args...)` is deprecated. Please use `torch.amp.autocast('cuda', args...)` instead.\n",
      "\n",
      "/home/jacob/miniforge3/envs/imd1107/lib/python3.11/site-packages/torch/nn/parallel/_functions.py:68: UserWarning:\n",
      "\n",
      "Was asked to gather along dimension 0, but all input tensors were scalars; will instead unsqueeze and return a vector.\n",
      "\n",
      "/home/jacob/miniforge3/envs/imd1107/lib/python3.11/site-packages/torch/nn/parallel/parallel_apply.py:79: FutureWarning:\n",
      "\n",
      "`torch.cuda.amp.autocast(args...)` is deprecated. Please use `torch.amp.autocast('cuda', args...)` instead.\n",
      "\n",
      "/home/jacob/miniforge3/envs/imd1107/lib/python3.11/site-packages/torch/nn/parallel/_functions.py:68: UserWarning:\n",
      "\n",
      "Was asked to gather along dimension 0, but all input tensors were scalars; will instead unsqueeze and return a vector.\n",
      "\n",
      "/home/jacob/miniforge3/envs/imd1107/lib/python3.11/site-packages/torch/nn/parallel/parallel_apply.py:79: FutureWarning:\n",
      "\n",
      "`torch.cuda.amp.autocast(args...)` is deprecated. Please use `torch.amp.autocast('cuda', args...)` instead.\n",
      "\n",
      "/home/jacob/miniforge3/envs/imd1107/lib/python3.11/site-packages/torch/nn/parallel/_functions.py:68: UserWarning:\n",
      "\n",
      "Was asked to gather along dimension 0, but all input tensors were scalars; will instead unsqueeze and return a vector.\n",
      "\n",
      "/home/jacob/miniforge3/envs/imd1107/lib/python3.11/site-packages/torch/nn/parallel/parallel_apply.py:79: FutureWarning:\n",
      "\n",
      "`torch.cuda.amp.autocast(args...)` is deprecated. Please use `torch.amp.autocast('cuda', args...)` instead.\n",
      "\n",
      "/home/jacob/miniforge3/envs/imd1107/lib/python3.11/site-packages/torch/nn/parallel/_functions.py:68: UserWarning:\n",
      "\n",
      "Was asked to gather along dimension 0, but all input tensors were scalars; will instead unsqueeze and return a vector.\n",
      "\n",
      "/home/jacob/miniforge3/envs/imd1107/lib/python3.11/site-packages/torch/nn/parallel/parallel_apply.py:79: FutureWarning:\n",
      "\n",
      "`torch.cuda.amp.autocast(args...)` is deprecated. Please use `torch.amp.autocast('cuda', args...)` instead.\n",
      "\n",
      "/home/jacob/miniforge3/envs/imd1107/lib/python3.11/site-packages/torch/nn/parallel/_functions.py:68: UserWarning:\n",
      "\n",
      "Was asked to gather along dimension 0, but all input tensors were scalars; will instead unsqueeze and return a vector.\n",
      "\n",
      "/home/jacob/miniforge3/envs/imd1107/lib/python3.11/site-packages/torch/nn/parallel/parallel_apply.py:79: FutureWarning:\n",
      "\n",
      "`torch.cuda.amp.autocast(args...)` is deprecated. Please use `torch.amp.autocast('cuda', args...)` instead.\n",
      "\n",
      "/home/jacob/miniforge3/envs/imd1107/lib/python3.11/site-packages/torch/nn/parallel/_functions.py:68: UserWarning:\n",
      "\n",
      "Was asked to gather along dimension 0, but all input tensors were scalars; will instead unsqueeze and return a vector.\n",
      "\n",
      "/home/jacob/miniforge3/envs/imd1107/lib/python3.11/site-packages/torch/nn/parallel/parallel_apply.py:79: FutureWarning:\n",
      "\n",
      "`torch.cuda.amp.autocast(args...)` is deprecated. Please use `torch.amp.autocast('cuda', args...)` instead.\n",
      "\n",
      "/home/jacob/miniforge3/envs/imd1107/lib/python3.11/site-packages/torch/nn/parallel/_functions.py:68: UserWarning:\n",
      "\n",
      "Was asked to gather along dimension 0, but all input tensors were scalars; will instead unsqueeze and return a vector.\n",
      "\n",
      "/home/jacob/miniforge3/envs/imd1107/lib/python3.11/site-packages/torch/nn/parallel/parallel_apply.py:79: FutureWarning:\n",
      "\n",
      "`torch.cuda.amp.autocast(args...)` is deprecated. Please use `torch.amp.autocast('cuda', args...)` instead.\n",
      "\n",
      "/home/jacob/miniforge3/envs/imd1107/lib/python3.11/site-packages/torch/nn/parallel/_functions.py:68: UserWarning:\n",
      "\n",
      "Was asked to gather along dimension 0, but all input tensors were scalars; will instead unsqueeze and return a vector.\n",
      "\n",
      "/home/jacob/miniforge3/envs/imd1107/lib/python3.11/site-packages/torch/nn/parallel/parallel_apply.py:79: FutureWarning:\n",
      "\n",
      "`torch.cuda.amp.autocast(args...)` is deprecated. Please use `torch.amp.autocast('cuda', args...)` instead.\n",
      "\n",
      "/home/jacob/miniforge3/envs/imd1107/lib/python3.11/site-packages/torch/nn/parallel/_functions.py:68: UserWarning:\n",
      "\n",
      "Was asked to gather along dimension 0, but all input tensors were scalars; will instead unsqueeze and return a vector.\n",
      "\n",
      "/home/jacob/miniforge3/envs/imd1107/lib/python3.11/site-packages/torch/nn/parallel/parallel_apply.py:79: FutureWarning:\n",
      "\n",
      "`torch.cuda.amp.autocast(args...)` is deprecated. Please use `torch.amp.autocast('cuda', args...)` instead.\n",
      "\n",
      "/home/jacob/miniforge3/envs/imd1107/lib/python3.11/site-packages/torch/nn/parallel/_functions.py:68: UserWarning:\n",
      "\n",
      "Was asked to gather along dimension 0, but all input tensors were scalars; will instead unsqueeze and return a vector.\n",
      "\n",
      "/home/jacob/miniforge3/envs/imd1107/lib/python3.11/site-packages/torch/nn/parallel/parallel_apply.py:79: FutureWarning:\n",
      "\n",
      "`torch.cuda.amp.autocast(args...)` is deprecated. Please use `torch.amp.autocast('cuda', args...)` instead.\n",
      "\n",
      "/home/jacob/miniforge3/envs/imd1107/lib/python3.11/site-packages/torch/nn/parallel/_functions.py:68: UserWarning:\n",
      "\n",
      "Was asked to gather along dimension 0, but all input tensors were scalars; will instead unsqueeze and return a vector.\n",
      "\n",
      "/home/jacob/miniforge3/envs/imd1107/lib/python3.11/site-packages/torch/nn/parallel/parallel_apply.py:79: FutureWarning:\n",
      "\n",
      "`torch.cuda.amp.autocast(args...)` is deprecated. Please use `torch.amp.autocast('cuda', args...)` instead.\n",
      "\n",
      "/home/jacob/miniforge3/envs/imd1107/lib/python3.11/site-packages/torch/nn/parallel/_functions.py:68: UserWarning:\n",
      "\n",
      "Was asked to gather along dimension 0, but all input tensors were scalars; will instead unsqueeze and return a vector.\n",
      "\n",
      "/home/jacob/miniforge3/envs/imd1107/lib/python3.11/site-packages/torch/nn/parallel/parallel_apply.py:79: FutureWarning:\n",
      "\n",
      "`torch.cuda.amp.autocast(args...)` is deprecated. Please use `torch.amp.autocast('cuda', args...)` instead.\n",
      "\n",
      "/home/jacob/miniforge3/envs/imd1107/lib/python3.11/site-packages/torch/nn/parallel/_functions.py:68: UserWarning:\n",
      "\n",
      "Was asked to gather along dimension 0, but all input tensors were scalars; will instead unsqueeze and return a vector.\n",
      "\n",
      "/home/jacob/miniforge3/envs/imd1107/lib/python3.11/site-packages/torch/nn/parallel/parallel_apply.py:79: FutureWarning:\n",
      "\n",
      "`torch.cuda.amp.autocast(args...)` is deprecated. Please use `torch.amp.autocast('cuda', args...)` instead.\n",
      "\n",
      "/home/jacob/miniforge3/envs/imd1107/lib/python3.11/site-packages/torch/nn/parallel/_functions.py:68: UserWarning:\n",
      "\n",
      "Was asked to gather along dimension 0, but all input tensors were scalars; will instead unsqueeze and return a vector.\n",
      "\n",
      "/home/jacob/miniforge3/envs/imd1107/lib/python3.11/site-packages/torch/nn/parallel/parallel_apply.py:79: FutureWarning:\n",
      "\n",
      "`torch.cuda.amp.autocast(args...)` is deprecated. Please use `torch.amp.autocast('cuda', args...)` instead.\n",
      "\n",
      "/home/jacob/miniforge3/envs/imd1107/lib/python3.11/site-packages/torch/nn/parallel/_functions.py:68: UserWarning:\n",
      "\n",
      "Was asked to gather along dimension 0, but all input tensors were scalars; will instead unsqueeze and return a vector.\n",
      "\n",
      "/home/jacob/miniforge3/envs/imd1107/lib/python3.11/site-packages/torch/nn/parallel/parallel_apply.py:79: FutureWarning:\n",
      "\n",
      "`torch.cuda.amp.autocast(args...)` is deprecated. Please use `torch.amp.autocast('cuda', args...)` instead.\n",
      "\n",
      "/home/jacob/miniforge3/envs/imd1107/lib/python3.11/site-packages/torch/nn/parallel/_functions.py:68: UserWarning:\n",
      "\n",
      "Was asked to gather along dimension 0, but all input tensors were scalars; will instead unsqueeze and return a vector.\n",
      "\n",
      "/home/jacob/miniforge3/envs/imd1107/lib/python3.11/site-packages/torch/nn/parallel/parallel_apply.py:79: FutureWarning:\n",
      "\n",
      "`torch.cuda.amp.autocast(args...)` is deprecated. Please use `torch.amp.autocast('cuda', args...)` instead.\n",
      "\n",
      "/home/jacob/miniforge3/envs/imd1107/lib/python3.11/site-packages/torch/nn/parallel/_functions.py:68: UserWarning:\n",
      "\n",
      "Was asked to gather along dimension 0, but all input tensors were scalars; will instead unsqueeze and return a vector.\n",
      "\n",
      "/home/jacob/miniforge3/envs/imd1107/lib/python3.11/site-packages/torch/nn/parallel/parallel_apply.py:79: FutureWarning:\n",
      "\n",
      "`torch.cuda.amp.autocast(args...)` is deprecated. Please use `torch.amp.autocast('cuda', args...)` instead.\n",
      "\n",
      "/home/jacob/miniforge3/envs/imd1107/lib/python3.11/site-packages/torch/nn/parallel/_functions.py:68: UserWarning:\n",
      "\n",
      "Was asked to gather along dimension 0, but all input tensors were scalars; will instead unsqueeze and return a vector.\n",
      "\n",
      "/home/jacob/miniforge3/envs/imd1107/lib/python3.11/site-packages/torch/nn/parallel/parallel_apply.py:79: FutureWarning:\n",
      "\n",
      "`torch.cuda.amp.autocast(args...)` is deprecated. Please use `torch.amp.autocast('cuda', args...)` instead.\n",
      "\n",
      "/home/jacob/miniforge3/envs/imd1107/lib/python3.11/site-packages/torch/nn/parallel/_functions.py:68: UserWarning:\n",
      "\n",
      "Was asked to gather along dimension 0, but all input tensors were scalars; will instead unsqueeze and return a vector.\n",
      "\n",
      "/home/jacob/miniforge3/envs/imd1107/lib/python3.11/site-packages/torch/nn/parallel/parallel_apply.py:79: FutureWarning:\n",
      "\n",
      "`torch.cuda.amp.autocast(args...)` is deprecated. Please use `torch.amp.autocast('cuda', args...)` instead.\n",
      "\n",
      "/home/jacob/miniforge3/envs/imd1107/lib/python3.11/site-packages/torch/nn/parallel/_functions.py:68: UserWarning:\n",
      "\n",
      "Was asked to gather along dimension 0, but all input tensors were scalars; will instead unsqueeze and return a vector.\n",
      "\n",
      "There were missing keys in the checkpoint model loaded: ['cls.predictions.decoder.weight', 'cls.predictions.decoder.bias'].\n"
     ]
    },
    {
     "data": {
      "text/plain": [
       "TrainOutput(global_step=360, training_loss=1.0889260013898214, metrics={'train_runtime': 629.3905, 'train_samples_per_second': 26.724, 'train_steps_per_second': 0.572, 'total_flos': 4427067334778880.0, 'train_loss': 1.0889260013898214, 'epoch': 20.0})"
      ]
     },
     "execution_count": 143,
     "metadata": {},
     "output_type": "execute_result"
    }
   ],
   "source": [
    "trainer.train()"
   ]
  },
  {
   "cell_type": "code",
   "execution_count": 147,
   "metadata": {},
   "outputs": [
    {
     "data": {
      "text/plain": [
       "('outputs/bert_masked_lm/bert-base-portuguese-cased-finetuned-lener/tokenizer_config.json',\n",
       " 'outputs/bert_masked_lm/bert-base-portuguese-cased-finetuned-lener/special_tokens_map.json',\n",
       " 'outputs/bert_masked_lm/bert-base-portuguese-cased-finetuned-lener/vocab.txt',\n",
       " 'outputs/bert_masked_lm/bert-base-portuguese-cased-finetuned-lener/added_tokens.json',\n",
       " 'outputs/bert_masked_lm/bert-base-portuguese-cased-finetuned-lener/tokenizer.json')"
      ]
     },
     "execution_count": 147,
     "metadata": {},
     "output_type": "execute_result"
    }
   ],
   "source": [
    "\n",
    "# Save the trained model\n",
    "trainer.save_model(path_to_save_lm / f\"{model_name}-finetuned-lener\")\n",
    "tokenizer.save_pretrained(path_to_save_lm / f\"{model_name}-finetuned-lener\")"
   ]
  },
  {
   "cell_type": "code",
   "execution_count": 148,
   "metadata": {},
   "outputs": [
    {
     "name": "stdout",
     "output_type": "stream",
     "text": [
      "outputs/bert_masked_lm/bert-base-portuguese-cased-finetuned-lener\n"
     ]
    }
   ],
   "source": [
    "print(path_to_save_lm / f\"{model_name}-finetuned-lener\")"
   ]
  },
  {
   "cell_type": "markdown",
   "metadata": {},
   "source": [
    "#### Step 3: Training the NER Model using the Fine-Tuned LM"
   ]
  },
  {
   "cell_type": "code",
   "execution_count": 149,
   "metadata": {},
   "outputs": [],
   "source": [
    "from transformers import AutoTokenizer, AutoModelForTokenClassification, AutoModelForMaskedLM, pipeline, AutoConfig\n",
    "from datasets import load_dataset\n",
    "from pathlib import Path\n",
    "import torch"
   ]
  },
  {
   "cell_type": "code",
   "execution_count": 150,
   "metadata": {},
   "outputs": [],
   "source": [
    "path_to_save_ner = Path('./outputs/bert_lener')\n",
    "path_to_save_ner.mkdir(parents=True, exist_ok=True)"
   ]
  },
  {
   "cell_type": "code",
   "execution_count": 151,
   "metadata": {},
   "outputs": [],
   "source": [
    "lener_train = load_dataset('lener_br', split='train')\n",
    "lener_valid = load_dataset('lener_br', split='validation')\n",
    "lener_test = load_dataset('lener_br', split='test')"
   ]
  },
  {
   "cell_type": "code",
   "execution_count": 152,
   "metadata": {},
   "outputs": [
    {
     "data": {
      "text/plain": [
       "Dataset({\n",
       "    features: ['id', 'tokens', 'ner_tags'],\n",
       "    num_rows: 7828\n",
       "})"
      ]
     },
     "execution_count": 152,
     "metadata": {},
     "output_type": "execute_result"
    }
   ],
   "source": [
    "lener_train"
   ]
  },
  {
   "cell_type": "code",
   "execution_count": 153,
   "metadata": {},
   "outputs": [],
   "source": [
    "# Clean GPU memory\n",
    "import torch\n",
    "import gc\n",
    "\n",
    "model = None\n",
    "trainer = None\n",
    "tokenizer = None\n",
    "gc.collect()\n",
    "torch.cuda.empty_cache()"
   ]
  },
  {
   "cell_type": "code",
   "execution_count": 154,
   "metadata": {},
   "outputs": [
    {
     "data": {
      "text/plain": [
       "{0: 'O',\n",
       " 1: 'B-ORGANIZACAO',\n",
       " 2: 'I-ORGANIZACAO',\n",
       " 3: 'B-PESSOA',\n",
       " 4: 'I-PESSOA',\n",
       " 5: 'B-TEMPO',\n",
       " 6: 'I-TEMPO',\n",
       " 7: 'B-LOCAL',\n",
       " 8: 'I-LOCAL',\n",
       " 9: 'B-LEGISLACAO',\n",
       " 10: 'I-LEGISLACAO',\n",
       " 11: 'B-JURISPRUDENCIA',\n",
       " 12: 'I-JURISPRUDENCIA'}"
      ]
     },
     "execution_count": 154,
     "metadata": {},
     "output_type": "execute_result"
    }
   ],
   "source": [
    "# Create a dictionary that maps integer IDs to label strings for named entity recognition (NER) tags\n",
    "# The dataset contains NER tags in the 'ner_tags' feature of the 'train' split\n",
    "# 'str2int' converts the string label to its corresponding integer ID\n",
    "# 'names' provides the list of all NER tag names\n",
    "id2label = {\n",
    "    lener_train.features['ner_tags'].feature.str2int(tag_name): tag_name\n",
    "    for tag_name in lener_train.features['ner_tags'].feature.names\n",
    "}\n",
    "\n",
    "# Display the created dictionary\n",
    "id2label"
   ]
  },
  {
   "cell_type": "code",
   "execution_count": 155,
   "metadata": {},
   "outputs": [
    {
     "name": "stderr",
     "output_type": "stream",
     "text": [
      "Some weights of BertForTokenClassification were not initialized from the model checkpoint at outputs/bert_masked_lm/bert-base-portuguese-cased-finetuned-lener and are newly initialized: ['classifier.bias', 'classifier.weight']\n",
      "You should probably TRAIN this model on a down-stream task to be able to use it for predictions and inference.\n"
     ]
    }
   ],
   "source": [
    "from transformers import AutoTokenizer\n",
    "\n",
    "model_checkpoint = Path('./outputs/bert_masked_lm/bert-base-portuguese-cased-finetuned-lener')\n",
    "\n",
    "# Load the tokenizer from the checkpoint\n",
    "tokenizer = AutoTokenizer.from_pretrained(model_checkpoint)\n",
    "# Create a label2id mapping by reversing the id2label mapping\n",
    "label2id_mapping = {v: k for k, v in id2label.items()}\n",
    "# Load the model from the checkpoint\n",
    "model = AutoModelForTokenClassification.from_pretrained(model_checkpoint, num_labels=len(id2label), id2label=id2label, label2id=label2id_mapping)\n",
    "\n"
   ]
  },
  {
   "cell_type": "code",
   "execution_count": 156,
   "metadata": {},
   "outputs": [],
   "source": [
    "label_all_tokens = True\n",
    "\n",
    "def tokenize_and_align_labels(examples: Dict[str, List[str]]) -> Dict[str, List[str]]:\n",
    "    \"\"\"\n",
    "    Tokenize the input words and align the labels with the tokens.\n",
    "\n",
    "    Args:\n",
    "        examples (Dict[str, List[str]]): A dictionary containing the input words and the corresponding labels.\n",
    "\n",
    "    Returns:\n",
    "        Dict[str, List[str]]: A dictionary containing the tokenized input words and the aligned labels.\n",
    "    \"\"\"\n",
    "    # Tokenize the input words\n",
    "    tokenized_inputs = tokenizer(examples[\"tokens\"], truncation=True, is_split_into_words=True, max_length=512)\n",
    "\n",
    "    # Initialize an empty list to store the aligned labels\n",
    "    aligned_labels = []\n",
    "\n",
    "    # Iterate over the labels\n",
    "    for i, label in enumerate(examples[\"ner_tags\"]):\n",
    "        # Get the word IDs for the current batch\n",
    "        word_ids = tokenized_inputs.word_ids(batch_index=i)\n",
    "        previous_word_idx = None\n",
    "        label_ids = []\n",
    "\n",
    "        # Iterate over the word IDs\n",
    "        for word_idx in word_ids:\n",
    "            # Special tokens have a word id that is None. We set the label to -100 so they are automatically\n",
    "            # ignored in the loss function.\n",
    "            if word_idx is None:\n",
    "                label_ids.append(-100)\n",
    "            # We set the label for the first token of each word.\n",
    "            elif word_idx != previous_word_idx:\n",
    "                label_ids.append(label[word_idx])\n",
    "            # For the other tokens in a word, we set the label to either the current label or -100, depending on\n",
    "            # the label_all_tokens flag.\n",
    "            else:\n",
    "                label_ids.append(label[word_idx] if label_all_tokens else -100)\n",
    "            previous_word_idx = word_idx\n",
    "\n",
    "        # Append the label IDs to the aligned labels\n",
    "        aligned_labels.append(label_ids)\n",
    "\n",
    "    # Add the aligned labels to the tokenized inputs\n",
    "    tokenized_inputs[\"labels\"] = aligned_labels\n",
    "\n",
    "    return tokenized_inputs"
   ]
  },
  {
   "cell_type": "code",
   "execution_count": 157,
   "metadata": {},
   "outputs": [
    {
     "data": {
      "application/vnd.jupyter.widget-view+json": {
       "model_id": "254694b60f534391bd6f6876c6691cda",
       "version_major": 2,
       "version_minor": 0
      },
      "text/plain": [
       "Map:   0%|          | 0/7828 [00:00<?, ? examples/s]"
      ]
     },
     "metadata": {},
     "output_type": "display_data"
    },
    {
     "data": {
      "application/vnd.jupyter.widget-view+json": {
       "model_id": "17d6c8dfdebc48a9b72b58aa254190bd",
       "version_major": 2,
       "version_minor": 0
      },
      "text/plain": [
       "Map:   0%|          | 0/1177 [00:00<?, ? examples/s]"
      ]
     },
     "metadata": {},
     "output_type": "display_data"
    },
    {
     "data": {
      "application/vnd.jupyter.widget-view+json": {
       "model_id": "83a043f438594dbb8dc4495042735d54",
       "version_major": 2,
       "version_minor": 0
      },
      "text/plain": [
       "Map:   0%|          | 0/1390 [00:00<?, ? examples/s]"
      ]
     },
     "metadata": {},
     "output_type": "display_data"
    }
   ],
   "source": [
    "tokenized_train = lener_train.map(tokenize_and_align_labels, batched=True)\n",
    "tokenized_valid = lener_valid.map(tokenize_and_align_labels, batched=True)\n",
    "tokenized_test = lener_test.map(tokenize_and_align_labels, batched=True)"
   ]
  },
  {
   "cell_type": "code",
   "execution_count": 158,
   "metadata": {},
   "outputs": [],
   "source": [
    "import evaluate\n",
    "import numpy as np\n",
    "\n",
    "metric = evaluate.load(\"seqeval\")\n",
    "\n",
    "def compute_metrics(p):\n",
    "    predictions, labels = p\n",
    "    predictions = np.argmax(predictions, axis=2)\n",
    "\n",
    "\n",
    "    # Remove ignored index (special tokens)\n",
    "    true_predictions = [\n",
    "        [id2label[p] for (p, l) in zip(prediction, label) if l != -100]\n",
    "        for prediction, label in zip(predictions, labels)\n",
    "    ]\n",
    "    true_labels = [\n",
    "        [id2label[l] for (p, l) in zip(prediction, label) if l != -100]\n",
    "        for prediction, label in zip(predictions, labels)\n",
    "    ]\n",
    "\n",
    "    results = metric.compute(predictions=true_predictions, references=true_labels)\n",
    "    return {\n",
    "        \"precision\": results[\"overall_precision\"],\n",
    "        \"recall\": results[\"overall_recall\"],\n",
    "        \"f1\": results[\"overall_f1\"],\n",
    "        \"accuracy\": results[\"overall_accuracy\"],\n",
    "        \"eval_f1\": results[\"overall_f1\"],\n",
    "    }"
   ]
  },
  {
   "cell_type": "code",
   "execution_count": 159,
   "metadata": {},
   "outputs": [],
   "source": [
    "from transformers import DataCollatorForTokenClassification, TrainingArguments, Trainer\n",
    "\n",
    "# Initialize a data collator for token classification\n",
    "token_classification_collator = DataCollatorForTokenClassification(tokenizer)\n",
    "\n",
    "# Extract the model name from the model checkpoint\n",
    "model_name = str(model_checkpoint).split(\"/\")[-1]\n",
    "\n",
    "# Define the training arguments\n",
    "training_arguments = TrainingArguments(\n",
    "    # Define the output directory for the trained model\n",
    "    output_dir=path_to_save_ner / f\"{model_name}-lener\",\n",
    "    # Overwrite the output directory if it already exists\n",
    "    overwrite_output_dir=True,\n",
    "    # Set the learning rate\n",
    "    learning_rate=2e-5,\n",
    "    # Set the batch size for training\n",
    "    per_device_train_batch_size=8,\n",
    "    # Set the batch size for evaluation\n",
    "    per_device_eval_batch_size=4,\n",
    "    # Accumulate gradients for 1 step before performing an update\n",
    "    gradient_accumulation_steps=1,\n",
    "    # Train the model for 4 epochs\n",
    "    num_train_epochs=4,\n",
    "    # Set the weight decay\n",
    "    weight_decay=0.01,\n",
    "    # Save only the best model\n",
    "    save_total_limit=1,\n",
    "    # Log the training loss after every 5 steps\n",
    "    logging_steps=5,\n",
    "    # Log strategy\n",
    "    logging_strategy='steps',\n",
    "    # Evaluate the model after every 1 epoch\n",
    "    eval_steps=1,\n",
    "    # Save the model after every 1 epoch\n",
    "    save_steps=1,\n",
    "    # Evaluate the model after every epoch\n",
    "    eval_strategy=\"epoch\",\n",
    "    # Save the model after every epoch\n",
    "    save_strategy='epoch',\n",
    "    # Load the best model at the end of training\n",
    "    load_best_model_at_end=True,\n",
    "    # Use the evaluation F1 score to determine the best model\n",
    "    metric_for_best_model=\"eval_f1\",\n",
    "    # Higher evaluation F1 score is better\n",
    "    greater_is_better=True,\n",
    "    # Perform training\n",
    "    do_train=True,\n",
    "    # Perform evaluation\n",
    "    do_eval=True,\n",
    "    # Perform prediction\n",
    "    do_predict=True,\n",
    "    # Use mixed precision training\n",
    "    bf16=True,\n",
    "    # Do not push the model to the Hugging Face Model Hub\n",
    "    push_to_hub=False,\n",
    "    # Set the random seed for reproducibility\n",
    "    seed=271828\n",
    ")\n"
   ]
  },
  {
   "cell_type": "code",
   "execution_count": 160,
   "metadata": {},
   "outputs": [],
   "source": [
    "# Initialize the Trainer\n",
    "trainer = Trainer(\n",
    "    # The model to train\n",
    "    model,\n",
    "    # The training arguments\n",
    "    training_arguments,\n",
    "    # The training dataset\n",
    "    train_dataset=tokenized_train,\n",
    "    # The evaluation dataset\n",
    "    eval_dataset=tokenized_valid,\n",
    "    # The data collator\n",
    "    data_collator=token_classification_collator,\n",
    "    # The tokenizer\n",
    "    tokenizer=tokenizer,\n",
    "    # The function to compute the metrics\n",
    "    compute_metrics=compute_metrics,\n",
    ")"
   ]
  },
  {
   "cell_type": "code",
   "execution_count": 161,
   "metadata": {},
   "outputs": [
    {
     "name": "stderr",
     "output_type": "stream",
     "text": [
      "/home/jacob/miniforge3/envs/imd1107/lib/python3.11/site-packages/torch/nn/parallel/parallel_apply.py:79: FutureWarning:\n",
      "\n",
      "`torch.cuda.amp.autocast(args...)` is deprecated. Please use `torch.amp.autocast('cuda', args...)` instead.\n",
      "\n",
      "/home/jacob/miniforge3/envs/imd1107/lib/python3.11/site-packages/torch/nn/parallel/_functions.py:68: UserWarning:\n",
      "\n",
      "Was asked to gather along dimension 0, but all input tensors were scalars; will instead unsqueeze and return a vector.\n",
      "\n"
     ]
    },
    {
     "data": {
      "text/html": [
       "\n",
       "    <div>\n",
       "      \n",
       "      <progress value='1960' max='1960' style='width:300px; height:20px; vertical-align: middle;'></progress>\n",
       "      [1960/1960 09:03, Epoch 4/4]\n",
       "    </div>\n",
       "    <table border=\"1\" class=\"dataframe\">\n",
       "  <thead>\n",
       " <tr style=\"text-align: left;\">\n",
       "      <th>Epoch</th>\n",
       "      <th>Training Loss</th>\n",
       "      <th>Validation Loss</th>\n",
       "      <th>F1</th>\n",
       "      <th>Precision</th>\n",
       "      <th>Recall</th>\n",
       "      <th>Accuracy</th>\n",
       "    </tr>\n",
       "  </thead>\n",
       "  <tbody>\n",
       "    <tr>\n",
       "      <td>1</td>\n",
       "      <td>0.081300</td>\n",
       "      <td>nan</td>\n",
       "      <td>0.810766</td>\n",
       "      <td>0.778879</td>\n",
       "      <td>0.845376</td>\n",
       "      <td>0.969083</td>\n",
       "    </tr>\n",
       "    <tr>\n",
       "      <td>2</td>\n",
       "      <td>0.034700</td>\n",
       "      <td>nan</td>\n",
       "      <td>0.848454</td>\n",
       "      <td>0.802493</td>\n",
       "      <td>0.900000</td>\n",
       "      <td>0.972298</td>\n",
       "    </tr>\n",
       "    <tr>\n",
       "      <td>3</td>\n",
       "      <td>0.031100</td>\n",
       "      <td>nan</td>\n",
       "      <td>0.846532</td>\n",
       "      <td>0.807377</td>\n",
       "      <td>0.889677</td>\n",
       "      <td>0.971536</td>\n",
       "    </tr>\n",
       "    <tr>\n",
       "      <td>4</td>\n",
       "      <td>0.007400</td>\n",
       "      <td>nan</td>\n",
       "      <td>0.862236</td>\n",
       "      <td>0.827695</td>\n",
       "      <td>0.899785</td>\n",
       "      <td>0.974507</td>\n",
       "    </tr>\n",
       "  </tbody>\n",
       "</table><p>"
      ],
      "text/plain": [
       "<IPython.core.display.HTML object>"
      ]
     },
     "metadata": {},
     "output_type": "display_data"
    },
    {
     "name": "stderr",
     "output_type": "stream",
     "text": [
      "/home/jacob/miniforge3/envs/imd1107/lib/python3.11/site-packages/torch/nn/parallel/parallel_apply.py:79: FutureWarning:\n",
      "\n",
      "`torch.cuda.amp.autocast(args...)` is deprecated. Please use `torch.amp.autocast('cuda', args...)` instead.\n",
      "\n",
      "/home/jacob/miniforge3/envs/imd1107/lib/python3.11/site-packages/torch/nn/parallel/_functions.py:68: UserWarning:\n",
      "\n",
      "Was asked to gather along dimension 0, but all input tensors were scalars; will instead unsqueeze and return a vector.\n",
      "\n",
      "/home/jacob/miniforge3/envs/imd1107/lib/python3.11/site-packages/torch/nn/parallel/parallel_apply.py:79: FutureWarning:\n",
      "\n",
      "`torch.cuda.amp.autocast(args...)` is deprecated. Please use `torch.amp.autocast('cuda', args...)` instead.\n",
      "\n",
      "/home/jacob/miniforge3/envs/imd1107/lib/python3.11/site-packages/torch/nn/parallel/_functions.py:68: UserWarning:\n",
      "\n",
      "Was asked to gather along dimension 0, but all input tensors were scalars; will instead unsqueeze and return a vector.\n",
      "\n",
      "/home/jacob/miniforge3/envs/imd1107/lib/python3.11/site-packages/torch/nn/parallel/parallel_apply.py:79: FutureWarning:\n",
      "\n",
      "`torch.cuda.amp.autocast(args...)` is deprecated. Please use `torch.amp.autocast('cuda', args...)` instead.\n",
      "\n",
      "/home/jacob/miniforge3/envs/imd1107/lib/python3.11/site-packages/torch/nn/parallel/_functions.py:68: UserWarning:\n",
      "\n",
      "Was asked to gather along dimension 0, but all input tensors were scalars; will instead unsqueeze and return a vector.\n",
      "\n",
      "/home/jacob/miniforge3/envs/imd1107/lib/python3.11/site-packages/torch/nn/parallel/parallel_apply.py:79: FutureWarning:\n",
      "\n",
      "`torch.cuda.amp.autocast(args...)` is deprecated. Please use `torch.amp.autocast('cuda', args...)` instead.\n",
      "\n",
      "/home/jacob/miniforge3/envs/imd1107/lib/python3.11/site-packages/torch/nn/parallel/_functions.py:68: UserWarning:\n",
      "\n",
      "Was asked to gather along dimension 0, but all input tensors were scalars; will instead unsqueeze and return a vector.\n",
      "\n"
     ]
    },
    {
     "data": {
      "text/plain": [
       "TrainOutput(global_step=1960, training_loss=0.06744579444972, metrics={'train_runtime': 543.4568, 'train_samples_per_second': 57.616, 'train_steps_per_second': 3.607, 'total_flos': 2632698013761336.0, 'train_loss': 0.06744579444972, 'epoch': 4.0})"
      ]
     },
     "execution_count": 161,
     "metadata": {},
     "output_type": "execute_result"
    }
   ],
   "source": [
    "trainer.train()"
   ]
  },
  {
   "cell_type": "code",
   "execution_count": 162,
   "metadata": {},
   "outputs": [
    {
     "name": "stderr",
     "output_type": "stream",
     "text": [
      "/home/jacob/miniforge3/envs/imd1107/lib/python3.11/site-packages/torch/nn/parallel/parallel_apply.py:79: FutureWarning:\n",
      "\n",
      "`torch.cuda.amp.autocast(args...)` is deprecated. Please use `torch.amp.autocast('cuda', args...)` instead.\n",
      "\n",
      "/home/jacob/miniforge3/envs/imd1107/lib/python3.11/site-packages/torch/nn/parallel/_functions.py:68: UserWarning:\n",
      "\n",
      "Was asked to gather along dimension 0, but all input tensors were scalars; will instead unsqueeze and return a vector.\n",
      "\n"
     ]
    },
    {
     "data": {
      "text/html": [],
      "text/plain": [
       "<IPython.core.display.HTML object>"
      ]
     },
     "metadata": {},
     "output_type": "display_data"
    },
    {
     "data": {
      "text/plain": [
       "{'eval_f1': 0.8947635993899339,\n",
       " 'eval_loss': 0.061111580580472946,\n",
       " 'eval_precision': 0.8835341365461847,\n",
       " 'eval_recall': 0.9062821833161689,\n",
       " 'eval_accuracy': 0.9841192818386343,\n",
       " 'eval_runtime': 16.3482,\n",
       " 'eval_samples_per_second': 85.025,\n",
       " 'eval_steps_per_second': 10.643,\n",
       " 'epoch': 4.0}"
      ]
     },
     "execution_count": 162,
     "metadata": {},
     "output_type": "execute_result"
    }
   ],
   "source": [
    "trainer.evaluate(tokenized_test)"
   ]
  },
  {
   "cell_type": "code",
   "execution_count": 163,
   "metadata": {},
   "outputs": [
    {
     "data": {
      "text/plain": [
       "('outputs/bert_lener/bert-base-portuguese-cased-finetuned-lener-lener/tokenizer_config.json',\n",
       " 'outputs/bert_lener/bert-base-portuguese-cased-finetuned-lener-lener/special_tokens_map.json',\n",
       " 'outputs/bert_lener/bert-base-portuguese-cased-finetuned-lener-lener/vocab.txt',\n",
       " 'outputs/bert_lener/bert-base-portuguese-cased-finetuned-lener-lener/added_tokens.json',\n",
       " 'outputs/bert_lener/bert-base-portuguese-cased-finetuned-lener-lener/tokenizer.json')"
      ]
     },
     "execution_count": 163,
     "metadata": {},
     "output_type": "execute_result"
    }
   ],
   "source": [
    "# Save the trained model\n",
    "trainer.save_model(path_to_save_ner / f\"{model_name}-lener\")\n",
    "tokenizer.save_pretrained(path_to_save_ner / f\"{model_name}-lener\")\n"
   ]
  },
  {
   "cell_type": "code",
   "execution_count": 164,
   "metadata": {},
   "outputs": [
    {
     "name": "stdout",
     "output_type": "stream",
     "text": [
      "outputs/bert_lener/bert-base-portuguese-cased-finetuned-lener-lener\n"
     ]
    }
   ],
   "source": [
    "print(path_to_save_ner / f\"{model_name}-lener\")"
   ]
  },
  {
   "cell_type": "code",
   "execution_count": 165,
   "metadata": {},
   "outputs": [
    {
     "data": {
      "text/plain": [
       "{'JURISPRUDENCIA': {'precision': 0.839754816112084,\n",
       "  'recall': 0.8912639405204461,\n",
       "  'f1': 0.8647430117222723,\n",
       "  'number': 1076},\n",
       " 'LEGISLACAO': {'precision': 0.9219600725952813,\n",
       "  'recall': 0.910394265232975,\n",
       "  'f1': 0.9161406672678089,\n",
       "  'number': 558},\n",
       " 'LOCAL': {'precision': 0.65,\n",
       "  'recall': 0.7647058823529411,\n",
       "  'f1': 0.7027027027027027,\n",
       "  'number': 68},\n",
       " 'ORGANIZACAO': {'precision': 0.8433734939759037,\n",
       "  'recall': 0.8795811518324608,\n",
       "  'f1': 0.8610968733982574,\n",
       "  'number': 955},\n",
       " 'PESSOA': {'precision': 0.924956369982548,\n",
       "  'recall': 0.9742647058823529,\n",
       "  'f1': 0.9489704565801255,\n",
       "  'number': 544},\n",
       " 'TEMPO': {'precision': 0.9828660436137072,\n",
       "  'recall': 0.9238653001464129,\n",
       "  'f1': 0.9524528301886793,\n",
       "  'number': 683},\n",
       " 'overall_precision': 0.8835341365461847,\n",
       " 'overall_recall': 0.9062821833161689,\n",
       " 'overall_f1': 0.8947635993899339,\n",
       " 'overall_accuracy': 0.9841192818386343}"
      ]
     },
     "execution_count": 165,
     "metadata": {},
     "output_type": "execute_result"
    }
   ],
   "source": [
    "predictions, labels, _ = trainer.predict(tokenized_test)\n",
    "\n",
    "predictions = np.argmax(predictions, axis=2)\n",
    "\n",
    "# Remove ignored index (special tokens)\n",
    "true_predictions = [\n",
    "    [id2label[p] for (p, l) in zip(prediction, label) if l != -100]\n",
    "    for prediction, label in zip(predictions, labels)\n",
    "]\n",
    "true_labels = [\n",
    "    [id2label[l] for (p, l) in zip(prediction, label) if l != -100]\n",
    "    for prediction, label in zip(predictions, labels)\n",
    "]\n",
    "\n",
    "results_huggingface = metric.compute(predictions=true_predictions, references=true_labels)\n",
    "results_huggingface"
   ]
  },
  {
   "cell_type": "code",
   "execution_count": 166,
   "metadata": {},
   "outputs": [
    {
     "data": {
      "text/plain": [
       "{'token_acc': 1.0,\n",
       " 'token_p': 1.0,\n",
       " 'token_r': 1.0,\n",
       " 'token_f': 1.0,\n",
       " 'ents_p': 0.8417630057803468,\n",
       " 'ents_r': 0.7584635416666666,\n",
       " 'ents_f': 0.797945205479452,\n",
       " 'ents_per_type': {'JURISPRUDENCIA': {'p': 0.8133333333333334,\n",
       "   'r': 0.6594594594594595,\n",
       "   'f': 0.7283582089552239},\n",
       "  'PESSOA': {'p': 0.8186046511627907,\n",
       "   'r': 0.7553648068669528,\n",
       "   'f': 0.7857142857142857},\n",
       "  'TEMPO': {'p': 0.8784530386740331, 'r': 0.828125, 'f': 0.8525469168900803},\n",
       "  'ORGANIZACAO': {'p': 0.832579185520362,\n",
       "   'r': 0.7345309381237525,\n",
       "   'f': 0.7804878048780488},\n",
       "  'LOCAL': {'p': 0.6444444444444445,\n",
       "   'r': 0.6170212765957447,\n",
       "   'f': 0.6304347826086957},\n",
       "  'LEGISLACAO': {'p': 0.886039886039886,\n",
       "   'r': 0.8227513227513228,\n",
       "   'f': 0.8532235939643347}},\n",
       " 'speed': 34316.68674538908}"
      ]
     },
     "execution_count": 166,
     "metadata": {},
     "output_type": "execute_result"
    }
   ],
   "source": [
    "results_spacy"
   ]
  },
  {
   "cell_type": "code",
   "execution_count": 167,
   "metadata": {},
   "outputs": [
    {
     "data": {
      "text/plain": [
       "{'JURISPRUDENCIA': {'precision': 0.8133333333333334,\n",
       "  'recall': 0.6594594594594595,\n",
       "  'f1': 0.7283582089552239,\n",
       "  'number': 0},\n",
       " 'PESSOA': {'precision': 0.8186046511627907,\n",
       "  'recall': 0.7553648068669528,\n",
       "  'f1': 0.7857142857142857,\n",
       "  'number': 0},\n",
       " 'TEMPO': {'precision': 0.8784530386740331,\n",
       "  'recall': 0.828125,\n",
       "  'f1': 0.8525469168900803,\n",
       "  'number': 0},\n",
       " 'ORGANIZACAO': {'precision': 0.832579185520362,\n",
       "  'recall': 0.7345309381237525,\n",
       "  'f1': 0.7804878048780488,\n",
       "  'number': 0},\n",
       " 'LOCAL': {'precision': 0.6444444444444445,\n",
       "  'recall': 0.6170212765957447,\n",
       "  'f1': 0.6304347826086957,\n",
       "  'number': 0},\n",
       " 'LEGISLACAO': {'precision': 0.886039886039886,\n",
       "  'recall': 0.8227513227513228,\n",
       "  'f1': 0.8532235939643347,\n",
       "  'number': 0},\n",
       " 'overall_precision': 0.8417630057803468,\n",
       " 'overall_recall': 0.7584635416666666,\n",
       " 'overall_f1': 0.797945205479452,\n",
       " 'overall_accuracy': 1.0}"
      ]
     },
     "execution_count": 167,
     "metadata": {},
     "output_type": "execute_result"
    }
   ],
   "source": [
    "def convert_spacy_to_hf_format(input_data):\n",
    "    \"\"\"\n",
    "    Converts spaCy evaluation metrics to a format compatible with Hugging Face.\n",
    "\n",
    "    Args:\n",
    "        input_data (dict): A dictionary containing spaCy evaluation metrics.\n",
    "\n",
    "    Returns:\n",
    "        dict: A dictionary containing the converted metrics in Hugging Face format.\n",
    "    \"\"\"\n",
    "    # Initialize an empty dictionary to store the converted metrics\n",
    "    output = {}\n",
    "    \n",
    "    # Process entity-specific metrics\n",
    "    for entity_type, metrics in input_data['ents_per_type'].items():\n",
    "        # Convert precision, recall, and F1-score for each entity type\n",
    "        output[entity_type] = {\n",
    "            'precision': metrics['p'],\n",
    "            'recall': metrics['r'],\n",
    "            'f1': metrics['f'],\n",
    "            'number': 0  # Placeholder for the number of entities, not available in input\n",
    "        }\n",
    "    \n",
    "    # Add overall metrics to the output dictionary\n",
    "    output['overall_precision'] = input_data['ents_p']\n",
    "    output['overall_recall'] = input_data['ents_r']\n",
    "    output['overall_f1'] = input_data['ents_f']\n",
    "    output['overall_accuracy'] = input_data['token_acc']\n",
    "    \n",
    "    # Return the converted metrics\n",
    "    return output\n",
    "\n",
    "convert_spacy_to_hf_format(results_spacy)"
   ]
  },
  {
   "cell_type": "code",
   "execution_count": 168,
   "metadata": {},
   "outputs": [
    {
     "data": {
      "text/plain": [
       "JURISPRUDENCIA       0.728358\n",
       "LEGISLACAO           0.853224\n",
       "LOCAL                0.630435\n",
       "ORGANIZACAO          0.780488\n",
       "PESSOA               0.785714\n",
       "TEMPO                0.852547\n",
       "overall_accuracy     1.000000\n",
       "overall_f1           0.797945\n",
       "overall_precision    0.841763\n",
       "overall_recall       0.758464\n",
       "Name: f1, dtype: float64"
      ]
     },
     "execution_count": 168,
     "metadata": {},
     "output_type": "execute_result"
    }
   ],
   "source": [
    "import pandas as pd\n",
    "\n",
    "df_res_spacy = pd.DataFrame(convert_spacy_to_hf_format(results_spacy)).T\n",
    "df_res_spacy.sort_index()['f1']"
   ]
  },
  {
   "cell_type": "code",
   "execution_count": 169,
   "metadata": {},
   "outputs": [
    {
     "data": {
      "text/plain": [
       "JURISPRUDENCIA       0.864743\n",
       "LEGISLACAO           0.916141\n",
       "LOCAL                0.702703\n",
       "ORGANIZACAO          0.861097\n",
       "PESSOA               0.948970\n",
       "TEMPO                0.952453\n",
       "overall_accuracy     0.984119\n",
       "overall_f1           0.894764\n",
       "overall_precision    0.883534\n",
       "overall_recall       0.906282\n",
       "Name: f1, dtype: float64"
      ]
     },
     "execution_count": 169,
     "metadata": {},
     "output_type": "execute_result"
    }
   ],
   "source": [
    "df_res_huggingface = pd.DataFrame(results_huggingface).T\n",
    "df_res_huggingface.sort_index()['f1']"
   ]
  },
  {
   "cell_type": "code",
   "execution_count": 170,
   "metadata": {},
   "outputs": [],
   "source": [
    "# Deploying the model for inference\n",
    "from transformers import AutoTokenizer, AutoModelForTokenClassification, pipeline\n",
    "\n",
    "model_checkpoint = Path('./outputs/bert_lener/bert-base-portuguese-cased-finetuned-lener-lener')\n",
    "tokenizer = AutoTokenizer.from_pretrained(model_checkpoint, model_max_length=512)\n",
    "model = AutoModelForTokenClassification.from_pretrained(model_checkpoint)\n",
    "pipeline_ner = pipeline('ner', model=model, tokenizer=tokenizer,  aggregation_strategy='first', device=-1)\n",
    "\n"
   ]
  },
  {
   "cell_type": "code",
   "execution_count": 171,
   "metadata": {},
   "outputs": [],
   "source": [
    "example = \"\"\"TRIBUTÁRIO. IMPOSTO DE RENDA. NÃO INCIDÊNCIA. AUXÍLIO-ALIMENTAÇÃO (AUXÍLIO-ALMOÇO). VERBA DE NATUREZA INDENIZATÓRIA. PRECEDENTE DA TRU - 5a. REGIÃO. RECURSO INOMINADO DA FAZENDA NACIONAL IMPROVIDO.\n",
    "\n",
    "A parte ré interpõe recurso inominado contra sentença que julgou procedente o pedido de declaração da inexistência de declaração de não incidência de imposto de renda sobre as verbas decorrentes do pagamento de auxílio-almoço, bem como condenou a ré na repetição do indébito tributário.\n",
    "\n",
    "Em seu recurso, a União sustenta que a verba, recebida a título de auxílio-almoço, não teria natureza indenizatória, razão por que incidiria o imposto de renda.\n",
    "\n",
    "A sentença não merece ser reformada. Explico.\n",
    "\n",
    "O imposto de renda incide sobre a renda ou o acréscimo patrimonial de qualquer natureza, a teor do art. 43 do Código Tributário Nacional, in verbis:\n",
    "\n",
    "Art. 43. O imposto, de competência da União, sobre a renda e proventos de qualquer natureza tem como fato gerador a aquisição da disponibilidade econômica ou jurídica:\n",
    "I – de renda, assim entendido o produto do capital, do trabalho ou da combinação de ambos;\n",
    "II – de proventos de qualquer natureza, assim entendidos os acréscimos patrimoniais não compreendidos no inciso anterior.\n",
    "\n",
    "A verba recebida a título de auxílio-alimentação (auxílio-almoço) possui natureza indenizatória, uma vez que se destina a cobrir os custos de refeição do empregado, não configurando acréscimo patrimonial.\n",
    "\n",
    "O §1º. do art. 22 da Lei nº. 8.460/92, incluído pela Lei nº 9.257/97, reconhece a natureza indenizatória do auxílio-alimentação ao consignar que “a concessão do auxílio-alimentação será feita em pecúnia e terá caráter indenizatório”. Logo, tal verba não sofre a incidência do imposto de renda.\n",
    "\n",
    "Embora o referido dispositivo seja destinado aos servidores públicos federais, não se pode tratar de forma diferenciada os empregados públicos, em face do princípio da isonomia tributária, previsto no art. 150, II, da Constituição Federal, segundo o qual é vedado instituir tratamento desigual entre contribuintes que se encontrem em situação equivalente.\n",
    "\n",
    "No caso dos autos, os documentos comprovam que o autor percebe o auxílio-almoço, dotado de natureza indenizatória, cujo pagamento deu azo à incidência do imposto de renda. É cabível, portanto a restituição do seu indébito, bem como a declaração de não incidência do imposto sobre tal verba. Nesse sentido, invoco ainda os seguintes precedentes:\n",
    "\n",
    "TRIBUTÁRIO - PROCESSUAL CIVIL - INEXISTÊNCIA DE VIOLAÇÃO DO ART. 557 DO CPC - IMPOSTO DE RENDA - NÃO INCIDÊNCIA SOBRE VERBAS INDENIZATÓRIAS - AUXÍLIO-ALIMENTAÇÃO - AUXÍLIO-TRANSPORTE. 1. A eventual nulidade da decisão monocrática calcada no art. 557 do CPC fica superada com a reapreciação do recurso pelo órgão colegiado, na via de agravo regimental. 2. O fato gerador do imposto de renda é a aquisição de disponibilidade econômica ou jurídica decorrente de acréscimo patrimonial (art. 43 do CTN). 3. Não incide imposto de renda sobre as verbas recebidas a título de indenização. Precedentes. 4. O pagamento de verbas a título de auxílio-alimentação e auxílio-transporte correspondem ao pagamento de verbas indenizatórias, portanto, não incide na espécie imposto de renda. Agravo regimental improvido. (AGRESP 201000172325, HUMBERTO MARTINS, STJ - SEGUNDA TURMA, DJE DATA:23/04/2010)\n",
    "\n",
    "EMENTA TRIBUTÁRIO. IMPOSTO DE RENDA DA PESSOA FÍSICA - IRPF. “AUXÍLIO-ALMOÇO”. VERBA DESTINADA A RESSARCIR PARCIALMENTE AS DESPESAS DO EMPREGADO COM A SUA PRÓPRIA ALIMENTAÇÃO. NATUREZA INDENIZATÓRIA. NÃO INCIDÊNCIA DO IRPF. “AUXÍLIO-ENSINO”. VERBA DESTINADA A RESSARCIR PARCIALMENTE AS DESPESAS DO EMPREGADO COM A EDUCAÇÃO DE SEUS FILHOS. NATUREZA REMUNERATÓRIA INCIDÊNCIA DE IMPOSTO DE RENDA. ART. 43 DO CTN. PEDIDO DE UNIFORMIZAÇÃO CONHECIDO E PARCIALMENTE PROVIDO. (Recursos 05032827820154058312, MARCOS ANTONIO GARAPA DE CARVALHO - Turma Regional de Uniformização de Jurisprudência da 5a. Região, Creta - Data::06/04/2017 - Página N/I.)\n",
    "\n",
    "Recurso inominado da Fazenda Nacional improvido.\n",
    "\n",
    "Condenação da União em honorários advocatícios, arbitrados em dez por cento sobre o valor condenação.\n",
    "\n",
    " \n",
    "\n",
    "ACÓRDÃO\n",
    "\n",
    "Decide a 3ª Turma Recursal dos Juizados Especiais Federais de Pernambuco, por maioria, vencido o Juiz Federal Isaac Batista de Carvalho Neto, NEGAR PROVIMENTO AO RECURSO INOMINADO, nos termos da ementa supra.\n",
    "\n",
    "Recife, data do julgamento.\n",
    "\n",
    "Joaquim Lustosa Filho\n",
    "\n",
    "Juiz Federal Relator\"\"\""
   ]
  },
  {
   "cell_type": "code",
   "execution_count": 172,
   "metadata": {},
   "outputs": [
    {
     "data": {
      "text/plain": [
       "[{'entity_group': 'ORGANIZACAO',\n",
       "  'score': 0.49633655,\n",
       "  'word': 'TRU',\n",
       "  'start': 131,\n",
       "  'end': 134},\n",
       " {'entity_group': 'ORGANIZACAO',\n",
       "  'score': 0.5309282,\n",
       "  'word': '5a',\n",
       "  'start': 137,\n",
       "  'end': 139},\n",
       " {'entity_group': 'ORGANIZACAO',\n",
       "  'score': 0.7600396,\n",
       "  'word': 'REGIÃO',\n",
       "  'start': 141,\n",
       "  'end': 147},\n",
       " {'entity_group': 'ORGANIZACAO',\n",
       "  'score': 0.97347915,\n",
       "  'word': 'União',\n",
       "  'start': 505,\n",
       "  'end': 510},\n",
       " {'entity_group': 'LEGISLACAO',\n",
       "  'score': 0.99607575,\n",
       "  'word': 'art. 43 do Código Tributário Nacional',\n",
       "  'start': 795,\n",
       "  'end': 832},\n",
       " {'entity_group': 'ORGANIZACAO',\n",
       "  'score': 0.9583481,\n",
       "  'word': 'União',\n",
       "  'start': 884,\n",
       "  'end': 889},\n",
       " {'entity_group': 'LEGISLACAO',\n",
       "  'score': 0.99337995,\n",
       "  'word': '§ 1º. do art. 22 da Lei nº. 8. 460 / 92',\n",
       "  'start': 1436,\n",
       "  'end': 1471},\n",
       " {'entity_group': 'LEGISLACAO',\n",
       "  'score': 0.99689144,\n",
       "  'word': 'Lei nº 9. 257 / 97',\n",
       "  'start': 1487,\n",
       "  'end': 1502}]"
      ]
     },
     "execution_count": 172,
     "metadata": {},
     "output_type": "execute_result"
    }
   ],
   "source": [
    "pipeline_ner(example)"
   ]
  },
  {
   "cell_type": "code",
   "execution_count": 173,
   "metadata": {},
   "outputs": [],
   "source": [
    "from langchain_text_splitters import RecursiveCharacterTextSplitter\n",
    "\n",
    "text_splitter = RecursiveCharacterTextSplitter.from_huggingface_tokenizer(tokenizer, chunk_size=512, chunk_overlap=0, separators=[\"\\t\", \"\\n\", \"\\n\\n\", \". \"])\n",
    "chunks = text_splitter.split_text(example)"
   ]
  },
  {
   "cell_type": "code",
   "execution_count": 174,
   "metadata": {},
   "outputs": [],
   "source": [
    "token_classes = model.config.id2label\n",
    "colors = get_random_colors(len(token_classes))\n",
    "colors = {token_classes[i]: colors[i] for i in range(len(token_classes))}"
   ]
  },
  {
   "cell_type": "code",
   "execution_count": 175,
   "metadata": {},
   "outputs": [
    {
     "data": {
      "text/plain": [
       "{'O': '#6495ED',\n",
       " 'B-ORGANIZACAO': '#008B8B',\n",
       " 'I-ORGANIZACAO': '#00FFFF',\n",
       " 'B-PESSOA': '#FFFF00',\n",
       " 'I-PESSOA': '#008080',\n",
       " 'B-TEMPO': '#00FF00',\n",
       " 'I-TEMPO': '#A9A9A9',\n",
       " 'B-LOCAL': '#B8860B',\n",
       " 'I-LOCAL': '#808080',\n",
       " 'B-LEGISLACAO': '#FF0000',\n",
       " 'I-LEGISLACAO': '#FF00FF',\n",
       " 'B-JURISPRUDENCIA': '#7FFF00',\n",
       " 'I-JURISPRUDENCIA': '#C0C0C0'}"
      ]
     },
     "execution_count": 175,
     "metadata": {},
     "output_type": "execute_result"
    }
   ],
   "source": [
    "colors"
   ]
  },
  {
   "cell_type": "code",
   "execution_count": 176,
   "metadata": {},
   "outputs": [
    {
     "name": "stdout",
     "output_type": "stream",
     "text": [
      "Chunk 0:\n"
     ]
    },
    {
     "data": {
      "text/html": [
       "<span class=\"tex2jax_ignore\"><div class=\"entities\" style=\"line-height: 2.5; direction: ltr\">TRIBUTÁRIO. IMPOSTO DE RENDA. NÃO INCIDÊNCIA. AUXÍLIO-ALIMENTAÇÃO (AUXÍLIO-ALMOÇO). VERBA DE NATUREZA INDENIZATÓRIA. PRECEDENTE DA \n",
       "<mark class=\"entity\" style=\"background: #808000; padding: 0.45em 0.6em; margin: 0 0.25em; line-height: 1; border-radius: 0.35em;\">\n",
       "    TRU\n",
       "    <span style=\"font-size: 0.8em; font-weight: bold; line-height: 1; border-radius: 0.35em; vertical-align: middle; margin-left: 0.5rem\">ORGANIZACAO</span>\n",
       "</mark>\n",
       " - \n",
       "<mark class=\"entity\" style=\"background: #808000; padding: 0.45em 0.6em; margin: 0 0.25em; line-height: 1; border-radius: 0.35em;\">\n",
       "    5a\n",
       "    <span style=\"font-size: 0.8em; font-weight: bold; line-height: 1; border-radius: 0.35em; vertical-align: middle; margin-left: 0.5rem\">ORGANIZACAO</span>\n",
       "</mark>\n",
       ". \n",
       "<mark class=\"entity\" style=\"background: #808000; padding: 0.45em 0.6em; margin: 0 0.25em; line-height: 1; border-radius: 0.35em;\">\n",
       "    REGIÃO\n",
       "    <span style=\"font-size: 0.8em; font-weight: bold; line-height: 1; border-radius: 0.35em; vertical-align: middle; margin-left: 0.5rem\">ORGANIZACAO</span>\n",
       "</mark>\n",
       ". RECURSO INOMINADO DA FAZENDA NACIONAL IMPROVIDO.<br><br>A parte ré interpõe recurso inominado contra sentença que julgou procedente o pedido de declaração da inexistência de declaração de não incidência de imposto de renda sobre as verbas decorrentes do pagamento de auxílio-almoço, bem como condenou a ré na repetição do indébito tributário.<br><br>Em seu recurso, a \n",
       "<mark class=\"entity\" style=\"background: #808000; padding: 0.45em 0.6em; margin: 0 0.25em; line-height: 1; border-radius: 0.35em;\">\n",
       "    União\n",
       "    <span style=\"font-size: 0.8em; font-weight: bold; line-height: 1; border-radius: 0.35em; vertical-align: middle; margin-left: 0.5rem\">ORGANIZACAO</span>\n",
       "</mark>\n",
       " sustenta que a verba, recebida a título de auxílio-almoço, não teria natureza indenizatória, razão por que incidiria o imposto de renda.<br><br>A sentença não merece ser reformada. Explico.<br><br>O imposto de renda incide sobre a renda ou o acréscimo patrimonial de qualquer natureza, a teor do \n",
       "<mark class=\"entity\" style=\"background: #A9A9A9; padding: 0.45em 0.6em; margin: 0 0.25em; line-height: 1; border-radius: 0.35em;\">\n",
       "    art. 43 do Código Tributário Nacional\n",
       "    <span style=\"font-size: 0.8em; font-weight: bold; line-height: 1; border-radius: 0.35em; vertical-align: middle; margin-left: 0.5rem\">LEGISLACAO</span>\n",
       "</mark>\n",
       ", in verbis:<br><br>Art. 43. O imposto, de competência da \n",
       "<mark class=\"entity\" style=\"background: #808000; padding: 0.45em 0.6em; margin: 0 0.25em; line-height: 1; border-radius: 0.35em;\">\n",
       "    União\n",
       "    <span style=\"font-size: 0.8em; font-weight: bold; line-height: 1; border-radius: 0.35em; vertical-align: middle; margin-left: 0.5rem\">ORGANIZACAO</span>\n",
       "</mark>\n",
       ", sobre a renda e proventos de qualquer natureza tem como fato gerador a aquisição da disponibilidade econômica ou jurídica:<br>I – de renda, assim entendido o produto do capital, do trabalho ou da combinação de ambos;<br>II – de proventos de qualquer natureza, assim entendidos os acréscimos patrimoniais não compreendidos no inciso anterior.<br><br>A verba recebida a título de auxílio-alimentação (auxílio-almoço) possui natureza indenizatória, uma vez que se destina a cobrir os custos de refeição do empregado, não configurando acréscimo patrimonial.</div></span>"
      ],
      "text/plain": [
       "<IPython.core.display.HTML object>"
      ]
     },
     "metadata": {},
     "output_type": "display_data"
    },
    {
     "name": "stdout",
     "output_type": "stream",
     "text": [
      "\n",
      "\n",
      "Chunk 1:\n"
     ]
    },
    {
     "data": {
      "text/html": [
       "<span class=\"tex2jax_ignore\"><div class=\"entities\" style=\"line-height: 2.5; direction: ltr\">O \n",
       "<mark class=\"entity\" style=\"background: #6495ED; padding: 0.45em 0.6em; margin: 0 0.25em; line-height: 1; border-radius: 0.35em;\">\n",
       "    §1º. do art. 22 da Lei nº. 8.460/92\n",
       "    <span style=\"font-size: 0.8em; font-weight: bold; line-height: 1; border-radius: 0.35em; vertical-align: middle; margin-left: 0.5rem\">LEGISLACAO</span>\n",
       "</mark>\n",
       ", incluído pela \n",
       "<mark class=\"entity\" style=\"background: #6495ED; padding: 0.45em 0.6em; margin: 0 0.25em; line-height: 1; border-radius: 0.35em;\">\n",
       "    Lei nº 9.257/97\n",
       "    <span style=\"font-size: 0.8em; font-weight: bold; line-height: 1; border-radius: 0.35em; vertical-align: middle; margin-left: 0.5rem\">LEGISLACAO</span>\n",
       "</mark>\n",
       ", reconhece a natureza indenizatória do auxílio-alimentação ao consignar que “a concessão do auxílio-alimentação será feita em pecúnia e terá caráter indenizatório”. Logo, tal verba não sofre a incidência do imposto de renda.<br><br>Embora o referido dispositivo seja destinado aos servidores públicos federais, não se pode tratar de forma diferenciada os empregados públicos, em face do princípio da isonomia tributária, previsto no \n",
       "<mark class=\"entity\" style=\"background: #6495ED; padding: 0.45em 0.6em; margin: 0 0.25em; line-height: 1; border-radius: 0.35em;\">\n",
       "    art. 150, II, da Constituição Federal\n",
       "    <span style=\"font-size: 0.8em; font-weight: bold; line-height: 1; border-radius: 0.35em; vertical-align: middle; margin-left: 0.5rem\">LEGISLACAO</span>\n",
       "</mark>\n",
       ", segundo o qual é vedado instituir tratamento desigual entre contribuintes que se encontrem em situação equivalente.<br><br>No caso dos autos, os documentos comprovam que o autor percebe o auxílio-almoço, dotado de natureza indenizatória, cujo pagamento deu azo à incidência do imposto de renda. É cabível, portanto a restituição do seu indébito, bem como a declaração de não incidência do imposto sobre tal verba. Nesse sentido, invoco ainda os seguintes precedentes:</div></span>"
      ],
      "text/plain": [
       "<IPython.core.display.HTML object>"
      ]
     },
     "metadata": {},
     "output_type": "display_data"
    },
    {
     "name": "stdout",
     "output_type": "stream",
     "text": [
      "\n",
      "\n",
      "Chunk 2:\n"
     ]
    },
    {
     "data": {
      "text/html": [
       "<span class=\"tex2jax_ignore\"><div class=\"entities\" style=\"line-height: 2.5; direction: ltr\">TRIBUTÁRIO - PROCESSUAL CIVIL - INEXISTÊNCIA DE VIOLAÇÃO DO \n",
       "<mark class=\"entity\" style=\"background: #00008B; padding: 0.45em 0.6em; margin: 0 0.25em; line-height: 1; border-radius: 0.35em;\">\n",
       "    ART. 557 DO CPC\n",
       "    <span style=\"font-size: 0.8em; font-weight: bold; line-height: 1; border-radius: 0.35em; vertical-align: middle; margin-left: 0.5rem\">LEGISLACAO</span>\n",
       "</mark>\n",
       " - IMPOSTO DE RENDA - NÃO INCIDÊNCIA SOBRE VERBAS INDENIZATÓRIAS - AUXÍLIO-ALIMENTAÇÃO - AUXÍLIO-TRANSPORTE. 1. A eventual nulidade da decisão monocrática calcada no \n",
       "<mark class=\"entity\" style=\"background: #00008B; padding: 0.45em 0.6em; margin: 0 0.25em; line-height: 1; border-radius: 0.35em;\">\n",
       "    art. 557 do CPC\n",
       "    <span style=\"font-size: 0.8em; font-weight: bold; line-height: 1; border-radius: 0.35em; vertical-align: middle; margin-left: 0.5rem\">LEGISLACAO</span>\n",
       "</mark>\n",
       " fica superada com a reapreciação do recurso pelo órgão colegiado, na via de agravo regimental. 2. O fato gerador do imposto de renda é a aquisição de disponibilidade econômica ou jurídica decorrente de acréscimo patrimonial (\n",
       "<mark class=\"entity\" style=\"background: #00008B; padding: 0.45em 0.6em; margin: 0 0.25em; line-height: 1; border-radius: 0.35em;\">\n",
       "    art. 43 do CTN\n",
       "    <span style=\"font-size: 0.8em; font-weight: bold; line-height: 1; border-radius: 0.35em; vertical-align: middle; margin-left: 0.5rem\">LEGISLACAO</span>\n",
       "</mark>\n",
       "). 3. Não incide imposto de renda sobre as verbas recebidas a título de indenização. Precedentes. 4. O pagamento de verbas a título de auxílio-alimentação e auxílio-transporte correspondem ao pagamento de verbas indenizatórias, portanto, não incide na espécie imposto de renda. Agravo regimental improvido. (\n",
       "<mark class=\"entity\" style=\"background: #D2691E; padding: 0.45em 0.6em; margin: 0 0.25em; line-height: 1; border-radius: 0.35em;\">\n",
       "    AGRESP 201000172325\n",
       "    <span style=\"font-size: 0.8em; font-weight: bold; line-height: 1; border-radius: 0.35em; vertical-align: middle; margin-left: 0.5rem\">JURISPRUDENCIA</span>\n",
       "</mark>\n",
       ", \n",
       "<mark class=\"entity\" style=\"background: #FF00FF; padding: 0.45em 0.6em; margin: 0 0.25em; line-height: 1; border-radius: 0.35em;\">\n",
       "    HUMBERTO MARTINS\n",
       "    <span style=\"font-size: 0.8em; font-weight: bold; line-height: 1; border-radius: 0.35em; vertical-align: middle; margin-left: 0.5rem\">PESSOA</span>\n",
       "</mark>\n",
       ", \n",
       "<mark class=\"entity\" style=\"background: #7FFF00; padding: 0.45em 0.6em; margin: 0 0.25em; line-height: 1; border-radius: 0.35em;\">\n",
       "    STJ\n",
       "    <span style=\"font-size: 0.8em; font-weight: bold; line-height: 1; border-radius: 0.35em; vertical-align: middle; margin-left: 0.5rem\">ORGANIZACAO</span>\n",
       "</mark>\n",
       " \n",
       "<mark class=\"entity\" style=\"background: #7FFF00; padding: 0.45em 0.6em; margin: 0 0.25em; line-height: 1; border-radius: 0.35em;\">\n",
       "    -\n",
       "    <span style=\"font-size: 0.8em; font-weight: bold; line-height: 1; border-radius: 0.35em; vertical-align: middle; margin-left: 0.5rem\">ORGANIZACAO</span>\n",
       "</mark>\n",
       " \n",
       "<mark class=\"entity\" style=\"background: #7FFF00; padding: 0.45em 0.6em; margin: 0 0.25em; line-height: 1; border-radius: 0.35em;\">\n",
       "    SEGUNDA TURMA\n",
       "    <span style=\"font-size: 0.8em; font-weight: bold; line-height: 1; border-radius: 0.35em; vertical-align: middle; margin-left: 0.5rem\">ORGANIZACAO</span>\n",
       "</mark>\n",
       ", DJE DATA:\n",
       "<mark class=\"entity\" style=\"background: #008080; padding: 0.45em 0.6em; margin: 0 0.25em; line-height: 1; border-radius: 0.35em;\">\n",
       "    23\n",
       "    <span style=\"font-size: 0.8em; font-weight: bold; line-height: 1; border-radius: 0.35em; vertical-align: middle; margin-left: 0.5rem\">TEMPO</span>\n",
       "</mark>\n",
       "\n",
       "<mark class=\"entity\" style=\"background: #008080; padding: 0.45em 0.6em; margin: 0 0.25em; line-height: 1; border-radius: 0.35em;\">\n",
       "    /\n",
       "    <span style=\"font-size: 0.8em; font-weight: bold; line-height: 1; border-radius: 0.35em; vertical-align: middle; margin-left: 0.5rem\">TEMPO</span>\n",
       "</mark>\n",
       "\n",
       "<mark class=\"entity\" style=\"background: #008080; padding: 0.45em 0.6em; margin: 0 0.25em; line-height: 1; border-radius: 0.35em;\">\n",
       "    04\n",
       "    <span style=\"font-size: 0.8em; font-weight: bold; line-height: 1; border-radius: 0.35em; vertical-align: middle; margin-left: 0.5rem\">TEMPO</span>\n",
       "</mark>\n",
       "\n",
       "<mark class=\"entity\" style=\"background: #008080; padding: 0.45em 0.6em; margin: 0 0.25em; line-height: 1; border-radius: 0.35em;\">\n",
       "    /\n",
       "    <span style=\"font-size: 0.8em; font-weight: bold; line-height: 1; border-radius: 0.35em; vertical-align: middle; margin-left: 0.5rem\">TEMPO</span>\n",
       "</mark>\n",
       "\n",
       "<mark class=\"entity\" style=\"background: #008080; padding: 0.45em 0.6em; margin: 0 0.25em; line-height: 1; border-radius: 0.35em;\">\n",
       "    2010\n",
       "    <span style=\"font-size: 0.8em; font-weight: bold; line-height: 1; border-radius: 0.35em; vertical-align: middle; margin-left: 0.5rem\">TEMPO</span>\n",
       "</mark>\n",
       ")</div></span>"
      ],
      "text/plain": [
       "<IPython.core.display.HTML object>"
      ]
     },
     "metadata": {},
     "output_type": "display_data"
    },
    {
     "name": "stdout",
     "output_type": "stream",
     "text": [
      "\n",
      "\n",
      "Chunk 3:\n"
     ]
    },
    {
     "data": {
      "text/html": [
       "<span class=\"tex2jax_ignore\"><div class=\"entities\" style=\"line-height: 2.5; direction: ltr\">EMENTA TRIBUTÁRIO. IMPOSTO DE RENDA DA PESSOA FÍSICA - IRPF. “AUXÍLIO-ALMOÇO”. VERBA DESTINADA A RESSARCIR PARCIALMENTE AS DESPESAS DO EMPREGADO COM A SUA PRÓPRIA ALIMENTAÇÃO. NATUREZA INDENIZATÓRIA. NÃO INCIDÊNCIA DO IRPF. “AUXÍLIO-ENSINO”. VERBA DESTINADA A RESSARCIR PARCIALMENTE AS DESPESAS DO EMPREGADO COM A EDUCAÇÃO DE SEUS FILHOS. NATUREZA REMUNERATÓRIA INCIDÊNCIA DE IMPOSTO DE RENDA. \n",
       "<mark class=\"entity\" style=\"background: #0000FF; padding: 0.45em 0.6em; margin: 0 0.25em; line-height: 1; border-radius: 0.35em;\">\n",
       "    ART. 43 DO CTN\n",
       "    <span style=\"font-size: 0.8em; font-weight: bold; line-height: 1; border-radius: 0.35em; vertical-align: middle; margin-left: 0.5rem\">LEGISLACAO</span>\n",
       "</mark>\n",
       ". PEDIDO DE UNIFORMIZAÇÃO CONHECIDO E PARCIALMENTE PROVIDO. (\n",
       "<mark class=\"entity\" style=\"background: #B8860B; padding: 0.45em 0.6em; margin: 0 0.25em; line-height: 1; border-radius: 0.35em;\">\n",
       "    Recursos\n",
       "    <span style=\"font-size: 0.8em; font-weight: bold; line-height: 1; border-radius: 0.35em; vertical-align: middle; margin-left: 0.5rem\">JURISPRUDENCIA</span>\n",
       "</mark>\n",
       " \n",
       "<mark class=\"entity\" style=\"background: #B8860B; padding: 0.45em 0.6em; margin: 0 0.25em; line-height: 1; border-radius: 0.35em;\">\n",
       "    05032827820154058312\n",
       "    <span style=\"font-size: 0.8em; font-weight: bold; line-height: 1; border-radius: 0.35em; vertical-align: middle; margin-left: 0.5rem\">JURISPRUDENCIA</span>\n",
       "</mark>\n",
       ", \n",
       "<mark class=\"entity\" style=\"background: #A52A2A; padding: 0.45em 0.6em; margin: 0 0.25em; line-height: 1; border-radius: 0.35em;\">\n",
       "    MARCOS ANTONIO GARAPA DE CARVALHO\n",
       "    <span style=\"font-size: 0.8em; font-weight: bold; line-height: 1; border-radius: 0.35em; vertical-align: middle; margin-left: 0.5rem\">PESSOA</span>\n",
       "</mark>\n",
       " - \n",
       "<mark class=\"entity\" style=\"background: #800080; padding: 0.45em 0.6em; margin: 0 0.25em; line-height: 1; border-radius: 0.35em;\">\n",
       "    Turma Regional de Uniformização de Jurisprudência da 5a. Região\n",
       "    <span style=\"font-size: 0.8em; font-weight: bold; line-height: 1; border-radius: 0.35em; vertical-align: middle; margin-left: 0.5rem\">ORGANIZACAO</span>\n",
       "</mark>\n",
       ", Creta - Data::\n",
       "<mark class=\"entity\" style=\"background: #808000; padding: 0.45em 0.6em; margin: 0 0.25em; line-height: 1; border-radius: 0.35em;\">\n",
       "    06\n",
       "    <span style=\"font-size: 0.8em; font-weight: bold; line-height: 1; border-radius: 0.35em; vertical-align: middle; margin-left: 0.5rem\">TEMPO</span>\n",
       "</mark>\n",
       "\n",
       "<mark class=\"entity\" style=\"background: #808000; padding: 0.45em 0.6em; margin: 0 0.25em; line-height: 1; border-radius: 0.35em;\">\n",
       "    /\n",
       "    <span style=\"font-size: 0.8em; font-weight: bold; line-height: 1; border-radius: 0.35em; vertical-align: middle; margin-left: 0.5rem\">TEMPO</span>\n",
       "</mark>\n",
       "\n",
       "<mark class=\"entity\" style=\"background: #808000; padding: 0.45em 0.6em; margin: 0 0.25em; line-height: 1; border-radius: 0.35em;\">\n",
       "    04\n",
       "    <span style=\"font-size: 0.8em; font-weight: bold; line-height: 1; border-radius: 0.35em; vertical-align: middle; margin-left: 0.5rem\">TEMPO</span>\n",
       "</mark>\n",
       "\n",
       "<mark class=\"entity\" style=\"background: #808000; padding: 0.45em 0.6em; margin: 0 0.25em; line-height: 1; border-radius: 0.35em;\">\n",
       "    /\n",
       "    <span style=\"font-size: 0.8em; font-weight: bold; line-height: 1; border-radius: 0.35em; vertical-align: middle; margin-left: 0.5rem\">TEMPO</span>\n",
       "</mark>\n",
       "\n",
       "<mark class=\"entity\" style=\"background: #808000; padding: 0.45em 0.6em; margin: 0 0.25em; line-height: 1; border-radius: 0.35em;\">\n",
       "    2017\n",
       "    <span style=\"font-size: 0.8em; font-weight: bold; line-height: 1; border-radius: 0.35em; vertical-align: middle; margin-left: 0.5rem\">TEMPO</span>\n",
       "</mark>\n",
       " - Página N/I.)<br><br>Recurso inominado da \n",
       "<mark class=\"entity\" style=\"background: #800080; padding: 0.45em 0.6em; margin: 0 0.25em; line-height: 1; border-radius: 0.35em;\">\n",
       "    Fazenda Nacional\n",
       "    <span style=\"font-size: 0.8em; font-weight: bold; line-height: 1; border-radius: 0.35em; vertical-align: middle; margin-left: 0.5rem\">ORGANIZACAO</span>\n",
       "</mark>\n",
       " improvido.<br><br>Condenação da \n",
       "<mark class=\"entity\" style=\"background: #800080; padding: 0.45em 0.6em; margin: 0 0.25em; line-height: 1; border-radius: 0.35em;\">\n",
       "    União\n",
       "    <span style=\"font-size: 0.8em; font-weight: bold; line-height: 1; border-radius: 0.35em; vertical-align: middle; margin-left: 0.5rem\">ORGANIZACAO</span>\n",
       "</mark>\n",
       " em honorários advocatícios, arbitrados em dez por cento sobre o valor condenação.<br><br> <br><br>ACÓRDÃO<br><br>Decide a \n",
       "<mark class=\"entity\" style=\"background: #800080; padding: 0.45em 0.6em; margin: 0 0.25em; line-height: 1; border-radius: 0.35em;\">\n",
       "    3ª Turma Recursal dos Juizados Especiais Federais de Pernambuco\n",
       "    <span style=\"font-size: 0.8em; font-weight: bold; line-height: 1; border-radius: 0.35em; vertical-align: middle; margin-left: 0.5rem\">ORGANIZACAO</span>\n",
       "</mark>\n",
       ", por maioria, vencido o Juiz Federal \n",
       "<mark class=\"entity\" style=\"background: #A52A2A; padding: 0.45em 0.6em; margin: 0 0.25em; line-height: 1; border-radius: 0.35em;\">\n",
       "    Isaac Batista de Carvalho Neto\n",
       "    <span style=\"font-size: 0.8em; font-weight: bold; line-height: 1; border-radius: 0.35em; vertical-align: middle; margin-left: 0.5rem\">PESSOA</span>\n",
       "</mark>\n",
       ", NEGAR PROVIMENTO AO RECURSO INOMINADO, nos termos da ementa supra.<br><br>Recife, data do julgamento.<br><br>\n",
       "<mark class=\"entity\" style=\"background: #A52A2A; padding: 0.45em 0.6em; margin: 0 0.25em; line-height: 1; border-radius: 0.35em;\">\n",
       "    Joaquim Lustosa Filho\n",
       "    <span style=\"font-size: 0.8em; font-weight: bold; line-height: 1; border-radius: 0.35em; vertical-align: middle; margin-left: 0.5rem\">PESSOA</span>\n",
       "</mark>\n",
       "</div></span>"
      ],
      "text/plain": [
       "<IPython.core.display.HTML object>"
      ]
     },
     "metadata": {},
     "output_type": "display_data"
    },
    {
     "name": "stdout",
     "output_type": "stream",
     "text": [
      "\n",
      "\n",
      "Chunk 4:\n"
     ]
    },
    {
     "data": {
      "text/html": [
       "<span class=\"tex2jax_ignore\"><div class=\"entities\" style=\"line-height: 2.5; direction: ltr\">Juiz Federal Relator</div></span>"
      ],
      "text/plain": [
       "<IPython.core.display.HTML object>"
      ]
     },
     "metadata": {},
     "output_type": "display_data"
    },
    {
     "name": "stdout",
     "output_type": "stream",
     "text": [
      "\n",
      "\n"
     ]
    }
   ],
   "source": [
    "for idx, chunk in enumerate(chunks):\n",
    "    print(f'Chunk {idx}:')\n",
    "    perform_inference_and_render_entities(pipeline_ner, chunk)\n",
    "    print('\\n')"
   ]
  },
  {
   "cell_type": "markdown",
   "metadata": {},
   "source": [
    "# Questions\n",
    "\n",
    "1. What is Named Entity Recognition (NER) and why is it important in NLP?\n",
    "\n",
    "2. What are some common challenges faced in NER?\n",
    "\n",
    "3. What is the IOB2 tagging scheme used for in NER?\n",
    "\n",
    "4. How does transfer learning benefit NER tasks?\n",
    "\n",
    "5. What is the LeNER-BR dataset, and what types of entities does it include?\n",
    "\n",
    "6. How does spaCy's approach to NER differ from HuggingFace Transformers?\n",
    "\n",
    "7. What is the purpose of domain adaptation in NLP?\n",
    "\n",
    "8. Describe the process of fine-tuning a pre-trained language model for NER.\n",
    "\n",
    "9. What are some strategies for handling large texts in Transformer models?\n",
    "\n",
    "10. Compare the performance metrics of spaCy and HuggingFace models on the LeNER-BR dataset.\n"
   ]
  },
  {
   "cell_type": "markdown",
   "metadata": {},
   "source": [
    "`Answers are commented inside this cell.`\n",
    "<!-- \n",
    "1. Named Entity Recognition (NER) is a task in Information Extraction that focuses on identifying and classifying specific entities within text, such as names, dates, and organizations. It transforms unstructured text into structured information, facilitating tasks like information retrieval, question answering, and content classification.\n",
    "\n",
    "2. Common challenges in NER include ambiguity, handling new or rare entities, nested entities, and domain specificity. These challenges make it difficult for models to accurately identify and classify entities across different contexts and domains.\n",
    "\n",
    "3. The IOB2 tagging scheme is used in NER for labeling tokens as part of entities. It includes tags like B (Beginning), I (Inside), and O (Outside) to indicate whether a token is at the beginning of an entity, inside an entity, or outside any entity.\n",
    "\n",
    "4. Transfer learning benefits NER tasks by allowing models to leverage knowledge from pre-trained language models, which have already learned linguistic patterns from large datasets. This reduces the amount of data and time needed to train models for specific NER tasks.\n",
    "\n",
    "5. The LeNER-BR dataset is a legal NER dataset comprising 70 annotated legal documents in Brazilian Portuguese. It includes entities such as ORGANIZACAO (organizations), PESSOA (persons), TEMPO (time expressions), LOCAL (locations), LEGISLACAO (legislation), and JURISPRUDENCIA (jurisprudence).\n",
    "\n",
    "6. SpaCy's approach to NER uses a combination of Convolutional Neural Networks (CNNs), Bidirectional Long Short-Term Memory networks (BiLSTMs), and transition-based models. HuggingFace Transformers, on the other hand, utilize transformer architectures like BERT and GPT-2, which rely on self-attention mechanisms and pre-trained embeddings.\n",
    "\n",
    "7. Domain adaptation in NLP involves fine-tuning a pre-trained language model on domain-specific data to improve its performance on tasks within that domain. This is particularly useful for specialized fields like legal or medical texts, where language usage may differ from general corpora.\n",
    "\n",
    "8. Fine-tuning a pre-trained language model for NER involves three steps: loading a pre-trained language model, fine-tuning it with domain-specific text, and training the NER model using the fine-tuned language model. This process allows the model to adapt to specific linguistic patterns and entity types in the target domain.\n",
    "\n",
    "9. Strategies for handling large texts in Transformer models include text pruning, chunking, the sliding window approach, and using transformers with larger input sizes like Longformer or BigBird. These strategies help manage the token limit constraint while preserving context and meaning.\n",
    "\n",
    "10. The performance metrics of spaCy and HuggingFace models on the LeNER-BR dataset can be compared by evaluating precision, recall, F1 score, and accuracy. Both models have their strengths and weaknesses, and their performance may vary depending on the specific task and dataset. -->\n",
    "\n"
   ]
  }
 ],
 "metadata": {
  "kernelspec": {
   "display_name": "class_applied_ml_tre",
   "language": "python",
   "name": "python3"
  },
  "language_info": {
   "codemirror_mode": {
    "name": "ipython",
    "version": 3
   },
   "file_extension": ".py",
   "mimetype": "text/x-python",
   "name": "python",
   "nbconvert_exporter": "python",
   "pygments_lexer": "ipython3",
   "version": "3.11.9"
  },
  "orig_nbformat": 4
 },
 "nbformat": 4,
 "nbformat_minor": 2
}
